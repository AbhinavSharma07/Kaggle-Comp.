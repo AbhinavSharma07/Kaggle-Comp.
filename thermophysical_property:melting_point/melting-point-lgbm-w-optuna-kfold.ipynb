{
 "cells": [
  {
   "cell_type": "markdown",
   "id": "fdc68718",
   "metadata": {
    "papermill": {
     "duration": 0.003158,
     "end_time": "2025-09-14T10:34:52.415309",
     "exception": false,
     "start_time": "2025-09-14T10:34:52.412151",
     "status": "completed"
    },
    "tags": []
   },
   "source": [
    "# **Melting Point LGBM w/Optuna+KFold**\n"
   ]
  },
  {
   "cell_type": "code",
   "execution_count": null,
   "id": "e8f6035d",
   "metadata": {
    "papermill": {
     "duration": 0.002153,
     "end_time": "2025-09-14T10:34:52.420297",
     "exception": false,
     "start_time": "2025-09-14T10:34:52.418144",
     "status": "completed"
    },
    "tags": []
   },
   "outputs": [],
   "source": []
  },
  {
   "cell_type": "code",
   "execution_count": 1,
   "id": "24ec074e",
   "metadata": {
    "execution": {
     "iopub.execute_input": "2025-09-14T10:34:52.426160Z",
     "iopub.status.busy": "2025-09-14T10:34:52.425866Z",
     "iopub.status.idle": "2025-09-14T10:34:59.392120Z",
     "shell.execute_reply": "2025-09-14T10:34:59.390936Z"
    },
    "papermill": {
     "duration": 6.971315,
     "end_time": "2025-09-14T10:34:59.393979",
     "exception": false,
     "start_time": "2025-09-14T10:34:52.422664",
     "status": "completed"
    },
    "tags": []
   },
   "outputs": [
    {
     "name": "stdout",
     "output_type": "stream",
     "text": [
      "Processing /kaggle/input/rdkit-2025-3-3-cp311/rdkit-2025-3-3-cp311/rdkit-2025.3.3-cp311-cp311-manylinux_2_28_x86_64.whl\r\n",
      "Requirement already satisfied: numpy in /usr/local/lib/python3.11/dist-packages (from rdkit==2025.3.3) (1.26.4)\r\n",
      "Requirement already satisfied: Pillow in /usr/local/lib/python3.11/dist-packages (from rdkit==2025.3.3) (11.2.1)\r\n",
      "Requirement already satisfied: mkl_fft in /usr/local/lib/python3.11/dist-packages (from numpy->rdkit==2025.3.3) (1.3.8)\r\n",
      "Requirement already satisfied: mkl_random in /usr/local/lib/python3.11/dist-packages (from numpy->rdkit==2025.3.3) (1.2.4)\r\n",
      "Requirement already satisfied: mkl_umath in /usr/local/lib/python3.11/dist-packages (from numpy->rdkit==2025.3.3) (0.1.1)\r\n",
      "Requirement already satisfied: mkl in /usr/local/lib/python3.11/dist-packages (from numpy->rdkit==2025.3.3) (2025.2.0)\r\n",
      "Requirement already satisfied: tbb4py in /usr/local/lib/python3.11/dist-packages (from numpy->rdkit==2025.3.3) (2022.2.0)\r\n",
      "Requirement already satisfied: mkl-service in /usr/local/lib/python3.11/dist-packages (from numpy->rdkit==2025.3.3) (2.4.1)\r\n",
      "Requirement already satisfied: intel-openmp<2026,>=2024 in /usr/local/lib/python3.11/dist-packages (from mkl->numpy->rdkit==2025.3.3) (2024.2.0)\r\n",
      "Requirement already satisfied: tbb==2022.* in /usr/local/lib/python3.11/dist-packages (from mkl->numpy->rdkit==2025.3.3) (2022.2.0)\r\n",
      "Requirement already satisfied: tcmlib==1.* in /usr/local/lib/python3.11/dist-packages (from tbb==2022.*->mkl->numpy->rdkit==2025.3.3) (1.4.0)\r\n",
      "Requirement already satisfied: intel-cmplr-lib-rt in /usr/local/lib/python3.11/dist-packages (from mkl_umath->numpy->rdkit==2025.3.3) (2024.2.0)\r\n",
      "Requirement already satisfied: intel-cmplr-lib-ur==2024.2.0 in /usr/local/lib/python3.11/dist-packages (from intel-openmp<2026,>=2024->mkl->numpy->rdkit==2025.3.3) (2024.2.0)\r\n",
      "Installing collected packages: rdkit\r\n",
      "Successfully installed rdkit-2025.3.3\r\n"
     ]
    }
   ],
   "source": [
    "!pip install /kaggle/input/rdkit-2025-3-3-cp311/rdkit-2025-3-3-cp311/rdkit-2025.3.3-cp311-cp311-manylinux_2_28_x86_64.whl"
   ]
  },
  {
   "cell_type": "code",
   "execution_count": 2,
   "id": "56e3386d",
   "metadata": {
    "execution": {
     "iopub.execute_input": "2025-09-14T10:34:59.401603Z",
     "iopub.status.busy": "2025-09-14T10:34:59.401204Z",
     "iopub.status.idle": "2025-09-14T10:35:09.231055Z",
     "shell.execute_reply": "2025-09-14T10:35:09.229304Z"
    },
    "papermill": {
     "duration": 9.835959,
     "end_time": "2025-09-14T10:35:09.232996",
     "exception": false,
     "start_time": "2025-09-14T10:34:59.397037",
     "status": "completed"
    },
    "tags": []
   },
   "outputs": [
    {
     "name": "stdout",
     "output_type": "stream",
     "text": [
      "Training data sample:\n",
      "     id                       SMILES      Tm  Group 1  Group 2  Group 3  \\\n",
      "0  2175        FC1=C(F)C(F)(F)C1(F)F  213.15        0        0        0   \n",
      "1  1222  c1ccc2c(c1)ccc3Nc4ccccc4c23  407.15        0        0        0   \n",
      "2  2994          CCN1C(C)=Nc2ccccc12  324.15        2        1        0   \n",
      "\n",
      "   Group 4  Group 5  Group 6  Group 7  ...  Group 415  Group 416  Group 417  \\\n",
      "0        0        0        0        0  ...          0          0          0   \n",
      "1        0        0        0        0  ...          0          0          0   \n",
      "2        0        0        0        0  ...          0          0          0   \n",
      "\n",
      "   Group 418  Group 419  Group 420  Group 421  Group 422  Group 423  Group 424  \n",
      "0          0          0          0          0          0          0          0  \n",
      "1          0          0          0          0          0          0          0  \n",
      "2          0          0          0          0          0          0          0  \n",
      "\n",
      "[3 rows x 427 columns]\n",
      "Training data shape: (2662, 427)\n",
      "Columns: ['id', 'SMILES', 'Tm', 'Group 1', 'Group 2', 'Group 3', 'Group 4', 'Group 5', 'Group 6', 'Group 7', 'Group 8', 'Group 9', 'Group 10', 'Group 11', 'Group 12', 'Group 13', 'Group 14', 'Group 15', 'Group 16', 'Group 17', 'Group 18', 'Group 19', 'Group 20', 'Group 21', 'Group 22', 'Group 23', 'Group 24', 'Group 25', 'Group 26', 'Group 27', 'Group 28', 'Group 29', 'Group 30', 'Group 31', 'Group 32', 'Group 33', 'Group 34', 'Group 35', 'Group 36', 'Group 37', 'Group 38', 'Group 39', 'Group 40', 'Group 41', 'Group 42', 'Group 43', 'Group 44', 'Group 45', 'Group 46', 'Group 47', 'Group 48', 'Group 49', 'Group 50', 'Group 51', 'Group 52', 'Group 53', 'Group 54', 'Group 55', 'Group 56', 'Group 57', 'Group 58', 'Group 59', 'Group 60', 'Group 61', 'Group 62', 'Group 63', 'Group 64', 'Group 65', 'Group 66', 'Group 67', 'Group 68', 'Group 69', 'Group 70', 'Group 71', 'Group 72', 'Group 73', 'Group 74', 'Group 75', 'Group 76', 'Group 77', 'Group 78', 'Group 79', 'Group 80', 'Group 81', 'Group 82', 'Group 83', 'Group 84', 'Group 85', 'Group 86', 'Group 87', 'Group 88', 'Group 89', 'Group 90', 'Group 91', 'Group 92', 'Group 93', 'Group 94', 'Group 95', 'Group 96', 'Group 97', 'Group 98', 'Group 99', 'Group 100', 'Group 101', 'Group 102', 'Group 103', 'Group 104', 'Group 105', 'Group 106', 'Group 107', 'Group 108', 'Group 109', 'Group 110', 'Group 111', 'Group 112', 'Group 113', 'Group 114', 'Group 115', 'Group 116', 'Group 117', 'Group 118', 'Group 119', 'Group 120', 'Group 121', 'Group 122', 'Group 123', 'Group 124', 'Group 125', 'Group 126', 'Group 127', 'Group 128', 'Group 129', 'Group 130', 'Group 131', 'Group 132', 'Group 133', 'Group 134', 'Group 135', 'Group 136', 'Group 137', 'Group 138', 'Group 139', 'Group 140', 'Group 141', 'Group 142', 'Group 143', 'Group 144', 'Group 145', 'Group 146', 'Group 147', 'Group 148', 'Group 149', 'Group 150', 'Group 151', 'Group 152', 'Group 153', 'Group 154', 'Group 155', 'Group 156', 'Group 157', 'Group 158', 'Group 159', 'Group 160', 'Group 161', 'Group 162', 'Group 163', 'Group 164', 'Group 165', 'Group 166', 'Group 167', 'Group 168', 'Group 169', 'Group 170', 'Group 171', 'Group 172', 'Group 173', 'Group 174', 'Group 175', 'Group 176', 'Group 177', 'Group 178', 'Group 179', 'Group 180', 'Group 181', 'Group 182', 'Group 183', 'Group 184', 'Group 185', 'Group 186', 'Group 187', 'Group 188', 'Group 189', 'Group 190', 'Group 191', 'Group 192', 'Group 193', 'Group 194', 'Group 195', 'Group 196', 'Group 197', 'Group 198', 'Group 199', 'Group 200', 'Group 201', 'Group 202', 'Group 203', 'Group 204', 'Group 205', 'Group 206', 'Group 207', 'Group 208', 'Group 209', 'Group 210', 'Group 211', 'Group 212', 'Group 213', 'Group 214', 'Group 215', 'Group 216', 'Group 217', 'Group 218', 'Group 219', 'Group 220', 'Group 221', 'Group 222', 'Group 223', 'Group 224', 'Group 225', 'Group 226', 'Group 227', 'Group 228', 'Group 229', 'Group 230', 'Group 231', 'Group 232', 'Group 233', 'Group 234', 'Group 235', 'Group 236', 'Group 237', 'Group 238', 'Group 239', 'Group 240', 'Group 241', 'Group 242', 'Group 243', 'Group 244', 'Group 245', 'Group 246', 'Group 247', 'Group 248', 'Group 249', 'Group 250', 'Group 251', 'Group 252', 'Group 253', 'Group 254', 'Group 255', 'Group 256', 'Group 257', 'Group 258', 'Group 259', 'Group 260', 'Group 261', 'Group 262', 'Group 263', 'Group 264', 'Group 265', 'Group 266', 'Group 267', 'Group 268', 'Group 269', 'Group 270', 'Group 271', 'Group 272', 'Group 273', 'Group 274', 'Group 275', 'Group 276', 'Group 277', 'Group 278', 'Group 279', 'Group 280', 'Group 281', 'Group 282', 'Group 283', 'Group 284', 'Group 285', 'Group 286', 'Group 287', 'Group 288', 'Group 289', 'Group 290', 'Group 291', 'Group 292', 'Group 293', 'Group 294', 'Group 295', 'Group 296', 'Group 297', 'Group 298', 'Group 299', 'Group 300', 'Group 301', 'Group 302', 'Group 303', 'Group 304', 'Group 305', 'Group 306', 'Group 307', 'Group 308', 'Group 309', 'Group 310', 'Group 311', 'Group 312', 'Group 313', 'Group 314', 'Group 315', 'Group 316', 'Group 317', 'Group 318', 'Group 319', 'Group 320', 'Group 321', 'Group 322', 'Group 323', 'Group 324', 'Group 325', 'Group 326', 'Group 327', 'Group 328', 'Group 329', 'Group 330', 'Group 331', 'Group 332', 'Group 333', 'Group 334', 'Group 335', 'Group 336', 'Group 337', 'Group 338', 'Group 339', 'Group 340', 'Group 341', 'Group 342', 'Group 343', 'Group 344', 'Group 345', 'Group 346', 'Group 347', 'Group 348', 'Group 349', 'Group 350', 'Group 351', 'Group 352', 'Group 353', 'Group 354', 'Group 355', 'Group 356', 'Group 357', 'Group 358', 'Group 359', 'Group 360', 'Group 361', 'Group 362', 'Group 363', 'Group 364', 'Group 365', 'Group 366', 'Group 367', 'Group 368', 'Group 369', 'Group 370', 'Group 371', 'Group 372', 'Group 373', 'Group 374', 'Group 375', 'Group 376', 'Group 377', 'Group 378', 'Group 379', 'Group 380', 'Group 381', 'Group 382', 'Group 383', 'Group 384', 'Group 385', 'Group 386', 'Group 387', 'Group 388', 'Group 389', 'Group 390', 'Group 391', 'Group 392', 'Group 393', 'Group 394', 'Group 395', 'Group 396', 'Group 397', 'Group 398', 'Group 399', 'Group 400', 'Group 401', 'Group 402', 'Group 403', 'Group 404', 'Group 405', 'Group 406', 'Group 407', 'Group 408', 'Group 409', 'Group 410', 'Group 411', 'Group 412', 'Group 413', 'Group 414', 'Group 415', 'Group 416', 'Group 417', 'Group 418', 'Group 419', 'Group 420', 'Group 421', 'Group 422', 'Group 423', 'Group 424']\n",
      "Target variable: Tm\n",
      "Target statistics:\n",
      "count    2662.000000\n",
      "mean      278.263452\n",
      "std        85.117914\n",
      "min        53.540000\n",
      "25%       217.000000\n",
      "50%       277.300000\n",
      "75%       325.150000\n",
      "max       897.150000\n",
      "Name: Tm, dtype: float64\n"
     ]
    }
   ],
   "source": [
    "import os\n",
    "import math\n",
    "import random\n",
    "import numpy as np\n",
    "import pandas as pd\n",
    "import matplotlib.pyplot as plt\n",
    "import seaborn as sns\n",
    "from contextlib import contextmanager\n",
    "from time import time\n",
    "from tqdm import tqdm\n",
    "import optuna\n",
    "from sklearn.metrics import mean_squared_error\n",
    "from sklearn.model_selection import KFold, train_test_split\n",
    "from sklearn.preprocessing import StandardScaler, LabelEncoder\n",
    "import lightgbm as lgb\n",
    "import yaml\n",
    "from rdkit import Chem\n",
    "from rdkit.Chem import Descriptors, rdMolDescriptors\n",
    "import warnings\n",
    "warnings.filterwarnings('ignore')\n",
    "\n",
    "# --- Data Loading ---\n",
    "train0 = pd.read_csv(\"/kaggle/input/melting-point/train.csv\")\n",
    "print(\"Training data sample:\")\n",
    "print(train0.head(3))\n",
    "print(\"Training data shape:\", train0.shape)\n",
    "print(\"Columns:\", train0.columns.tolist())\n",
    "\n",
    "# Load test data and submission file\n",
    "test0 = pd.read_csv(\"/kaggle/input/melting-point/test.csv\")\n",
    "submit = pd.read_csv('/kaggle/input/melting-point/sample_submission.csv')\n",
    "\n",
    "# Check the target variable\n",
    "target = 'Tm'  # melting point for regression task\n",
    "print(f\"Target variable: {target}\")\n",
    "print(f\"Target statistics:\\n{train0[target].describe()}\")"
   ]
  },
  {
   "cell_type": "code",
   "execution_count": 3,
   "id": "96762069",
   "metadata": {
    "execution": {
     "iopub.execute_input": "2025-09-14T10:35:09.242975Z",
     "iopub.status.busy": "2025-09-14T10:35:09.242643Z",
     "iopub.status.idle": "2025-09-14T10:35:09.251994Z",
     "shell.execute_reply": "2025-09-14T10:35:09.250939Z"
    },
    "papermill": {
     "duration": 0.015234,
     "end_time": "2025-09-14T10:35:09.253604",
     "exception": false,
     "start_time": "2025-09-14T10:35:09.238370",
     "status": "completed"
    },
    "tags": []
   },
   "outputs": [],
   "source": [
    "from rdkit import Chem\n",
    "from rdkit.Chem import Descriptors, rdMolDescriptors\n",
    "import pandas as pd\n",
    "from tqdm import tqdm\n",
    "\n",
    "# --- SMILES Feature Engineering (all descriptors) ---\n",
    "def calculate_molecular_descriptors(smiles_series):\n",
    "    \"\"\"Calculate all RDKit molecular descriptors from SMILES strings.\"\"\"\n",
    "    \n",
    "    # Collect all descriptor functions dynamically\n",
    "    descriptor_funcs = [(name, func) for name, func in Descriptors.descList]\n",
    "    \n",
    "    descriptors = []\n",
    "    \n",
    "    for smiles in tqdm(smiles_series, desc=\"Processing SMILES\"):\n",
    "        if pd.isna(smiles):\n",
    "            # Fill zeros if invalid SMILES\n",
    "            descriptors.append([0] * (len(descriptor_funcs) + 3))  # +3 for extra SMILES features\n",
    "            continue\n",
    "        \n",
    "        try:\n",
    "            mol = Chem.MolFromSmiles(smiles)\n",
    "            if mol is None:\n",
    "                descriptors.append([0] * (len(descriptor_funcs) + 3))\n",
    "                continue\n",
    "            \n",
    "            # Calculate all RDKit descriptors\n",
    "            desc_values = [func(mol) for _, func in descriptor_funcs]\n",
    "            \n",
    "            # Add a few extra features\n",
    "            desc_values += [\n",
    "                len(smiles),       # SMILES length\n",
    "                smiles.count('C'), # Carbon count\n",
    "                smiles.count('N')  # Nitrogen count\n",
    "            ]\n",
    "            \n",
    "            descriptors.append(desc_values)\n",
    "            \n",
    "        except Exception as e:\n",
    "            print(f\"Error processing SMILES {smiles}: {e}\")\n",
    "            descriptors.append([0] * (len(descriptor_funcs) + 3))\n",
    "    \n",
    "    # Create column names\n",
    "    descriptor_names = [name for name, _ in descriptor_funcs]\n",
    "    descriptor_names += ['smiles_length', 'carbon_count', 'nitrogen_count']\n",
    "    \n",
    "    return pd.DataFrame(descriptors, columns=descriptor_names)"
   ]
  },
  {
   "cell_type": "markdown",
   "id": "290d5aae",
   "metadata": {
    "papermill": {
     "duration": 0.003099,
     "end_time": "2025-09-14T10:35:09.259789",
     "exception": false,
     "start_time": "2025-09-14T10:35:09.256690",
     "status": "completed"
    },
    "tags": []
   },
   "source": [
    "    # --- SMILES Feature Engineering ---\n",
    "    def calculate_molecular_descriptors(smiles_series):\n",
    "        \"\"\"Calculate molecular descriptors from SMILES strings.\"\"\"\n",
    "        descriptors = []\n",
    "        \n",
    "        for smiles in tqdm(smiles_series, desc=\"Processing SMILES\"):\n",
    "            if pd.isna(smiles):\n",
    "                # Fill with zeros for invalid SMILES\n",
    "                descriptors.append([0] * 15)\n",
    "                continue\n",
    "                \n",
    "            try:\n",
    "                mol = Chem.MolFromSmiles(smiles)\n",
    "                if mol is None:\n",
    "                    descriptors.append([0] * 15)\n",
    "                    continue\n",
    "                    \n",
    "                # Calculate various molecular descriptors\n",
    "                desc_values = [\n",
    "                    Descriptors.MolWt(mol),                    # Molecular weight\n",
    "                    Descriptors.MolLogP(mol),                  # LogP (lipophilicity)\n",
    "                    Descriptors.NumHDonors(mol),               # Hydrogen bond donors\n",
    "                    Descriptors.NumHAcceptors(mol),            # Hydrogen bond acceptors\n",
    "                    Descriptors.TPSA(mol),                     # Topological polar surface area\n",
    "                    Descriptors.NumRotatableBonds(mol),        # Rotatable bonds\n",
    "                    Descriptors.NumAromaticRings(mol),         # Aromatic rings\n",
    "                    Descriptors.NumSaturatedRings(mol),        # Saturated rings\n",
    "                    Descriptors.NumHeteroatoms(mol),           # Heteroatoms\n",
    "                    Descriptors.RingCount(mol),                # Ring count\n",
    "                    Descriptors.FractionCsp3(mol),             # Fraction of sp3 carbons\n",
    "                    rdMolDescriptors.BertzCT(mol),             # Bertz complexity index\n",
    "                    len(smiles),                               # SMILES length\n",
    "                    smiles.count('C'),                         # Carbon count in SMILES\n",
    "                    smiles.count('N')                          # Nitrogen count in SMILES\n",
    "                ]\n",
    "                descriptors.append(desc_values)\n",
    "                \n",
    "            except Exception as e:\n",
    "                print(f\"Error processing SMILES {smiles}: {e}\")\n",
    "                descriptors.append([0] * 15)\n",
    "        \n",
    "        # Create DataFrame with descriptors\n",
    "        descriptor_names = [\n",
    "            'mol_weight', 'logp', 'h_donors', 'h_acceptors', 'tpsa',\n",
    "            'rotatable_bonds', 'aromatic_rings', 'saturated_rings', 'heteroatoms',\n",
    "            'ring_count', 'fraction_csp3', 'bertz_ct', 'smiles_length',\n",
    "            'carbon_count', 'nitrogen_count'\n",
    "        ]\n",
    "        \n",
    "        return pd.DataFrame(descriptors, columns=descriptor_names)"
   ]
  },
  {
   "cell_type": "code",
   "execution_count": 4,
   "id": "767b7e0f",
   "metadata": {
    "execution": {
     "iopub.execute_input": "2025-09-14T10:35:09.267423Z",
     "iopub.status.busy": "2025-09-14T10:35:09.267077Z",
     "iopub.status.idle": "2025-09-14T10:35:28.931399Z",
     "shell.execute_reply": "2025-09-14T10:35:28.930126Z"
    },
    "papermill": {
     "duration": 19.670453,
     "end_time": "2025-09-14T10:35:28.933135",
     "exception": false,
     "start_time": "2025-09-14T10:35:09.262682",
     "status": "completed"
    },
    "tags": []
   },
   "outputs": [
    {
     "name": "stdout",
     "output_type": "stream",
     "text": [
      "SMILES column found: SMILES\n",
      "Calculating molecular descriptors from SMILES...\n"
     ]
    },
    {
     "name": "stderr",
     "output_type": "stream",
     "text": [
      "Processing SMILES: 100%|██████████| 3328/3328 [00:19<00:00, 173.01it/s]\n"
     ]
    },
    {
     "name": "stdout",
     "output_type": "stream",
     "text": [
      "Number of features: 645\n"
     ]
    }
   ],
   "source": [
    "# --- Data Preprocessing ---\n",
    "def labelencoder(df):\n",
    "    \"\"\"Encodes object columns using LabelEncoder, excluding SMILES.\"\"\"\n",
    "    df_encoded = df.copy()\n",
    "    for c in df_encoded.columns:\n",
    "        if df_encoded[c].dtype == 'object' and c != 'SMILES':\n",
    "            df_encoded[c] = df_encoded[c].fillna('N')\n",
    "            lbl = LabelEncoder()\n",
    "            df_encoded[c] = lbl.transform(df_encoded[c].astype(str))\n",
    "    return df_encoded\n",
    "\n",
    "# Combine train and test for consistent encoding\n",
    "data0 = pd.concat([train0, test0], axis=0, ignore_index=True)\n",
    "\n",
    "# Extract SMILES column if it exists\n",
    "smiles_column = None\n",
    "for col in data0.columns:\n",
    "    if 'smiles' in col.lower() or 'SMILES' in col:\n",
    "        smiles_column = col\n",
    "        break\n",
    "\n",
    "print(f\"SMILES column found: {smiles_column}\")\n",
    "\n",
    "# Process molecular descriptors if SMILES column exists\n",
    "if smiles_column:\n",
    "    print(\"Calculating molecular descriptors from SMILES...\")\n",
    "    molecular_features = calculate_molecular_descriptors(data0[smiles_column])\n",
    "    \n",
    "    # Remove SMILES column and add molecular descriptors\n",
    "    data_processed = data0.drop(columns=[smiles_column])\n",
    "    data_processed = pd.concat([data_processed, molecular_features], axis=1)\n",
    "else:\n",
    "    data_processed = data0.copy()\n",
    "    print(\"No SMILES column found, proceeding without molecular descriptors\")\n",
    "\n",
    "# Encode categorical variables\n",
    "data_encoded = labelencoder(data_processed)\n",
    "\n",
    "# Split back into train and test\n",
    "train_len = len(train0)\n",
    "train = data_encoded.iloc[:train_len].copy()\n",
    "test = data_encoded.iloc[train_len:].copy()\n",
    "\n",
    "# Prepare features and target\n",
    "if target in train.columns:\n",
    "    trainY = train[target]\n",
    "    trainX = train.drop(columns=[target])\n",
    "else:\n",
    "    print(f\"Target column '{target}' not found in training data\")\n",
    "    print(f\"Available columns: {train.columns.tolist()}\")\n",
    "\n",
    "testX = test.drop(columns=[target] if target in test.columns else [])\n",
    "\n",
    "# Get feature columns (excluding target)\n",
    "feature_columns = [col for col in trainX.columns if col != target]\n",
    "print(f\"Number of features: {len(feature_columns)}\")\n",
    "\n",
    "# --- Timer Class ---\n",
    "class Timer:\n",
    "    \"\"\"A timer class for measuring execution time.\"\"\"\n",
    "    def __init__(self, logger=None, format_str='{:.3f}[s]', prefix=None, suffix=None, sep=' '):\n",
    "        if prefix: format_str = str(prefix) + sep + format_str\n",
    "        if suffix: format_str = format_str + sep + str(suffix)\n",
    "        self.format_str = format_str\n",
    "        self.logger = logger\n",
    "        self.start = None\n",
    "        self.end = None\n",
    "\n",
    "    @property\n",
    "    def duration(self):\n",
    "        if self.end is None:\n",
    "            return 0\n",
    "        return self.end - self.start\n",
    "\n",
    "    def __enter__(self):\n",
    "        self.start = time()\n",
    "\n",
    "    def __exit__(self, exc_type, exc_val, exc_tb):\n",
    "        self.end = time()\n",
    "        out_str = self.format_str.format(self.duration)\n",
    "        if self.logger:\n",
    "            self.logger.info(out_str)\n",
    "        else:\n",
    "            print(out_str)"
   ]
  },
  {
   "cell_type": "code",
   "execution_count": 5,
   "id": "888603d4",
   "metadata": {
    "execution": {
     "iopub.execute_input": "2025-09-14T10:35:28.959614Z",
     "iopub.status.busy": "2025-09-14T10:35:28.959226Z",
     "iopub.status.idle": "2025-09-14T12:05:19.231454Z",
     "shell.execute_reply": "2025-09-14T12:05:19.230486Z"
    },
    "papermill": {
     "duration": 5390.288323,
     "end_time": "2025-09-14T12:05:19.233822",
     "exception": false,
     "start_time": "2025-09-14T10:35:28.945499",
     "status": "completed"
    },
    "tags": []
   },
   "outputs": [
    {
     "name": "stderr",
     "output_type": "stream",
     "text": [
      "[I 2025-09-14 10:35:28,975] A new study created in memory with name: no-name-ab345bbb-4a25-4ffa-bdc6-e7b16d6e4ab8\n"
     ]
    },
    {
     "name": "stdout",
     "output_type": "stream",
     "text": [
      "Starting hyperparameter optimization...\n",
      "Training until validation scores don't improve for 100 rounds\n",
      "Early stopping, best iteration is:\n",
      "[546]\tvalid_0's rmse: 44.3546\n",
      "Training until validation scores don't improve for 100 rounds\n",
      "Early stopping, best iteration is:\n",
      "[268]\tvalid_0's rmse: 42.3379\n",
      "Training until validation scores don't improve for 100 rounds\n",
      "Early stopping, best iteration is:\n",
      "[126]\tvalid_0's rmse: 44.4534\n",
      "Training until validation scores don't improve for 100 rounds\n",
      "Early stopping, best iteration is:\n",
      "[544]\tvalid_0's rmse: 41.2285\n",
      "Training until validation scores don't improve for 100 rounds\n"
     ]
    },
    {
     "name": "stderr",
     "output_type": "stream",
     "text": [
      "[I 2025-09-14 10:35:35,624] Trial 0 finished with value: 43.6962360523772 and parameters: {'lambda_l1': 0.0002618212972750145, 'lambda_l2': 5.016712904936765, 'num_leaves': 218, 'feature_fraction': 0.4957636373814154, 'bagging_fraction': 0.7509064213447953, 'bagging_freq': 7, 'min_child_samples': 41, 'learning_rate': 0.09592417975514976, 'max_depth': 9}. Best is trial 0 with value: 43.6962360523772.\n"
     ]
    },
    {
     "name": "stdout",
     "output_type": "stream",
     "text": [
      "Early stopping, best iteration is:\n",
      "[186]\tvalid_0's rmse: 46.1067\n",
      "Training until validation scores don't improve for 100 rounds\n",
      "Early stopping, best iteration is:\n",
      "[101]\tvalid_0's rmse: 46.8626\n",
      "Training until validation scores don't improve for 100 rounds\n",
      "Early stopping, best iteration is:\n",
      "[208]\tvalid_0's rmse: 44.5115\n",
      "Training until validation scores don't improve for 100 rounds\n",
      "Early stopping, best iteration is:\n",
      "[78]\tvalid_0's rmse: 47.2919\n",
      "Training until validation scores don't improve for 100 rounds\n",
      "Early stopping, best iteration is:\n",
      "[90]\tvalid_0's rmse: 44.0081\n",
      "Training until validation scores don't improve for 100 rounds\n"
     ]
    },
    {
     "name": "stderr",
     "output_type": "stream",
     "text": [
      "[I 2025-09-14 10:35:38,369] Trial 1 finished with value: 46.23145537159711 and parameters: {'lambda_l1': 7.855422939052649e-08, 'lambda_l2': 6.0152653131547126e-05, 'num_leaves': 117, 'feature_fraction': 0.46779254349386057, 'bagging_fraction': 0.7017181497179634, 'bagging_freq': 1, 'min_child_samples': 58, 'learning_rate': 0.2965713132215326, 'max_depth': 8}. Best is trial 0 with value: 43.6962360523772.\n"
     ]
    },
    {
     "name": "stdout",
     "output_type": "stream",
     "text": [
      "Early stopping, best iteration is:\n",
      "[131]\tvalid_0's rmse: 48.4832\n",
      "Training until validation scores don't improve for 100 rounds\n",
      "Early stopping, best iteration is:\n",
      "[699]\tvalid_0's rmse: 45.1552\n",
      "Training until validation scores don't improve for 100 rounds\n",
      "Early stopping, best iteration is:\n",
      "[711]\tvalid_0's rmse: 43.1082\n",
      "Training until validation scores don't improve for 100 rounds\n",
      "Early stopping, best iteration is:\n",
      "[254]\tvalid_0's rmse: 45.4374\n",
      "Training until validation scores don't improve for 100 rounds\n",
      "Early stopping, best iteration is:\n",
      "[721]\tvalid_0's rmse: 42.1424\n",
      "Training until validation scores don't improve for 100 rounds\n"
     ]
    },
    {
     "name": "stderr",
     "output_type": "stream",
     "text": [
      "[I 2025-09-14 10:35:44,249] Trial 2 finished with value: 44.39423741970328 and parameters: {'lambda_l1': 1.0370082887946315, 'lambda_l2': 4.860153723752757e-08, 'num_leaves': 258, 'feature_fraction': 0.4720772514611331, 'bagging_fraction': 0.43737425788357914, 'bagging_freq': 1, 'min_child_samples': 28, 'learning_rate': 0.08804875993851849, 'max_depth': 3}. Best is trial 0 with value: 43.6962360523772.\n"
     ]
    },
    {
     "name": "stdout",
     "output_type": "stream",
     "text": [
      "Early stopping, best iteration is:\n",
      "[477]\tvalid_0's rmse: 46.128\n",
      "Training until validation scores don't improve for 100 rounds\n",
      "Early stopping, best iteration is:\n",
      "[145]\tvalid_0's rmse: 45.6425\n",
      "Training until validation scores don't improve for 100 rounds\n",
      "Early stopping, best iteration is:\n",
      "[234]\tvalid_0's rmse: 42.6564\n",
      "Training until validation scores don't improve for 100 rounds\n",
      "Early stopping, best iteration is:\n",
      "[92]\tvalid_0's rmse: 45.5098\n",
      "Training until validation scores don't improve for 100 rounds\n",
      "Early stopping, best iteration is:\n",
      "[236]\tvalid_0's rmse: 42.9634\n",
      "Training until validation scores don't improve for 100 rounds\n"
     ]
    },
    {
     "name": "stderr",
     "output_type": "stream",
     "text": [
      "[I 2025-09-14 10:35:47,722] Trial 3 finished with value: 44.94130168878073 and parameters: {'lambda_l1': 1.809365697168505, 'lambda_l2': 3.757637796953694e-07, 'num_leaves': 143, 'feature_fraction': 0.836296700486448, 'bagging_fraction': 0.6902499466517962, 'bagging_freq': 7, 'min_child_samples': 64, 'learning_rate': 0.22842355875253148, 'max_depth': 6}. Best is trial 0 with value: 43.6962360523772.\n"
     ]
    },
    {
     "name": "stdout",
     "output_type": "stream",
     "text": [
      "Early stopping, best iteration is:\n",
      "[221]\tvalid_0's rmse: 47.9344\n",
      "Training until validation scores don't improve for 100 rounds\n",
      "Early stopping, best iteration is:\n",
      "[355]\tvalid_0's rmse: 45.7154\n",
      "Training until validation scores don't improve for 100 rounds\n",
      "Early stopping, best iteration is:\n",
      "[360]\tvalid_0's rmse: 45.628\n",
      "Training until validation scores don't improve for 100 rounds\n",
      "Early stopping, best iteration is:\n",
      "[375]\tvalid_0's rmse: 45.2186\n",
      "Training until validation scores don't improve for 100 rounds\n",
      "Early stopping, best iteration is:\n",
      "[418]\tvalid_0's rmse: 44.0699\n",
      "Training until validation scores don't improve for 100 rounds\n"
     ]
    },
    {
     "name": "stderr",
     "output_type": "stream",
     "text": [
      "[I 2025-09-14 10:35:50,619] Trial 4 finished with value: 45.83385895618478 and parameters: {'lambda_l1': 2.7851081769536366e-08, 'lambda_l2': 0.029408448890813337, 'num_leaves': 161, 'feature_fraction': 0.7679076349509992, 'bagging_fraction': 0.4958793392755078, 'bagging_freq': 4, 'min_child_samples': 88, 'learning_rate': 0.1409687799976187, 'max_depth': 3}. Best is trial 0 with value: 43.6962360523772.\n"
     ]
    },
    {
     "name": "stdout",
     "output_type": "stream",
     "text": [
      "Early stopping, best iteration is:\n",
      "[556]\tvalid_0's rmse: 48.5374\n",
      "Training until validation scores don't improve for 100 rounds\n",
      "Early stopping, best iteration is:\n",
      "[215]\tvalid_0's rmse: 45.6726\n",
      "Training until validation scores don't improve for 100 rounds\n",
      "Early stopping, best iteration is:\n",
      "[360]\tvalid_0's rmse: 42.6833\n",
      "Training until validation scores don't improve for 100 rounds\n",
      "Early stopping, best iteration is:\n",
      "[120]\tvalid_0's rmse: 44.9108\n",
      "Training until validation scores don't improve for 100 rounds\n",
      "Early stopping, best iteration is:\n",
      "[574]\tvalid_0's rmse: 44.599\n",
      "Training until validation scores don't improve for 100 rounds\n"
     ]
    },
    {
     "name": "stderr",
     "output_type": "stream",
     "text": [
      "[I 2025-09-14 10:35:54,531] Trial 5 finished with value: 45.349754386620646 and parameters: {'lambda_l1': 2.8885644545579692e-05, 'lambda_l2': 8.74798857961453e-06, 'num_leaves': 84, 'feature_fraction': 0.5028020920533097, 'bagging_fraction': 0.5300132219543799, 'bagging_freq': 1, 'min_child_samples': 61, 'learning_rate': 0.18878953388712993, 'max_depth': 7}. Best is trial 0 with value: 43.6962360523772.\n"
     ]
    },
    {
     "name": "stdout",
     "output_type": "stream",
     "text": [
      "Early stopping, best iteration is:\n",
      "[121]\tvalid_0's rmse: 48.8831\n",
      "Training until validation scores don't improve for 100 rounds\n",
      "Early stopping, best iteration is:\n",
      "[218]\tvalid_0's rmse: 48.4949\n",
      "Training until validation scores don't improve for 100 rounds\n",
      "Early stopping, best iteration is:\n",
      "[71]\tvalid_0's rmse: 44.5955\n",
      "Training until validation scores don't improve for 100 rounds\n",
      "Early stopping, best iteration is:\n",
      "[88]\tvalid_0's rmse: 45.223\n",
      "Training until validation scores don't improve for 100 rounds\n",
      "Early stopping, best iteration is:\n",
      "[104]\tvalid_0's rmse: 45.3148\n",
      "Training until validation scores don't improve for 100 rounds\n"
     ]
    },
    {
     "name": "stderr",
     "output_type": "stream",
     "text": [
      "[I 2025-09-14 10:35:57,676] Trial 6 finished with value: 46.78187119061819 and parameters: {'lambda_l1': 0.01333783382017611, 'lambda_l2': 3.308365735280553e-06, 'num_leaves': 283, 'feature_fraction': 0.6406920688987808, 'bagging_fraction': 0.45676405375720963, 'bagging_freq': 5, 'min_child_samples': 43, 'learning_rate': 0.27828824250101425, 'max_depth': 10}. Best is trial 0 with value: 43.6962360523772.\n"
     ]
    },
    {
     "name": "stdout",
     "output_type": "stream",
     "text": [
      "Early stopping, best iteration is:\n",
      "[74]\tvalid_0's rmse: 50.281\n",
      "Training until validation scores don't improve for 100 rounds\n",
      "Early stopping, best iteration is:\n",
      "[218]\tvalid_0's rmse: 44.3751\n",
      "Training until validation scores don't improve for 100 rounds\n",
      "Early stopping, best iteration is:\n",
      "[804]\tvalid_0's rmse: 42.111\n",
      "Training until validation scores don't improve for 100 rounds\n",
      "Early stopping, best iteration is:\n",
      "[156]\tvalid_0's rmse: 45.0891\n",
      "Training until validation scores don't improve for 100 rounds\n",
      "Early stopping, best iteration is:\n",
      "[757]\tvalid_0's rmse: 41.6524\n",
      "Training until validation scores don't improve for 100 rounds\n"
     ]
    },
    {
     "name": "stderr",
     "output_type": "stream",
     "text": [
      "[I 2025-09-14 10:36:05,468] Trial 7 finished with value: 43.665179614801815 and parameters: {'lambda_l1': 0.00040326058844869495, 'lambda_l2': 7.642622601367523e-07, 'num_leaves': 218, 'feature_fraction': 0.673293252130542, 'bagging_fraction': 0.9193450078684523, 'bagging_freq': 2, 'min_child_samples': 48, 'learning_rate': 0.09461857425139025, 'max_depth': 6}. Best is trial 7 with value: 43.665179614801815.\n"
     ]
    },
    {
     "name": "stdout",
     "output_type": "stream",
     "text": [
      "Early stopping, best iteration is:\n",
      "[582]\tvalid_0's rmse: 45.0983\n",
      "Training until validation scores don't improve for 100 rounds\n",
      "Early stopping, best iteration is:\n",
      "[167]\tvalid_0's rmse: 45.9804\n",
      "Training until validation scores don't improve for 100 rounds\n",
      "Early stopping, best iteration is:\n",
      "[416]\tvalid_0's rmse: 43.5874\n",
      "Training until validation scores don't improve for 100 rounds\n",
      "Early stopping, best iteration is:\n",
      "[172]\tvalid_0's rmse: 44.5505\n",
      "Training until validation scores don't improve for 100 rounds\n",
      "Early stopping, best iteration is:\n",
      "[122]\tvalid_0's rmse: 44.574\n",
      "Training until validation scores don't improve for 100 rounds\n"
     ]
    },
    {
     "name": "stderr",
     "output_type": "stream",
     "text": [
      "[I 2025-09-14 10:36:08,791] Trial 8 finished with value: 45.65333042584484 and parameters: {'lambda_l1': 2.3995917016571156e-06, 'lambda_l2': 6.306983552253378e-06, 'num_leaves': 280, 'feature_fraction': 0.5137551661687642, 'bagging_fraction': 0.6750213905065356, 'bagging_freq': 5, 'min_child_samples': 87, 'learning_rate': 0.25566345731701073, 'max_depth': 9}. Best is trial 7 with value: 43.665179614801815.\n"
     ]
    },
    {
     "name": "stdout",
     "output_type": "stream",
     "text": [
      "Early stopping, best iteration is:\n",
      "[128]\tvalid_0's rmse: 49.5744\n",
      "Training until validation scores don't improve for 100 rounds\n",
      "Early stopping, best iteration is:\n",
      "[56]\tvalid_0's rmse: 45.1444\n",
      "Training until validation scores don't improve for 100 rounds\n",
      "Early stopping, best iteration is:\n",
      "[72]\tvalid_0's rmse: 44.1439\n",
      "Training until validation scores don't improve for 100 rounds\n",
      "Early stopping, best iteration is:\n",
      "[35]\tvalid_0's rmse: 46.4965\n",
      "Training until validation scores don't improve for 100 rounds\n",
      "Early stopping, best iteration is:\n",
      "[597]\tvalid_0's rmse: 41.77\n",
      "Training until validation scores don't improve for 100 rounds\n"
     ]
    },
    {
     "name": "stderr",
     "output_type": "stream",
     "text": [
      "[I 2025-09-14 10:36:13,725] Trial 9 finished with value: 44.95525978439076 and parameters: {'lambda_l1': 1.0052313487153839, 'lambda_l2': 1.5286975931762908e-06, 'num_leaves': 33, 'feature_fraction': 0.5238258870165471, 'bagging_fraction': 0.7777034462768357, 'bagging_freq': 6, 'min_child_samples': 28, 'learning_rate': 0.25119755875573424, 'max_depth': 9}. Best is trial 7 with value: 43.665179614801815.\n"
     ]
    },
    {
     "name": "stdout",
     "output_type": "stream",
     "text": [
      "Early stopping, best iteration is:\n",
      "[90]\tvalid_0's rmse: 47.2215\n",
      "Training until validation scores don't improve for 100 rounds\n",
      "Did not meet early stopping. Best iteration is:\n",
      "[940]\tvalid_0's rmse: 45.5\n",
      "Training until validation scores don't improve for 100 rounds\n",
      "Did not meet early stopping. Best iteration is:\n",
      "[975]\tvalid_0's rmse: 45.2792\n",
      "Training until validation scores don't improve for 100 rounds\n",
      "Early stopping, best iteration is:\n",
      "[170]\tvalid_0's rmse: 47.0564\n",
      "Training until validation scores don't improve for 100 rounds\n",
      "Early stopping, best iteration is:\n",
      "[467]\tvalid_0's rmse: 43.2154\n",
      "Training until validation scores don't improve for 100 rounds\n"
     ]
    },
    {
     "name": "stderr",
     "output_type": "stream",
     "text": [
      "[I 2025-09-14 10:36:52,892] Trial 10 finished with value: 45.4703233013607 and parameters: {'lambda_l1': 0.009095511238402295, 'lambda_l2': 0.002790234485751356, 'num_leaves': 190, 'feature_fraction': 0.9036246436430067, 'bagging_fraction': 0.993007515069811, 'bagging_freq': 3, 'min_child_samples': 8, 'learning_rate': 0.02294214236977994, 'max_depth': 12}. Best is trial 7 with value: 43.665179614801815.\n"
     ]
    },
    {
     "name": "stdout",
     "output_type": "stream",
     "text": [
      "Early stopping, best iteration is:\n",
      "[408]\tvalid_0's rmse: 46.3007\n",
      "Training until validation scores don't improve for 100 rounds\n",
      "Early stopping, best iteration is:\n",
      "[316]\tvalid_0's rmse: 43.9053\n",
      "Training until validation scores don't improve for 100 rounds\n",
      "Early stopping, best iteration is:\n",
      "[621]\tvalid_0's rmse: 42.4565\n",
      "Training until validation scores don't improve for 100 rounds\n",
      "Early stopping, best iteration is:\n",
      "[177]\tvalid_0's rmse: 45.0223\n",
      "Training until validation scores don't improve for 100 rounds\n",
      "Early stopping, best iteration is:\n",
      "[805]\tvalid_0's rmse: 41.5832\n",
      "Training until validation scores don't improve for 100 rounds\n"
     ]
    },
    {
     "name": "stderr",
     "output_type": "stream",
     "text": [
      "[I 2025-09-14 10:36:59,563] Trial 11 finished with value: 43.63000462178763 and parameters: {'lambda_l1': 0.0011335886287167848, 'lambda_l2': 1.6411834094241358, 'num_leaves': 212, 'feature_fraction': 0.6510538885408769, 'bagging_fraction': 0.9361990763603795, 'bagging_freq': 3, 'min_child_samples': 36, 'learning_rate': 0.09553862081038414, 'max_depth': 5}. Best is trial 11 with value: 43.63000462178763.\n"
     ]
    },
    {
     "name": "stdout",
     "output_type": "stream",
     "text": [
      "Early stopping, best iteration is:\n",
      "[502]\tvalid_0's rmse: 45.1828\n",
      "Training until validation scores don't improve for 100 rounds\n",
      "Early stopping, best iteration is:\n",
      "[760]\tvalid_0's rmse: 44.0961\n",
      "Training until validation scores don't improve for 100 rounds\n",
      "Did not meet early stopping. Best iteration is:\n",
      "[998]\tvalid_0's rmse: 42.8143\n",
      "Training until validation scores don't improve for 100 rounds\n",
      "Early stopping, best iteration is:\n",
      "[363]\tvalid_0's rmse: 45.1405\n",
      "Training until validation scores don't improve for 100 rounds\n",
      "Did not meet early stopping. Best iteration is:\n",
      "[996]\tvalid_0's rmse: 40.7977\n",
      "Training until validation scores don't improve for 100 rounds\n"
     ]
    },
    {
     "name": "stderr",
     "output_type": "stream",
     "text": [
      "[I 2025-09-14 10:37:10,886] Trial 12 finished with value: 43.43696168796333 and parameters: {'lambda_l1': 0.005517338115502997, 'lambda_l2': 5.4769327420075555, 'num_leaves': 225, 'feature_fraction': 0.6555448665081858, 'bagging_fraction': 0.9843726091911222, 'bagging_freq': 3, 'min_child_samples': 18, 'learning_rate': 0.04028347615155462, 'max_depth': 5}. Best is trial 12 with value: 43.43696168796333.\n"
     ]
    },
    {
     "name": "stdout",
     "output_type": "stream",
     "text": [
      "Did not meet early stopping. Best iteration is:\n",
      "[969]\tvalid_0's rmse: 44.3361\n",
      "Training until validation scores don't improve for 100 rounds\n",
      "Did not meet early stopping. Best iteration is:\n",
      "[993]\tvalid_0's rmse: 43.4176\n",
      "Training until validation scores don't improve for 100 rounds\n",
      "Did not meet early stopping. Best iteration is:\n",
      "[996]\tvalid_0's rmse: 42.1915\n",
      "Training until validation scores don't improve for 100 rounds\n",
      "Early stopping, best iteration is:\n",
      "[698]\tvalid_0's rmse: 45.3971\n",
      "Training until validation scores don't improve for 100 rounds\n",
      "Did not meet early stopping. Best iteration is:\n",
      "[1000]\tvalid_0's rmse: 41.1024\n",
      "Training until validation scores don't improve for 100 rounds\n"
     ]
    },
    {
     "name": "stderr",
     "output_type": "stream",
     "text": [
      "[I 2025-09-14 10:37:27,837] Trial 13 finished with value: 43.30831140854373 and parameters: {'lambda_l1': 0.019627246904525827, 'lambda_l2': 8.950328195614313, 'num_leaves': 238, 'feature_fraction': 0.6125502393861973, 'bagging_fraction': 0.8993412569952425, 'bagging_freq': 3, 'min_child_samples': 6, 'learning_rate': 0.017639047306269473, 'max_depth': 5}. Best is trial 13 with value: 43.30831140854373.\n"
     ]
    },
    {
     "name": "stdout",
     "output_type": "stream",
     "text": [
      "Did not meet early stopping. Best iteration is:\n",
      "[984]\tvalid_0's rmse: 44.4329\n",
      "Training until validation scores don't improve for 100 rounds\n",
      "Did not meet early stopping. Best iteration is:\n",
      "[1000]\tvalid_0's rmse: 45.0761\n",
      "Training until validation scores don't improve for 100 rounds\n",
      "Did not meet early stopping. Best iteration is:\n",
      "[996]\tvalid_0's rmse: 43.0678\n",
      "Training until validation scores don't improve for 100 rounds\n",
      "Did not meet early stopping. Best iteration is:\n",
      "[997]\tvalid_0's rmse: 45.9931\n",
      "Training until validation scores don't improve for 100 rounds\n",
      "Did not meet early stopping. Best iteration is:\n",
      "[1000]\tvalid_0's rmse: 42.2105\n",
      "Training until validation scores don't improve for 100 rounds\n"
     ]
    },
    {
     "name": "stderr",
     "output_type": "stream",
     "text": [
      "[I 2025-09-14 10:37:41,014] Trial 14 finished with value: 44.32747316280687 and parameters: {'lambda_l1': 0.06970370979687289, 'lambda_l2': 0.32919341685971226, 'num_leaves': 242, 'feature_fraction': 0.5933580956040887, 'bagging_fraction': 0.8573013652644232, 'bagging_freq': 3, 'min_child_samples': 6, 'learning_rate': 0.0112254728729447, 'max_depth': 4}. Best is trial 13 with value: 43.30831140854373.\n"
     ]
    },
    {
     "name": "stdout",
     "output_type": "stream",
     "text": [
      "Did not meet early stopping. Best iteration is:\n",
      "[991]\tvalid_0's rmse: 45.2898\n",
      "Training until validation scores don't improve for 100 rounds\n",
      "Early stopping, best iteration is:\n",
      "[672]\tvalid_0's rmse: 43.0429\n",
      "Training until validation scores don't improve for 100 rounds\n",
      "Early stopping, best iteration is:\n",
      "[836]\tvalid_0's rmse: 41.5966\n",
      "Training until validation scores don't improve for 100 rounds\n",
      "Early stopping, best iteration is:\n",
      "[224]\tvalid_0's rmse: 46.2974\n",
      "Training until validation scores don't improve for 100 rounds\n",
      "Early stopping, best iteration is:\n",
      "[526]\tvalid_0's rmse: 40.9308\n",
      "Training until validation scores don't improve for 100 rounds\n"
     ]
    },
    {
     "name": "stderr",
     "output_type": "stream",
     "text": [
      "[I 2025-09-14 10:37:49,796] Trial 15 finished with value: 43.249135079098494 and parameters: {'lambda_l1': 0.06663282423571805, 'lambda_l2': 0.08555544648424766, 'num_leaves': 180, 'feature_fraction': 0.7519802535636423, 'bagging_fraction': 0.8443709649231967, 'bagging_freq': 4, 'min_child_samples': 17, 'learning_rate': 0.042632769356152844, 'max_depth': 5}. Best is trial 15 with value: 43.249135079098494.\n"
     ]
    },
    {
     "name": "stdout",
     "output_type": "stream",
     "text": [
      "Early stopping, best iteration is:\n",
      "[524]\tvalid_0's rmse: 44.378\n",
      "Training until validation scores don't improve for 100 rounds\n",
      "Early stopping, best iteration is:\n",
      "[489]\tvalid_0's rmse: 43.8477\n",
      "Training until validation scores don't improve for 100 rounds\n",
      "Early stopping, best iteration is:\n",
      "[859]\tvalid_0's rmse: 41.7467\n",
      "Training until validation scores don't improve for 100 rounds\n",
      "Early stopping, best iteration is:\n",
      "[311]\tvalid_0's rmse: 45.9564\n",
      "Training until validation scores don't improve for 100 rounds\n",
      "Early stopping, best iteration is:\n",
      "[888]\tvalid_0's rmse: 40.1882\n",
      "Training until validation scores don't improve for 100 rounds\n"
     ]
    },
    {
     "name": "stderr",
     "output_type": "stream",
     "text": [
      "[I 2025-09-14 10:37:59,427] Trial 16 finished with value: 43.024559461156755 and parameters: {'lambda_l1': 0.1158032396849754, 'lambda_l2': 0.09413197709994085, 'num_leaves': 175, 'feature_fraction': 0.7527611785702947, 'bagging_fraction': 0.8392469848005878, 'bagging_freq': 4, 'min_child_samples': 16, 'learning_rate': 0.06221192917897569, 'max_depth': 5}. Best is trial 16 with value: 43.024559461156755.\n"
     ]
    },
    {
     "name": "stdout",
     "output_type": "stream",
     "text": [
      "Early stopping, best iteration is:\n",
      "[555]\tvalid_0's rmse: 43.3838\n",
      "Training until validation scores don't improve for 100 rounds\n",
      "Early stopping, best iteration is:\n",
      "[588]\tvalid_0's rmse: 43.9447\n",
      "Training until validation scores don't improve for 100 rounds\n",
      "Early stopping, best iteration is:\n",
      "[607]\tvalid_0's rmse: 42.8186\n",
      "Training until validation scores don't improve for 100 rounds\n",
      "Early stopping, best iteration is:\n",
      "[304]\tvalid_0's rmse: 44.6809\n",
      "Training until validation scores don't improve for 100 rounds\n",
      "Did not meet early stopping. Best iteration is:\n",
      "[997]\tvalid_0's rmse: 40.0692\n",
      "Training until validation scores don't improve for 100 rounds\n"
     ]
    },
    {
     "name": "stderr",
     "output_type": "stream",
     "text": [
      "[I 2025-09-14 10:38:13,264] Trial 17 finished with value: 43.174544701335854 and parameters: {'lambda_l1': 0.14152636060328, 'lambda_l2': 0.0028151842821311323, 'num_leaves': 170, 'feature_fraction': 0.9980550714865526, 'bagging_fraction': 0.8242135267183257, 'bagging_freq': 5, 'min_child_samples': 24, 'learning_rate': 0.05268088044292678, 'max_depth': 7}. Best is trial 16 with value: 43.024559461156755.\n"
     ]
    },
    {
     "name": "stdout",
     "output_type": "stream",
     "text": [
      "Early stopping, best iteration is:\n",
      "[581]\tvalid_0's rmse: 44.3593\n",
      "Training until validation scores don't improve for 100 rounds\n",
      "Early stopping, best iteration is:\n",
      "[209]\tvalid_0's rmse: 45.7275\n",
      "Training until validation scores don't improve for 100 rounds\n",
      "Early stopping, best iteration is:\n",
      "[200]\tvalid_0's rmse: 42.7618\n",
      "Training until validation scores don't improve for 100 rounds\n",
      "Early stopping, best iteration is:\n",
      "[320]\tvalid_0's rmse: 44.674\n",
      "Training until validation scores don't improve for 100 rounds\n",
      "Early stopping, best iteration is:\n",
      "[232]\tvalid_0's rmse: 43.7532\n",
      "Training until validation scores don't improve for 100 rounds\n"
     ]
    },
    {
     "name": "stderr",
     "output_type": "stream",
     "text": [
      "[I 2025-09-14 10:38:17,664] Trial 18 finished with value: 45.13929408783847 and parameters: {'lambda_l1': 0.2838606064972364, 'lambda_l2': 0.0014184257463716707, 'num_leaves': 87, 'feature_fraction': 0.9883123802311813, 'bagging_fraction': 0.6040515494145218, 'bagging_freq': 5, 'min_child_samples': 74, 'learning_rate': 0.14010981780282722, 'max_depth': 7}. Best is trial 16 with value: 43.024559461156755.\n"
     ]
    },
    {
     "name": "stdout",
     "output_type": "stream",
     "text": [
      "Early stopping, best iteration is:\n",
      "[209]\tvalid_0's rmse: 48.78\n",
      "Training until validation scores don't improve for 100 rounds\n",
      "Early stopping, best iteration is:\n",
      "[281]\tvalid_0's rmse: 44.0243\n",
      "Training until validation scores don't improve for 100 rounds\n",
      "Early stopping, best iteration is:\n",
      "[137]\tvalid_0's rmse: 43.4264\n",
      "Training until validation scores don't improve for 100 rounds\n",
      "Early stopping, best iteration is:\n",
      "[185]\tvalid_0's rmse: 44.9852\n",
      "Training until validation scores don't improve for 100 rounds\n",
      "Did not meet early stopping. Best iteration is:\n",
      "[948]\tvalid_0's rmse: 39.6096\n",
      "Training until validation scores don't improve for 100 rounds\n"
     ]
    },
    {
     "name": "stderr",
     "output_type": "stream",
     "text": [
      "[I 2025-09-14 10:38:31,822] Trial 19 finished with value: 43.415517698714574 and parameters: {'lambda_l1': 6.753864561887861, 'lambda_l2': 0.008230252731067545, 'num_leaves': 137, 'feature_fraction': 0.9974407500401985, 'bagging_fraction': 0.8005064740221998, 'bagging_freq': 6, 'min_child_samples': 25, 'learning_rate': 0.06877920968368056, 'max_depth': 11}. Best is trial 16 with value: 43.024559461156755.\n"
     ]
    },
    {
     "name": "stdout",
     "output_type": "stream",
     "text": [
      "Early stopping, best iteration is:\n",
      "[234]\tvalid_0's rmse: 45.0321\n",
      "Training until validation scores don't improve for 100 rounds\n",
      "Early stopping, best iteration is:\n",
      "[150]\tvalid_0's rmse: 42.4677\n",
      "Training until validation scores don't improve for 100 rounds\n",
      "Early stopping, best iteration is:\n",
      "[449]\tvalid_0's rmse: 42.9849\n",
      "Training until validation scores don't improve for 100 rounds\n",
      "Early stopping, best iteration is:\n",
      "[109]\tvalid_0's rmse: 45.7446\n",
      "Training until validation scores don't improve for 100 rounds\n",
      "Early stopping, best iteration is:\n",
      "[717]\tvalid_0's rmse: 40.9539\n",
      "Training until validation scores don't improve for 100 rounds\n"
     ]
    },
    {
     "name": "stderr",
     "output_type": "stream",
     "text": [
      "[I 2025-09-14 10:38:38,405] Trial 20 finished with value: 43.636945591415 and parameters: {'lambda_l1': 1.2460675028070747e-05, 'lambda_l2': 0.00019513252745597445, 'num_leaves': 13, 'feature_fraction': 0.9013839151353968, 'bagging_fraction': 0.8421398939683278, 'bagging_freq': 6, 'min_child_samples': 34, 'learning_rate': 0.17071411389352198, 'max_depth': 8}. Best is trial 16 with value: 43.024559461156755.\n"
     ]
    },
    {
     "name": "stdout",
     "output_type": "stream",
     "text": [
      "Early stopping, best iteration is:\n",
      "[150]\tvalid_0's rmse: 46.0337\n",
      "Training until validation scores don't improve for 100 rounds\n",
      "Early stopping, best iteration is:\n",
      "[531]\tvalid_0's rmse: 44.0414\n",
      "Training until validation scores don't improve for 100 rounds\n",
      "Early stopping, best iteration is:\n",
      "[592]\tvalid_0's rmse: 41.3797\n",
      "Training until validation scores don't improve for 100 rounds\n",
      "Early stopping, best iteration is:\n",
      "[123]\tvalid_0's rmse: 45.0072\n",
      "Training until validation scores don't improve for 100 rounds\n",
      "Early stopping, best iteration is:\n",
      "[640]\tvalid_0's rmse: 40.2044\n",
      "Training until validation scores don't improve for 100 rounds\n"
     ]
    },
    {
     "name": "stderr",
     "output_type": "stream",
     "text": [
      "[I 2025-09-14 10:38:46,967] Trial 21 finished with value: 42.93204987522301 and parameters: {'lambda_l1': 0.1920427009743608, 'lambda_l2': 0.11050567949459564, 'num_leaves': 178, 'feature_fraction': 0.7426698235902871, 'bagging_fraction': 0.8240788880375003, 'bagging_freq': 4, 'min_child_samples': 17, 'learning_rate': 0.057201557105804275, 'max_depth': 6}. Best is trial 21 with value: 42.93204987522301.\n"
     ]
    },
    {
     "name": "stdout",
     "output_type": "stream",
     "text": [
      "Early stopping, best iteration is:\n",
      "[230]\tvalid_0's rmse: 44.0275\n",
      "Training until validation scores don't improve for 100 rounds\n",
      "Early stopping, best iteration is:\n",
      "[362]\tvalid_0's rmse: 44.6529\n",
      "Training until validation scores don't improve for 100 rounds\n",
      "Early stopping, best iteration is:\n",
      "[565]\tvalid_0's rmse: 41.645\n",
      "Training until validation scores don't improve for 100 rounds\n",
      "Early stopping, best iteration is:\n",
      "[252]\tvalid_0's rmse: 45.76\n",
      "Training until validation scores don't improve for 100 rounds\n",
      "Did not meet early stopping. Best iteration is:\n",
      "[993]\tvalid_0's rmse: 39.2869\n",
      "Training until validation scores don't improve for 100 rounds\n"
     ]
    },
    {
     "name": "stderr",
     "output_type": "stream",
     "text": [
      "[I 2025-09-14 10:38:56,629] Trial 22 finished with value: 43.11180871184054 and parameters: {'lambda_l1': 0.15218185872860077, 'lambda_l2': 0.2680642794162923, 'num_leaves': 182, 'feature_fraction': 0.7417199764196961, 'bagging_fraction': 0.7443398027876125, 'bagging_freq': 4, 'min_child_samples': 17, 'learning_rate': 0.05924492634095864, 'max_depth': 6}. Best is trial 21 with value: 42.93204987522301.\n"
     ]
    },
    {
     "name": "stdout",
     "output_type": "stream",
     "text": [
      "Early stopping, best iteration is:\n",
      "[480]\tvalid_0's rmse: 44.2142\n",
      "Training until validation scores don't improve for 100 rounds\n",
      "Early stopping, best iteration is:\n",
      "[160]\tvalid_0's rmse: 45.0611\n",
      "Training until validation scores don't improve for 100 rounds\n",
      "Early stopping, best iteration is:\n",
      "[250]\tvalid_0's rmse: 42.1092\n",
      "Training until validation scores don't improve for 100 rounds\n",
      "Early stopping, best iteration is:\n",
      "[54]\tvalid_0's rmse: 46.8196\n",
      "Training until validation scores don't improve for 100 rounds\n",
      "Early stopping, best iteration is:\n",
      "[314]\tvalid_0's rmse: 39.3631\n",
      "Training until validation scores don't improve for 100 rounds\n"
     ]
    },
    {
     "name": "stderr",
     "output_type": "stream",
     "text": [
      "[I 2025-09-14 10:39:01,768] Trial 23 finished with value: 43.7673362459458 and parameters: {'lambda_l1': 5.3672216440946725, 'lambda_l2': 0.2589963867310231, 'num_leaves': 191, 'feature_fraction': 0.7423198268771684, 'bagging_fraction': 0.735760389335883, 'bagging_freq': 4, 'min_child_samples': 16, 'learning_rate': 0.12465815565433597, 'max_depth': 6}. Best is trial 21 with value: 42.93204987522301.\n"
     ]
    },
    {
     "name": "stdout",
     "output_type": "stream",
     "text": [
      "Early stopping, best iteration is:\n",
      "[165]\tvalid_0's rmse: 45.4836\n",
      "Training until validation scores don't improve for 100 rounds\n",
      "Early stopping, best iteration is:\n",
      "[648]\tvalid_0's rmse: 43.8101\n",
      "Training until validation scores don't improve for 100 rounds\n",
      "Did not meet early stopping. Best iteration is:\n",
      "[999]\tvalid_0's rmse: 43.2753\n",
      "Training until validation scores don't improve for 100 rounds\n",
      "Early stopping, best iteration is:\n",
      "[584]\tvalid_0's rmse: 45.2887\n",
      "Training until validation scores don't improve for 100 rounds\n",
      "Early stopping, best iteration is:\n",
      "[420]\tvalid_0's rmse: 44.1828\n",
      "Training until validation scores don't improve for 100 rounds\n"
     ]
    },
    {
     "name": "stderr",
     "output_type": "stream",
     "text": [
      "[I 2025-09-14 10:39:06,919] Trial 24 finished with value: 44.90768632780243 and parameters: {'lambda_l1': 0.002394143477363885, 'lambda_l2': 0.5052029100000357, 'num_leaves': 118, 'feature_fraction': 0.8097447265905241, 'bagging_fraction': 0.6063841533713985, 'bagging_freq': 4, 'min_child_samples': 100, 'learning_rate': 0.06202529728467158, 'max_depth': 4}. Best is trial 21 with value: 42.93204987522301.\n"
     ]
    },
    {
     "name": "stdout",
     "output_type": "stream",
     "text": [
      "Early stopping, best iteration is:\n",
      "[476]\tvalid_0's rmse: 47.9815\n",
      "Training until validation scores don't improve for 100 rounds\n",
      "Early stopping, best iteration is:\n",
      "[482]\tvalid_0's rmse: 44.8488\n",
      "Training until validation scores don't improve for 100 rounds\n",
      "Early stopping, best iteration is:\n",
      "[242]\tvalid_0's rmse: 42.7306\n",
      "Training until validation scores don't improve for 100 rounds\n",
      "Early stopping, best iteration is:\n",
      "[116]\tvalid_0's rmse: 46.6214\n",
      "Training until validation scores don't improve for 100 rounds\n",
      "Early stopping, best iteration is:\n",
      "[496]\tvalid_0's rmse: 41.6171\n",
      "Training until validation scores don't improve for 100 rounds\n"
     ]
    },
    {
     "name": "stderr",
     "output_type": "stream",
     "text": [
      "[I 2025-09-14 10:39:12,620] Trial 25 finished with value: 44.11765051775402 and parameters: {'lambda_l1': 0.32396482252788944, 'lambda_l2': 0.03376944685184354, 'num_leaves': 198, 'feature_fraction': 0.7302722602820294, 'bagging_fraction': 0.6486578311469633, 'bagging_freq': 2, 'min_child_samples': 15, 'learning_rate': 0.11845879039140167, 'max_depth': 4}. Best is trial 21 with value: 42.93204987522301.\n"
     ]
    },
    {
     "name": "stdout",
     "output_type": "stream",
     "text": [
      "Early stopping, best iteration is:\n",
      "[481]\tvalid_0's rmse: 44.7703\n",
      "Training until validation scores don't improve for 100 rounds\n",
      "Early stopping, best iteration is:\n",
      "[404]\tvalid_0's rmse: 43.933\n",
      "Training until validation scores don't improve for 100 rounds\n",
      "Did not meet early stopping. Best iteration is:\n",
      "[904]\tvalid_0's rmse: 42.6753\n",
      "Training until validation scores don't improve for 100 rounds\n",
      "Early stopping, best iteration is:\n",
      "[312]\tvalid_0's rmse: 44.4047\n",
      "Training until validation scores don't improve for 100 rounds\n",
      "Early stopping, best iteration is:\n",
      "[555]\tvalid_0's rmse: 41.3934\n",
      "Training until validation scores don't improve for 100 rounds\n"
     ]
    },
    {
     "name": "stderr",
     "output_type": "stream",
     "text": [
      "[I 2025-09-14 10:39:21,785] Trial 26 finished with value: 43.53833253372733 and parameters: {'lambda_l1': 0.04537567849987747, 'lambda_l2': 0.020399701040183266, 'num_leaves': 153, 'feature_fraction': 0.840419105618167, 'bagging_fraction': 0.8838855594672012, 'bagging_freq': 4, 'min_child_samples': 34, 'learning_rate': 0.07262256343156136, 'max_depth': 6}. Best is trial 21 with value: 42.93204987522301.\n"
     ]
    },
    {
     "name": "stdout",
     "output_type": "stream",
     "text": [
      "Early stopping, best iteration is:\n",
      "[468]\tvalid_0's rmse: 45.2852\n",
      "Training until validation scores don't improve for 100 rounds\n",
      "Early stopping, best iteration is:\n",
      "[584]\tvalid_0's rmse: 43.8877\n",
      "Training until validation scores don't improve for 100 rounds\n",
      "Did not meet early stopping. Best iteration is:\n",
      "[955]\tvalid_0's rmse: 41.2073\n",
      "Training until validation scores don't improve for 100 rounds\n",
      "Early stopping, best iteration is:\n",
      "[190]\tvalid_0's rmse: 45.3904\n",
      "Training until validation scores don't improve for 100 rounds\n",
      "Early stopping, best iteration is:\n",
      "[886]\tvalid_0's rmse: 39.9081\n",
      "Training until validation scores don't improve for 100 rounds\n"
     ]
    },
    {
     "name": "stderr",
     "output_type": "stream",
     "text": [
      "[I 2025-09-14 10:39:37,099] Trial 27 finished with value: 42.87581977824267 and parameters: {'lambda_l1': 0.39692748320533744, 'lambda_l2': 0.7903427617706831, 'num_leaves': 124, 'feature_fraction': 0.6990107820095208, 'bagging_fraction': 0.7558533565415775, 'bagging_freq': 2, 'min_child_samples': 12, 'learning_rate': 0.03685358556692861, 'max_depth': 6}. Best is trial 27 with value: 42.87581977824267.\n"
     ]
    },
    {
     "name": "stdout",
     "output_type": "stream",
     "text": [
      "Did not meet early stopping. Best iteration is:\n",
      "[968]\tvalid_0's rmse: 43.9856\n",
      "Training until validation scores don't improve for 100 rounds\n",
      "Early stopping, best iteration is:\n",
      "[811]\tvalid_0's rmse: 43.8479\n",
      "Training until validation scores don't improve for 100 rounds\n",
      "Did not meet early stopping. Best iteration is:\n",
      "[972]\tvalid_0's rmse: 42.2165\n",
      "Training until validation scores don't improve for 100 rounds\n",
      "Early stopping, best iteration is:\n",
      "[314]\tvalid_0's rmse: 45.4731\n",
      "Training until validation scores don't improve for 100 rounds\n",
      "Did not meet early stopping. Best iteration is:\n",
      "[993]\tvalid_0's rmse: 40.8611\n",
      "Training until validation scores don't improve for 100 rounds\n"
     ]
    },
    {
     "name": "stderr",
     "output_type": "stream",
     "text": [
      "[I 2025-09-14 10:39:46,326] Trial 28 finished with value: 43.27289178859752 and parameters: {'lambda_l1': 9.24982071624906, 'lambda_l2': 1.3476353391519347, 'num_leaves': 88, 'feature_fraction': 0.41058066925900133, 'bagging_fraction': 0.7876107519513543, 'bagging_freq': 2, 'min_child_samples': 11, 'learning_rate': 0.03482986682110801, 'max_depth': 4}. Best is trial 27 with value: 42.87581977824267.\n"
     ]
    },
    {
     "name": "stdout",
     "output_type": "stream",
     "text": [
      "Did not meet early stopping. Best iteration is:\n",
      "[995]\tvalid_0's rmse: 43.9659\n",
      "Training until validation scores don't improve for 100 rounds\n",
      "Early stopping, best iteration is:\n",
      "[326]\tvalid_0's rmse: 44.0183\n",
      "Training until validation scores don't improve for 100 rounds\n",
      "Early stopping, best iteration is:\n",
      "[560]\tvalid_0's rmse: 42.1499\n",
      "Training until validation scores don't improve for 100 rounds\n",
      "Early stopping, best iteration is:\n",
      "[158]\tvalid_0's rmse: 44.9158\n",
      "Training until validation scores don't improve for 100 rounds\n",
      "Early stopping, best iteration is:\n",
      "[464]\tvalid_0's rmse: 41.8824\n",
      "Training until validation scores don't improve for 100 rounds\n"
     ]
    },
    {
     "name": "stderr",
     "output_type": "stream",
     "text": [
      "[I 2025-09-14 10:39:54,530] Trial 29 finished with value: 43.821819086651615 and parameters: {'lambda_l1': 7.023571611142415e-05, 'lambda_l2': 1.5265454635025384, 'num_leaves': 116, 'feature_fraction': 0.7870711961056698, 'bagging_fraction': 0.736423691818436, 'bagging_freq': 2, 'min_child_samples': 42, 'learning_rate': 0.08027642931742306, 'max_depth': 8}. Best is trial 27 with value: 42.87581977824267.\n"
     ]
    },
    {
     "name": "stdout",
     "output_type": "stream",
     "text": [
      "Early stopping, best iteration is:\n",
      "[280]\tvalid_0's rmse: 46.1428\n",
      "Training until validation scores don't improve for 100 rounds\n",
      "Early stopping, best iteration is:\n",
      "[230]\tvalid_0's rmse: 44.4266\n",
      "Training until validation scores don't improve for 100 rounds\n",
      "Did not meet early stopping. Best iteration is:\n",
      "[938]\tvalid_0's rmse: 43.4978\n",
      "Training until validation scores don't improve for 100 rounds\n",
      "Early stopping, best iteration is:\n",
      "[60]\tvalid_0's rmse: 45.8596\n",
      "Training until validation scores don't improve for 100 rounds\n",
      "Early stopping, best iteration is:\n",
      "[696]\tvalid_0's rmse: 40.1093\n",
      "Training until validation scores don't improve for 100 rounds\n"
     ]
    },
    {
     "name": "stderr",
     "output_type": "stream",
     "text": [
      "[I 2025-09-14 10:40:02,995] Trial 30 finished with value: 43.95327132153171 and parameters: {'lambda_l1': 0.38274686493871307, 'lambda_l2': 0.0005764526669124413, 'num_leaves': 130, 'feature_fraction': 0.6897125868709203, 'bagging_fraction': 0.9339306744658842, 'bagging_freq': 7, 'min_child_samples': 23, 'learning_rate': 0.10743308177919605, 'max_depth': 7}. Best is trial 27 with value: 42.87581977824267.\n"
     ]
    },
    {
     "name": "stdout",
     "output_type": "stream",
     "text": [
      "Early stopping, best iteration is:\n",
      "[185]\tvalid_0's rmse: 45.8732\n",
      "Training until validation scores don't improve for 100 rounds\n",
      "Early stopping, best iteration is:\n",
      "[423]\tvalid_0's rmse: 43.0215\n",
      "Training until validation scores don't improve for 100 rounds\n",
      "Early stopping, best iteration is:\n",
      "[512]\tvalid_0's rmse: 41.234\n",
      "Training until validation scores don't improve for 100 rounds\n",
      "Early stopping, best iteration is:\n",
      "[76]\tvalid_0's rmse: 45.3113\n",
      "Training until validation scores don't improve for 100 rounds\n",
      "Early stopping, best iteration is:\n",
      "[799]\tvalid_0's rmse: 40.2677\n",
      "Training until validation scores don't improve for 100 rounds\n"
     ]
    },
    {
     "name": "stderr",
     "output_type": "stream",
     "text": [
      "[I 2025-09-14 10:40:12,967] Trial 31 finished with value: 42.851263408014304 and parameters: {'lambda_l1': 1.0062207525391056, 'lambda_l2': 0.12495963099379129, 'num_leaves': 168, 'feature_fraction': 0.715316368659541, 'bagging_fraction': 0.7635944636764367, 'bagging_freq': 4, 'min_child_samples': 12, 'learning_rate': 0.056216789973435384, 'max_depth': 6}. Best is trial 31 with value: 42.851263408014304.\n"
     ]
    },
    {
     "name": "stdout",
     "output_type": "stream",
     "text": [
      "Early stopping, best iteration is:\n",
      "[326]\tvalid_0's rmse: 44.4218\n",
      "Training until validation scores don't improve for 100 rounds\n",
      "Early stopping, best iteration is:\n",
      "[595]\tvalid_0's rmse: 44.4543\n",
      "Training until validation scores don't improve for 100 rounds\n",
      "Early stopping, best iteration is:\n",
      "[585]\tvalid_0's rmse: 42.5352\n",
      "Training until validation scores don't improve for 100 rounds\n",
      "Early stopping, best iteration is:\n",
      "[319]\tvalid_0's rmse: 45.4565\n",
      "Training until validation scores don't improve for 100 rounds\n",
      "Early stopping, best iteration is:\n",
      "[470]\tvalid_0's rmse: 40.3153\n",
      "Training until validation scores don't improve for 100 rounds\n"
     ]
    },
    {
     "name": "stderr",
     "output_type": "stream",
     "text": [
      "[I 2025-09-14 10:40:21,370] Trial 32 finished with value: 43.25393658184843 and parameters: {'lambda_l1': 1.2696021221373976, 'lambda_l2': 0.08965408880772298, 'num_leaves': 164, 'feature_fraction': 0.7071354192188615, 'bagging_fraction': 0.7746645117694049, 'bagging_freq': 5, 'min_child_samples': 11, 'learning_rate': 0.04488702053582172, 'max_depth': 5}. Best is trial 31 with value: 42.851263408014304.\n"
     ]
    },
    {
     "name": "stdout",
     "output_type": "stream",
     "text": [
      "Early stopping, best iteration is:\n",
      "[492]\tvalid_0's rmse: 43.5084\n",
      "Training until validation scores don't improve for 100 rounds\n",
      "Early stopping, best iteration is:\n",
      "[822]\tvalid_0's rmse: 43.4684\n",
      "Training until validation scores don't improve for 100 rounds\n",
      "Did not meet early stopping. Best iteration is:\n",
      "[987]\tvalid_0's rmse: 41.3889\n",
      "Training until validation scores don't improve for 100 rounds\n",
      "Early stopping, best iteration is:\n",
      "[324]\tvalid_0's rmse: 44.6384\n",
      "Training until validation scores don't improve for 100 rounds\n",
      "Did not meet early stopping. Best iteration is:\n",
      "[992]\tvalid_0's rmse: 39.9752\n",
      "Training until validation scores don't improve for 100 rounds\n"
     ]
    },
    {
     "name": "stderr",
     "output_type": "stream",
     "text": [
      "[I 2025-09-14 10:40:33,570] Trial 33 finished with value: 42.74492114635182 and parameters: {'lambda_l1': 0.8540562775193986, 'lambda_l2': 0.009973233334692655, 'num_leaves': 60, 'feature_fraction': 0.5936377496852365, 'bagging_fraction': 0.8079822118639866, 'bagging_freq': 3, 'min_child_samples': 22, 'learning_rate': 0.029750385002104834, 'max_depth': 6}. Best is trial 33 with value: 42.74492114635182.\n"
     ]
    },
    {
     "name": "stdout",
     "output_type": "stream",
     "text": [
      "Early stopping, best iteration is:\n",
      "[851]\tvalid_0's rmse: 44.2536\n",
      "Training until validation scores don't improve for 100 rounds\n",
      "Did not meet early stopping. Best iteration is:\n",
      "[973]\tvalid_0's rmse: 43.1483\n",
      "Training until validation scores don't improve for 100 rounds\n",
      "Did not meet early stopping. Best iteration is:\n",
      "[975]\tvalid_0's rmse: 42.3206\n",
      "Training until validation scores don't improve for 100 rounds\n",
      "Early stopping, best iteration is:\n",
      "[666]\tvalid_0's rmse: 43.6681\n",
      "Training until validation scores don't improve for 100 rounds\n",
      "Did not meet early stopping. Best iteration is:\n",
      "[979]\tvalid_0's rmse: 40.4072\n",
      "Training until validation scores don't improve for 100 rounds\n"
     ]
    },
    {
     "name": "stderr",
     "output_type": "stream",
     "text": [
      "[I 2025-09-14 10:40:48,299] Trial 34 finished with value: 42.81486733892946 and parameters: {'lambda_l1': 2.371710451722053, 'lambda_l2': 0.008529241775976724, 'num_leaves': 36, 'feature_fraction': 0.579008650637097, 'bagging_fraction': 0.713837621846891, 'bagging_freq': 1, 'min_child_samples': 29, 'learning_rate': 0.022668514601769624, 'max_depth': 8}. Best is trial 33 with value: 42.74492114635182.\n"
     ]
    },
    {
     "name": "stdout",
     "output_type": "stream",
     "text": [
      "Did not meet early stopping. Best iteration is:\n",
      "[999]\tvalid_0's rmse: 44.5301\n",
      "Training until validation scores don't improve for 100 rounds\n",
      "Did not meet early stopping. Best iteration is:\n",
      "[998]\tvalid_0's rmse: 43.3537\n",
      "Training until validation scores don't improve for 100 rounds\n",
      "Did not meet early stopping. Best iteration is:\n",
      "[945]\tvalid_0's rmse: 41.8276\n",
      "Training until validation scores don't improve for 100 rounds\n",
      "Early stopping, best iteration is:\n",
      "[562]\tvalid_0's rmse: 43.4656\n",
      "Training until validation scores don't improve for 100 rounds\n",
      "Did not meet early stopping. Best iteration is:\n",
      "[1000]\tvalid_0's rmse: 40.5356\n",
      "Training until validation scores don't improve for 100 rounds\n"
     ]
    },
    {
     "name": "stderr",
     "output_type": "stream",
     "text": [
      "[I 2025-09-14 10:41:01,811] Trial 35 finished with value: 42.76550232663742 and parameters: {'lambda_l1': 1.9229450051265242, 'lambda_l2': 0.008748537381274343, 'num_leaves': 57, 'feature_fraction': 0.5611798773627108, 'bagging_fraction': 0.7131417920463018, 'bagging_freq': 1, 'min_child_samples': 33, 'learning_rate': 0.025485716221239636, 'max_depth': 8}. Best is trial 33 with value: 42.74492114635182.\n"
     ]
    },
    {
     "name": "stdout",
     "output_type": "stream",
     "text": [
      "Early stopping, best iteration is:\n",
      "[827]\tvalid_0's rmse: 44.6451\n",
      "Training until validation scores don't improve for 100 rounds\n",
      "Did not meet early stopping. Best iteration is:\n",
      "[1000]\tvalid_0's rmse: 44.4172\n",
      "Training until validation scores don't improve for 100 rounds\n",
      "Did not meet early stopping. Best iteration is:\n",
      "[999]\tvalid_0's rmse: 42.4367\n",
      "Training until validation scores don't improve for 100 rounds\n",
      "Early stopping, best iteration is:\n",
      "[802]\tvalid_0's rmse: 43.4967\n",
      "Training until validation scores don't improve for 100 rounds\n",
      "Did not meet early stopping. Best iteration is:\n",
      "[996]\tvalid_0's rmse: 42.0507\n",
      "Training until validation scores don't improve for 100 rounds\n"
     ]
    },
    {
     "name": "stderr",
     "output_type": "stream",
     "text": [
      "[I 2025-09-14 10:41:15,037] Trial 36 finished with value: 43.7633938944103 and parameters: {'lambda_l1': 2.3099399534927096, 'lambda_l2': 4.232578428645503e-05, 'num_leaves': 51, 'feature_fraction': 0.5696916841174516, 'bagging_fraction': 0.7099124046465287, 'bagging_freq': 1, 'min_child_samples': 50, 'learning_rate': 0.02162846874779846, 'max_depth': 8}. Best is trial 33 with value: 42.74492114635182.\n"
     ]
    },
    {
     "name": "stdout",
     "output_type": "stream",
     "text": [
      "Did not meet early stopping. Best iteration is:\n",
      "[954]\tvalid_0's rmse: 46.4157\n",
      "Training until validation scores don't improve for 100 rounds\n",
      "Early stopping, best iteration is:\n",
      "[117]\tvalid_0's rmse: 46.1295\n",
      "Training until validation scores don't improve for 100 rounds\n",
      "Early stopping, best iteration is:\n",
      "[85]\tvalid_0's rmse: 43.3057\n",
      "Training until validation scores don't improve for 100 rounds\n",
      "Early stopping, best iteration is:\n",
      "[57]\tvalid_0's rmse: 46.8565\n",
      "Training until validation scores don't improve for 100 rounds\n",
      "Early stopping, best iteration is:\n",
      "[247]\tvalid_0's rmse: 41.6643\n",
      "Training until validation scores don't improve for 100 rounds\n"
     ]
    },
    {
     "name": "stderr",
     "output_type": "stream",
     "text": [
      "[I 2025-09-14 10:41:19,341] Trial 37 finished with value: 45.0715267544219 and parameters: {'lambda_l1': 2.5173893086309556, 'lambda_l2': 0.009218033074234147, 'num_leaves': 39, 'feature_fraction': 0.553212897573717, 'bagging_fraction': 0.6629245313649343, 'bagging_freq': 1, 'min_child_samples': 30, 'learning_rate': 0.19871583523960049, 'max_depth': 10}. Best is trial 33 with value: 42.74492114635182.\n"
     ]
    },
    {
     "name": "stdout",
     "output_type": "stream",
     "text": [
      "Early stopping, best iteration is:\n",
      "[114]\tvalid_0's rmse: 47.4016\n",
      "Training until validation scores don't improve for 100 rounds\n",
      "Did not meet early stopping. Best iteration is:\n",
      "[1000]\tvalid_0's rmse: 44.0377\n",
      "Training until validation scores don't improve for 100 rounds\n",
      "Did not meet early stopping. Best iteration is:\n",
      "[995]\tvalid_0's rmse: 41.9873\n",
      "Training until validation scores don't improve for 100 rounds\n",
      "Did not meet early stopping. Best iteration is:\n",
      "[901]\tvalid_0's rmse: 43.3736\n",
      "Training until validation scores don't improve for 100 rounds\n",
      "Did not meet early stopping. Best iteration is:\n",
      "[956]\tvalid_0's rmse: 41.7926\n",
      "Training until validation scores don't improve for 100 rounds\n"
     ]
    },
    {
     "name": "stderr",
     "output_type": "stream",
     "text": [
      "[I 2025-09-14 10:41:30,497] Trial 38 finished with value: 43.5102716561199 and parameters: {'lambda_l1': 0.9829670067350919, 'lambda_l2': 6.942475715550337e-05, 'num_leaves': 73, 'feature_fraction': 0.43942437137846735, 'bagging_fraction': 0.6270807177253085, 'bagging_freq': 1, 'min_child_samples': 55, 'learning_rate': 0.026719429129357482, 'max_depth': 8}. Best is trial 33 with value: 42.74492114635182.\n"
     ]
    },
    {
     "name": "stdout",
     "output_type": "stream",
     "text": [
      "Did not meet early stopping. Best iteration is:\n",
      "[985]\tvalid_0's rmse: 46.3602\n",
      "Training until validation scores don't improve for 100 rounds\n",
      "Early stopping, best iteration is:\n",
      "[541]\tvalid_0's rmse: 44.258\n",
      "Training until validation scores don't improve for 100 rounds\n",
      "Early stopping, best iteration is:\n",
      "[572]\tvalid_0's rmse: 42.3565\n",
      "Training until validation scores don't improve for 100 rounds\n",
      "Early stopping, best iteration is:\n",
      "[121]\tvalid_0's rmse: 45.5884\n",
      "Training until validation scores don't improve for 100 rounds\n",
      "Early stopping, best iteration is:\n",
      "[590]\tvalid_0's rmse: 41.0618\n",
      "Training until validation scores don't improve for 100 rounds\n"
     ]
    },
    {
     "name": "stderr",
     "output_type": "stream",
     "text": [
      "[I 2025-09-14 10:41:38,057] Trial 39 finished with value: 43.87211482403214 and parameters: {'lambda_l1': 5.019213573201812e-07, 'lambda_l2': 0.007976122320044628, 'num_leaves': 66, 'feature_fraction': 0.6186190267334088, 'bagging_fraction': 0.5614013255603805, 'bagging_freq': 1, 'min_child_samples': 37, 'learning_rate': 0.08510088942567959, 'max_depth': 9}. Best is trial 33 with value: 42.74492114635182.\n"
     ]
    },
    {
     "name": "stdout",
     "output_type": "stream",
     "text": [
      "Early stopping, best iteration is:\n",
      "[309]\tvalid_0's rmse: 46.096\n",
      "Training until validation scores don't improve for 100 rounds\n",
      "Did not meet early stopping. Best iteration is:\n",
      "[1000]\tvalid_0's rmse: 44.1781\n",
      "Training until validation scores don't improve for 100 rounds\n",
      "Did not meet early stopping. Best iteration is:\n",
      "[1000]\tvalid_0's rmse: 42.6892\n",
      "Training until validation scores don't improve for 100 rounds\n",
      "Did not meet early stopping. Best iteration is:\n",
      "[980]\tvalid_0's rmse: 44.1835\n",
      "Training until validation scores don't improve for 100 rounds\n",
      "Did not meet early stopping. Best iteration is:\n",
      "[1000]\tvalid_0's rmse: 41.8239\n",
      "Training until validation scores don't improve for 100 rounds\n"
     ]
    },
    {
     "name": "stderr",
     "output_type": "stream",
     "text": [
      "[I 2025-09-14 10:41:49,469] Trial 40 finished with value: 43.666292959949786 and parameters: {'lambda_l1': 3.492852747086232, 'lambda_l2': 0.0004386112559108217, 'num_leaves': 10, 'feature_fraction': 0.475443097852041, 'bagging_fraction': 0.7076156502436256, 'bagging_freq': 2, 'min_child_samples': 30, 'learning_rate': 0.014894134452334399, 'max_depth': 10}. Best is trial 33 with value: 42.74492114635182.\n"
     ]
    },
    {
     "name": "stdout",
     "output_type": "stream",
     "text": [
      "Did not meet early stopping. Best iteration is:\n",
      "[990]\tvalid_0's rmse: 45.4567\n",
      "Training until validation scores don't improve for 100 rounds\n",
      "Early stopping, best iteration is:\n",
      "[658]\tvalid_0's rmse: 43.669\n",
      "Training until validation scores don't improve for 100 rounds\n",
      "Did not meet early stopping. Best iteration is:\n",
      "[969]\tvalid_0's rmse: 42.7615\n",
      "Training until validation scores don't improve for 100 rounds\n",
      "Early stopping, best iteration is:\n",
      "[394]\tvalid_0's rmse: 44.1625\n",
      "Training until validation scores don't improve for 100 rounds\n",
      "Did not meet early stopping. Best iteration is:\n",
      "[994]\tvalid_0's rmse: 39.8484\n",
      "Training until validation scores don't improve for 100 rounds\n"
     ]
    },
    {
     "name": "stderr",
     "output_type": "stream",
     "text": [
      "[I 2025-09-14 10:42:02,010] Trial 41 finished with value: 43.08663911436954 and parameters: {'lambda_l1': 0.6428912715520034, 'lambda_l2': 3.7753621186338245e-08, 'num_leaves': 103, 'feature_fraction': 0.5467001481028876, 'bagging_fraction': 0.7628755010739023, 'bagging_freq': 2, 'min_child_samples': 22, 'learning_rate': 0.03258813183666829, 'max_depth': 7}. Best is trial 33 with value: 42.74492114635182.\n"
     ]
    },
    {
     "name": "stdout",
     "output_type": "stream",
     "text": [
      "Early stopping, best iteration is:\n",
      "[500]\tvalid_0's rmse: 44.9918\n",
      "Training until validation scores don't improve for 100 rounds\n",
      "Did not meet early stopping. Best iteration is:\n",
      "[1000]\tvalid_0's rmse: 43.9942\n",
      "Training until validation scores don't improve for 100 rounds\n",
      "Did not meet early stopping. Best iteration is:\n",
      "[989]\tvalid_0's rmse: 41.7454\n",
      "Training until validation scores don't improve for 100 rounds\n",
      "Early stopping, best iteration is:\n",
      "[776]\tvalid_0's rmse: 44.3964\n",
      "Training until validation scores don't improve for 100 rounds\n",
      "Did not meet early stopping. Best iteration is:\n",
      "[1000]\tvalid_0's rmse: 40.1756\n",
      "Training until validation scores don't improve for 100 rounds\n"
     ]
    },
    {
     "name": "stderr",
     "output_type": "stream",
     "text": [
      "[I 2025-09-14 10:42:22,388] Trial 42 finished with value: 42.82261475420479 and parameters: {'lambda_l1': 0.028414601755335077, 'lambda_l2': 0.030182486760170435, 'num_leaves': 52, 'feature_fraction': 0.5905439425480778, 'bagging_fraction': 0.6977278308973893, 'bagging_freq': 1, 'min_child_samples': 10, 'learning_rate': 0.01004117050224726, 'max_depth': 7}. Best is trial 33 with value: 42.74492114635182.\n"
     ]
    },
    {
     "name": "stdout",
     "output_type": "stream",
     "text": [
      "Did not meet early stopping. Best iteration is:\n",
      "[1000]\tvalid_0's rmse: 43.8015\n",
      "Training until validation scores don't improve for 100 rounds\n",
      "Did not meet early stopping. Best iteration is:\n",
      "[999]\tvalid_0's rmse: 44.8685\n",
      "Training until validation scores don't improve for 100 rounds\n",
      "Did not meet early stopping. Best iteration is:\n",
      "[999]\tvalid_0's rmse: 43.0982\n",
      "Training until validation scores don't improve for 100 rounds\n",
      "Did not meet early stopping. Best iteration is:\n",
      "[1000]\tvalid_0's rmse: 43.803\n",
      "Training until validation scores don't improve for 100 rounds\n",
      "Did not meet early stopping. Best iteration is:\n",
      "[1000]\tvalid_0's rmse: 42.4618\n",
      "Training until validation scores don't improve for 100 rounds\n"
     ]
    },
    {
     "name": "stderr",
     "output_type": "stream",
     "text": [
      "[I 2025-09-14 10:42:36,558] Trial 43 finished with value: 44.147909315594276 and parameters: {'lambda_l1': 0.018338310830262196, 'lambda_l2': 0.0017666262775521122, 'num_leaves': 29, 'feature_fraction': 0.5851273688089156, 'bagging_fraction': 0.6941949396020135, 'bagging_freq': 1, 'min_child_samples': 46, 'learning_rate': 0.012299114554193106, 'max_depth': 9}. Best is trial 33 with value: 42.74492114635182.\n"
     ]
    },
    {
     "name": "stdout",
     "output_type": "stream",
     "text": [
      "Did not meet early stopping. Best iteration is:\n",
      "[999]\tvalid_0's rmse: 46.5081\n",
      "Training until validation scores don't improve for 100 rounds\n",
      "Early stopping, best iteration is:\n",
      "[515]\tvalid_0's rmse: 43.9169\n",
      "Training until validation scores don't improve for 100 rounds\n",
      "Early stopping, best iteration is:\n",
      "[717]\tvalid_0's rmse: 41.8772\n",
      "Training until validation scores don't improve for 100 rounds\n",
      "Early stopping, best iteration is:\n",
      "[246]\tvalid_0's rmse: 45.0187\n",
      "Training until validation scores don't improve for 100 rounds\n",
      "Did not meet early stopping. Best iteration is:\n",
      "[964]\tvalid_0's rmse: 39.3827\n",
      "Training until validation scores don't improve for 100 rounds\n"
     ]
    },
    {
     "name": "stderr",
     "output_type": "stream",
     "text": [
      "[I 2025-09-14 10:42:48,018] Trial 44 finished with value: 42.93598690597713 and parameters: {'lambda_l1': 1.7088516373992066, 'lambda_l2': 0.02338933302351441, 'num_leaves': 65, 'feature_fraction': 0.5261592160040396, 'bagging_fraction': 0.8025743171599469, 'bagging_freq': 1, 'min_child_samples': 21, 'learning_rate': 0.047420406930685916, 'max_depth': 7}. Best is trial 33 with value: 42.74492114635182.\n"
     ]
    },
    {
     "name": "stdout",
     "output_type": "stream",
     "text": [
      "Did not meet early stopping. Best iteration is:\n",
      "[940]\tvalid_0's rmse: 44.4844\n",
      "Training until validation scores don't improve for 100 rounds\n",
      "Early stopping, best iteration is:\n",
      "[684]\tvalid_0's rmse: 44.1855\n",
      "Training until validation scores don't improve for 100 rounds\n",
      "Did not meet early stopping. Best iteration is:\n",
      "[972]\tvalid_0's rmse: 41.9608\n",
      "Training until validation scores don't improve for 100 rounds\n",
      "Early stopping, best iteration is:\n",
      "[815]\tvalid_0's rmse: 43.1179\n",
      "Training until validation scores don't improve for 100 rounds\n",
      "Did not meet early stopping. Best iteration is:\n",
      "[997]\tvalid_0's rmse: 41.5969\n",
      "Training until validation scores don't improve for 100 rounds\n"
     ]
    },
    {
     "name": "stderr",
     "output_type": "stream",
     "text": [
      "[I 2025-09-14 10:42:58,818] Trial 45 finished with value: 43.373942251771226 and parameters: {'lambda_l1': 0.03357634280857833, 'lambda_l2': 0.004574897881553177, 'num_leaves': 55, 'feature_fraction': 0.6190287116884082, 'bagging_fraction': 0.7248951638898375, 'bagging_freq': 1, 'min_child_samples': 66, 'learning_rate': 0.030748292064312868, 'max_depth': 8}. Best is trial 33 with value: 42.74492114635182.\n"
     ]
    },
    {
     "name": "stdout",
     "output_type": "stream",
     "text": [
      "Did not meet early stopping. Best iteration is:\n",
      "[975]\tvalid_0's rmse: 46.0086\n",
      "Training until validation scores don't improve for 100 rounds\n",
      "Did not meet early stopping. Best iteration is:\n",
      "[994]\tvalid_0's rmse: 43.3288\n",
      "Training until validation scores don't improve for 100 rounds\n",
      "Early stopping, best iteration is:\n",
      "[840]\tvalid_0's rmse: 42.1476\n",
      "Training until validation scores don't improve for 100 rounds\n",
      "Early stopping, best iteration is:\n",
      "[603]\tvalid_0's rmse: 43.7848\n",
      "Training until validation scores don't improve for 100 rounds\n",
      "Did not meet early stopping. Best iteration is:\n",
      "[993]\tvalid_0's rmse: 40.5834\n",
      "Training until validation scores don't improve for 100 rounds\n"
     ]
    },
    {
     "name": "stderr",
     "output_type": "stream",
     "text": [
      "[I 2025-09-14 10:43:12,699] Trial 46 finished with value: 42.94163149781903 and parameters: {'lambda_l1': 9.110943709607652, 'lambda_l2': 0.039294400134506004, 'num_leaves': 25, 'feature_fraction': 0.4968902178770508, 'bagging_fraction': 0.6697531238206249, 'bagging_freq': 3, 'min_child_samples': 28, 'learning_rate': 0.025032710766997552, 'max_depth': 8}. Best is trial 33 with value: 42.74492114635182.\n"
     ]
    },
    {
     "name": "stdout",
     "output_type": "stream",
     "text": [
      "Early stopping, best iteration is:\n",
      "[813]\tvalid_0's rmse: 44.8636\n",
      "Training until validation scores don't improve for 100 rounds\n",
      "Did not meet early stopping. Best iteration is:\n",
      "[1000]\tvalid_0's rmse: 44.5517\n",
      "Training until validation scores don't improve for 100 rounds\n",
      "Did not meet early stopping. Best iteration is:\n",
      "[1000]\tvalid_0's rmse: 42.862\n",
      "Training until validation scores don't improve for 100 rounds\n",
      "Did not meet early stopping. Best iteration is:\n",
      "[960]\tvalid_0's rmse: 44.0761\n",
      "Training until validation scores don't improve for 100 rounds\n",
      "Did not meet early stopping. Best iteration is:\n",
      "[1000]\tvalid_0's rmse: 42.2812\n",
      "Training until validation scores don't improve for 100 rounds\n"
     ]
    },
    {
     "name": "stderr",
     "output_type": "stream",
     "text": [
      "[I 2025-09-14 10:43:26,694] Trial 47 finished with value: 44.039959050098574 and parameters: {'lambda_l1': 0.0003580444794845755, 'lambda_l2': 0.0009706664824460228, 'num_leaves': 44, 'feature_fraction': 0.665575801352604, 'bagging_fraction': 0.6375473326055067, 'bagging_freq': 2, 'min_child_samples': 38, 'learning_rate': 0.012142461526454677, 'max_depth': 7}. Best is trial 33 with value: 42.74492114635182.\n"
     ]
    },
    {
     "name": "stdout",
     "output_type": "stream",
     "text": [
      "Did not meet early stopping. Best iteration is:\n",
      "[996]\tvalid_0's rmse: 46.4288\n",
      "Training until validation scores don't improve for 100 rounds\n",
      "Early stopping, best iteration is:\n",
      "[244]\tvalid_0's rmse: 45.3133\n",
      "Training until validation scores don't improve for 100 rounds\n",
      "Early stopping, best iteration is:\n",
      "[342]\tvalid_0's rmse: 41.2885\n",
      "Training until validation scores don't improve for 100 rounds\n",
      "Early stopping, best iteration is:\n",
      "[100]\tvalid_0's rmse: 45.3557\n",
      "Training until validation scores don't improve for 100 rounds\n",
      "Early stopping, best iteration is:\n",
      "[331]\tvalid_0's rmse: 42.1779\n",
      "Training until validation scores don't improve for 100 rounds\n"
     ]
    },
    {
     "name": "stderr",
     "output_type": "stream",
     "text": [
      "[I 2025-09-14 10:43:39,919] Trial 48 finished with value: 43.58944814783152 and parameters: {'lambda_l1': 0.7387808507290282, 'lambda_l2': 1.1485867992250263e-07, 'num_leaves': 103, 'feature_fraction': 0.6313703453772682, 'bagging_fraction': 0.5745686703115426, 'bagging_freq': 1, 'min_child_samples': 5, 'learning_rate': 0.04924786718552504, 'max_depth': 9}. Best is trial 33 with value: 42.74492114635182.\n"
     ]
    },
    {
     "name": "stdout",
     "output_type": "stream",
     "text": [
      "Early stopping, best iteration is:\n",
      "[334]\tvalid_0's rmse: 43.8119\n",
      "Training until validation scores don't improve for 100 rounds\n",
      "Early stopping, best iteration is:\n",
      "[18]\tvalid_0's rmse: 48.2691\n",
      "Training until validation scores don't improve for 100 rounds\n",
      "Early stopping, best iteration is:\n",
      "[16]\tvalid_0's rmse: 47.33\n",
      "Training until validation scores don't improve for 100 rounds\n",
      "Early stopping, best iteration is:\n",
      "[53]\tvalid_0's rmse: 48.0196\n",
      "Training until validation scores don't improve for 100 rounds\n",
      "Early stopping, best iteration is:\n",
      "[40]\tvalid_0's rmse: 47.0648\n",
      "Training until validation scores don't improve for 100 rounds\n"
     ]
    },
    {
     "name": "stderr",
     "output_type": "stream",
     "text": [
      "[I 2025-09-14 10:43:42,521] Trial 49 finished with value: 47.98162947402205 and parameters: {'lambda_l1': 0.00588767779961092, 'lambda_l2': 0.00015356393568108576, 'num_leaves': 79, 'feature_fraction': 0.5864951316258872, 'bagging_fraction': 0.40199825186963195, 'bagging_freq': 3, 'min_child_samples': 10, 'learning_rate': 0.2979799119232091, 'max_depth': 7}. Best is trial 33 with value: 42.74492114635182.\n"
     ]
    },
    {
     "name": "stdout",
     "output_type": "stream",
     "text": [
      "Early stopping, best iteration is:\n",
      "[19]\tvalid_0's rmse: 49.2246\n",
      "Training until validation scores don't improve for 100 rounds\n",
      "Early stopping, best iteration is:\n",
      "[622]\tvalid_0's rmse: 43.1488\n",
      "Training until validation scores don't improve for 100 rounds\n",
      "Early stopping, best iteration is:\n",
      "[431]\tvalid_0's rmse: 42.6845\n",
      "Training until validation scores don't improve for 100 rounds\n",
      "Early stopping, best iteration is:\n",
      "[290]\tvalid_0's rmse: 43.8379\n",
      "Training until validation scores don't improve for 100 rounds\n",
      "Early stopping, best iteration is:\n",
      "[681]\tvalid_0's rmse: 40.8396\n",
      "Training until validation scores don't improve for 100 rounds\n"
     ]
    },
    {
     "name": "stderr",
     "output_type": "stream",
     "text": [
      "[I 2025-09-14 10:43:49,465] Trial 50 finished with value: 43.20145509278781 and parameters: {'lambda_l1': 0.0017342774402773907, 'lambda_l2': 0.015805451541390087, 'num_leaves': 59, 'feature_fraction': 0.5400016129404612, 'bagging_fraction': 0.6855178882339286, 'bagging_freq': 2, 'min_child_samples': 32, 'learning_rate': 0.07450822243542385, 'max_depth': 6}. Best is trial 33 with value: 42.74492114635182.\n"
     ]
    },
    {
     "name": "stdout",
     "output_type": "stream",
     "text": [
      "Early stopping, best iteration is:\n",
      "[300]\tvalid_0's rmse: 45.4964\n",
      "Training until validation scores don't improve for 100 rounds\n",
      "Early stopping, best iteration is:\n",
      "[714]\tvalid_0's rmse: 44.5816\n",
      "Training until validation scores don't improve for 100 rounds\n",
      "Did not meet early stopping. Best iteration is:\n",
      "[961]\tvalid_0's rmse: 40.8649\n",
      "Training until validation scores don't improve for 100 rounds\n",
      "Early stopping, best iteration is:\n",
      "[194]\tvalid_0's rmse: 44.9866\n",
      "Training until validation scores don't improve for 100 rounds\n",
      "Early stopping, best iteration is:\n",
      "[881]\tvalid_0's rmse: 40.5231\n",
      "Training until validation scores don't improve for 100 rounds\n"
     ]
    },
    {
     "name": "stderr",
     "output_type": "stream",
     "text": [
      "[I 2025-09-14 10:44:04,270] Trial 51 finished with value: 42.96579115698493 and parameters: {'lambda_l1': 0.5360988612099309, 'lambda_l2': 0.7029839054805413, 'num_leaves': 22, 'feature_fraction': 0.6990309982390779, 'bagging_fraction': 0.7651293955022196, 'bagging_freq': 2, 'min_child_samples': 13, 'learning_rate': 0.03638179853422571, 'max_depth': 6}. Best is trial 33 with value: 42.74492114635182.\n"
     ]
    },
    {
     "name": "stdout",
     "output_type": "stream",
     "text": [
      "Did not meet early stopping. Best iteration is:\n",
      "[989]\tvalid_0's rmse: 43.8728\n",
      "Training until validation scores don't improve for 100 rounds\n",
      "Early stopping, best iteration is:\n",
      "[700]\tvalid_0's rmse: 43.3336\n",
      "Training until validation scores don't improve for 100 rounds\n",
      "Did not meet early stopping. Best iteration is:\n",
      "[965]\tvalid_0's rmse: 41.3461\n",
      "Training until validation scores don't improve for 100 rounds\n",
      "Early stopping, best iteration is:\n",
      "[329]\tvalid_0's rmse: 44.3268\n",
      "Training until validation scores don't improve for 100 rounds\n",
      "Did not meet early stopping. Best iteration is:\n",
      "[917]\tvalid_0's rmse: 39.7057\n",
      "Training until validation scores don't improve for 100 rounds\n"
     ]
    },
    {
     "name": "stderr",
     "output_type": "stream",
     "text": [
      "[I 2025-09-14 10:44:15,950] Trial 52 finished with value: 42.65742406297378 and parameters: {'lambda_l1': 2.7247581489265587, 'lambda_l2': 3.561123210576881, 'num_leaves': 152, 'feature_fraction': 0.6449243319586888, 'bagging_fraction': 0.7221447499020698, 'bagging_freq': 1, 'min_child_samples': 20, 'learning_rate': 0.038970344281618975, 'max_depth': 6}. Best is trial 52 with value: 42.65742406297378.\n"
     ]
    },
    {
     "name": "stdout",
     "output_type": "stream",
     "text": [
      "Did not meet early stopping. Best iteration is:\n",
      "[919]\tvalid_0's rmse: 44.5749\n",
      "Training until validation scores don't improve for 100 rounds\n",
      "Early stopping, best iteration is:\n",
      "[512]\tvalid_0's rmse: 43.3461\n",
      "Training until validation scores don't improve for 100 rounds\n",
      "Did not meet early stopping. Best iteration is:\n",
      "[962]\tvalid_0's rmse: 41.457\n",
      "Training until validation scores don't improve for 100 rounds\n",
      "Early stopping, best iteration is:\n",
      "[316]\tvalid_0's rmse: 44.8401\n",
      "Training until validation scores don't improve for 100 rounds\n",
      "Did not meet early stopping. Best iteration is:\n",
      "[997]\tvalid_0's rmse: 39.1359\n",
      "Training until validation scores don't improve for 100 rounds\n"
     ]
    },
    {
     "name": "stderr",
     "output_type": "stream",
     "text": [
      "[I 2025-09-14 10:44:28,021] Trial 53 finished with value: 42.787240673265636 and parameters: {'lambda_l1': 3.350922950011921, 'lambda_l2': 3.355848760892976, 'num_leaves': 153, 'feature_fraction': 0.5978770635484683, 'bagging_fraction': 0.713586917366722, 'bagging_freq': 1, 'min_child_samples': 20, 'learning_rate': 0.04514471787327113, 'max_depth': 7}. Best is trial 52 with value: 42.65742406297378.\n"
     ]
    },
    {
     "name": "stdout",
     "output_type": "stream",
     "text": [
      "Early stopping, best iteration is:\n",
      "[686]\tvalid_0's rmse: 45.1571\n",
      "Training until validation scores don't improve for 100 rounds\n",
      "Early stopping, best iteration is:\n",
      "[77]\tvalid_0's rmse: 45.8657\n",
      "Training until validation scores don't improve for 100 rounds\n",
      "Early stopping, best iteration is:\n",
      "[89]\tvalid_0's rmse: 45.091\n",
      "Training until validation scores don't improve for 100 rounds\n",
      "Early stopping, best iteration is:\n",
      "[52]\tvalid_0's rmse: 46.0306\n",
      "Training until validation scores don't improve for 100 rounds\n",
      "Early stopping, best iteration is:\n",
      "[290]\tvalid_0's rmse: 43.1008\n",
      "Training until validation scores don't improve for 100 rounds\n"
     ]
    },
    {
     "name": "stderr",
     "output_type": "stream",
     "text": [
      "[I 2025-09-14 10:44:31,594] Trial 54 finished with value: 45.11038941681314 and parameters: {'lambda_l1': 3.304783489566768, 'lambda_l2': 3.2629295920257153, 'num_leaves': 149, 'feature_fraction': 0.56893969608343, 'bagging_fraction': 0.7173467151499836, 'bagging_freq': 1, 'min_child_samples': 26, 'learning_rate': 0.21884341770170823, 'max_depth': 7}. Best is trial 52 with value: 42.65742406297378.\n"
     ]
    },
    {
     "name": "stdout",
     "output_type": "stream",
     "text": [
      "Early stopping, best iteration is:\n",
      "[118]\tvalid_0's rmse: 45.4639\n",
      "Training until validation scores don't improve for 100 rounds\n",
      "Early stopping, best iteration is:\n",
      "[528]\tvalid_0's rmse: 43.801\n",
      "Training until validation scores don't improve for 100 rounds\n",
      "Did not meet early stopping. Best iteration is:\n",
      "[965]\tvalid_0's rmse: 41.9635\n",
      "Training until validation scores don't improve for 100 rounds\n",
      "Early stopping, best iteration is:\n",
      "[479]\tvalid_0's rmse: 43.8216\n",
      "Training until validation scores don't improve for 100 rounds\n",
      "Did not meet early stopping. Best iteration is:\n",
      "[1000]\tvalid_0's rmse: 39.8014\n",
      "Training until validation scores don't improve for 100 rounds\n"
     ]
    },
    {
     "name": "stderr",
     "output_type": "stream",
     "text": [
      "[I 2025-09-14 10:44:46,296] Trial 55 finished with value: 42.736917114943274 and parameters: {'lambda_l1': 3.9652481395187116, 'lambda_l2': 0.0040142704992389405, 'num_leaves': 41, 'feature_fraction': 0.6046922989518366, 'bagging_fraction': 0.6748841605755893, 'bagging_freq': 1, 'min_child_samples': 20, 'learning_rate': 0.0224245474618525, 'max_depth': 8}. Best is trial 52 with value: 42.65742406297378.\n"
     ]
    },
    {
     "name": "stdout",
     "output_type": "stream",
     "text": [
      "Did not meet early stopping. Best iteration is:\n",
      "[977]\tvalid_0's rmse: 44.2971\n",
      "Training until validation scores don't improve for 100 rounds\n",
      "Early stopping, best iteration is:\n",
      "[675]\tvalid_0's rmse: 43.47\n",
      "Training until validation scores don't improve for 100 rounds\n",
      "Early stopping, best iteration is:\n",
      "[776]\tvalid_0's rmse: 41.5894\n",
      "Training until validation scores don't improve for 100 rounds\n",
      "Early stopping, best iteration is:\n",
      "[655]\tvalid_0's rmse: 43.6603\n",
      "Training until validation scores don't improve for 100 rounds\n",
      "Did not meet early stopping. Best iteration is:\n",
      "[998]\tvalid_0's rmse: 39.4636\n",
      "Training until validation scores don't improve for 100 rounds\n"
     ]
    },
    {
     "name": "stderr",
     "output_type": "stream",
     "text": [
      "[I 2025-09-14 10:45:02,598] Trial 56 finished with value: 42.42697120155473 and parameters: {'lambda_l1': 4.222010085711352, 'lambda_l2': 5.580397205984291, 'num_leaves': 266, 'feature_fraction': 0.6451057058562782, 'bagging_fraction': 0.6547346103320263, 'bagging_freq': 1, 'min_child_samples': 19, 'learning_rate': 0.024633283367829356, 'max_depth': 8}. Best is trial 56 with value: 42.42697120155473.\n"
     ]
    },
    {
     "name": "stdout",
     "output_type": "stream",
     "text": [
      "Did not meet early stopping. Best iteration is:\n",
      "[1000]\tvalid_0's rmse: 43.9515\n",
      "Training until validation scores don't improve for 100 rounds\n",
      "Early stopping, best iteration is:\n",
      "[158]\tvalid_0's rmse: 43.7875\n",
      "Training until validation scores don't improve for 100 rounds\n",
      "Early stopping, best iteration is:\n",
      "[386]\tvalid_0's rmse: 41.6698\n",
      "Training until validation scores don't improve for 100 rounds\n",
      "Early stopping, best iteration is:\n",
      "[103]\tvalid_0's rmse: 43.8703\n",
      "Training until validation scores don't improve for 100 rounds\n",
      "Early stopping, best iteration is:\n",
      "[734]\tvalid_0's rmse: 39.8112\n",
      "Training until validation scores don't improve for 100 rounds\n"
     ]
    },
    {
     "name": "stderr",
     "output_type": "stream",
     "text": [
      "[I 2025-09-14 10:45:10,680] Trial 57 finished with value: 43.0513136330314 and parameters: {'lambda_l1': 3.732699794780489, 'lambda_l2': 9.44785463907808, 'num_leaves': 293, 'feature_fraction': 0.6465719140421015, 'bagging_fraction': 0.5033906766157634, 'bagging_freq': 1, 'min_child_samples': 22, 'learning_rate': 0.09529703050768934, 'max_depth': 9}. Best is trial 56 with value: 42.42697120155473.\n"
     ]
    },
    {
     "name": "stdout",
     "output_type": "stream",
     "text": [
      "Early stopping, best iteration is:\n",
      "[272]\tvalid_0's rmse: 46.1177\n",
      "Training until validation scores don't improve for 100 rounds\n",
      "Early stopping, best iteration is:\n",
      "[770]\tvalid_0's rmse: 43.3638\n",
      "Training until validation scores don't improve for 100 rounds\n",
      "Early stopping, best iteration is:\n",
      "[509]\tvalid_0's rmse: 41.9742\n",
      "Training until validation scores don't improve for 100 rounds\n",
      "Early stopping, best iteration is:\n",
      "[231]\tvalid_0's rmse: 43.3394\n",
      "Training until validation scores don't improve for 100 rounds\n",
      "Early stopping, best iteration is:\n",
      "[708]\tvalid_0's rmse: 40.3435\n",
      "Training until validation scores don't improve for 100 rounds\n"
     ]
    },
    {
     "name": "stderr",
     "output_type": "stream",
     "text": [
      "[I 2025-09-14 10:45:24,667] Trial 58 finished with value: 42.70233355982369 and parameters: {'lambda_l1': 1.9254166644170867e-08, 'lambda_l2': 3.786932087659595, 'num_leaves': 240, 'feature_fraction': 0.6733115796309905, 'bagging_fraction': 0.6078797438457192, 'bagging_freq': 1, 'min_child_samples': 20, 'learning_rate': 0.044871351230691255, 'max_depth': 10}. Best is trial 56 with value: 42.42697120155473.\n"
     ]
    },
    {
     "name": "stdout",
     "output_type": "stream",
     "text": [
      "Early stopping, best iteration is:\n",
      "[464]\tvalid_0's rmse: 44.4907\n",
      "Training until validation scores don't improve for 100 rounds\n",
      "Early stopping, best iteration is:\n",
      "[428]\tvalid_0's rmse: 43.349\n",
      "Training until validation scores don't improve for 100 rounds\n",
      "Early stopping, best iteration is:\n",
      "[218]\tvalid_0's rmse: 42.6461\n",
      "Training until validation scores don't improve for 100 rounds\n",
      "Early stopping, best iteration is:\n",
      "[190]\tvalid_0's rmse: 44.3257\n",
      "Training until validation scores don't improve for 100 rounds\n",
      "Early stopping, best iteration is:\n",
      "[390]\tvalid_0's rmse: 40.6201\n",
      "Training until validation scores don't improve for 100 rounds\n"
     ]
    },
    {
     "name": "stderr",
     "output_type": "stream",
     "text": [
      "[I 2025-09-14 10:45:33,442] Trial 59 finished with value: 43.2722381431497 and parameters: {'lambda_l1': 1.121752244680981e-06, 'lambda_l2': 1.1591386173076234e-08, 'num_leaves': 253, 'feature_fraction': 0.6797536806916397, 'bagging_fraction': 0.6092133361450305, 'bagging_freq': 2, 'min_child_samples': 26, 'learning_rate': 0.06939601512871442, 'max_depth': 11}. Best is trial 56 with value: 42.42697120155473.\n"
     ]
    },
    {
     "name": "stdout",
     "output_type": "stream",
     "text": [
      "Early stopping, best iteration is:\n",
      "[236]\tvalid_0's rmse: 45.4204\n",
      "Training until validation scores don't improve for 100 rounds\n",
      "Early stopping, best iteration is:\n",
      "[845]\tvalid_0's rmse: 43.2023\n",
      "Training until validation scores don't improve for 100 rounds\n",
      "Early stopping, best iteration is:\n",
      "[708]\tvalid_0's rmse: 41.5498\n",
      "Training until validation scores don't improve for 100 rounds\n",
      "Early stopping, best iteration is:\n",
      "[380]\tvalid_0's rmse: 43.1132\n",
      "Training until validation scores don't improve for 100 rounds\n",
      "Early stopping, best iteration is:\n",
      "[871]\tvalid_0's rmse: 40.5096\n",
      "Training until validation scores don't improve for 100 rounds\n"
     ]
    },
    {
     "name": "stderr",
     "output_type": "stream",
     "text": [
      "[I 2025-09-14 10:45:49,975] Trial 60 finished with value: 42.72502617211587 and parameters: {'lambda_l1': 7.622392377834336e-06, 'lambda_l2': 5.565947180648385, 'num_leaves': 271, 'feature_fraction': 0.6387504519734821, 'bagging_fraction': 0.5709042243381357, 'bagging_freq': 1, 'min_child_samples': 20, 'learning_rate': 0.02722534470378137, 'max_depth': 10}. Best is trial 56 with value: 42.42697120155473.\n"
     ]
    },
    {
     "name": "stdout",
     "output_type": "stream",
     "text": [
      "Early stopping, best iteration is:\n",
      "[603]\tvalid_0's rmse: 45.2502\n",
      "Training until validation scores don't improve for 100 rounds\n",
      "Early stopping, best iteration is:\n",
      "[519]\tvalid_0's rmse: 42.9836\n",
      "Training until validation scores don't improve for 100 rounds\n",
      "Early stopping, best iteration is:\n",
      "[615]\tvalid_0's rmse: 41.5196\n",
      "Training until validation scores don't improve for 100 rounds\n",
      "Early stopping, best iteration is:\n",
      "[490]\tvalid_0's rmse: 43.2753\n",
      "Training until validation scores don't improve for 100 rounds\n",
      "Did not meet early stopping. Best iteration is:\n",
      "[941]\tvalid_0's rmse: 39.9586\n",
      "Training until validation scores don't improve for 100 rounds\n"
     ]
    },
    {
     "name": "stderr",
     "output_type": "stream",
     "text": [
      "[I 2025-09-14 10:46:07,216] Trial 61 finished with value: 42.403457658330616 and parameters: {'lambda_l1': 3.275221395767398e-08, 'lambda_l2': 4.544826726116212, 'num_leaves': 270, 'feature_fraction': 0.6327462563880448, 'bagging_fraction': 0.569369361822475, 'bagging_freq': 1, 'min_child_samples': 18, 'learning_rate': 0.02894817861166379, 'max_depth': 10}. Best is trial 61 with value: 42.403457658330616.\n"
     ]
    },
    {
     "name": "stdout",
     "output_type": "stream",
     "text": [
      "Early stopping, best iteration is:\n",
      "[889]\tvalid_0's rmse: 44.2802\n",
      "Training until validation scores don't improve for 100 rounds\n",
      "Early stopping, best iteration is:\n",
      "[665]\tvalid_0's rmse: 42.9061\n",
      "Training until validation scores don't improve for 100 rounds\n",
      "Early stopping, best iteration is:\n",
      "[541]\tvalid_0's rmse: 41.9874\n",
      "Training until validation scores don't improve for 100 rounds\n",
      "Early stopping, best iteration is:\n",
      "[231]\tvalid_0's rmse: 43.4978\n",
      "Training until validation scores don't improve for 100 rounds\n",
      "Early stopping, best iteration is:\n",
      "[746]\tvalid_0's rmse: 40.7414\n",
      "Training until validation scores don't improve for 100 rounds\n"
     ]
    },
    {
     "name": "stderr",
     "output_type": "stream",
     "text": [
      "[I 2025-09-14 10:46:21,102] Trial 62 finished with value: 42.74978378961053 and parameters: {'lambda_l1': 1.2448427088174476e-08, 'lambda_l2': 3.426868870876422, 'num_leaves': 271, 'feature_fraction': 0.637561086821597, 'bagging_fraction': 0.5410583917804715, 'bagging_freq': 1, 'min_child_samples': 19, 'learning_rate': 0.03973827131094008, 'max_depth': 10}. Best is trial 61 with value: 42.403457658330616.\n"
     ]
    },
    {
     "name": "stdout",
     "output_type": "stream",
     "text": [
      "Early stopping, best iteration is:\n",
      "[585]\tvalid_0's rmse: 44.6162\n",
      "Training until validation scores don't improve for 100 rounds\n",
      "Early stopping, best iteration is:\n",
      "[237]\tvalid_0's rmse: 43.3478\n",
      "Training until validation scores don't improve for 100 rounds\n",
      "Early stopping, best iteration is:\n",
      "[366]\tvalid_0's rmse: 42.2598\n",
      "Training until validation scores don't improve for 100 rounds\n",
      "Early stopping, best iteration is:\n",
      "[231]\tvalid_0's rmse: 43.9524\n",
      "Training until validation scores don't improve for 100 rounds\n",
      "Did not meet early stopping. Best iteration is:\n",
      "[998]\tvalid_0's rmse: 39.4523\n",
      "Training until validation scores don't improve for 100 rounds\n"
     ]
    },
    {
     "name": "stderr",
     "output_type": "stream",
     "text": [
      "[I 2025-09-14 10:46:34,877] Trial 63 finished with value: 42.6501999231596 and parameters: {'lambda_l1': 6.692834187581552e-08, 'lambda_l2': 5.229201572925485, 'num_leaves': 268, 'feature_fraction': 0.6612999504906442, 'bagging_fraction': 0.5802398856908111, 'bagging_freq': 1, 'min_child_samples': 15, 'learning_rate': 0.052604805127940024, 'max_depth': 11}. Best is trial 61 with value: 42.403457658330616.\n"
     ]
    },
    {
     "name": "stdout",
     "output_type": "stream",
     "text": [
      "Early stopping, best iteration is:\n",
      "[338]\tvalid_0's rmse: 44.2386\n",
      "Training until validation scores don't improve for 100 rounds\n",
      "Early stopping, best iteration is:\n",
      "[164]\tvalid_0's rmse: 43.8807\n",
      "Training until validation scores don't improve for 100 rounds\n",
      "Early stopping, best iteration is:\n",
      "[386]\tvalid_0's rmse: 41.6715\n",
      "Training until validation scores don't improve for 100 rounds\n",
      "Early stopping, best iteration is:\n",
      "[131]\tvalid_0's rmse: 43.6612\n",
      "Training until validation scores don't improve for 100 rounds\n",
      "Early stopping, best iteration is:\n",
      "[498]\tvalid_0's rmse: 41.1078\n",
      "Training until validation scores don't improve for 100 rounds\n"
     ]
    },
    {
     "name": "stderr",
     "output_type": "stream",
     "text": [
      "[I 2025-09-14 10:46:49,354] Trial 64 finished with value: 42.80980836358613 and parameters: {'lambda_l1': 1.6162838033461052e-07, 'lambda_l2': 4.54112996342979, 'num_leaves': 266, 'feature_fraction': 0.6640240438086192, 'bagging_fraction': 0.5150977551907199, 'bagging_freq': 1, 'min_child_samples': 8, 'learning_rate': 0.05671968379337403, 'max_depth': 11}. Best is trial 61 with value: 42.403457658330616.\n"
     ]
    },
    {
     "name": "stdout",
     "output_type": "stream",
     "text": [
      "Early stopping, best iteration is:\n",
      "[284]\tvalid_0's rmse: 43.7279\n",
      "Training until validation scores don't improve for 100 rounds\n",
      "Early stopping, best iteration is:\n",
      "[47]\tvalid_0's rmse: 44.7055\n",
      "Training until validation scores don't improve for 100 rounds\n",
      "Early stopping, best iteration is:\n",
      "[32]\tvalid_0's rmse: 44.9834\n",
      "Training until validation scores don't improve for 100 rounds\n",
      "Early stopping, best iteration is:\n",
      "[21]\tvalid_0's rmse: 47.4866\n",
      "Training until validation scores don't improve for 100 rounds\n",
      "Early stopping, best iteration is:\n",
      "[406]\tvalid_0's rmse: 43.9303\n",
      "Training until validation scores don't improve for 100 rounds\n"
     ]
    },
    {
     "name": "stderr",
     "output_type": "stream",
     "text": [
      "[I 2025-09-14 10:46:55,525] Trial 65 finished with value: 45.672597252432 and parameters: {'lambda_l1': 2.5005763273235206e-08, 'lambda_l2': 1.7315509906810285, 'num_leaves': 235, 'feature_fraction': 0.676442770597169, 'bagging_fraction': 0.5886042883445118, 'bagging_freq': 1, 'min_child_samples': 15, 'learning_rate': 0.278637313398468, 'max_depth': 12}. Best is trial 61 with value: 42.403457658330616.\n"
     ]
    },
    {
     "name": "stdout",
     "output_type": "stream",
     "text": [
      "Early stopping, best iteration is:\n",
      "[59]\tvalid_0's rmse: 47.2572\n",
      "Training until validation scores don't improve for 100 rounds\n",
      "Early stopping, best iteration is:\n",
      "[272]\tvalid_0's rmse: 43.7634\n",
      "Training until validation scores don't improve for 100 rounds\n",
      "Early stopping, best iteration is:\n",
      "[272]\tvalid_0's rmse: 41.2373\n",
      "Training until validation scores don't improve for 100 rounds\n",
      "Early stopping, best iteration is:\n",
      "[254]\tvalid_0's rmse: 43.3797\n",
      "Training until validation scores don't improve for 100 rounds\n",
      "Early stopping, best iteration is:\n",
      "[574]\tvalid_0's rmse: 40.5621\n",
      "Training until validation scores don't improve for 100 rounds\n"
     ]
    },
    {
     "name": "stderr",
     "output_type": "stream",
     "text": [
      "[I 2025-09-14 10:47:05,965] Trial 66 finished with value: 42.987185675082394 and parameters: {'lambda_l1': 8.102633351501705e-08, 'lambda_l2': 6.179386632259005, 'num_leaves': 294, 'feature_fraction': 0.6117402389115145, 'bagging_fraction': 0.4583497710173239, 'bagging_freq': 1, 'min_child_samples': 19, 'learning_rate': 0.06522864831172007, 'max_depth': 10}. Best is trial 61 with value: 42.403457658330616.\n"
     ]
    },
    {
     "name": "stdout",
     "output_type": "stream",
     "text": [
      "Early stopping, best iteration is:\n",
      "[246]\tvalid_0's rmse: 45.9936\n",
      "Training until validation scores don't improve for 100 rounds\n",
      "Early stopping, best iteration is:\n",
      "[39]\tvalid_0's rmse: 45.1134\n",
      "Training until validation scores don't improve for 100 rounds\n",
      "Early stopping, best iteration is:\n",
      "[80]\tvalid_0's rmse: 44.0329\n",
      "Training until validation scores don't improve for 100 rounds\n",
      "Early stopping, best iteration is:\n",
      "[51]\tvalid_0's rmse: 45.2533\n",
      "Training until validation scores don't improve for 100 rounds\n",
      "Did not meet early stopping. Best iteration is:\n",
      "[990]\tvalid_0's rmse: 41.5733\n",
      "Training until validation scores don't improve for 100 rounds\n"
     ]
    },
    {
     "name": "stderr",
     "output_type": "stream",
     "text": [
      "[I 2025-09-14 10:47:15,187] Trial 67 finished with value: 44.674568571466004 and parameters: {'lambda_l1': 5.83063171836009e-06, 'lambda_l2': 1.9104031393199625, 'num_leaves': 254, 'feature_fraction': 0.722404799989587, 'bagging_fraction': 0.5493717611327126, 'bagging_freq': 2, 'min_child_samples': 15, 'learning_rate': 0.16154110718855585, 'max_depth': 11}. Best is trial 61 with value: 42.403457658330616.\n"
     ]
    },
    {
     "name": "stdout",
     "output_type": "stream",
     "text": [
      "Early stopping, best iteration is:\n",
      "[105]\tvalid_0's rmse: 47.3999\n",
      "Training until validation scores don't improve for 100 rounds\n",
      "Early stopping, best iteration is:\n",
      "[474]\tvalid_0's rmse: 42.8401\n",
      "Training until validation scores don't improve for 100 rounds\n",
      "Early stopping, best iteration is:\n",
      "[393]\tvalid_0's rmse: 41.6221\n",
      "Training until validation scores don't improve for 100 rounds\n",
      "Early stopping, best iteration is:\n",
      "[303]\tvalid_0's rmse: 43.9782\n",
      "Training until validation scores don't improve for 100 rounds\n",
      "Early stopping, best iteration is:\n",
      "[860]\tvalid_0's rmse: 40.5324\n",
      "Training until validation scores don't improve for 100 rounds\n"
     ]
    },
    {
     "name": "stderr",
     "output_type": "stream",
     "text": [
      "[I 2025-09-14 10:47:28,863] Trial 68 finished with value: 42.74802972532962 and parameters: {'lambda_l1': 1.1787885988509205e-07, 'lambda_l2': 9.951746002886152, 'num_leaves': 279, 'feature_fraction': 0.6516844815047808, 'bagging_fraction': 0.6194223749291441, 'bagging_freq': 2, 'min_child_samples': 26, 'learning_rate': 0.05110006668425092, 'max_depth': 10}. Best is trial 61 with value: 42.403457658330616.\n"
     ]
    },
    {
     "name": "stdout",
     "output_type": "stream",
     "text": [
      "Early stopping, best iteration is:\n",
      "[639]\tvalid_0's rmse: 44.7673\n",
      "Training until validation scores don't improve for 100 rounds\n",
      "Early stopping, best iteration is:\n",
      "[233]\tvalid_0's rmse: 44.7791\n",
      "Training until validation scores don't improve for 100 rounds\n",
      "Early stopping, best iteration is:\n",
      "[179]\tvalid_0's rmse: 42.7382\n",
      "Training until validation scores don't improve for 100 rounds\n",
      "Early stopping, best iteration is:\n",
      "[72]\tvalid_0's rmse: 44.6645\n",
      "Training until validation scores don't improve for 100 rounds\n",
      "Early stopping, best iteration is:\n",
      "[132]\tvalid_0's rmse: 41.8415\n",
      "Training until validation scores don't improve for 100 rounds\n"
     ]
    },
    {
     "name": "stderr",
     "output_type": "stream",
     "text": [
      "[I 2025-09-14 10:47:39,083] Trial 69 finished with value: 43.8090977734853 and parameters: {'lambda_l1': 2.868121812724813e-07, 'lambda_l2': 0.4077137829386261, 'num_leaves': 215, 'feature_fraction': 0.6298902085623119, 'bagging_fraction': 0.6535999024096715, 'bagging_freq': 1, 'min_child_samples': 8, 'learning_rate': 0.07714991379774461, 'max_depth': 12}. Best is trial 61 with value: 42.403457658330616.\n"
     ]
    },
    {
     "name": "stdout",
     "output_type": "stream",
     "text": [
      "Early stopping, best iteration is:\n",
      "[131]\tvalid_0's rmse: 45.0222\n",
      "Training until validation scores don't improve for 100 rounds\n",
      "Did not meet early stopping. Best iteration is:\n",
      "[993]\tvalid_0's rmse: 44.1695\n",
      "Training until validation scores don't improve for 100 rounds\n",
      "Did not meet early stopping. Best iteration is:\n",
      "[1000]\tvalid_0's rmse: 42.7422\n",
      "Training until validation scores don't improve for 100 rounds\n",
      "Early stopping, best iteration is:\n",
      "[812]\tvalid_0's rmse: 43.9068\n",
      "Training until validation scores don't improve for 100 rounds\n",
      "Did not meet early stopping. Best iteration is:\n",
      "[1000]\tvalid_0's rmse: 42.9469\n",
      "Training until validation scores don't improve for 100 rounds\n"
     ]
    },
    {
     "name": "stderr",
     "output_type": "stream",
     "text": [
      "[I 2025-09-14 10:47:48,764] Trial 70 finished with value: 44.06541807002414 and parameters: {'lambda_l1': 3.345164543621502e-08, 'lambda_l2': 0.9142697576249933, 'num_leaves': 244, 'feature_fraction': 0.6837845799750244, 'bagging_fraction': 0.57709753639462, 'bagging_freq': 1, 'min_child_samples': 83, 'learning_rate': 0.03585867023790448, 'max_depth': 11}. Best is trial 61 with value: 42.403457658330616.\n"
     ]
    },
    {
     "name": "stdout",
     "output_type": "stream",
     "text": [
      "Did not meet early stopping. Best iteration is:\n",
      "[979]\tvalid_0's rmse: 46.5617\n",
      "Training until validation scores don't improve for 100 rounds\n",
      "Did not meet early stopping. Best iteration is:\n",
      "[1000]\tvalid_0's rmse: 43.2257\n",
      "Training until validation scores don't improve for 100 rounds\n",
      "Did not meet early stopping. Best iteration is:\n",
      "[955]\tvalid_0's rmse: 41.491\n",
      "Training until validation scores don't improve for 100 rounds\n",
      "Early stopping, best iteration is:\n",
      "[740]\tvalid_0's rmse: 42.8756\n",
      "Training until validation scores don't improve for 100 rounds\n",
      "Did not meet early stopping. Best iteration is:\n",
      "[904]\tvalid_0's rmse: 40.5097\n",
      "Training until validation scores don't improve for 100 rounds\n"
     ]
    },
    {
     "name": "stderr",
     "output_type": "stream",
     "text": [
      "[I 2025-09-14 10:48:07,062] Trial 71 finished with value: 42.59670224895168 and parameters: {'lambda_l1': 4.7822927643857166e-05, 'lambda_l2': 2.5066974324489144, 'num_leaves': 265, 'feature_fraction': 0.604727522598103, 'bagging_fraction': 0.5936967722103392, 'bagging_freq': 1, 'min_child_samples': 24, 'learning_rate': 0.023051427222243917, 'max_depth': 10}. Best is trial 61 with value: 42.403457658330616.\n"
     ]
    },
    {
     "name": "stdout",
     "output_type": "stream",
     "text": [
      "Early stopping, best iteration is:\n",
      "[826]\tvalid_0's rmse: 44.8816\n",
      "Training until validation scores don't improve for 100 rounds\n",
      "Did not meet early stopping. Best iteration is:\n",
      "[961]\tvalid_0's rmse: 43.2593\n",
      "Training until validation scores don't improve for 100 rounds\n",
      "Did not meet early stopping. Best iteration is:\n",
      "[946]\tvalid_0's rmse: 41.471\n",
      "Training until validation scores don't improve for 100 rounds\n",
      "Early stopping, best iteration is:\n",
      "[479]\tvalid_0's rmse: 43.2777\n",
      "Training until validation scores don't improve for 100 rounds\n",
      "Did not meet early stopping. Best iteration is:\n",
      "[941]\tvalid_0's rmse: 39.8015\n",
      "Training until validation scores don't improve for 100 rounds\n"
     ]
    },
    {
     "name": "stderr",
     "output_type": "stream",
     "text": [
      "[I 2025-09-14 10:48:27,233] Trial 72 finished with value: 42.43698092013655 and parameters: {'lambda_l1': 4.3864117298722776e-05, 'lambda_l2': 2.528750779252337, 'num_leaves': 261, 'feature_fraction': 0.6077740289012986, 'bagging_fraction': 0.5951408174424133, 'bagging_freq': 1, 'min_child_samples': 18, 'learning_rate': 0.019859138530678968, 'max_depth': 10}. Best is trial 61 with value: 42.403457658330616.\n"
     ]
    },
    {
     "name": "stdout",
     "output_type": "stream",
     "text": [
      "Did not meet early stopping. Best iteration is:\n",
      "[975]\tvalid_0's rmse: 44.3754\n",
      "Training until validation scores don't improve for 100 rounds\n",
      "Did not meet early stopping. Best iteration is:\n",
      "[1000]\tvalid_0's rmse: 42.5821\n",
      "Training until validation scores don't improve for 100 rounds\n",
      "Early stopping, best iteration is:\n",
      "[715]\tvalid_0's rmse: 42.2162\n",
      "Training until validation scores don't improve for 100 rounds\n",
      "Early stopping, best iteration is:\n",
      "[652]\tvalid_0's rmse: 43.0607\n",
      "Training until validation scores don't improve for 100 rounds\n",
      "Did not meet early stopping. Best iteration is:\n",
      "[1000]\tvalid_0's rmse: 40.8617\n",
      "Training until validation scores don't improve for 100 rounds\n"
     ]
    },
    {
     "name": "stderr",
     "output_type": "stream",
     "text": [
      "[I 2025-09-14 10:48:44,950] Trial 73 finished with value: 42.743978476522955 and parameters: {'lambda_l1': 0.00013906823448813898, 'lambda_l2': 2.23975741764016, 'num_leaves': 265, 'feature_fraction': 0.6571518377466326, 'bagging_fraction': 0.5931125952505668, 'bagging_freq': 1, 'min_child_samples': 24, 'learning_rate': 0.019494945921623257, 'max_depth': 10}. Best is trial 61 with value: 42.403457658330616.\n"
     ]
    },
    {
     "name": "stdout",
     "output_type": "stream",
     "text": [
      "Early stopping, best iteration is:\n",
      "[826]\tvalid_0's rmse: 44.9992\n",
      "Training until validation scores don't improve for 100 rounds\n",
      "Early stopping, best iteration is:\n",
      "[572]\tvalid_0's rmse: 43.3327\n",
      "Training until validation scores don't improve for 100 rounds\n",
      "Early stopping, best iteration is:\n",
      "[233]\tvalid_0's rmse: 42.2717\n",
      "Training until validation scores don't improve for 100 rounds\n",
      "Early stopping, best iteration is:\n",
      "[140]\tvalid_0's rmse: 44.2335\n",
      "Training until validation scores don't improve for 100 rounds\n",
      "Did not meet early stopping. Best iteration is:\n",
      "[998]\tvalid_0's rmse: 39.6522\n",
      "Training until validation scores don't improve for 100 rounds\n"
     ]
    },
    {
     "name": "stderr",
     "output_type": "stream",
     "text": [
      "[I 2025-09-14 10:48:58,374] Trial 74 finished with value: 42.76171445599413 and parameters: {'lambda_l1': 4.16442949271457e-05, 'lambda_l2': 0.18471466634493397, 'num_leaves': 283, 'feature_fraction': 0.6313145593754425, 'bagging_fraction': 0.5303511826980286, 'bagging_freq': 1, 'min_child_samples': 14, 'learning_rate': 0.041786805948598106, 'max_depth': 11}. Best is trial 61 with value: 42.403457658330616.\n"
     ]
    },
    {
     "name": "stdout",
     "output_type": "stream",
     "text": [
      "Early stopping, best iteration is:\n",
      "[316]\tvalid_0's rmse: 44.3183\n",
      "Training until validation scores don't improve for 100 rounds\n",
      "Early stopping, best iteration is:\n",
      "[237]\tvalid_0's rmse: 43.7061\n",
      "Training until validation scores don't improve for 100 rounds\n",
      "Early stopping, best iteration is:\n",
      "[212]\tvalid_0's rmse: 42.6944\n",
      "Training until validation scores don't improve for 100 rounds\n",
      "Early stopping, best iteration is:\n",
      "[234]\tvalid_0's rmse: 43.8172\n",
      "Training until validation scores don't improve for 100 rounds\n",
      "Early stopping, best iteration is:\n",
      "[854]\tvalid_0's rmse: 38.816\n",
      "Training until validation scores don't improve for 100 rounds\n"
     ]
    },
    {
     "name": "stderr",
     "output_type": "stream",
     "text": [
      "[I 2025-09-14 10:49:08,766] Trial 75 finished with value: 42.82023374650929 and parameters: {'lambda_l1': 5.2605056950134575e-06, 'lambda_l2': 0.9365464933154534, 'num_leaves': 229, 'feature_fraction': 0.6167545101054518, 'bagging_fraction': 0.6261601529279132, 'bagging_freq': 1, 'min_child_samples': 18, 'learning_rate': 0.05348129200145044, 'max_depth': 10}. Best is trial 61 with value: 42.403457658330616.\n"
     ]
    },
    {
     "name": "stdout",
     "output_type": "stream",
     "text": [
      "Early stopping, best iteration is:\n",
      "[366]\tvalid_0's rmse: 45.0675\n",
      "Training until validation scores don't improve for 100 rounds\n",
      "Early stopping, best iteration is:\n",
      "[94]\tvalid_0's rmse: 44.4945\n",
      "Training until validation scores don't improve for 100 rounds\n",
      "Early stopping, best iteration is:\n",
      "[159]\tvalid_0's rmse: 42.5858\n",
      "Training until validation scores don't improve for 100 rounds\n",
      "Early stopping, best iteration is:\n",
      "[140]\tvalid_0's rmse: 44.0758\n",
      "Training until validation scores don't improve for 100 rounds\n",
      "Early stopping, best iteration is:\n",
      "[333]\tvalid_0's rmse: 41.1002\n",
      "Training until validation scores don't improve for 100 rounds\n"
     ]
    },
    {
     "name": "stderr",
     "output_type": "stream",
     "text": [
      "[I 2025-09-14 10:49:15,789] Trial 76 finished with value: 43.529047338807416 and parameters: {'lambda_l1': 1.1529781311286057e-05, 'lambda_l2': 5.400475075468629, 'num_leaves': 300, 'feature_fraction': 0.7645532675472655, 'bagging_fraction': 0.5576602915687101, 'bagging_freq': 2, 'min_child_samples': 17, 'learning_rate': 0.10675770378836187, 'max_depth': 9}. Best is trial 61 with value: 42.403457658330616.\n"
     ]
    },
    {
     "name": "stdout",
     "output_type": "stream",
     "text": [
      "Early stopping, best iteration is:\n",
      "[146]\tvalid_0's rmse: 45.389\n",
      "Training until validation scores don't improve for 100 rounds\n",
      "Early stopping, best iteration is:\n",
      "[644]\tvalid_0's rmse: 43.5833\n",
      "Training until validation scores don't improve for 100 rounds\n",
      "Early stopping, best iteration is:\n",
      "[541]\tvalid_0's rmse: 42.276\n",
      "Training until validation scores don't improve for 100 rounds\n",
      "Early stopping, best iteration is:\n",
      "[470]\tvalid_0's rmse: 43.5837\n",
      "Training until validation scores don't improve for 100 rounds\n",
      "Did not meet early stopping. Best iteration is:\n",
      "[949]\tvalid_0's rmse: 40.6309\n",
      "Training until validation scores don't improve for 100 rounds\n"
     ]
    },
    {
     "name": "stderr",
     "output_type": "stream",
     "text": [
      "[I 2025-09-14 10:49:32,624] Trial 77 finished with value: 43.017710103920386 and parameters: {'lambda_l1': 1.0237608635653504e-08, 'lambda_l2': 2.5005444373455608, 'num_leaves': 247, 'feature_fraction': 0.6956129801289197, 'bagging_fraction': 0.643139803265051, 'bagging_freq': 1, 'min_child_samples': 28, 'learning_rate': 0.030044270908599346, 'max_depth': 11}. Best is trial 61 with value: 42.403457658330616.\n"
     ]
    },
    {
     "name": "stdout",
     "output_type": "stream",
     "text": [
      "Did not meet early stopping. Best iteration is:\n",
      "[989]\tvalid_0's rmse: 45.0146\n",
      "Training until validation scores don't improve for 100 rounds\n",
      "Did not meet early stopping. Best iteration is:\n",
      "[989]\tvalid_0's rmse: 43.0897\n",
      "Training until validation scores don't improve for 100 rounds\n",
      "Did not meet early stopping. Best iteration is:\n",
      "[994]\tvalid_0's rmse: 42.2315\n",
      "Training until validation scores don't improve for 100 rounds\n",
      "Early stopping, best iteration is:\n",
      "[716]\tvalid_0's rmse: 43.1583\n",
      "Training until validation scores don't improve for 100 rounds\n",
      "Did not meet early stopping. Best iteration is:\n",
      "[983]\tvalid_0's rmse: 41.0997\n",
      "Training until validation scores don't improve for 100 rounds\n"
     ]
    },
    {
     "name": "stderr",
     "output_type": "stream",
     "text": [
      "[I 2025-09-14 10:49:51,229] Trial 78 finished with value: 42.95169764663139 and parameters: {'lambda_l1': 0.0008118168455948427, 'lambda_l2': 0.5629194119980375, 'num_leaves': 274, 'feature_fraction': 0.6441238445418919, 'bagging_fraction': 0.5745547528540096, 'bagging_freq': 1, 'min_child_samples': 24, 'learning_rate': 0.017993822173190566, 'max_depth': 10}. Best is trial 61 with value: 42.403457658330616.\n"
     ]
    },
    {
     "name": "stdout",
     "output_type": "stream",
     "text": [
      "Did not meet early stopping. Best iteration is:\n",
      "[976]\tvalid_0's rmse: 45.1792\n",
      "Training until validation scores don't improve for 100 rounds\n",
      "Early stopping, best iteration is:\n",
      "[166]\tvalid_0's rmse: 44.2432\n",
      "Training until validation scores don't improve for 100 rounds\n",
      "Early stopping, best iteration is:\n",
      "[401]\tvalid_0's rmse: 40.1524\n",
      "Training until validation scores don't improve for 100 rounds\n",
      "Early stopping, best iteration is:\n",
      "[133]\tvalid_0's rmse: 44.7778\n",
      "Training until validation scores don't improve for 100 rounds\n",
      "Early stopping, best iteration is:\n",
      "[400]\tvalid_0's rmse: 41.1171\n",
      "Training until validation scores don't improve for 100 rounds\n"
     ]
    },
    {
     "name": "stderr",
     "output_type": "stream",
     "text": [
      "[I 2025-09-14 10:50:03,847] Trial 79 finished with value: 42.94221181957666 and parameters: {'lambda_l1': 0.0001109347387990066, 'lambda_l2': 1.1971308392417523, 'num_leaves': 262, 'feature_fraction': 0.6697304475750233, 'bagging_fraction': 0.4864652774912357, 'bagging_freq': 1, 'min_child_samples': 7, 'learning_rate': 0.0656386041984694, 'max_depth': 9}. Best is trial 61 with value: 42.403457658330616.\n"
     ]
    },
    {
     "name": "stdout",
     "output_type": "stream",
     "text": [
      "Early stopping, best iteration is:\n",
      "[201]\tvalid_0's rmse: 44.4204\n",
      "Training until validation scores don't improve for 100 rounds\n",
      "Early stopping, best iteration is:\n",
      "[368]\tvalid_0's rmse: 43.0399\n",
      "Training until validation scores don't improve for 100 rounds\n",
      "Early stopping, best iteration is:\n",
      "[319]\tvalid_0's rmse: 42.0183\n",
      "Training until validation scores don't improve for 100 rounds\n",
      "Early stopping, best iteration is:\n",
      "[209]\tvalid_0's rmse: 43.8141\n",
      "Training until validation scores don't improve for 100 rounds\n",
      "Early stopping, best iteration is:\n",
      "[671]\tvalid_0's rmse: 40.2555\n",
      "Training until validation scores don't improve for 100 rounds\n"
     ]
    },
    {
     "name": "stderr",
     "output_type": "stream",
     "text": [
      "[I 2025-09-14 10:50:20,268] Trial 80 finished with value: 42.90545780729842 and parameters: {'lambda_l1': 1.6600293018976803e-05, 'lambda_l2': 5.44929229761704, 'num_leaves': 205, 'feature_fraction': 0.714585737380693, 'bagging_fraction': 0.5987196635122882, 'bagging_freq': 2, 'min_child_samples': 13, 'learning_rate': 0.04438567943760502, 'max_depth': 12}. Best is trial 61 with value: 42.403457658330616.\n"
     ]
    },
    {
     "name": "stdout",
     "output_type": "stream",
     "text": [
      "Early stopping, best iteration is:\n",
      "[269]\tvalid_0's rmse: 45.3995\n",
      "Training until validation scores don't improve for 100 rounds\n",
      "Did not meet early stopping. Best iteration is:\n",
      "[994]\tvalid_0's rmse: 43.28\n",
      "Training until validation scores don't improve for 100 rounds\n",
      "Early stopping, best iteration is:\n",
      "[801]\tvalid_0's rmse: 41.8538\n",
      "Training until validation scores don't improve for 100 rounds\n",
      "Early stopping, best iteration is:\n",
      "[660]\tvalid_0's rmse: 43.426\n",
      "Training until validation scores don't improve for 100 rounds\n",
      "Did not meet early stopping. Best iteration is:\n",
      "[1000]\tvalid_0's rmse: 40.1467\n",
      "Training until validation scores don't improve for 100 rounds\n"
     ]
    },
    {
     "name": "stderr",
     "output_type": "stream",
     "text": [
      "[I 2025-09-14 10:50:38,940] Trial 81 finished with value: 42.67963165257433 and parameters: {'lambda_l1': 3.804159750074787e-08, 'lambda_l2': 7.718061120894763, 'num_leaves': 249, 'feature_fraction': 0.6080179660332761, 'bagging_fraction': 0.6775141238905238, 'bagging_freq': 1, 'min_child_samples': 20, 'learning_rate': 0.020513652395577307, 'max_depth': 9}. Best is trial 61 with value: 42.403457658330616.\n"
     ]
    },
    {
     "name": "stdout",
     "output_type": "stream",
     "text": [
      "Did not meet early stopping. Best iteration is:\n",
      "[995]\tvalid_0's rmse: 44.6917\n",
      "Training until validation scores don't improve for 100 rounds\n",
      "Early stopping, best iteration is:\n",
      "[768]\tvalid_0's rmse: 43.3154\n",
      "Training until validation scores don't improve for 100 rounds\n",
      "Early stopping, best iteration is:\n",
      "[633]\tvalid_0's rmse: 41.7234\n",
      "Training until validation scores don't improve for 100 rounds\n",
      "Early stopping, best iteration is:\n",
      "[333]\tvalid_0's rmse: 43.1629\n",
      "Training until validation scores don't improve for 100 rounds\n",
      "Did not meet early stopping. Best iteration is:\n",
      "[945]\tvalid_0's rmse: 39.6556\n",
      "Training until validation scores don't improve for 100 rounds\n"
     ]
    },
    {
     "name": "stderr",
     "output_type": "stream",
     "text": [
      "[I 2025-09-14 10:50:57,068] Trial 82 finished with value: 42.378015751940964 and parameters: {'lambda_l1': 4.236179753695151e-08, 'lambda_l2': 6.410772331346815, 'num_leaves': 257, 'feature_fraction': 0.6292168851039589, 'bagging_fraction': 0.617094491259644, 'bagging_freq': 1, 'min_child_samples': 18, 'learning_rate': 0.030625981448698894, 'max_depth': 10}. Best is trial 82 with value: 42.378015751940964.\n"
     ]
    },
    {
     "name": "stdout",
     "output_type": "stream",
     "text": [
      "Early stopping, best iteration is:\n",
      "[818]\tvalid_0's rmse: 44.0328\n",
      "Training until validation scores don't improve for 100 rounds\n",
      "Early stopping, best iteration is:\n",
      "[587]\tvalid_0's rmse: 43.6916\n",
      "Training until validation scores don't improve for 100 rounds\n",
      "Early stopping, best iteration is:\n",
      "[623]\tvalid_0's rmse: 41.0252\n",
      "Training until validation scores don't improve for 100 rounds\n",
      "Early stopping, best iteration is:\n",
      "[234]\tvalid_0's rmse: 43.3124\n",
      "Training until validation scores don't improve for 100 rounds\n",
      "Early stopping, best iteration is:\n",
      "[757]\tvalid_0's rmse: 40.1004\n",
      "Training until validation scores don't improve for 100 rounds\n"
     ]
    },
    {
     "name": "stderr",
     "output_type": "stream",
     "text": [
      "[I 2025-09-14 10:51:15,237] Trial 83 finished with value: 42.397124381385 and parameters: {'lambda_l1': 5.027067490720075e-08, 'lambda_l2': 8.576204322026731, 'num_leaves': 224, 'feature_fraction': 0.5749797462361038, 'bagging_fraction': 0.614904044180208, 'bagging_freq': 1, 'min_child_samples': 17, 'learning_rate': 0.036158884969933434, 'max_depth': 11}. Best is trial 82 with value: 42.378015751940964.\n"
     ]
    },
    {
     "name": "stdout",
     "output_type": "stream",
     "text": [
      "Early stopping, best iteration is:\n",
      "[683]\tvalid_0's rmse: 43.8561\n",
      "Training until validation scores don't improve for 100 rounds\n",
      "Did not meet early stopping. Best iteration is:\n",
      "[993]\tvalid_0's rmse: 43.092\n",
      "Training until validation scores don't improve for 100 rounds\n",
      "Did not meet early stopping. Best iteration is:\n",
      "[995]\tvalid_0's rmse: 41.1704\n",
      "Training until validation scores don't improve for 100 rounds\n",
      "Early stopping, best iteration is:\n",
      "[480]\tvalid_0's rmse: 43.562\n",
      "Training until validation scores don't improve for 100 rounds\n",
      "Did not meet early stopping. Best iteration is:\n",
      "[1000]\tvalid_0's rmse: 40.4304\n",
      "Training until validation scores don't improve for 100 rounds\n",
      "Did not meet early stopping. Best iteration is:\n",
      "[987]\tvalid_0's rmse: 44.1079\n"
     ]
    },
    {
     "name": "stderr",
     "output_type": "stream",
     "text": [
      "[I 2025-09-14 10:51:45,111] Trial 84 finished with value: 42.472558075320485 and parameters: {'lambda_l1': 4.809839435301998e-08, 'lambda_l2': 8.574222375660591, 'num_leaves': 254, 'feature_fraction': 0.5242142882740983, 'bagging_fraction': 0.6348677370416201, 'bagging_freq': 1, 'min_child_samples': 10, 'learning_rate': 0.016103700059625397, 'max_depth': 11}. Best is trial 82 with value: 42.378015751940964.\n"
     ]
    },
    {
     "name": "stdout",
     "output_type": "stream",
     "text": [
      "Training until validation scores don't improve for 100 rounds\n",
      "Did not meet early stopping. Best iteration is:\n",
      "[989]\tvalid_0's rmse: 43.7705\n",
      "Training until validation scores don't improve for 100 rounds\n",
      "Did not meet early stopping. Best iteration is:\n",
      "[997]\tvalid_0's rmse: 41.2947\n",
      "Training until validation scores don't improve for 100 rounds\n",
      "Early stopping, best iteration is:\n",
      "[708]\tvalid_0's rmse: 43.4392\n",
      "Training until validation scores don't improve for 100 rounds\n",
      "Did not meet early stopping. Best iteration is:\n",
      "[956]\tvalid_0's rmse: 40.3814\n",
      "Training until validation scores don't improve for 100 rounds\n",
      "Did not meet early stopping. Best iteration is:\n",
      "[992]\tvalid_0's rmse: 43.9583\n"
     ]
    },
    {
     "name": "stderr",
     "output_type": "stream",
     "text": [
      "[I 2025-09-14 10:52:16,764] Trial 85 finished with value: 42.568810277226554 and parameters: {'lambda_l1': 5.970106468714413e-08, 'lambda_l2': 2.154542811954603, 'num_leaves': 289, 'feature_fraction': 0.5420079648896214, 'bagging_fraction': 0.6163505324831382, 'bagging_freq': 1, 'min_child_samples': 10, 'learning_rate': 0.010903462668583337, 'max_depth': 11}. Best is trial 82 with value: 42.378015751940964.\n"
     ]
    },
    {
     "name": "stdout",
     "output_type": "stream",
     "text": [
      "Training until validation scores don't improve for 100 rounds\n",
      "Did not meet early stopping. Best iteration is:\n",
      "[1000]\tvalid_0's rmse: 43.9222\n",
      "Training until validation scores don't improve for 100 rounds\n",
      "Early stopping, best iteration is:\n",
      "[588]\tvalid_0's rmse: 40.8565\n",
      "Training until validation scores don't improve for 100 rounds\n",
      "Early stopping, best iteration is:\n",
      "[504]\tvalid_0's rmse: 44.058\n",
      "Training until validation scores don't improve for 100 rounds\n",
      "Early stopping, best iteration is:\n",
      "[700]\tvalid_0's rmse: 40.8284\n",
      "Training until validation scores don't improve for 100 rounds\n"
     ]
    },
    {
     "name": "stderr",
     "output_type": "stream",
     "text": [
      "[I 2025-09-14 10:52:41,060] Trial 86 finished with value: 42.71666530385441 and parameters: {'lambda_l1': 6.197449662768884e-07, 'lambda_l2': 1.3821430523094587, 'num_leaves': 288, 'feature_fraction': 0.5201813790235683, 'bagging_fraction': 0.6348847273429429, 'bagging_freq': 7, 'min_child_samples': 10, 'learning_rate': 0.015662856729493344, 'max_depth': 11}. Best is trial 82 with value: 42.378015751940964.\n"
     ]
    },
    {
     "name": "stdout",
     "output_type": "stream",
     "text": [
      "Early stopping, best iteration is:\n",
      "[510]\tvalid_0's rmse: 43.9183\n",
      "Training until validation scores don't improve for 100 rounds\n",
      "Early stopping, best iteration is:\n",
      "[664]\tvalid_0's rmse: 44.7546\n",
      "Training until validation scores don't improve for 100 rounds\n",
      "Did not meet early stopping. Best iteration is:\n",
      "[973]\tvalid_0's rmse: 41.4552\n",
      "Training until validation scores don't improve for 100 rounds\n",
      "Early stopping, best iteration is:\n",
      "[412]\tvalid_0's rmse: 44.9013\n",
      "Training until validation scores don't improve for 100 rounds\n",
      "Did not meet early stopping. Best iteration is:\n",
      "[996]\tvalid_0's rmse: 41.626\n",
      "Training until validation scores don't improve for 100 rounds\n",
      "Did not meet early stopping. Best iteration is:\n",
      "[929]\tvalid_0's rmse: 43.8461\n"
     ]
    },
    {
     "name": "stderr",
     "output_type": "stream",
     "text": [
      "[I 2025-09-14 10:53:30,037] Trial 87 finished with value: 43.316640445178656 and parameters: {'lambda_l1': 4.528843351547651e-08, 'lambda_l2': 0.4155845362342931, 'num_leaves': 257, 'feature_fraction': 0.5360439440428711, 'bagging_fraction': 0.6612260762712094, 'bagging_freq': 2, 'min_child_samples': 5, 'learning_rate': 0.010721642658242509, 'max_depth': 12}. Best is trial 82 with value: 42.378015751940964.\n"
     ]
    },
    {
     "name": "stdout",
     "output_type": "stream",
     "text": [
      "Training until validation scores don't improve for 100 rounds\n",
      "Early stopping, best iteration is:\n",
      "[597]\tvalid_0's rmse: 43.1193\n",
      "Training until validation scores don't improve for 100 rounds\n",
      "Early stopping, best iteration is:\n",
      "[714]\tvalid_0's rmse: 41.4156\n",
      "Training until validation scores don't improve for 100 rounds\n",
      "Early stopping, best iteration is:\n",
      "[457]\tvalid_0's rmse: 43.5732\n",
      "Training until validation scores don't improve for 100 rounds\n",
      "Did not meet early stopping. Best iteration is:\n",
      "[998]\tvalid_0's rmse: 40.3714\n",
      "Training until validation scores don't improve for 100 rounds\n"
     ]
    },
    {
     "name": "stderr",
     "output_type": "stream",
     "text": [
      "[I 2025-09-14 10:53:48,975] Trial 88 finished with value: 42.499955178194945 and parameters: {'lambda_l1': 2.0440133728957355e-07, 'lambda_l2': 9.86620553293751, 'num_leaves': 228, 'feature_fraction': 0.4782801653615608, 'bagging_fraction': 0.6182099211316512, 'bagging_freq': 1, 'min_child_samples': 16, 'learning_rate': 0.03068539380016822, 'max_depth': 11}. Best is trial 82 with value: 42.378015751940964.\n"
     ]
    },
    {
     "name": "stdout",
     "output_type": "stream",
     "text": [
      "Early stopping, best iteration is:\n",
      "[750]\tvalid_0's rmse: 44.0203\n",
      "Training until validation scores don't improve for 100 rounds\n",
      "Early stopping, best iteration is:\n",
      "[242]\tvalid_0's rmse: 43.5018\n",
      "Training until validation scores don't improve for 100 rounds\n",
      "Early stopping, best iteration is:\n",
      "[458]\tvalid_0's rmse: 41.2995\n",
      "Training until validation scores don't improve for 100 rounds\n",
      "Early stopping, best iteration is:\n",
      "[206]\tvalid_0's rmse: 43.7131\n",
      "Training until validation scores don't improve for 100 rounds\n",
      "Early stopping, best iteration is:\n",
      "[647]\tvalid_0's rmse: 39.7301\n",
      "Training until validation scores don't improve for 100 rounds\n"
     ]
    },
    {
     "name": "stderr",
     "output_type": "stream",
     "text": [
      "[I 2025-09-14 10:54:03,651] Trial 89 finished with value: 42.47239059197183 and parameters: {'lambda_l1': 1.555041277205963e-07, 'lambda_l2': 2.158323878030667, 'num_leaves': 231, 'feature_fraction': 0.4758115142687757, 'bagging_fraction': 0.614364479612264, 'bagging_freq': 1, 'min_child_samples': 12, 'learning_rate': 0.031780031017897864, 'max_depth': 11}. Best is trial 82 with value: 42.378015751940964.\n"
     ]
    },
    {
     "name": "stdout",
     "output_type": "stream",
     "text": [
      "Early stopping, best iteration is:\n",
      "[686]\tvalid_0's rmse: 44.1174\n",
      "Training until validation scores don't improve for 100 rounds\n",
      "Early stopping, best iteration is:\n",
      "[418]\tvalid_0's rmse: 43.3944\n",
      "Training until validation scores don't improve for 100 rounds\n",
      "Early stopping, best iteration is:\n",
      "[668]\tvalid_0's rmse: 41.734\n",
      "Training until validation scores don't improve for 100 rounds\n",
      "Early stopping, best iteration is:\n",
      "[294]\tvalid_0's rmse: 43.4554\n",
      "Training until validation scores don't improve for 100 rounds\n",
      "Early stopping, best iteration is:\n",
      "[670]\tvalid_0's rmse: 40.2602\n",
      "Training until validation scores don't improve for 100 rounds\n"
     ]
    },
    {
     "name": "stderr",
     "output_type": "stream",
     "text": [
      "[I 2025-09-14 10:54:22,625] Trial 90 finished with value: 42.67907018591028 and parameters: {'lambda_l1': 1.8119884351271362e-07, 'lambda_l2': 9.744584755830925, 'num_leaves': 226, 'feature_fraction': 0.4637742206914421, 'bagging_fraction': 0.6218370347134734, 'bagging_freq': 2, 'min_child_samples': 11, 'learning_rate': 0.033954336562100014, 'max_depth': 11}. Best is trial 82 with value: 42.378015751940964.\n"
     ]
    },
    {
     "name": "stdout",
     "output_type": "stream",
     "text": [
      "Early stopping, best iteration is:\n",
      "[677]\tvalid_0's rmse: 44.5513\n",
      "Training until validation scores don't improve for 100 rounds\n",
      "Early stopping, best iteration is:\n",
      "[575]\tvalid_0's rmse: 43.2167\n",
      "Training until validation scores don't improve for 100 rounds\n",
      "Early stopping, best iteration is:\n",
      "[528]\tvalid_0's rmse: 41.6264\n",
      "Training until validation scores don't improve for 100 rounds\n",
      "Early stopping, best iteration is:\n",
      "[349]\tvalid_0's rmse: 43.6137\n",
      "Training until validation scores don't improve for 100 rounds\n",
      "Did not meet early stopping. Best iteration is:\n",
      "[996]\tvalid_0's rmse: 40.1533\n",
      "Training until validation scores don't improve for 100 rounds\n"
     ]
    },
    {
     "name": "stderr",
     "output_type": "stream",
     "text": [
      "[I 2025-09-14 10:54:38,243] Trial 91 finished with value: 42.63785442675537 and parameters: {'lambda_l1': 3.637453886956578e-07, 'lambda_l2': 2.8534429439560207, 'num_leaves': 231, 'feature_fraction': 0.48268383917988805, 'bagging_fraction': 0.609900728082745, 'bagging_freq': 1, 'min_child_samples': 16, 'learning_rate': 0.028122454549730513, 'max_depth': 11}. Best is trial 82 with value: 42.378015751940964.\n"
     ]
    },
    {
     "name": "stdout",
     "output_type": "stream",
     "text": [
      "Early stopping, best iteration is:\n",
      "[525]\tvalid_0's rmse: 44.5792\n",
      "Training until validation scores don't improve for 100 rounds\n",
      "Early stopping, best iteration is:\n",
      "[418]\tvalid_0's rmse: 43.4062\n",
      "Training until validation scores don't improve for 100 rounds\n",
      "Early stopping, best iteration is:\n",
      "[581]\tvalid_0's rmse: 41.0923\n",
      "Training until validation scores don't improve for 100 rounds\n",
      "Early stopping, best iteration is:\n",
      "[291]\tvalid_0's rmse: 43.7526\n",
      "Training until validation scores don't improve for 100 rounds\n",
      "Early stopping, best iteration is:\n",
      "[556]\tvalid_0's rmse: 41.612\n",
      "Training until validation scores don't improve for 100 rounds\n"
     ]
    },
    {
     "name": "stderr",
     "output_type": "stream",
     "text": [
      "[I 2025-09-14 10:54:58,511] Trial 92 finished with value: 42.913470989434174 and parameters: {'lambda_l1': 1.0395896509965147e-06, 'lambda_l2': 1.812608821649668, 'num_leaves': 278, 'feature_fraction': 0.452014112588381, 'bagging_fraction': 0.5873489141131465, 'bagging_freq': 1, 'min_child_samples': 8, 'learning_rate': 0.022437204343089885, 'max_depth': 12}. Best is trial 82 with value: 42.378015751940964.\n"
     ]
    },
    {
     "name": "stdout",
     "output_type": "stream",
     "text": [
      "Early stopping, best iteration is:\n",
      "[613]\tvalid_0's rmse: 44.7043\n",
      "Training until validation scores don't improve for 100 rounds\n",
      "Early stopping, best iteration is:\n",
      "[523]\tvalid_0's rmse: 43.6028\n",
      "Training until validation scores don't improve for 100 rounds\n",
      "Did not meet early stopping. Best iteration is:\n",
      "[923]\tvalid_0's rmse: 41.5695\n",
      "Training until validation scores don't improve for 100 rounds\n",
      "Early stopping, best iteration is:\n",
      "[378]\tvalid_0's rmse: 43.903\n",
      "Training until validation scores don't improve for 100 rounds\n",
      "Did not meet early stopping. Best iteration is:\n",
      "[1000]\tvalid_0's rmse: 40.0805\n",
      "Training until validation scores don't improve for 100 rounds\n"
     ]
    },
    {
     "name": "stderr",
     "output_type": "stream",
     "text": [
      "[I 2025-09-14 10:55:21,683] Trial 93 finished with value: 42.59734838733084 and parameters: {'lambda_l1': 8.736198798660664e-08, 'lambda_l2': 0.24793878929642402, 'num_leaves': 219, 'feature_fraction': 0.5032708668774448, 'bagging_fraction': 0.6480051373075385, 'bagging_freq': 1, 'min_child_samples': 12, 'learning_rate': 0.015654429464764696, 'max_depth': 11}. Best is trial 82 with value: 42.378015751940964.\n"
     ]
    },
    {
     "name": "stdout",
     "output_type": "stream",
     "text": [
      "Did not meet early stopping. Best iteration is:\n",
      "[992]\tvalid_0's rmse: 43.831\n",
      "Training until validation scores don't improve for 100 rounds\n",
      "Early stopping, best iteration is:\n",
      "[338]\tvalid_0's rmse: 43.3736\n",
      "Training until validation scores don't improve for 100 rounds\n",
      "Early stopping, best iteration is:\n",
      "[706]\tvalid_0's rmse: 42.2457\n",
      "Training until validation scores don't improve for 100 rounds\n",
      "Early stopping, best iteration is:\n",
      "[321]\tvalid_0's rmse: 44.295\n",
      "Training until validation scores don't improve for 100 rounds\n",
      "Early stopping, best iteration is:\n",
      "[656]\tvalid_0's rmse: 40.4658\n",
      "Training until validation scores don't improve for 100 rounds\n"
     ]
    },
    {
     "name": "stderr",
     "output_type": "stream",
     "text": [
      "[I 2025-09-14 10:55:34,524] Trial 94 finished with value: 43.0111950639545 and parameters: {'lambda_l1': 2.628519582209168e-06, 'lambda_l2': 0.8025296798207096, 'num_leaves': 261, 'feature_fraction': 0.4855082594951302, 'bagging_fraction': 0.560586556930271, 'bagging_freq': 1, 'min_child_samples': 17, 'learning_rate': 0.03306167176956984, 'max_depth': 10}. Best is trial 82 with value: 42.378015751940964.\n"
     ]
    },
    {
     "name": "stdout",
     "output_type": "stream",
     "text": [
      "Early stopping, best iteration is:\n",
      "[522]\tvalid_0's rmse: 44.6759\n",
      "Training until validation scores don't improve for 100 rounds\n",
      "Early stopping, best iteration is:\n",
      "[673]\tvalid_0's rmse: 44.0249\n",
      "Training until validation scores don't improve for 100 rounds\n",
      "Did not meet early stopping. Best iteration is:\n",
      "[999]\tvalid_0's rmse: 41.1866\n",
      "Training until validation scores don't improve for 100 rounds\n",
      "Early stopping, best iteration is:\n",
      "[814]\tvalid_0's rmse: 43.5132\n",
      "Training until validation scores don't improve for 100 rounds\n",
      "Did not meet early stopping. Best iteration is:\n",
      "[953]\tvalid_0's rmse: 40.2227\n",
      "Training until validation scores don't improve for 100 rounds\n",
      "Did not meet early stopping. Best iteration is:\n",
      "[992]\tvalid_0's rmse: 44.1337\n"
     ]
    },
    {
     "name": "stderr",
     "output_type": "stream",
     "text": [
      "[I 2025-09-14 10:56:04,885] Trial 95 finished with value: 42.616199000817886 and parameters: {'lambda_l1': 1.9200310771705274e-08, 'lambda_l2': 2.481654766557761, 'num_leaves': 237, 'feature_fraction': 0.510274505637171, 'bagging_fraction': 0.6328108477313168, 'bagging_freq': 1, 'min_child_samples': 10, 'learning_rate': 0.010873940648574004, 'max_depth': 11}. Best is trial 82 with value: 42.378015751940964.\n"
     ]
    },
    {
     "name": "stdout",
     "output_type": "stream",
     "text": [
      "Training until validation scores don't improve for 100 rounds\n",
      "Early stopping, best iteration is:\n",
      "[252]\tvalid_0's rmse: 44.5246\n",
      "Training until validation scores don't improve for 100 rounds\n",
      "Early stopping, best iteration is:\n",
      "[119]\tvalid_0's rmse: 42.951\n",
      "Training until validation scores don't improve for 100 rounds\n",
      "Early stopping, best iteration is:\n",
      "[51]\tvalid_0's rmse: 45.5627\n",
      "Training until validation scores don't improve for 100 rounds\n",
      "Early stopping, best iteration is:\n",
      "[109]\tvalid_0's rmse: 41.3719\n",
      "Training until validation scores don't improve for 100 rounds\n"
     ]
    },
    {
     "name": "stderr",
     "output_type": "stream",
     "text": [
      "[I 2025-09-14 10:56:15,137] Trial 96 finished with value: 43.8511039056918 and parameters: {'lambda_l1': 5.884358133541396e-08, 'lambda_l2': 7.278530715405572, 'num_leaves': 222, 'feature_fraction': 0.5630431984317872, 'bagging_fraction': 0.6171063884685993, 'bagging_freq': 1, 'min_child_samples': 7, 'learning_rate': 0.14002019010540054, 'max_depth': 12}. Best is trial 82 with value: 42.378015751940964.\n"
     ]
    },
    {
     "name": "stdout",
     "output_type": "stream",
     "text": [
      "Early stopping, best iteration is:\n",
      "[139]\tvalid_0's rmse: 44.8453\n",
      "Training until validation scores don't improve for 100 rounds\n",
      "Early stopping, best iteration is:\n",
      "[600]\tvalid_0's rmse: 43.4052\n",
      "Training until validation scores don't improve for 100 rounds\n",
      "Early stopping, best iteration is:\n",
      "[591]\tvalid_0's rmse: 41.5831\n",
      "Training until validation scores don't improve for 100 rounds\n",
      "Early stopping, best iteration is:\n",
      "[378]\tvalid_0's rmse: 43.8223\n",
      "Training until validation scores don't improve for 100 rounds\n",
      "Did not meet early stopping. Best iteration is:\n",
      "[1000]\tvalid_0's rmse: 39.6051\n",
      "Training until validation scores don't improve for 100 rounds\n"
     ]
    },
    {
     "name": "stderr",
     "output_type": "stream",
     "text": [
      "[I 2025-09-14 10:56:29,909] Trial 97 finished with value: 42.42977304906593 and parameters: {'lambda_l1': 2.0289919331368145e-07, 'lambda_l2': 1.4730571480086645, 'num_leaves': 285, 'feature_fraction': 0.42722680262282603, 'bagging_fraction': 0.6551724737909995, 'bagging_freq': 1, 'min_child_samples': 14, 'learning_rate': 0.026719205487291425, 'max_depth': 10}. Best is trial 82 with value: 42.378015751940964.\n"
     ]
    },
    {
     "name": "stdout",
     "output_type": "stream",
     "text": [
      "Early stopping, best iteration is:\n",
      "[503]\tvalid_0's rmse: 43.7333\n",
      "Training until validation scores don't improve for 100 rounds\n",
      "Early stopping, best iteration is:\n",
      "[388]\tvalid_0's rmse: 43.6631\n",
      "Training until validation scores don't improve for 100 rounds\n",
      "Early stopping, best iteration is:\n",
      "[375]\tvalid_0's rmse: 41.8535\n",
      "Training until validation scores don't improve for 100 rounds\n",
      "Early stopping, best iteration is:\n",
      "[234]\tvalid_0's rmse: 44.1373\n",
      "Training until validation scores don't improve for 100 rounds\n",
      "Early stopping, best iteration is:\n",
      "[747]\tvalid_0's rmse: 40.3644\n",
      "Training until validation scores don't improve for 100 rounds\n"
     ]
    },
    {
     "name": "stderr",
     "output_type": "stream",
     "text": [
      "[I 2025-09-14 10:56:42,131] Trial 98 finished with value: 42.86347508804822 and parameters: {'lambda_l1': 1.480999260315014e-07, 'lambda_l2': 1.2413829084393406, 'num_leaves': 288, 'feature_fraction': 0.4013893064964503, 'bagging_fraction': 0.6557345102684066, 'bagging_freq': 1, 'min_child_samples': 13, 'learning_rate': 0.037248382679417505, 'max_depth': 11}. Best is trial 82 with value: 42.378015751940964.\n"
     ]
    },
    {
     "name": "stdout",
     "output_type": "stream",
     "text": [
      "Early stopping, best iteration is:\n",
      "[345]\tvalid_0's rmse: 44.2991\n",
      "Training until validation scores don't improve for 100 rounds\n",
      "Early stopping, best iteration is:\n",
      "[184]\tvalid_0's rmse: 43.7013\n",
      "Training until validation scores don't improve for 100 rounds\n",
      "Early stopping, best iteration is:\n",
      "[301]\tvalid_0's rmse: 42.5532\n",
      "Training until validation scores don't improve for 100 rounds\n",
      "Early stopping, best iteration is:\n",
      "[133]\tvalid_0's rmse: 44.4321\n",
      "Training until validation scores don't improve for 100 rounds\n",
      "Early stopping, best iteration is:\n",
      "[402]\tvalid_0's rmse: 40.9333\n",
      "Training until validation scores don't improve for 100 rounds\n"
     ]
    },
    {
     "name": "stderr",
     "output_type": "stream",
     "text": [
      "[I 2025-09-14 10:56:51,779] Trial 99 finished with value: 43.16626408455344 and parameters: {'lambda_l1': 2.3796263979504745e-07, 'lambda_l2': 3.941227194599043, 'num_leaves': 251, 'feature_fraction': 0.425721837416184, 'bagging_fraction': 0.6457884945363077, 'bagging_freq': 1, 'min_child_samples': 9, 'learning_rate': 0.060000301617518285, 'max_depth': 10}. Best is trial 82 with value: 42.378015751940964.\n"
     ]
    },
    {
     "name": "stdout",
     "output_type": "stream",
     "text": [
      "Early stopping, best iteration is:\n",
      "[273]\tvalid_0's rmse: 44.2114\n",
      "Training until validation scores don't improve for 100 rounds\n",
      "Did not meet early stopping. Best iteration is:\n",
      "[978]\tvalid_0's rmse: 43.5443\n",
      "Training until validation scores don't improve for 100 rounds\n",
      "Did not meet early stopping. Best iteration is:\n",
      "[975]\tvalid_0's rmse: 42.0991\n",
      "Training until validation scores don't improve for 100 rounds\n",
      "Early stopping, best iteration is:\n",
      "[598]\tvalid_0's rmse: 43.0987\n",
      "Training until validation scores don't improve for 100 rounds\n",
      "Did not meet early stopping. Best iteration is:\n",
      "[1000]\tvalid_0's rmse: 41.8771\n",
      "Training until validation scores don't improve for 100 rounds\n"
     ]
    },
    {
     "name": "stderr",
     "output_type": "stream",
     "text": [
      "[I 2025-09-14 10:57:05,614] Trial 100 finished with value: 43.33199044957094 and parameters: {'lambda_l1': 4.700586175639736e-07, 'lambda_l2': 0.05472323365375811, 'num_leaves': 275, 'feature_fraction': 0.5279790520059582, 'bagging_fraction': 0.6835797793318917, 'bagging_freq': 2, 'min_child_samples': 60, 'learning_rate': 0.028811555156224515, 'max_depth': 11}. Best is trial 82 with value: 42.378015751940964.\n"
     ]
    },
    {
     "name": "stdout",
     "output_type": "stream",
     "text": [
      "Did not meet early stopping. Best iteration is:\n",
      "[942]\tvalid_0's rmse: 46.0407\n",
      "Training until validation scores don't improve for 100 rounds\n",
      "Did not meet early stopping. Best iteration is:\n",
      "[929]\tvalid_0's rmse: 42.8059\n",
      "Training until validation scores don't improve for 100 rounds\n",
      "Early stopping, best iteration is:\n",
      "[725]\tvalid_0's rmse: 41.8054\n",
      "Training until validation scores don't improve for 100 rounds\n",
      "Early stopping, best iteration is:\n",
      "[471]\tvalid_0's rmse: 43.5975\n",
      "Training until validation scores don't improve for 100 rounds\n",
      "Did not meet early stopping. Best iteration is:\n",
      "[998]\tvalid_0's rmse: 40.325\n",
      "Training until validation scores don't improve for 100 rounds\n"
     ]
    },
    {
     "name": "stderr",
     "output_type": "stream",
     "text": [
      "[I 2025-09-14 10:57:25,747] Trial 101 finished with value: 42.447312340552045 and parameters: {'lambda_l1': 1.0319995345966485e-07, 'lambda_l2': 2.297312087973821, 'num_leaves': 210, 'feature_fraction': 0.4413477330897736, 'bagging_fraction': 0.5968973988042467, 'bagging_freq': 1, 'min_child_samples': 13, 'learning_rate': 0.01895947116074026, 'max_depth': 10}. Best is trial 82 with value: 42.378015751940964.\n"
     ]
    },
    {
     "name": "stdout",
     "output_type": "stream",
     "text": [
      "Did not meet early stopping. Best iteration is:\n",
      "[979]\tvalid_0's rmse: 43.7029\n",
      "Training until validation scores don't improve for 100 rounds\n",
      "Early stopping, best iteration is:\n",
      "[673]\tvalid_0's rmse: 42.9454\n",
      "Training until validation scores don't improve for 100 rounds\n",
      "Early stopping, best iteration is:\n",
      "[726]\tvalid_0's rmse: 41.469\n",
      "Training until validation scores don't improve for 100 rounds\n",
      "Early stopping, best iteration is:\n",
      "[474]\tvalid_0's rmse: 43.7588\n",
      "Training until validation scores don't improve for 100 rounds\n",
      "Did not meet early stopping. Best iteration is:\n",
      "[998]\tvalid_0's rmse: 40.2458\n",
      "Training until validation scores don't improve for 100 rounds\n"
     ]
    },
    {
     "name": "stderr",
     "output_type": "stream",
     "text": [
      "[I 2025-09-14 10:57:43,552] Trial 102 finished with value: 42.391920533457345 and parameters: {'lambda_l1': 1.0829930546581071e-07, 'lambda_l2': 0.651979353674948, 'num_leaves': 208, 'feature_fraction': 0.4333997676594091, 'bagging_fraction': 0.60352656629639, 'bagging_freq': 1, 'min_child_samples': 13, 'learning_rate': 0.017940163793184603, 'max_depth': 10}. Best is trial 82 with value: 42.378015751940964.\n"
     ]
    },
    {
     "name": "stdout",
     "output_type": "stream",
     "text": [
      "Did not meet early stopping. Best iteration is:\n",
      "[990]\tvalid_0's rmse: 43.5405\n",
      "Training until validation scores don't improve for 100 rounds\n",
      "Early stopping, best iteration is:\n",
      "[308]\tvalid_0's rmse: 43.5111\n",
      "Training until validation scores don't improve for 100 rounds\n",
      "Early stopping, best iteration is:\n",
      "[377]\tvalid_0's rmse: 41.7754\n",
      "Training until validation scores don't improve for 100 rounds\n",
      "Early stopping, best iteration is:\n",
      "[269]\tvalid_0's rmse: 44.1027\n",
      "Training until validation scores don't improve for 100 rounds\n",
      "Early stopping, best iteration is:\n",
      "[739]\tvalid_0's rmse: 39.6881\n",
      "Training until validation scores don't improve for 100 rounds\n"
     ]
    },
    {
     "name": "stderr",
     "output_type": "stream",
     "text": [
      "[I 2025-09-14 10:57:54,533] Trial 103 finished with value: 42.64691846202318 and parameters: {'lambda_l1': 1.0931518582041039e-07, 'lambda_l2': 0.7256058789472721, 'num_leaves': 209, 'feature_fraction': 0.42922024864872077, 'bagging_fraction': 0.598087331772334, 'bagging_freq': 1, 'min_child_samples': 14, 'learning_rate': 0.03933954685529883, 'max_depth': 10}. Best is trial 82 with value: 42.378015751940964.\n"
     ]
    },
    {
     "name": "stdout",
     "output_type": "stream",
     "text": [
      "Early stopping, best iteration is:\n",
      "[448]\tvalid_0's rmse: 44.1572\n",
      "Training until validation scores don't improve for 100 rounds\n",
      "Did not meet early stopping. Best iteration is:\n",
      "[978]\tvalid_0's rmse: 43.1571\n",
      "Training until validation scores don't improve for 100 rounds\n",
      "Did not meet early stopping. Best iteration is:\n",
      "[1000]\tvalid_0's rmse: 41.676\n",
      "Training until validation scores don't improve for 100 rounds\n",
      "Early stopping, best iteration is:\n",
      "[479]\tvalid_0's rmse: 43.6211\n",
      "Training until validation scores don't improve for 100 rounds\n",
      "Did not meet early stopping. Best iteration is:\n",
      "[941]\tvalid_0's rmse: 39.8852\n",
      "Training until validation scores don't improve for 100 rounds\n"
     ]
    },
    {
     "name": "stderr",
     "output_type": "stream",
     "text": [
      "[I 2025-09-14 10:58:13,579] Trial 104 finished with value: 42.540438892114445 and parameters: {'lambda_l1': 2.12999354216419e-08, 'lambda_l2': 6.741578344780008, 'num_leaves': 204, 'feature_fraction': 0.45472697894235586, 'bagging_fraction': 0.6328153202806391, 'bagging_freq': 1, 'min_child_samples': 18, 'learning_rate': 0.016892130268362945, 'max_depth': 10}. Best is trial 82 with value: 42.378015751940964.\n"
     ]
    },
    {
     "name": "stdout",
     "output_type": "stream",
     "text": [
      "Did not meet early stopping. Best iteration is:\n",
      "[999]\tvalid_0's rmse: 44.3628\n",
      "Training until validation scores don't improve for 100 rounds\n",
      "Early stopping, best iteration is:\n",
      "[535]\tvalid_0's rmse: 43.4549\n",
      "Training until validation scores don't improve for 100 rounds\n",
      "Early stopping, best iteration is:\n",
      "[776]\tvalid_0's rmse: 42.4067\n",
      "Training until validation scores don't improve for 100 rounds\n",
      "Early stopping, best iteration is:\n",
      "[377]\tvalid_0's rmse: 43.8605\n",
      "Training until validation scores don't improve for 100 rounds\n",
      "Did not meet early stopping. Best iteration is:\n",
      "[914]\tvalid_0's rmse: 40.3134\n",
      "Training until validation scores don't improve for 100 rounds\n"
     ]
    },
    {
     "name": "stderr",
     "output_type": "stream",
     "text": [
      "[I 2025-09-14 10:58:25,922] Trial 105 finished with value: 42.93921779262589 and parameters: {'lambda_l1': 1.447000697111711e-06, 'lambda_l2': 0.15872226195690967, 'num_leaves': 197, 'feature_fraction': 0.43887312488320135, 'bagging_fraction': 0.6653532835897862, 'bagging_freq': 1, 'min_child_samples': 22, 'learning_rate': 0.02657523647506827, 'max_depth': 9}. Best is trial 82 with value: 42.378015751940964.\n"
     ]
    },
    {
     "name": "stdout",
     "output_type": "stream",
     "text": [
      "Early stopping, best iteration is:\n",
      "[687]\tvalid_0's rmse: 44.6606\n",
      "Training until validation scores don't improve for 100 rounds\n",
      "Early stopping, best iteration is:\n",
      "[515]\tvalid_0's rmse: 45.327\n",
      "Training until validation scores don't improve for 100 rounds\n",
      "Early stopping, best iteration is:\n",
      "[717]\tvalid_0's rmse: 43.4043\n",
      "Training until validation scores don't improve for 100 rounds\n",
      "Early stopping, best iteration is:\n",
      "[860]\tvalid_0's rmse: 45.0969\n",
      "Training until validation scores don't improve for 100 rounds\n",
      "Did not meet early stopping. Best iteration is:\n",
      "[957]\tvalid_0's rmse: 41.2904\n",
      "Training until validation scores don't improve for 100 rounds\n"
     ]
    },
    {
     "name": "stderr",
     "output_type": "stream",
     "text": [
      "[I 2025-09-14 10:58:31,246] Trial 106 finished with value: 44.11246279098799 and parameters: {'lambda_l1': 7.780372394829604e-07, 'lambda_l2': 1.1365729344341893, 'num_leaves': 242, 'feature_fraction': 0.4166989267561019, 'bagging_fraction': 0.5664120406746701, 'bagging_freq': 1, 'min_child_samples': 16, 'learning_rate': 0.032596023327312866, 'max_depth': 3}. Best is trial 82 with value: 42.378015751940964.\n"
     ]
    },
    {
     "name": "stdout",
     "output_type": "stream",
     "text": [
      "Did not meet early stopping. Best iteration is:\n",
      "[1000]\tvalid_0's rmse: 45.4437\n",
      "Training until validation scores don't improve for 100 rounds\n",
      "Early stopping, best iteration is:\n",
      "[242]\tvalid_0's rmse: 43.9142\n",
      "Training until validation scores don't improve for 100 rounds\n",
      "Early stopping, best iteration is:\n",
      "[366]\tvalid_0's rmse: 41.6992\n",
      "Training until validation scores don't improve for 100 rounds\n",
      "Early stopping, best iteration is:\n",
      "[157]\tvalid_0's rmse: 43.9578\n",
      "Training until validation scores don't improve for 100 rounds\n",
      "Early stopping, best iteration is:\n",
      "[464]\tvalid_0's rmse: 40.021\n",
      "Training until validation scores don't improve for 100 rounds\n"
     ]
    },
    {
     "name": "stderr",
     "output_type": "stream",
     "text": [
      "[I 2025-09-14 10:58:39,678] Trial 107 finished with value: 42.741096972005415 and parameters: {'lambda_l1': 2.0280407739922514e-07, 'lambda_l2': 8.216457101650178e-06, 'num_leaves': 189, 'feature_fraction': 0.46705529280306846, 'bagging_fraction': 0.5461434007933699, 'bagging_freq': 1, 'min_child_samples': 12, 'learning_rate': 0.046370249492548796, 'max_depth': 9}. Best is trial 82 with value: 42.378015751940964.\n"
     ]
    },
    {
     "name": "stdout",
     "output_type": "stream",
     "text": [
      "Early stopping, best iteration is:\n",
      "[347]\tvalid_0's rmse: 44.1134\n",
      "Training until validation scores don't improve for 100 rounds\n",
      "Early stopping, best iteration is:\n",
      "[510]\tvalid_0's rmse: 44.5535\n",
      "Training until validation scores don't improve for 100 rounds\n",
      "Did not meet early stopping. Best iteration is:\n",
      "[962]\tvalid_0's rmse: 41.4209\n",
      "Training until validation scores don't improve for 100 rounds\n",
      "Early stopping, best iteration is:\n",
      "[330]\tvalid_0's rmse: 43.439\n",
      "Training until validation scores don't improve for 100 rounds\n",
      "Early stopping, best iteration is:\n",
      "[705]\tvalid_0's rmse: 41.1304\n",
      "Training until validation scores don't improve for 100 rounds\n",
      "Early stopping, best iteration is:\n",
      "[799]\tvalid_0's rmse: 44.287\n"
     ]
    },
    {
     "name": "stderr",
     "output_type": "stream",
     "text": [
      "[I 2025-09-14 10:59:08,231] Trial 108 finished with value: 42.966154917748156 and parameters: {'lambda_l1': 4.816070653361895e-08, 'lambda_l2': 4.470967602923328, 'num_leaves': 235, 'feature_fraction': 0.48514430017848614, 'bagging_fraction': 0.6024982071033582, 'bagging_freq': 1, 'min_child_samples': 5, 'learning_rate': 0.01907946145902497, 'max_depth': 10}. Best is trial 82 with value: 42.378015751940964.\n"
     ]
    },
    {
     "name": "stdout",
     "output_type": "stream",
     "text": [
      "Training until validation scores don't improve for 100 rounds\n",
      "Early stopping, best iteration is:\n",
      "[521]\tvalid_0's rmse: 43.7821\n",
      "Training until validation scores don't improve for 100 rounds\n",
      "Early stopping, best iteration is:\n",
      "[695]\tvalid_0's rmse: 41.6613\n",
      "Training until validation scores don't improve for 100 rounds\n",
      "Early stopping, best iteration is:\n",
      "[387]\tvalid_0's rmse: 43.6812\n",
      "Training until validation scores don't improve for 100 rounds\n",
      "Did not meet early stopping. Best iteration is:\n",
      "[952]\tvalid_0's rmse: 39.7323\n",
      "Training until validation scores don't improve for 100 rounds\n"
     ]
    },
    {
     "name": "stderr",
     "output_type": "stream",
     "text": [
      "[I 2025-09-14 10:59:24,219] Trial 109 finished with value: 42.601409846231974 and parameters: {'lambda_l1': 1.526496781603662e-08, 'lambda_l2': 0.301400362850303, 'num_leaves': 257, 'feature_fraction': 0.44724974824404057, 'bagging_fraction': 0.58500755755661, 'bagging_freq': 1, 'min_child_samples': 14, 'learning_rate': 0.024424269218615104, 'max_depth': 10}. Best is trial 82 with value: 42.378015751940964.\n"
     ]
    },
    {
     "name": "stdout",
     "output_type": "stream",
     "text": [
      "Did not meet early stopping. Best iteration is:\n",
      "[989]\tvalid_0's rmse: 44.1502\n",
      "Training until validation scores don't improve for 100 rounds\n",
      "Early stopping, best iteration is:\n",
      "[240]\tvalid_0's rmse: 44.4686\n",
      "Training until validation scores don't improve for 100 rounds\n",
      "Early stopping, best iteration is:\n",
      "[226]\tvalid_0's rmse: 41.2766\n",
      "Training until validation scores don't improve for 100 rounds\n",
      "Early stopping, best iteration is:\n",
      "[180]\tvalid_0's rmse: 44.616\n",
      "Training until validation scores don't improve for 100 rounds\n",
      "Early stopping, best iteration is:\n",
      "[391]\tvalid_0's rmse: 40.3371\n",
      "Training until validation scores don't improve for 100 rounds\n"
     ]
    },
    {
     "name": "stderr",
     "output_type": "stream",
     "text": [
      "[I 2025-09-14 10:59:31,729] Trial 110 finished with value: 43.152741467656874 and parameters: {'lambda_l1': 2.731311975388162e-08, 'lambda_l2': 1.716384886805263e-05, 'num_leaves': 212, 'feature_fraction': 0.5776175593644901, 'bagging_fraction': 0.6388999703596194, 'bagging_freq': 6, 'min_child_samples': 22, 'learning_rate': 0.05009398167692573, 'max_depth': 10}. Best is trial 82 with value: 42.378015751940964.\n"
     ]
    },
    {
     "name": "stdout",
     "output_type": "stream",
     "text": [
      "Early stopping, best iteration is:\n",
      "[366]\tvalid_0's rmse: 45.0654\n",
      "Training until validation scores don't improve for 100 rounds\n",
      "Did not meet early stopping. Best iteration is:\n",
      "[955]\tvalid_0's rmse: 43.1763\n",
      "Training until validation scores don't improve for 100 rounds\n",
      "Did not meet early stopping. Best iteration is:\n",
      "[1000]\tvalid_0's rmse: 41.6656\n",
      "Training until validation scores don't improve for 100 rounds\n",
      "Early stopping, best iteration is:\n",
      "[798]\tvalid_0's rmse: 43.4561\n",
      "Training until validation scores don't improve for 100 rounds\n",
      "Did not meet early stopping. Best iteration is:\n",
      "[998]\tvalid_0's rmse: 39.9461\n",
      "Training until validation scores don't improve for 100 rounds\n"
     ]
    },
    {
     "name": "stderr",
     "output_type": "stream",
     "text": [
      "[I 2025-09-14 10:59:51,969] Trial 111 finished with value: 42.535067395896476 and parameters: {'lambda_l1': 1.0849432320227271e-07, 'lambda_l2': 6.694851482265303, 'num_leaves': 201, 'feature_fraction': 0.46160496702407694, 'bagging_fraction': 0.6270978798059917, 'bagging_freq': 1, 'min_child_samples': 18, 'learning_rate': 0.01875031037793001, 'max_depth': 10}. Best is trial 82 with value: 42.378015751940964.\n"
     ]
    },
    {
     "name": "stdout",
     "output_type": "stream",
     "text": [
      "Did not meet early stopping. Best iteration is:\n",
      "[999]\tvalid_0's rmse: 44.4312\n",
      "Training until validation scores don't improve for 100 rounds\n",
      "Early stopping, best iteration is:\n",
      "[572]\tvalid_0's rmse: 43.086\n",
      "Training until validation scores don't improve for 100 rounds\n",
      "Early stopping, best iteration is:\n",
      "[311]\tvalid_0's rmse: 41.7169\n",
      "Training until validation scores don't improve for 100 rounds\n",
      "Early stopping, best iteration is:\n",
      "[294]\tvalid_0's rmse: 43.3808\n",
      "Training until validation scores don't improve for 100 rounds\n",
      "Did not meet early stopping. Best iteration is:\n",
      "[905]\tvalid_0's rmse: 40.0493\n",
      "Training until validation scores don't improve for 100 rounds\n"
     ]
    },
    {
     "name": "stderr",
     "output_type": "stream",
     "text": [
      "[I 2025-09-14 11:00:05,503] Trial 112 finished with value: 42.47217922748332 and parameters: {'lambda_l1': 3.590884118292531e-07, 'lambda_l2': 9.614231865928561, 'num_leaves': 222, 'feature_fraction': 0.46309715219619907, 'bagging_fraction': 0.6272805817168459, 'bagging_freq': 1, 'min_child_samples': 18, 'learning_rate': 0.04072667983924035, 'max_depth': 10}. Best is trial 82 with value: 42.378015751940964.\n"
     ]
    },
    {
     "name": "stdout",
     "output_type": "stream",
     "text": [
      "Early stopping, best iteration is:\n",
      "[690]\tvalid_0's rmse: 44.1279\n",
      "Training until validation scores don't improve for 100 rounds\n",
      "Early stopping, best iteration is:\n",
      "[520]\tvalid_0's rmse: 43.3441\n",
      "Training until validation scores don't improve for 100 rounds\n",
      "Early stopping, best iteration is:\n",
      "[721]\tvalid_0's rmse: 42.1079\n",
      "Training until validation scores don't improve for 100 rounds\n",
      "Early stopping, best iteration is:\n",
      "[349]\tvalid_0's rmse: 43.6169\n",
      "Training until validation scores don't improve for 100 rounds\n",
      "Early stopping, best iteration is:\n",
      "[738]\tvalid_0's rmse: 40.0118\n",
      "Training until validation scores don't improve for 100 rounds\n"
     ]
    },
    {
     "name": "stderr",
     "output_type": "stream",
     "text": [
      "[I 2025-09-14 11:00:20,618] Trial 113 finished with value: 42.633702241222394 and parameters: {'lambda_l1': 3.436582633026877e-08, 'lambda_l2': 9.85830554484415, 'num_leaves': 223, 'feature_fraction': 0.4333382848029365, 'bagging_fraction': 0.6124092956589376, 'bagging_freq': 1, 'min_child_samples': 16, 'learning_rate': 0.04047706831863136, 'max_depth': 10}. Best is trial 82 with value: 42.378015751940964.\n"
     ]
    },
    {
     "name": "stdout",
     "output_type": "stream",
     "text": [
      "Early stopping, best iteration is:\n",
      "[807]\tvalid_0's rmse: 44.0877\n",
      "Training until validation scores don't improve for 100 rounds\n",
      "Early stopping, best iteration is:\n",
      "[577]\tvalid_0's rmse: 43.4451\n",
      "Training until validation scores don't improve for 100 rounds\n",
      "Early stopping, best iteration is:\n",
      "[368]\tvalid_0's rmse: 41.5679\n",
      "Training until validation scores don't improve for 100 rounds\n",
      "Early stopping, best iteration is:\n",
      "[349]\tvalid_0's rmse: 43.9464\n",
      "Training until validation scores don't improve for 100 rounds\n",
      "Did not meet early stopping. Best iteration is:\n",
      "[1000]\tvalid_0's rmse: 40.3385\n",
      "Training until validation scores don't improve for 100 rounds\n"
     ]
    },
    {
     "name": "stderr",
     "output_type": "stream",
     "text": [
      "[I 2025-09-14 11:00:37,407] Trial 114 finished with value: 42.59032357471382 and parameters: {'lambda_l1': 2.7606732397239736e-07, 'lambda_l2': 3.3925094457970206, 'num_leaves': 232, 'feature_fraction': 0.4152404300265991, 'bagging_fraction': 0.532694297714814, 'bagging_freq': 1, 'min_child_samples': 12, 'learning_rate': 0.030094192267204577, 'max_depth': 11}. Best is trial 82 with value: 42.378015751940964.\n"
     ]
    },
    {
     "name": "stdout",
     "output_type": "stream",
     "text": [
      "Did not meet early stopping. Best iteration is:\n",
      "[941]\tvalid_0's rmse: 43.6538\n",
      "Training until validation scores don't improve for 100 rounds\n",
      "Did not meet early stopping. Best iteration is:\n",
      "[970]\tvalid_0's rmse: 43.7254\n",
      "Training until validation scores don't improve for 100 rounds\n",
      "Did not meet early stopping. Best iteration is:\n",
      "[994]\tvalid_0's rmse: 41.6539\n",
      "Training until validation scores don't improve for 100 rounds\n",
      "Early stopping, best iteration is:\n",
      "[802]\tvalid_0's rmse: 42.5198\n",
      "Training until validation scores don't improve for 100 rounds\n",
      "Early stopping, best iteration is:\n",
      "[732]\tvalid_0's rmse: 42.1734\n",
      "Training until validation scores don't improve for 100 rounds\n"
     ]
    },
    {
     "name": "stderr",
     "output_type": "stream",
     "text": [
      "[I 2025-09-14 11:00:48,583] Trial 115 finished with value: 43.37771058644341 and parameters: {'lambda_l1': 3.6970325821279865e-07, 'lambda_l2': 1.6310024953295328, 'num_leaves': 215, 'feature_fraction': 0.47522915024008106, 'bagging_fraction': 0.6930045401258178, 'bagging_freq': 1, 'min_child_samples': 67, 'learning_rate': 0.03712115528198166, 'max_depth': 10}. Best is trial 82 with value: 42.378015751940964.\n"
     ]
    },
    {
     "name": "stdout",
     "output_type": "stream",
     "text": [
      "Early stopping, best iteration is:\n",
      "[760]\tvalid_0's rmse: 46.8161\n",
      "Training until validation scores don't improve for 100 rounds\n",
      "Early stopping, best iteration is:\n",
      "[722]\tvalid_0's rmse: 43.4938\n",
      "Training until validation scores don't improve for 100 rounds\n",
      "Early stopping, best iteration is:\n",
      "[420]\tvalid_0's rmse: 41.055\n",
      "Training until validation scores don't improve for 100 rounds\n",
      "Early stopping, best iteration is:\n",
      "[395]\tvalid_0's rmse: 43.8983\n",
      "Training until validation scores don't improve for 100 rounds\n",
      "Did not meet early stopping. Best iteration is:\n",
      "[1000]\tvalid_0's rmse: 40.2313\n",
      "Training until validation scores don't improve for 100 rounds\n"
     ]
    },
    {
     "name": "stderr",
     "output_type": "stream",
     "text": [
      "[I 2025-09-14 11:01:02,698] Trial 116 finished with value: 42.57634076798633 and parameters: {'lambda_l1': 6.889934900887507e-08, 'lambda_l2': 0.5772886376772922, 'num_leaves': 185, 'feature_fraction': 0.44473078158032103, 'bagging_fraction': 0.6512900857998795, 'bagging_freq': 5, 'min_child_samples': 14, 'learning_rate': 0.025386000496110447, 'max_depth': 9}. Best is trial 82 with value: 42.378015751940964.\n"
     ]
    },
    {
     "name": "stdout",
     "output_type": "stream",
     "text": [
      "Early stopping, best iteration is:\n",
      "[655]\tvalid_0's rmse: 44.2034\n",
      "Training until validation scores don't improve for 100 rounds\n",
      "Early stopping, best iteration is:\n",
      "[91]\tvalid_0's rmse: 45.331\n",
      "Training until validation scores don't improve for 100 rounds\n",
      "Early stopping, best iteration is:\n",
      "[70]\tvalid_0's rmse: 44.847\n",
      "Training until validation scores don't improve for 100 rounds\n",
      "Early stopping, best iteration is:\n",
      "[39]\tvalid_0's rmse: 44.6643\n",
      "Training until validation scores don't improve for 100 rounds\n",
      "Did not meet early stopping. Best iteration is:\n",
      "[918]\tvalid_0's rmse: 42.1877\n",
      "Training until validation scores don't improve for 100 rounds\n"
     ]
    },
    {
     "name": "stderr",
     "output_type": "stream",
     "text": [
      "[I 2025-09-14 11:01:10,845] Trial 117 finished with value: 44.76029953279018 and parameters: {'lambda_l1': 1.3942700353776823e-07, 'lambda_l2': 4.989300156909192, 'num_leaves': 245, 'feature_fraction': 0.49181963195445355, 'bagging_fraction': 0.6685486705576988, 'bagging_freq': 2, 'min_child_samples': 18, 'learning_rate': 0.23101150901549572, 'max_depth': 11}. Best is trial 82 with value: 42.378015751940964.\n"
     ]
    },
    {
     "name": "stdout",
     "output_type": "stream",
     "text": [
      "Early stopping, best iteration is:\n",
      "[74]\tvalid_0's rmse: 46.7715\n",
      "Training until validation scores don't improve for 100 rounds\n",
      "Early stopping, best iteration is:\n",
      "[576]\tvalid_0's rmse: 43.3936\n",
      "Training until validation scores don't improve for 100 rounds\n",
      "Early stopping, best iteration is:\n",
      "[479]\tvalid_0's rmse: 42.5378\n",
      "Training until validation scores don't improve for 100 rounds\n",
      "Early stopping, best iteration is:\n",
      "[249]\tvalid_0's rmse: 43.6323\n",
      "Training until validation scores don't improve for 100 rounds\n",
      "Early stopping, best iteration is:\n",
      "[670]\tvalid_0's rmse: 40.8353\n",
      "Training until validation scores don't improve for 100 rounds\n"
     ]
    },
    {
     "name": "stderr",
     "output_type": "stream",
     "text": [
      "[I 2025-09-14 11:01:20,571] Trial 118 finished with value: 43.10768019524197 and parameters: {'lambda_l1': 8.66989907526844e-08, 'lambda_l2': 7.670716267165263e-07, 'num_leaves': 226, 'feature_fraction': 0.4065783257546238, 'bagging_fraction': 0.6050635082513158, 'bagging_freq': 1, 'min_child_samples': 26, 'learning_rate': 0.04443627841548632, 'max_depth': 10}. Best is trial 82 with value: 42.378015751940964.\n"
     ]
    },
    {
     "name": "stdout",
     "output_type": "stream",
     "text": [
      "Early stopping, best iteration is:\n",
      "[554]\tvalid_0's rmse: 45.1393\n",
      "Training until validation scores don't improve for 100 rounds\n",
      "Early stopping, best iteration is:\n",
      "[28]\tvalid_0's rmse: 46.8313\n",
      "Training until validation scores don't improve for 100 rounds\n",
      "Early stopping, best iteration is:\n",
      "[46]\tvalid_0's rmse: 45.3986\n",
      "Training until validation scores don't improve for 100 rounds\n",
      "Early stopping, best iteration is:\n",
      "[26]\tvalid_0's rmse: 44.916\n",
      "Training until validation scores don't improve for 100 rounds\n",
      "Early stopping, best iteration is:\n",
      "[90]\tvalid_0's rmse: 42.5227\n",
      "Training until validation scores don't improve for 100 rounds\n"
     ]
    },
    {
     "name": "stderr",
     "output_type": "stream",
     "text": [
      "[I 2025-09-14 11:01:26,462] Trial 119 finished with value: 45.32608568365177 and parameters: {'lambda_l1': 1.9717205464870182e-07, 'lambda_l2': 2.8253617446497756, 'num_leaves': 270, 'feature_fraction': 0.45945527222673765, 'bagging_fraction': 0.5831763541656051, 'bagging_freq': 1, 'min_child_samples': 7, 'learning_rate': 0.1766546770295217, 'max_depth': 11}. Best is trial 82 with value: 42.378015751940964.\n"
     ]
    },
    {
     "name": "stdout",
     "output_type": "stream",
     "text": [
      "Early stopping, best iteration is:\n",
      "[105]\tvalid_0's rmse: 46.9618\n",
      "Training until validation scores don't improve for 100 rounds\n",
      "Early stopping, best iteration is:\n",
      "[510]\tvalid_0's rmse: 42.7843\n",
      "Training until validation scores don't improve for 100 rounds\n",
      "Early stopping, best iteration is:\n",
      "[213]\tvalid_0's rmse: 42.8259\n",
      "Training until validation scores don't improve for 100 rounds\n",
      "Early stopping, best iteration is:\n",
      "[231]\tvalid_0's rmse: 44.132\n",
      "Training until validation scores don't improve for 100 rounds\n",
      "Early stopping, best iteration is:\n",
      "[871]\tvalid_0's rmse: 40.2202\n",
      "Training until validation scores don't improve for 100 rounds\n"
     ]
    },
    {
     "name": "stderr",
     "output_type": "stream",
     "text": [
      "[I 2025-09-14 11:01:37,635] Trial 120 finished with value: 43.00657396650292 and parameters: {'lambda_l1': 2.117845760779506e-06, 'lambda_l2': 4.108824453313288, 'num_leaves': 250, 'feature_fraction': 0.5038155730204422, 'bagging_fraction': 0.6211351463482456, 'bagging_freq': 1, 'min_child_samples': 21, 'learning_rate': 0.056716011358851, 'max_depth': 10}. Best is trial 82 with value: 42.378015751940964.\n"
     ]
    },
    {
     "name": "stdout",
     "output_type": "stream",
     "text": [
      "Early stopping, best iteration is:\n",
      "[507]\tvalid_0's rmse: 45.0705\n",
      "Training until validation scores don't improve for 100 rounds\n",
      "Did not meet early stopping. Best iteration is:\n",
      "[998]\tvalid_0's rmse: 42.8222\n",
      "Training until validation scores don't improve for 100 rounds\n",
      "Did not meet early stopping. Best iteration is:\n",
      "[1000]\tvalid_0's rmse: 42.0418\n",
      "Training until validation scores don't improve for 100 rounds\n",
      "Early stopping, best iteration is:\n",
      "[708]\tvalid_0's rmse: 43.2772\n",
      "Training until validation scores don't improve for 100 rounds\n",
      "Did not meet early stopping. Best iteration is:\n",
      "[940]\tvalid_0's rmse: 40.0505\n",
      "Training until validation scores don't improve for 100 rounds\n"
     ]
    },
    {
     "name": "stderr",
     "output_type": "stream",
     "text": [
      "[I 2025-09-14 11:01:57,431] Trial 121 finished with value: 42.516720964894816 and parameters: {'lambda_l1': 1.0073703215419346e-07, 'lambda_l2': 7.0080335325623215, 'num_leaves': 208, 'feature_fraction': 0.47247603326475784, 'bagging_fraction': 0.6279058297930918, 'bagging_freq': 1, 'min_child_samples': 18, 'learning_rate': 0.018193957770386474, 'max_depth': 10}. Best is trial 82 with value: 42.378015751940964.\n"
     ]
    },
    {
     "name": "stdout",
     "output_type": "stream",
     "text": [
      "Did not meet early stopping. Best iteration is:\n",
      "[999]\tvalid_0's rmse: 44.392\n",
      "Training until validation scores don't improve for 100 rounds\n",
      "Did not meet early stopping. Best iteration is:\n",
      "[970]\tvalid_0's rmse: 43.1116\n",
      "Training until validation scores don't improve for 100 rounds\n",
      "Did not meet early stopping. Best iteration is:\n",
      "[993]\tvalid_0's rmse: 41.3515\n",
      "Training until validation scores don't improve for 100 rounds\n",
      "Early stopping, best iteration is:\n",
      "[814]\tvalid_0's rmse: 43.116\n",
      "Training until validation scores don't improve for 100 rounds\n",
      "Did not meet early stopping. Best iteration is:\n",
      "[1000]\tvalid_0's rmse: 40.5211\n",
      "Training until validation scores don't improve for 100 rounds\n"
     ]
    },
    {
     "name": "stderr",
     "output_type": "stream",
     "text": [
      "[I 2025-09-14 11:02:17,447] Trial 122 finished with value: 42.47536555675748 and parameters: {'lambda_l1': 3.360424486608303e-08, 'lambda_l2': 5.958993073415341, 'num_leaves': 193, 'feature_fraction': 0.4747870936233859, 'bagging_fraction': 0.6408310519388275, 'bagging_freq': 1, 'min_child_samples': 16, 'learning_rate': 0.016551999441587136, 'max_depth': 9}. Best is trial 82 with value: 42.378015751940964.\n"
     ]
    },
    {
     "name": "stdout",
     "output_type": "stream",
     "text": [
      "Did not meet early stopping. Best iteration is:\n",
      "[999]\tvalid_0's rmse: 44.2766\n",
      "Training until validation scores don't improve for 100 rounds\n",
      "Early stopping, best iteration is:\n",
      "[577]\tvalid_0's rmse: 43.1953\n",
      "Training until validation scores don't improve for 100 rounds\n",
      "Early stopping, best iteration is:\n",
      "[403]\tvalid_0's rmse: 42.5906\n",
      "Training until validation scores don't improve for 100 rounds\n",
      "Early stopping, best iteration is:\n",
      "[234]\tvalid_0's rmse: 43.541\n",
      "Training until validation scores don't improve for 100 rounds\n",
      "Did not meet early stopping. Best iteration is:\n",
      "[934]\tvalid_0's rmse: 39.6215\n",
      "Training until validation scores don't improve for 100 rounds\n"
     ]
    },
    {
     "name": "stderr",
     "output_type": "stream",
     "text": [
      "[I 2025-09-14 11:02:31,082] Trial 123 finished with value: 42.633882677788044 and parameters: {'lambda_l1': 4.359258325367615e-08, 'lambda_l2': 1.6898874371319637, 'num_leaves': 220, 'feature_fraction': 0.5527391752976603, 'bagging_fraction': 0.6448430516549986, 'bagging_freq': 1, 'min_child_samples': 16, 'learning_rate': 0.03335485613718353, 'max_depth': 9}. Best is trial 82 with value: 42.378015751940964.\n"
     ]
    },
    {
     "name": "stdout",
     "output_type": "stream",
     "text": [
      "Early stopping, best iteration is:\n",
      "[688]\tvalid_0's rmse: 44.221\n",
      "Training until validation scores don't improve for 100 rounds\n",
      "Early stopping, best iteration is:\n",
      "[680]\tvalid_0's rmse: 43.9713\n",
      "Training until validation scores don't improve for 100 rounds\n",
      "Did not meet early stopping. Best iteration is:\n",
      "[1000]\tvalid_0's rmse: 42.4538\n",
      "Training until validation scores don't improve for 100 rounds\n",
      "Early stopping, best iteration is:\n",
      "[260]\tvalid_0's rmse: 44.7902\n",
      "Training until validation scores don't improve for 100 rounds\n",
      "Did not meet early stopping. Best iteration is:\n",
      "[998]\tvalid_0's rmse: 40.0205\n",
      "Training until validation scores don't improve for 100 rounds\n"
     ]
    },
    {
     "name": "stderr",
     "output_type": "stream",
     "text": [
      "[I 2025-09-14 11:02:49,645] Trial 124 finished with value: 43.05167491528118 and parameters: {'lambda_l1': 2.7643051825836233e-08, 'lambda_l2': 4.608347090620976, 'num_leaves': 195, 'feature_fraction': 0.496716863492738, 'bagging_fraction': 0.9640869956803844, 'bagging_freq': 1, 'min_child_samples': 13, 'learning_rate': 0.02394869126017111, 'max_depth': 9}. Best is trial 82 with value: 42.378015751940964.\n"
     ]
    },
    {
     "name": "stdout",
     "output_type": "stream",
     "text": [
      "Early stopping, best iteration is:\n",
      "[759]\tvalid_0's rmse: 44.0226\n",
      "Training until validation scores don't improve for 100 rounds\n",
      "Early stopping, best iteration is:\n",
      "[846]\tvalid_0's rmse: 43.2505\n",
      "Training until validation scores don't improve for 100 rounds\n",
      "Did not meet early stopping. Best iteration is:\n",
      "[998]\tvalid_0's rmse: 41.4016\n",
      "Training until validation scores don't improve for 100 rounds\n",
      "Early stopping, best iteration is:\n",
      "[710]\tvalid_0's rmse: 43.512\n",
      "Training until validation scores don't improve for 100 rounds\n",
      "Did not meet early stopping. Best iteration is:\n",
      "[976]\tvalid_0's rmse: 40.8233\n",
      "Training until validation scores don't improve for 100 rounds\n",
      "Did not meet early stopping. Best iteration is:\n",
      "[1000]\tvalid_0's rmse: 44.2078\n"
     ]
    },
    {
     "name": "stderr",
     "output_type": "stream",
     "text": [
      "[I 2025-09-14 11:03:13,314] Trial 125 finished with value: 42.639056629337475 and parameters: {'lambda_l1': 1.3195485065643277e-08, 'lambda_l2': 8.092878928937768, 'num_leaves': 259, 'feature_fraction': 0.44419706676200316, 'bagging_fraction': 0.5963847027169528, 'bagging_freq': 1, 'min_child_samples': 9, 'learning_rate': 0.015723899869364427, 'max_depth': 9}. Best is trial 82 with value: 42.378015751940964.\n"
     ]
    },
    {
     "name": "stdout",
     "output_type": "stream",
     "text": [
      "Training until validation scores don't improve for 100 rounds\n",
      "Did not meet early stopping. Best iteration is:\n",
      "[1000]\tvalid_0's rmse: 43.6904\n",
      "Training until validation scores don't improve for 100 rounds\n",
      "Did not meet early stopping. Best iteration is:\n",
      "[1000]\tvalid_0's rmse: 42.1821\n",
      "Training until validation scores don't improve for 100 rounds\n",
      "Did not meet early stopping. Best iteration is:\n",
      "[997]\tvalid_0's rmse: 43.5363\n",
      "Training until validation scores don't improve for 100 rounds\n",
      "Did not meet early stopping. Best iteration is:\n",
      "[1000]\tvalid_0's rmse: 41.0224\n",
      "Training until validation scores don't improve for 100 rounds\n"
     ]
    },
    {
     "name": "stderr",
     "output_type": "stream",
     "text": [
      "[I 2025-09-14 11:03:32,944] Trial 126 finished with value: 43.10512284269389 and parameters: {'lambda_l1': 3.419090958770946e-07, 'lambda_l2': 2.4248831840693015, 'num_leaves': 171, 'feature_fraction': 0.430865551341989, 'bagging_fraction': 0.6600013495605502, 'bagging_freq': 1, 'min_child_samples': 23, 'learning_rate': 0.01001983134638873, 'max_depth': 11}. Best is trial 82 with value: 42.378015751940964.\n"
     ]
    },
    {
     "name": "stdout",
     "output_type": "stream",
     "text": [
      "Did not meet early stopping. Best iteration is:\n",
      "[995]\tvalid_0's rmse: 45.0944\n",
      "Training until validation scores don't improve for 100 rounds\n",
      "Early stopping, best iteration is:\n",
      "[405]\tvalid_0's rmse: 43.6435\n",
      "Training until validation scores don't improve for 100 rounds\n",
      "Early stopping, best iteration is:\n",
      "[397]\tvalid_0's rmse: 41.6569\n",
      "Training until validation scores don't improve for 100 rounds\n",
      "Early stopping, best iteration is:\n",
      "[347]\tvalid_0's rmse: 43.9135\n",
      "Training until validation scores don't improve for 100 rounds\n",
      "Early stopping, best iteration is:\n",
      "[739]\tvalid_0's rmse: 39.9894\n",
      "Training until validation scores don't improve for 100 rounds\n"
     ]
    },
    {
     "name": "stderr",
     "output_type": "stream",
     "text": [
      "[I 2025-09-14 11:03:45,831] Trial 127 finished with value: 42.721328883252625 and parameters: {'lambda_l1': 4.7522287589534014e-08, 'lambda_l2': 1.1128951985376978, 'num_leaves': 282, 'feature_fraction': 0.4190141498718734, 'bagging_fraction': 0.5592339816229104, 'bagging_freq': 1, 'min_child_samples': 15, 'learning_rate': 0.03034993976629838, 'max_depth': 10}. Best is trial 82 with value: 42.378015751940964.\n"
     ]
    },
    {
     "name": "stdout",
     "output_type": "stream",
     "text": [
      "Early stopping, best iteration is:\n",
      "[693]\tvalid_0's rmse: 44.4034\n",
      "Training until validation scores don't improve for 100 rounds\n",
      "Early stopping, best iteration is:\n",
      "[343]\tvalid_0's rmse: 43.382\n",
      "Training until validation scores don't improve for 100 rounds\n",
      "Early stopping, best iteration is:\n",
      "[284]\tvalid_0's rmse: 42.0909\n",
      "Training until validation scores don't improve for 100 rounds\n",
      "Early stopping, best iteration is:\n",
      "[304]\tvalid_0's rmse: 42.8489\n",
      "Training until validation scores don't improve for 100 rounds\n",
      "Early stopping, best iteration is:\n",
      "[671]\tvalid_0's rmse: 40.4189\n",
      "Training until validation scores don't improve for 100 rounds\n"
     ]
    },
    {
     "name": "stderr",
     "output_type": "stream",
     "text": [
      "[I 2025-09-14 11:04:03,028] Trial 128 finished with value: 42.63126288907493 and parameters: {'lambda_l1': 7.073237759748921e-08, 'lambda_l2': 9.922969344990568, 'num_leaves': 239, 'feature_fraction': 0.4737520498013227, 'bagging_fraction': 0.610917431662293, 'bagging_freq': 2, 'min_child_samples': 11, 'learning_rate': 0.04132174494135525, 'max_depth': 11}. Best is trial 82 with value: 42.378015751940964.\n"
     ]
    },
    {
     "name": "stdout",
     "output_type": "stream",
     "text": [
      "Early stopping, best iteration is:\n",
      "[674]\tvalid_0's rmse: 44.4156\n",
      "Training until validation scores don't improve for 100 rounds\n",
      "Did not meet early stopping. Best iteration is:\n",
      "[999]\tvalid_0's rmse: 44.6948\n",
      "Training until validation scores don't improve for 100 rounds\n",
      "Did not meet early stopping. Best iteration is:\n",
      "[1000]\tvalid_0's rmse: 43.4352\n",
      "Training until validation scores don't improve for 100 rounds\n",
      "Did not meet early stopping. Best iteration is:\n",
      "[991]\tvalid_0's rmse: 44.0679\n",
      "Training until validation scores don't improve for 100 rounds\n",
      "Did not meet early stopping. Best iteration is:\n",
      "[991]\tvalid_0's rmse: 43.4181\n",
      "Training until validation scores don't improve for 100 rounds\n"
     ]
    },
    {
     "name": "stderr",
     "output_type": "stream",
     "text": [
      "[I 2025-09-14 11:04:12,852] Trial 129 finished with value: 44.62090270255729 and parameters: {'lambda_l1': 5.977210063701328e-07, 'lambda_l2': 3.3861833798599994, 'num_leaves': 230, 'feature_fraction': 0.6225108108111729, 'bagging_fraction': 0.6371096586071272, 'bagging_freq': 1, 'min_child_samples': 93, 'learning_rate': 0.02104386554380359, 'max_depth': 8}. Best is trial 82 with value: 42.378015751940964.\n"
     ]
    },
    {
     "name": "stdout",
     "output_type": "stream",
     "text": [
      "Did not meet early stopping. Best iteration is:\n",
      "[999]\tvalid_0's rmse: 47.4885\n",
      "Training until validation scores don't improve for 100 rounds\n",
      "Early stopping, best iteration is:\n",
      "[419]\tvalid_0's rmse: 43.4386\n",
      "Training until validation scores don't improve for 100 rounds\n",
      "Early stopping, best iteration is:\n",
      "[535]\tvalid_0's rmse: 42.8232\n",
      "Training until validation scores don't improve for 100 rounds\n",
      "Early stopping, best iteration is:\n",
      "[299]\tvalid_0's rmse: 43.1389\n",
      "Training until validation scores don't improve for 100 rounds\n",
      "Did not meet early stopping. Best iteration is:\n",
      "[982]\tvalid_0's rmse: 39.855\n",
      "Training until validation scores don't improve for 100 rounds\n"
     ]
    },
    {
     "name": "stderr",
     "output_type": "stream",
     "text": [
      "[I 2025-09-14 11:04:32,260] Trial 130 finished with value: 42.88955994589243 and parameters: {'lambda_l1': 1.8501130856571693e-08, 'lambda_l2': 1.9259958415235794, 'num_leaves': 212, 'feature_fraction': 0.9759522991207215, 'bagging_fraction': 0.5757437038416595, 'bagging_freq': 1, 'min_child_samples': 19, 'learning_rate': 0.03478355812250733, 'max_depth': 10}. Best is trial 82 with value: 42.378015751940964.\n"
     ]
    },
    {
     "name": "stdout",
     "output_type": "stream",
     "text": [
      "Early stopping, best iteration is:\n",
      "[757]\tvalid_0's rmse: 45.1921\n",
      "Training until validation scores don't improve for 100 rounds\n",
      "Did not meet early stopping. Best iteration is:\n",
      "[996]\tvalid_0's rmse: 43.1571\n",
      "Training until validation scores don't improve for 100 rounds\n",
      "Did not meet early stopping. Best iteration is:\n",
      "[994]\tvalid_0's rmse: 41.8419\n",
      "Training until validation scores don't improve for 100 rounds\n",
      "Early stopping, best iteration is:\n",
      "[799]\tvalid_0's rmse: 43.3837\n",
      "Training until validation scores don't improve for 100 rounds\n",
      "Did not meet early stopping. Best iteration is:\n",
      "[1000]\tvalid_0's rmse: 40.1429\n",
      "Training until validation scores don't improve for 100 rounds\n"
     ]
    },
    {
     "name": "stderr",
     "output_type": "stream",
     "text": [
      "[I 2025-09-14 11:04:54,752] Trial 131 finished with value: 42.551949549805 and parameters: {'lambda_l1': 1.3345396353635582e-07, 'lambda_l2': 6.632879882738544, 'num_leaves': 210, 'feature_fraction': 0.5173282173541219, 'bagging_fraction': 0.6288249332009347, 'bagging_freq': 1, 'min_child_samples': 17, 'learning_rate': 0.016600751268124186, 'max_depth': 10}. Best is trial 82 with value: 42.378015751940964.\n"
     ]
    },
    {
     "name": "stdout",
     "output_type": "stream",
     "text": [
      "Did not meet early stopping. Best iteration is:\n",
      "[993]\tvalid_0's rmse: 44.2341\n",
      "Training until validation scores don't improve for 100 rounds\n",
      "Early stopping, best iteration is:\n",
      "[625]\tvalid_0's rmse: 43.3246\n",
      "Training until validation scores don't improve for 100 rounds\n",
      "Early stopping, best iteration is:\n",
      "[871]\tvalid_0's rmse: 41.0915\n",
      "Training until validation scores don't improve for 100 rounds\n",
      "Early stopping, best iteration is:\n",
      "[480]\tvalid_0's rmse: 43.2483\n",
      "Training until validation scores don't improve for 100 rounds\n",
      "Early stopping, best iteration is:\n",
      "[873]\tvalid_0's rmse: 39.9832\n",
      "Training until validation scores don't improve for 100 rounds\n"
     ]
    },
    {
     "name": "stderr",
     "output_type": "stream",
     "text": [
      "[I 2025-09-14 11:05:11,450] Trial 132 finished with value: 42.49444808846635 and parameters: {'lambda_l1': 0.000601083613581415, 'lambda_l2': 5.823799448542471, 'num_leaves': 205, 'feature_fraction': 0.47376427564557255, 'bagging_fraction': 0.6208984006054337, 'bagging_freq': 1, 'min_child_samples': 19, 'learning_rate': 0.02683985716653621, 'max_depth': 10}. Best is trial 82 with value: 42.378015751940964.\n"
     ]
    },
    {
     "name": "stdout",
     "output_type": "stream",
     "text": [
      "Early stopping, best iteration is:\n",
      "[826]\tvalid_0's rmse: 44.8247\n",
      "Training until validation scores don't improve for 100 rounds\n",
      "Early stopping, best iteration is:\n",
      "[877]\tvalid_0's rmse: 42.6302\n",
      "Training until validation scores don't improve for 100 rounds\n",
      "Early stopping, best iteration is:\n",
      "[656]\tvalid_0's rmse: 41.9797\n",
      "Training until validation scores don't improve for 100 rounds\n",
      "Early stopping, best iteration is:\n",
      "[509]\tvalid_0's rmse: 43.3062\n",
      "Training until validation scores don't improve for 100 rounds\n",
      "Did not meet early stopping. Best iteration is:\n",
      "[1000]\tvalid_0's rmse: 40.1961\n",
      "Training until validation scores don't improve for 100 rounds\n"
     ]
    },
    {
     "name": "stderr",
     "output_type": "stream",
     "text": [
      "[I 2025-09-14 11:05:26,867] Trial 133 finished with value: 42.5002052241603 and parameters: {'lambda_l1': 0.0022099721163814606, 'lambda_l2': 4.9159345117556885, 'num_leaves': 193, 'feature_fraction': 0.4552569994767166, 'bagging_fraction': 0.5954335898830354, 'bagging_freq': 1, 'min_child_samples': 20, 'learning_rate': 0.025521372828358712, 'max_depth': 9}. Best is trial 82 with value: 42.378015751940964.\n"
     ]
    },
    {
     "name": "stdout",
     "output_type": "stream",
     "text": [
      "Did not meet early stopping. Best iteration is:\n",
      "[959]\tvalid_0's rmse: 44.3888\n",
      "Training until validation scores don't improve for 100 rounds\n",
      "Early stopping, best iteration is:\n",
      "[355]\tvalid_0's rmse: 43.0492\n",
      "Training until validation scores don't improve for 100 rounds\n",
      "Early stopping, best iteration is:\n",
      "[402]\tvalid_0's rmse: 42.4344\n",
      "Training until validation scores don't improve for 100 rounds\n",
      "Early stopping, best iteration is:\n",
      "[299]\tvalid_0's rmse: 44.0726\n",
      "Training until validation scores don't improve for 100 rounds\n",
      "Early stopping, best iteration is:\n",
      "[854]\tvalid_0's rmse: 39.4907\n",
      "Training until validation scores don't improve for 100 rounds\n"
     ]
    },
    {
     "name": "stderr",
     "output_type": "stream",
     "text": [
      "[I 2025-09-14 11:05:41,976] Trial 134 finished with value: 42.71048402058428 and parameters: {'lambda_l1': 3.059872674986909e-08, 'lambda_l2': 3.4349009271715336, 'num_leaves': 219, 'feature_fraction': 0.4865604105114034, 'bagging_fraction': 0.6155341617533654, 'bagging_freq': 1, 'min_child_samples': 15, 'learning_rate': 0.02974044307178627, 'max_depth': 11}. Best is trial 82 with value: 42.378015751940964.\n"
     ]
    },
    {
     "name": "stdout",
     "output_type": "stream",
     "text": [
      "Early stopping, best iteration is:\n",
      "[693]\tvalid_0's rmse: 44.5055\n",
      "Training until validation scores don't improve for 100 rounds\n",
      "Early stopping, best iteration is:\n",
      "[357]\tvalid_0's rmse: 43.5162\n",
      "Training until validation scores don't improve for 100 rounds\n",
      "Early stopping, best iteration is:\n",
      "[612]\tvalid_0's rmse: 41.9134\n",
      "Training until validation scores don't improve for 100 rounds\n",
      "Early stopping, best iteration is:\n",
      "[333]\tvalid_0's rmse: 43.6352\n",
      "Training until validation scores don't improve for 100 rounds\n",
      "Early stopping, best iteration is:\n",
      "[709]\tvalid_0's rmse: 40.8039\n",
      "Training until validation scores don't improve for 100 rounds\n"
     ]
    },
    {
     "name": "stderr",
     "output_type": "stream",
     "text": [
      "[I 2025-09-14 11:06:00,901] Trial 135 finished with value: 42.789284927855235 and parameters: {'lambda_l1': 1.9170069115461884e-07, 'lambda_l2': 9.964202384092788, 'num_leaves': 177, 'feature_fraction': 0.5941429214923034, 'bagging_fraction': 0.6784984692743915, 'bagging_freq': 1, 'min_child_samples': 12, 'learning_rate': 0.03640618766063065, 'max_depth': 10}. Best is trial 82 with value: 42.378015751940964.\n"
     ]
    },
    {
     "name": "stdout",
     "output_type": "stream",
     "text": [
      "Early stopping, best iteration is:\n",
      "[696]\tvalid_0's rmse: 44.0778\n",
      "Training until validation scores don't improve for 100 rounds\n",
      "Early stopping, best iteration is:\n",
      "[666]\tvalid_0's rmse: 43.8613\n",
      "Training until validation scores don't improve for 100 rounds\n",
      "Early stopping, best iteration is:\n",
      "[508]\tvalid_0's rmse: 42.1156\n",
      "Training until validation scores don't improve for 100 rounds\n",
      "Early stopping, best iteration is:\n",
      "[309]\tvalid_0's rmse: 43.1043\n",
      "Training until validation scores don't improve for 100 rounds\n",
      "Early stopping, best iteration is:\n",
      "[675]\tvalid_0's rmse: 41.3293\n",
      "Training until validation scores don't improve for 100 rounds\n"
     ]
    },
    {
     "name": "stderr",
     "output_type": "stream",
     "text": [
      "[I 2025-09-14 11:06:10,821] Trial 136 finished with value: 43.29031620163745 and parameters: {'lambda_l1': 0.005361973774599075, 'lambda_l2': 1.4750947838130262, 'num_leaves': 254, 'feature_fraction': 0.510533301527027, 'bagging_fraction': 0.654037941612466, 'bagging_freq': 1, 'min_child_samples': 39, 'learning_rate': 0.04813246433852362, 'max_depth': 10}. Best is trial 82 with value: 42.378015751940964.\n"
     ]
    },
    {
     "name": "stdout",
     "output_type": "stream",
     "text": [
      "Early stopping, best iteration is:\n",
      "[485]\tvalid_0's rmse: 46.0411\n",
      "Training until validation scores don't improve for 100 rounds\n",
      "Did not meet early stopping. Best iteration is:\n",
      "[970]\tvalid_0's rmse: 43.0613\n",
      "Training until validation scores don't improve for 100 rounds\n",
      "Did not meet early stopping. Best iteration is:\n",
      "[983]\tvalid_0's rmse: 41.705\n",
      "Training until validation scores don't improve for 100 rounds\n",
      "Early stopping, best iteration is:\n",
      "[490]\tvalid_0's rmse: 42.9516\n",
      "Training until validation scores don't improve for 100 rounds\n",
      "Did not meet early stopping. Best iteration is:\n",
      "[926]\tvalid_0's rmse: 40.6374\n",
      "Training until validation scores don't improve for 100 rounds\n"
     ]
    },
    {
     "name": "stderr",
     "output_type": "stream",
     "text": [
      "[I 2025-09-14 11:06:27,794] Trial 137 finished with value: 42.577323139285866 and parameters: {'lambda_l1': 0.05933638782788437, 'lambda_l2': 2.2662772090013164, 'num_leaves': 264, 'feature_fraction': 0.4389451918150146, 'bagging_fraction': 0.5873762784866444, 'bagging_freq': 1, 'min_child_samples': 23, 'learning_rate': 0.022526120953957646, 'max_depth': 11}. Best is trial 82 with value: 42.378015751940964.\n"
     ]
    },
    {
     "name": "stdout",
     "output_type": "stream",
     "text": [
      "Did not meet early stopping. Best iteration is:\n",
      "[989]\tvalid_0's rmse: 44.5313\n",
      "Training until validation scores don't improve for 100 rounds\n",
      "Did not meet early stopping. Best iteration is:\n",
      "[986]\tvalid_0's rmse: 43.0898\n",
      "Training until validation scores don't improve for 100 rounds\n",
      "Did not meet early stopping. Best iteration is:\n",
      "[964]\tvalid_0's rmse: 41.5089\n",
      "Training until validation scores don't improve for 100 rounds\n",
      "Early stopping, best iteration is:\n",
      "[642]\tvalid_0's rmse: 43.2875\n",
      "Training until validation scores don't improve for 100 rounds\n",
      "Did not meet early stopping. Best iteration is:\n",
      "[992]\tvalid_0's rmse: 40.1752\n",
      "Training until validation scores don't improve for 100 rounds\n"
     ]
    },
    {
     "name": "stderr",
     "output_type": "stream",
     "text": [
      "[I 2025-09-14 11:06:55,759] Trial 138 finished with value: 42.46806288965017 and parameters: {'lambda_l1': 1.0244910466606545e-08, 'lambda_l2': 5.342289475905075, 'num_leaves': 274, 'feature_fraction': 0.533116102148494, 'bagging_fraction': 0.6047376274111079, 'bagging_freq': 1, 'min_child_samples': 14, 'learning_rate': 0.015659942577851166, 'max_depth': 12}. Best is trial 82 with value: 42.378015751940964.\n"
     ]
    },
    {
     "name": "stdout",
     "output_type": "stream",
     "text": [
      "Did not meet early stopping. Best iteration is:\n",
      "[990]\tvalid_0's rmse: 44.279\n",
      "Training until validation scores don't improve for 100 rounds\n",
      "Early stopping, best iteration is:\n",
      "[885]\tvalid_0's rmse: 43.7692\n",
      "Training until validation scores don't improve for 100 rounds\n",
      "Did not meet early stopping. Best iteration is:\n",
      "[965]\tvalid_0's rmse: 41.4537\n",
      "Training until validation scores don't improve for 100 rounds\n",
      "Early stopping, best iteration is:\n",
      "[347]\tvalid_0's rmse: 43.956\n",
      "Training until validation scores don't improve for 100 rounds\n",
      "Early stopping, best iteration is:\n",
      "[871]\tvalid_0's rmse: 40.7655\n",
      "Training until validation scores don't improve for 100 rounds\n"
     ]
    },
    {
     "name": "stderr",
     "output_type": "stream",
     "text": [
      "[I 2025-09-14 11:07:27,184] Trial 139 finished with value: 42.70980090453474 and parameters: {'lambda_l1': 1.3977535626053893e-08, 'lambda_l2': 0.9378255380822397, 'num_leaves': 300, 'feature_fraction': 0.5345698427440458, 'bagging_fraction': 0.6048499613071441, 'bagging_freq': 1, 'min_child_samples': 9, 'learning_rate': 0.0143352981312114, 'max_depth': 12}. Best is trial 82 with value: 42.378015751940964.\n"
     ]
    },
    {
     "name": "stdout",
     "output_type": "stream",
     "text": [
      "Early stopping, best iteration is:\n",
      "[807]\tvalid_0's rmse: 43.6046\n",
      "Training until validation scores don't improve for 100 rounds\n",
      "Did not meet early stopping. Best iteration is:\n",
      "[992]\tvalid_0's rmse: 43.3241\n",
      "Training until validation scores don't improve for 100 rounds\n",
      "Did not meet early stopping. Best iteration is:\n",
      "[988]\tvalid_0's rmse: 41.48\n",
      "Training until validation scores don't improve for 100 rounds\n",
      "Early stopping, best iteration is:\n",
      "[653]\tvalid_0's rmse: 43.7362\n",
      "Training until validation scores don't improve for 100 rounds\n",
      "Did not meet early stopping. Best iteration is:\n",
      "[1000]\tvalid_0's rmse: 39.8591\n",
      "Training until validation scores don't improve for 100 rounds\n"
     ]
    },
    {
     "name": "stderr",
     "output_type": "stream",
     "text": [
      "[I 2025-09-14 11:07:48,618] Trial 140 finished with value: 42.47471537320695 and parameters: {'lambda_l1': 0.00016912796594091713, 'lambda_l2': 0.5107173041007518, 'num_leaves': 275, 'feature_fraction': 0.5727623592784357, 'bagging_fraction': 0.5736580020647037, 'bagging_freq': 1, 'min_child_samples': 13, 'learning_rate': 0.01472622807636947, 'max_depth': 9}. Best is trial 82 with value: 42.378015751940964.\n"
     ]
    },
    {
     "name": "stdout",
     "output_type": "stream",
     "text": [
      "Did not meet early stopping. Best iteration is:\n",
      "[958]\tvalid_0's rmse: 43.9741\n",
      "Training until validation scores don't improve for 100 rounds\n",
      "Early stopping, best iteration is:\n",
      "[484]\tvalid_0's rmse: 43.3902\n",
      "Training until validation scores don't improve for 100 rounds\n",
      "Did not meet early stopping. Best iteration is:\n",
      "[945]\tvalid_0's rmse: 41.1181\n",
      "Training until validation scores don't improve for 100 rounds\n",
      "Early stopping, best iteration is:\n",
      "[473]\tvalid_0's rmse: 43.2551\n",
      "Training until validation scores don't improve for 100 rounds\n",
      "Did not meet early stopping. Best iteration is:\n",
      "[1000]\tvalid_0's rmse: 40.1496\n",
      "Training until validation scores don't improve for 100 rounds\n"
     ]
    },
    {
     "name": "stderr",
     "output_type": "stream",
     "text": [
      "[I 2025-09-14 11:08:07,733] Trial 141 finished with value: 42.271597632734014 and parameters: {'lambda_l1': 0.0002650475613217542, 'lambda_l2': 4.148190666776342, 'num_leaves': 272, 'feature_fraction': 0.5633389755128462, 'bagging_fraction': 0.5721086322830612, 'bagging_freq': 1, 'min_child_samples': 13, 'learning_rate': 0.020142958027772585, 'max_depth': 9}. Best is trial 141 with value: 42.271597632734014.\n"
     ]
    },
    {
     "name": "stdout",
     "output_type": "stream",
     "text": [
      "Did not meet early stopping. Best iteration is:\n",
      "[974]\tvalid_0's rmse: 43.4449\n",
      "Training until validation scores don't improve for 100 rounds\n",
      "Did not meet early stopping. Best iteration is:\n",
      "[1000]\tvalid_0's rmse: 43.8475\n",
      "Training until validation scores don't improve for 100 rounds\n",
      "Did not meet early stopping. Best iteration is:\n",
      "[999]\tvalid_0's rmse: 42.1853\n",
      "Training until validation scores don't improve for 100 rounds\n",
      "Did not meet early stopping. Best iteration is:\n",
      "[982]\tvalid_0's rmse: 43.4744\n",
      "Training until validation scores don't improve for 100 rounds\n",
      "Did not meet early stopping. Best iteration is:\n",
      "[993]\tvalid_0's rmse: 40.1174\n",
      "Training until validation scores don't improve for 100 rounds\n"
     ]
    },
    {
     "name": "stderr",
     "output_type": "stream",
     "text": [
      "[I 2025-09-14 11:08:30,987] Trial 142 finished with value: 42.75921059893225 and parameters: {'lambda_l1': 0.0001689992066938507, 'lambda_l2': 0.6667096774903842, 'num_leaves': 276, 'feature_fraction': 0.5735708287964445, 'bagging_fraction': 0.5698167466391636, 'bagging_freq': 1, 'min_child_samples': 14, 'learning_rate': 0.010227137874970007, 'max_depth': 9}. Best is trial 141 with value: 42.271597632734014.\n"
     ]
    },
    {
     "name": "stdout",
     "output_type": "stream",
     "text": [
      "Did not meet early stopping. Best iteration is:\n",
      "[997]\tvalid_0's rmse: 44.1715\n",
      "Training until validation scores don't improve for 100 rounds\n",
      "Early stopping, best iteration is:\n",
      "[635]\tvalid_0's rmse: 43.7104\n",
      "Training until validation scores don't improve for 100 rounds\n",
      "Did not meet early stopping. Best iteration is:\n",
      "[990]\tvalid_0's rmse: 40.4201\n",
      "Training until validation scores don't improve for 100 rounds\n",
      "Early stopping, best iteration is:\n",
      "[718]\tvalid_0's rmse: 43.3338\n",
      "Training until validation scores don't improve for 100 rounds\n",
      "Did not meet early stopping. Best iteration is:\n",
      "[1000]\tvalid_0's rmse: 40.2689\n",
      "Training until validation scores don't improve for 100 rounds\n"
     ]
    },
    {
     "name": "stderr",
     "output_type": "stream",
     "text": [
      "[I 2025-09-14 11:08:51,164] Trial 143 finished with value: 42.369698243915806 and parameters: {'lambda_l1': 0.0005087283855613363, 'lambda_l2': 2.791807379427239, 'num_leaves': 272, 'feature_fraction': 0.5843274023905877, 'bagging_fraction': 0.5499736433602155, 'bagging_freq': 1, 'min_child_samples': 11, 'learning_rate': 0.01709972978651315, 'max_depth': 8}. Best is trial 141 with value: 42.271597632734014.\n"
     ]
    },
    {
     "name": "stdout",
     "output_type": "stream",
     "text": [
      "Did not meet early stopping. Best iteration is:\n",
      "[941]\tvalid_0's rmse: 44.1154\n",
      "Training until validation scores don't improve for 100 rounds\n",
      "Early stopping, best iteration is:\n",
      "[517]\tvalid_0's rmse: 44.0123\n",
      "Training until validation scores don't improve for 100 rounds\n",
      "Early stopping, best iteration is:\n",
      "[489]\tvalid_0's rmse: 41.4663\n",
      "Training until validation scores don't improve for 100 rounds\n",
      "Early stopping, best iteration is:\n",
      "[411]\tvalid_0's rmse: 42.9425\n",
      "Training until validation scores don't improve for 100 rounds\n",
      "Early stopping, best iteration is:\n",
      "[743]\tvalid_0's rmse: 40.6527\n",
      "Training until validation scores don't improve for 100 rounds\n"
     ]
    },
    {
     "name": "stderr",
     "output_type": "stream",
     "text": [
      "[I 2025-09-14 11:09:12,709] Trial 144 finished with value: 42.695272950487656 and parameters: {'lambda_l1': 0.00020319823878469563, 'lambda_l2': 2.8338144017336844, 'num_leaves': 271, 'feature_fraction': 0.5570195873775606, 'bagging_fraction': 0.5510568967189352, 'bagging_freq': 1, 'min_child_samples': 11, 'learning_rate': 0.02231552352577743, 'max_depth': 12}. Best is trial 141 with value: 42.271597632734014.\n"
     ]
    },
    {
     "name": "stdout",
     "output_type": "stream",
     "text": [
      "Early stopping, best iteration is:\n",
      "[592]\tvalid_0's rmse: 44.4027\n",
      "Training until validation scores don't improve for 100 rounds\n",
      "Early stopping, best iteration is:\n",
      "[593]\tvalid_0's rmse: 44.0935\n",
      "Training until validation scores don't improve for 100 rounds\n",
      "Early stopping, best iteration is:\n",
      "[867]\tvalid_0's rmse: 41.407\n",
      "Training until validation scores don't improve for 100 rounds\n",
      "Early stopping, best iteration is:\n",
      "[328]\tvalid_0's rmse: 44.2277\n",
      "Training until validation scores don't improve for 100 rounds\n",
      "Early stopping, best iteration is:\n",
      "[611]\tvalid_0's rmse: 40.4317\n",
      "Training until validation scores don't improve for 100 rounds\n"
     ]
    },
    {
     "name": "stderr",
     "output_type": "stream",
     "text": [
      "[I 2025-09-14 11:09:31,932] Trial 145 finished with value: 42.69739274836995 and parameters: {'lambda_l1': 0.0002889700301195539, 'lambda_l2': 1.2380923611589305, 'num_leaves': 282, 'feature_fraction': 0.5781242716419681, 'bagging_fraction': 0.5076086903533314, 'bagging_freq': 1, 'min_child_samples': 7, 'learning_rate': 0.01991142836914648, 'max_depth': 8}. Best is trial 141 with value: 42.271597632734014.\n"
     ]
    },
    {
     "name": "stdout",
     "output_type": "stream",
     "text": [
      "Early stopping, best iteration is:\n",
      "[806]\tvalid_0's rmse: 43.3271\n",
      "Training until validation scores don't improve for 100 rounds\n",
      "Did not meet early stopping. Best iteration is:\n",
      "[978]\tvalid_0's rmse: 43.8855\n",
      "Training until validation scores don't improve for 100 rounds\n",
      "Did not meet early stopping. Best iteration is:\n",
      "[994]\tvalid_0's rmse: 41.6098\n",
      "Training until validation scores don't improve for 100 rounds\n",
      "Early stopping, best iteration is:\n",
      "[812]\tvalid_0's rmse: 43.3978\n",
      "Training until validation scores don't improve for 100 rounds\n",
      "Did not meet early stopping. Best iteration is:\n",
      "[998]\tvalid_0's rmse: 40.7304\n",
      "Training until validation scores don't improve for 100 rounds\n"
     ]
    },
    {
     "name": "stderr",
     "output_type": "stream",
     "text": [
      "[I 2025-09-14 11:09:52,319] Trial 146 finished with value: 42.82419253061296 and parameters: {'lambda_l1': 0.00010952132901037458, 'lambda_l2': 1.9107555205915532, 'num_leaves': 285, 'feature_fraction': 0.6031633180706134, 'bagging_fraction': 0.5387920470687548, 'bagging_freq': 1, 'min_child_samples': 13, 'learning_rate': 0.010219098128767255, 'max_depth': 8}. Best is trial 141 with value: 42.271597632734014.\n"
     ]
    },
    {
     "name": "stdout",
     "output_type": "stream",
     "text": [
      "Did not meet early stopping. Best iteration is:\n",
      "[994]\tvalid_0's rmse: 44.4976\n",
      "Training until validation scores don't improve for 100 rounds\n",
      "Early stopping, best iteration is:\n",
      "[347]\tvalid_0's rmse: 44.0079\n",
      "Training until validation scores don't improve for 100 rounds\n",
      "Early stopping, best iteration is:\n",
      "[385]\tvalid_0's rmse: 42.1578\n",
      "Training until validation scores don't improve for 100 rounds\n",
      "Early stopping, best iteration is:\n",
      "[254]\tvalid_0's rmse: 44.0979\n",
      "Training until validation scores don't improve for 100 rounds\n",
      "Early stopping, best iteration is:\n",
      "[674]\tvalid_0's rmse: 39.5687\n",
      "Training until validation scores don't improve for 100 rounds\n"
     ]
    },
    {
     "name": "stderr",
     "output_type": "stream",
     "text": [
      "[I 2025-09-14 11:10:04,384] Trial 147 finished with value: 42.75194190582513 and parameters: {'lambda_l1': 0.0005464004494603535, 'lambda_l2': 0.45030117681610543, 'num_leaves': 294, 'feature_fraction': 0.5659936032354711, 'bagging_fraction': 0.5699209572120175, 'bagging_freq': 1, 'min_child_samples': 10, 'learning_rate': 0.03980838777912931, 'max_depth': 8}. Best is trial 141 with value: 42.271597632734014.\n"
     ]
    },
    {
     "name": "stdout",
     "output_type": "stream",
     "text": [
      "Early stopping, best iteration is:\n",
      "[468]\tvalid_0's rmse: 43.9274\n",
      "Training until validation scores don't improve for 100 rounds\n",
      "Did not meet early stopping. Best iteration is:\n",
      "[978]\tvalid_0's rmse: 43.9131\n",
      "Training until validation scores don't improve for 100 rounds\n",
      "Did not meet early stopping. Best iteration is:\n",
      "[976]\tvalid_0's rmse: 42.1362\n",
      "Training until validation scores don't improve for 100 rounds\n",
      "Early stopping, best iteration is:\n",
      "[598]\tvalid_0's rmse: 43.7019\n",
      "Training until validation scores don't improve for 100 rounds\n",
      "Did not meet early stopping. Best iteration is:\n",
      "[981]\tvalid_0's rmse: 41.4149\n",
      "Training until validation scores don't improve for 100 rounds\n"
     ]
    },
    {
     "name": "stderr",
     "output_type": "stream",
     "text": [
      "[I 2025-09-14 11:10:20,059] Trial 148 finished with value: 43.49718005885063 and parameters: {'lambda_l1': 9.28273197894856e-05, 'lambda_l2': 4.0202996290338735, 'num_leaves': 268, 'feature_fraction': 0.586510597680335, 'bagging_fraction': 0.5844158551323001, 'bagging_freq': 2, 'min_child_samples': 45, 'learning_rate': 0.028323973943819684, 'max_depth': 12}. Best is trial 141 with value: 42.271597632734014.\n"
     ]
    },
    {
     "name": "stdout",
     "output_type": "stream",
     "text": [
      "Early stopping, best iteration is:\n",
      "[736]\tvalid_0's rmse: 46.3199\n",
      "Training until validation scores don't improve for 100 rounds\n",
      "Early stopping, best iteration is:\n",
      "[332]\tvalid_0's rmse: 44.0152\n",
      "Training until validation scores don't improve for 100 rounds\n",
      "Did not meet early stopping. Best iteration is:\n",
      "[996]\tvalid_0's rmse: 39.9191\n",
      "Training until validation scores don't improve for 100 rounds\n",
      "Early stopping, best iteration is:\n",
      "[133]\tvalid_0's rmse: 44.3998\n",
      "Training until validation scores don't improve for 100 rounds\n",
      "Early stopping, best iteration is:\n",
      "[365]\tvalid_0's rmse: 42.3524\n",
      "Training until validation scores don't improve for 100 rounds\n"
     ]
    },
    {
     "name": "stderr",
     "output_type": "stream",
     "text": [
      "[I 2025-09-14 11:10:35,152] Trial 149 finished with value: 42.98315178044986 and parameters: {'lambda_l1': 3.952840505333079e-05, 'lambda_l2': 0.909103981178867, 'num_leaves': 261, 'feature_fraction': 0.54464018358617, 'bagging_fraction': 0.5521740062691775, 'bagging_freq': 1, 'min_child_samples': 5, 'learning_rate': 0.033583752208661735, 'max_depth': 8}. Best is trial 141 with value: 42.271597632734014.\n"
     ]
    },
    {
     "name": "stdout",
     "output_type": "stream",
     "text": [
      "Early stopping, best iteration is:\n",
      "[356]\tvalid_0's rmse: 44.2292\n",
      "Training until validation scores don't improve for 100 rounds\n",
      "Did not meet early stopping. Best iteration is:\n",
      "[953]\tvalid_0's rmse: 43.5228\n",
      "Training until validation scores don't improve for 100 rounds\n",
      "Did not meet early stopping. Best iteration is:\n",
      "[1000]\tvalid_0's rmse: 41.4982\n",
      "Training until validation scores don't improve for 100 rounds\n",
      "Early stopping, best iteration is:\n",
      "[660]\tvalid_0's rmse: 43.2703\n",
      "Training until validation scores don't improve for 100 rounds\n",
      "Did not meet early stopping. Best iteration is:\n",
      "[1000]\tvalid_0's rmse: 40.0127\n",
      "Training until validation scores don't improve for 100 rounds\n"
     ]
    },
    {
     "name": "stderr",
     "output_type": "stream",
     "text": [
      "[I 2025-09-14 11:10:57,708] Trial 150 finished with value: 42.43770039985757 and parameters: {'lambda_l1': 2.1954889359584604e-05, 'lambda_l2': 2.5354019651946182, 'num_leaves': 278, 'feature_fraction': 0.6251267706277084, 'bagging_fraction': 0.5951451189980956, 'bagging_freq': 1, 'min_child_samples': 13, 'learning_rate': 0.015048237547447694, 'max_depth': 9}. Best is trial 141 with value: 42.271597632734014.\n"
     ]
    },
    {
     "name": "stdout",
     "output_type": "stream",
     "text": [
      "Did not meet early stopping. Best iteration is:\n",
      "[994]\tvalid_0's rmse: 43.8845\n",
      "Training until validation scores don't improve for 100 rounds\n",
      "Early stopping, best iteration is:\n",
      "[612]\tvalid_0's rmse: 43.5539\n",
      "Training until validation scores don't improve for 100 rounds\n",
      "Did not meet early stopping. Best iteration is:\n",
      "[999]\tvalid_0's rmse: 41.2645\n",
      "Training until validation scores don't improve for 100 rounds\n",
      "Early stopping, best iteration is:\n",
      "[473]\tvalid_0's rmse: 43.6492\n",
      "Training until validation scores don't improve for 100 rounds\n",
      "Did not meet early stopping. Best iteration is:\n",
      "[993]\tvalid_0's rmse: 39.8826\n",
      "Training until validation scores don't improve for 100 rounds\n"
     ]
    },
    {
     "name": "stderr",
     "output_type": "stream",
     "text": [
      "[I 2025-09-14 11:11:18,721] Trial 151 finished with value: 42.475688963442984 and parameters: {'lambda_l1': 5.1879492562720675e-05, 'lambda_l2': 2.5620187830570655, 'num_leaves': 277, 'feature_fraction': 0.6248613853140748, 'bagging_fraction': 0.52496516760865, 'bagging_freq': 1, 'min_child_samples': 12, 'learning_rate': 0.016269900379658392, 'max_depth': 9}. Best is trial 141 with value: 42.271597632734014.\n"
     ]
    },
    {
     "name": "stdout",
     "output_type": "stream",
     "text": [
      "Did not meet early stopping. Best iteration is:\n",
      "[985]\tvalid_0's rmse: 44.0281\n",
      "Training until validation scores don't improve for 100 rounds\n",
      "Early stopping, best iteration is:\n",
      "[732]\tvalid_0's rmse: 44.2063\n",
      "Training until validation scores don't improve for 100 rounds\n",
      "Early stopping, best iteration is:\n",
      "[711]\tvalid_0's rmse: 41.2714\n",
      "Training until validation scores don't improve for 100 rounds\n",
      "Early stopping, best iteration is:\n",
      "[417]\tvalid_0's rmse: 43.671\n",
      "Training until validation scores don't improve for 100 rounds\n",
      "Did not meet early stopping. Best iteration is:\n",
      "[1000]\tvalid_0's rmse: 39.5881\n",
      "Training until validation scores don't improve for 100 rounds\n"
     ]
    },
    {
     "name": "stderr",
     "output_type": "stream",
     "text": [
      "[I 2025-09-14 11:11:37,585] Trial 152 finished with value: 42.44984127278517 and parameters: {'lambda_l1': 1.7982503415408638e-05, 'lambda_l2': 3.978615645985519, 'num_leaves': 273, 'feature_fraction': 0.5933383275903737, 'bagging_fraction': 0.6018266719058026, 'bagging_freq': 1, 'min_child_samples': 14, 'learning_rate': 0.022590231619536223, 'max_depth': 9}. Best is trial 141 with value: 42.271597632734014.\n"
     ]
    },
    {
     "name": "stdout",
     "output_type": "stream",
     "text": [
      "Did not meet early stopping. Best iteration is:\n",
      "[966]\tvalid_0's rmse: 43.5123\n",
      "Training until validation scores don't improve for 100 rounds\n",
      "Early stopping, best iteration is:\n",
      "[576]\tvalid_0's rmse: 43.5336\n",
      "Training until validation scores don't improve for 100 rounds\n",
      "Early stopping, best iteration is:\n",
      "[615]\tvalid_0's rmse: 41.3898\n",
      "Training until validation scores don't improve for 100 rounds\n",
      "Early stopping, best iteration is:\n",
      "[347]\tvalid_0's rmse: 43.7136\n",
      "Training until validation scores don't improve for 100 rounds\n",
      "Early stopping, best iteration is:\n",
      "[489]\tvalid_0's rmse: 40.8086\n",
      "Training until validation scores don't improve for 100 rounds\n"
     ]
    },
    {
     "name": "stderr",
     "output_type": "stream",
     "text": [
      "[I 2025-09-14 11:11:59,802] Trial 153 finished with value: 42.680326257399926 and parameters: {'lambda_l1': 2.30919596968222e-05, 'lambda_l2': 3.702351228894694, 'num_leaves': 264, 'feature_fraction': 0.6132456915866723, 'bagging_fraction': 0.5983517644848689, 'bagging_freq': 1, 'min_child_samples': 9, 'learning_rate': 0.022518403547460396, 'max_depth': 10}. Best is trial 141 with value: 42.271597632734014.\n"
     ]
    },
    {
     "name": "stdout",
     "output_type": "stream",
     "text": [
      "Did not meet early stopping. Best iteration is:\n",
      "[990]\tvalid_0's rmse: 43.9561\n",
      "Training until validation scores don't improve for 100 rounds\n",
      "Early stopping, best iteration is:\n",
      "[733]\tvalid_0's rmse: 43.0759\n",
      "Training until validation scores don't improve for 100 rounds\n",
      "Early stopping, best iteration is:\n",
      "[721]\tvalid_0's rmse: 41.8182\n",
      "Training until validation scores don't improve for 100 rounds\n",
      "Early stopping, best iteration is:\n",
      "[540]\tvalid_0's rmse: 43.5106\n",
      "Training until validation scores don't improve for 100 rounds\n",
      "Did not meet early stopping. Best iteration is:\n",
      "[998]\tvalid_0's rmse: 39.9826\n",
      "Training until validation scores don't improve for 100 rounds\n"
     ]
    },
    {
     "name": "stderr",
     "output_type": "stream",
     "text": [
      "[I 2025-09-14 11:12:18,869] Trial 154 finished with value: 42.457070514308114 and parameters: {'lambda_l1': 1.7571884370767913e-05, 'lambda_l2': 5.280538175409882, 'num_leaves': 292, 'feature_fraction': 0.6349905094320593, 'bagging_fraction': 0.5865579273057548, 'bagging_freq': 1, 'min_child_samples': 15, 'learning_rate': 0.026858780958568487, 'max_depth': 9}. Best is trial 141 with value: 42.271597632734014.\n"
     ]
    },
    {
     "name": "stdout",
     "output_type": "stream",
     "text": [
      "Did not meet early stopping. Best iteration is:\n",
      "[977]\tvalid_0's rmse: 43.8981\n",
      "Training until validation scores don't improve for 100 rounds\n",
      "Early stopping, best iteration is:\n",
      "[572]\tvalid_0's rmse: 43.4454\n",
      "Training until validation scores don't improve for 100 rounds\n",
      "Early stopping, best iteration is:\n",
      "[712]\tvalid_0's rmse: 41.4518\n",
      "Training until validation scores don't improve for 100 rounds\n",
      "Early stopping, best iteration is:\n",
      "[268]\tvalid_0's rmse: 43.6426\n",
      "Training until validation scores don't improve for 100 rounds\n",
      "Early stopping, best iteration is:\n",
      "[854]\tvalid_0's rmse: 39.5763\n",
      "Training until validation scores don't improve for 100 rounds\n"
     ]
    },
    {
     "name": "stderr",
     "output_type": "stream",
     "text": [
      "[I 2025-09-14 11:12:35,303] Trial 155 finished with value: 42.43094706443875 and parameters: {'lambda_l1': 1.1028532517673095e-05, 'lambda_l2': 1.6014383590270942, 'num_leaves': 293, 'feature_fraction': 0.636798594305414, 'bagging_fraction': 0.5895127423836097, 'bagging_freq': 1, 'min_child_samples': 15, 'learning_rate': 0.028791764814897793, 'max_depth': 9}. Best is trial 141 with value: 42.271597632734014.\n"
     ]
    },
    {
     "name": "stdout",
     "output_type": "stream",
     "text": [
      "Did not meet early stopping. Best iteration is:\n",
      "[989]\tvalid_0's rmse: 44.0385\n",
      "Training until validation scores don't improve for 100 rounds\n",
      "Did not meet early stopping. Best iteration is:\n",
      "[1000]\tvalid_0's rmse: 43.9756\n",
      "Training until validation scores don't improve for 100 rounds\n",
      "Did not meet early stopping. Best iteration is:\n",
      "[994]\tvalid_0's rmse: 42.0078\n",
      "Training until validation scores don't improve for 100 rounds\n",
      "Did not meet early stopping. Best iteration is:\n",
      "[996]\tvalid_0's rmse: 43.3819\n",
      "Training until validation scores don't improve for 100 rounds\n",
      "Did not meet early stopping. Best iteration is:\n",
      "[1000]\tvalid_0's rmse: 41.8919\n",
      "Training until validation scores don't improve for 100 rounds\n"
     ]
    },
    {
     "name": "stderr",
     "output_type": "stream",
     "text": [
      "[I 2025-09-14 11:12:48,239] Trial 156 finished with value: 43.470742064799595 and parameters: {'lambda_l1': 2.336175882073964e-05, 'lambda_l2': 1.5564801791974285, 'num_leaves': 295, 'feature_fraction': 0.6357792781368259, 'bagging_fraction': 0.5846014306412552, 'bagging_freq': 1, 'min_child_samples': 53, 'learning_rate': 0.026561478136956945, 'max_depth': 9}. Best is trial 141 with value: 42.271597632734014.\n"
     ]
    },
    {
     "name": "stdout",
     "output_type": "stream",
     "text": [
      "Did not meet early stopping. Best iteration is:\n",
      "[973]\tvalid_0's rmse: 46.0965\n",
      "Training until validation scores don't improve for 100 rounds\n",
      "Early stopping, best iteration is:\n",
      "[512]\tvalid_0's rmse: 43.4956\n",
      "Training until validation scores don't improve for 100 rounds\n",
      "Early stopping, best iteration is:\n",
      "[543]\tvalid_0's rmse: 41.3028\n",
      "Training until validation scores don't improve for 100 rounds\n",
      "Early stopping, best iteration is:\n",
      "[386]\tvalid_0's rmse: 43.5691\n",
      "Training until validation scores don't improve for 100 rounds\n",
      "Early stopping, best iteration is:\n",
      "[593]\tvalid_0's rmse: 40.1581\n",
      "Training until validation scores don't improve for 100 rounds\n"
     ]
    },
    {
     "name": "stderr",
     "output_type": "stream",
     "text": [
      "[I 2025-09-14 11:13:01,034] Trial 157 finished with value: 42.64246638046979 and parameters: {'lambda_l1': 1.5986300044763147e-05, 'lambda_l2': 5.434058005967537, 'num_leaves': 287, 'feature_fraction': 0.6516097043084449, 'bagging_fraction': 0.561838029605307, 'bagging_freq': 1, 'min_child_samples': 17, 'learning_rate': 0.039986648276302945, 'max_depth': 9}. Best is trial 141 with value: 42.271597632734014.\n"
     ]
    },
    {
     "name": "stdout",
     "output_type": "stream",
     "text": [
      "Early stopping, best iteration is:\n",
      "[522]\tvalid_0's rmse: 44.6867\n",
      "Training until validation scores don't improve for 100 rounds\n",
      "Early stopping, best iteration is:\n",
      "[642]\tvalid_0's rmse: 43.3893\n",
      "Training until validation scores don't improve for 100 rounds\n",
      "Did not meet early stopping. Best iteration is:\n",
      "[983]\tvalid_0's rmse: 41.1385\n",
      "Training until validation scores don't improve for 100 rounds\n",
      "Early stopping, best iteration is:\n",
      "[670]\tvalid_0's rmse: 44.1411\n",
      "Training until validation scores don't improve for 100 rounds\n",
      "Did not meet early stopping. Best iteration is:\n",
      "[982]\tvalid_0's rmse: 39.483\n",
      "Training until validation scores don't improve for 100 rounds\n"
     ]
    },
    {
     "name": "stderr",
     "output_type": "stream",
     "text": [
      "[I 2025-09-14 11:13:18,079] Trial 158 finished with value: 42.399637440515235 and parameters: {'lambda_l1': 3.1360834064026063e-06, 'lambda_l2': 3.191029694215024, 'num_leaves': 291, 'feature_fraction': 0.5921511899571195, 'bagging_fraction': 0.5934921644838864, 'bagging_freq': 1, 'min_child_samples': 15, 'learning_rate': 0.021041056524258077, 'max_depth': 8}. Best is trial 141 with value: 42.271597632734014.\n"
     ]
    },
    {
     "name": "stdout",
     "output_type": "stream",
     "text": [
      "Early stopping, best iteration is:\n",
      "[826]\tvalid_0's rmse: 43.8463\n",
      "Training until validation scores don't improve for 100 rounds\n",
      "Early stopping, best iteration is:\n",
      "[678]\tvalid_0's rmse: 43.591\n",
      "Training until validation scores don't improve for 100 rounds\n",
      "Did not meet early stopping. Best iteration is:\n",
      "[981]\tvalid_0's rmse: 41.4267\n",
      "Training until validation scores don't improve for 100 rounds\n",
      "Early stopping, best iteration is:\n",
      "[667]\tvalid_0's rmse: 44.3876\n",
      "Training until validation scores don't improve for 100 rounds\n",
      "Did not meet early stopping. Best iteration is:\n",
      "[983]\tvalid_0's rmse: 39.612\n",
      "Training until validation scores don't improve for 100 rounds\n"
     ]
    },
    {
     "name": "stderr",
     "output_type": "stream",
     "text": [
      "[I 2025-09-14 11:13:35,986] Trial 159 finished with value: 42.547497263606296 and parameters: {'lambda_l1': 6.124273009834747e-06, 'lambda_l2': 2.9014673201262022, 'num_leaves': 292, 'feature_fraction': 0.5979502179797059, 'bagging_fraction': 0.5932144271782098, 'bagging_freq': 1, 'min_child_samples': 15, 'learning_rate': 0.021030072579712646, 'max_depth': 8}. Best is trial 141 with value: 42.271597632734014.\n"
     ]
    },
    {
     "name": "stdout",
     "output_type": "stream",
     "text": [
      "Did not meet early stopping. Best iteration is:\n",
      "[985]\tvalid_0's rmse: 43.7203\n",
      "Training until validation scores don't improve for 100 rounds\n",
      "Did not meet early stopping. Best iteration is:\n",
      "[968]\tvalid_0's rmse: 42.9398\n",
      "Training until validation scores don't improve for 100 rounds\n",
      "Did not meet early stopping. Best iteration is:\n",
      "[966]\tvalid_0's rmse: 41.8599\n",
      "Training until validation scores don't improve for 100 rounds\n",
      "Early stopping, best iteration is:\n",
      "[493]\tvalid_0's rmse: 43.3225\n",
      "Training until validation scores don't improve for 100 rounds\n",
      "Did not meet early stopping. Best iteration is:\n",
      "[956]\tvalid_0's rmse: 40.197\n",
      "Training until validation scores don't improve for 100 rounds\n"
     ]
    },
    {
     "name": "stderr",
     "output_type": "stream",
     "text": [
      "[I 2025-09-14 11:13:50,927] Trial 160 finished with value: 42.6015683388252 and parameters: {'lambda_l1': 4.592069297296425e-06, 'lambda_l2': 1.319708046596598, 'num_leaves': 281, 'feature_fraction': 0.6155198974926067, 'bagging_fraction': 0.5438497595836532, 'bagging_freq': 1, 'min_child_samples': 21, 'learning_rate': 0.02674795706213714, 'max_depth': 8}. Best is trial 141 with value: 42.271597632734014.\n"
     ]
    },
    {
     "name": "stdout",
     "output_type": "stream",
     "text": [
      "Did not meet early stopping. Best iteration is:\n",
      "[994]\tvalid_0's rmse: 44.6887\n",
      "Training until validation scores don't improve for 100 rounds\n",
      "Early stopping, best iteration is:\n",
      "[446]\tvalid_0's rmse: 43.2095\n",
      "Training until validation scores don't improve for 100 rounds\n",
      "Early stopping, best iteration is:\n",
      "[732]\tvalid_0's rmse: 41.6328\n",
      "Training until validation scores don't improve for 100 rounds\n",
      "Early stopping, best iteration is:\n",
      "[382]\tvalid_0's rmse: 43.5346\n",
      "Training until validation scores don't improve for 100 rounds\n",
      "Did not meet early stopping. Best iteration is:\n",
      "[1000]\tvalid_0's rmse: 39.6865\n",
      "Training until validation scores don't improve for 100 rounds\n"
     ]
    },
    {
     "name": "stderr",
     "output_type": "stream",
     "text": [
      "[I 2025-09-14 11:14:06,232] Trial 161 finished with value: 42.491958473614254 and parameters: {'lambda_l1': 1.2117844915840622e-05, 'lambda_l2': 4.222103596041483, 'num_leaves': 300, 'feature_fraction': 0.6299152746661766, 'bagging_fraction': 0.6034836017043359, 'bagging_freq': 1, 'min_child_samples': 18, 'learning_rate': 0.034512357513660406, 'max_depth': 9}. Best is trial 141 with value: 42.271597632734014.\n"
     ]
    },
    {
     "name": "stdout",
     "output_type": "stream",
     "text": [
      "Early stopping, best iteration is:\n",
      "[683]\tvalid_0's rmse: 44.3963\n",
      "Training until validation scores don't improve for 100 rounds\n",
      "Early stopping, best iteration is:\n",
      "[651]\tvalid_0's rmse: 43.4632\n",
      "Training until validation scores don't improve for 100 rounds\n",
      "Early stopping, best iteration is:\n",
      "[709]\tvalid_0's rmse: 41.5829\n",
      "Training until validation scores don't improve for 100 rounds\n",
      "Early stopping, best iteration is:\n",
      "[642]\tvalid_0's rmse: 42.9503\n",
      "Training until validation scores don't improve for 100 rounds\n",
      "Did not meet early stopping. Best iteration is:\n",
      "[988]\tvalid_0's rmse: 39.7288\n",
      "Training until validation scores don't improve for 100 rounds\n"
     ]
    },
    {
     "name": "stderr",
     "output_type": "stream",
     "text": [
      "[I 2025-09-14 11:14:23,201] Trial 162 finished with value: 42.34232001591559 and parameters: {'lambda_l1': 2.97826477513036e-06, 'lambda_l2': 6.034701705968875, 'num_leaves': 286, 'feature_fraction': 0.5918757534953659, 'bagging_fraction': 0.5802482963656799, 'bagging_freq': 1, 'min_child_samples': 14, 'learning_rate': 0.02113085509145205, 'max_depth': 8}. Best is trial 141 with value: 42.271597632734014.\n"
     ]
    },
    {
     "name": "stdout",
     "output_type": "stream",
     "text": [
      "Early stopping, best iteration is:\n",
      "[834]\tvalid_0's rmse: 43.9865\n",
      "Training until validation scores don't improve for 100 rounds\n",
      "Did not meet early stopping. Best iteration is:\n",
      "[957]\tvalid_0's rmse: 43.3382\n",
      "Training until validation scores don't improve for 100 rounds\n",
      "Early stopping, best iteration is:\n",
      "[712]\tvalid_0's rmse: 41.7974\n",
      "Training until validation scores don't improve for 100 rounds\n",
      "Early stopping, best iteration is:\n",
      "[654]\tvalid_0's rmse: 43.5347\n",
      "Training until validation scores don't improve for 100 rounds\n",
      "Did not meet early stopping. Best iteration is:\n",
      "[982]\tvalid_0's rmse: 39.8933\n",
      "Training until validation scores don't improve for 100 rounds\n"
     ]
    },
    {
     "name": "stderr",
     "output_type": "stream",
     "text": [
      "[I 2025-09-14 11:14:40,691] Trial 163 finished with value: 42.56743653154623 and parameters: {'lambda_l1': 2.8291375635178985e-06, 'lambda_l2': 2.5037721404679325, 'num_leaves': 285, 'feature_fraction': 0.58375732720989, 'bagging_fraction': 0.5655741238944465, 'bagging_freq': 1, 'min_child_samples': 15, 'learning_rate': 0.02014723369890261, 'max_depth': 8}. Best is trial 141 with value: 42.271597632734014.\n"
     ]
    },
    {
     "name": "stdout",
     "output_type": "stream",
     "text": [
      "Did not meet early stopping. Best iteration is:\n",
      "[994]\tvalid_0's rmse: 44.2736\n",
      "Training until validation scores don't improve for 100 rounds\n",
      "Did not meet early stopping. Best iteration is:\n",
      "[982]\tvalid_0's rmse: 43.3121\n",
      "Training until validation scores don't improve for 100 rounds\n",
      "Did not meet early stopping. Best iteration is:\n",
      "[993]\tvalid_0's rmse: 41.9053\n",
      "Training until validation scores don't improve for 100 rounds\n",
      "Did not meet early stopping. Best iteration is:\n",
      "[982]\tvalid_0's rmse: 43.4101\n",
      "Training until validation scores don't improve for 100 rounds\n",
      "Did not meet early stopping. Best iteration is:\n",
      "[993]\tvalid_0's rmse: 40.0893\n",
      "Training until validation scores don't improve for 100 rounds\n"
     ]
    },
    {
     "name": "stderr",
     "output_type": "stream",
     "text": [
      "[I 2025-09-14 11:15:00,851] Trial 164 finished with value: 42.59434241663801 and parameters: {'lambda_l1': 3.23956996954938e-05, 'lambda_l2': 5.334821788752761, 'num_leaves': 272, 'feature_fraction': 0.6015537127540797, 'bagging_fraction': 0.5757496902266364, 'bagging_freq': 1, 'min_child_samples': 14, 'learning_rate': 0.01376215755681946, 'max_depth': 8}. Best is trial 141 with value: 42.271597632734014.\n"
     ]
    },
    {
     "name": "stdout",
     "output_type": "stream",
     "text": [
      "Did not meet early stopping. Best iteration is:\n",
      "[990]\tvalid_0's rmse: 44.2549\n",
      "Training until validation scores don't improve for 100 rounds\n",
      "Did not meet early stopping. Best iteration is:\n",
      "[1000]\tvalid_0's rmse: 44.1443\n",
      "Training until validation scores don't improve for 100 rounds\n",
      "Did not meet early stopping. Best iteration is:\n",
      "[1000]\tvalid_0's rmse: 42.1505\n",
      "Training until validation scores don't improve for 100 rounds\n",
      "Early stopping, best iteration is:\n",
      "[800]\tvalid_0's rmse: 43.6691\n",
      "Training until validation scores don't improve for 100 rounds\n",
      "Did not meet early stopping. Best iteration is:\n",
      "[1000]\tvalid_0's rmse: 42.6827\n",
      "Training until validation scores don't improve for 100 rounds\n"
     ]
    },
    {
     "name": "stderr",
     "output_type": "stream",
     "text": [
      "[I 2025-09-14 11:15:10,696] Trial 165 finished with value: 43.9250487779899 and parameters: {'lambda_l1': 8.761723914473149e-06, 'lambda_l2': 2.8679783549788664e-06, 'num_leaves': 291, 'feature_fraction': 0.5908176467978205, 'bagging_fraction': 0.584261151625693, 'bagging_freq': 1, 'min_child_samples': 75, 'learning_rate': 0.026911806015779683, 'max_depth': 7}. Best is trial 141 with value: 42.271597632734014.\n"
     ]
    },
    {
     "name": "stdout",
     "output_type": "stream",
     "text": [
      "Did not meet early stopping. Best iteration is:\n",
      "[974]\tvalid_0's rmse: 46.9787\n",
      "Training until validation scores don't improve for 100 rounds\n",
      "Early stopping, best iteration is:\n",
      "[657]\tvalid_0's rmse: 43.6207\n",
      "Training until validation scores don't improve for 100 rounds\n",
      "Early stopping, best iteration is:\n",
      "[722]\tvalid_0's rmse: 41.4272\n",
      "Training until validation scores don't improve for 100 rounds\n",
      "Early stopping, best iteration is:\n",
      "[466]\tvalid_0's rmse: 43.4699\n",
      "Training until validation scores don't improve for 100 rounds\n",
      "Did not meet early stopping. Best iteration is:\n",
      "[939]\tvalid_0's rmse: 40.2781\n",
      "Training until validation scores don't improve for 100 rounds\n"
     ]
    },
    {
     "name": "stderr",
     "output_type": "stream",
     "text": [
      "[I 2025-09-14 11:15:25,960] Trial 166 finished with value: 42.754398678741175 and parameters: {'lambda_l1': 7.465891528934314e-05, 'lambda_l2': 1.771895347044677, 'num_leaves': 281, 'feature_fraction': 0.6439461978750223, 'bagging_fraction': 0.5220395453221295, 'bagging_freq': 1, 'min_child_samples': 16, 'learning_rate': 0.021603781811169953, 'max_depth': 8}. Best is trial 141 with value: 42.271597632734014.\n"
     ]
    },
    {
     "name": "stdout",
     "output_type": "stream",
     "text": [
      "Did not meet early stopping. Best iteration is:\n",
      "[979]\tvalid_0's rmse: 44.9761\n",
      "Training until validation scores don't improve for 100 rounds\n",
      "Early stopping, best iteration is:\n",
      "[809]\tvalid_0's rmse: 43.4843\n",
      "Training until validation scores don't improve for 100 rounds\n",
      "Early stopping, best iteration is:\n",
      "[713]\tvalid_0's rmse: 41.2866\n",
      "Training until validation scores don't improve for 100 rounds\n",
      "Early stopping, best iteration is:\n",
      "[299]\tvalid_0's rmse: 42.9911\n",
      "Training until validation scores don't improve for 100 rounds\n",
      "Did not meet early stopping. Best iteration is:\n",
      "[1000]\tvalid_0's rmse: 40.2507\n",
      "Training until validation scores don't improve for 100 rounds\n"
     ]
    },
    {
     "name": "stderr",
     "output_type": "stream",
     "text": [
      "[I 2025-09-14 11:15:44,452] Trial 167 finished with value: 42.44617468930005 and parameters: {'lambda_l1': 1.7383508305883898e-05, 'lambda_l2': 3.7154015585425038, 'num_leaves': 277, 'feature_fraction': 0.6206992739001101, 'bagging_fraction': 0.5544172757735883, 'bagging_freq': 1, 'min_child_samples': 11, 'learning_rate': 0.03112128533291214, 'max_depth': 9}. Best is trial 141 with value: 42.271597632734014.\n"
     ]
    },
    {
     "name": "stdout",
     "output_type": "stream",
     "text": [
      "Early stopping, best iteration is:\n",
      "[480]\tvalid_0's rmse: 44.2182\n",
      "Training until validation scores don't improve for 100 rounds\n",
      "Early stopping, best iteration is:\n",
      "[405]\tvalid_0's rmse: 43.691\n",
      "Training until validation scores don't improve for 100 rounds\n",
      "Early stopping, best iteration is:\n",
      "[480]\tvalid_0's rmse: 41.3086\n",
      "Training until validation scores don't improve for 100 rounds\n",
      "Early stopping, best iteration is:\n",
      "[263]\tvalid_0's rmse: 43.2594\n",
      "Training until validation scores don't improve for 100 rounds\n",
      "Did not meet early stopping. Best iteration is:\n",
      "[993]\tvalid_0's rmse: 40.1981\n",
      "Training until validation scores don't improve for 100 rounds\n"
     ]
    },
    {
     "name": "stderr",
     "output_type": "stream",
     "text": [
      "[I 2025-09-14 11:15:59,152] Trial 168 finished with value: 42.63039860755515 and parameters: {'lambda_l1': 3.608895826254807e-06, 'lambda_l2': 3.3657489296810152, 'num_leaves': 288, 'feature_fraction': 0.6200102104857553, 'bagging_fraction': 0.5527265100077798, 'bagging_freq': 1, 'min_child_samples': 11, 'learning_rate': 0.03081407932884496, 'max_depth': 9}. Best is trial 141 with value: 42.271597632734014.\n"
     ]
    },
    {
     "name": "stdout",
     "output_type": "stream",
     "text": [
      "Early stopping, best iteration is:\n",
      "[337]\tvalid_0's rmse: 44.6948\n",
      "Training until validation scores don't improve for 100 rounds\n",
      "Early stopping, best iteration is:\n",
      "[357]\tvalid_0's rmse: 44.1273\n",
      "Training until validation scores don't improve for 100 rounds\n",
      "Early stopping, best iteration is:\n",
      "[485]\tvalid_0's rmse: 42.2002\n",
      "Training until validation scores don't improve for 100 rounds\n",
      "Early stopping, best iteration is:\n",
      "[254]\tvalid_0's rmse: 43.5185\n",
      "Training until validation scores don't improve for 100 rounds\n",
      "Early stopping, best iteration is:\n",
      "[503]\tvalid_0's rmse: 40.6836\n",
      "Training until validation scores don't improve for 100 rounds\n"
     ]
    },
    {
     "name": "stderr",
     "output_type": "stream",
     "text": [
      "[I 2025-09-14 11:16:14,851] Trial 169 finished with value: 42.839505856380654 and parameters: {'lambda_l1': 1.7530732867680516e-05, 'lambda_l2': 1.1969730014733557, 'num_leaves': 268, 'feature_fraction': 0.6099326231466302, 'bagging_fraction': 0.48897329037159337, 'bagging_freq': 1, 'min_child_samples': 9, 'learning_rate': 0.03474339819131812, 'max_depth': 9}. Best is trial 141 with value: 42.271597632734014.\n"
     ]
    },
    {
     "name": "stdout",
     "output_type": "stream",
     "text": [
      "Early stopping, best iteration is:\n",
      "[519]\tvalid_0's rmse: 43.668\n",
      "Training until validation scores don't improve for 100 rounds\n",
      "Early stopping, best iteration is:\n",
      "[50]\tvalid_0's rmse: 45.4836\n",
      "Training until validation scores don't improve for 100 rounds\n",
      "Early stopping, best iteration is:\n",
      "[70]\tvalid_0's rmse: 44.4853\n",
      "Training until validation scores don't improve for 100 rounds\n",
      "Early stopping, best iteration is:\n",
      "[72]\tvalid_0's rmse: 45.4969\n",
      "Training until validation scores don't improve for 100 rounds\n",
      "Early stopping, best iteration is:\n",
      "[128]\tvalid_0's rmse: 43.3518\n",
      "Training until validation scores don't improve for 100 rounds\n"
     ]
    },
    {
     "name": "stderr",
     "output_type": "stream",
     "text": [
      "[I 2025-09-14 11:16:18,951] Trial 170 finished with value: 44.79300770597338 and parameters: {'lambda_l1': 8.928777214620304e-06, 'lambda_l2': 0.7529058603451296, 'num_leaves': 279, 'feature_fraction': 0.6655401768490473, 'bagging_fraction': 0.5375516727581929, 'bagging_freq': 1, 'min_child_samples': 13, 'learning_rate': 0.20241278590957257, 'max_depth': 8}. Best is trial 141 with value: 42.271597632734014.\n"
     ]
    },
    {
     "name": "stdout",
     "output_type": "stream",
     "text": [
      "Early stopping, best iteration is:\n",
      "[93]\tvalid_0's rmse: 45.1474\n",
      "Training until validation scores don't improve for 100 rounds\n",
      "Early stopping, best iteration is:\n",
      "[673]\tvalid_0's rmse: 43.2804\n",
      "Training until validation scores don't improve for 100 rounds\n",
      "Did not meet early stopping. Best iteration is:\n",
      "[976]\tvalid_0's rmse: 41.6636\n",
      "Training until validation scores don't improve for 100 rounds\n",
      "Early stopping, best iteration is:\n",
      "[707]\tvalid_0's rmse: 42.8198\n",
      "Training until validation scores don't improve for 100 rounds\n",
      "Did not meet early stopping. Best iteration is:\n",
      "[983]\tvalid_0's rmse: 39.9933\n",
      "Training until validation scores don't improve for 100 rounds\n"
     ]
    },
    {
     "name": "stderr",
     "output_type": "stream",
     "text": [
      "[I 2025-09-14 11:16:40,292] Trial 171 finished with value: 42.30516408542163 and parameters: {'lambda_l1': 1.2118150152063893e-05, 'lambda_l2': 6.118559731597589, 'num_leaves': 295, 'feature_fraction': 0.6336783392168501, 'bagging_fraction': 0.5933261266043519, 'bagging_freq': 1, 'min_child_samples': 14, 'learning_rate': 0.017873778499285876, 'max_depth': 9}. Best is trial 141 with value: 42.271597632734014.\n"
     ]
    },
    {
     "name": "stdout",
     "output_type": "stream",
     "text": [
      "Did not meet early stopping. Best iteration is:\n",
      "[992]\tvalid_0's rmse: 43.7687\n",
      "Training until validation scores don't improve for 100 rounds\n",
      "Early stopping, best iteration is:\n",
      "[804]\tvalid_0's rmse: 43.8025\n",
      "Training until validation scores don't improve for 100 rounds\n",
      "Early stopping, best iteration is:\n",
      "[692]\tvalid_0's rmse: 42.0319\n",
      "Training until validation scores don't improve for 100 rounds\n",
      "Early stopping, best iteration is:\n",
      "[479]\tvalid_0's rmse: 43.6354\n",
      "Training until validation scores don't improve for 100 rounds\n",
      "Did not meet early stopping. Best iteration is:\n",
      "[928]\tvalid_0's rmse: 39.8807\n",
      "Training until validation scores don't improve for 100 rounds\n"
     ]
    },
    {
     "name": "stderr",
     "output_type": "stream",
     "text": [
      "[I 2025-09-14 11:16:57,904] Trial 172 finished with value: 42.72187551679373 and parameters: {'lambda_l1': 2.323717227763556e-05, 'lambda_l2': 3.635279595539899, 'num_leaves': 297, 'feature_fraction': 0.6315737991715643, 'bagging_fraction': 0.5902143319875763, 'bagging_freq': 1, 'min_child_samples': 17, 'learning_rate': 0.02395382616128345, 'max_depth': 9}. Best is trial 141 with value: 42.271597632734014.\n"
     ]
    },
    {
     "name": "stdout",
     "output_type": "stream",
     "text": [
      "Early stopping, best iteration is:\n",
      "[833]\tvalid_0's rmse: 44.2589\n",
      "Training until validation scores don't improve for 100 rounds\n",
      "Early stopping, best iteration is:\n",
      "[125]\tvalid_0's rmse: 44.1675\n",
      "Training until validation scores don't improve for 100 rounds\n",
      "Early stopping, best iteration is:\n",
      "[89]\tvalid_0's rmse: 43.1223\n",
      "Training until validation scores don't improve for 100 rounds\n",
      "Early stopping, best iteration is:\n",
      "[86]\tvalid_0's rmse: 44.7962\n",
      "Training until validation scores don't improve for 100 rounds\n",
      "Early stopping, best iteration is:\n",
      "[334]\tvalid_0's rmse: 40.1733\n",
      "Training until validation scores don't improve for 100 rounds\n"
     ]
    },
    {
     "name": "stderr",
     "output_type": "stream",
     "text": [
      "[I 2025-09-14 11:17:05,518] Trial 173 finished with value: 43.44434155129325 and parameters: {'lambda_l1': 1.7732522190922758e-06, 'lambda_l2': 6.7980236246827195, 'num_leaves': 292, 'feature_fraction': 0.6563414608541918, 'bagging_fraction': 0.5785014307653298, 'bagging_freq': 1, 'min_child_samples': 11, 'learning_rate': 0.1307052863441825, 'max_depth': 9}. Best is trial 141 with value: 42.271597632734014.\n"
     ]
    },
    {
     "name": "stdout",
     "output_type": "stream",
     "text": [
      "Early stopping, best iteration is:\n",
      "[215]\tvalid_0's rmse: 44.9624\n",
      "Training until validation scores don't improve for 100 rounds\n",
      "Early stopping, best iteration is:\n",
      "[577]\tvalid_0's rmse: 42.8535\n",
      "Training until validation scores don't improve for 100 rounds\n",
      "Early stopping, best iteration is:\n",
      "[616]\tvalid_0's rmse: 41.5636\n",
      "Training until validation scores don't improve for 100 rounds\n",
      "Early stopping, best iteration is:\n",
      "[347]\tvalid_0's rmse: 43.1652\n",
      "Training until validation scores don't improve for 100 rounds\n",
      "Early stopping, best iteration is:\n",
      "[869]\tvalid_0's rmse: 40.4202\n",
      "Training until validation scores don't improve for 100 rounds\n"
     ]
    },
    {
     "name": "stderr",
     "output_type": "stream",
     "text": [
      "[I 2025-09-14 11:17:18,691] Trial 174 finished with value: 42.65385023286253 and parameters: {'lambda_l1': 1.0950639218111771e-05, 'lambda_l2': 2.3773962809783318, 'num_leaves': 287, 'feature_fraction': 0.6222577380806826, 'bagging_fraction': 0.5583979915543207, 'bagging_freq': 1, 'min_child_samples': 20, 'learning_rate': 0.029846827326708528, 'max_depth': 9}. Best is trial 141 with value: 42.271597632734014.\n"
     ]
    },
    {
     "name": "stdout",
     "output_type": "stream",
     "text": [
      "Early stopping, best iteration is:\n",
      "[550]\tvalid_0's rmse: 45.2668\n",
      "Training until validation scores don't improve for 100 rounds\n",
      "Did not meet early stopping. Best iteration is:\n",
      "[999]\tvalid_0's rmse: 43.7315\n",
      "Training until validation scores don't improve for 100 rounds\n",
      "Did not meet early stopping. Best iteration is:\n",
      "[1000]\tvalid_0's rmse: 41.7115\n",
      "Training until validation scores don't improve for 100 rounds\n",
      "Did not meet early stopping. Best iteration is:\n",
      "[993]\tvalid_0's rmse: 43.1705\n",
      "Training until validation scores don't improve for 100 rounds\n",
      "Did not meet early stopping. Best iteration is:\n",
      "[1000]\tvalid_0's rmse: 40.4395\n",
      "Training until validation scores don't improve for 100 rounds\n"
     ]
    },
    {
     "name": "stderr",
     "output_type": "stream",
     "text": [
      "[I 2025-09-14 11:17:42,908] Trial 175 finished with value: 42.710182066308946 and parameters: {'lambda_l1': 5.759087212937657e-05, 'lambda_l2': 6.424439749324411, 'num_leaves': 278, 'feature_fraction': 0.6461129117729136, 'bagging_fraction': 0.5943933562950144, 'bagging_freq': 1, 'min_child_samples': 14, 'learning_rate': 0.010311101380709078, 'max_depth': 9}. Best is trial 141 with value: 42.271597632734014.\n"
     ]
    },
    {
     "name": "stdout",
     "output_type": "stream",
     "text": [
      "Did not meet early stopping. Best iteration is:\n",
      "[999]\tvalid_0's rmse: 44.4979\n",
      "Training until validation scores don't improve for 100 rounds\n",
      "Early stopping, best iteration is:\n",
      "[644]\tvalid_0's rmse: 43.5608\n",
      "Training until validation scores don't improve for 100 rounds\n",
      "Did not meet early stopping. Best iteration is:\n",
      "[951]\tvalid_0's rmse: 41.3951\n",
      "Training until validation scores don't improve for 100 rounds\n",
      "Early stopping, best iteration is:\n",
      "[471]\tvalid_0's rmse: 43.8015\n",
      "Training until validation scores don't improve for 100 rounds\n",
      "Did not meet early stopping. Best iteration is:\n",
      "[949]\tvalid_0's rmse: 40.2863\n",
      "Training until validation scores don't improve for 100 rounds\n"
     ]
    },
    {
     "name": "stderr",
     "output_type": "stream",
     "text": [
      "[I 2025-09-14 11:18:06,525] Trial 176 finished with value: 42.62388351293953 and parameters: {'lambda_l1': 1.5302708664918604e-05, 'lambda_l2': 4.086479149475199, 'num_leaves': 283, 'feature_fraction': 0.6004984562904903, 'bagging_fraction': 0.5677904698263505, 'bagging_freq': 1, 'min_child_samples': 7, 'learning_rate': 0.019594918302736856, 'max_depth': 8}. Best is trial 141 with value: 42.271597632734014.\n"
     ]
    },
    {
     "name": "stdout",
     "output_type": "stream",
     "text": [
      "Did not meet early stopping. Best iteration is:\n",
      "[994]\tvalid_0's rmse: 44.0758\n",
      "Training until validation scores don't improve for 100 rounds\n",
      "Early stopping, best iteration is:\n",
      "[438]\tvalid_0's rmse: 44.1504\n",
      "Training until validation scores don't improve for 100 rounds\n",
      "Early stopping, best iteration is:\n",
      "[265]\tvalid_0's rmse: 42.2343\n",
      "Training until validation scores don't improve for 100 rounds\n",
      "Early stopping, best iteration is:\n",
      "[254]\tvalid_0's rmse: 44.1727\n",
      "Training until validation scores don't improve for 100 rounds\n",
      "Did not meet early stopping. Best iteration is:\n",
      "[998]\tvalid_0's rmse: 39.7893\n",
      "Training until validation scores don't improve for 100 rounds\n"
     ]
    },
    {
     "name": "stderr",
     "output_type": "stream",
     "text": [
      "[I 2025-09-14 11:18:18,761] Trial 177 finished with value: 42.99219683296308 and parameters: {'lambda_l1': 3.873357993096509e-06, 'lambda_l2': 1.855802971012921, 'num_leaves': 269, 'feature_fraction': 0.6390397788638728, 'bagging_fraction': 0.6113253740035465, 'bagging_freq': 1, 'min_child_samples': 16, 'learning_rate': 0.04410494453478806, 'max_depth': 9}. Best is trial 141 with value: 42.271597632734014.\n"
     ]
    },
    {
     "name": "stdout",
     "output_type": "stream",
     "text": [
      "Early stopping, best iteration is:\n",
      "[512]\tvalid_0's rmse: 44.6142\n",
      "Training until validation scores don't improve for 100 rounds\n",
      "Early stopping, best iteration is:\n",
      "[195]\tvalid_0's rmse: 44.461\n",
      "Training until validation scores don't improve for 100 rounds\n",
      "Early stopping, best iteration is:\n",
      "[207]\tvalid_0's rmse: 42.7915\n",
      "Training until validation scores don't improve for 100 rounds\n",
      "Early stopping, best iteration is:\n",
      "[96]\tvalid_0's rmse: 43.6838\n",
      "Training until validation scores don't improve for 100 rounds\n",
      "Early stopping, best iteration is:\n",
      "[220]\tvalid_0's rmse: 40.3029\n",
      "Training until validation scores don't improve for 100 rounds\n"
     ]
    },
    {
     "name": "stderr",
     "output_type": "stream",
     "text": [
      "[I 2025-09-14 11:18:25,533] Trial 178 finished with value: 43.30554500439188 and parameters: {'lambda_l1': 2.1945429431085446e-05, 'lambda_l2': 2.6785574579281364, 'num_leaves': 291, 'feature_fraction': 0.6105115441759312, 'bagging_fraction': 0.581551777047453, 'bagging_freq': 1, 'min_child_samples': 12, 'learning_rate': 0.10372532008614743, 'max_depth': 9}. Best is trial 141 with value: 42.271597632734014.\n"
     ]
    },
    {
     "name": "stdout",
     "output_type": "stream",
     "text": [
      "Early stopping, best iteration is:\n",
      "[100]\tvalid_0's rmse: 45.2885\n",
      "Training until validation scores don't improve for 100 rounds\n",
      "Early stopping, best iteration is:\n",
      "[881]\tvalid_0's rmse: 43.1558\n",
      "Training until validation scores don't improve for 100 rounds\n",
      "Early stopping, best iteration is:\n",
      "[720]\tvalid_0's rmse: 41.1238\n",
      "Training until validation scores don't improve for 100 rounds\n",
      "Early stopping, best iteration is:\n",
      "[572]\tvalid_0's rmse: 43.1692\n",
      "Training until validation scores don't improve for 100 rounds\n",
      "Early stopping, best iteration is:\n",
      "[767]\tvalid_0's rmse: 40.0678\n",
      "Training until validation scores don't improve for 100 rounds\n"
     ]
    },
    {
     "name": "stderr",
     "output_type": "stream",
     "text": [
      "[I 2025-09-14 11:18:41,544] Trial 179 finished with value: 42.43199631552766 and parameters: {'lambda_l1': 6.349127871527864e-06, 'lambda_l2': 6.9389704146615205, 'num_leaves': 259, 'feature_fraction': 0.6238261508118483, 'bagging_fraction': 0.6008083824003961, 'bagging_freq': 6, 'min_child_samples': 18, 'learning_rate': 0.025880130570411622, 'max_depth': 8}. Best is trial 141 with value: 42.271597632734014.\n"
     ]
    },
    {
     "name": "stdout",
     "output_type": "stream",
     "text": [
      "Early stopping, best iteration is:\n",
      "[789]\tvalid_0's rmse: 44.6433\n",
      "Training until validation scores don't improve for 100 rounds\n",
      "Did not meet early stopping. Best iteration is:\n",
      "[935]\tvalid_0's rmse: 42.9429\n",
      "Training until validation scores don't improve for 100 rounds\n",
      "Early stopping, best iteration is:\n",
      "[840]\tvalid_0's rmse: 41.6812\n",
      "Training until validation scores don't improve for 100 rounds\n",
      "Early stopping, best iteration is:\n",
      "[675]\tvalid_0's rmse: 43.7319\n",
      "Training until validation scores don't improve for 100 rounds\n",
      "Did not meet early stopping. Best iteration is:\n",
      "[977]\tvalid_0's rmse: 40.5949\n",
      "Training until validation scores don't improve for 100 rounds\n"
     ]
    },
    {
     "name": "stderr",
     "output_type": "stream",
     "text": [
      "[I 2025-09-14 11:18:59,110] Trial 180 finished with value: 42.72271883212895 and parameters: {'lambda_l1': 6.63228065130241e-06, 'lambda_l2': 7.55532759528378, 'num_leaves': 258, 'feature_fraction': 0.5932962982966729, 'bagging_fraction': 0.6015913624437533, 'bagging_freq': 7, 'min_child_samples': 19, 'learning_rate': 0.019152616278939258, 'max_depth': 8}. Best is trial 141 with value: 42.271597632734014.\n"
     ]
    },
    {
     "name": "stdout",
     "output_type": "stream",
     "text": [
      "Did not meet early stopping. Best iteration is:\n",
      "[924]\tvalid_0's rmse: 44.6627\n",
      "Training until validation scores don't improve for 100 rounds\n",
      "Early stopping, best iteration is:\n",
      "[523]\tvalid_0's rmse: 43.9339\n",
      "Training until validation scores don't improve for 100 rounds\n",
      "Did not meet early stopping. Best iteration is:\n",
      "[1000]\tvalid_0's rmse: 41.6716\n",
      "Training until validation scores don't improve for 100 rounds\n",
      "Early stopping, best iteration is:\n",
      "[505]\tvalid_0's rmse: 43.5481\n",
      "Training until validation scores don't improve for 100 rounds\n",
      "Did not meet early stopping. Best iteration is:\n",
      "[926]\tvalid_0's rmse: 39.0196\n",
      "Training until validation scores don't improve for 100 rounds\n"
     ]
    },
    {
     "name": "stderr",
     "output_type": "stream",
     "text": [
      "[I 2025-09-14 11:19:14,650] Trial 181 finished with value: 42.44332855924689 and parameters: {'lambda_l1': 3.280065856363744e-05, 'lambda_l2': 5.102243911845411, 'num_leaves': 274, 'feature_fraction': 0.6308486690866424, 'bagging_fraction': 0.5924772207763397, 'bagging_freq': 1, 'min_child_samples': 17, 'learning_rate': 0.0265770252674306, 'max_depth': 8}. Best is trial 141 with value: 42.271597632734014.\n"
     ]
    },
    {
     "name": "stdout",
     "output_type": "stream",
     "text": [
      "Early stopping, best iteration is:\n",
      "[826]\tvalid_0's rmse: 44.0435\n",
      "Training until validation scores don't improve for 100 rounds\n",
      "Early stopping, best iteration is:\n",
      "[475]\tvalid_0's rmse: 43.3772\n",
      "Training until validation scores don't improve for 100 rounds\n",
      "Early stopping, best iteration is:\n",
      "[508]\tvalid_0's rmse: 42.0336\n",
      "Training until validation scores don't improve for 100 rounds\n",
      "Early stopping, best iteration is:\n",
      "[300]\tvalid_0's rmse: 43.9991\n",
      "Training until validation scores don't improve for 100 rounds\n",
      "Early stopping, best iteration is:\n",
      "[600]\tvalid_0's rmse: 40.1704\n",
      "Training until validation scores don't improve for 100 rounds\n"
     ]
    },
    {
     "name": "stderr",
     "output_type": "stream",
     "text": [
      "[I 2025-09-14 11:19:25,233] Trial 182 finished with value: 42.67069459806665 and parameters: {'lambda_l1': 3.161255427882447e-05, 'lambda_l2': 3.9181495117019716, 'num_leaves': 273, 'feature_fraction': 0.622693818063946, 'bagging_fraction': 0.5670488026573044, 'bagging_freq': 6, 'min_child_samples': 18, 'learning_rate': 0.03515296408955601, 'max_depth': 8}. Best is trial 141 with value: 42.271597632734014.\n"
     ]
    },
    {
     "name": "stdout",
     "output_type": "stream",
     "text": [
      "Early stopping, best iteration is:\n",
      "[438]\tvalid_0's rmse: 43.7733\n",
      "Training until validation scores don't improve for 100 rounds\n",
      "Did not meet early stopping. Best iteration is:\n",
      "[970]\tvalid_0's rmse: 43.2613\n",
      "Training until validation scores don't improve for 100 rounds\n",
      "Early stopping, best iteration is:\n",
      "[737]\tvalid_0's rmse: 41.3232\n",
      "Training until validation scores don't improve for 100 rounds\n",
      "Early stopping, best iteration is:\n",
      "[799]\tvalid_0's rmse: 43.4388\n",
      "Training until validation scores don't improve for 100 rounds\n",
      "Did not meet early stopping. Best iteration is:\n",
      "[998]\tvalid_0's rmse: 39.9393\n",
      "Training until validation scores don't improve for 100 rounds\n"
     ]
    },
    {
     "name": "stderr",
     "output_type": "stream",
     "text": [
      "[I 2025-09-14 11:19:43,164] Trial 183 finished with value: 42.49895916248709 and parameters: {'lambda_l1': 8.466374546360545e-06, 'lambda_l2': 9.909655615620283, 'num_leaves': 268, 'feature_fraction': 0.6082622820683445, 'bagging_fraction': 0.5960486572295295, 'bagging_freq': 1, 'min_child_samples': 17, 'learning_rate': 0.02416573361950631, 'max_depth': 8}. Best is trial 141 with value: 42.271597632734014.\n"
     ]
    },
    {
     "name": "stdout",
     "output_type": "stream",
     "text": [
      "Did not meet early stopping. Best iteration is:\n",
      "[1000]\tvalid_0's rmse: 44.5321\n",
      "Training until validation scores don't improve for 100 rounds\n",
      "Did not meet early stopping. Best iteration is:\n",
      "[965]\tvalid_0's rmse: 43.665\n",
      "Training until validation scores don't improve for 100 rounds\n",
      "Did not meet early stopping. Best iteration is:\n",
      "[1000]\tvalid_0's rmse: 42.0633\n",
      "Training until validation scores don't improve for 100 rounds\n",
      "Early stopping, best iteration is:\n",
      "[725]\tvalid_0's rmse: 44.146\n",
      "Training until validation scores don't improve for 100 rounds\n",
      "Did not meet early stopping. Best iteration is:\n",
      "[1000]\tvalid_0's rmse: 40.9365\n",
      "Training until validation scores don't improve for 100 rounds\n"
     ]
    },
    {
     "name": "stderr",
     "output_type": "stream",
     "text": [
      "[I 2025-09-14 11:19:58,177] Trial 184 finished with value: 43.0971448548328 and parameters: {'lambda_l1': 0.0011955872170490646, 'lambda_l2': 1.8144974392754023, 'num_leaves': 260, 'feature_fraction': 0.5798356152726301, 'bagging_fraction': 0.6133230786490866, 'bagging_freq': 5, 'min_child_samples': 21, 'learning_rate': 0.01649553867693518, 'max_depth': 7}. Best is trial 141 with value: 42.271597632734014.\n"
     ]
    },
    {
     "name": "stdout",
     "output_type": "stream",
     "text": [
      "Did not meet early stopping. Best iteration is:\n",
      "[981]\tvalid_0's rmse: 44.675\n",
      "Training until validation scores don't improve for 100 rounds\n",
      "Early stopping, best iteration is:\n",
      "[699]\tvalid_0's rmse: 43.7299\n",
      "Training until validation scores don't improve for 100 rounds\n",
      "Early stopping, best iteration is:\n",
      "[740]\tvalid_0's rmse: 40.5359\n",
      "Training until validation scores don't improve for 100 rounds\n",
      "Early stopping, best iteration is:\n",
      "[386]\tvalid_0's rmse: 43.2231\n",
      "Training until validation scores don't improve for 100 rounds\n",
      "Did not meet early stopping. Best iteration is:\n",
      "[1000]\tvalid_0's rmse: 40.1549\n",
      "Training until validation scores don't improve for 100 rounds\n"
     ]
    },
    {
     "name": "stderr",
     "output_type": "stream",
     "text": [
      "[I 2025-09-14 11:20:14,542] Trial 185 finished with value: 42.39970779429454 and parameters: {'lambda_l1': 3.28996949192249e-05, 'lambda_l2': 3.2999665451683557, 'num_leaves': 263, 'feature_fraction': 0.6561441204756457, 'bagging_fraction': 0.553280973557113, 'bagging_freq': 1, 'min_child_samples': 13, 'learning_rate': 0.029871664056587748, 'max_depth': 8}. Best is trial 141 with value: 42.271597632734014.\n"
     ]
    },
    {
     "name": "stdout",
     "output_type": "stream",
     "text": [
      "Early stopping, best iteration is:\n",
      "[779]\tvalid_0's rmse: 44.3547\n",
      "Training until validation scores don't improve for 100 rounds\n",
      "Early stopping, best iteration is:\n",
      "[282]\tvalid_0's rmse: 44.0198\n",
      "Training until validation scores don't improve for 100 rounds\n",
      "Early stopping, best iteration is:\n",
      "[566]\tvalid_0's rmse: 40.3827\n",
      "Training until validation scores don't improve for 100 rounds\n",
      "Early stopping, best iteration is:\n",
      "[373]\tvalid_0's rmse: 43.697\n",
      "Training until validation scores don't improve for 100 rounds\n",
      "Early stopping, best iteration is:\n",
      "[600]\tvalid_0's rmse: 40.402\n",
      "Training until validation scores don't improve for 100 rounds\n"
     ]
    },
    {
     "name": "stderr",
     "output_type": "stream",
     "text": [
      "[I 2025-09-14 11:20:28,484] Trial 186 finished with value: 42.499286997044045 and parameters: {'lambda_l1': 4.963758013138825e-06, 'lambda_l2': 2.6310822855198706, 'num_leaves': 265, 'feature_fraction': 0.6529751650898481, 'bagging_fraction': 0.5519992359814041, 'bagging_freq': 6, 'min_child_samples': 11, 'learning_rate': 0.03114323511886488, 'max_depth': 8}. Best is trial 141 with value: 42.271597632734014.\n"
     ]
    },
    {
     "name": "stdout",
     "output_type": "stream",
     "text": [
      "Early stopping, best iteration is:\n",
      "[685]\tvalid_0's rmse: 43.9948\n",
      "Training until validation scores don't improve for 100 rounds\n",
      "Early stopping, best iteration is:\n",
      "[595]\tvalid_0's rmse: 42.9568\n",
      "Training until validation scores don't improve for 100 rounds\n",
      "Early stopping, best iteration is:\n",
      "[352]\tvalid_0's rmse: 41.5738\n",
      "Training until validation scores don't improve for 100 rounds\n",
      "Early stopping, best iteration is:\n",
      "[383]\tvalid_0's rmse: 43.4421\n",
      "Training until validation scores don't improve for 100 rounds\n",
      "Early stopping, best iteration is:\n",
      "[799]\tvalid_0's rmse: 40.0925\n",
      "Training until validation scores don't improve for 100 rounds\n"
     ]
    },
    {
     "name": "stderr",
     "output_type": "stream",
     "text": [
      "[I 2025-09-14 11:20:42,289] Trial 187 finished with value: 42.459718367560434 and parameters: {'lambda_l1': 3.461957878219404e-05, 'lambda_l2': 5.871503385475507, 'num_leaves': 248, 'feature_fraction': 0.6633141410754461, 'bagging_fraction': 0.5762921469859772, 'bagging_freq': 4, 'min_child_samples': 13, 'learning_rate': 0.03684950751396307, 'max_depth': 8}. Best is trial 141 with value: 42.271597632734014.\n"
     ]
    },
    {
     "name": "stdout",
     "output_type": "stream",
     "text": [
      "Early stopping, best iteration is:\n",
      "[528]\tvalid_0's rmse: 44.2333\n",
      "Training until validation scores don't improve for 100 rounds\n",
      "Early stopping, best iteration is:\n",
      "[665]\tvalid_0's rmse: 43.6003\n",
      "Training until validation scores don't improve for 100 rounds\n",
      "Early stopping, best iteration is:\n",
      "[677]\tvalid_0's rmse: 42.1027\n",
      "Training until validation scores don't improve for 100 rounds\n",
      "Early stopping, best iteration is:\n",
      "[347]\tvalid_0's rmse: 43.3763\n",
      "Training until validation scores don't improve for 100 rounds\n",
      "Did not meet early stopping. Best iteration is:\n",
      "[939]\tvalid_0's rmse: 39.5334\n",
      "Training until validation scores don't improve for 100 rounds\n"
     ]
    },
    {
     "name": "stderr",
     "output_type": "stream",
     "text": [
      "[I 2025-09-14 11:20:56,785] Trial 188 finished with value: 42.69261192718815 and parameters: {'lambda_l1': 6.932902078053136e-05, 'lambda_l2': 1.211899715689846, 'num_leaves': 255, 'feature_fraction': 0.6402489485652016, 'bagging_fraction': 0.5416621591556361, 'bagging_freq': 1, 'min_child_samples': 16, 'learning_rate': 0.02776474186889847, 'max_depth': 8}. Best is trial 141 with value: 42.271597632734014.\n"
     ]
    },
    {
     "name": "stdout",
     "output_type": "stream",
     "text": [
      "Early stopping, best iteration is:\n",
      "[756]\tvalid_0's rmse: 44.8504\n",
      "Training until validation scores don't improve for 100 rounds\n",
      "Early stopping, best iteration is:\n",
      "[603]\tvalid_0's rmse: 43.4839\n",
      "Training until validation scores don't improve for 100 rounds\n",
      "Early stopping, best iteration is:\n",
      "[623]\tvalid_0's rmse: 41.4783\n",
      "Training until validation scores don't improve for 100 rounds\n",
      "Early stopping, best iteration is:\n",
      "[532]\tvalid_0's rmse: 43.9651\n",
      "Training until validation scores don't improve for 100 rounds\n",
      "Did not meet early stopping. Best iteration is:\n",
      "[953]\tvalid_0's rmse: 40.7028\n",
      "Training until validation scores don't improve for 100 rounds\n"
     ]
    },
    {
     "name": "stderr",
     "output_type": "stream",
     "text": [
      "[I 2025-09-14 11:21:18,006] Trial 189 finished with value: 42.65305600780047 and parameters: {'lambda_l1': 1.3867723526135514e-06, 'lambda_l2': 3.229364920937451, 'num_leaves': 281, 'feature_fraction': 0.6799434643542546, 'bagging_fraction': 0.5612757207176778, 'bagging_freq': 7, 'min_child_samples': 9, 'learning_rate': 0.016582811962375432, 'max_depth': 8}. Best is trial 141 with value: 42.271597632734014.\n"
     ]
    },
    {
     "name": "stdout",
     "output_type": "stream",
     "text": [
      "Early stopping, best iteration is:\n",
      "[816]\tvalid_0's rmse: 43.6352\n",
      "Training until validation scores don't improve for 100 rounds\n",
      "Early stopping, best iteration is:\n",
      "[120]\tvalid_0's rmse: 45.4227\n",
      "Training until validation scores don't improve for 100 rounds\n",
      "Early stopping, best iteration is:\n",
      "[86]\tvalid_0's rmse: 42.3856\n",
      "Training until validation scores don't improve for 100 rounds\n",
      "Early stopping, best iteration is:\n",
      "[88]\tvalid_0's rmse: 45.9718\n",
      "Training until validation scores don't improve for 100 rounds\n",
      "Early stopping, best iteration is:\n",
      "[172]\tvalid_0's rmse: 42.4255\n",
      "Training until validation scores don't improve for 100 rounds\n"
     ]
    },
    {
     "name": "stderr",
     "output_type": "stream",
     "text": [
      "[I 2025-09-14 11:21:22,096] Trial 190 finished with value: 44.699427659709464 and parameters: {'lambda_l1': 4.2335663205505366e-05, 'lambda_l2': 7.200463226397877, 'num_leaves': 261, 'feature_fraction': 0.6268723697988319, 'bagging_fraction': 0.574165233001318, 'bagging_freq': 3, 'min_child_samples': 21, 'learning_rate': 0.25678642007527613, 'max_depth': 8}. Best is trial 141 with value: 42.271597632734014.\n"
     ]
    },
    {
     "name": "stdout",
     "output_type": "stream",
     "text": [
      "Early stopping, best iteration is:\n",
      "[66]\tvalid_0's rmse: 47.2916\n",
      "Training until validation scores don't improve for 100 rounds\n",
      "Early stopping, best iteration is:\n",
      "[767]\tvalid_0's rmse: 43.6603\n",
      "Training until validation scores don't improve for 100 rounds\n",
      "Did not meet early stopping. Best iteration is:\n",
      "[945]\tvalid_0's rmse: 41.4148\n",
      "Training until validation scores don't improve for 100 rounds\n",
      "Early stopping, best iteration is:\n",
      "[641]\tvalid_0's rmse: 43.6913\n",
      "Training until validation scores don't improve for 100 rounds\n",
      "Did not meet early stopping. Best iteration is:\n",
      "[991]\tvalid_0's rmse: 39.7493\n",
      "Training until validation scores don't improve for 100 rounds\n"
     ]
    },
    {
     "name": "stderr",
     "output_type": "stream",
     "text": [
      "[I 2025-09-14 11:21:38,190] Trial 191 finished with value: 42.442255348113434 and parameters: {'lambda_l1': 1.278203115239803e-05, 'lambda_l2': 4.501090012786297, 'num_leaves': 275, 'feature_fraction': 0.5884590194884364, 'bagging_fraction': 0.6048648488730589, 'bagging_freq': 1, 'min_child_samples': 14, 'learning_rate': 0.022385914617671317, 'max_depth': 7}. Best is trial 141 with value: 42.271597632734014.\n"
     ]
    },
    {
     "name": "stdout",
     "output_type": "stream",
     "text": [
      "Did not meet early stopping. Best iteration is:\n",
      "[976]\tvalid_0's rmse: 43.6955\n",
      "Training until validation scores don't improve for 100 rounds\n",
      "Did not meet early stopping. Best iteration is:\n",
      "[1000]\tvalid_0's rmse: 43.9176\n",
      "Training until validation scores don't improve for 100 rounds\n",
      "Did not meet early stopping. Best iteration is:\n",
      "[999]\tvalid_0's rmse: 42.1645\n",
      "Training until validation scores don't improve for 100 rounds\n",
      "Did not meet early stopping. Best iteration is:\n",
      "[993]\tvalid_0's rmse: 43.6576\n",
      "Training until validation scores don't improve for 100 rounds\n",
      "Did not meet early stopping. Best iteration is:\n",
      "[1000]\tvalid_0's rmse: 41.222\n",
      "Training until validation scores don't improve for 100 rounds\n"
     ]
    },
    {
     "name": "stderr",
     "output_type": "stream",
     "text": [
      "[I 2025-09-14 11:21:54,603] Trial 192 finished with value: 43.24192371653631 and parameters: {'lambda_l1': 1.0706768534702097e-05, 'lambda_l2': 5.066020691872023, 'num_leaves': 277, 'feature_fraction': 0.6122187887199347, 'bagging_fraction': 0.5922836367718007, 'bagging_freq': 1, 'min_child_samples': 19, 'learning_rate': 0.010179626556679904, 'max_depth': 7}. Best is trial 141 with value: 42.271597632734014.\n"
     ]
    },
    {
     "name": "stdout",
     "output_type": "stream",
     "text": [
      "Did not meet early stopping. Best iteration is:\n",
      "[993]\tvalid_0's rmse: 45.248\n",
      "Training until validation scores don't improve for 100 rounds\n",
      "Early stopping, best iteration is:\n",
      "[576]\tvalid_0's rmse: 44.2703\n",
      "Training until validation scores don't improve for 100 rounds\n",
      "Did not meet early stopping. Best iteration is:\n",
      "[980]\tvalid_0's rmse: 41.303\n",
      "Training until validation scores don't improve for 100 rounds\n",
      "Early stopping, best iteration is:\n",
      "[316]\tvalid_0's rmse: 44.4208\n",
      "Training until validation scores don't improve for 100 rounds\n",
      "Did not meet early stopping. Best iteration is:\n",
      "[1000]\tvalid_0's rmse: 39.9139\n",
      "Training until validation scores don't improve for 100 rounds\n"
     ]
    },
    {
     "name": "stderr",
     "output_type": "stream",
     "text": [
      "[I 2025-09-14 11:22:08,357] Trial 193 finished with value: 42.75964977689238 and parameters: {'lambda_l1': 3.1215199943123104e-06, 'lambda_l2': 2.1786400032843223, 'num_leaves': 284, 'feature_fraction': 0.5602100257308669, 'bagging_fraction': 0.6104937545542942, 'bagging_freq': 1, 'min_child_samples': 13, 'learning_rate': 0.024446370138900657, 'max_depth': 7}. Best is trial 141 with value: 42.271597632734014.\n"
     ]
    },
    {
     "name": "stdout",
     "output_type": "stream",
     "text": [
      "Early stopping, best iteration is:\n",
      "[757]\tvalid_0's rmse: 43.8901\n",
      "Training until validation scores don't improve for 100 rounds\n",
      "Early stopping, best iteration is:\n",
      "[588]\tvalid_0's rmse: 44.0042\n",
      "Training until validation scores don't improve for 100 rounds\n",
      "Early stopping, best iteration is:\n",
      "[662]\tvalid_0's rmse: 40.9398\n",
      "Training until validation scores don't improve for 100 rounds\n",
      "Early stopping, best iteration is:\n",
      "[546]\tvalid_0's rmse: 44.2932\n",
      "Training until validation scores don't improve for 100 rounds\n",
      "Did not meet early stopping. Best iteration is:\n",
      "[1000]\tvalid_0's rmse: 39.4167\n",
      "Training until validation scores don't improve for 100 rounds\n"
     ]
    },
    {
     "name": "stderr",
     "output_type": "stream",
     "text": [
      "[I 2025-09-14 11:22:21,835] Trial 194 finished with value: 42.47452116972363 and parameters: {'lambda_l1': 7.532546530139646e-06, 'lambda_l2': 3.2952190089648328, 'num_leaves': 267, 'feature_fraction': 0.6275691706098658, 'bagging_fraction': 0.5855152121955367, 'bagging_freq': 1, 'min_child_samples': 15, 'learning_rate': 0.031557862635948085, 'max_depth': 7}. Best is trial 141 with value: 42.271597632734014.\n"
     ]
    },
    {
     "name": "stdout",
     "output_type": "stream",
     "text": [
      "Did not meet early stopping. Best iteration is:\n",
      "[963]\tvalid_0's rmse: 43.7188\n",
      "Training until validation scores don't improve for 100 rounds\n",
      "Early stopping, best iteration is:\n",
      "[879]\tvalid_0's rmse: 43.9796\n",
      "Training until validation scores don't improve for 100 rounds\n",
      "Did not meet early stopping. Best iteration is:\n",
      "[969]\tvalid_0's rmse: 41.5333\n",
      "Training until validation scores don't improve for 100 rounds\n",
      "Early stopping, best iteration is:\n",
      "[670]\tvalid_0's rmse: 44.0168\n",
      "Training until validation scores don't improve for 100 rounds\n",
      "Did not meet early stopping. Best iteration is:\n",
      "[932]\tvalid_0's rmse: 39.4135\n",
      "Training until validation scores don't improve for 100 rounds\n"
     ]
    },
    {
     "name": "stderr",
     "output_type": "stream",
     "text": [
      "[I 2025-09-14 11:22:39,395] Trial 195 finished with value: 42.610457816528104 and parameters: {'lambda_l1': 2.5799842788941146e-05, 'lambda_l2': 1.5539667796045424, 'num_leaves': 275, 'feature_fraction': 0.6477586619824757, 'bagging_fraction': 0.6239525179781544, 'bagging_freq': 1, 'min_child_samples': 17, 'learning_rate': 0.020336749140291172, 'max_depth': 8}. Best is trial 141 with value: 42.271597632734014.\n"
     ]
    },
    {
     "name": "stdout",
     "output_type": "stream",
     "text": [
      "Did not meet early stopping. Best iteration is:\n",
      "[993]\tvalid_0's rmse: 44.1092\n",
      "Training until validation scores don't improve for 100 rounds\n",
      "Did not meet early stopping. Best iteration is:\n",
      "[1000]\tvalid_0's rmse: 44.011\n",
      "Training until validation scores don't improve for 100 rounds\n",
      "Did not meet early stopping. Best iteration is:\n",
      "[997]\tvalid_0's rmse: 41.9695\n",
      "Training until validation scores don't improve for 100 rounds\n",
      "Early stopping, best iteration is:\n",
      "[543]\tvalid_0's rmse: 43.7682\n",
      "Training until validation scores don't improve for 100 rounds\n",
      "Did not meet early stopping. Best iteration is:\n",
      "[995]\tvalid_0's rmse: 40.6632\n",
      "Training until validation scores don't improve for 100 rounds\n"
     ]
    },
    {
     "name": "stderr",
     "output_type": "stream",
     "text": [
      "[I 2025-09-14 11:23:02,383] Trial 196 finished with value: 42.908354561504055 and parameters: {'lambda_l1': 1.3082311037281088e-05, 'lambda_l2': 7.083768383136132, 'num_leaves': 141, 'feature_fraction': 0.6013604595653191, 'bagging_fraction': 0.871741697656118, 'bagging_freq': 1, 'min_child_samples': 12, 'learning_rate': 0.014850288423721294, 'max_depth': 8}. Best is trial 141 with value: 42.271597632734014.\n"
     ]
    },
    {
     "name": "stdout",
     "output_type": "stream",
     "text": [
      "Did not meet early stopping. Best iteration is:\n",
      "[993]\tvalid_0's rmse: 44.1299\n",
      "Training until validation scores don't improve for 100 rounds\n",
      "Early stopping, best iteration is:\n",
      "[236]\tvalid_0's rmse: 44.7325\n",
      "Training until validation scores don't improve for 100 rounds\n",
      "Early stopping, best iteration is:\n",
      "[424]\tvalid_0's rmse: 40.9353\n",
      "Training until validation scores don't improve for 100 rounds\n",
      "Early stopping, best iteration is:\n",
      "[245]\tvalid_0's rmse: 44.1899\n",
      "Training until validation scores don't improve for 100 rounds\n",
      "Early stopping, best iteration is:\n",
      "[315]\tvalid_0's rmse: 39.9412\n",
      "Training until validation scores don't improve for 100 rounds\n"
     ]
    },
    {
     "name": "stderr",
     "output_type": "stream",
     "text": [
      "[I 2025-09-14 11:23:13,779] Trial 197 finished with value: 42.62688128861598 and parameters: {'lambda_l1': 6.051146557650632e-06, 'lambda_l2': 4.056697082922947, 'num_leaves': 297, 'feature_fraction': 0.5807023569945571, 'bagging_fraction': 0.603131914327089, 'bagging_freq': 5, 'min_child_samples': 10, 'learning_rate': 0.038605132206703016, 'max_depth': 8}. Best is trial 141 with value: 42.271597632734014.\n"
     ]
    },
    {
     "name": "stdout",
     "output_type": "stream",
     "text": [
      "Early stopping, best iteration is:\n",
      "[594]\tvalid_0's rmse: 43.3356\n",
      "Training until validation scores don't improve for 100 rounds\n",
      "Early stopping, best iteration is:\n",
      "[383]\tvalid_0's rmse: 43.4087\n",
      "Training until validation scores don't improve for 100 rounds\n",
      "Early stopping, best iteration is:\n",
      "[712]\tvalid_0's rmse: 41.8944\n",
      "Training until validation scores don't improve for 100 rounds\n",
      "Early stopping, best iteration is:\n",
      "[300]\tvalid_0's rmse: 43.918\n",
      "Training until validation scores don't improve for 100 rounds\n",
      "Did not meet early stopping. Best iteration is:\n",
      "[934]\tvalid_0's rmse: 39.9276\n",
      "Training until validation scores don't improve for 100 rounds\n"
     ]
    },
    {
     "name": "stderr",
     "output_type": "stream",
     "text": [
      "[I 2025-09-14 11:23:29,174] Trial 198 finished with value: 42.717745046179225 and parameters: {'lambda_l1': 1.2545396809001247e-05, 'lambda_l2': 2.2972457703963167, 'num_leaves': 263, 'feature_fraction': 0.6180097492094673, 'bagging_fraction': 0.5612871010393861, 'bagging_freq': 1, 'min_child_samples': 15, 'learning_rate': 0.028323491084157583, 'max_depth': 10}. Best is trial 141 with value: 42.271597632734014.\n"
     ]
    },
    {
     "name": "stdout",
     "output_type": "stream",
     "text": [
      "Early stopping, best iteration is:\n",
      "[449]\tvalid_0's rmse: 44.44\n",
      "Training until validation scores don't improve for 100 rounds\n",
      "Early stopping, best iteration is:\n",
      "[666]\tvalid_0's rmse: 43.3267\n",
      "Training until validation scores don't improve for 100 rounds\n",
      "Did not meet early stopping. Best iteration is:\n",
      "[966]\tvalid_0's rmse: 41.4179\n",
      "Training until validation scores don't improve for 100 rounds\n",
      "Early stopping, best iteration is:\n",
      "[762]\tvalid_0's rmse: 44.0922\n",
      "Training until validation scores don't improve for 100 rounds\n",
      "Early stopping, best iteration is:\n",
      "[871]\tvalid_0's rmse: 40.327\n",
      "Training until validation scores don't improve for 100 rounds\n"
     ]
    },
    {
     "name": "stderr",
     "output_type": "stream",
     "text": [
      "[I 2025-09-14 11:23:42,930] Trial 199 finished with value: 42.652913458899135 and parameters: {'lambda_l1': 0.0041346750001542655, 'lambda_l2': 0.942314819550007, 'num_leaves': 287, 'feature_fraction': 0.6368406224295551, 'bagging_fraction': 0.6176077329553364, 'bagging_freq': 1, 'min_child_samples': 19, 'learning_rate': 0.022760077241378664, 'max_depth': 7}. Best is trial 141 with value: 42.271597632734014.\n"
     ]
    },
    {
     "name": "stdout",
     "output_type": "stream",
     "text": [
      "Did not meet early stopping. Best iteration is:\n",
      "[993]\tvalid_0's rmse: 44.1007\n",
      "Training until validation scores don't improve for 100 rounds\n",
      "Early stopping, best iteration is:\n",
      "[665]\tvalid_0's rmse: 44.3843\n",
      "Training until validation scores don't improve for 100 rounds\n",
      "Early stopping, best iteration is:\n",
      "[344]\tvalid_0's rmse: 42.3801\n",
      "Training until validation scores don't improve for 100 rounds\n",
      "Early stopping, best iteration is:\n",
      "[382]\tvalid_0's rmse: 44.396\n",
      "Training until validation scores don't improve for 100 rounds\n",
      "Early stopping, best iteration is:\n",
      "[666]\tvalid_0's rmse: 39.9883\n",
      "Training until validation scores don't improve for 100 rounds\n"
     ]
    },
    {
     "name": "stderr",
     "output_type": "stream",
     "text": [
      "[I 2025-09-14 11:24:00,041] Trial 200 finished with value: 43.20921748425969 and parameters: {'lambda_l1': 3.329243750082971e-05, 'lambda_l2': 4.983978444476298, 'num_leaves': 279, 'feature_fraction': 0.8507254767730619, 'bagging_fraction': 0.5919561098738017, 'bagging_freq': 4, 'min_child_samples': 13, 'learning_rate': 0.03262788235537699, 'max_depth': 8}. Best is trial 141 with value: 42.271597632734014.\n"
     ]
    },
    {
     "name": "stdout",
     "output_type": "stream",
     "text": [
      "Early stopping, best iteration is:\n",
      "[779]\tvalid_0's rmse: 44.8974\n",
      "Training until validation scores don't improve for 100 rounds\n",
      "Early stopping, best iteration is:\n",
      "[523]\tvalid_0's rmse: 43.4985\n",
      "Training until validation scores don't improve for 100 rounds\n",
      "Did not meet early stopping. Best iteration is:\n",
      "[910]\tvalid_0's rmse: 41.1433\n",
      "Training until validation scores don't improve for 100 rounds\n",
      "Early stopping, best iteration is:\n",
      "[644]\tvalid_0's rmse: 43.8918\n",
      "Training until validation scores don't improve for 100 rounds\n",
      "Did not meet early stopping. Best iteration is:\n",
      "[1000]\tvalid_0's rmse: 39.8934\n",
      "Training until validation scores don't improve for 100 rounds\n"
     ]
    },
    {
     "name": "stderr",
     "output_type": "stream",
     "text": [
      "[I 2025-09-14 11:24:18,629] Trial 201 finished with value: 42.494608312116085 and parameters: {'lambda_l1': 1.8984086971822166e-05, 'lambda_l2': 3.6321961588110705, 'num_leaves': 272, 'feature_fraction': 0.5894042430835914, 'bagging_fraction': 0.6026904919350764, 'bagging_freq': 1, 'min_child_samples': 15, 'learning_rate': 0.021016285781721097, 'max_depth': 9}. Best is trial 141 with value: 42.271597632734014.\n"
     ]
    },
    {
     "name": "stdout",
     "output_type": "stream",
     "text": [
      "Early stopping, best iteration is:\n",
      "[826]\tvalid_0's rmse: 44.046\n",
      "Training until validation scores don't improve for 100 rounds\n",
      "Did not meet early stopping. Best iteration is:\n",
      "[961]\tvalid_0's rmse: 42.6329\n",
      "Training until validation scores don't improve for 100 rounds\n",
      "Did not meet early stopping. Best iteration is:\n",
      "[986]\tvalid_0's rmse: 41.2912\n",
      "Training until validation scores don't improve for 100 rounds\n",
      "Early stopping, best iteration is:\n",
      "[868]\tvalid_0's rmse: 42.7479\n",
      "Training until validation scores don't improve for 100 rounds\n",
      "Did not meet early stopping. Best iteration is:\n",
      "[1000]\tvalid_0's rmse: 40.1434\n",
      "Training until validation scores don't improve for 100 rounds\n"
     ]
    },
    {
     "name": "stderr",
     "output_type": "stream",
     "text": [
      "[I 2025-09-14 11:24:43,622] Trial 202 finished with value: 42.16842397618022 and parameters: {'lambda_l1': 1.5047461357110532e-05, 'lambda_l2': 9.935622567204755, 'num_leaves': 271, 'feature_fraction': 0.595913015835665, 'bagging_fraction': 0.5741444775900539, 'bagging_freq': 1, 'min_child_samples': 14, 'learning_rate': 0.016746695463630234, 'max_depth': 10}. Best is trial 202 with value: 42.16842397618022.\n"
     ]
    },
    {
     "name": "stdout",
     "output_type": "stream",
     "text": [
      "Did not meet early stopping. Best iteration is:\n",
      "[985]\tvalid_0's rmse: 44.0267\n",
      "Training until validation scores don't improve for 100 rounds\n",
      "Did not meet early stopping. Best iteration is:\n",
      "[999]\tvalid_0's rmse: 43.3219\n",
      "Training until validation scores don't improve for 100 rounds\n",
      "Did not meet early stopping. Best iteration is:\n",
      "[1000]\tvalid_0's rmse: 41.6649\n",
      "Training until validation scores don't improve for 100 rounds\n",
      "Did not meet early stopping. Best iteration is:\n",
      "[923]\tvalid_0's rmse: 43.0956\n",
      "Training until validation scores don't improve for 100 rounds\n",
      "Did not meet early stopping. Best iteration is:\n",
      "[1000]\tvalid_0's rmse: 40.5942\n",
      "Training until validation scores don't improve for 100 rounds\n"
     ]
    },
    {
     "name": "stderr",
     "output_type": "stream",
     "text": [
      "[I 2025-09-14 11:25:06,317] Trial 203 finished with value: 42.65700335943548 and parameters: {'lambda_l1': 4.74963876656948e-05, 'lambda_l2': 9.516763821325597, 'num_leaves': 256, 'feature_fraction': 0.5690675447950354, 'bagging_fraction': 0.5715042218225318, 'bagging_freq': 1, 'min_child_samples': 17, 'learning_rate': 0.014487065265322594, 'max_depth': 10}. Best is trial 202 with value: 42.16842397618022.\n"
     ]
    },
    {
     "name": "stdout",
     "output_type": "stream",
     "text": [
      "Did not meet early stopping. Best iteration is:\n",
      "[999]\tvalid_0's rmse: 44.6083\n",
      "Training until validation scores don't improve for 100 rounds\n",
      "Early stopping, best iteration is:\n",
      "[594]\tvalid_0's rmse: 43.2198\n",
      "Training until validation scores don't improve for 100 rounds\n",
      "Early stopping, best iteration is:\n",
      "[708]\tvalid_0's rmse: 40.8124\n",
      "Training until validation scores don't improve for 100 rounds\n",
      "Early stopping, best iteration is:\n",
      "[344]\tvalid_0's rmse: 43.0225\n",
      "Training until validation scores don't improve for 100 rounds\n",
      "Did not meet early stopping. Best iteration is:\n",
      "[925]\tvalid_0's rmse: 39.5511\n",
      "Training until validation scores don't improve for 100 rounds\n"
     ]
    },
    {
     "name": "stderr",
     "output_type": "stream",
     "text": [
      "[I 2025-09-14 11:25:27,921] Trial 204 finished with value: 42.174540136492865 and parameters: {'lambda_l1': 0.013072622454119383, 'lambda_l2': 6.498425722368817, 'num_leaves': 268, 'feature_fraction': 0.6056486571537312, 'bagging_fraction': 0.5461909215247651, 'bagging_freq': 1, 'min_child_samples': 12, 'learning_rate': 0.026793295917998356, 'max_depth': 10}. Best is trial 202 with value: 42.16842397618022.\n"
     ]
    },
    {
     "name": "stdout",
     "output_type": "stream",
     "text": [
      "Did not meet early stopping. Best iteration is:\n",
      "[921]\tvalid_0's rmse: 44.267\n",
      "Training until validation scores don't improve for 100 rounds\n",
      "Early stopping, best iteration is:\n",
      "[523]\tvalid_0's rmse: 43.4161\n",
      "Training until validation scores don't improve for 100 rounds\n",
      "Early stopping, best iteration is:\n",
      "[712]\tvalid_0's rmse: 41.1537\n",
      "Training until validation scores don't improve for 100 rounds\n",
      "Early stopping, best iteration is:\n",
      "[340]\tvalid_0's rmse: 43.3262\n",
      "Training until validation scores don't improve for 100 rounds\n",
      "Did not meet early stopping. Best iteration is:\n",
      "[906]\tvalid_0's rmse: 40.3893\n",
      "Training until validation scores don't improve for 100 rounds\n"
     ]
    },
    {
     "name": "stderr",
     "output_type": "stream",
     "text": [
      "[I 2025-09-14 11:25:49,522] Trial 205 finished with value: 42.48595553358501 and parameters: {'lambda_l1': 8.140724928237551e-06, 'lambda_l2': 6.576084086239615, 'num_leaves': 268, 'feature_fraction': 0.6042107006321981, 'bagging_fraction': 0.5312493939728784, 'bagging_freq': 1, 'min_child_samples': 11, 'learning_rate': 0.027434357271641993, 'max_depth': 10}. Best is trial 202 with value: 42.16842397618022.\n"
     ]
    },
    {
     "name": "stdout",
     "output_type": "stream",
     "text": [
      "Did not meet early stopping. Best iteration is:\n",
      "[990]\tvalid_0's rmse: 44.1444\n",
      "Training until validation scores don't improve for 100 rounds\n",
      "Early stopping, best iteration is:\n",
      "[242]\tvalid_0's rmse: 43.4512\n",
      "Training until validation scores don't improve for 100 rounds\n",
      "Early stopping, best iteration is:\n",
      "[756]\tvalid_0's rmse: 41.1699\n",
      "Training until validation scores don't improve for 100 rounds\n",
      "Early stopping, best iteration is:\n",
      "[334]\tvalid_0's rmse: 42.7608\n",
      "Training until validation scores don't improve for 100 rounds\n",
      "Early stopping, best iteration is:\n",
      "[715]\tvalid_0's rmse: 40.3471\n",
      "Training until validation scores don't improve for 100 rounds\n"
     ]
    },
    {
     "name": "stderr",
     "output_type": "stream",
     "text": [
      "[I 2025-09-14 11:26:11,669] Trial 206 finished with value: 42.31112243819528 and parameters: {'lambda_l1': 2.6876205513502017e-05, 'lambda_l2': 6.408362365441762, 'num_leaves': 262, 'feature_fraction': 0.6154130757007199, 'bagging_fraction': 0.5519296871785929, 'bagging_freq': 1, 'min_child_samples': 8, 'learning_rate': 0.03457344257258974, 'max_depth': 10}. Best is trial 202 with value: 42.16842397618022.\n"
     ]
    },
    {
     "name": "stdout",
     "output_type": "stream",
     "text": [
      "Early stopping, best iteration is:\n",
      "[806]\tvalid_0's rmse: 43.8266\n",
      "Training until validation scores don't improve for 100 rounds\n",
      "Early stopping, best iteration is:\n",
      "[240]\tvalid_0's rmse: 42.7204\n",
      "Training until validation scores don't improve for 100 rounds\n",
      "Early stopping, best iteration is:\n",
      "[489]\tvalid_0's rmse: 40.8589\n",
      "Training until validation scores don't improve for 100 rounds\n",
      "Early stopping, best iteration is:\n",
      "[299]\tvalid_0's rmse: 43.1698\n",
      "Training until validation scores don't improve for 100 rounds\n",
      "Early stopping, best iteration is:\n",
      "[574]\tvalid_0's rmse: 41.0689\n",
      "Training until validation scores don't improve for 100 rounds\n"
     ]
    },
    {
     "name": "stderr",
     "output_type": "stream",
     "text": [
      "[I 2025-09-14 11:26:27,546] Trial 207 finished with value: 42.36829340528696 and parameters: {'lambda_l1': 7.869503128235564e-05, 'lambda_l2': 6.140392054440248, 'num_leaves': 252, 'feature_fraction': 0.5846823786351197, 'bagging_fraction': 0.5400643151704997, 'bagging_freq': 1, 'min_child_samples': 8, 'learning_rate': 0.043353777773521146, 'max_depth': 10}. Best is trial 202 with value: 42.16842397618022.\n"
     ]
    },
    {
     "name": "stdout",
     "output_type": "stream",
     "text": [
      "Early stopping, best iteration is:\n",
      "[342]\tvalid_0's rmse: 44.0235\n",
      "Training until validation scores don't improve for 100 rounds\n",
      "Early stopping, best iteration is:\n",
      "[282]\tvalid_0's rmse: 43.5858\n",
      "Training until validation scores don't improve for 100 rounds\n",
      "Early stopping, best iteration is:\n",
      "[850]\tvalid_0's rmse: 42.3253\n",
      "Training until validation scores don't improve for 100 rounds\n",
      "Early stopping, best iteration is:\n",
      "[248]\tvalid_0's rmse: 43.5263\n",
      "Training until validation scores don't improve for 100 rounds\n",
      "Early stopping, best iteration is:\n",
      "[501]\tvalid_0's rmse: 40.8115\n",
      "Training until validation scores don't improve for 100 rounds\n"
     ]
    },
    {
     "name": "stderr",
     "output_type": "stream",
     "text": [
      "[I 2025-09-14 11:26:47,835] Trial 208 finished with value: 42.90086038204175 and parameters: {'lambda_l1': 8.07799246274698e-05, 'lambda_l2': 6.906542179867949, 'num_leaves': 251, 'feature_fraction': 0.5824593117993099, 'bagging_fraction': 0.5201252822295354, 'bagging_freq': 1, 'min_child_samples': 7, 'learning_rate': 0.04371788266450427, 'max_depth': 10}. Best is trial 202 with value: 42.16842397618022.\n"
     ]
    },
    {
     "name": "stdout",
     "output_type": "stream",
     "text": [
      "Early stopping, best iteration is:\n",
      "[592]\tvalid_0's rmse: 44.2554\n",
      "Training until validation scores don't improve for 100 rounds\n",
      "Early stopping, best iteration is:\n",
      "[417]\tvalid_0's rmse: 43.353\n",
      "Training until validation scores don't improve for 100 rounds\n",
      "Early stopping, best iteration is:\n",
      "[564]\tvalid_0's rmse: 41.0692\n",
      "Training until validation scores don't improve for 100 rounds\n",
      "Early stopping, best iteration is:\n",
      "[299]\tvalid_0's rmse: 43.1781\n",
      "Training until validation scores don't improve for 100 rounds\n",
      "Early stopping, best iteration is:\n",
      "[488]\tvalid_0's rmse: 40.8142\n",
      "Training until validation scores don't improve for 100 rounds\n"
     ]
    },
    {
     "name": "stderr",
     "output_type": "stream",
     "text": [
      "[I 2025-09-14 11:27:07,048] Trial 209 finished with value: 42.535694401616766 and parameters: {'lambda_l1': 0.02593647117490826, 'lambda_l2': 9.162213059853213, 'num_leaves': 246, 'feature_fraction': 0.5961247297907095, 'bagging_fraction': 0.5497645507600294, 'bagging_freq': 1, 'min_child_samples': 8, 'learning_rate': 0.03905569731431453, 'max_depth': 10}. Best is trial 202 with value: 42.16842397618022.\n"
     ]
    },
    {
     "name": "stdout",
     "output_type": "stream",
     "text": [
      "Early stopping, best iteration is:\n",
      "[601]\tvalid_0's rmse: 44.264\n",
      "Training until validation scores don't improve for 100 rounds\n",
      "Did not meet early stopping. Best iteration is:\n",
      "[994]\tvalid_0's rmse: 43.2309\n",
      "Training until validation scores don't improve for 100 rounds\n",
      "Did not meet early stopping. Best iteration is:\n",
      "[997]\tvalid_0's rmse: 42.0627\n",
      "Training until validation scores don't improve for 100 rounds\n",
      "Early stopping, best iteration is:\n",
      "[799]\tvalid_0's rmse: 42.9243\n",
      "Training until validation scores don't improve for 100 rounds\n",
      "Did not meet early stopping. Best iteration is:\n",
      "[979]\tvalid_0's rmse: 41.2214\n",
      "Training until validation scores don't improve for 100 rounds\n",
      "Did not meet early stopping. Best iteration is:\n",
      "[998]\tvalid_0's rmse: 45.0111\n"
     ]
    },
    {
     "name": "stderr",
     "output_type": "stream",
     "text": [
      "[I 2025-09-14 11:27:46,709] Trial 210 finished with value: 42.89008650424455 and parameters: {'lambda_l1': 0.012033733511283678, 'lambda_l2': 9.423843613582582, 'num_leaves': 259, 'feature_fraction': 0.5654652580932835, 'bagging_fraction': 0.509240641611099, 'bagging_freq': 1, 'min_child_samples': 5, 'learning_rate': 0.010108219109925232, 'max_depth': 10}. Best is trial 202 with value: 42.16842397618022.\n"
     ]
    },
    {
     "name": "stdout",
     "output_type": "stream",
     "text": [
      "Training until validation scores don't improve for 100 rounds\n",
      "Early stopping, best iteration is:\n",
      "[407]\tvalid_0's rmse: 43.5464\n",
      "Training until validation scores don't improve for 100 rounds\n",
      "Early stopping, best iteration is:\n",
      "[544]\tvalid_0's rmse: 41.5143\n",
      "Training until validation scores don't improve for 100 rounds\n",
      "Early stopping, best iteration is:\n",
      "[381]\tvalid_0's rmse: 43.4688\n",
      "Training until validation scores don't improve for 100 rounds\n",
      "Early stopping, best iteration is:\n",
      "[594]\tvalid_0's rmse: 40.5903\n",
      "Training until validation scores don't improve for 100 rounds\n"
     ]
    },
    {
     "name": "stderr",
     "output_type": "stream",
     "text": [
      "[I 2025-09-14 11:28:07,303] Trial 211 finished with value: 42.61151633071766 and parameters: {'lambda_l1': 6.582004211687279e-05, 'lambda_l2': 5.086092732667029, 'num_leaves': 263, 'feature_fraction': 0.6112597951214075, 'bagging_fraction': 0.5331597455168097, 'bagging_freq': 1, 'min_child_samples': 9, 'learning_rate': 0.02580999855285668, 'max_depth': 10}. Best is trial 202 with value: 42.16842397618022.\n"
     ]
    },
    {
     "name": "stdout",
     "output_type": "stream",
     "text": [
      "Did not meet early stopping. Best iteration is:\n",
      "[994]\tvalid_0's rmse: 43.9379\n",
      "Training until validation scores don't improve for 100 rounds\n",
      "Early stopping, best iteration is:\n",
      "[351]\tvalid_0's rmse: 43.3457\n",
      "Training until validation scores don't improve for 100 rounds\n",
      "Early stopping, best iteration is:\n",
      "[510]\tvalid_0's rmse: 40.7574\n",
      "Training until validation scores don't improve for 100 rounds\n",
      "Early stopping, best iteration is:\n",
      "[299]\tvalid_0's rmse: 43.2617\n",
      "Training until validation scores don't improve for 100 rounds\n",
      "Early stopping, best iteration is:\n",
      "[753]\tvalid_0's rmse: 40.4694\n",
      "Training until validation scores don't improve for 100 rounds\n"
     ]
    },
    {
     "name": "stderr",
     "output_type": "stream",
     "text": [
      "[I 2025-09-14 11:28:21,203] Trial 212 finished with value: 42.52516213251498 and parameters: {'lambda_l1': 0.00022663290749758537, 'lambda_l2': 5.270408755434108, 'num_leaves': 271, 'feature_fraction': 0.5907646033792163, 'bagging_fraction': 0.5409572201484171, 'bagging_freq': 1, 'min_child_samples': 13, 'learning_rate': 0.03569829506681631, 'max_depth': 10}. Best is trial 202 with value: 42.16842397618022.\n"
     ]
    },
    {
     "name": "stdout",
     "output_type": "stream",
     "text": [
      "Early stopping, best iteration is:\n",
      "[347]\tvalid_0's rmse: 44.7916\n",
      "Training until validation scores don't improve for 100 rounds\n",
      "Early stopping, best iteration is:\n",
      "[843]\tvalid_0's rmse: 43.3927\n",
      "Training until validation scores don't improve for 100 rounds\n",
      "Early stopping, best iteration is:\n",
      "[733]\tvalid_0's rmse: 41.5305\n",
      "Training until validation scores don't improve for 100 rounds\n",
      "Early stopping, best iteration is:\n",
      "[710]\tvalid_0's rmse: 43.0479\n",
      "Training until validation scores don't improve for 100 rounds\n",
      "Did not meet early stopping. Best iteration is:\n",
      "[1000]\tvalid_0's rmse: 40.0534\n",
      "Training until validation scores don't improve for 100 rounds\n"
     ]
    },
    {
     "name": "stderr",
     "output_type": "stream",
     "text": [
      "[I 2025-09-14 11:28:43,379] Trial 213 finished with value: 42.491495914568944 and parameters: {'lambda_l1': 0.0001429650866339221, 'lambda_l2': 6.708205516204531, 'num_leaves': 254, 'feature_fraction': 0.6314911282087594, 'bagging_fraction': 0.577959349442985, 'bagging_freq': 1, 'min_child_samples': 16, 'learning_rate': 0.018577390048874622, 'max_depth': 10}. Best is trial 202 with value: 42.16842397618022.\n"
     ]
    },
    {
     "name": "stdout",
     "output_type": "stream",
     "text": [
      "Did not meet early stopping. Best iteration is:\n",
      "[958]\tvalid_0's rmse: 44.433\n",
      "Training until validation scores don't improve for 100 rounds\n",
      "Early stopping, best iteration is:\n",
      "[245]\tvalid_0's rmse: 43.7526\n",
      "Training until validation scores don't improve for 100 rounds\n",
      "Early stopping, best iteration is:\n",
      "[282]\tvalid_0's rmse: 41.9155\n",
      "Training until validation scores don't improve for 100 rounds\n",
      "Early stopping, best iteration is:\n",
      "[120]\tvalid_0's rmse: 43.8458\n",
      "Training until validation scores don't improve for 100 rounds\n",
      "Early stopping, best iteration is:\n",
      "[735]\tvalid_0's rmse: 39.4605\n",
      "Training until validation scores don't improve for 100 rounds\n"
     ]
    },
    {
     "name": "stderr",
     "output_type": "stream",
     "text": [
      "[I 2025-09-14 11:28:54,243] Trial 214 finished with value: 42.576509429479216 and parameters: {'lambda_l1': 0.000357080206695164, 'lambda_l2': 3.0092202691849703, 'num_leaves': 265, 'feature_fraction': 0.6042027195366848, 'bagging_fraction': 0.5630357643465131, 'bagging_freq': 1, 'min_child_samples': 14, 'learning_rate': 0.05080263886882476, 'max_depth': 10}. Best is trial 202 with value: 42.16842397618022.\n"
     ]
    },
    {
     "name": "stdout",
     "output_type": "stream",
     "text": [
      "Early stopping, best iteration is:\n",
      "[335]\tvalid_0's rmse: 43.9081\n",
      "Training until validation scores don't improve for 100 rounds\n",
      "Early stopping, best iteration is:\n",
      "[774]\tvalid_0's rmse: 43.3112\n",
      "Training until validation scores don't improve for 100 rounds\n",
      "Early stopping, best iteration is:\n",
      "[717]\tvalid_0's rmse: 41.4725\n",
      "Training until validation scores don't improve for 100 rounds\n",
      "Early stopping, best iteration is:\n",
      "[348]\tvalid_0's rmse: 43.5801\n",
      "Training until validation scores don't improve for 100 rounds\n",
      "Early stopping, best iteration is:\n",
      "[871]\tvalid_0's rmse: 40.4853\n",
      "Training until validation scores don't improve for 100 rounds\n"
     ]
    },
    {
     "name": "stderr",
     "output_type": "stream",
     "text": [
      "[I 2025-09-14 11:29:12,541] Trial 215 finished with value: 42.65387519256544 and parameters: {'lambda_l1': 2.9701983592479887e-05, 'lambda_l2': 4.686330356148614, 'num_leaves': 259, 'feature_fraction': 0.5771693716004948, 'bagging_fraction': 0.5456188811454088, 'bagging_freq': 1, 'min_child_samples': 18, 'learning_rate': 0.02613020881537505, 'max_depth': 10}. Best is trial 202 with value: 42.16842397618022.\n"
     ]
    },
    {
     "name": "stdout",
     "output_type": "stream",
     "text": [
      "Did not meet early stopping. Best iteration is:\n",
      "[994]\tvalid_0's rmse: 44.4202\n",
      "Training until validation scores don't improve for 100 rounds\n",
      "Early stopping, best iteration is:\n",
      "[543]\tvalid_0's rmse: 43.7991\n",
      "Training until validation scores don't improve for 100 rounds\n",
      "Did not meet early stopping. Best iteration is:\n",
      "[959]\tvalid_0's rmse: 40.741\n",
      "Training until validation scores don't improve for 100 rounds\n",
      "Early stopping, best iteration is:\n",
      "[411]\tvalid_0's rmse: 43.5933\n",
      "Training until validation scores don't improve for 100 rounds\n",
      "Did not meet early stopping. Best iteration is:\n",
      "[1000]\tvalid_0's rmse: 40.3392\n",
      "Training until validation scores don't improve for 100 rounds\n"
     ]
    },
    {
     "name": "stderr",
     "output_type": "stream",
     "text": [
      "[I 2025-09-14 11:29:31,351] Trial 216 finished with value: 42.5656137833147 and parameters: {'lambda_l1': 0.1539254644627692, 'lambda_l2': 6.8614718259156655, 'num_leaves': 283, 'feature_fraction': 0.6143386300744809, 'bagging_fraction': 0.5828953244061288, 'bagging_freq': 1, 'min_child_samples': 10, 'learning_rate': 0.03201463794770903, 'max_depth': 8}. Best is trial 202 with value: 42.16842397618022.\n"
     ]
    },
    {
     "name": "stdout",
     "output_type": "stream",
     "text": [
      "Early stopping, best iteration is:\n",
      "[601]\tvalid_0's rmse: 44.3555\n",
      "Training until validation scores don't improve for 100 rounds\n",
      "Early stopping, best iteration is:\n",
      "[357]\tvalid_0's rmse: 43.5228\n",
      "Training until validation scores don't improve for 100 rounds\n",
      "Early stopping, best iteration is:\n",
      "[862]\tvalid_0's rmse: 41.447\n",
      "Training until validation scores don't improve for 100 rounds\n",
      "Early stopping, best iteration is:\n",
      "[330]\tvalid_0's rmse: 44.1353\n",
      "Training until validation scores don't improve for 100 rounds\n",
      "Early stopping, best iteration is:\n",
      "[611]\tvalid_0's rmse: 40.8384\n",
      "Training until validation scores don't improve for 100 rounds\n"
     ]
    },
    {
     "name": "stderr",
     "output_type": "stream",
     "text": [
      "[I 2025-09-14 11:29:55,470] Trial 217 finished with value: 42.79315221311141 and parameters: {'lambda_l1': 4.8971230769795616e-05, 'lambda_l2': 2.872242775059574, 'num_leaves': 271, 'feature_fraction': 0.6489754774599937, 'bagging_fraction': 0.5697135271202852, 'bagging_freq': 1, 'min_child_samples': 7, 'learning_rate': 0.0211460658334958, 'max_depth': 10}. Best is trial 202 with value: 42.16842397618022.\n"
     ]
    },
    {
     "name": "stdout",
     "output_type": "stream",
     "text": [
      "Early stopping, best iteration is:\n",
      "[593]\tvalid_0's rmse: 44.0221\n",
      "Training until validation scores don't improve for 100 rounds\n",
      "Did not meet early stopping. Best iteration is:\n",
      "[911]\tvalid_0's rmse: 43.071\n",
      "Training until validation scores don't improve for 100 rounds\n",
      "Did not meet early stopping. Best iteration is:\n",
      "[971]\tvalid_0's rmse: 41.1877\n",
      "Training until validation scores don't improve for 100 rounds\n",
      "Early stopping, best iteration is:\n",
      "[747]\tvalid_0's rmse: 42.6881\n",
      "Training until validation scores don't improve for 100 rounds\n",
      "Did not meet early stopping. Best iteration is:\n",
      "[994]\tvalid_0's rmse: 40.263\n",
      "Training until validation scores don't improve for 100 rounds\n"
     ]
    },
    {
     "name": "stderr",
     "output_type": "stream",
     "text": [
      "[I 2025-09-14 11:30:23,298] Trial 218 finished with value: 42.30413613172546 and parameters: {'lambda_l1': 0.00010765687467567248, 'lambda_l2': 9.581604898253977, 'num_leaves': 265, 'feature_fraction': 0.6272472353893205, 'bagging_fraction': 0.5898091223357125, 'bagging_freq': 1, 'min_child_samples': 12, 'learning_rate': 0.01576514756141987, 'max_depth': 10}. Best is trial 202 with value: 42.16842397618022.\n"
     ]
    },
    {
     "name": "stdout",
     "output_type": "stream",
     "text": [
      "Did not meet early stopping. Best iteration is:\n",
      "[1000]\tvalid_0's rmse: 44.311\n",
      "Training until validation scores don't improve for 100 rounds\n",
      "Early stopping, best iteration is:\n",
      "[665]\tvalid_0's rmse: 43.3931\n",
      "Training until validation scores don't improve for 100 rounds\n",
      "Did not meet early stopping. Best iteration is:\n",
      "[983]\tvalid_0's rmse: 41.1069\n",
      "Training until validation scores don't improve for 100 rounds\n",
      "Early stopping, best iteration is:\n",
      "[666]\tvalid_0's rmse: 42.6843\n",
      "Training until validation scores don't improve for 100 rounds\n",
      "Did not meet early stopping. Best iteration is:\n",
      "[993]\tvalid_0's rmse: 40.4255\n",
      "Training until validation scores don't improve for 100 rounds\n"
     ]
    },
    {
     "name": "stderr",
     "output_type": "stream",
     "text": [
      "[I 2025-09-14 11:30:48,970] Trial 219 finished with value: 42.450912209477224 and parameters: {'lambda_l1': 0.0005161426897267053, 'lambda_l2': 9.377366898285976, 'num_leaves': 252, 'feature_fraction': 0.5900983935786195, 'bagging_fraction': 0.5561739242827528, 'bagging_freq': 1, 'min_child_samples': 11, 'learning_rate': 0.018743984330247723, 'max_depth': 10}. Best is trial 202 with value: 42.16842397618022.\n"
     ]
    },
    {
     "name": "stdout",
     "output_type": "stream",
     "text": [
      "Did not meet early stopping. Best iteration is:\n",
      "[958]\tvalid_0's rmse: 44.6447\n",
      "Training until validation scores don't improve for 100 rounds\n",
      "Early stopping, best iteration is:\n",
      "[43]\tvalid_0's rmse: 46.0583\n",
      "Training until validation scores don't improve for 100 rounds\n",
      "Early stopping, best iteration is:\n",
      "[183]\tvalid_0's rmse: 41.9543\n",
      "Training until validation scores don't improve for 100 rounds\n",
      "Early stopping, best iteration is:\n",
      "[26]\tvalid_0's rmse: 46.1887\n",
      "Training until validation scores don't improve for 100 rounds\n",
      "Early stopping, best iteration is:\n",
      "[164]\tvalid_0's rmse: 42.3693\n",
      "Training until validation scores don't improve for 100 rounds\n"
     ]
    },
    {
     "name": "stderr",
     "output_type": "stream",
     "text": [
      "[I 2025-09-14 11:30:55,777] Trial 220 finished with value: 44.45909518670389 and parameters: {'lambda_l1': 0.00012083325570742111, 'lambda_l2': 4.031181611029936, 'num_leaves': 160, 'feature_fraction': 0.6183789474933994, 'bagging_fraction': 0.5280258270236153, 'bagging_freq': 1, 'min_child_samples': 9, 'learning_rate': 0.15181827171342097, 'max_depth': 10}. Best is trial 202 with value: 42.16842397618022.\n"
     ]
    },
    {
     "name": "stdout",
     "output_type": "stream",
     "text": [
      "Early stopping, best iteration is:\n",
      "[140]\tvalid_0's rmse: 45.7248\n",
      "Training until validation scores don't improve for 100 rounds\n",
      "Early stopping, best iteration is:\n",
      "[769]\tvalid_0's rmse: 43.0217\n",
      "Training until validation scores don't improve for 100 rounds\n",
      "Early stopping, best iteration is:\n",
      "[708]\tvalid_0's rmse: 41.5637\n",
      "Training until validation scores don't improve for 100 rounds\n",
      "Early stopping, best iteration is:\n",
      "[411]\tvalid_0's rmse: 43.3358\n",
      "Training until validation scores don't improve for 100 rounds\n",
      "Early stopping, best iteration is:\n",
      "[747]\tvalid_0's rmse: 39.7159\n",
      "Training until validation scores don't improve for 100 rounds\n"
     ]
    },
    {
     "name": "stderr",
     "output_type": "stream",
     "text": [
      "[I 2025-09-14 11:31:15,974] Trial 221 finished with value: 42.39542180811357 and parameters: {'lambda_l1': 0.00010255531144944488, 'lambda_l2': 5.414573451378803, 'num_leaves': 263, 'feature_fraction': 0.6335642696050496, 'bagging_fraction': 0.5812382428823841, 'bagging_freq': 1, 'min_child_samples': 14, 'learning_rate': 0.024816680058195737, 'max_depth': 10}. Best is trial 202 with value: 42.16842397618022.\n"
     ]
    },
    {
     "name": "stdout",
     "output_type": "stream",
     "text": [
      "Early stopping, best iteration is:\n",
      "[835]\tvalid_0's rmse: 44.3401\n",
      "Training until validation scores don't improve for 100 rounds\n",
      "Early stopping, best iteration is:\n",
      "[769]\tvalid_0's rmse: 43.4816\n",
      "Training until validation scores don't improve for 100 rounds\n",
      "Did not meet early stopping. Best iteration is:\n",
      "[988]\tvalid_0's rmse: 41.3705\n",
      "Training until validation scores don't improve for 100 rounds\n",
      "Early stopping, best iteration is:\n",
      "[707]\tvalid_0's rmse: 42.9223\n",
      "Training until validation scores don't improve for 100 rounds\n",
      "Did not meet early stopping. Best iteration is:\n",
      "[994]\tvalid_0's rmse: 39.918\n",
      "Training until validation scores don't improve for 100 rounds\n"
     ]
    },
    {
     "name": "stderr",
     "output_type": "stream",
     "text": [
      "[I 2025-09-14 11:31:40,482] Trial 222 finished with value: 42.37608634747168 and parameters: {'lambda_l1': 0.0001164666921232611, 'lambda_l2': 7.024140833213657, 'num_leaves': 265, 'feature_fraction': 0.6670513758863384, 'bagging_fraction': 0.5790654345304156, 'bagging_freq': 1, 'min_child_samples': 14, 'learning_rate': 0.015585634944366796, 'max_depth': 10}. Best is trial 202 with value: 42.16842397618022.\n"
     ]
    },
    {
     "name": "stdout",
     "output_type": "stream",
     "text": [
      "Did not meet early stopping. Best iteration is:\n",
      "[990]\tvalid_0's rmse: 44.188\n",
      "Training until validation scores don't improve for 100 rounds\n",
      "Did not meet early stopping. Best iteration is:\n",
      "[993]\tvalid_0's rmse: 42.9854\n",
      "Training until validation scores don't improve for 100 rounds\n",
      "Did not meet early stopping. Best iteration is:\n",
      "[992]\tvalid_0's rmse: 41.2949\n",
      "Training until validation scores don't improve for 100 rounds\n",
      "Early stopping, best iteration is:\n",
      "[747]\tvalid_0's rmse: 42.7509\n",
      "Training until validation scores don't improve for 100 rounds\n",
      "Did not meet early stopping. Best iteration is:\n",
      "[1000]\tvalid_0's rmse: 39.9122\n",
      "Training until validation scores don't improve for 100 rounds\n"
     ]
    },
    {
     "name": "stderr",
     "output_type": "stream",
     "text": [
      "[I 2025-09-14 11:32:08,017] Trial 223 finished with value: 42.16477205837596 and parameters: {'lambda_l1': 8.560875425959743e-05, 'lambda_l2': 7.234463438256011, 'num_leaves': 263, 'feature_fraction': 0.6550638136477832, 'bagging_fraction': 0.5720747611971476, 'bagging_freq': 1, 'min_child_samples': 12, 'learning_rate': 0.015392224660478973, 'max_depth': 10}. Best is trial 223 with value: 42.16477205837596.\n"
     ]
    },
    {
     "name": "stdout",
     "output_type": "stream",
     "text": [
      "Did not meet early stopping. Best iteration is:\n",
      "[986]\tvalid_0's rmse: 43.8805\n",
      "Training until validation scores don't improve for 100 rounds\n",
      "Did not meet early stopping. Best iteration is:\n",
      "[974]\tvalid_0's rmse: 43.142\n",
      "Training until validation scores don't improve for 100 rounds\n",
      "Did not meet early stopping. Best iteration is:\n",
      "[991]\tvalid_0's rmse: 41.6581\n",
      "Training until validation scores don't improve for 100 rounds\n",
      "Early stopping, best iteration is:\n",
      "[738]\tvalid_0's rmse: 42.8446\n",
      "Training until validation scores don't improve for 100 rounds\n",
      "Did not meet early stopping. Best iteration is:\n",
      "[1000]\tvalid_0's rmse: 39.8063\n",
      "Training until validation scores don't improve for 100 rounds\n"
     ]
    },
    {
     "name": "stderr",
     "output_type": "stream",
     "text": [
      "[I 2025-09-14 11:32:36,400] Trial 224 finished with value: 42.28757479556665 and parameters: {'lambda_l1': 0.0002469338504457347, 'lambda_l2': 9.454374548769422, 'num_leaves': 263, 'feature_fraction': 0.6703382660011985, 'bagging_fraction': 0.5700019032780053, 'bagging_freq': 1, 'min_child_samples': 12, 'learning_rate': 0.015594891554531072, 'max_depth': 10}. Best is trial 223 with value: 42.16477205837596.\n"
     ]
    },
    {
     "name": "stdout",
     "output_type": "stream",
     "text": [
      "Did not meet early stopping. Best iteration is:\n",
      "[999]\tvalid_0's rmse: 43.9869\n",
      "Training until validation scores don't improve for 100 rounds\n",
      "Did not meet early stopping. Best iteration is:\n",
      "[994]\tvalid_0's rmse: 43.1114\n",
      "Training until validation scores don't improve for 100 rounds\n",
      "Did not meet early stopping. Best iteration is:\n",
      "[976]\tvalid_0's rmse: 41.5052\n",
      "Training until validation scores don't improve for 100 rounds\n",
      "Did not meet early stopping. Best iteration is:\n",
      "[902]\tvalid_0's rmse: 43.1455\n",
      "Training until validation scores don't improve for 100 rounds\n",
      "Did not meet early stopping. Best iteration is:\n",
      "[998]\tvalid_0's rmse: 39.8586\n",
      "Training until validation scores don't improve for 100 rounds\n"
     ]
    },
    {
     "name": "stderr",
     "output_type": "stream",
     "text": [
      "[I 2025-09-14 11:33:04,973] Trial 225 finished with value: 42.344169632888516 and parameters: {'lambda_l1': 0.0002859996845636684, 'lambda_l2': 7.223391310187972, 'num_leaves': 264, 'feature_fraction': 0.6573963978468115, 'bagging_fraction': 0.5667372199200883, 'bagging_freq': 1, 'min_child_samples': 12, 'learning_rate': 0.013437802416971041, 'max_depth': 10}. Best is trial 223 with value: 42.16477205837596.\n"
     ]
    },
    {
     "name": "stdout",
     "output_type": "stream",
     "text": [
      "Did not meet early stopping. Best iteration is:\n",
      "[1000]\tvalid_0's rmse: 44.1001\n",
      "Training until validation scores don't improve for 100 rounds\n",
      "Did not meet early stopping. Best iteration is:\n",
      "[968]\tvalid_0's rmse: 43.2707\n",
      "Training until validation scores don't improve for 100 rounds\n",
      "Did not meet early stopping. Best iteration is:\n",
      "[994]\tvalid_0's rmse: 41.3022\n",
      "Training until validation scores don't improve for 100 rounds\n",
      "Early stopping, best iteration is:\n",
      "[661]\tvalid_0's rmse: 42.9893\n",
      "Training until validation scores don't improve for 100 rounds\n",
      "Did not meet early stopping. Best iteration is:\n",
      "[1000]\tvalid_0's rmse: 40.7582\n",
      "Training until validation scores don't improve for 100 rounds\n"
     ]
    },
    {
     "name": "stderr",
     "output_type": "stream",
     "text": [
      "[I 2025-09-14 11:33:33,880] Trial 226 finished with value: 42.57465184535347 and parameters: {'lambda_l1': 0.00017017477337891488, 'lambda_l2': 9.23417773597354, 'num_leaves': 265, 'feature_fraction': 0.6756068481945099, 'bagging_fraction': 0.5627210921620802, 'bagging_freq': 1, 'min_child_samples': 11, 'learning_rate': 0.014746649934670623, 'max_depth': 10}. Best is trial 223 with value: 42.16477205837596.\n"
     ]
    },
    {
     "name": "stdout",
     "output_type": "stream",
     "text": [
      "Did not meet early stopping. Best iteration is:\n",
      "[996]\tvalid_0's rmse: 44.5529\n",
      "Training until validation scores don't improve for 100 rounds\n",
      "Did not meet early stopping. Best iteration is:\n",
      "[999]\tvalid_0's rmse: 43.4435\n",
      "Training until validation scores don't improve for 100 rounds\n",
      "Did not meet early stopping. Best iteration is:\n",
      "[997]\tvalid_0's rmse: 41.894\n",
      "Training until validation scores don't improve for 100 rounds\n",
      "Did not meet early stopping. Best iteration is:\n",
      "[905]\tvalid_0's rmse: 42.9622\n",
      "Training until validation scores don't improve for 100 rounds\n",
      "Did not meet early stopping. Best iteration is:\n",
      "[1000]\tvalid_0's rmse: 41.0402\n",
      "Training until validation scores don't improve for 100 rounds\n",
      "Did not meet early stopping. Best iteration is:\n",
      "[1000]\tvalid_0's rmse: 44.4853\n"
     ]
    },
    {
     "name": "stderr",
     "output_type": "stream",
     "text": [
      "[I 2025-09-14 11:34:10,413] Trial 227 finished with value: 42.76502131000383 and parameters: {'lambda_l1': 0.00039838497905409127, 'lambda_l2': 9.794945384025953, 'num_leaves': 242, 'feature_fraction': 0.6945347850414068, 'bagging_fraction': 0.5506414833100749, 'bagging_freq': 1, 'min_child_samples': 8, 'learning_rate': 0.010356675528208022, 'max_depth': 10}. Best is trial 223 with value: 42.16477205837596.\n"
     ]
    },
    {
     "name": "stdout",
     "output_type": "stream",
     "text": [
      "Training until validation scores don't improve for 100 rounds\n",
      "Did not meet early stopping. Best iteration is:\n",
      "[968]\tvalid_0's rmse: 43.1826\n",
      "Training until validation scores don't improve for 100 rounds\n",
      "Did not meet early stopping. Best iteration is:\n",
      "[975]\tvalid_0's rmse: 41.7768\n",
      "Training until validation scores don't improve for 100 rounds\n",
      "Early stopping, best iteration is:\n",
      "[654]\tvalid_0's rmse: 43.1963\n",
      "Training until validation scores don't improve for 100 rounds\n",
      "Did not meet early stopping. Best iteration is:\n",
      "[982]\tvalid_0's rmse: 39.8318\n",
      "Training until validation scores don't improve for 100 rounds\n"
     ]
    },
    {
     "name": "stderr",
     "output_type": "stream",
     "text": [
      "[I 2025-09-14 11:34:37,822] Trial 228 finished with value: 42.39435851078958 and parameters: {'lambda_l1': 0.0002991764249649074, 'lambda_l2': 6.18278856056778, 'num_leaves': 263, 'feature_fraction': 0.6639775581217757, 'bagging_fraction': 0.5720464603557358, 'bagging_freq': 1, 'min_child_samples': 12, 'learning_rate': 0.014902577293117596, 'max_depth': 10}. Best is trial 223 with value: 42.16477205837596.\n"
     ]
    },
    {
     "name": "stdout",
     "output_type": "stream",
     "text": [
      "Did not meet early stopping. Best iteration is:\n",
      "[975]\tvalid_0's rmse: 43.9842\n",
      "Training until validation scores don't improve for 100 rounds\n",
      "Early stopping, best iteration is:\n",
      "[890]\tvalid_0's rmse: 43.3795\n",
      "Training until validation scores don't improve for 100 rounds\n",
      "Did not meet early stopping. Best iteration is:\n",
      "[994]\tvalid_0's rmse: 41.324\n",
      "Training until validation scores don't improve for 100 rounds\n",
      "Early stopping, best iteration is:\n",
      "[718]\tvalid_0's rmse: 42.9991\n",
      "Training until validation scores don't improve for 100 rounds\n",
      "Did not meet early stopping. Best iteration is:\n",
      "[1000]\tvalid_0's rmse: 39.8731\n",
      "Training until validation scores don't improve for 100 rounds\n"
     ]
    },
    {
     "name": "stderr",
     "output_type": "stream",
     "text": [
      "[I 2025-09-14 11:35:05,641] Trial 229 finished with value: 42.2968575124548 and parameters: {'lambda_l1': 0.0002537570769113936, 'lambda_l2': 6.513682437404506, 'num_leaves': 264, 'feature_fraction': 0.6688599923788504, 'bagging_fraction': 0.5733597861420003, 'bagging_freq': 1, 'min_child_samples': 12, 'learning_rate': 0.01483251637979335, 'max_depth': 10}. Best is trial 223 with value: 42.16477205837596.\n"
     ]
    },
    {
     "name": "stdout",
     "output_type": "stream",
     "text": [
      "Did not meet early stopping. Best iteration is:\n",
      "[987]\tvalid_0's rmse: 43.9085\n",
      "Training until validation scores don't improve for 100 rounds\n",
      "Did not meet early stopping. Best iteration is:\n",
      "[988]\tvalid_0's rmse: 43.0756\n",
      "Training until validation scores don't improve for 100 rounds\n",
      "Did not meet early stopping. Best iteration is:\n",
      "[990]\tvalid_0's rmse: 41.5493\n",
      "Training until validation scores don't improve for 100 rounds\n",
      "Did not meet early stopping. Best iteration is:\n",
      "[918]\tvalid_0's rmse: 43.0923\n",
      "Training until validation scores don't improve for 100 rounds\n",
      "Did not meet early stopping. Best iteration is:\n",
      "[998]\tvalid_0's rmse: 40.2234\n",
      "Training until validation scores don't improve for 100 rounds\n"
     ]
    },
    {
     "name": "stderr",
     "output_type": "stream",
     "text": [
      "[I 2025-09-14 11:35:35,063] Trial 230 finished with value: 42.47587772613133 and parameters: {'lambda_l1': 0.0003162114548487295, 'lambda_l2': 6.561515526834772, 'num_leaves': 263, 'feature_fraction': 0.6663487256896273, 'bagging_fraction': 0.5716679097651721, 'bagging_freq': 1, 'min_child_samples': 12, 'learning_rate': 0.010139505528625817, 'max_depth': 10}. Best is trial 223 with value: 42.16477205837596.\n"
     ]
    },
    {
     "name": "stdout",
     "output_type": "stream",
     "text": [
      "Did not meet early stopping. Best iteration is:\n",
      "[1000]\tvalid_0's rmse: 44.4388\n",
      "Training until validation scores don't improve for 100 rounds\n",
      "Did not meet early stopping. Best iteration is:\n",
      "[980]\tvalid_0's rmse: 43.1682\n",
      "Training until validation scores don't improve for 100 rounds\n",
      "Did not meet early stopping. Best iteration is:\n",
      "[1000]\tvalid_0's rmse: 41.272\n",
      "Training until validation scores don't improve for 100 rounds\n",
      "Early stopping, best iteration is:\n",
      "[868]\tvalid_0's rmse: 42.9257\n",
      "Training until validation scores don't improve for 100 rounds\n",
      "Did not meet early stopping. Best iteration is:\n",
      "[956]\tvalid_0's rmse: 40.2172\n",
      "Training until validation scores don't improve for 100 rounds\n"
     ]
    },
    {
     "name": "stderr",
     "output_type": "stream",
     "text": [
      "[I 2025-09-14 11:36:06,462] Trial 231 finished with value: 42.384514341132714 and parameters: {'lambda_l1': 0.00022351632966543053, 'lambda_l2': 9.939907254389956, 'num_leaves': 268, 'feature_fraction': 0.6788952503813304, 'bagging_fraction': 0.5440485400375772, 'bagging_freq': 1, 'min_child_samples': 10, 'learning_rate': 0.0163268011286638, 'max_depth': 10}. Best is trial 223 with value: 42.16477205837596.\n"
     ]
    },
    {
     "name": "stdout",
     "output_type": "stream",
     "text": [
      "Did not meet early stopping. Best iteration is:\n",
      "[999]\tvalid_0's rmse: 44.3395\n",
      "Training until validation scores don't improve for 100 rounds\n",
      "Did not meet early stopping. Best iteration is:\n",
      "[983]\tvalid_0's rmse: 43.3377\n",
      "Training until validation scores don't improve for 100 rounds\n",
      "Did not meet early stopping. Best iteration is:\n",
      "[976]\tvalid_0's rmse: 41.3518\n",
      "Training until validation scores don't improve for 100 rounds\n",
      "Did not meet early stopping. Best iteration is:\n",
      "[910]\tvalid_0's rmse: 42.5463\n",
      "Training until validation scores don't improve for 100 rounds\n",
      "Did not meet early stopping. Best iteration is:\n",
      "[956]\tvalid_0's rmse: 40.2447\n",
      "Training until validation scores don't improve for 100 rounds\n"
     ]
    },
    {
     "name": "stderr",
     "output_type": "stream",
     "text": [
      "[I 2025-09-14 11:36:37,965] Trial 232 finished with value: 42.37480773694189 and parameters: {'lambda_l1': 0.00020770682884193025, 'lambda_l2': 9.837747709841345, 'num_leaves': 254, 'feature_fraction': 0.6773164589640079, 'bagging_fraction': 0.5485289907780083, 'bagging_freq': 1, 'min_child_samples': 10, 'learning_rate': 0.01521583676159279, 'max_depth': 10}. Best is trial 223 with value: 42.16477205837596.\n"
     ]
    },
    {
     "name": "stdout",
     "output_type": "stream",
     "text": [
      "Did not meet early stopping. Best iteration is:\n",
      "[994]\tvalid_0's rmse: 44.3936\n",
      "Training until validation scores don't improve for 100 rounds\n",
      "Early stopping, best iteration is:\n",
      "[695]\tvalid_0's rmse: 43.6519\n",
      "Training until validation scores don't improve for 100 rounds\n",
      "Did not meet early stopping. Best iteration is:\n",
      "[1000]\tvalid_0's rmse: 41.7029\n",
      "Training until validation scores don't improve for 100 rounds\n",
      "Early stopping, best iteration is:\n",
      "[718]\tvalid_0's rmse: 43.061\n",
      "Training until validation scores don't improve for 100 rounds\n",
      "Did not meet early stopping. Best iteration is:\n",
      "[982]\tvalid_0's rmse: 40.7809\n",
      "Training until validation scores don't improve for 100 rounds\n",
      "Did not meet early stopping. Best iteration is:\n",
      "[995]\tvalid_0's rmse: 44.2195\n"
     ]
    },
    {
     "name": "stderr",
     "output_type": "stream",
     "text": [
      "[I 2025-09-14 11:37:08,882] Trial 233 finished with value: 42.68321915020174 and parameters: {'lambda_l1': 0.00025936058352058866, 'lambda_l2': 9.91750098371364, 'num_leaves': 254, 'feature_fraction': 0.6865985775325533, 'bagging_fraction': 0.5424765448650893, 'bagging_freq': 1, 'min_child_samples': 9, 'learning_rate': 0.014803347822298661, 'max_depth': 10}. Best is trial 223 with value: 42.16477205837596.\n"
     ]
    },
    {
     "name": "stdout",
     "output_type": "stream",
     "text": [
      "Training until validation scores don't improve for 100 rounds\n",
      "Early stopping, best iteration is:\n",
      "[761]\tvalid_0's rmse: 43.3397\n",
      "Training until validation scores don't improve for 100 rounds\n",
      "Did not meet early stopping. Best iteration is:\n",
      "[999]\tvalid_0's rmse: 41.4762\n",
      "Training until validation scores don't improve for 100 rounds\n",
      "Early stopping, best iteration is:\n",
      "[801]\tvalid_0's rmse: 43.0769\n",
      "Training until validation scores don't improve for 100 rounds\n",
      "Did not meet early stopping. Best iteration is:\n",
      "[982]\tvalid_0's rmse: 40.4132\n",
      "Training until validation scores don't improve for 100 rounds\n"
     ]
    },
    {
     "name": "stderr",
     "output_type": "stream",
     "text": [
      "[I 2025-09-14 11:37:39,900] Trial 234 finished with value: 42.487387985859826 and parameters: {'lambda_l1': 0.0002192247409560253, 'lambda_l2': 6.539355037889259, 'num_leaves': 257, 'feature_fraction': 0.7058624788770107, 'bagging_fraction': 0.5540263796872945, 'bagging_freq': 1, 'min_child_samples': 10, 'learning_rate': 0.015308573582214902, 'max_depth': 10}. Best is trial 223 with value: 42.16477205837596.\n"
     ]
    },
    {
     "name": "stdout",
     "output_type": "stream",
     "text": [
      "Did not meet early stopping. Best iteration is:\n",
      "[975]\tvalid_0's rmse: 44.131\n",
      "Training until validation scores don't improve for 100 rounds\n",
      "Did not meet early stopping. Best iteration is:\n",
      "[974]\tvalid_0's rmse: 43.4309\n",
      "Training until validation scores don't improve for 100 rounds\n",
      "Did not meet early stopping. Best iteration is:\n",
      "[993]\tvalid_0's rmse: 42.2522\n",
      "Training until validation scores don't improve for 100 rounds\n",
      "Did not meet early stopping. Best iteration is:\n",
      "[901]\tvalid_0's rmse: 42.8701\n",
      "Training until validation scores don't improve for 100 rounds\n",
      "Did not meet early stopping. Best iteration is:\n",
      "[1000]\tvalid_0's rmse: 40.9882\n",
      "Training until validation scores don't improve for 100 rounds\n",
      "Did not meet early stopping. Best iteration is:\n",
      "[999]\tvalid_0's rmse: 44.9099\n"
     ]
    },
    {
     "name": "stderr",
     "output_type": "stream",
     "text": [
      "[I 2025-09-14 11:38:21,651] Trial 235 finished with value: 42.89029136394537 and parameters: {'lambda_l1': 0.00011226115304570781, 'lambda_l2': 9.974739037657683, 'num_leaves': 267, 'feature_fraction': 0.6695496807821927, 'bagging_fraction': 0.5383713697525453, 'bagging_freq': 1, 'min_child_samples': 6, 'learning_rate': 0.010135420539052739, 'max_depth': 10}. Best is trial 223 with value: 42.16477205837596.\n"
     ]
    },
    {
     "name": "stdout",
     "output_type": "stream",
     "text": [
      "Training until validation scores don't improve for 100 rounds\n",
      "Did not meet early stopping. Best iteration is:\n",
      "[969]\tvalid_0's rmse: 42.938\n",
      "Training until validation scores don't improve for 100 rounds\n",
      "Did not meet early stopping. Best iteration is:\n",
      "[945]\tvalid_0's rmse: 41.6371\n",
      "Training until validation scores don't improve for 100 rounds\n",
      "Early stopping, best iteration is:\n",
      "[744]\tvalid_0's rmse: 42.7577\n",
      "Training until validation scores don't improve for 100 rounds\n",
      "Did not meet early stopping. Best iteration is:\n",
      "[1000]\tvalid_0's rmse: 39.795\n",
      "Training until validation scores don't improve for 100 rounds\n"
     ]
    },
    {
     "name": "stderr",
     "output_type": "stream",
     "text": [
      "[I 2025-09-14 11:38:49,653] Trial 236 finished with value: 42.26800584586922 and parameters: {'lambda_l1': 0.00013326701736714465, 'lambda_l2': 6.6377232533789305, 'num_leaves': 249, 'feature_fraction': 0.6859355728170474, 'bagging_fraction': 0.5628755025197802, 'bagging_freq': 1, 'min_child_samples': 12, 'learning_rate': 0.01663489645208091, 'max_depth': 10}. Best is trial 223 with value: 42.16477205837596.\n"
     ]
    },
    {
     "name": "stdout",
     "output_type": "stream",
     "text": [
      "Did not meet early stopping. Best iteration is:\n",
      "[994]\tvalid_0's rmse: 44.2122\n",
      "Training until validation scores don't improve for 100 rounds\n",
      "Early stopping, best iteration is:\n",
      "[666]\tvalid_0's rmse: 43.4656\n",
      "Training until validation scores don't improve for 100 rounds\n",
      "Early stopping, best iteration is:\n",
      "[724]\tvalid_0's rmse: 40.9651\n",
      "Training until validation scores don't improve for 100 rounds\n",
      "Early stopping, best iteration is:\n",
      "[707]\tvalid_0's rmse: 42.9122\n",
      "Training until validation scores don't improve for 100 rounds\n",
      "Did not meet early stopping. Best iteration is:\n",
      "[934]\tvalid_0's rmse: 40.471\n",
      "Training until validation scores don't improve for 100 rounds\n"
     ]
    },
    {
     "name": "stderr",
     "output_type": "stream",
     "text": [
      "[I 2025-09-14 11:39:16,241] Trial 237 finished with value: 42.36340918205913 and parameters: {'lambda_l1': 0.00015315494099072202, 'lambda_l2': 6.201089268379667, 'num_leaves': 248, 'feature_fraction': 0.6913750463978429, 'bagging_fraction': 0.5603033677149545, 'bagging_freq': 1, 'min_child_samples': 11, 'learning_rate': 0.018262265933974613, 'max_depth': 10}. Best is trial 223 with value: 42.16477205837596.\n"
     ]
    },
    {
     "name": "stdout",
     "output_type": "stream",
     "text": [
      "Did not meet early stopping. Best iteration is:\n",
      "[966]\tvalid_0's rmse: 44.0033\n",
      "Training until validation scores don't improve for 100 rounds\n",
      "Early stopping, best iteration is:\n",
      "[843]\tvalid_0's rmse: 43.3859\n",
      "Training until validation scores don't improve for 100 rounds\n",
      "Did not meet early stopping. Best iteration is:\n",
      "[915]\tvalid_0's rmse: 41.3639\n",
      "Training until validation scores don't improve for 100 rounds\n",
      "Early stopping, best iteration is:\n",
      "[535]\tvalid_0's rmse: 43.2023\n",
      "Training until validation scores don't improve for 100 rounds\n",
      "Did not meet early stopping. Best iteration is:\n",
      "[983]\tvalid_0's rmse: 41.0628\n",
      "Training until validation scores don't improve for 100 rounds\n",
      "Did not meet early stopping. Best iteration is:\n",
      "[993]\tvalid_0's rmse: 43.8599\n"
     ]
    },
    {
     "name": "stderr",
     "output_type": "stream",
     "text": [
      "[I 2025-09-14 11:39:49,160] Trial 238 finished with value: 42.57493990594318 and parameters: {'lambda_l1': 0.0001551157350780767, 'lambda_l2': 6.601997517786237, 'num_leaves': 245, 'feature_fraction': 0.683049166949612, 'bagging_fraction': 0.5639788517134497, 'bagging_freq': 1, 'min_child_samples': 8, 'learning_rate': 0.01646006600900331, 'max_depth': 10}. Best is trial 223 with value: 42.16477205837596.\n"
     ]
    },
    {
     "name": "stdout",
     "output_type": "stream",
     "text": [
      "Training until validation scores don't improve for 100 rounds\n",
      "Did not meet early stopping. Best iteration is:\n",
      "[982]\tvalid_0's rmse: 43.7006\n",
      "Training until validation scores don't improve for 100 rounds\n",
      "Did not meet early stopping. Best iteration is:\n",
      "[999]\tvalid_0's rmse: 41.0216\n",
      "Training until validation scores don't improve for 100 rounds\n",
      "Early stopping, best iteration is:\n",
      "[654]\tvalid_0's rmse: 43.2934\n",
      "Training until validation scores don't improve for 100 rounds\n",
      "Did not meet early stopping. Best iteration is:\n",
      "[935]\tvalid_0's rmse: 40.0565\n",
      "Training until validation scores don't improve for 100 rounds\n"
     ]
    },
    {
     "name": "stderr",
     "output_type": "stream",
     "text": [
      "[I 2025-09-14 11:40:19,420] Trial 239 finished with value: 42.45579365695385 and parameters: {'lambda_l1': 0.0007830821728696463, 'lambda_l2': 6.004846315392002, 'num_leaves': 248, 'feature_fraction': 0.7031864751503918, 'bagging_fraction': 0.5233995262919393, 'bagging_freq': 1, 'min_child_samples': 10, 'learning_rate': 0.01689270096971836, 'max_depth': 10}. Best is trial 223 with value: 42.16477205837596.\n"
     ]
    },
    {
     "name": "stdout",
     "output_type": "stream",
     "text": [
      "Did not meet early stopping. Best iteration is:\n",
      "[935]\tvalid_0's rmse: 44.2069\n",
      "Training until validation scores don't improve for 100 rounds\n",
      "Early stopping, best iteration is:\n",
      "[675]\tvalid_0's rmse: 43.4146\n",
      "Training until validation scores don't improve for 100 rounds\n",
      "Early stopping, best iteration is:\n",
      "[724]\tvalid_0's rmse: 41.2534\n",
      "Training until validation scores don't improve for 100 rounds\n",
      "Early stopping, best iteration is:\n",
      "[642]\tvalid_0's rmse: 43.0248\n",
      "Training until validation scores don't improve for 100 rounds\n",
      "Did not meet early stopping. Best iteration is:\n",
      "[1000]\tvalid_0's rmse: 40.3384\n",
      "Training until validation scores don't improve for 100 rounds\n"
     ]
    },
    {
     "name": "stderr",
     "output_type": "stream",
     "text": [
      "[I 2025-09-14 11:40:47,026] Trial 240 finished with value: 42.43349025169762 and parameters: {'lambda_l1': 0.00022363421080597688, 'lambda_l2': 9.99048017223914, 'num_leaves': 252, 'feature_fraction': 0.7189265095860427, 'bagging_fraction': 0.5742507195808781, 'bagging_freq': 1, 'min_child_samples': 11, 'learning_rate': 0.01889722357560377, 'max_depth': 10}. Best is trial 223 with value: 42.16477205837596.\n"
     ]
    },
    {
     "name": "stdout",
     "output_type": "stream",
     "text": [
      "Did not meet early stopping. Best iteration is:\n",
      "[994]\tvalid_0's rmse: 44.1364\n",
      "Training until validation scores don't improve for 100 rounds\n",
      "Early stopping, best iteration is:\n",
      "[624]\tvalid_0's rmse: 43.2936\n",
      "Training until validation scores don't improve for 100 rounds\n",
      "Did not meet early stopping. Best iteration is:\n",
      "[983]\tvalid_0's rmse: 41.1205\n",
      "Training until validation scores don't improve for 100 rounds\n",
      "Early stopping, best iteration is:\n",
      "[725]\tvalid_0's rmse: 43.3424\n",
      "Training until validation scores don't improve for 100 rounds\n",
      "Did not meet early stopping. Best iteration is:\n",
      "[1000]\tvalid_0's rmse: 40.0773\n",
      "Training until validation scores don't improve for 100 rounds\n"
     ]
    },
    {
     "name": "stderr",
     "output_type": "stream",
     "text": [
      "[I 2025-09-14 11:41:13,710] Trial 241 finished with value: 42.375722917908845 and parameters: {'lambda_l1': 8.860103244909285e-05, 'lambda_l2': 5.637513607696077, 'num_leaves': 260, 'feature_fraction': 0.6932113870941266, 'bagging_fraction': 0.550423132227565, 'bagging_freq': 1, 'min_child_samples': 12, 'learning_rate': 0.01440309676668851, 'max_depth': 10}. Best is trial 223 with value: 42.16477205837596.\n"
     ]
    },
    {
     "name": "stdout",
     "output_type": "stream",
     "text": [
      "Did not meet early stopping. Best iteration is:\n",
      "[982]\tvalid_0's rmse: 44.0448\n",
      "Training until validation scores don't improve for 100 rounds\n",
      "Did not meet early stopping. Best iteration is:\n",
      "[985]\tvalid_0's rmse: 42.7986\n",
      "Training until validation scores don't improve for 100 rounds\n",
      "Did not meet early stopping. Best iteration is:\n",
      "[999]\tvalid_0's rmse: 41.0773\n",
      "Training until validation scores don't improve for 100 rounds\n",
      "Early stopping, best iteration is:\n",
      "[729]\tvalid_0's rmse: 42.9597\n",
      "Training until validation scores don't improve for 100 rounds\n",
      "Did not meet early stopping. Best iteration is:\n",
      "[972]\tvalid_0's rmse: 40.0218\n",
      "Training until validation scores don't improve for 100 rounds\n"
     ]
    },
    {
     "name": "stderr",
     "output_type": "stream",
     "text": [
      "[I 2025-09-14 11:41:41,044] Trial 242 finished with value: 42.228569167842124 and parameters: {'lambda_l1': 9.686585248829538e-05, 'lambda_l2': 6.466097318110966, 'num_leaves': 257, 'feature_fraction': 0.672221670314613, 'bagging_fraction': 0.5454432863716049, 'bagging_freq': 1, 'min_child_samples': 12, 'learning_rate': 0.016016709080404947, 'max_depth': 10}. Best is trial 223 with value: 42.16477205837596.\n"
     ]
    },
    {
     "name": "stdout",
     "output_type": "stream",
     "text": [
      "Did not meet early stopping. Best iteration is:\n",
      "[985]\tvalid_0's rmse: 44.2854\n",
      "Training until validation scores don't improve for 100 rounds\n",
      "Did not meet early stopping. Best iteration is:\n",
      "[988]\tvalid_0's rmse: 42.9867\n",
      "Training until validation scores don't improve for 100 rounds\n",
      "Did not meet early stopping. Best iteration is:\n",
      "[983]\tvalid_0's rmse: 41.1254\n",
      "Training until validation scores don't improve for 100 rounds\n",
      "Early stopping, best iteration is:\n",
      "[757]\tvalid_0's rmse: 42.8368\n",
      "Training until validation scores don't improve for 100 rounds\n",
      "Did not meet early stopping. Best iteration is:\n",
      "[1000]\tvalid_0's rmse: 39.9009\n",
      "Training until validation scores don't improve for 100 rounds\n"
     ]
    },
    {
     "name": "stderr",
     "output_type": "stream",
     "text": [
      "[I 2025-09-14 11:42:09,044] Trial 243 finished with value: 42.272956721636284 and parameters: {'lambda_l1': 0.0001010294861686663, 'lambda_l2': 6.248810376217641, 'num_leaves': 256, 'feature_fraction': 0.6902791568380278, 'bagging_fraction': 0.5404157828752807, 'bagging_freq': 1, 'min_child_samples': 12, 'learning_rate': 0.014081191607323601, 'max_depth': 10}. Best is trial 223 with value: 42.16477205837596.\n"
     ]
    },
    {
     "name": "stdout",
     "output_type": "stream",
     "text": [
      "Did not meet early stopping. Best iteration is:\n",
      "[985]\tvalid_0's rmse: 44.515\n",
      "Training until validation scores don't improve for 100 rounds\n",
      "Did not meet early stopping. Best iteration is:\n",
      "[1000]\tvalid_0's rmse: 43.3956\n",
      "Training until validation scores don't improve for 100 rounds\n",
      "Did not meet early stopping. Best iteration is:\n",
      "[999]\tvalid_0's rmse: 41.8786\n",
      "Training until validation scores don't improve for 100 rounds\n",
      "Early stopping, best iteration is:\n",
      "[812]\tvalid_0's rmse: 43.0963\n",
      "Training until validation scores don't improve for 100 rounds\n",
      "Did not meet early stopping. Best iteration is:\n",
      "[998]\tvalid_0's rmse: 40.495\n",
      "Training until validation scores don't improve for 100 rounds\n"
     ]
    },
    {
     "name": "stderr",
     "output_type": "stream",
     "text": [
      "[I 2025-09-14 11:42:37,925] Trial 244 finished with value: 42.65023595790319 and parameters: {'lambda_l1': 9.752489555781257e-05, 'lambda_l2': 5.858665755449345, 'num_leaves': 256, 'feature_fraction': 0.6965211525039757, 'bagging_fraction': 0.5411286427063967, 'bagging_freq': 1, 'min_child_samples': 12, 'learning_rate': 0.010371427853651057, 'max_depth': 10}. Best is trial 223 with value: 42.16477205837596.\n"
     ]
    },
    {
     "name": "stdout",
     "output_type": "stream",
     "text": [
      "Did not meet early stopping. Best iteration is:\n",
      "[986]\tvalid_0's rmse: 44.3856\n",
      "Training until validation scores don't improve for 100 rounds\n",
      "Did not meet early stopping. Best iteration is:\n",
      "[908]\tvalid_0's rmse: 43.921\n",
      "Training until validation scores don't improve for 100 rounds\n",
      "Did not meet early stopping. Best iteration is:\n",
      "[945]\tvalid_0's rmse: 41.3764\n",
      "Training until validation scores don't improve for 100 rounds\n",
      "Early stopping, best iteration is:\n",
      "[791]\tvalid_0's rmse: 43.2029\n",
      "Training until validation scores don't improve for 100 rounds\n",
      "Did not meet early stopping. Best iteration is:\n",
      "[983]\tvalid_0's rmse: 40.5823\n",
      "Training until validation scores don't improve for 100 rounds\n",
      "Did not meet early stopping. Best iteration is:\n",
      "[993]\tvalid_0's rmse: 43.9751\n"
     ]
    },
    {
     "name": "stderr",
     "output_type": "stream",
     "text": [
      "[I 2025-09-14 11:43:12,083] Trial 245 finished with value: 42.611550839942325 and parameters: {'lambda_l1': 0.0001394548897300172, 'lambda_l2': 6.25438647569689, 'num_leaves': 248, 'feature_fraction': 0.6868067773631328, 'bagging_fraction': 0.5307099322227002, 'bagging_freq': 1, 'min_child_samples': 8, 'learning_rate': 0.014266420425603731, 'max_depth': 10}. Best is trial 223 with value: 42.16477205837596.\n"
     ]
    },
    {
     "name": "stdout",
     "output_type": "stream",
     "text": [
      "Training until validation scores don't improve for 100 rounds\n",
      "Did not meet early stopping. Best iteration is:\n",
      "[994]\tvalid_0's rmse: 42.675\n",
      "Training until validation scores don't improve for 100 rounds\n",
      "Did not meet early stopping. Best iteration is:\n",
      "[998]\tvalid_0's rmse: 41.6059\n",
      "Training until validation scores don't improve for 100 rounds\n",
      "Early stopping, best iteration is:\n",
      "[795]\tvalid_0's rmse: 42.9436\n",
      "Training until validation scores don't improve for 100 rounds\n",
      "Did not meet early stopping. Best iteration is:\n",
      "[956]\tvalid_0's rmse: 39.9894\n",
      "Training until validation scores don't improve for 100 rounds\n"
     ]
    },
    {
     "name": "stderr",
     "output_type": "stream",
     "text": [
      "[I 2025-09-14 11:43:41,315] Trial 246 finished with value: 42.33139897171453 and parameters: {'lambda_l1': 0.00031383726759437946, 'lambda_l2': 9.902156583659462, 'num_leaves': 260, 'feature_fraction': 0.6749605201086687, 'bagging_fraction': 0.5140635730127148, 'bagging_freq': 1, 'min_child_samples': 11, 'learning_rate': 0.015218538828454644, 'max_depth': 10}. Best is trial 223 with value: 42.16477205837596.\n"
     ]
    },
    {
     "name": "stdout",
     "output_type": "stream",
     "text": [
      "Did not meet early stopping. Best iteration is:\n",
      "[999]\tvalid_0's rmse: 44.443\n",
      "Training until validation scores don't improve for 100 rounds\n",
      "Did not meet early stopping. Best iteration is:\n",
      "[992]\tvalid_0's rmse: 43.5889\n",
      "Training until validation scores don't improve for 100 rounds\n",
      "Did not meet early stopping. Best iteration is:\n",
      "[1000]\tvalid_0's rmse: 41.1721\n",
      "Training until validation scores don't improve for 100 rounds\n",
      "Early stopping, best iteration is:\n",
      "[848]\tvalid_0's rmse: 43.1617\n",
      "Training until validation scores don't improve for 100 rounds\n",
      "Did not meet early stopping. Best iteration is:\n",
      "[982]\tvalid_0's rmse: 41.1637\n",
      "Training until validation scores don't improve for 100 rounds\n"
     ]
    },
    {
     "name": "stderr",
     "output_type": "stream",
     "text": [
      "[I 2025-09-14 11:44:15,599] Trial 247 finished with value: 42.7351798893569 and parameters: {'lambda_l1': 0.0004241574361788416, 'lambda_l2': 9.931982944683883, 'num_leaves': 258, 'feature_fraction': 0.6745761450901762, 'bagging_fraction': 0.4917012376017164, 'bagging_freq': 1, 'min_child_samples': 10, 'learning_rate': 0.014500989713745445, 'max_depth': 10}. Best is trial 223 with value: 42.16477205837596.\n"
     ]
    },
    {
     "name": "stdout",
     "output_type": "stream",
     "text": [
      "Did not meet early stopping. Best iteration is:\n",
      "[994]\tvalid_0's rmse: 44.5896\n",
      "Training until validation scores don't improve for 100 rounds\n",
      "Did not meet early stopping. Best iteration is:\n",
      "[985]\tvalid_0's rmse: 43.202\n",
      "Training until validation scores don't improve for 100 rounds\n",
      "Did not meet early stopping. Best iteration is:\n",
      "[999]\tvalid_0's rmse: 40.9814\n",
      "Training until validation scores don't improve for 100 rounds\n",
      "Early stopping, best iteration is:\n",
      "[868]\tvalid_0's rmse: 42.8227\n",
      "Training until validation scores don't improve for 100 rounds\n",
      "Did not meet early stopping. Best iteration is:\n",
      "[1000]\tvalid_0's rmse: 40.6296\n",
      "Training until validation scores don't improve for 100 rounds\n"
     ]
    },
    {
     "name": "stderr",
     "output_type": "stream",
     "text": [
      "[I 2025-09-14 11:44:45,344] Trial 248 finished with value: 42.41717362549833 and parameters: {'lambda_l1': 0.0002814032413542501, 'lambda_l2': 6.246523983673527, 'num_leaves': 252, 'feature_fraction': 0.6928085071050704, 'bagging_fraction': 0.5141186408530279, 'bagging_freq': 1, 'min_child_samples': 11, 'learning_rate': 0.010344903195973554, 'max_depth': 10}. Best is trial 223 with value: 42.16477205837596.\n"
     ]
    },
    {
     "name": "stdout",
     "output_type": "stream",
     "text": [
      "Did not meet early stopping. Best iteration is:\n",
      "[999]\tvalid_0's rmse: 44.4501\n",
      "Training until validation scores don't improve for 100 rounds\n",
      "Early stopping, best iteration is:\n",
      "[644]\tvalid_0's rmse: 43.1153\n",
      "Training until validation scores don't improve for 100 rounds\n",
      "Did not meet early stopping. Best iteration is:\n",
      "[937]\tvalid_0's rmse: 41.2966\n",
      "Training until validation scores don't improve for 100 rounds\n",
      "Early stopping, best iteration is:\n",
      "[463]\tvalid_0's rmse: 43.6022\n",
      "Training until validation scores don't improve for 100 rounds\n",
      "Early stopping, best iteration is:\n",
      "[790]\tvalid_0's rmse: 40.499\n",
      "Training until validation scores don't improve for 100 rounds\n",
      "Did not meet early stopping. Best iteration is:\n",
      "[979]\tvalid_0's rmse: 44.1681\n"
     ]
    },
    {
     "name": "stderr",
     "output_type": "stream",
     "text": [
      "[I 2025-09-14 11:45:16,770] Trial 249 finished with value: 42.53623434751798 and parameters: {'lambda_l1': 0.00021787676968571567, 'lambda_l2': 4.551418019514171, 'num_leaves': 258, 'feature_fraction': 0.6763821523792473, 'bagging_fraction': 0.5472665379574958, 'bagging_freq': 1, 'min_child_samples': 7, 'learning_rate': 0.018074564365970727, 'max_depth': 10}. Best is trial 223 with value: 42.16477205837596.\n"
     ]
    },
    {
     "name": "stdout",
     "output_type": "stream",
     "text": [
      "Training until validation scores don't improve for 100 rounds\n",
      "Did not meet early stopping. Best iteration is:\n",
      "[968]\tvalid_0's rmse: 42.9642\n",
      "Training until validation scores don't improve for 100 rounds\n",
      "Did not meet early stopping. Best iteration is:\n",
      "[990]\tvalid_0's rmse: 41.9012\n",
      "Training until validation scores don't improve for 100 rounds\n",
      "Early stopping, best iteration is:\n",
      "[652]\tvalid_0's rmse: 42.745\n",
      "Training until validation scores don't improve for 100 rounds\n",
      "Did not meet early stopping. Best iteration is:\n",
      "[998]\tvalid_0's rmse: 39.8983\n",
      "Training until validation scores don't improve for 100 rounds\n"
     ]
    },
    {
     "name": "stderr",
     "output_type": "stream",
     "text": [
      "[I 2025-09-14 11:45:45,642] Trial 250 finished with value: 42.37241784782715 and parameters: {'lambda_l1': 0.00034277091010462, 'lambda_l2': 9.891313795011843, 'num_leaves': 251, 'feature_fraction': 0.7336910114527051, 'bagging_fraction': 0.535184672153996, 'bagging_freq': 1, 'min_child_samples': 12, 'learning_rate': 0.018165860587454865, 'max_depth': 10}. Best is trial 223 with value: 42.16477205837596.\n"
     ]
    },
    {
     "name": "stdout",
     "output_type": "stream",
     "text": [
      "Did not meet early stopping. Best iteration is:\n",
      "[994]\tvalid_0's rmse: 44.3534\n",
      "Training until validation scores don't improve for 100 rounds\n",
      "Early stopping, best iteration is:\n",
      "[632]\tvalid_0's rmse: 43.074\n",
      "Training until validation scores don't improve for 100 rounds\n",
      "Early stopping, best iteration is:\n",
      "[892]\tvalid_0's rmse: 41.3936\n",
      "Training until validation scores don't improve for 100 rounds\n",
      "Early stopping, best iteration is:\n",
      "[470]\tvalid_0's rmse: 43.2879\n",
      "Training until validation scores don't improve for 100 rounds\n",
      "Did not meet early stopping. Best iteration is:\n",
      "[904]\tvalid_0's rmse: 40.3364\n",
      "Training until validation scores don't improve for 100 rounds\n",
      "Did not meet early stopping. Best iteration is:\n",
      "[995]\tvalid_0's rmse: 44.1965\n"
     ]
    },
    {
     "name": "stderr",
     "output_type": "stream",
     "text": [
      "[I 2025-09-14 11:46:14,700] Trial 251 finished with value: 42.457650044272285 and parameters: {'lambda_l1': 0.0006992011844217477, 'lambda_l2': 7.480741076844428, 'num_leaves': 237, 'feature_fraction': 0.6867910092451127, 'bagging_fraction': 0.5277788865287867, 'bagging_freq': 1, 'min_child_samples': 9, 'learning_rate': 0.019435030365725546, 'max_depth': 10}. Best is trial 223 with value: 42.16477205837596.\n"
     ]
    },
    {
     "name": "stdout",
     "output_type": "stream",
     "text": [
      "Training until validation scores don't improve for 100 rounds\n",
      "Early stopping, best iteration is:\n",
      "[679]\tvalid_0's rmse: 43.7064\n",
      "Training until validation scores don't improve for 100 rounds\n",
      "Did not meet early stopping. Best iteration is:\n",
      "[983]\tvalid_0's rmse: 41.2708\n",
      "Training until validation scores don't improve for 100 rounds\n",
      "Early stopping, best iteration is:\n",
      "[651]\tvalid_0's rmse: 43.2328\n",
      "Training until validation scores don't improve for 100 rounds\n",
      "Did not meet early stopping. Best iteration is:\n",
      "[1000]\tvalid_0's rmse: 39.8502\n",
      "Training until validation scores don't improve for 100 rounds\n"
     ]
    },
    {
     "name": "stderr",
     "output_type": "stream",
     "text": [
      "[I 2025-09-14 11:46:41,327] Trial 252 finished with value: 42.45526612180376 and parameters: {'lambda_l1': 8.683528832574158e-05, 'lambda_l2': 9.218203713654598, 'num_leaves': 246, 'feature_fraction': 0.7294358704483432, 'bagging_fraction': 0.5017098662606243, 'bagging_freq': 1, 'min_child_samples': 12, 'learning_rate': 0.02016610449207141, 'max_depth': 10}. Best is trial 223 with value: 42.16477205837596.\n"
     ]
    },
    {
     "name": "stdout",
     "output_type": "stream",
     "text": [
      "Did not meet early stopping. Best iteration is:\n",
      "[989]\tvalid_0's rmse: 44.2161\n",
      "Training until validation scores don't improve for 100 rounds\n",
      "Early stopping, best iteration is:\n",
      "[534]\tvalid_0's rmse: 44.0286\n",
      "Training until validation scores don't improve for 100 rounds\n",
      "Did not meet early stopping. Best iteration is:\n",
      "[999]\tvalid_0's rmse: 41.2296\n",
      "Training until validation scores don't improve for 100 rounds\n",
      "Early stopping, best iteration is:\n",
      "[469]\tvalid_0's rmse: 43.8568\n",
      "Training until validation scores don't improve for 100 rounds\n",
      "Early stopping, best iteration is:\n",
      "[605]\tvalid_0's rmse: 40.9761\n",
      "Training until validation scores don't improve for 100 rounds\n",
      "Did not meet early stopping. Best iteration is:\n",
      "[939]\tvalid_0's rmse: 44.3394\n"
     ]
    },
    {
     "name": "stderr",
     "output_type": "stream",
     "text": [
      "[I 2025-09-14 11:47:15,471] Trial 253 finished with value: 42.88611658361114 and parameters: {'lambda_l1': 0.00014283590381221334, 'lambda_l2': 4.541250280893644, 'num_leaves': 250, 'feature_fraction': 0.7476567236818833, 'bagging_fraction': 0.5353457682307563, 'bagging_freq': 1, 'min_child_samples': 6, 'learning_rate': 0.015330876713808735, 'max_depth': 10}. Best is trial 223 with value: 42.16477205837596.\n"
     ]
    },
    {
     "name": "stdout",
     "output_type": "stream",
     "text": [
      "Training until validation scores don't improve for 100 rounds\n",
      "Did not meet early stopping. Best iteration is:\n",
      "[999]\tvalid_0's rmse: 43.1732\n",
      "Training until validation scores don't improve for 100 rounds\n",
      "Did not meet early stopping. Best iteration is:\n",
      "[1000]\tvalid_0's rmse: 41.6084\n",
      "Training until validation scores don't improve for 100 rounds\n",
      "Did not meet early stopping. Best iteration is:\n",
      "[992]\tvalid_0's rmse: 42.9326\n",
      "Training until validation scores don't improve for 100 rounds\n",
      "Did not meet early stopping. Best iteration is:\n",
      "[1000]\tvalid_0's rmse: 41.1213\n",
      "Training until validation scores don't improve for 100 rounds\n"
     ]
    },
    {
     "name": "stderr",
     "output_type": "stream",
     "text": [
      "[I 2025-09-14 11:47:47,823] Trial 254 finished with value: 42.74215846233921 and parameters: {'lambda_l1': 0.00016825055602229808, 'lambda_l2': 9.895095840607619, 'num_leaves': 240, 'feature_fraction': 0.7061505722963191, 'bagging_fraction': 0.5201280398225553, 'bagging_freq': 1, 'min_child_samples': 10, 'learning_rate': 0.010412007718774655, 'max_depth': 10}. Best is trial 223 with value: 42.16477205837596.\n"
     ]
    },
    {
     "name": "stdout",
     "output_type": "stream",
     "text": [
      "Did not meet early stopping. Best iteration is:\n",
      "[994]\tvalid_0's rmse: 44.8753\n",
      "Training until validation scores don't improve for 100 rounds\n",
      "Early stopping, best iteration is:\n",
      "[640]\tvalid_0's rmse: 43.5556\n",
      "Training until validation scores don't improve for 100 rounds\n",
      "Did not meet early stopping. Best iteration is:\n",
      "[976]\tvalid_0's rmse: 41.5237\n",
      "Training until validation scores don't improve for 100 rounds\n",
      "Early stopping, best iteration is:\n",
      "[654]\tvalid_0's rmse: 43.6666\n",
      "Training until validation scores don't improve for 100 rounds\n",
      "Did not meet early stopping. Best iteration is:\n",
      "[925]\tvalid_0's rmse: 39.7217\n",
      "Training until validation scores don't improve for 100 rounds\n"
     ]
    },
    {
     "name": "stderr",
     "output_type": "stream",
     "text": [
      "[I 2025-09-14 11:48:13,111] Trial 255 finished with value: 42.46823277355208 and parameters: {'lambda_l1': 0.0011574502689251417, 'lambda_l2': 4.295357750816484, 'num_leaves': 255, 'feature_fraction': 0.6718510702523266, 'bagging_fraction': 0.5553258911585041, 'bagging_freq': 1, 'min_child_samples': 12, 'learning_rate': 0.019471899553786746, 'max_depth': 10}. Best is trial 223 with value: 42.16477205837596.\n"
     ]
    },
    {
     "name": "stdout",
     "output_type": "stream",
     "text": [
      "Did not meet early stopping. Best iteration is:\n",
      "[940]\tvalid_0's rmse: 43.8735\n",
      "Training until validation scores don't improve for 100 rounds\n",
      "Early stopping, best iteration is:\n",
      "[644]\tvalid_0's rmse: 43.2456\n",
      "Training until validation scores don't improve for 100 rounds\n",
      "Early stopping, best iteration is:\n",
      "[757]\tvalid_0's rmse: 40.8685\n",
      "Training until validation scores don't improve for 100 rounds\n",
      "Early stopping, best iteration is:\n",
      "[466]\tvalid_0's rmse: 42.9388\n",
      "Training until validation scores don't improve for 100 rounds\n",
      "Early stopping, best iteration is:\n",
      "[673]\tvalid_0's rmse: 40.3351\n",
      "Training until validation scores don't improve for 100 rounds\n"
     ]
    },
    {
     "name": "stderr",
     "output_type": "stream",
     "text": [
      "[I 2025-09-14 11:48:40,695] Trial 256 finished with value: 42.35614064794508 and parameters: {'lambda_l1': 0.00035627234219209875, 'lambda_l2': 6.922217368594787, 'num_leaves': 267, 'feature_fraction': 0.7090834089651595, 'bagging_fraction': 0.5461715286224654, 'bagging_freq': 1, 'min_child_samples': 8, 'learning_rate': 0.02135077987100488, 'max_depth': 10}. Best is trial 223 with value: 42.16477205837596.\n"
     ]
    },
    {
     "name": "stdout",
     "output_type": "stream",
     "text": [
      "Early stopping, best iteration is:\n",
      "[806]\tvalid_0's rmse: 44.3927\n",
      "Training until validation scores don't improve for 100 rounds\n",
      "Early stopping, best iteration is:\n",
      "[569]\tvalid_0's rmse: 43.4698\n",
      "Training until validation scores don't improve for 100 rounds\n",
      "Early stopping, best iteration is:\n",
      "[739]\tvalid_0's rmse: 40.8757\n",
      "Training until validation scores don't improve for 100 rounds\n",
      "Early stopping, best iteration is:\n",
      "[523]\tvalid_0's rmse: 43.1736\n",
      "Training until validation scores don't improve for 100 rounds\n",
      "Early stopping, best iteration is:\n",
      "[605]\tvalid_0's rmse: 40.6336\n",
      "Training until validation scores don't improve for 100 rounds\n",
      "Did not meet early stopping. Best iteration is:\n",
      "[990]\tvalid_0's rmse: 43.9329\n"
     ]
    },
    {
     "name": "stderr",
     "output_type": "stream",
     "text": [
      "[I 2025-09-14 11:49:12,480] Trial 257 finished with value: 42.417124897786 and parameters: {'lambda_l1': 0.000407803662314568, 'lambda_l2': 6.759325551738137, 'num_leaves': 269, 'feature_fraction': 0.7056303942959321, 'bagging_fraction': 0.4745085175025955, 'bagging_freq': 1, 'min_child_samples': 7, 'learning_rate': 0.02243189605430797, 'max_depth': 10}. Best is trial 223 with value: 42.16477205837596.\n"
     ]
    },
    {
     "name": "stdout",
     "output_type": "stream",
     "text": [
      "Training until validation scores don't improve for 100 rounds\n",
      "Did not meet early stopping. Best iteration is:\n",
      "[982]\tvalid_0's rmse: 43.2859\n",
      "Training until validation scores don't improve for 100 rounds\n",
      "Did not meet early stopping. Best iteration is:\n",
      "[993]\tvalid_0's rmse: 41.6144\n",
      "Training until validation scores don't improve for 100 rounds\n",
      "Early stopping, best iteration is:\n",
      "[792]\tvalid_0's rmse: 42.8423\n",
      "Training until validation scores don't improve for 100 rounds\n",
      "Did not meet early stopping. Best iteration is:\n",
      "[982]\tvalid_0's rmse: 40.8706\n",
      "Training until validation scores don't improve for 100 rounds\n",
      "Did not meet early stopping. Best iteration is:\n",
      "[999]\tvalid_0's rmse: 44.1882\n"
     ]
    },
    {
     "name": "stderr",
     "output_type": "stream",
     "text": [
      "[I 2025-09-14 11:49:46,425] Trial 258 finished with value: 42.560267970313944 and parameters: {'lambda_l1': 0.0004627305002035477, 'lambda_l2': 9.841877611432695, 'num_leaves': 260, 'feature_fraction': 0.7299964225425772, 'bagging_fraction': 0.5414071907330483, 'bagging_freq': 1, 'min_child_samples': 9, 'learning_rate': 0.01507682698430954, 'max_depth': 10}. Best is trial 223 with value: 42.16477205837596.\n"
     ]
    },
    {
     "name": "stdout",
     "output_type": "stream",
     "text": [
      "Training until validation scores don't improve for 100 rounds\n",
      "Early stopping, best iteration is:\n",
      "[330]\tvalid_0's rmse: 43.7502\n",
      "Training until validation scores don't improve for 100 rounds\n",
      "Did not meet early stopping. Best iteration is:\n",
      "[945]\tvalid_0's rmse: 41.3649\n",
      "Training until validation scores don't improve for 100 rounds\n",
      "Early stopping, best iteration is:\n",
      "[380]\tvalid_0's rmse: 43.5715\n",
      "Training until validation scores don't improve for 100 rounds\n",
      "Early stopping, best iteration is:\n",
      "[854]\tvalid_0's rmse: 41.0472\n",
      "Training until validation scores don't improve for 100 rounds\n"
     ]
    },
    {
     "name": "stderr",
     "output_type": "stream",
     "text": [
      "[I 2025-09-14 11:50:19,121] Trial 259 finished with value: 42.714426932243164 and parameters: {'lambda_l1': 7.361871794414782e-05, 'lambda_l2': 4.961246895859648, 'num_leaves': 265, 'feature_fraction': 0.7113164476499282, 'bagging_fraction': 0.5119589920563614, 'bagging_freq': 1, 'min_child_samples': 5, 'learning_rate': 0.022767488234468135, 'max_depth': 10}. Best is trial 223 with value: 42.16477205837596.\n"
     ]
    },
    {
     "name": "stdout",
     "output_type": "stream",
     "text": [
      "Early stopping, best iteration is:\n",
      "[818]\tvalid_0's rmse: 43.8383\n",
      "Training until validation scores don't improve for 100 rounds\n",
      "Early stopping, best iteration is:\n",
      "[624]\tvalid_0's rmse: 43.9832\n",
      "Training until validation scores don't improve for 100 rounds\n",
      "Did not meet early stopping. Best iteration is:\n",
      "[905]\tvalid_0's rmse: 40.3932\n",
      "Training until validation scores don't improve for 100 rounds\n",
      "Early stopping, best iteration is:\n",
      "[347]\tvalid_0's rmse: 44.127\n",
      "Training until validation scores don't improve for 100 rounds\n",
      "Early stopping, best iteration is:\n",
      "[704]\tvalid_0's rmse: 40.4313\n",
      "Training until validation scores don't improve for 100 rounds\n"
     ]
    },
    {
     "name": "stderr",
     "output_type": "stream",
     "text": [
      "[I 2025-09-14 11:50:44,118] Trial 260 finished with value: 42.54213784016072 and parameters: {'lambda_l1': 0.0001974628248935807, 'lambda_l2': 0.00014673473798186703, 'num_leaves': 252, 'feature_fraction': 0.6898877221285173, 'bagging_fraction': 0.5475124689037336, 'bagging_freq': 1, 'min_child_samples': 9, 'learning_rate': 0.015010998090789809, 'max_depth': 10}. Best is trial 223 with value: 42.16477205837596.\n"
     ]
    },
    {
     "name": "stdout",
     "output_type": "stream",
     "text": [
      "Did not meet early stopping. Best iteration is:\n",
      "[973]\tvalid_0's rmse: 43.7761\n",
      "Training until validation scores don't improve for 100 rounds\n",
      "Early stopping, best iteration is:\n",
      "[522]\tvalid_0's rmse: 43.743\n",
      "Training until validation scores don't improve for 100 rounds\n",
      "Did not meet early stopping. Best iteration is:\n",
      "[975]\tvalid_0's rmse: 41.3277\n",
      "Training until validation scores don't improve for 100 rounds\n",
      "Early stopping, best iteration is:\n",
      "[559]\tvalid_0's rmse: 43.0798\n",
      "Training until validation scores don't improve for 100 rounds\n",
      "Did not meet early stopping. Best iteration is:\n",
      "[993]\tvalid_0's rmse: 40.4811\n",
      "Training until validation scores don't improve for 100 rounds\n"
     ]
    },
    {
     "name": "stderr",
     "output_type": "stream",
     "text": [
      "[I 2025-09-14 11:51:07,730] Trial 261 finished with value: 42.62528083731692 and parameters: {'lambda_l1': 0.00011757159629671887, 'lambda_l2': 6.796533128303669, 'num_leaves': 269, 'feature_fraction': 0.6592425633515281, 'bagging_fraction': 0.5612928130236928, 'bagging_freq': 1, 'min_child_samples': 11, 'learning_rate': 0.022167831931440417, 'max_depth': 10}. Best is trial 223 with value: 42.16477205837596.\n"
     ]
    },
    {
     "name": "stdout",
     "output_type": "stream",
     "text": [
      "Early stopping, best iteration is:\n",
      "[614]\tvalid_0's rmse: 44.4948\n",
      "Training until validation scores don't improve for 100 rounds\n",
      "Did not meet early stopping. Best iteration is:\n",
      "[994]\tvalid_0's rmse: 43.745\n",
      "Training until validation scores don't improve for 100 rounds\n",
      "Did not meet early stopping. Best iteration is:\n",
      "[946]\tvalid_0's rmse: 41.2449\n",
      "Training until validation scores don't improve for 100 rounds\n",
      "Early stopping, best iteration is:\n",
      "[801]\tvalid_0's rmse: 43.586\n",
      "Training until validation scores don't improve for 100 rounds\n",
      "Did not meet early stopping. Best iteration is:\n",
      "[980]\tvalid_0's rmse: 40.8057\n",
      "Training until validation scores don't improve for 100 rounds\n",
      "Did not meet early stopping. Best iteration is:\n",
      "[994]\tvalid_0's rmse: 44.0106\n"
     ]
    },
    {
     "name": "stderr",
     "output_type": "stream",
     "text": [
      "[I 2025-09-14 11:51:42,427] Trial 262 finished with value: 42.67844826022511 and parameters: {'lambda_l1': 0.0002981992477848244, 'lambda_l2': 4.532119431396378, 'num_leaves': 258, 'feature_fraction': 0.6808243701156839, 'bagging_fraction': 0.5324063936291867, 'bagging_freq': 1, 'min_child_samples': 8, 'learning_rate': 0.010444136625489573, 'max_depth': 10}. Best is trial 223 with value: 42.16477205837596.\n"
     ]
    },
    {
     "name": "stdout",
     "output_type": "stream",
     "text": [
      "Training until validation scores don't improve for 100 rounds\n",
      "Early stopping, best iteration is:\n",
      "[767]\tvalid_0's rmse: 43.0836\n",
      "Training until validation scores don't improve for 100 rounds\n",
      "Did not meet early stopping. Best iteration is:\n",
      "[975]\tvalid_0's rmse: 41.437\n",
      "Training until validation scores don't improve for 100 rounds\n",
      "Early stopping, best iteration is:\n",
      "[654]\tvalid_0's rmse: 42.9798\n",
      "Training until validation scores don't improve for 100 rounds\n",
      "Did not meet early stopping. Best iteration is:\n",
      "[998]\tvalid_0's rmse: 40.0939\n",
      "Training until validation scores don't improve for 100 rounds\n"
     ]
    },
    {
     "name": "stderr",
     "output_type": "stream",
     "text": [
      "[I 2025-09-14 11:52:09,327] Trial 263 finished with value: 42.35701063580164 and parameters: {'lambda_l1': 7.24168419396624e-05, 'lambda_l2': 6.933450665368998, 'num_leaves': 244, 'feature_fraction': 0.6951155064425026, 'bagging_fraction': 0.5523996711994613, 'bagging_freq': 1, 'min_child_samples': 12, 'learning_rate': 0.019324038681847722, 'max_depth': 10}. Best is trial 223 with value: 42.16477205837596.\n"
     ]
    },
    {
     "name": "stdout",
     "output_type": "stream",
     "text": [
      "Did not meet early stopping. Best iteration is:\n",
      "[980]\tvalid_0's rmse: 44.1907\n",
      "Training until validation scores don't improve for 100 rounds\n",
      "Did not meet early stopping. Best iteration is:\n",
      "[982]\tvalid_0's rmse: 43.4028\n",
      "Training until validation scores don't improve for 100 rounds\n",
      "Early stopping, best iteration is:\n",
      "[709]\tvalid_0's rmse: 41.1482\n",
      "Training until validation scores don't improve for 100 rounds\n",
      "Early stopping, best iteration is:\n",
      "[497]\tvalid_0's rmse: 42.9327\n",
      "Training until validation scores don't improve for 100 rounds\n",
      "Did not meet early stopping. Best iteration is:\n",
      "[952]\tvalid_0's rmse: 40.0091\n",
      "Training until validation scores don't improve for 100 rounds\n"
     ]
    },
    {
     "name": "stderr",
     "output_type": "stream",
     "text": [
      "[I 2025-09-14 11:52:33,279] Trial 264 finished with value: 42.30884169496053 and parameters: {'lambda_l1': 6.677794734956204e-05, 'lambda_l2': 4.223562384373265, 'num_leaves': 243, 'feature_fraction': 0.7144898871569255, 'bagging_fraction': 0.5578010550344336, 'bagging_freq': 1, 'min_child_samples': 13, 'learning_rate': 0.022290161993343587, 'max_depth': 10}. Best is trial 223 with value: 42.16477205837596.\n"
     ]
    },
    {
     "name": "stdout",
     "output_type": "stream",
     "text": [
      "Did not meet early stopping. Best iteration is:\n",
      "[994]\tvalid_0's rmse: 44.0514\n",
      "Training until validation scores don't improve for 100 rounds\n",
      "Early stopping, best iteration is:\n",
      "[674]\tvalid_0's rmse: 43.6477\n",
      "Training until validation scores don't improve for 100 rounds\n",
      "Early stopping, best iteration is:\n",
      "[705]\tvalid_0's rmse: 41.0206\n",
      "Training until validation scores don't improve for 100 rounds\n",
      "Early stopping, best iteration is:\n",
      "[329]\tvalid_0's rmse: 43.066\n",
      "Training until validation scores don't improve for 100 rounds\n",
      "Did not meet early stopping. Best iteration is:\n",
      "[950]\tvalid_0's rmse: 40.071\n",
      "Training until validation scores don't improve for 100 rounds\n"
     ]
    },
    {
     "name": "stderr",
     "output_type": "stream",
     "text": [
      "[I 2025-09-14 11:52:55,907] Trial 265 finished with value: 42.37375599415783 and parameters: {'lambda_l1': 6.592573465833642e-05, 'lambda_l2': 3.9539530279015853, 'num_leaves': 243, 'feature_fraction': 0.7413554787149235, 'bagging_fraction': 0.5583896907944257, 'bagging_freq': 1, 'min_child_samples': 13, 'learning_rate': 0.02179015035470739, 'max_depth': 10}. Best is trial 223 with value: 42.16477205837596.\n"
     ]
    },
    {
     "name": "stdout",
     "output_type": "stream",
     "text": [
      "Did not meet early stopping. Best iteration is:\n",
      "[994]\tvalid_0's rmse: 44.0636\n",
      "Training until validation scores don't improve for 100 rounds\n",
      "Did not meet early stopping. Best iteration is:\n",
      "[985]\tvalid_0's rmse: 43.4235\n",
      "Training until validation scores don't improve for 100 rounds\n",
      "Early stopping, best iteration is:\n",
      "[705]\tvalid_0's rmse: 41.5896\n",
      "Training until validation scores don't improve for 100 rounds\n",
      "Early stopping, best iteration is:\n",
      "[349]\tvalid_0's rmse: 43.5743\n",
      "Training until validation scores don't improve for 100 rounds\n",
      "Did not meet early stopping. Best iteration is:\n",
      "[993]\tvalid_0's rmse: 39.8952\n",
      "Training until validation scores don't improve for 100 rounds\n"
     ]
    },
    {
     "name": "stderr",
     "output_type": "stream",
     "text": [
      "[I 2025-09-14 11:53:21,945] Trial 266 finished with value: 42.52560286890713 and parameters: {'lambda_l1': 6.872933745783647e-05, 'lambda_l2': 3.8007678588231224, 'num_leaves': 240, 'feature_fraction': 0.7635304697123989, 'bagging_fraction': 0.5580876327144019, 'bagging_freq': 1, 'min_child_samples': 12, 'learning_rate': 0.022450162472196836, 'max_depth': 10}. Best is trial 223 with value: 42.16477205837596.\n"
     ]
    },
    {
     "name": "stdout",
     "output_type": "stream",
     "text": [
      "Did not meet early stopping. Best iteration is:\n",
      "[918]\tvalid_0's rmse: 44.1455\n",
      "Training until validation scores don't improve for 100 rounds\n",
      "Early stopping, best iteration is:\n",
      "[622]\tvalid_0's rmse: 43.1015\n",
      "Training until validation scores don't improve for 100 rounds\n",
      "Early stopping, best iteration is:\n",
      "[543]\tvalid_0's rmse: 41.6632\n",
      "Training until validation scores don't improve for 100 rounds\n",
      "Early stopping, best iteration is:\n",
      "[378]\tvalid_0's rmse: 43.3184\n",
      "Training until validation scores don't improve for 100 rounds\n",
      "Did not meet early stopping. Best iteration is:\n",
      "[950]\tvalid_0's rmse: 39.7778\n",
      "Training until validation scores don't improve for 100 rounds\n"
     ]
    },
    {
     "name": "stderr",
     "output_type": "stream",
     "text": [
      "[I 2025-09-14 11:53:44,936] Trial 267 finished with value: 42.33402672628733 and parameters: {'lambda_l1': 6.799175659511472e-05, 'lambda_l2': 3.227097668590192, 'num_leaves': 243, 'feature_fraction': 0.7217560078577673, 'bagging_fraction': 0.5509456892941359, 'bagging_freq': 1, 'min_child_samples': 12, 'learning_rate': 0.02294367315046265, 'max_depth': 10}. Best is trial 223 with value: 42.16477205837596.\n"
     ]
    },
    {
     "name": "stdout",
     "output_type": "stream",
     "text": [
      "Did not meet early stopping. Best iteration is:\n",
      "[990]\tvalid_0's rmse: 43.8092\n",
      "Training until validation scores don't improve for 100 rounds\n",
      "Early stopping, best iteration is:\n",
      "[595]\tvalid_0's rmse: 43.8557\n",
      "Training until validation scores don't improve for 100 rounds\n",
      "Did not meet early stopping. Best iteration is:\n",
      "[912]\tvalid_0's rmse: 41.6487\n",
      "Training until validation scores don't improve for 100 rounds\n",
      "Early stopping, best iteration is:\n",
      "[303]\tvalid_0's rmse: 43.5789\n",
      "Training until validation scores don't improve for 100 rounds\n",
      "Did not meet early stopping. Best iteration is:\n",
      "[932]\tvalid_0's rmse: 40.141\n",
      "Training until validation scores don't improve for 100 rounds\n"
     ]
    },
    {
     "name": "stderr",
     "output_type": "stream",
     "text": [
      "[I 2025-09-14 11:54:11,373] Trial 268 finished with value: 42.61742871188589 and parameters: {'lambda_l1': 6.0399614815464546e-05, 'lambda_l2': 3.7783263243709246, 'num_leaves': 243, 'feature_fraction': 0.7359956743249474, 'bagging_fraction': 0.5232104328016745, 'bagging_freq': 1, 'min_child_samples': 10, 'learning_rate': 0.02333981532075323, 'max_depth': 10}. Best is trial 223 with value: 42.16477205837596.\n"
     ]
    },
    {
     "name": "stdout",
     "output_type": "stream",
     "text": [
      "Early stopping, best iteration is:\n",
      "[835]\tvalid_0's rmse: 43.8628\n",
      "Training until validation scores don't improve for 100 rounds\n",
      "Early stopping, best iteration is:\n",
      "[675]\tvalid_0's rmse: 43.5328\n",
      "Training until validation scores don't improve for 100 rounds\n",
      "Early stopping, best iteration is:\n",
      "[711]\tvalid_0's rmse: 41.2895\n",
      "Training until validation scores don't improve for 100 rounds\n",
      "Early stopping, best iteration is:\n",
      "[310]\tvalid_0's rmse: 43.4054\n",
      "Training until validation scores don't improve for 100 rounds\n",
      "Early stopping, best iteration is:\n",
      "[725]\tvalid_0's rmse: 40.239\n",
      "Training until validation scores don't improve for 100 rounds\n"
     ]
    },
    {
     "name": "stderr",
     "output_type": "stream",
     "text": [
      "[I 2025-09-14 11:54:30,413] Trial 269 finished with value: 42.40988358204918 and parameters: {'lambda_l1': 0.00015100960007566038, 'lambda_l2': 0.0007652388796330464, 'num_leaves': 234, 'feature_fraction': 0.7189404931612742, 'bagging_fraction': 0.5615524959051865, 'bagging_freq': 1, 'min_child_samples': 13, 'learning_rate': 0.023664663131640375, 'max_depth': 10}. Best is trial 223 with value: 42.16477205837596.\n"
     ]
    },
    {
     "name": "stdout",
     "output_type": "stream",
     "text": [
      "Early stopping, best iteration is:\n",
      "[779]\tvalid_0's rmse: 43.5827\n",
      "Training until validation scores don't improve for 100 rounds\n",
      "Early stopping, best iteration is:\n",
      "[610]\tvalid_0's rmse: 43.7314\n",
      "Training until validation scores don't improve for 100 rounds\n",
      "Early stopping, best iteration is:\n",
      "[782]\tvalid_0's rmse: 41.1249\n",
      "Training until validation scores don't improve for 100 rounds\n",
      "Early stopping, best iteration is:\n",
      "[299]\tvalid_0's rmse: 43.937\n",
      "Training until validation scores don't improve for 100 rounds\n",
      "Early stopping, best iteration is:\n",
      "[758]\tvalid_0's rmse: 41.3137\n",
      "Training until validation scores don't improve for 100 rounds\n"
     ]
    },
    {
     "name": "stderr",
     "output_type": "stream",
     "text": [
      "[I 2025-09-14 11:54:59,770] Trial 270 finished with value: 42.89012644111872 and parameters: {'lambda_l1': 6.591871925858317e-05, 'lambda_l2': 3.4968315731724813, 'num_leaves': 245, 'feature_fraction': 0.7384495228103246, 'bagging_fraction': 0.5371270160681928, 'bagging_freq': 1, 'min_child_samples': 7, 'learning_rate': 0.02061663115166898, 'max_depth': 10}. Best is trial 223 with value: 42.16477205837596.\n"
     ]
    },
    {
     "name": "stdout",
     "output_type": "stream",
     "text": [
      "Early stopping, best iteration is:\n",
      "[799]\tvalid_0's rmse: 44.3437\n",
      "Training until validation scores don't improve for 100 rounds\n",
      "Early stopping, best iteration is:\n",
      "[582]\tvalid_0's rmse: 43.2969\n",
      "Training until validation scores don't improve for 100 rounds\n",
      "Early stopping, best iteration is:\n",
      "[607]\tvalid_0's rmse: 40.8535\n",
      "Training until validation scores don't improve for 100 rounds\n",
      "Early stopping, best iteration is:\n",
      "[337]\tvalid_0's rmse: 42.9657\n",
      "Training until validation scores don't improve for 100 rounds\n",
      "Did not meet early stopping. Best iteration is:\n",
      "[1000]\tvalid_0's rmse: 40.1118\n",
      "Training until validation scores don't improve for 100 rounds\n"
     ]
    },
    {
     "name": "stderr",
     "output_type": "stream",
     "text": [
      "[I 2025-09-14 11:55:21,521] Trial 271 finished with value: 42.351199964293336 and parameters: {'lambda_l1': 0.0008352433845919119, 'lambda_l2': 4.878196595454388, 'num_leaves': 248, 'feature_fraction': 0.7201144558575183, 'bagging_fraction': 0.5483452686071523, 'bagging_freq': 1, 'min_child_samples': 11, 'learning_rate': 0.02662687095602706, 'max_depth': 10}. Best is trial 223 with value: 42.16477205837596.\n"
     ]
    },
    {
     "name": "stdout",
     "output_type": "stream",
     "text": [
      "Early stopping, best iteration is:\n",
      "[601]\tvalid_0's rmse: 44.5282\n",
      "Training until validation scores don't improve for 100 rounds\n",
      "Early stopping, best iteration is:\n",
      "[412]\tvalid_0's rmse: 43.2035\n",
      "Training until validation scores don't improve for 100 rounds\n",
      "Early stopping, best iteration is:\n",
      "[640]\tvalid_0's rmse: 41.9043\n",
      "Training until validation scores don't improve for 100 rounds\n",
      "Early stopping, best iteration is:\n",
      "[411]\tvalid_0's rmse: 43.4033\n",
      "Training until validation scores don't improve for 100 rounds\n",
      "Early stopping, best iteration is:\n",
      "[853]\tvalid_0's rmse: 39.8291\n",
      "Training until validation scores don't improve for 100 rounds\n"
     ]
    },
    {
     "name": "stderr",
     "output_type": "stream",
     "text": [
      "[I 2025-09-14 11:55:40,959] Trial 272 finished with value: 42.44243740983846 and parameters: {'lambda_l1': 0.0009373403000238961, 'lambda_l2': 2.781929028054688, 'num_leaves': 238, 'feature_fraction': 0.7211479119148753, 'bagging_fraction': 0.5627623993675743, 'bagging_freq': 1, 'min_child_samples': 14, 'learning_rate': 0.028444532349477213, 'max_depth': 10}. Best is trial 223 with value: 42.16477205837596.\n"
     ]
    },
    {
     "name": "stdout",
     "output_type": "stream",
     "text": [
      "Did not meet early stopping. Best iteration is:\n",
      "[973]\tvalid_0's rmse: 43.8719\n",
      "Training until validation scores don't improve for 100 rounds\n",
      "Early stopping, best iteration is:\n",
      "[463]\tvalid_0's rmse: 43.1844\n",
      "Training until validation scores don't improve for 100 rounds\n",
      "Early stopping, best iteration is:\n",
      "[510]\tvalid_0's rmse: 41.6097\n",
      "Training until validation scores don't improve for 100 rounds\n",
      "Early stopping, best iteration is:\n",
      "[282]\tvalid_0's rmse: 43.4229\n",
      "Training until validation scores don't improve for 100 rounds\n",
      "Did not meet early stopping. Best iteration is:\n",
      "[925]\tvalid_0's rmse: 39.9869\n",
      "Training until validation scores don't improve for 100 rounds\n"
     ]
    },
    {
     "name": "stderr",
     "output_type": "stream",
     "text": [
      "[I 2025-09-14 11:56:00,461] Trial 273 finished with value: 42.49250853623323 and parameters: {'lambda_l1': 0.00039641652125680624, 'lambda_l2': 4.443346910386371, 'num_leaves': 247, 'feature_fraction': 0.7570664190615116, 'bagging_fraction': 0.5324648136383805, 'bagging_freq': 1, 'min_child_samples': 12, 'learning_rate': 0.02622409265624113, 'max_depth': 10}. Best is trial 223 with value: 42.16477205837596.\n"
     ]
    },
    {
     "name": "stdout",
     "output_type": "stream",
     "text": [
      "Early stopping, best iteration is:\n",
      "[524]\tvalid_0's rmse: 44.2587\n",
      "Training until validation scores don't improve for 100 rounds\n",
      "Early stopping, best iteration is:\n",
      "[187]\tvalid_0's rmse: 44.1079\n",
      "Training until validation scores don't improve for 100 rounds\n",
      "Early stopping, best iteration is:\n",
      "[163]\tvalid_0's rmse: 41.9602\n",
      "Training until validation scores don't improve for 100 rounds\n",
      "Early stopping, best iteration is:\n",
      "[95]\tvalid_0's rmse: 44.7437\n",
      "Training until validation scores don't improve for 100 rounds\n",
      "Early stopping, best iteration is:\n",
      "[461]\tvalid_0's rmse: 41.0502\n",
      "Training until validation scores don't improve for 100 rounds\n"
     ]
    },
    {
     "name": "stderr",
     "output_type": "stream",
     "text": [
      "[I 2025-09-14 11:56:12,722] Trial 274 finished with value: 43.2204714014855 and parameters: {'lambda_l1': 0.0007212185512511563, 'lambda_l2': 4.504126393345683, 'num_leaves': 242, 'feature_fraction': 0.7287271658272028, 'bagging_fraction': 0.5553887599376534, 'bagging_freq': 1, 'min_child_samples': 8, 'learning_rate': 0.08814019442269741, 'max_depth': 10}. Best is trial 223 with value: 42.16477205837596.\n"
     ]
    },
    {
     "name": "stdout",
     "output_type": "stream",
     "text": [
      "Early stopping, best iteration is:\n",
      "[279]\tvalid_0's rmse: 44.2404\n",
      "Training until validation scores don't improve for 100 rounds\n",
      "Early stopping, best iteration is:\n",
      "[517]\tvalid_0's rmse: 44.4548\n",
      "Training until validation scores don't improve for 100 rounds\n",
      "Early stopping, best iteration is:\n",
      "[739]\tvalid_0's rmse: 41.2571\n",
      "Training until validation scores don't improve for 100 rounds\n",
      "Early stopping, best iteration is:\n",
      "[490]\tvalid_0's rmse: 43.141\n",
      "Training until validation scores don't improve for 100 rounds\n",
      "Did not meet early stopping. Best iteration is:\n",
      "[949]\tvalid_0's rmse: 39.8187\n",
      "Training until validation scores don't improve for 100 rounds\n"
     ]
    },
    {
     "name": "stderr",
     "output_type": "stream",
     "text": [
      "[I 2025-09-14 11:56:34,659] Trial 275 finished with value: 42.520688090275186 and parameters: {'lambda_l1': 9.237109840172255e-05, 'lambda_l2': 2.9975565118462146, 'num_leaves': 249, 'feature_fraction': 0.7449236285578613, 'bagging_fraction': 0.5175819913470471, 'bagging_freq': 1, 'min_child_samples': 13, 'learning_rate': 0.020844705311954318, 'max_depth': 10}. Best is trial 223 with value: 42.16477205837596.\n"
     ]
    },
    {
     "name": "stdout",
     "output_type": "stream",
     "text": [
      "Did not meet early stopping. Best iteration is:\n",
      "[963]\tvalid_0's rmse: 43.9319\n",
      "Training until validation scores don't improve for 100 rounds\n",
      "Early stopping, best iteration is:\n",
      "[582]\tvalid_0's rmse: 43.3391\n",
      "Training until validation scores don't improve for 100 rounds\n",
      "Early stopping, best iteration is:\n",
      "[480]\tvalid_0's rmse: 41.7798\n",
      "Training until validation scores don't improve for 100 rounds\n",
      "Early stopping, best iteration is:\n",
      "[339]\tvalid_0's rmse: 43.104\n",
      "Training until validation scores don't improve for 100 rounds\n",
      "Did not meet early stopping. Best iteration is:\n",
      "[904]\tvalid_0's rmse: 40.1412\n",
      "Training until validation scores don't improve for 100 rounds\n"
     ]
    },
    {
     "name": "stderr",
     "output_type": "stream",
     "text": [
      "[I 2025-09-14 11:56:56,394] Trial 276 finished with value: 42.51713117219251 and parameters: {'lambda_l1': 0.0005666053370233411, 'lambda_l2': 6.3571848234771595, 'num_leaves': 235, 'feature_fraction': 0.6998124762131647, 'bagging_fraction': 0.5419438958858175, 'bagging_freq': 1, 'min_child_samples': 11, 'learning_rate': 0.027833067758550427, 'max_depth': 10}. Best is trial 223 with value: 42.16477205837596.\n"
     ]
    },
    {
     "name": "stdout",
     "output_type": "stream",
     "text": [
      "Early stopping, best iteration is:\n",
      "[835]\tvalid_0's rmse: 44.2216\n",
      "Training until validation scores don't improve for 100 rounds\n",
      "Early stopping, best iteration is:\n",
      "[651]\tvalid_0's rmse: 43.5025\n",
      "Training until validation scores don't improve for 100 rounds\n",
      "Early stopping, best iteration is:\n",
      "[849]\tvalid_0's rmse: 41.3629\n",
      "Training until validation scores don't improve for 100 rounds\n",
      "Early stopping, best iteration is:\n",
      "[661]\tvalid_0's rmse: 43.1132\n",
      "Training until validation scores don't improve for 100 rounds\n",
      "Did not meet early stopping. Best iteration is:\n",
      "[1000]\tvalid_0's rmse: 40.0101\n",
      "Training until validation scores don't improve for 100 rounds\n"
     ]
    },
    {
     "name": "stderr",
     "output_type": "stream",
     "text": [
      "[I 2025-09-14 11:57:20,046] Trial 277 finished with value: 42.46287151672185 and parameters: {'lambda_l1': 0.00029323811696434785, 'lambda_l2': 6.468260388545453, 'num_leaves': 105, 'feature_fraction': 0.7120883765533577, 'bagging_fraction': 0.5653064858911193, 'bagging_freq': 1, 'min_child_samples': 14, 'learning_rate': 0.020467247342824263, 'max_depth': 10}. Best is trial 223 with value: 42.16477205837596.\n"
     ]
    },
    {
     "name": "stdout",
     "output_type": "stream",
     "text": [
      "Did not meet early stopping. Best iteration is:\n",
      "[986]\tvalid_0's rmse: 44.3257\n",
      "Training until validation scores don't improve for 100 rounds\n",
      "Did not meet early stopping. Best iteration is:\n",
      "[968]\tvalid_0's rmse: 43.6474\n",
      "Training until validation scores don't improve for 100 rounds\n",
      "Did not meet early stopping. Best iteration is:\n",
      "[999]\tvalid_0's rmse: 41.1006\n",
      "Training until validation scores don't improve for 100 rounds\n",
      "Early stopping, best iteration is:\n",
      "[875]\tvalid_0's rmse: 43.0914\n",
      "Training until validation scores don't improve for 100 rounds\n",
      "Did not meet early stopping. Best iteration is:\n",
      "[1000]\tvalid_0's rmse: 40.8531\n",
      "Training until validation scores don't improve for 100 rounds\n",
      "Did not meet early stopping. Best iteration is:\n",
      "[997]\tvalid_0's rmse: 44.0296\n"
     ]
    },
    {
     "name": "stderr",
     "output_type": "stream",
     "text": [
      "[I 2025-09-14 11:57:54,778] Trial 278 finished with value: 42.54441962965968 and parameters: {'lambda_l1': 0.0017843692359296264, 'lambda_l2': 4.030644565461071, 'num_leaves': 250, 'feature_fraction': 0.7239978175371071, 'bagging_fraction': 0.5521132172703123, 'bagging_freq': 1, 'min_child_samples': 9, 'learning_rate': 0.010351667992368106, 'max_depth': 10}. Best is trial 223 with value: 42.16477205837596.\n"
     ]
    },
    {
     "name": "stdout",
     "output_type": "stream",
     "text": [
      "Training until validation scores don't improve for 100 rounds\n",
      "Early stopping, best iteration is:\n",
      "[16]\tvalid_0's rmse: 46.4446\n",
      "Training until validation scores don't improve for 100 rounds\n",
      "Early stopping, best iteration is:\n",
      "[13]\tvalid_0's rmse: 46.5943\n",
      "Training until validation scores don't improve for 100 rounds\n",
      "Early stopping, best iteration is:\n",
      "[19]\tvalid_0's rmse: 46.7707\n",
      "Training until validation scores don't improve for 100 rounds\n",
      "Early stopping, best iteration is:\n",
      "[58]\tvalid_0's rmse: 43.8421\n",
      "Training until validation scores don't improve for 100 rounds\n"
     ]
    },
    {
     "name": "stderr",
     "output_type": "stream",
     "text": [
      "[I 2025-09-14 11:57:58,741] Trial 279 finished with value: 46.187639968019035 and parameters: {'lambda_l1': 5.293319554301953e-05, 'lambda_l2': 2.169668860855458e-07, 'num_leaves': 243, 'feature_fraction': 0.7149024334186476, 'bagging_fraction': 0.5692723394790032, 'bagging_freq': 1, 'min_child_samples': 11, 'learning_rate': 0.28638180797981083, 'max_depth': 10}. Best is trial 223 with value: 42.16477205837596.\n"
     ]
    },
    {
     "name": "stdout",
     "output_type": "stream",
     "text": [
      "Early stopping, best iteration is:\n",
      "[15]\tvalid_0's rmse: 47.2865\n",
      "Training until validation scores don't improve for 100 rounds\n",
      "Early stopping, best iteration is:\n",
      "[322]\tvalid_0's rmse: 43.5767\n",
      "Training until validation scores don't improve for 100 rounds\n",
      "Early stopping, best iteration is:\n",
      "[417]\tvalid_0's rmse: 40.7231\n",
      "Training until validation scores don't improve for 100 rounds\n",
      "Early stopping, best iteration is:\n",
      "[145]\tvalid_0's rmse: 43.869\n",
      "Training until validation scores don't improve for 100 rounds\n",
      "Early stopping, best iteration is:\n",
      "[405]\tvalid_0's rmse: 41.2395\n",
      "Training until validation scores don't improve for 100 rounds\n"
     ]
    },
    {
     "name": "stderr",
     "output_type": "stream",
     "text": [
      "[I 2025-09-14 11:58:18,899] Trial 280 finished with value: 42.82267568469969 and parameters: {'lambda_l1': 0.00012162239122953904, 'lambda_l2': 2.7539512500479533, 'num_leaves': 250, 'feature_fraction': 0.7735712580334079, 'bagging_fraction': 0.5300279301475679, 'bagging_freq': 1, 'min_child_samples': 5, 'learning_rate': 0.031243519205536176, 'max_depth': 10}. Best is trial 223 with value: 42.16477205837596.\n"
     ]
    },
    {
     "name": "stdout",
     "output_type": "stream",
     "text": [
      "Early stopping, best iteration is:\n",
      "[319]\tvalid_0's rmse: 44.7051\n",
      "Training until validation scores don't improve for 100 rounds\n",
      "Early stopping, best iteration is:\n",
      "[180]\tvalid_0's rmse: 44.8647\n",
      "Training until validation scores don't improve for 100 rounds\n",
      "Early stopping, best iteration is:\n",
      "[364]\tvalid_0's rmse: 42.9981\n",
      "Training until validation scores don't improve for 100 rounds\n",
      "Early stopping, best iteration is:\n",
      "[249]\tvalid_0's rmse: 44.4227\n",
      "Training until validation scores don't improve for 100 rounds\n",
      "Early stopping, best iteration is:\n",
      "[322]\tvalid_0's rmse: 42.2955\n",
      "Training until validation scores don't improve for 100 rounds\n"
     ]
    },
    {
     "name": "stderr",
     "output_type": "stream",
     "text": [
      "[I 2025-09-14 11:58:25,522] Trial 281 finished with value: 44.400677802898926 and parameters: {'lambda_l1': 4.5950860675281416e-05, 'lambda_l2': 6.621973986620193, 'num_leaves': 243, 'feature_fraction': 0.7016339385572886, 'bagging_fraction': 0.5443459969422768, 'bagging_freq': 1, 'min_child_samples': 35, 'learning_rate': 0.11515168010375423, 'max_depth': 10}. Best is trial 223 with value: 42.16477205837596.\n"
     ]
    },
    {
     "name": "stdout",
     "output_type": "stream",
     "text": [
      "Early stopping, best iteration is:\n",
      "[252]\tvalid_0's rmse: 47.4224\n",
      "Training until validation scores don't improve for 100 rounds\n",
      "Early stopping, best iteration is:\n",
      "[685]\tvalid_0's rmse: 43.3648\n",
      "Training until validation scores don't improve for 100 rounds\n",
      "Early stopping, best iteration is:\n",
      "[711]\tvalid_0's rmse: 40.8897\n",
      "Training until validation scores don't improve for 100 rounds\n",
      "Early stopping, best iteration is:\n",
      "[329]\tvalid_0's rmse: 42.9911\n",
      "Training until validation scores don't improve for 100 rounds\n",
      "Did not meet early stopping. Best iteration is:\n",
      "[952]\tvalid_0's rmse: 39.7803\n",
      "Training until validation scores don't improve for 100 rounds\n"
     ]
    },
    {
     "name": "stderr",
     "output_type": "stream",
     "text": [
      "[I 2025-09-14 11:58:48,209] Trial 282 finished with value: 42.22152959878334 and parameters: {'lambda_l1': 8.209272605709175e-05, 'lambda_l2': 4.815689093304881, 'num_leaves': 254, 'feature_fraction': 0.7456486302417467, 'bagging_fraction': 0.5586350165761313, 'bagging_freq': 1, 'min_child_samples': 13, 'learning_rate': 0.02314144142632467, 'max_depth': 10}. Best is trial 223 with value: 42.16477205837596.\n"
     ]
    },
    {
     "name": "stdout",
     "output_type": "stream",
     "text": [
      "Did not meet early stopping. Best iteration is:\n",
      "[994]\tvalid_0's rmse: 44.0817\n",
      "Training until validation scores don't improve for 100 rounds\n",
      "Early stopping, best iteration is:\n",
      "[625]\tvalid_0's rmse: 43.5861\n",
      "Training until validation scores don't improve for 100 rounds\n",
      "Early stopping, best iteration is:\n",
      "[721]\tvalid_0's rmse: 41.7711\n",
      "Training until validation scores don't improve for 100 rounds\n",
      "Early stopping, best iteration is:\n",
      "[470]\tvalid_0's rmse: 43.1471\n",
      "Training until validation scores don't improve for 100 rounds\n",
      "Did not meet early stopping. Best iteration is:\n",
      "[991]\tvalid_0's rmse: 40.1038\n",
      "Training until validation scores don't improve for 100 rounds\n"
     ]
    },
    {
     "name": "stderr",
     "output_type": "stream",
     "text": [
      "[I 2025-09-14 11:59:10,636] Trial 283 finished with value: 42.595251770771924 and parameters: {'lambda_l1': 0.0001664879931336117, 'lambda_l2': 6.491053366640135, 'num_leaves': 256, 'feature_fraction': 0.7106452230801852, 'bagging_fraction': 0.4260660945294189, 'bagging_freq': 1, 'min_child_samples': 15, 'learning_rate': 0.026087215140788423, 'max_depth': 10}. Best is trial 223 with value: 42.16477205837596.\n"
     ]
    },
    {
     "name": "stdout",
     "output_type": "stream",
     "text": [
      "Did not meet early stopping. Best iteration is:\n",
      "[995]\tvalid_0's rmse: 44.3682\n",
      "Training until validation scores don't improve for 100 rounds\n",
      "Did not meet early stopping. Best iteration is:\n",
      "[1000]\tvalid_0's rmse: 45.5645\n",
      "Training until validation scores don't improve for 100 rounds\n",
      "Did not meet early stopping. Best iteration is:\n",
      "[1000]\tvalid_0's rmse: 44.6545\n",
      "Training until validation scores don't improve for 100 rounds\n",
      "Did not meet early stopping. Best iteration is:\n",
      "[917]\tvalid_0's rmse: 44.7986\n",
      "Training until validation scores don't improve for 100 rounds\n",
      "Did not meet early stopping. Best iteration is:\n",
      "[1000]\tvalid_0's rmse: 43.7419\n",
      "Training until validation scores don't improve for 100 rounds\n"
     ]
    },
    {
     "name": "stderr",
     "output_type": "stream",
     "text": [
      "[I 2025-09-14 11:59:19,227] Trial 284 finished with value: 45.349970090029494 and parameters: {'lambda_l1': 0.0005006958867790692, 'lambda_l2': 4.85231549226066, 'num_leaves': 261, 'feature_fraction': 0.6954919087199152, 'bagging_fraction': 0.5693603522287553, 'bagging_freq': 1, 'min_child_samples': 99, 'learning_rate': 0.016779810291067433, 'max_depth': 10}. Best is trial 223 with value: 42.16477205837596.\n"
     ]
    },
    {
     "name": "stdout",
     "output_type": "stream",
     "text": [
      "Did not meet early stopping. Best iteration is:\n",
      "[1000]\tvalid_0's rmse: 47.9903\n",
      "Training until validation scores don't improve for 100 rounds\n",
      "Did not meet early stopping. Best iteration is:\n",
      "[997]\tvalid_0's rmse: 44.0189\n",
      "Training until validation scores don't improve for 100 rounds\n",
      "Did not meet early stopping. Best iteration is:\n",
      "[972]\tvalid_0's rmse: 42.5777\n",
      "Training until validation scores don't improve for 100 rounds\n",
      "Did not meet early stopping. Best iteration is:\n",
      "[918]\tvalid_0's rmse: 43.7021\n",
      "Training until validation scores don't improve for 100 rounds\n",
      "Did not meet early stopping. Best iteration is:\n",
      "[1000]\tvalid_0's rmse: 42.7029\n",
      "Training until validation scores don't improve for 100 rounds\n"
     ]
    },
    {
     "name": "stderr",
     "output_type": "stream",
     "text": [
      "[I 2025-09-14 11:59:29,576] Trial 285 finished with value: 43.88741555945737 and parameters: {'lambda_l1': 9.368650437324244e-05, 'lambda_l2': 6.754533376618408, 'num_leaves': 251, 'feature_fraction': 0.6572721834168703, 'bagging_fraction': 0.5467034170148966, 'bagging_freq': 1, 'min_child_samples': 71, 'learning_rate': 0.03183491142549394, 'max_depth': 10}. Best is trial 223 with value: 42.16477205837596.\n"
     ]
    },
    {
     "name": "stdout",
     "output_type": "stream",
     "text": [
      "Early stopping, best iteration is:\n",
      "[831]\tvalid_0's rmse: 46.4355\n",
      "Training until validation scores don't improve for 100 rounds\n",
      "Early stopping, best iteration is:\n",
      "[326]\tvalid_0's rmse: 43.3662\n",
      "Training until validation scores don't improve for 100 rounds\n",
      "Early stopping, best iteration is:\n",
      "[774]\tvalid_0's rmse: 41.6367\n",
      "Training until validation scores don't improve for 100 rounds\n",
      "Early stopping, best iteration is:\n",
      "[348]\tvalid_0's rmse: 43.3526\n",
      "Training until validation scores don't improve for 100 rounds\n",
      "Early stopping, best iteration is:\n",
      "[605]\tvalid_0's rmse: 40.394\n",
      "Training until validation scores don't improve for 100 rounds\n"
     ]
    },
    {
     "name": "stderr",
     "output_type": "stream",
     "text": [
      "[I 2025-09-14 11:59:51,158] Trial 286 finished with value: 42.451935753866216 and parameters: {'lambda_l1': 0.0003134575519980163, 'lambda_l2': 3.337346557498084e-08, 'num_leaves': 255, 'feature_fraction': 0.6880872197051126, 'bagging_fraction': 0.49983734021733134, 'bagging_freq': 1, 'min_child_samples': 11, 'learning_rate': 0.01825024699084203, 'max_depth': 10}. Best is trial 223 with value: 42.16477205837596.\n"
     ]
    },
    {
     "name": "stdout",
     "output_type": "stream",
     "text": [
      "Did not meet early stopping. Best iteration is:\n",
      "[990]\tvalid_0's rmse: 43.5101\n",
      "Training until validation scores don't improve for 100 rounds\n",
      "Early stopping, best iteration is:\n",
      "[588]\tvalid_0's rmse: 43.5668\n",
      "Training until validation scores don't improve for 100 rounds\n",
      "Did not meet early stopping. Best iteration is:\n",
      "[1000]\tvalid_0's rmse: 41.3398\n",
      "Training until validation scores don't improve for 100 rounds\n",
      "Early stopping, best iteration is:\n",
      "[437]\tvalid_0's rmse: 43.605\n",
      "Training until validation scores don't improve for 100 rounds\n",
      "Early stopping, best iteration is:\n",
      "[753]\tvalid_0's rmse: 40.8068\n",
      "Training until validation scores don't improve for 100 rounds\n",
      "Did not meet early stopping. Best iteration is:\n",
      "[993]\tvalid_0's rmse: 44.0989\n"
     ]
    },
    {
     "name": "stderr",
     "output_type": "stream",
     "text": [
      "[I 2025-09-14 12:00:24,605] Trial 287 finished with value: 42.68345834559642 and parameters: {'lambda_l1': 0.00017908584852706502, 'lambda_l2': 9.819977149688008, 'num_leaves': 268, 'feature_fraction': 0.7350402543185761, 'bagging_fraction': 0.5770465328070435, 'bagging_freq': 1, 'min_child_samples': 7, 'learning_rate': 0.023752583560131317, 'max_depth': 10}. Best is trial 223 with value: 42.16477205837596.\n"
     ]
    },
    {
     "name": "stdout",
     "output_type": "stream",
     "text": [
      "Training until validation scores don't improve for 100 rounds\n",
      "Did not meet early stopping. Best iteration is:\n",
      "[985]\tvalid_0's rmse: 43.8033\n",
      "Training until validation scores don't improve for 100 rounds\n",
      "Did not meet early stopping. Best iteration is:\n",
      "[989]\tvalid_0's rmse: 40.7047\n",
      "Training until validation scores don't improve for 100 rounds\n",
      "Early stopping, best iteration is:\n",
      "[758]\tvalid_0's rmse: 43.3668\n",
      "Training until validation scores don't improve for 100 rounds\n",
      "Did not meet early stopping. Best iteration is:\n",
      "[1000]\tvalid_0's rmse: 40.7233\n",
      "Training until validation scores don't improve for 100 rounds\n",
      "Did not meet early stopping. Best iteration is:\n",
      "[995]\tvalid_0's rmse: 43.8214\n"
     ]
    },
    {
     "name": "stderr",
     "output_type": "stream",
     "text": [
      "[I 2025-09-14 12:00:57,529] Trial 288 finished with value: 42.48388506708488 and parameters: {'lambda_l1': 0.00011772604483186171, 'lambda_l2': 2.367100690420168, 'num_leaves': 273, 'feature_fraction': 0.722039086106113, 'bagging_fraction': 0.5161575510600291, 'bagging_freq': 1, 'min_child_samples': 9, 'learning_rate': 0.010186086762203141, 'max_depth': 10}. Best is trial 223 with value: 42.16477205837596.\n"
     ]
    },
    {
     "name": "stdout",
     "output_type": "stream",
     "text": [
      "Training until validation scores don't improve for 100 rounds\n",
      "Did not meet early stopping. Best iteration is:\n",
      "[993]\tvalid_0's rmse: 43.6283\n",
      "Training until validation scores don't improve for 100 rounds\n",
      "Did not meet early stopping. Best iteration is:\n",
      "[999]\tvalid_0's rmse: 42.2724\n",
      "Training until validation scores don't improve for 100 rounds\n",
      "Did not meet early stopping. Best iteration is:\n",
      "[1000]\tvalid_0's rmse: 43.256\n",
      "Training until validation scores don't improve for 100 rounds\n",
      "Did not meet early stopping. Best iteration is:\n",
      "[991]\tvalid_0's rmse: 42.4843\n",
      "Training until validation scores don't improve for 100 rounds\n"
     ]
    },
    {
     "name": "stderr",
     "output_type": "stream",
     "text": [
      "[I 2025-09-14 12:01:09,804] Trial 289 finished with value: 43.545001465107546 and parameters: {'lambda_l1': 0.0002648713560333162, 'lambda_l2': 9.999368654224305, 'num_leaves': 262, 'feature_fraction': 0.6630680729191875, 'bagging_fraction': 0.536357860912939, 'bagging_freq': 1, 'min_child_samples': 56, 'learning_rate': 0.02691199476789674, 'max_depth': 10}. Best is trial 223 with value: 42.16477205837596.\n"
     ]
    },
    {
     "name": "stdout",
     "output_type": "stream",
     "text": [
      "Did not meet early stopping. Best iteration is:\n",
      "[958]\tvalid_0's rmse: 46.0839\n",
      "Training until validation scores don't improve for 100 rounds\n",
      "Early stopping, best iteration is:\n",
      "[541]\tvalid_0's rmse: 43.1748\n",
      "Training until validation scores don't improve for 100 rounds\n",
      "Early stopping, best iteration is:\n",
      "[636]\tvalid_0's rmse: 42.0501\n",
      "Training until validation scores don't improve for 100 rounds\n",
      "Early stopping, best iteration is:\n",
      "[497]\tvalid_0's rmse: 43.196\n",
      "Training until validation scores don't improve for 100 rounds\n",
      "Did not meet early stopping. Best iteration is:\n",
      "[1000]\tvalid_0's rmse: 40.0912\n",
      "Training until validation scores don't improve for 100 rounds\n"
     ]
    },
    {
     "name": "stderr",
     "output_type": "stream",
     "text": [
      "[I 2025-09-14 12:01:32,232] Trial 290 finished with value: 42.52770381210089 and parameters: {'lambda_l1': 0.0029590880376345876, 'lambda_l2': 4.669727005956061, 'num_leaves': 255, 'feature_fraction': 0.7116988789385837, 'bagging_fraction': 0.5627433339296017, 'bagging_freq': 3, 'min_child_samples': 13, 'learning_rate': 0.01823945021373847, 'max_depth': 10}. Best is trial 223 with value: 42.16477205837596.\n"
     ]
    },
    {
     "name": "stdout",
     "output_type": "stream",
     "text": [
      "Early stopping, best iteration is:\n",
      "[816]\tvalid_0's rmse: 44.1265\n",
      "Training until validation scores don't improve for 100 rounds\n",
      "Early stopping, best iteration is:\n",
      "[238]\tvalid_0's rmse: 43.8295\n",
      "Training until validation scores don't improve for 100 rounds\n",
      "Early stopping, best iteration is:\n",
      "[396]\tvalid_0's rmse: 41.8616\n",
      "Training until validation scores don't improve for 100 rounds\n",
      "Early stopping, best iteration is:\n",
      "[304]\tvalid_0's rmse: 43.932\n",
      "Training until validation scores don't improve for 100 rounds\n",
      "Early stopping, best iteration is:\n",
      "[808]\tvalid_0's rmse: 39.3132\n",
      "Training until validation scores don't improve for 100 rounds\n"
     ]
    },
    {
     "name": "stderr",
     "output_type": "stream",
     "text": [
      "[I 2025-09-14 12:01:47,998] Trial 291 finished with value: 42.68334851976321 and parameters: {'lambda_l1': 0.0012487326032222044, 'lambda_l2': 3.3570590698229243, 'num_leaves': 262, 'feature_fraction': 0.7553550715244397, 'bagging_fraction': 0.5533869748122228, 'bagging_freq': 1, 'min_child_samples': 15, 'learning_rate': 0.035089166274918385, 'max_depth': 10}. Best is trial 223 with value: 42.16477205837596.\n"
     ]
    },
    {
     "name": "stdout",
     "output_type": "stream",
     "text": [
      "Early stopping, best iteration is:\n",
      "[779]\tvalid_0's rmse: 44.4805\n",
      "Training until validation scores don't improve for 100 rounds\n",
      "Early stopping, best iteration is:\n",
      "[672]\tvalid_0's rmse: 43.6839\n",
      "Training until validation scores don't improve for 100 rounds\n",
      "Early stopping, best iteration is:\n",
      "[724]\tvalid_0's rmse: 41.9504\n",
      "Training until validation scores don't improve for 100 rounds\n",
      "Early stopping, best iteration is:\n",
      "[335]\tvalid_0's rmse: 43.6992\n",
      "Training until validation scores don't improve for 100 rounds\n",
      "Did not meet early stopping. Best iteration is:\n",
      "[994]\tvalid_0's rmse: 40.4501\n",
      "Training until validation scores don't improve for 100 rounds\n"
     ]
    },
    {
     "name": "stderr",
     "output_type": "stream",
     "text": [
      "[I 2025-09-14 12:02:10,279] Trial 292 finished with value: 42.68643504857512 and parameters: {'lambda_l1': 8.116519106333013e-05, 'lambda_l2': 3.459044642049824e-05, 'num_leaves': 252, 'feature_fraction': 0.6868286796892978, 'bagging_fraction': 0.5304802430757806, 'bagging_freq': 1, 'min_child_samples': 11, 'learning_rate': 0.01722036552208923, 'max_depth': 10}. Best is trial 223 with value: 42.16477205837596.\n"
     ]
    },
    {
     "name": "stdout",
     "output_type": "stream",
     "text": [
      "Did not meet early stopping. Best iteration is:\n",
      "[941]\tvalid_0's rmse: 43.6486\n",
      "Training until validation scores don't improve for 100 rounds\n",
      "Early stopping, best iteration is:\n",
      "[400]\tvalid_0's rmse: 43.4189\n",
      "Training until validation scores don't improve for 100 rounds\n",
      "Early stopping, best iteration is:\n",
      "[666]\tvalid_0's rmse: 41.1065\n",
      "Training until validation scores don't improve for 100 rounds\n",
      "Early stopping, best iteration is:\n",
      "[266]\tvalid_0's rmse: 42.8507\n",
      "Training until validation scores don't improve for 100 rounds\n",
      "Early stopping, best iteration is:\n",
      "[864]\tvalid_0's rmse: 40.4577\n",
      "Training until validation scores don't improve for 100 rounds\n",
      "Did not meet early stopping. Best iteration is:\n",
      "[958]\tvalid_0's rmse: 44.1951\n"
     ]
    },
    {
     "name": "stderr",
     "output_type": "stream",
     "text": [
      "[I 2025-09-14 12:02:40,920] Trial 293 finished with value: 42.405792861526024 and parameters: {'lambda_l1': 4.7743136556794505e-05, 'lambda_l2': 6.7644425826001155, 'num_leaves': 272, 'feature_fraction': 0.7003737511885016, 'bagging_fraction': 0.5719659016470345, 'bagging_freq': 2, 'min_child_samples': 8, 'learning_rate': 0.02487468644701959, 'max_depth': 11}. Best is trial 223 with value: 42.16477205837596.\n"
     ]
    },
    {
     "name": "stdout",
     "output_type": "stream",
     "text": [
      "Training until validation scores don't improve for 100 rounds\n",
      "Did not meet early stopping. Best iteration is:\n",
      "[988]\tvalid_0's rmse: 43.3995\n",
      "Training until validation scores don't improve for 100 rounds\n",
      "Did not meet early stopping. Best iteration is:\n",
      "[999]\tvalid_0's rmse: 41.2893\n",
      "Training until validation scores don't improve for 100 rounds\n",
      "Early stopping, best iteration is:\n",
      "[791]\tvalid_0's rmse: 43.4494\n",
      "Training until validation scores don't improve for 100 rounds\n",
      "Did not meet early stopping. Best iteration is:\n",
      "[1000]\tvalid_0's rmse: 40.3691\n",
      "Training until validation scores don't improve for 100 rounds\n"
     ]
    },
    {
     "name": "stderr",
     "output_type": "stream",
     "text": [
      "[I 2025-09-14 12:03:07,145] Trial 294 finished with value: 42.58418428229696 and parameters: {'lambda_l1': 0.0004415305318652077, 'lambda_l2': 4.676149910139814, 'num_leaves': 249, 'feature_fraction': 0.6495887575099444, 'bagging_fraction': 0.5472942513407679, 'bagging_freq': 1, 'min_child_samples': 13, 'learning_rate': 0.01010713702164355, 'max_depth': 10}. Best is trial 223 with value: 42.16477205837596.\n"
     ]
    },
    {
     "name": "stdout",
     "output_type": "stream",
     "text": [
      "Did not meet early stopping. Best iteration is:\n",
      "[994]\tvalid_0's rmse: 44.4135\n",
      "Training until validation scores don't improve for 100 rounds\n",
      "Early stopping, best iteration is:\n",
      "[832]\tvalid_0's rmse: 43.8993\n",
      "Training until validation scores don't improve for 100 rounds\n",
      "Early stopping, best iteration is:\n",
      "[757]\tvalid_0's rmse: 41.361\n",
      "Training until validation scores don't improve for 100 rounds\n",
      "Early stopping, best iteration is:\n",
      "[411]\tvalid_0's rmse: 43.864\n",
      "Training until validation scores don't improve for 100 rounds\n",
      "Did not meet early stopping. Best iteration is:\n",
      "[1000]\tvalid_0's rmse: 40.5719\n",
      "Training until validation scores don't improve for 100 rounds\n"
     ]
    },
    {
     "name": "stderr",
     "output_type": "stream",
     "text": [
      "[I 2025-09-14 12:03:33,757] Trial 295 finished with value: 42.71983999011444 and parameters: {'lambda_l1': 0.00015878976478791835, 'lambda_l2': 2.3715047025300486, 'num_leaves': 259, 'feature_fraction': 0.6716251865737107, 'bagging_fraction': 0.5625255450215678, 'bagging_freq': 1, 'min_child_samples': 10, 'learning_rate': 0.01874777910600639, 'max_depth': 10}. Best is trial 223 with value: 42.16477205837596.\n"
     ]
    },
    {
     "name": "stdout",
     "output_type": "stream",
     "text": [
      "Did not meet early stopping. Best iteration is:\n",
      "[990]\tvalid_0's rmse: 43.903\n",
      "Training until validation scores don't improve for 100 rounds\n",
      "Early stopping, best iteration is:\n",
      "[675]\tvalid_0's rmse: 43.3806\n",
      "Training until validation scores don't improve for 100 rounds\n",
      "Early stopping, best iteration is:\n",
      "[553]\tvalid_0's rmse: 41.7658\n",
      "Training until validation scores don't improve for 100 rounds\n",
      "Early stopping, best iteration is:\n",
      "[411]\tvalid_0's rmse: 43.1098\n",
      "Training until validation scores don't improve for 100 rounds\n",
      "Did not meet early stopping. Best iteration is:\n",
      "[993]\tvalid_0's rmse: 39.6932\n",
      "Training until validation scores don't improve for 100 rounds\n"
     ]
    },
    {
     "name": "stderr",
     "output_type": "stream",
     "text": [
      "[I 2025-09-14 12:03:53,926] Trial 296 finished with value: 42.386941129504166 and parameters: {'lambda_l1': 0.00024314908618320907, 'lambda_l2': 6.906712141504069, 'num_leaves': 268, 'feature_fraction': 0.7227645155279646, 'bagging_fraction': 0.5813391991142323, 'bagging_freq': 1, 'min_child_samples': 15, 'learning_rate': 0.030923374570084993, 'max_depth': 10}. Best is trial 223 with value: 42.16477205837596.\n"
     ]
    },
    {
     "name": "stdout",
     "output_type": "stream",
     "text": [
      "Early stopping, best iteration is:\n",
      "[777]\tvalid_0's rmse: 43.9853\n",
      "Training until validation scores don't improve for 100 rounds\n",
      "Early stopping, best iteration is:\n",
      "[81]\tvalid_0's rmse: 46.5638\n",
      "Training until validation scores don't improve for 100 rounds\n",
      "Early stopping, best iteration is:\n",
      "[105]\tvalid_0's rmse: 43.1082\n",
      "Training until validation scores don't improve for 100 rounds\n",
      "Early stopping, best iteration is:\n",
      "[30]\tvalid_0's rmse: 45.5223\n",
      "Training until validation scores don't improve for 100 rounds\n",
      "Early stopping, best iteration is:\n",
      "[128]\tvalid_0's rmse: 42.9922\n",
      "Training until validation scores don't improve for 100 rounds\n"
     ]
    },
    {
     "name": "stderr",
     "output_type": "stream",
     "text": [
      "[I 2025-09-14 12:03:58,911] Trial 297 finished with value: 44.768867256036074 and parameters: {'lambda_l1': 0.00011152283385220897, 'lambda_l2': 0.06411434294362817, 'num_leaves': 263, 'feature_fraction': 0.6558199399748812, 'bagging_fraction': 0.538890381503831, 'bagging_freq': 1, 'min_child_samples': 12, 'learning_rate': 0.1781035789346252, 'max_depth': 10}. Best is trial 223 with value: 42.16477205837596.\n"
     ]
    },
    {
     "name": "stdout",
     "output_type": "stream",
     "text": [
      "Early stopping, best iteration is:\n",
      "[52]\tvalid_0's rmse: 45.6577\n",
      "Training until validation scores don't improve for 100 rounds\n",
      "Early stopping, best iteration is:\n",
      "[594]\tvalid_0's rmse: 43.4577\n",
      "Training until validation scores don't improve for 100 rounds\n",
      "Early stopping, best iteration is:\n",
      "[549]\tvalid_0's rmse: 40.165\n",
      "Training until validation scores don't improve for 100 rounds\n",
      "Early stopping, best iteration is:\n",
      "[307]\tvalid_0's rmse: 42.8832\n",
      "Training until validation scores don't improve for 100 rounds\n",
      "Early stopping, best iteration is:\n",
      "[712]\tvalid_0's rmse: 40.0977\n",
      "Training until validation scores don't improve for 100 rounds\n"
     ]
    },
    {
     "name": "stderr",
     "output_type": "stream",
     "text": [
      "[I 2025-09-14 12:04:22,114] Trial 298 finished with value: 42.12769433475792 and parameters: {'lambda_l1': 6.216669155410017e-05, 'lambda_l2': 3.1362076745872023, 'num_leaves': 237, 'feature_fraction': 0.6994655570469859, 'bagging_fraction': 0.525422158449368, 'bagging_freq': 1, 'min_child_samples': 9, 'learning_rate': 0.024263887828631977, 'max_depth': 10}. Best is trial 298 with value: 42.12769433475792.\n"
     ]
    },
    {
     "name": "stdout",
     "output_type": "stream",
     "text": [
      "Did not meet early stopping. Best iteration is:\n",
      "[979]\tvalid_0's rmse: 44.0349\n",
      "Training until validation scores don't improve for 100 rounds\n",
      "Early stopping, best iteration is:\n",
      "[563]\tvalid_0's rmse: 43.8257\n",
      "Training until validation scores don't improve for 100 rounds\n",
      "Early stopping, best iteration is:\n",
      "[500]\tvalid_0's rmse: 41.3398\n",
      "Training until validation scores don't improve for 100 rounds\n",
      "Early stopping, best iteration is:\n",
      "[333]\tvalid_0's rmse: 44.0502\n",
      "Training until validation scores don't improve for 100 rounds\n",
      "Early stopping, best iteration is:\n",
      "[558]\tvalid_0's rmse: 41.1565\n",
      "Training until validation scores don't improve for 100 rounds\n",
      "Did not meet early stopping. Best iteration is:\n",
      "[932]\tvalid_0's rmse: 44.0352\n"
     ]
    },
    {
     "name": "stderr",
     "output_type": "stream",
     "text": [
      "[I 2025-09-14 12:04:48,503] Trial 299 finished with value: 42.88146777284041 and parameters: {'lambda_l1': 4.903763357084871e-05, 'lambda_l2': 2.9042403444476266, 'num_leaves': 236, 'feature_fraction': 0.6970235532634751, 'bagging_fraction': 0.5075336808034191, 'bagging_freq': 1, 'min_child_samples': 6, 'learning_rate': 0.024822578690914705, 'max_depth': 10}. Best is trial 298 with value: 42.12769433475792.\n"
     ]
    },
    {
     "name": "stdout",
     "output_type": "stream",
     "text": [
      "Number of finished trials: 300\n",
      "Best trial: {'lambda_l1': 6.216669155410017e-05, 'lambda_l2': 3.1362076745872023, 'num_leaves': 237, 'feature_fraction': 0.6994655570469859, 'bagging_fraction': 0.525422158449368, 'bagging_freq': 1, 'min_child_samples': 9, 'learning_rate': 0.024263887828631977, 'max_depth': 10}\n",
      "Best RMSE: 42.12769433475792\n",
      "\n",
      "==================================================\n",
      "Optimization History\n"
     ]
    },
    {
     "data": {
      "image/png": "[encoded data removed]",
      "text/plain": [
       "<Figure size 640x480 with 1 Axes>"
      ]
     },
     "metadata": {},
     "output_type": "display_data"
    },
    {
     "name": "stdout",
     "output_type": "stream",
     "text": [
      "Parameter Importance\n"
     ]
    },
    {
     "data": {
      "image/png": "[encoded data removed]",
      "text/plain": [
       "<Figure size 640x480 with 1 Axes>"
      ]
     },
     "metadata": {},
     "output_type": "display_data"
    },
    {
     "name": "stdout",
     "output_type": "stream",
     "text": [
      "\n",
      "Training final model with cross-validation...\n",
      "Fold: 1\n",
      "Training until validation scores don't improve for 100 rounds\n",
      "Early stopping, best iteration is:\n",
      "[594]\tvalid_0's rmse: 43.4577\n",
      "Fold 1 RMSE: 43.4577\n",
      "Fold: 2\n",
      "Training until validation scores don't improve for 100 rounds\n",
      "Early stopping, best iteration is:\n",
      "[549]\tvalid_0's rmse: 40.165\n",
      "Fold 2 RMSE: 40.1650\n",
      "Fold: 3\n",
      "Training until validation scores don't improve for 100 rounds\n",
      "Early stopping, best iteration is:\n",
      "[307]\tvalid_0's rmse: 42.8832\n",
      "Fold 3 RMSE: 42.8832\n",
      "Fold: 4\n",
      "Training until validation scores don't improve for 100 rounds\n",
      "Early stopping, best iteration is:\n",
      "[712]\tvalid_0's rmse: 40.0977\n",
      "Fold 4 RMSE: 40.0977\n",
      "Fold: 5\n",
      "Training until validation scores don't improve for 100 rounds\n",
      "Did not meet early stopping. Best iteration is:\n",
      "[979]\tvalid_0's rmse: 44.0349\n",
      "Fold 5 RMSE: 44.0349\n",
      "\n",
      "Overall OOF RMSE: 42.1606\n",
      "CV Score (mean ± std): 42.1277 ± 1.6703\n",
      "OOF predictions saved to oof_predictions.csv\n",
      "Submission file created and saved.\n",
      "Final submission preview:\n",
      "     id          Tm\n",
      "0  1022  356.319191\n",
      "1  1146  341.307546\n",
      "2    79  199.639668\n",
      "3  2279  203.028814\n",
      "4  1342  235.166883\n",
      "\n",
      "Top 10 Feature Importances:\n",
      "               feature  importance\n",
      "0                   id        1148\n",
      "452           BalabanJ         939\n",
      "429                qed         889\n",
      "427  MinAbsEStateIndex         860\n",
      "483          PEOE_VSA7         836\n",
      "447      BCUT2D_LOGPHI         814\n",
      "441   FpDensityMorgan2         762\n",
      "448     BCUT2D_LOGPLOW         760\n",
      "442   FpDensityMorgan3         723\n",
      "528        VSA_EState8         720\n"
     ]
    },
    {
     "data": {
      "image/png": "[encoded data removed]",
      "text/plain": [
       "<Figure size 1000x600 with 1 Axes>"
      ]
     },
     "metadata": {},
     "output_type": "display_data"
    },
    {
     "name": "stdout",
     "output_type": "stream",
     "text": [
      "\n",
      "Prediction statistics:\n",
      "Train target range: 53.54 to 897.15\n",
      "OOF predictions range: 105.21 to 598.01\n",
      "Test predictions range: 115.37 to 597.87\n"
     ]
    }
   ],
   "source": [
    "# --- Optuna Hyperparameter Tuning ---\n",
    "def objective(trial, X, y):\n",
    "    \"\"\"Optuna objective function for hyperparameter tuning with K-Fold CV.\"\"\"\n",
    "    kf = KFold(n_splits=5, random_state=42, shuffle=True)\n",
    "    rmse_scores = []\n",
    "    \n",
    "    param = {\n",
    "        'objective': 'regression',\n",
    "        'metric': 'rmse',\n",
    "        'boosting_type': 'gbdt',\n",
    "        'lambda_l1': trial.suggest_float('lambda_l1', 1e-8, 10.0, log=True),\n",
    "        'lambda_l2': trial.suggest_float('lambda_l2', 1e-8, 10.0, log=True),\n",
    "        'num_leaves': trial.suggest_int('num_leaves', 10, 300),\n",
    "        'feature_fraction': trial.suggest_float('feature_fraction', 0.4, 1.0),\n",
    "        'bagging_fraction': trial.suggest_float('bagging_fraction', 0.4, 1.0),\n",
    "        'bagging_freq': trial.suggest_int('bagging_freq', 1, 7),\n",
    "        'min_child_samples': trial.suggest_int('min_child_samples', 5, 100),\n",
    "        'learning_rate': trial.suggest_float('learning_rate', 0.01, 0.3),\n",
    "        'max_depth': trial.suggest_int('max_depth', 3, 12),\n",
    "        'random_state': 42,\n",
    "        'n_estimators': 1000,\n",
    "        'verbosity': -1,\n",
    "    }\n",
    "    \n",
    "    for fold, (trn_idx, val_idx) in enumerate(kf.split(X, y)):\n",
    "        X_tr, X_val = X.iloc[trn_idx], X.iloc[val_idx]\n",
    "        y_tr, y_val = y.iloc[trn_idx], y.iloc[val_idx]\n",
    "        \n",
    "        model = lgb.LGBMRegressor(**param)\n",
    "        model.fit(\n",
    "            X_tr, y_tr,\n",
    "            eval_set=[(X_val, y_val)],\n",
    "            eval_metric='rmse',\n",
    "            callbacks=[lgb.early_stopping(100), lgb.log_evaluation(0)]\n",
    "        )\n",
    "        \n",
    "        val_preds = model.predict(X_val)\n",
    "        rmse = mean_squared_error(y_val, val_preds, squared=False)\n",
    "        rmse_scores.append(rmse)\n",
    "    \n",
    "    return np.mean(rmse_scores)\n",
    "\n",
    "# Run hyperparameter optimization\n",
    "print(\"Starting hyperparameter optimization...\")\n",
    "study = optuna.create_study(direction='minimize')\n",
    "study.optimize(lambda trial: objective(trial, trainX[feature_columns], trainY), n_trials=300)\n",
    "\n",
    "print('Number of finished trials:', len(study.trials))\n",
    "print('Best trial:', study.best_trial.params)\n",
    "print('Best RMSE:', study.best_trial.value)\n",
    "\n",
    "# Save best parameters\n",
    "best_params = study.best_trial.params\n",
    "with open(\"best_params.yaml\", \"w\") as yaml_file:\n",
    "    yaml.dump(best_params, yaml_file)\n",
    "\n",
    "# Add fixed parameters\n",
    "best_params.update({\n",
    "    'objective': 'regression',\n",
    "    'metric': 'rmse',\n",
    "    'boosting_type': 'gbdt',\n",
    "    'random_state': 42,\n",
    "    'n_estimators': 1000,\n",
    "    'verbosity': -1,\n",
    "})\n",
    "\n",
    "# --- Visualization ---\n",
    "try:\n",
    "    print(\"\\n\" + \"=\"*50)\n",
    "    print(\"Optimization History\")\n",
    "    optuna.visualization.matplotlib.plot_optimization_history(study)\n",
    "    plt.show()\n",
    "    \n",
    "    print(\"Parameter Importance\")\n",
    "    optuna.visualization.matplotlib.plot_param_importances(study)\n",
    "    plt.show()\n",
    "except ImportError:\n",
    "    print(\"Matplotlib visualization not available. Install optuna[plotly] for interactive plots.\")\n",
    "\n",
    "# --- Final Model Training and Prediction ---\n",
    "print(\"\\nTraining final model with cross-validation...\")\n",
    "\n",
    "kf = KFold(n_splits=5, random_state=42, shuffle=True)\n",
    "oof_predictions = np.zeros(len(trainX))\n",
    "test_predictions = np.zeros(len(testX))\n",
    "fold_scores = []\n",
    "\n",
    "for fold, (trn_idx, val_idx) in enumerate(kf.split(trainX[feature_columns], trainY)):\n",
    "    print(f'Fold: {fold+1}')\n",
    "    \n",
    "    X_tr, X_val = trainX[feature_columns].iloc[trn_idx], trainX[feature_columns].iloc[val_idx]\n",
    "    y_tr, y_val = trainY.iloc[trn_idx], trainY.iloc[val_idx]\n",
    "    \n",
    "    model = lgb.LGBMRegressor(**best_params)\n",
    "    model.fit(\n",
    "        X_tr, y_tr,\n",
    "        eval_set=[(X_val, y_val)],\n",
    "        eval_metric='rmse',\n",
    "        callbacks=[lgb.early_stopping(100), lgb.log_evaluation(0)]\n",
    "    )\n",
    "    \n",
    "    # Out-of-fold predictions\n",
    "    oof_preds = model.predict(X_val)\n",
    "    oof_predictions[val_idx] = oof_preds\n",
    "    \n",
    "    # Test predictions\n",
    "    test_preds = model.predict(testX[feature_columns])\n",
    "    test_predictions += test_preds / kf.n_splits\n",
    "    \n",
    "    # Calculate fold score\n",
    "    rmse = mean_squared_error(y_val, oof_preds, squared=False)\n",
    "    fold_scores.append(rmse)\n",
    "    print(f'Fold {fold+1} RMSE: {rmse:.4f}')\n",
    "\n",
    "# --- Evaluation and Submission ---\n",
    "overall_rmse = mean_squared_error(trainY, oof_predictions, squared=False)\n",
    "print(f\"\\nOverall OOF RMSE: {overall_rmse:.4f}\")\n",
    "print(f\"CV Score (mean ± std): {np.mean(fold_scores):.4f} ± {np.std(fold_scores):.4f}\")\n",
    "\n",
    "# Save OOF predictions\n",
    "oof_df = pd.DataFrame({\n",
    "    'actual': trainY,\n",
    "    'predicted': oof_predictions\n",
    "})\n",
    "oof_df.to_csv('oof_predictions.csv', index=False)\n",
    "print(\"OOF predictions saved to oof_predictions.csv\")\n",
    "\n",
    "# Create submission file\n",
    "if target in submit.columns:\n",
    "    submit[target] = test_predictions\n",
    "else:\n",
    "    # If target column doesn't exist, assume it's the second column\n",
    "    submit.iloc[:, 1] = test_predictions\n",
    "\n",
    "submit.to_csv('submission.csv', index=False)\n",
    "print(\"Submission file created and saved.\")\n",
    "print(\"Final submission preview:\")\n",
    "print(submit.head())\n",
    "\n",
    "# Feature importance\n",
    "print(\"\\nTop 10 Feature Importances:\")\n",
    "feature_importance = model.feature_importances_\n",
    "importance_df = pd.DataFrame({\n",
    "    'feature': feature_columns,\n",
    "    'importance': feature_importance\n",
    "}).sort_values('importance', ascending=False)\n",
    "print(importance_df.head(10))\n",
    "\n",
    "# Plot predictions vs actual\n",
    "plt.figure(figsize=(10, 6))\n",
    "plt.scatter(trainY, oof_predictions, alpha=0.6)\n",
    "plt.plot([trainY.min(), trainY.max()], [trainY.min(), trainY.max()], 'r--', lw=2)\n",
    "plt.xlabel('Actual Melting Point')\n",
    "plt.ylabel('Predicted Melting Point')\n",
    "plt.title(f'OOF Predictions vs Actual (RMSE: {overall_rmse:.4f})')\n",
    "plt.show()\n",
    "\n",
    "print(\"\\nPrediction statistics:\")\n",
    "print(f\"Train target range: {trainY.min():.2f} to {trainY.max():.2f}\")\n",
    "print(f\"OOF predictions range: {oof_predictions.min():.2f} to {oof_predictions.max():.2f}\")\n",
    "print(f\"Test predictions range: {test_predictions.min():.2f} to {test_predictions.max():.2f}\")"
   ]
  },
  {
   "cell_type": "code",
   "execution_count": null,
   "id": "56f7b023",
   "metadata": {
    "papermill": {
     "duration": 0.144924,
     "end_time": "2025-09-14T12:05:19.520126",
     "exception": false,
     "start_time": "2025-09-14T12:05:19.375202",
     "status": "completed"
    },
    "tags": []
   },
   "outputs": [],
   "source": []
  }
 ],
 "metadata": {
  "kaggle": {
   "accelerator": "none",
   "dataSources": [
    {
     "databundleVersionId": 13473948,
     "isSourceIdPinned": false,
     "sourceId": 113155,
     "sourceType": "competition"
    },
    {
     "datasetId": 8107323,
     "sourceId": 12820580,
     "sourceType": "datasetVersion"
    }
   ],
   "isGpuEnabled": false,
   "isInternetEnabled": false,
   "language": "python",
   "sourceType": "notebook"
  },
  "kernelspec": {
   "display_name": "Python 3",
   "language": "python",
   "name": "python3"
  },
  "language_info": {
   "codemirror_mode": {
    "name": "ipython",
    "version": 3
   },
   "file_extension": ".py",
   "mimetype": "text/x-python",
   "name": "python",
   "nbconvert_exporter": "python",
   "pygments_lexer": "ipython3",
   "version": "3.11.13"
  },
  "papermill": {
   "default_parameters": {},
   "duration": 5433.769896,
   "end_time": "2025-09-14T12:05:20.889652",
   "environment_variables": {},
   "exception": null,
   "input_path": "__notebook__.ipynb",
   "output_path": "__notebook__.ipynb",
   "parameters": {},
   "start_time": "2025-09-14T10:34:47.119756",
   "version": "2.6.0"
  }
 },
 "nbformat": 4,
 "nbformat_minor": 5
}
