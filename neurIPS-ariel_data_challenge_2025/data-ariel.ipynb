{
 "cells": [
  {
   "cell_type": "code",
   "execution_count": 1,
   "id": "d1735430",
   "metadata": {
    "execution": {
     "iopub.execute_input": "2025-07-02T11:21:20.617320Z",
     "iopub.status.busy": "2025-07-02T11:21:20.617051Z",
     "iopub.status.idle": "2025-07-02T11:21:24.422229Z",
     "shell.execute_reply": "2025-07-02T11:21:24.421628Z"
    },
    "papermill": {
     "duration": 3.810118,
     "end_time": "2025-07-02T11:21:24.423720",
     "exception": false,
     "start_time": "2025-07-02T11:21:20.613602",
     "status": "completed"
    },
    "tags": []
   },
   "outputs": [],
   "source": [
    "# 📦 Imports and Environment Setup\n",
    "import os\n",
    "import numpy as np\n",
    "import pandas as pd\n",
    "import polars as pl\n",
    "import matplotlib.pyplot as plt\n",
    "import seaborn as sns\n",
    "import pickle\n",
    "from glob import glob\n",
    "from tqdm import tqdm\n",
    "\n",
    "from sklearn.linear_model import Ridge\n",
    "from sklearn.preprocessing import StandardScaler\n",
    "from sklearn.metrics import mean_squared_error, r2_score\n",
    "from sklearn.model_selection import train_test_split"
   ]
  },
  {
   "cell_type": "code",
   "execution_count": 2,
   "id": "a5d6e28c",
   "metadata": {
    "execution": {
     "iopub.execute_input": "2025-07-02T11:21:24.429526Z",
     "iopub.status.busy": "2025-07-02T11:21:24.428954Z",
     "iopub.status.idle": "2025-07-02T11:21:24.639442Z",
     "shell.execute_reply": "2025-07-02T11:21:24.638828Z"
    },
    "papermill": {
     "duration": 0.214297,
     "end_time": "2025-07-02T11:21:24.640724",
     "exception": false,
     "start_time": "2025-07-02T11:21:24.426427",
     "status": "completed"
    },
    "tags": []
   },
   "outputs": [],
   "source": [
    "# 📂 Load Metadata and Labels\n",
    "train_df = pd.read_csv('/kaggle/input/ariel-data-challenge-2025/train.csv', index_col='planet_id')\n",
    "wavelengths = pd.read_csv('/kaggle/input/ariel-data-challenge-2025/wavelengths.csv')\n",
    "train_star_info = pd.read_csv('/kaggle/input/ariel-data-challenge-2025/train_star_info.csv')\n",
    "train_adc_info = pd.read_csv('/kaggle/input/ariel-data-challenge-2025/adc_info.csv')"
   ]
  },
  {
   "cell_type": "code",
   "execution_count": 3,
   "id": "daeee69a",
   "metadata": {
    "execution": {
     "iopub.execute_input": "2025-07-02T11:21:24.645820Z",
     "iopub.status.busy": "2025-07-02T11:21:24.645397Z",
     "iopub.status.idle": "2025-07-02T11:21:24.651398Z",
     "shell.execute_reply": "2025-07-02T11:21:24.650863Z"
    },
    "papermill": {
     "duration": 0.009568,
     "end_time": "2025-07-02T11:21:24.652417",
     "exception": false,
     "start_time": "2025-07-02T11:21:24.642849",
     "status": "completed"
    },
    "tags": []
   },
   "outputs": [],
   "source": [
    "# 🧠 Functions to Read and Preprocess Raw Instrument Data\n",
    "\n",
    "def f_read_and_preprocess(dataset, planet_ids):\n",
    "    \"\"\"Reads FGS1 signal parquet files and computes net signal for each planet.\"\"\"\n",
    "    f_raw = np.full((len(planet_ids), 67500), np.nan, dtype=np.float32)\n",
    "    for i, planet_id in tqdm(list(enumerate(planet_ids))):\n",
    "        f_signal = pl.read_parquet(f'/kaggle/input/ariel-data-challenge-2025/{dataset}/{planet_id}/FGS1_signal_0.parquet')\n",
    "        mean_signal = f_signal.cast(pl.Int32).sum_horizontal().cast(pl.Float32).to_numpy() / 1024\n",
    "        net_signal = mean_signal[1::2] - mean_signal[0::2]\n",
    "        f_raw[i] = net_signal\n",
    "    return f_raw\n",
    "\n",
    "def a_read_and_preprocess(dataset, planet_ids):\n",
    "    \"\"\"Reads AIRS-CH0 signal parquet files and computes net signal for each planet.\"\"\"\n",
    "    a_raw = np.full((len(planet_ids), 5625), np.nan, dtype=np.float32)\n",
    "    for i, planet_id in tqdm(list(enumerate(planet_ids))):\n",
    "        signal = pl.read_parquet(f'/kaggle/input/ariel-data-challenge-2025/{dataset}/{planet_id}/AIRS-CH0_signal_0.parquet')\n",
    "        mean_signal = signal.cast(pl.Int32).sum_horizontal().cast(pl.Float32).to_numpy() / (32 * 356)\n",
    "        net_signal = mean_signal[1::2] - mean_signal[0::2]\n",
    "        a_raw[i] = net_signal\n",
    "    return a_raw"
   ]
  },
  {
   "cell_type": "code",
   "execution_count": 4,
   "id": "55e8ec25",
   "metadata": {
    "execution": {
     "iopub.execute_input": "2025-07-02T11:21:24.657209Z",
     "iopub.status.busy": "2025-07-02T11:21:24.656777Z",
     "iopub.status.idle": "2025-07-02T11:21:24.660460Z",
     "shell.execute_reply": "2025-07-02T11:21:24.659987Z"
    },
    "papermill": {
     "duration": 0.006966,
     "end_time": "2025-07-02T11:21:24.661485",
     "exception": false,
     "start_time": "2025-07-02T11:21:24.654519",
     "status": "completed"
    },
    "tags": []
   },
   "outputs": [],
   "source": [
    "# 🔧 Feature Engineering\n",
    "\n",
    "def feature_engineering(f_raw, a_raw, n_bins=75):\n",
    "    \"\"\"Reduces raw signal dimensions by averaging over bins, then concatenates FGS1 and AIRS features.\"\"\"\n",
    "    f_feat = f_raw.reshape(f_raw.shape[0], n_bins, -1).mean(axis=2)\n",
    "    a_feat = a_raw.reshape(a_raw.shape[0], n_bins, -1).mean(axis=2)\n",
    "    return np.concatenate([f_feat, a_feat], axis=1)"
   ]
  },
  {
   "cell_type": "code",
   "execution_count": 5,
   "id": "89c4433d",
   "metadata": {
    "execution": {
     "iopub.execute_input": "2025-07-02T11:21:24.666120Z",
     "iopub.status.busy": "2025-07-02T11:21:24.665685Z",
     "iopub.status.idle": "2025-07-02T11:48:04.962727Z",
     "shell.execute_reply": "2025-07-02T11:48:04.961988Z"
    },
    "papermill": {
     "duration": 1600.301722,
     "end_time": "2025-07-02T11:48:04.965094",
     "exception": false,
     "start_time": "2025-07-02T11:21:24.663372",
     "status": "completed"
    },
    "tags": []
   },
   "outputs": [
    {
     "name": "stderr",
     "output_type": "stream",
     "text": [
      "100%|██████████| 1100/1100 [13:15<00:00,  1.38it/s]\n",
      "100%|██████████| 1100/1100 [13:24<00:00,  1.37it/s]\n"
     ]
    }
   ],
   "source": [
    "# 🧪 Load and Preprocess Training Data\n",
    "planet_ids = train_df.index\n",
    "f_raw_train = f_read_and_preprocess('train', planet_ids)\n",
    "a_raw_train = a_read_and_preprocess('train', planet_ids)\n",
    "\n",
    "# ➕ Feature Engineering\n",
    "X = feature_engineering(f_raw_train, a_raw_train)\n",
    "y = train_df.values\n",
    "\n",
    "# 🔄 Normalize Features\n",
    "scaler = StandardScaler()\n",
    "X_scaled = scaler.fit_transform(X)"
   ]
  },
  {
   "cell_type": "code",
   "execution_count": 6,
   "id": "197920c3",
   "metadata": {
    "execution": {
     "iopub.execute_input": "2025-07-02T11:48:05.136107Z",
     "iopub.status.busy": "2025-07-02T11:48:05.135442Z",
     "iopub.status.idle": "2025-07-02T11:48:05.243180Z",
     "shell.execute_reply": "2025-07-02T11:48:05.242401Z"
    },
    "papermill": {
     "duration": 0.19803,
     "end_time": "2025-07-02T11:48:05.249666",
     "exception": false,
     "start_time": "2025-07-02T11:48:05.051636",
     "status": "completed"
    },
    "tags": []
   },
   "outputs": [
    {
     "name": "stdout",
     "output_type": "stream",
     "text": [
      "Train MSE: 0.000009 | R2: 0.918323\n"
     ]
    }
   ],
   "source": [
    "# 🤖 Model Training\n",
    "model = Ridge(alpha=0.1)\n",
    "model.fit(X_scaled, y)\n",
    "\n",
    "# 📊 Evaluate Training Performance\n",
    "y_pred = model.predict(X_scaled)\n",
    "mse = mean_squared_error(y, y_pred)\n",
    "r2 = r2_score(y, y_pred)\n",
    "print(f\"Train MSE: {mse:.6f} | R2: {r2:.6f}\")"
   ]
  },
  {
   "cell_type": "code",
   "execution_count": 7,
   "id": "f05ee2dd",
   "metadata": {
    "execution": {
     "iopub.execute_input": "2025-07-02T11:48:05.466146Z",
     "iopub.status.busy": "2025-07-02T11:48:05.465398Z",
     "iopub.status.idle": "2025-07-02T11:48:05.470892Z",
     "shell.execute_reply": "2025-07-02T11:48:05.470179Z"
    },
    "papermill": {
     "duration": 0.098641,
     "end_time": "2025-07-02T11:48:05.472132",
     "exception": false,
     "start_time": "2025-07-02T11:48:05.373491",
     "status": "completed"
    },
    "tags": []
   },
   "outputs": [],
   "source": [
    "# 💾 Save Artifacts\n",
    "sigma_pred = 0.01  # fixed uncertainty estimate\n",
    "\n",
    "with open('model.pickle', 'wb') as f:\n",
    "    pickle.dump(model, f)\n",
    "with open('scaler.pickle', 'wb') as f:\n",
    "    pickle.dump(scaler, f)\n",
    "with open('sigma_pred.pickle', 'wb') as f:\n",
    "    pickle.dump(sigma_pred, f)"
   ]
  },
  {
   "cell_type": "code",
   "execution_count": 8,
   "id": "cbde0c2f",
   "metadata": {
    "execution": {
     "iopub.execute_input": "2025-07-02T11:48:05.643531Z",
     "iopub.status.busy": "2025-07-02T11:48:05.642769Z",
     "iopub.status.idle": "2025-07-02T11:48:07.226135Z",
     "shell.execute_reply": "2025-07-02T11:48:07.225303Z"
    },
    "papermill": {
     "duration": 1.6699,
     "end_time": "2025-07-02T11:48:07.227382",
     "exception": false,
     "start_time": "2025-07-02T11:48:05.557482",
     "status": "completed"
    },
    "tags": []
   },
   "outputs": [
    {
     "name": "stderr",
     "output_type": "stream",
     "text": [
      "100%|██████████| 1/1 [00:00<00:00,  1.30it/s]\n",
      "100%|██████████| 1/1 [00:00<00:00,  1.30it/s]\n"
     ]
    }
   ],
   "source": [
    "# 📥 Load Test Data and Generate Features\n",
    "test_adc_info = pd.read_csv('/kaggle/input/ariel-data-challenge-2025/test_star_info.csv', index_col='planet_id')\n",
    "sample_submission = pd.read_csv('/kaggle/input/ariel-data-challenge-2025/sample_submission.csv', index_col='planet_id')\n",
    "\n",
    "f_raw_test = f_read_and_preprocess('test', sample_submission.index)\n",
    "a_raw_test = a_read_and_preprocess('test', sample_submission.index)\n",
    "\n",
    "X_test = feature_engineering(f_raw_test, a_raw_test)\n",
    "X_test_scaled = scaler.transform(X_test)\n",
    "\n",
    "# 🧠 Make Predictions\n",
    "y_test_pred = model.predict(X_test_scaled)"
   ]
  },
  {
   "cell_type": "code",
   "execution_count": 9,
   "id": "d2cffbed",
   "metadata": {
    "execution": {
     "iopub.execute_input": "2025-07-02T11:48:07.405743Z",
     "iopub.status.busy": "2025-07-02T11:48:07.405493Z",
     "iopub.status.idle": "2025-07-02T11:48:07.442555Z",
     "shell.execute_reply": "2025-07-02T11:48:07.441875Z"
    },
    "papermill": {
     "duration": 0.125135,
     "end_time": "2025-07-02T11:48:07.443651",
     "exception": false,
     "start_time": "2025-07-02T11:48:07.318516",
     "status": "completed"
    },
    "tags": []
   },
   "outputs": [
    {
     "data": {
      "text/html": [
       "<div>\n",
       "<style scoped>\n",
       "    .dataframe tbody tr th:only-of-type {\n",
       "        vertical-align: middle;\n",
       "    }\n",
       "\n",
       "    .dataframe tbody tr th {\n",
       "        vertical-align: top;\n",
       "    }\n",
       "\n",
       "    .dataframe thead th {\n",
       "        text-align: right;\n",
       "    }\n",
       "</style>\n",
       "<table border=\"1\" class=\"dataframe\">\n",
       "  <thead>\n",
       "    <tr style=\"text-align: right;\">\n",
       "      <th></th>\n",
       "      <th>wl_1</th>\n",
       "      <th>wl_2</th>\n",
       "      <th>wl_3</th>\n",
       "      <th>wl_4</th>\n",
       "      <th>wl_5</th>\n",
       "      <th>wl_6</th>\n",
       "      <th>wl_7</th>\n",
       "      <th>wl_8</th>\n",
       "      <th>wl_9</th>\n",
       "      <th>wl_10</th>\n",
       "      <th>...</th>\n",
       "      <th>wl_274_uncertainty</th>\n",
       "      <th>wl_275_uncertainty</th>\n",
       "      <th>wl_276_uncertainty</th>\n",
       "      <th>wl_277_uncertainty</th>\n",
       "      <th>wl_278_uncertainty</th>\n",
       "      <th>wl_279_uncertainty</th>\n",
       "      <th>wl_280_uncertainty</th>\n",
       "      <th>wl_281_uncertainty</th>\n",
       "      <th>wl_282_uncertainty</th>\n",
       "      <th>wl_283_uncertainty</th>\n",
       "    </tr>\n",
       "    <tr>\n",
       "      <th>planet_id</th>\n",
       "      <th></th>\n",
       "      <th></th>\n",
       "      <th></th>\n",
       "      <th></th>\n",
       "      <th></th>\n",
       "      <th></th>\n",
       "      <th></th>\n",
       "      <th></th>\n",
       "      <th></th>\n",
       "      <th></th>\n",
       "      <th></th>\n",
       "      <th></th>\n",
       "      <th></th>\n",
       "      <th></th>\n",
       "      <th></th>\n",
       "      <th></th>\n",
       "      <th></th>\n",
       "      <th></th>\n",
       "      <th></th>\n",
       "      <th></th>\n",
       "      <th></th>\n",
       "    </tr>\n",
       "  </thead>\n",
       "  <tbody>\n",
       "    <tr>\n",
       "      <th>1103775</th>\n",
       "      <td>0.016282</td>\n",
       "      <td>0.016137</td>\n",
       "      <td>0.016138</td>\n",
       "      <td>0.016133</td>\n",
       "      <td>0.016124</td>\n",
       "      <td>0.016111</td>\n",
       "      <td>0.016095</td>\n",
       "      <td>0.01608</td>\n",
       "      <td>0.016068</td>\n",
       "      <td>0.016059</td>\n",
       "      <td>...</td>\n",
       "      <td>0.01</td>\n",
       "      <td>0.01</td>\n",
       "      <td>0.01</td>\n",
       "      <td>0.01</td>\n",
       "      <td>0.01</td>\n",
       "      <td>0.01</td>\n",
       "      <td>0.01</td>\n",
       "      <td>0.01</td>\n",
       "      <td>0.01</td>\n",
       "      <td>0.01</td>\n",
       "    </tr>\n",
       "  </tbody>\n",
       "</table>\n",
       "<p>1 rows × 566 columns</p>\n",
       "</div>"
      ],
      "text/plain": [
       "               wl_1      wl_2      wl_3      wl_4      wl_5      wl_6  \\\n",
       "planet_id                                                               \n",
       "1103775    0.016282  0.016137  0.016138  0.016133  0.016124  0.016111   \n",
       "\n",
       "               wl_7     wl_8      wl_9     wl_10  ...  wl_274_uncertainty  \\\n",
       "planet_id                                         ...                       \n",
       "1103775    0.016095  0.01608  0.016068  0.016059  ...                0.01   \n",
       "\n",
       "           wl_275_uncertainty  wl_276_uncertainty  wl_277_uncertainty  \\\n",
       "planet_id                                                               \n",
       "1103775                  0.01                0.01                0.01   \n",
       "\n",
       "           wl_278_uncertainty  wl_279_uncertainty  wl_280_uncertainty  \\\n",
       "planet_id                                                               \n",
       "1103775                  0.01                0.01                0.01   \n",
       "\n",
       "           wl_281_uncertainty  wl_282_uncertainty  wl_283_uncertainty  \n",
       "planet_id                                                              \n",
       "1103775                  0.01                0.01                0.01  \n",
       "\n",
       "[1 rows x 566 columns]"
      ]
     },
     "execution_count": 9,
     "metadata": {},
     "output_type": "execute_result"
    }
   ],
   "source": [
    "# 📤 Post-processing and Prepare Submission\n",
    "\n",
    "def postprocessing(pred_array, index, sigma_pred):\n",
    "    \"\"\"Formats prediction output for submission with fixed or array uncertainty.\"\"\"\n",
    "    columns = [f\"wl_{i+1}\" for i in range(pred_array.shape[1])]\n",
    "    df_pred = pd.DataFrame(pred_array.clip(0, None), index=index, columns=columns)\n",
    "    \n",
    "    if np.isscalar(sigma_pred):\n",
    "        sigma_array = np.full_like(pred_array, sigma_pred)\n",
    "    else:\n",
    "        sigma_array = sigma_pred\n",
    "\n",
    "    df_sigma = pd.DataFrame(sigma_array, index=index, columns=[f\"{c}_uncertainty\" for c in columns])\n",
    "    return pd.concat([df_pred, df_sigma], axis=1)\n",
    "\n",
    "submission = postprocessing(y_test_pred, sample_submission.index, sigma_pred)\n",
    "submission.to_csv('submission.csv')\n",
    "submission.head()"
   ]
  }
 ],
 "metadata": {
  "kaggle": {
   "accelerator": "nvidiaTeslaT4",
   "dataSources": [
    {
     "databundleVersionId": 12846694,
     "sourceId": 101849,
     "sourceType": "competition"
    }
   ],
   "dockerImageVersionId": 31042,
   "isGpuEnabled": true,
   "isInternetEnabled": false,
   "language": "python",
   "sourceType": "notebook"
  },
  "kernelspec": {
   "display_name": "Python 3",
   "language": "python",
   "name": "python3"
  },
  "language_info": {
   "codemirror_mode": {
    "name": "ipython",
    "version": 3
   },
   "file_extension": ".py",
   "mimetype": "text/x-python",
   "name": "python",
   "nbconvert_exporter": "python",
   "pygments_lexer": "ipython3",
   "version": "3.11.11"
  },
  "papermill": {
   "default_parameters": {},
   "duration": 1611.783631,
   "end_time": "2025-07-02T11:48:08.250479",
   "environment_variables": {},
   "exception": null,
   "input_path": "__notebook__.ipynb",
   "output_path": "__notebook__.ipynb",
   "parameters": {},
   "start_time": "2025-07-02T11:21:16.466848",
   "version": "2.6.0"
  }
 },
 "nbformat": 4,
 "nbformat_minor": 5
}
