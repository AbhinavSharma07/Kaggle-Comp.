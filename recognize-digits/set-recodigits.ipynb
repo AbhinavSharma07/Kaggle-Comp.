{
 "cells": [
  {
   "cell_type": "code",
   "execution_count": 1,
   "id": "bddb3c8c",
   "metadata": {
    "execution": {
     "iopub.execute_input": "2025-06-27T07:18:56.003403Z",
     "iopub.status.busy": "2025-06-27T07:18:56.003028Z",
     "iopub.status.idle": "2025-06-27T07:19:37.083045Z",
     "shell.execute_reply": "2025-06-27T07:19:37.076300Z"
    },
    "papermill": {
     "duration": 41.09074,
     "end_time": "2025-06-27T07:19:37.086147",
     "exception": false,
     "start_time": "2025-06-27T07:18:55.995407",
     "status": "completed"
    },
    "tags": []
   },
   "outputs": [],
   "source": [
    "# Basic libraries for data processing\n",
    "import numpy as np\n",
    "import pandas as pd\n",
    "import os\n",
    "import warnings\n",
    "warnings.filterwarnings(\"ignore\")  # Suppress warnings\n",
    "\n",
    "# PyTorch libraries\n",
    "import torch\n",
    "from torch import nn, optim\n",
    "import torch.nn.functional as F\n",
    "from torch.utils.data import DataLoader, Dataset\n",
    "\n",
    "# torchvision for image transformations\n",
    "from torchvision import transforms\n",
    "\n",
    "# Visualization\n",
    "import matplotlib.pyplot as plt\n",
    "import seaborn as sns\n",
    "\n",
    "# Train-test split\n",
    "from sklearn.model_selection import train_test_split"
   ]
  },
  {
   "cell_type": "code",
   "execution_count": 2,
   "id": "7233d61d",
   "metadata": {
    "execution": {
     "iopub.execute_input": "2025-06-27T07:19:37.096417Z",
     "iopub.status.busy": "2025-06-27T07:19:37.095882Z",
     "iopub.status.idle": "2025-06-27T07:19:37.111322Z",
     "shell.execute_reply": "2025-06-27T07:19:37.104667Z"
    },
    "papermill": {
     "duration": 0.02533,
     "end_time": "2025-06-27T07:19:37.114621",
     "exception": false,
     "start_time": "2025-06-27T07:19:37.089291",
     "status": "completed"
    },
    "tags": []
   },
   "outputs": [
    {
     "name": "stdout",
     "output_type": "stream",
     "text": [
      "/kaggle/input/recognize-digits/sample_submission.csv\n",
      "/kaggle/input/recognize-digits/train.csv\n",
      "/kaggle/input/recognize-digits/test.csv\n"
     ]
    }
   ],
   "source": [
    "# Print all files in the input directory (Kaggle environment)\n",
    "for dirname, _, filenames in os.walk('/kaggle/input'):\n",
    "    for filename in filenames:\n",
    "        print(os.path.join(dirname, filename))"
   ]
  },
  {
   "cell_type": "code",
   "execution_count": 3,
   "id": "cda1bd18",
   "metadata": {
    "execution": {
     "iopub.execute_input": "2025-06-27T07:19:37.123622Z",
     "iopub.status.busy": "2025-06-27T07:19:37.123372Z",
     "iopub.status.idle": "2025-06-27T07:19:37.138320Z",
     "shell.execute_reply": "2025-06-27T07:19:37.132012Z"
    },
    "papermill": {
     "duration": 0.023767,
     "end_time": "2025-06-27T07:19:37.140888",
     "exception": false,
     "start_time": "2025-06-27T07:19:37.117121",
     "status": "completed"
    },
    "tags": []
   },
   "outputs": [],
   "source": [
    "# Define a PyTorch Dataset class for digit recognition\n",
    "class DigitDataset(Dataset):\n",
    "    def __init__(self, data, transform=None, has_labels=True):\n",
    "        self.data = data\n",
    "        self.transform = transform\n",
    "        self.has_labels = has_labels\n",
    "\n",
    "        if self.has_labels:\n",
    "            self.labels = data['label'].values\n",
    "            self.images = data.drop('label', axis=1).values\n",
    "        else:\n",
    "            self.images = data.values\n",
    "\n",
    "        self._validate_data()\n",
    "        self.images = self.images.astype(np.uint8)\n",
    "\n",
    "    def _validate_data(self):\n",
    "        expected_cols = 785 if self.has_labels else 784\n",
    "        if len(self.data.columns) != expected_cols:\n",
    "            raise ValueError(f\"Expected {expected_cols} columns, got {len(self.data.columns)}.\")\n",
    "\n",
    "    def __len__(self):\n",
    "        return len(self.images)\n",
    "\n",
    "    def __getitem__(self, idx):\n",
    "        image = self.images[idx].reshape(28, 28, 1)\n",
    "        if self.transform:\n",
    "            image = self.transform(image)\n",
    "        return (image, self.labels[idx]) if self.has_labels else image\n"
   ]
  },
  {
   "cell_type": "code",
   "execution_count": 4,
   "id": "84380573",
   "metadata": {
    "execution": {
     "iopub.execute_input": "2025-06-27T07:19:37.149652Z",
     "iopub.status.busy": "2025-06-27T07:19:37.149394Z",
     "iopub.status.idle": "2025-06-27T07:19:37.166541Z",
     "shell.execute_reply": "2025-06-27T07:19:37.159910Z"
    },
    "papermill": {
     "duration": 0.025785,
     "end_time": "2025-06-27T07:19:37.169293",
     "exception": false,
     "start_time": "2025-06-27T07:19:37.143508",
     "status": "completed"
    },
    "tags": []
   },
   "outputs": [],
   "source": [
    "# Helper function to explore and visualize the dataset\n",
    "def explore_dataset(dataset, name=\"Dataset\", show_images=True):\n",
    "    print(f\"\\n===== {name} Basic Information =====\")\n",
    "    print(f\"Number of samples: {len(dataset)}\")\n",
    "\n",
    "    if hasattr(dataset, 'labels'):\n",
    "        unique_labels, label_counts = np.unique(dataset.labels, return_counts=True)\n",
    "        print(f\"Number of classes: {len(unique_labels)}\")\n",
    "        for label, count in zip(unique_labels, label_counts):\n",
    "            print(f\"Class {label}: {count} samples ({count/len(dataset):.2%})\")\n",
    "\n",
    "        plt.figure(figsize=(10, 5))\n",
    "        sns.barplot(x=unique_labels, y=label_counts)\n",
    "        plt.title(f\"{name} Class Distribution\")\n",
    "        plt.xlabel(\"Class\")\n",
    "        plt.ylabel(\"Samples\")\n",
    "        plt.show()\n",
    "\n",
    "    if show_images:\n",
    "        plt.figure(figsize=(12, 8))\n",
    "        for i in range(min(16, len(dataset))):\n",
    "            plt.subplot(4, 4, i+1)\n",
    "            img, label = dataset[i] if hasattr(dataset, 'labels') else (dataset[i], \"Sample\")\n",
    "            img = img.numpy().transpose(1, 2, 0) if isinstance(img, torch.Tensor) else img\n",
    "            plt.imshow(img.squeeze(), cmap='gray')\n",
    "            plt.title(f\"Label: {label}\")\n",
    "            plt.axis('off')\n",
    "        plt.suptitle(f\"{name} Sample Visualization\", fontsize=16)\n",
    "        plt.tight_layout(rect=[0, 0, 1, 0.96])\n",
    "        plt.show()\n"
   ]
  },
  {
   "cell_type": "code",
   "execution_count": 5,
   "id": "c3284d8f",
   "metadata": {
    "execution": {
     "iopub.execute_input": "2025-06-27T07:19:37.178201Z",
     "iopub.status.busy": "2025-06-27T07:19:37.177965Z",
     "iopub.status.idle": "2025-06-27T07:19:41.671657Z",
     "shell.execute_reply": "2025-06-27T07:19:41.666386Z"
    },
    "papermill": {
     "duration": 4.502614,
     "end_time": "2025-06-27T07:19:41.674773",
     "exception": false,
     "start_time": "2025-06-27T07:19:37.172159",
     "status": "completed"
    },
    "tags": []
   },
   "outputs": [
    {
     "name": "stdout",
     "output_type": "stream",
     "text": [
      "Training data shape: (42000, 785)\n",
      "Test data shape: (28000, 784)\n"
     ]
    }
   ],
   "source": [
    "# Read data\n",
    "train_data = pd.read_csv('/kaggle/input/recognize-digits/train.csv')\n",
    "test_data = pd.read_csv('/kaggle/input/recognize-digits/test.csv')\n",
    "\n",
    "print(f\"Training data shape: {train_data.shape}\")\n",
    "print(f\"Test data shape: {test_data.shape}\")\n",
    "\n",
    "# Split training into train and validation sets\n",
    "train_data, val_data = train_test_split(train_data, test_size=0.2, stratify=train_data['label'], random_state=42)\n",
    "\n",
    "# Image transforms\n",
    "train_transform = transforms.Compose([\n",
    "    transforms.ToTensor(),\n",
    "    transforms.Normalize((0.1307,), (0.3081,)),\n",
    "    transforms.RandomRotation(10),\n",
    "])\n",
    "\n",
    "test_transform = transforms.Compose([\n",
    "    transforms.ToTensor(),\n",
    "    transforms.Normalize((0.1307,), (0.3081,)),\n",
    "])\n"
   ]
  },
  {
   "cell_type": "code",
   "execution_count": 6,
   "id": "1f934975",
   "metadata": {
    "execution": {
     "iopub.execute_input": "2025-06-27T07:19:41.684015Z",
     "iopub.status.busy": "2025-06-27T07:19:41.683757Z",
     "iopub.status.idle": "2025-06-27T07:19:43.810366Z",
     "shell.execute_reply": "2025-06-27T07:19:43.803929Z"
    },
    "papermill": {
     "duration": 2.135737,
     "end_time": "2025-06-27T07:19:43.813290",
     "exception": false,
     "start_time": "2025-06-27T07:19:41.677553",
     "status": "completed"
    },
    "tags": []
   },
   "outputs": [
    {
     "name": "stdout",
     "output_type": "stream",
     "text": [
      "\n",
      "===== Training Set Basic Information =====\n",
      "Number of samples: 33600\n"
     ]
    },
    {
     "name": "stdout",
     "output_type": "stream",
     "text": [
      "Number of classes: 10\n",
      "Class 0: 3305 samples (9.84%)\n",
      "Class 1: 3747 samples (11.15%)\n",
      "Class 2: 3342 samples (9.95%)\n",
      "Class 3: 3481 samples (10.36%)\n",
      "Class 4: 3258 samples (9.70%)\n",
      "Class 5: 3036 samples (9.04%)\n",
      "Class 6: 3310 samples (9.85%)\n",
      "Class 7: 3521 samples (10.48%)\n",
      "Class 8: 3250 samples (9.67%)\n",
      "Class 9: 3350 samples (9.97%)\n"
     ]
    },
    {
     "data": {
      "image/png": "[encoded data removed]",
      "text/plain": [
       "<Figure size 1000x500 with 1 Axes>"
      ]
     },
     "metadata": {},
     "output_type": "display_data"
    },
    {
     "data": {
      "image/png": "[encoded data removed]",
      "text/plain": [
       "<Figure size 1200x800 with 16 Axes>"
      ]
     },
     "metadata": {},
     "output_type": "display_data"
    },
    {
     "name": "stdout",
     "output_type": "stream",
     "text": [
      "\n",
      "===== Validation Set Basic Information =====\n",
      "Number of samples: 8400\n"
     ]
    },
    {
     "name": "stdout",
     "output_type": "stream",
     "text": [
      "Number of classes: 10\n",
      "Class 0: 827 samples (9.85%)\n",
      "Class 1: 937 samples (11.15%)\n",
      "Class 2: 835 samples (9.94%)\n",
      "Class 3: 870 samples (10.36%)\n",
      "Class 4: 814 samples (9.69%)\n",
      "Class 5: 759 samples (9.04%)\n",
      "Class 6: 827 samples (9.85%)\n",
      "Class 7: 880 samples (10.48%)\n",
      "Class 8: 813 samples (9.68%)\n",
      "Class 9: 838 samples (9.98%)\n"
     ]
    },
    {
     "data": {
      "image/png": "[encoded data removed]",
      "text/plain": [
       "<Figure size 1000x500 with 1 Axes>"
      ]
     },
     "metadata": {},
     "output_type": "display_data"
    },
    {
     "name": "stdout",
     "output_type": "stream",
     "text": [
      "\n",
      "===== Test Set Basic Information =====\n",
      "Number of samples: 28000\n"
     ]
    },
    {
     "data": {
      "image/png": "[encoded data removed]",
      "text/plain": [
       "<Figure size 1200x800 with 16 Axes>"
      ]
     },
     "metadata": {},
     "output_type": "display_data"
    }
   ],
   "source": [
    "# Create Dataset instances\n",
    "train_dataset = DigitDataset(train_data, transform=train_transform, has_labels=True)\n",
    "val_dataset = DigitDataset(val_data, transform=test_transform, has_labels=True)\n",
    "test_dataset = DigitDataset(test_data, transform=test_transform, has_labels=False)\n",
    "\n",
    "# Explore datasets\n",
    "explore_dataset(train_dataset, \"Training Set\")\n",
    "explore_dataset(val_dataset, \"Validation Set\", show_images=False)\n",
    "explore_dataset(test_dataset, \"Test Set\")\n",
    "\n",
    "# DataLoaders\n",
    "train_loader = DataLoader(train_dataset, batch_size=64, shuffle=True, num_workers=4)\n",
    "val_loader = DataLoader(val_dataset, batch_size=64, shuffle=False, num_workers=4)\n",
    "test_loader = DataLoader(test_dataset, batch_size=64, shuffle=False, num_workers=4)\n"
   ]
  },
  {
   "cell_type": "code",
   "execution_count": 7,
   "id": "41308dde",
   "metadata": {
    "execution": {
     "iopub.execute_input": "2025-06-27T07:19:43.826646Z",
     "iopub.status.busy": "2025-06-27T07:19:43.826401Z",
     "iopub.status.idle": "2025-06-27T07:19:43.847923Z",
     "shell.execute_reply": "2025-06-27T07:19:43.843557Z"
    },
    "papermill": {
     "duration": 0.032736,
     "end_time": "2025-06-27T07:19:43.850796",
     "exception": false,
     "start_time": "2025-06-27T07:19:43.818060",
     "status": "completed"
    },
    "tags": []
   },
   "outputs": [
    {
     "name": "stdout",
     "output_type": "stream",
     "text": [
      "Net(\n",
      "  (conv1): Conv2d(1, 32, kernel_size=(3, 3), stride=(1, 1), padding=(1, 1))\n",
      "  (bn1): BatchNorm2d(32, eps=1e-05, momentum=0.1, affine=True, track_running_stats=True)\n",
      "  (conv2): Conv2d(32, 64, kernel_size=(3, 3), stride=(1, 1), padding=(1, 1))\n",
      "  (bn2): BatchNorm2d(64, eps=1e-05, momentum=0.1, affine=True, track_running_stats=True)\n",
      "  (pool): MaxPool2d(kernel_size=2, stride=2, padding=0, dilation=1, ceil_mode=False)\n",
      "  (fc1): Linear(in_features=3136, out_features=128, bias=True)\n",
      "  (bn3): BatchNorm1d(128, eps=1e-05, momentum=0.1, affine=True, track_running_stats=True)\n",
      "  (fc2): Linear(in_features=128, out_features=10, bias=True)\n",
      "  (dropout): Dropout(p=0.5, inplace=False)\n",
      ")\n"
     ]
    }
   ],
   "source": [
    "class Net(nn.Module):\n",
    "    def __init__(self):\n",
    "        super(Net, self).__init__()\n",
    "        self.conv1 = nn.Conv2d(1, 32, kernel_size=3, padding=1)\n",
    "        self.bn1 = nn.BatchNorm2d(32)\n",
    "        self.conv2 = nn.Conv2d(32, 64, kernel_size=3, padding=1)\n",
    "        self.bn2 = nn.BatchNorm2d(64)\n",
    "        self.pool = nn.MaxPool2d(2, 2)\n",
    "        self.fc1 = nn.Linear(64 * 7 * 7, 128)\n",
    "        self.bn3 = nn.BatchNorm1d(128)\n",
    "        self.fc2 = nn.Linear(128, 10)\n",
    "        self.dropout = nn.Dropout(0.5)\n",
    "\n",
    "    def forward(self, x):\n",
    "        x = self.pool(F.relu(self.bn1(self.conv1(x))))\n",
    "        x = self.pool(F.relu(self.bn2(self.conv2(x))))\n",
    "        x = x.view(-1, 64 * 7 * 7)\n",
    "        x = F.relu(self.bn3(self.fc1(x)))\n",
    "        x = self.dropout(x)\n",
    "        x = self.fc2(x)\n",
    "        return x\n",
    "\n",
    "# Model setup\n",
    "device = torch.device(\"cuda\" if torch.cuda.is_available() else \"cpu\")\n",
    "model = Net().to(device)\n",
    "print(model)\n"
   ]
  },
  {
   "cell_type": "code",
   "execution_count": 8,
   "id": "3f55a5c3",
   "metadata": {
    "execution": {
     "iopub.execute_input": "2025-06-27T07:19:43.863787Z",
     "iopub.status.busy": "2025-06-27T07:19:43.863536Z",
     "iopub.status.idle": "2025-06-27T07:19:43.875869Z",
     "shell.execute_reply": "2025-06-27T07:19:43.869462Z"
    },
    "papermill": {
     "duration": 0.02284,
     "end_time": "2025-06-27T07:19:43.878355",
     "exception": false,
     "start_time": "2025-06-27T07:19:43.855515",
     "status": "completed"
    },
    "tags": []
   },
   "outputs": [],
   "source": [
    "criterion = nn.CrossEntropyLoss()\n",
    "optimizer = optim.Adam(model.parameters(), lr=0.001)\n",
    "scheduler = optim.lr_scheduler.ReduceLROnPlateau(optimizer, mode='min', factor=0.5, patience=2)\n"
   ]
  },
  {
   "cell_type": "code",
   "execution_count": 9,
   "id": "4d60393e",
   "metadata": {
    "execution": {
     "iopub.execute_input": "2025-06-27T07:19:43.891465Z",
     "iopub.status.busy": "2025-06-27T07:19:43.891189Z",
     "iopub.status.idle": "2025-06-27T07:19:43.908204Z",
     "shell.execute_reply": "2025-06-27T07:19:43.902408Z"
    },
    "papermill": {
     "duration": 0.02772,
     "end_time": "2025-06-27T07:19:43.910940",
     "exception": false,
     "start_time": "2025-06-27T07:19:43.883220",
     "status": "completed"
    },
    "tags": []
   },
   "outputs": [],
   "source": [
    "def train_model(model, train_loader, val_loader, criterion, optimizer, scheduler, num_epochs=10):\n",
    "    best_val_loss = float('inf')\n",
    "    best_accuracy = 0.0\n",
    "    epochs_no_improve = 0\n",
    "    early_stop_patience = 5\n",
    "\n",
    "    for epoch in range(1, num_epochs + 1):\n",
    "        model.train()\n",
    "        train_loss = 0.0\n",
    "        for batch_idx, (images, labels) in enumerate(train_loader):\n",
    "            images, labels = images.to(device), labels.to(device)\n",
    "\n",
    "            optimizer.zero_grad()\n",
    "            outputs = model(images)\n",
    "            loss = criterion(outputs, labels)\n",
    "            loss.backward()\n",
    "            optimizer.step()\n",
    "            train_loss += loss.item() * images.size(0)\n",
    "\n",
    "        train_loss /= len(train_loader.dataset)\n",
    "\n",
    "        # Validation\n",
    "        model.eval()\n",
    "        val_loss, correct = 0.0, 0\n",
    "        with torch.no_grad():\n",
    "            for images, labels in val_loader:\n",
    "                images, labels = images.to(device), labels.to(device)\n",
    "                outputs = model(images)\n",
    "                loss = criterion(outputs, labels)\n",
    "                val_loss += loss.item() * images.size(0)\n",
    "                _, preds = torch.max(outputs, 1)\n",
    "                correct += (preds == labels).sum().item()\n",
    "\n",
    "        val_loss /= len(val_loader.dataset)\n",
    "        val_accuracy = correct / len(val_loader.dataset)\n",
    "        scheduler.step(val_loss)\n",
    "\n",
    "        print(f'Epoch {epoch} - Train Loss: {train_loss:.4f} | Val Loss: {val_loss:.4f} | Val Acc: {val_accuracy:.4f}')\n",
    "\n",
    "        if val_accuracy > best_accuracy:\n",
    "            best_accuracy = val_accuracy\n",
    "            torch.save(model.state_dict(), 'best_model.pth')\n",
    "            epochs_no_improve = 0\n",
    "            print(\"✅ Model improved, saving.\")\n",
    "        else:\n",
    "            epochs_no_improve += 1\n",
    "            print(f\"⏳ Early stop counter: {epochs_no_improve}/{early_stop_patience}\")\n",
    "            if epochs_no_improve >= early_stop_patience:\n",
    "                print(\"🛑 Early stopping triggered.\")\n",
    "                break\n",
    "\n",
    "    print(f\"Training complete. Best Val Accuracy: {best_accuracy:.4f}\")\n"
   ]
  },
  {
   "cell_type": "code",
   "execution_count": 10,
   "id": "85013992",
   "metadata": {
    "execution": {
     "iopub.execute_input": "2025-06-27T07:19:43.923535Z",
     "iopub.status.busy": "2025-06-27T07:19:43.923286Z",
     "iopub.status.idle": "2025-06-27T07:23:11.593273Z",
     "shell.execute_reply": "2025-06-27T07:23:11.587082Z"
    },
    "papermill": {
     "duration": 207.680628,
     "end_time": "2025-06-27T07:23:11.596235",
     "exception": false,
     "start_time": "2025-06-27T07:19:43.915607",
     "status": "completed"
    },
    "tags": []
   },
   "outputs": [
    {
     "name": "stdout",
     "output_type": "stream",
     "text": [
      "Epoch 1 - Train Loss: 0.2333 | Val Loss: 0.0651 | Val Acc: 0.9801\n"
     ]
    },
    {
     "name": "stdout",
     "output_type": "stream",
     "text": [
      "✅ Model improved, saving.\n"
     ]
    },
    {
     "name": "stdout",
     "output_type": "stream",
     "text": [
      "Epoch 2 - Train Loss: 0.0880 | Val Loss: 0.0447 | Val Acc: 0.9854\n"
     ]
    },
    {
     "name": "stdout",
     "output_type": "stream",
     "text": [
      "✅ Model improved, saving.\n"
     ]
    },
    {
     "name": "stdout",
     "output_type": "stream",
     "text": [
      "Epoch 3 - Train Loss: 0.0730 | Val Loss: 0.0357 | Val Acc: 0.9881\n"
     ]
    },
    {
     "name": "stdout",
     "output_type": "stream",
     "text": [
      "✅ Model improved, saving.\n"
     ]
    },
    {
     "name": "stdout",
     "output_type": "stream",
     "text": [
      "Epoch 4 - Train Loss: 0.0638 | Val Loss: 0.0341 | Val Acc: 0.9888\n"
     ]
    },
    {
     "name": "stdout",
     "output_type": "stream",
     "text": [
      "✅ Model improved, saving.\n"
     ]
    },
    {
     "name": "stdout",
     "output_type": "stream",
     "text": [
      "Epoch 5 - Train Loss: 0.0545 | Val Loss: 0.0345 | Val Acc: 0.9894\n"
     ]
    },
    {
     "name": "stdout",
     "output_type": "stream",
     "text": [
      "✅ Model improved, saving.\n"
     ]
    },
    {
     "name": "stdout",
     "output_type": "stream",
     "text": [
      "Epoch 6 - Train Loss: 0.0495 | Val Loss: 0.0317 | Val Acc: 0.9908\n"
     ]
    },
    {
     "name": "stdout",
     "output_type": "stream",
     "text": [
      "✅ Model improved, saving.\n"
     ]
    },
    {
     "name": "stdout",
     "output_type": "stream",
     "text": [
      "Epoch 7 - Train Loss: 0.0451 | Val Loss: 0.0311 | Val Acc: 0.9911\n"
     ]
    },
    {
     "name": "stdout",
     "output_type": "stream",
     "text": [
      "✅ Model improved, saving.\n"
     ]
    },
    {
     "name": "stdout",
     "output_type": "stream",
     "text": [
      "Epoch 8 - Train Loss: 0.0417 | Val Loss: 0.0281 | Val Acc: 0.9918\n"
     ]
    },
    {
     "name": "stdout",
     "output_type": "stream",
     "text": [
      "✅ Model improved, saving.\n"
     ]
    },
    {
     "name": "stdout",
     "output_type": "stream",
     "text": [
      "Epoch 9 - Train Loss: 0.0392 | Val Loss: 0.0287 | Val Acc: 0.9904\n",
      "⏳ Early stop counter: 1/5\n"
     ]
    },
    {
     "name": "stdout",
     "output_type": "stream",
     "text": [
      "Epoch 10 - Train Loss: 0.0362 | Val Loss: 0.0259 | Val Acc: 0.9921\n"
     ]
    },
    {
     "name": "stdout",
     "output_type": "stream",
     "text": [
      "✅ Model improved, saving.\n"
     ]
    },
    {
     "name": "stdout",
     "output_type": "stream",
     "text": [
      "Epoch 11 - Train Loss: 0.0352 | Val Loss: 0.0261 | Val Acc: 0.9924\n"
     ]
    },
    {
     "name": "stdout",
     "output_type": "stream",
     "text": [
      "✅ Model improved, saving.\n"
     ]
    },
    {
     "name": "stdout",
     "output_type": "stream",
     "text": [
      "Epoch 12 - Train Loss: 0.0313 | Val Loss: 0.0283 | Val Acc: 0.9915\n",
      "⏳ Early stop counter: 1/5\n"
     ]
    },
    {
     "name": "stdout",
     "output_type": "stream",
     "text": [
      "Epoch 13 - Train Loss: 0.0322 | Val Loss: 0.0259 | Val Acc: 0.9927\n"
     ]
    },
    {
     "name": "stdout",
     "output_type": "stream",
     "text": [
      "✅ Model improved, saving.\n"
     ]
    },
    {
     "name": "stdout",
     "output_type": "stream",
     "text": [
      "Epoch 14 - Train Loss: 0.0286 | Val Loss: 0.0242 | Val Acc: 0.9935\n"
     ]
    },
    {
     "name": "stdout",
     "output_type": "stream",
     "text": [
      "✅ Model improved, saving.\n"
     ]
    },
    {
     "name": "stdout",
     "output_type": "stream",
     "text": [
      "Epoch 15 - Train Loss: 0.0282 | Val Loss: 0.0271 | Val Acc: 0.9918\n",
      "⏳ Early stop counter: 1/5\n"
     ]
    },
    {
     "name": "stdout",
     "output_type": "stream",
     "text": [
      "Epoch 16 - Train Loss: 0.0266 | Val Loss: 0.0253 | Val Acc: 0.9926\n",
      "⏳ Early stop counter: 2/5\n"
     ]
    },
    {
     "name": "stdout",
     "output_type": "stream",
     "text": [
      "Epoch 17 - Train Loss: 0.0249 | Val Loss: 0.0256 | Val Acc: 0.9939\n"
     ]
    },
    {
     "name": "stdout",
     "output_type": "stream",
     "text": [
      "✅ Model improved, saving.\n"
     ]
    },
    {
     "name": "stdout",
     "output_type": "stream",
     "text": [
      "Epoch 18 - Train Loss: 0.0203 | Val Loss: 0.0236 | Val Acc: 0.9936\n",
      "⏳ Early stop counter: 1/5\n"
     ]
    },
    {
     "name": "stdout",
     "output_type": "stream",
     "text": [
      "Epoch 19 - Train Loss: 0.0177 | Val Loss: 0.0249 | Val Acc: 0.9926\n",
      "⏳ Early stop counter: 2/5\n"
     ]
    },
    {
     "name": "stdout",
     "output_type": "stream",
     "text": [
      "Epoch 20 - Train Loss: 0.0164 | Val Loss: 0.0245 | Val Acc: 0.9932\n",
      "⏳ Early stop counter: 3/5\n",
      "Training complete. Best Val Accuracy: 0.9939\n"
     ]
    }
   ],
   "source": [
    "train_model(\n",
    "    model=model,\n",
    "    train_loader=train_loader,\n",
    "    val_loader=val_loader,\n",
    "    criterion=criterion,\n",
    "    optimizer=optimizer,\n",
    "    scheduler=scheduler,\n",
    "    num_epochs=20\n",
    ")\n"
   ]
  },
  {
   "cell_type": "code",
   "execution_count": 11,
   "id": "b8fae305",
   "metadata": {
    "execution": {
     "iopub.execute_input": "2025-06-27T07:23:11.616006Z",
     "iopub.status.busy": "2025-06-27T07:23:11.615717Z",
     "iopub.status.idle": "2025-06-27T07:23:14.273521Z",
     "shell.execute_reply": "2025-06-27T07:23:14.267926Z"
    },
    "papermill": {
     "duration": 2.672724,
     "end_time": "2025-06-27T07:23:14.276505",
     "exception": false,
     "start_time": "2025-06-27T07:23:11.603781",
     "status": "completed"
    },
    "tags": []
   },
   "outputs": [
    {
     "name": "stdout",
     "output_type": "stream",
     "text": [
      "Sample predictions:\n"
     ]
    },
    {
     "name": "stdout",
     "output_type": "stream",
     "text": [
      "   ImageId  Label\n",
      "0        1      2\n",
      "1        2      0\n",
      "2        3      9\n",
      "3        4      9\n",
      "4        5      3\n"
     ]
    }
   ],
   "source": [
    "# Load best model\n",
    "model.load_state_dict(torch.load('best_model.pth'))\n",
    "\n",
    "# Prediction on test data\n",
    "def predict_test(model, test_loader, device):\n",
    "    model.eval()\n",
    "    predictions = []\n",
    "    with torch.no_grad():\n",
    "        for images in test_loader:\n",
    "            if isinstance(images, tuple):  # In case of (img, None)\n",
    "                images = images[0]\n",
    "            images = images.to(device)\n",
    "            outputs = model(images)\n",
    "            _, preds = torch.max(outputs, 1)\n",
    "            predictions.extend(preds.cpu().numpy())\n",
    "    return predictions\n",
    "\n",
    "# Run prediction\n",
    "test_predictions = predict_test(model, test_loader, device)\n",
    "\n",
    "# Save to submission file\n",
    "submission = pd.DataFrame({\n",
    "    'ImageId': range(1, len(test_predictions) + 1),\n",
    "    'Label': test_predictions\n",
    "})\n",
    "submission.to_csv('submission.csv', index=False)\n",
    "\n",
    "# Show first few predictions\n",
    "print(\"Sample predictions:\")\n",
    "print(submission.head())"
   ]
  }
 ],
 "metadata": {
  "kaggle": {
   "accelerator": "tpu1vmV38",
   "dataSources": [
    {
     "databundleVersionId": 12326477,
     "sourceId": 102433,
     "sourceType": "competition"
    }
   ],
   "dockerImageVersionId": 31042,
   "isGpuEnabled": false,
   "isInternetEnabled": true,
   "language": "python",
   "sourceType": "notebook"
  },
  "kernelspec": {
   "display_name": "Python 3",
   "language": "python",
   "name": "python3"
  },
  "language_info": {
   "codemirror_mode": {
    "name": "ipython",
    "version": 3
   },
   "file_extension": ".py",
   "mimetype": "text/x-python",
   "name": "python",
   "nbconvert_exporter": "python",
   "pygments_lexer": "ipython3",
   "version": "3.10.17"
  },
  "papermill": {
   "default_parameters": {},
   "duration": 263.252038,
   "end_time": "2025-06-27T07:23:16.013669",
   "environment_variables": {},
   "exception": null,
   "input_path": "__notebook__.ipynb",
   "output_path": "__notebook__.ipynb",
   "parameters": {},
   "start_time": "2025-06-27T07:18:52.761631",
   "version": "2.6.0"
  }
 },
 "nbformat": 4,
 "nbformat_minor": 5
}
