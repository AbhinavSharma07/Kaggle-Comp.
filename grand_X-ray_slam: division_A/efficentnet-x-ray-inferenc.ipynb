{
 "cells": [
  {
   "cell_type": "code",
   "execution_count": 1,
   "id": "0810a1da",
   "metadata": {
    "_cell_guid": "b1076dfc-b9ad-4769-8c92-a6c4dae69d19",
    "_uuid": "8f2839f25d086af736a60e9eeb907d3b93b6e0e5",
    "execution": {
     "iopub.execute_input": "2025-08-29T08:58:39.076693Z",
     "iopub.status.busy": "2025-08-29T08:58:39.076430Z",
     "iopub.status.idle": "2025-08-29T09:11:51.099558Z",
     "shell.execute_reply": "2025-08-29T09:11:51.098630Z"
    },
    "papermill": {
     "duration": 792.027642,
     "end_time": "2025-08-29T09:11:51.100901",
     "exception": false,
     "start_time": "2025-08-29T08:58:39.073259",
     "status": "completed"
    },
    "tags": []
   },
   "outputs": [
    {
     "name": "stdout",
     "output_type": "stream",
     "text": [
      "✅ Submission will follow sample format with 14 labels: ['Atelectasis', 'Cardiomegaly', 'Consolidation', 'Edema', 'Enlarged Cardiomediastinum', 'Fracture', 'Lung Lesion', 'Lung Opacity', 'No Finding', 'Pleural Effusion', 'Pleural Other', 'Pneumonia', 'Pneumothorax', 'Support Devices']\n"
     ]
    },
    {
     "name": "stderr",
     "output_type": "stream",
     "text": [
      "Predicting: 100%|██████████| 1445/1445 [12:55<00:00,  1.86it/s]\n"
     ]
    },
    {
     "name": "stdout",
     "output_type": "stream",
     "text": [
      " Submission saved: (46233, 15)\n"
     ]
    }
   ],
   "source": [
    "# ==============================\n",
    "#  Inference (Match Sample Submission)\n",
    "# ==============================\n",
    "import pandas as pd\n",
    "import numpy as np\n",
    "import torch\n",
    "import torch.nn as nn\n",
    "from torch.utils.data import DataLoader\n",
    "import torchvision.transforms as transforms\n",
    "import cv2\n",
    "from PIL import Image\n",
    "from tqdm import tqdm\n",
    "import timm\n",
    "import os\n",
    "\n",
    "# Config\n",
    "class Config:\n",
    "    BASE_PATH = '/kaggle/input/grand-xray-slam-division-a'\n",
    "    TRAIN_CSV = f'{BASE_PATH}/train1.csv'\n",
    "    TEST_DIR = f'{BASE_PATH}/test1'\n",
    "    SAMPLE_SUB = f'{BASE_PATH}/sample_submission_1.csv'\n",
    "    IMG_SIZE = 128\n",
    "    BATCH_SIZE = 32\n",
    "    NUM_WORKERS = 4\n",
    "    PIN_MEMORY = True\n",
    "    NON_BLOCKING = True\n",
    "    USE_AMP = True\n",
    "    DEVICE = torch.device('cuda' if torch.cuda.is_available() else 'cpu')\n",
    "\n",
    "# Dataset\n",
    "class FastChestXRayDataset(torch.utils.data.Dataset):\n",
    "    def __init__(self, df, image_dir, transform=None):\n",
    "        self.df = df.reset_index(drop=True)\n",
    "        self.image_dir = image_dir\n",
    "        self.transform = transform\n",
    "\n",
    "    def __len__(self):\n",
    "        return len(self.df)\n",
    "\n",
    "    def __getitem__(self, idx):\n",
    "        row = self.df.iloc[idx]\n",
    "        # Use exactly the column name from sample submission\n",
    "        img_name = row[self.df.columns[0]]\n",
    "        img_path = os.path.join(self.image_dir, img_name)\n",
    "\n",
    "        image = cv2.imread(img_path, cv2.IMREAD_COLOR)\n",
    "        if image is None:\n",
    "            image = np.zeros((Config.IMG_SIZE, Config.IMG_SIZE, 3), dtype=np.uint8)\n",
    "        else:\n",
    "            image = cv2.cvtColor(image, cv2.COLOR_BGR2RGB)\n",
    "            image = cv2.resize(image, (Config.IMG_SIZE, Config.IMG_SIZE))\n",
    "        image = Image.fromarray(image)\n",
    "\n",
    "        if self.transform:\n",
    "            image = self.transform(image)\n",
    "\n",
    "        return image, img_name\n",
    "\n",
    "# Transform\n",
    "val_transform = transforms.Compose([\n",
    "    transforms.ToTensor(),\n",
    "    transforms.Normalize(mean=[0.485, 0.456, 0.406], std=[0.229, 0.224, 0.225])\n",
    "])\n",
    "\n",
    "# Model\n",
    "class FastChestXRayModel(nn.Module):\n",
    "    def __init__(self, model_name='efficientnet_b0', num_classes=14, pretrained=False):\n",
    "        super(FastChestXRayModel, self).__init__()\n",
    "        self.backbone = timm.create_model(model_name, pretrained=pretrained, num_classes=0)\n",
    "        feature_dim = self.backbone.num_features\n",
    "        self.classifier = nn.Sequential(\n",
    "            nn.Dropout(0.2),\n",
    "            nn.Linear(feature_dim, 256),\n",
    "            nn.ReLU(inplace=True),\n",
    "            nn.Dropout(0.1),\n",
    "            nn.Linear(256, num_classes)\n",
    "        )\n",
    "\n",
    "    def forward(self, x):\n",
    "        features = self.backbone(x)\n",
    "        if len(features.shape) > 2:\n",
    "            features = torch.flatten(features, 1)\n",
    "        return self.classifier(features)\n",
    "\n",
    "# ==============================\n",
    "#  Detect condition labels\n",
    "# ==============================\n",
    "train_df = pd.read_csv(Config.TRAIN_CSV)\n",
    "sample_sub = pd.read_csv(Config.SAMPLE_SUB)\n",
    "\n",
    "# Use only conditions present in sample_sub (ensures matching order)\n",
    "condition_labels = [col for col in sample_sub.columns if col != sample_sub.columns[0]]\n",
    "num_classes = len(condition_labels)\n",
    "print(f\"✅ Submission will follow sample format with {num_classes} labels: {condition_labels}\")\n",
    "\n",
    "# ==============================\n",
    "#  Inference\n",
    "# ==============================\n",
    "test_dataset = FastChestXRayDataset(sample_sub, Config.TEST_DIR, val_transform)\n",
    "test_loader = DataLoader(\n",
    "    test_dataset, \n",
    "    batch_size=Config.BATCH_SIZE, \n",
    "    shuffle=False,\n",
    "    num_workers=Config.NUM_WORKERS, \n",
    "    pin_memory=Config.PIN_MEMORY\n",
    ")\n",
    "\n",
    "# Load model\n",
    "model = FastChestXRayModel('efficientnet_b0', num_classes=num_classes, pretrained=False)\n",
    "model.load_state_dict(torch.load('/kaggle/input/efficentnet-x-ray-a/best_fast_model.pth', map_location=Config.DEVICE), strict=False)\n",
    "model = model.to(Config.DEVICE)\n",
    "model.eval()\n",
    "\n",
    "# Predict\n",
    "predictions = []\n",
    "with torch.no_grad():\n",
    "    for images, _ in tqdm(test_loader, desc='Predicting'):\n",
    "        images = images.to(Config.DEVICE, non_blocking=Config.NON_BLOCKING)\n",
    "        if Config.USE_AMP:\n",
    "            with torch.autocast(device_type='cuda'):\n",
    "                outputs = torch.sigmoid(model(images))\n",
    "        else:\n",
    "            outputs = torch.sigmoid(model(images))\n",
    "        predictions.append(outputs.cpu().numpy())\n",
    "\n",
    "predictions = np.vstack(predictions)\n",
    "\n",
    "# ==============================\n",
    "# Build submission exactly like sample\n",
    "# ==============================\n",
    "submission = sample_sub.copy()\n",
    "for i, condition in enumerate(condition_labels):\n",
    "    submission[condition] = predictions[:, i]\n",
    "\n",
    "submission.to_csv('submission.csv', index=False)\n",
    "print(\" Submission saved:\", submission.shape)\n"
   ]
  },
  {
   "cell_type": "code",
   "execution_count": null,
   "id": "e077c257",
   "metadata": {
    "papermill": {
     "duration": 0.019727,
     "end_time": "2025-08-29T09:11:51.142124",
     "exception": false,
     "start_time": "2025-08-29T09:11:51.122397",
     "status": "completed"
    },
    "tags": []
   },
   "outputs": [],
   "source": []
  }
 ],
 "metadata": {
  "kaggle": {
   "accelerator": "gpu",
   "dataSources": [
    {
     "databundleVersionId": 13449579,
     "sourceId": 112899,
     "sourceType": "competition"
    },
    {
     "sourceId": 258827960,
     "sourceType": "kernelVersion"
    }
   ],
   "dockerImageVersionId": 31090,
   "isGpuEnabled": true,
   "isInternetEnabled": true,
   "language": "python",
   "sourceType": "notebook"
  },
  "kernelspec": {
   "display_name": "Python 3",
   "language": "python",
   "name": "python3"
  },
  "language_info": {
   "codemirror_mode": {
    "name": "ipython",
    "version": 3
   },
   "file_extension": ".py",
   "mimetype": "text/x-python",
   "name": "python",
   "nbconvert_exporter": "python",
   "pygments_lexer": "ipython3",
   "version": "3.11.13"
  },
  "papermill": {
   "default_parameters": {},
   "duration": 798.969436,
   "end_time": "2025-08-29T09:11:53.986714",
   "environment_variables": {},
   "exception": null,
   "input_path": "__notebook__.ipynb",
   "output_path": "__notebook__.ipynb",
   "parameters": {},
   "start_time": "2025-08-29T08:58:35.017278",
   "version": "2.6.0"
  }
 },
 "nbformat": 4,
 "nbformat_minor": 5
}
