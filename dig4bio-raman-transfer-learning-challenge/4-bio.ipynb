{
 "cells": [
  {
   "cell_type": "code",
   "execution_count": 1,
   "id": "09f1a899",
   "metadata": {
    "execution": {
     "iopub.execute_input": "2025-07-07T11:50:44.202134Z",
     "iopub.status.busy": "2025-07-07T11:50:44.201809Z",
     "iopub.status.idle": "2025-07-07T11:50:46.875168Z",
     "shell.execute_reply": "2025-07-07T11:50:46.874389Z"
    },
    "papermill": {
     "duration": 2.678247,
     "end_time": "2025-07-07T11:50:46.876657",
     "exception": false,
     "start_time": "2025-07-07T11:50:44.198410",
     "status": "completed"
    },
    "tags": []
   },
   "outputs": [],
   "source": [
    "# Data manipulation & visualization libraries\n",
    "import numpy as np\n",
    "import pandas as pd\n",
    "import matplotlib.pyplot as plt\n",
    "import seaborn as sns\n",
    "\n",
    "# Suppress warnings for clean output\n",
    "import warnings\n",
    "warnings.filterwarnings(\"ignore\")"
   ]
  },
  {
   "cell_type": "code",
   "execution_count": 2,
   "id": "a6f1f626",
   "metadata": {
    "execution": {
     "iopub.execute_input": "2025-07-07T11:50:46.881557Z",
     "iopub.status.busy": "2025-07-07T11:50:46.881257Z",
     "iopub.status.idle": "2025-07-07T11:50:47.053967Z",
     "shell.execute_reply": "2025-07-07T11:50:47.053254Z"
    },
    "papermill": {
     "duration": 0.176201,
     "end_time": "2025-07-07T11:50:47.055135",
     "exception": false,
     "start_time": "2025-07-07T11:50:46.878934",
     "status": "completed"
    },
    "tags": []
   },
   "outputs": [
    {
     "data": {
      "text/html": [
       "<div>\n",
       "<style scoped>\n",
       "    .dataframe tbody tr th:only-of-type {\n",
       "        vertical-align: middle;\n",
       "    }\n",
       "\n",
       "    .dataframe tbody tr th {\n",
       "        vertical-align: top;\n",
       "    }\n",
       "\n",
       "    .dataframe thead th {\n",
       "        text-align: right;\n",
       "    }\n",
       "</style>\n",
       "<table border=\"1\" class=\"dataframe\">\n",
       "  <thead>\n",
       "    <tr style=\"text-align: right;\">\n",
       "      <th></th>\n",
       "      <th>Unnamed: 0</th>\n",
       "      <th>Unnamed: 1</th>\n",
       "      <th>Unnamed: 2</th>\n",
       "      <th>Unnamed: 3</th>\n",
       "      <th>Unnamed: 4</th>\n",
       "      <th>Unnamed: 5</th>\n",
       "      <th>Unnamed: 6</th>\n",
       "      <th>Unnamed: 7</th>\n",
       "      <th>Unnamed: 8</th>\n",
       "      <th>Unnamed: 9</th>\n",
       "      <th>...</th>\n",
       "      <th>Unnamed: 2043</th>\n",
       "      <th>Unnamed: 2044</th>\n",
       "      <th>Unnamed: 2045</th>\n",
       "      <th>Unnamed: 2046</th>\n",
       "      <th>Unnamed: 2047</th>\n",
       "      <th>Unnamed: 2048</th>\n",
       "      <th>Analyte concentration</th>\n",
       "      <th>Glucose (g/L)</th>\n",
       "      <th>Sodium Acetate (g/L)</th>\n",
       "      <th>Magnesium Acetate (g/L)</th>\n",
       "    </tr>\n",
       "  </thead>\n",
       "  <tbody>\n",
       "    <tr>\n",
       "      <th>0</th>\n",
       "      <td>sample1</td>\n",
       "      <td>[6293</td>\n",
       "      <td>7095</td>\n",
       "      <td>8325</td>\n",
       "      <td>9934</td>\n",
       "      <td>11917</td>\n",
       "      <td>14394</td>\n",
       "      <td>18925</td>\n",
       "      <td>34874</td>\n",
       "      <td>65535</td>\n",
       "      <td>...</td>\n",
       "      <td>1616</td>\n",
       "      <td>1024</td>\n",
       "      <td>1013</td>\n",
       "      <td>1067</td>\n",
       "      <td>1277</td>\n",
       "      <td>5618]</td>\n",
       "      <td>sample1</td>\n",
       "      <td>4.619282</td>\n",
       "      <td>1.937172</td>\n",
       "      <td>1.052928</td>\n",
       "    </tr>\n",
       "    <tr>\n",
       "      <th>1</th>\n",
       "      <td>NaN</td>\n",
       "      <td>[6505</td>\n",
       "      <td>7332</td>\n",
       "      <td>8482</td>\n",
       "      <td>10175</td>\n",
       "      <td>12132</td>\n",
       "      <td>14792</td>\n",
       "      <td>19594</td>\n",
       "      <td>35813</td>\n",
       "      <td>65535</td>\n",
       "      <td>...</td>\n",
       "      <td>1655</td>\n",
       "      <td>1004</td>\n",
       "      <td>1032</td>\n",
       "      <td>1049</td>\n",
       "      <td>1271</td>\n",
       "      <td>5756]</td>\n",
       "      <td>sample2</td>\n",
       "      <td>5.782718</td>\n",
       "      <td>1.175902</td>\n",
       "      <td>1.214738</td>\n",
       "    </tr>\n",
       "    <tr>\n",
       "      <th>2</th>\n",
       "      <td>sample2</td>\n",
       "      <td>[6478</td>\n",
       "      <td>7158</td>\n",
       "      <td>8444</td>\n",
       "      <td>9979</td>\n",
       "      <td>11932</td>\n",
       "      <td>14503</td>\n",
       "      <td>19309</td>\n",
       "      <td>35118</td>\n",
       "      <td>65535</td>\n",
       "      <td>...</td>\n",
       "      <td>1651</td>\n",
       "      <td>1024</td>\n",
       "      <td>1009</td>\n",
       "      <td>1049</td>\n",
       "      <td>1275</td>\n",
       "      <td>5685]</td>\n",
       "      <td>sample3</td>\n",
       "      <td>3.953448</td>\n",
       "      <td>1.350473</td>\n",
       "      <td>2.132459</td>\n",
       "    </tr>\n",
       "    <tr>\n",
       "      <th>3</th>\n",
       "      <td>NaN</td>\n",
       "      <td>[6511</td>\n",
       "      <td>7308</td>\n",
       "      <td>8520</td>\n",
       "      <td>10205</td>\n",
       "      <td>12260</td>\n",
       "      <td>14777</td>\n",
       "      <td>19569</td>\n",
       "      <td>35825</td>\n",
       "      <td>65535</td>\n",
       "      <td>...</td>\n",
       "      <td>1623</td>\n",
       "      <td>1021</td>\n",
       "      <td>1008</td>\n",
       "      <td>1026</td>\n",
       "      <td>1250</td>\n",
       "      <td>5839]</td>\n",
       "      <td>sample4</td>\n",
       "      <td>2.038084</td>\n",
       "      <td>0.948045</td>\n",
       "      <td>1.380240</td>\n",
       "    </tr>\n",
       "    <tr>\n",
       "      <th>4</th>\n",
       "      <td>sample3</td>\n",
       "      <td>[6561</td>\n",
       "      <td>7342</td>\n",
       "      <td>8562</td>\n",
       "      <td>10166</td>\n",
       "      <td>12202</td>\n",
       "      <td>14838</td>\n",
       "      <td>19593</td>\n",
       "      <td>35869</td>\n",
       "      <td>65535</td>\n",
       "      <td>...</td>\n",
       "      <td>1638</td>\n",
       "      <td>1010</td>\n",
       "      <td>1012</td>\n",
       "      <td>1047</td>\n",
       "      <td>1307</td>\n",
       "      <td>5801]</td>\n",
       "      <td>sample5</td>\n",
       "      <td>4.978295</td>\n",
       "      <td>0.459765</td>\n",
       "      <td>2.539622</td>\n",
       "    </tr>\n",
       "  </tbody>\n",
       "</table>\n",
       "<p>5 rows × 2053 columns</p>\n",
       "</div>"
      ],
      "text/plain": [
       "  Unnamed: 0 Unnamed: 1  Unnamed: 2  Unnamed: 3  Unnamed: 4  Unnamed: 5  \\\n",
       "0   sample1       [6293        7095        8325        9934       11917   \n",
       "1        NaN      [6505        7332        8482       10175       12132   \n",
       "2    sample2      [6478        7158        8444        9979       11932   \n",
       "3        NaN      [6511        7308        8520       10205       12260   \n",
       "4   sample3       [6561        7342        8562       10166       12202   \n",
       "\n",
       "   Unnamed: 6  Unnamed: 7  Unnamed: 8  Unnamed: 9  ...  Unnamed: 2043  \\\n",
       "0       14394       18925       34874       65535  ...           1616   \n",
       "1       14792       19594       35813       65535  ...           1655   \n",
       "2       14503       19309       35118       65535  ...           1651   \n",
       "3       14777       19569       35825       65535  ...           1623   \n",
       "4       14838       19593       35869       65535  ...           1638   \n",
       "\n",
       "   Unnamed: 2044  Unnamed: 2045  Unnamed: 2046  Unnamed: 2047  Unnamed: 2048  \\\n",
       "0           1024           1013           1067           1277          5618]   \n",
       "1           1004           1032           1049           1271          5756]   \n",
       "2           1024           1009           1049           1275          5685]   \n",
       "3           1021           1008           1026           1250          5839]   \n",
       "4           1010           1012           1047           1307          5801]   \n",
       "\n",
       "   Analyte concentration  Glucose (g/L)  Sodium Acetate (g/L)  \\\n",
       "0                sample1       4.619282              1.937172   \n",
       "1                sample2       5.782718              1.175902   \n",
       "2                sample3       3.953448              1.350473   \n",
       "3                sample4       2.038084              0.948045   \n",
       "4                sample5       4.978295              0.459765   \n",
       "\n",
       "   Magnesium Acetate (g/L)  \n",
       "0                 1.052928  \n",
       "1                 1.214738  \n",
       "2                 2.132459  \n",
       "3                 1.380240  \n",
       "4                 2.539622  \n",
       "\n",
       "[5 rows x 2053 columns]"
      ]
     },
     "execution_count": 2,
     "metadata": {},
     "output_type": "execute_result"
    }
   ],
   "source": [
    "# Load the transfer plate CSV file\n",
    "transfer_df = pd.read_csv('/kaggle/input/dig-4-bio-raman-transfer-learning-challenge/transfer_plate.csv')\n",
    "\n",
    "# Display the first few rows\n",
    "transfer_df.head()"
   ]
  },
  {
   "cell_type": "code",
   "execution_count": 3,
   "id": "7a1cd1cb",
   "metadata": {
    "execution": {
     "iopub.execute_input": "2025-07-07T11:50:47.060200Z",
     "iopub.status.busy": "2025-07-07T11:50:47.060008Z",
     "iopub.status.idle": "2025-07-07T11:50:47.069830Z",
     "shell.execute_reply": "2025-07-07T11:50:47.069025Z"
    },
    "papermill": {
     "duration": 0.013555,
     "end_time": "2025-07-07T11:50:47.071010",
     "exception": false,
     "start_time": "2025-07-07T11:50:47.057455",
     "status": "completed"
    },
    "tags": []
   },
   "outputs": [
    {
     "name": "stdout",
     "output_type": "stream",
     "text": [
      "Missing values per column:\n",
      "Glucose (g/L)              96\n",
      "Sodium Acetate (g/L)       96\n",
      "Magnesium Acetate (g/L)    96\n",
      "dtype: int64\n"
     ]
    }
   ],
   "source": [
    "# Select the relevant target columns\n",
    "target_cols = ['Glucose (g/L)', 'Sodium Acetate (g/L)', 'Magnesium Acetate (g/L)']\n",
    "targets = transfer_df[target_cols]\n",
    "\n",
    "# Check for any missing values\n",
    "print(\"Missing values per column:\")\n",
    "print(targets.isnull().sum())"
   ]
  },
  {
   "cell_type": "code",
   "execution_count": 4,
   "id": "3603850b",
   "metadata": {
    "execution": {
     "iopub.execute_input": "2025-07-07T11:50:47.075590Z",
     "iopub.status.busy": "2025-07-07T11:50:47.075411Z",
     "iopub.status.idle": "2025-07-07T11:50:47.080075Z",
     "shell.execute_reply": "2025-07-07T11:50:47.079403Z"
    },
    "papermill": {
     "duration": 0.008096,
     "end_time": "2025-07-07T11:50:47.081099",
     "exception": false,
     "start_time": "2025-07-07T11:50:47.073003",
     "status": "completed"
    },
    "tags": []
   },
   "outputs": [
    {
     "name": "stdout",
     "output_type": "stream",
     "text": [
      " Mean Concentration Values:\n",
      "Glucose (g/L)              6.874632\n",
      "Sodium Acetate (g/L)       1.172905\n",
      "Magnesium Acetate (g/L)    1.578632\n",
      "dtype: float64\n"
     ]
    }
   ],
   "source": [
    "# Calculate the mean value for each compound\n",
    "means = targets.mean()\n",
    "\n",
    "# Display the results\n",
    "print(\" Mean Concentration Values:\")\n",
    "print(means)"
   ]
  },
  {
   "cell_type": "code",
   "execution_count": 5,
   "id": "9603545a",
   "metadata": {
    "execution": {
     "iopub.execute_input": "2025-07-07T11:50:47.085850Z",
     "iopub.status.busy": "2025-07-07T11:50:47.085623Z",
     "iopub.status.idle": "2025-07-07T11:50:47.396627Z",
     "shell.execute_reply": "2025-07-07T11:50:47.395986Z"
    },
    "papermill": {
     "duration": 0.314853,
     "end_time": "2025-07-07T11:50:47.398009",
     "exception": false,
     "start_time": "2025-07-07T11:50:47.083156",
     "status": "completed"
    },
    "tags": []
   },
   "outputs": [
    {
     "data": {
      "image/png": "[encoded data removed]",
      "text/plain": [
       "<Figure size 800x500 with 1 Axes>"
      ]
     },
     "metadata": {},
     "output_type": "display_data"
    }
   ],
   "source": [
    "# Create a bar plot of the mean values\n",
    "plt.figure(figsize=(8, 5))\n",
    "bar_colors = ['#5DADE2', '#F5B041', '#58D68D']\n",
    "\n",
    "bars = plt.bar(means.index, means.values, color=bar_colors)\n",
    "\n",
    "# Add labels and annotations\n",
    "plt.title('Average Concentrations of Compounds', fontsize=14)\n",
    "plt.ylabel('Mean Value (g/L)', fontsize=12)\n",
    "plt.xticks(rotation=15)\n",
    "\n",
    "# Annotate each bar with the value\n",
    "for bar in bars:\n",
    "    plt.text(bar.get_x() + bar.get_width()/2, bar.get_height(), f'{bar.get_height():.2f}',\n",
    "             ha='center', va='bottom', fontsize=10)\n",
    "\n",
    "plt.tight_layout()\n",
    "plt.show()"
   ]
  },
  {
   "cell_type": "code",
   "execution_count": 6,
   "id": "ab3d85c8",
   "metadata": {
    "execution": {
     "iopub.execute_input": "2025-07-07T11:50:47.404244Z",
     "iopub.status.busy": "2025-07-07T11:50:47.404034Z",
     "iopub.status.idle": "2025-07-07T11:50:47.414971Z",
     "shell.execute_reply": "2025-07-07T11:50:47.414422Z"
    },
    "papermill": {
     "duration": 0.015119,
     "end_time": "2025-07-07T11:50:47.416024",
     "exception": false,
     "start_time": "2025-07-07T11:50:47.400905",
     "status": "completed"
    },
    "tags": []
   },
   "outputs": [
    {
     "data": {
      "text/html": [
       "<div>\n",
       "<style scoped>\n",
       "    .dataframe tbody tr th:only-of-type {\n",
       "        vertical-align: middle;\n",
       "    }\n",
       "\n",
       "    .dataframe tbody tr th {\n",
       "        vertical-align: top;\n",
       "    }\n",
       "\n",
       "    .dataframe thead th {\n",
       "        text-align: right;\n",
       "    }\n",
       "</style>\n",
       "<table border=\"1\" class=\"dataframe\">\n",
       "  <thead>\n",
       "    <tr style=\"text-align: right;\">\n",
       "      <th></th>\n",
       "      <th>ID</th>\n",
       "      <th>Glucose</th>\n",
       "      <th>Sodium Acetate</th>\n",
       "      <th>Magnesium Sulfate</th>\n",
       "    </tr>\n",
       "  </thead>\n",
       "  <tbody>\n",
       "    <tr>\n",
       "      <th>0</th>\n",
       "      <td>1</td>\n",
       "      <td>NaN</td>\n",
       "      <td>NaN</td>\n",
       "      <td>NaN</td>\n",
       "    </tr>\n",
       "    <tr>\n",
       "      <th>1</th>\n",
       "      <td>2</td>\n",
       "      <td>NaN</td>\n",
       "      <td>NaN</td>\n",
       "      <td>NaN</td>\n",
       "    </tr>\n",
       "    <tr>\n",
       "      <th>2</th>\n",
       "      <td>3</td>\n",
       "      <td>NaN</td>\n",
       "      <td>NaN</td>\n",
       "      <td>NaN</td>\n",
       "    </tr>\n",
       "    <tr>\n",
       "      <th>3</th>\n",
       "      <td>4</td>\n",
       "      <td>NaN</td>\n",
       "      <td>NaN</td>\n",
       "      <td>NaN</td>\n",
       "    </tr>\n",
       "    <tr>\n",
       "      <th>4</th>\n",
       "      <td>5</td>\n",
       "      <td>NaN</td>\n",
       "      <td>NaN</td>\n",
       "      <td>NaN</td>\n",
       "    </tr>\n",
       "  </tbody>\n",
       "</table>\n",
       "</div>"
      ],
      "text/plain": [
       "   ID  Glucose  Sodium Acetate  Magnesium Sulfate\n",
       "0   1      NaN             NaN                NaN\n",
       "1   2      NaN             NaN                NaN\n",
       "2   3      NaN             NaN                NaN\n",
       "3   4      NaN             NaN                NaN\n",
       "4   5      NaN             NaN                NaN"
      ]
     },
     "execution_count": 6,
     "metadata": {},
     "output_type": "execute_result"
    }
   ],
   "source": [
    "# Load the sample submission file\n",
    "submission = pd.read_csv('/kaggle/input/dig-4-bio-raman-transfer-learning-challenge/sample_submission.csv')\n",
    "\n",
    "# Preview before filling\n",
    "submission.head()"
   ]
  },
  {
   "cell_type": "code",
   "execution_count": 7,
   "id": "f9ec6020",
   "metadata": {
    "execution": {
     "iopub.execute_input": "2025-07-07T11:50:47.422325Z",
     "iopub.status.busy": "2025-07-07T11:50:47.421695Z",
     "iopub.status.idle": "2025-07-07T11:50:47.429878Z",
     "shell.execute_reply": "2025-07-07T11:50:47.429163Z"
    },
    "papermill": {
     "duration": 0.012311,
     "end_time": "2025-07-07T11:50:47.430919",
     "exception": false,
     "start_time": "2025-07-07T11:50:47.418608",
     "status": "completed"
    },
    "tags": []
   },
   "outputs": [
    {
     "data": {
      "text/html": [
       "<div>\n",
       "<style scoped>\n",
       "    .dataframe tbody tr th:only-of-type {\n",
       "        vertical-align: middle;\n",
       "    }\n",
       "\n",
       "    .dataframe tbody tr th {\n",
       "        vertical-align: top;\n",
       "    }\n",
       "\n",
       "    .dataframe thead th {\n",
       "        text-align: right;\n",
       "    }\n",
       "</style>\n",
       "<table border=\"1\" class=\"dataframe\">\n",
       "  <thead>\n",
       "    <tr style=\"text-align: right;\">\n",
       "      <th></th>\n",
       "      <th>ID</th>\n",
       "      <th>Glucose</th>\n",
       "      <th>Sodium Acetate</th>\n",
       "      <th>Magnesium Sulfate</th>\n",
       "    </tr>\n",
       "  </thead>\n",
       "  <tbody>\n",
       "    <tr>\n",
       "      <th>0</th>\n",
       "      <td>1</td>\n",
       "      <td>6.874632</td>\n",
       "      <td>1.172905</td>\n",
       "      <td>1.578632</td>\n",
       "    </tr>\n",
       "    <tr>\n",
       "      <th>1</th>\n",
       "      <td>2</td>\n",
       "      <td>6.874632</td>\n",
       "      <td>1.172905</td>\n",
       "      <td>1.578632</td>\n",
       "    </tr>\n",
       "    <tr>\n",
       "      <th>2</th>\n",
       "      <td>3</td>\n",
       "      <td>6.874632</td>\n",
       "      <td>1.172905</td>\n",
       "      <td>1.578632</td>\n",
       "    </tr>\n",
       "    <tr>\n",
       "      <th>3</th>\n",
       "      <td>4</td>\n",
       "      <td>6.874632</td>\n",
       "      <td>1.172905</td>\n",
       "      <td>1.578632</td>\n",
       "    </tr>\n",
       "    <tr>\n",
       "      <th>4</th>\n",
       "      <td>5</td>\n",
       "      <td>6.874632</td>\n",
       "      <td>1.172905</td>\n",
       "      <td>1.578632</td>\n",
       "    </tr>\n",
       "  </tbody>\n",
       "</table>\n",
       "</div>"
      ],
      "text/plain": [
       "   ID   Glucose  Sodium Acetate  Magnesium Sulfate\n",
       "0   1  6.874632        1.172905           1.578632\n",
       "1   2  6.874632        1.172905           1.578632\n",
       "2   3  6.874632        1.172905           1.578632\n",
       "3   4  6.874632        1.172905           1.578632\n",
       "4   5  6.874632        1.172905           1.578632"
      ]
     },
     "execution_count": 7,
     "metadata": {},
     "output_type": "execute_result"
    }
   ],
   "source": [
    "# Use the mean values for all rows in the submission\n",
    "submission['Glucose'] = means['Glucose (g/L)']\n",
    "submission['Sodium Acetate'] = means['Sodium Acetate (g/L)']\n",
    "submission['Magnesium Sulfate'] = means['Magnesium Acetate (g/L)']  # Assumes acetate → sulfate match\n",
    "\n",
    "# Preview the updated submission\n",
    "submission.head()"
   ]
  },
  {
   "cell_type": "code",
   "execution_count": 8,
   "id": "c6bccc73",
   "metadata": {
    "execution": {
     "iopub.execute_input": "2025-07-07T11:50:47.437322Z",
     "iopub.status.busy": "2025-07-07T11:50:47.436755Z",
     "iopub.status.idle": "2025-07-07T11:50:47.444702Z",
     "shell.execute_reply": "2025-07-07T11:50:47.443999Z"
    },
    "papermill": {
     "duration": 0.012262,
     "end_time": "2025-07-07T11:50:47.445872",
     "exception": false,
     "start_time": "2025-07-07T11:50:47.433610",
     "status": "completed"
    },
    "tags": []
   },
   "outputs": [
    {
     "name": "stdout",
     "output_type": "stream",
     "text": [
      " Submission file 'submission.csv' has been saved successfully!\n"
     ]
    }
   ],
   "source": [
    "# Export the DataFrame to a CSV file\n",
    "submission.to_csv('submission.csv', index=False)\n",
    "\n",
    "# Final confirmation\n",
    "print(\" Submission file 'submission.csv' has been saved successfully!\")"
   ]
  }
 ],
 "metadata": {
  "kaggle": {
   "accelerator": "nvidiaTeslaT4",
   "dataSources": [
    {
     "databundleVersionId": 12807347,
     "sourceId": 105802,
     "sourceType": "competition"
    }
   ],
   "dockerImageVersionId": 31041,
   "isGpuEnabled": true,
   "isInternetEnabled": true,
   "language": "python",
   "sourceType": "notebook"
  },
  "kernelspec": {
   "display_name": "Python 3",
   "language": "python",
   "name": "python3"
  },
  "language_info": {
   "codemirror_mode": {
    "name": "ipython",
    "version": 3
   },
   "file_extension": ".py",
   "mimetype": "text/x-python",
   "name": "python",
   "nbconvert_exporter": "python",
   "pygments_lexer": "ipython3",
   "version": "3.11.11"
  },
  "papermill": {
   "default_parameters": {},
   "duration": 7.604381,
   "end_time": "2025-07-07T11:50:47.866001",
   "environment_variables": {},
   "exception": null,
   "input_path": "__notebook__.ipynb",
   "output_path": "__notebook__.ipynb",
   "parameters": {},
   "start_time": "2025-07-07T11:50:40.261620",
   "version": "2.6.0"
  }
 },
 "nbformat": 4,
 "nbformat_minor": 5
}
