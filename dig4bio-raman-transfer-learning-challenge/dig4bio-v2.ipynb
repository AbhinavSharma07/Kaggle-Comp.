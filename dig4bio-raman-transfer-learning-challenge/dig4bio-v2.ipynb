{
 "cells": [
  {
   "cell_type": "code",
   "execution_count": 1,
   "id": "26614b0d",
   "metadata": {
    "_cell_guid": "b1076dfc-b9ad-4769-8c92-a6c4dae69d19",
    "_uuid": "8f2839f25d086af736a60e9eeb907d3b93b6e0e5",
    "execution": {
     "iopub.execute_input": "2025-08-04T09:46:51.999368Z",
     "iopub.status.busy": "2025-08-04T09:46:51.999128Z",
     "iopub.status.idle": "2025-08-04T09:46:53.799417Z",
     "shell.execute_reply": "2025-08-04T09:46:53.795254Z"
    },
    "papermill": {
     "duration": 1.807967,
     "end_time": "2025-08-04T09:46:53.802294",
     "exception": false,
     "start_time": "2025-08-04T09:46:51.994327",
     "status": "completed"
    },
    "tags": []
   },
   "outputs": [
    {
     "name": "stdout",
     "output_type": "stream",
     "text": [
      "   ID   Glucose  Sodium Acetate  Magnesium Sulfate\n",
      "0   1  4.162413        1.310519           0.979365\n",
      "1   2  7.150483        1.950352           2.033495\n",
      "2   3  5.175340        0.845310           1.380395\n",
      "3   4  4.258376        1.330154           0.720579\n",
      "4   5  8.063099        1.265318           1.361555\n",
      "5   6  6.986961        1.963852           1.287962\n",
      "6   7  5.711069        0.899418           0.860876\n",
      "7   8  7.319198        2.063454           1.631435\n"
     ]
    }
   ],
   "source": [
    "import pandas as pd\n",
    "\n",
    "# Define the path to the dataset\n",
    "path_to_ds = '/kaggle/input/dig4bio-v1/'\n",
    "\n",
    "# Load the submission files\n",
    "subm_0 = pd.read_csv(path_to_ds + \"submission_1_ridge_stack.csv\")\n",
    "subm_1 = pd.read_csv(path_to_ds + \"submission_2_linear_stack.csv\") # Score: 0.60906\n",
    "subm_2 = pd.read_csv(path_to_ds + \"submission_3_rf_stack.csv\")\n",
    "subm_3 = pd.read_csv(path_to_ds + \"submission 0.60906.csv\") # Note: Application does not match!??\n",
    "subm_4 = pd.read_csv(path_to_ds + \"submission 0.37957.csv\")\n",
    "subm_5 = pd.read_csv(path_to_ds + \"submission 0.26361.csv\")\n",
    "\n",
    "# Load the sample submission file\n",
    "subm = pd.read_csv(\"/kaggle/input/dig-4-bio-raman-transfer-learning-challenge/sample_submission.csv\")\n",
    "\n",
    "# Combine predictions using weighted averages/\n",
    "# Experiment with different weights to find the best ensemble performance\n",
    "\n",
    "# # Example weight combination (commented out)\n",
    "subm['Glucose'] = 0.0100 * subm_0['Glucose'] + 0.0100 * subm_1['Glucose'] + 0.0100 * subm_2['Glucose'] + 0.9500 * subm_3['Glucose'] + 0.0100 * subm_4['Glucose'] + 0.0100 * subm_5['Glucose']\n",
    "subm['Sodium Acetate'] = 0.0100 * subm_0['Sodium Acetate'] + 0.0100 * subm_1['Sodium Acetate'] + 0.0100 * subm_2['Sodium Acetate'] + 0.9500 * subm_3['Sodium Acetate'] + 0.0100 * subm_4['Sodium Acetate'] + 0.0100 * subm_5['Sodium Acetate']\n",
    "subm['Magnesium Sulfate'] = 0.0100 * subm_0['Magnesium Sulfate'] + 0.0100 * subm_1['Magnesium Sulfate'] + 0.0100 * subm_2['Magnesium Sulfate'] + 0.9500 * subm_3['Magnesium Sulfate'] + 0.0100 * subm_4['Magnesium Sulfate'] + 0.0100 * subm_5['Magnesium Sulfate']\n",
    "\n",
    "# Final weight combination\n",
    "subm['Glucose'] = 1.000 * subm_1['Glucose'] - 0.0017 * subm_4['Glucose'] + 0.0017 * subm_5['Glucose']\n",
    "subm['Sodium Acetate'] = 1.000 * subm_1['Sodium Acetate'] - 0.0017 * subm_4['Sodium Acetate'] + 0.0017 * subm_5['Sodium Acetate']\n",
    "subm['Magnesium Sulfate'] = 1.000 * subm_1['Magnesium Sulfate'] - 0.0017 * subm_4['Magnesium Sulfate'] + 0.0017 * subm_5['Magnesium Sulfate']\n",
    "\n",
    "# Save the final submission to a CSV file\n",
    "subm.to_csv('submission.csv', index=False)\n",
    "\n",
    "# Display the first 8 rows of the final submission\n",
    "print(subm.head(8))"
   ]
  }
 ],
 "metadata": {
  "kaggle": {
   "accelerator": "tpu1vmV38",
   "dataSources": [
    {
     "databundleVersionId": 12807347,
     "sourceId": 105802,
     "sourceType": "competition"
    },
    {
     "datasetId": 8005235,
     "sourceId": 12667786,
     "sourceType": "datasetVersion"
    }
   ],
   "dockerImageVersionId": 31091,
   "isGpuEnabled": false,
   "isInternetEnabled": true,
   "language": "python",
   "sourceType": "notebook"
  },
  "kernelspec": {
   "display_name": "Python 3",
   "language": "python",
   "name": "python3"
  },
  "language_info": {
   "codemirror_mode": {
    "name": "ipython",
    "version": 3
   },
   "file_extension": ".py",
   "mimetype": "text/x-python",
   "name": "python",
   "nbconvert_exporter": "python",
   "pygments_lexer": "ipython3",
   "version": "3.10.18"
  },
  "papermill": {
   "default_parameters": {},
   "duration": 5.136096,
   "end_time": "2025-08-04T09:46:54.025853",
   "environment_variables": {},
   "exception": null,
   "input_path": "__notebook__.ipynb",
   "output_path": "__notebook__.ipynb",
   "parameters": {},
   "start_time": "2025-08-04T09:46:48.889757",
   "version": "2.6.0"
  }
 },
 "nbformat": 4,
 "nbformat_minor": 5
}
