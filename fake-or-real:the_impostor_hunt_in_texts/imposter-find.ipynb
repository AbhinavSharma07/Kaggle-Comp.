{
 "cells": [
  {
   "cell_type": "code",
   "execution_count": 1,
   "id": "445adb5e",
   "metadata": {
    "execution": {
     "iopub.execute_input": "2025-07-07T07:21:40.834859Z",
     "iopub.status.busy": "2025-07-07T07:21:40.834591Z",
     "iopub.status.idle": "2025-07-07T07:22:37.192339Z",
     "shell.execute_reply": "2025-07-07T07:22:37.186494Z"
    },
    "papermill": {
     "duration": 56.367987,
     "end_time": "2025-07-07T07:22:37.196143",
     "exception": false,
     "start_time": "2025-07-07T07:21:40.828156",
     "status": "completed"
    },
    "tags": []
   },
   "outputs": [
    {
     "name": "stdout",
     "output_type": "stream",
     "text": [
      "\u001b[33mWARNING: Running pip as the 'root' user can result in broken permissions and conflicting behaviour with the system package manager. It is recommended to use a virtual environment instead: https://pip.pypa.io/warnings/venv\u001b[0m\u001b[33m\r\n",
      "\u001b[0m"
     ]
    },
    {
     "name": "stdout",
     "output_type": "stream",
     "text": [
      "\r\n",
      "\u001b[1m[\u001b[0m\u001b[34;49mnotice\u001b[0m\u001b[1;39;49m]\u001b[0m\u001b[39;49m A new release of pip is available: \u001b[0m\u001b[31;49m23.0.1\u001b[0m\u001b[39;49m -> \u001b[0m\u001b[32;49m25.1.1\u001b[0m\r\n",
      "\u001b[1m[\u001b[0m\u001b[34;49mnotice\u001b[0m\u001b[1;39;49m]\u001b[0m\u001b[39;49m To update, run: \u001b[0m\u001b[32;49mpip install --upgrade pip\u001b[0m\r\n"
     ]
    },
    {
     "name": "stdout",
     "output_type": "stream",
     "text": [
      "\u001b[33mWARNING: Running pip as the 'root' user can result in broken permissions and conflicting behaviour with the system package manager. It is recommended to use a virtual environment instead: https://pip.pypa.io/warnings/venv\u001b[0m\u001b[33m\r\n",
      "\u001b[0m\r\n",
      "\u001b[1m[\u001b[0m\u001b[34;49mnotice\u001b[0m\u001b[1;39;49m]\u001b[0m\u001b[39;49m A new release of pip is available: \u001b[0m\u001b[31;49m23.0.1\u001b[0m\u001b[39;49m -> \u001b[0m\u001b[32;49m25.1.1\u001b[0m\r\n",
      "\u001b[1m[\u001b[0m\u001b[34;49mnotice\u001b[0m\u001b[1;39;49m]\u001b[0m\u001b[39;49m To update, run: \u001b[0m\u001b[32;49mpip install --upgrade pip\u001b[0m\r\n"
     ]
    },
    {
     "name": "stdout",
     "output_type": "stream",
     "text": [
      "\u001b[33mWARNING: Running pip as the 'root' user can result in broken permissions and conflicting behaviour with the system package manager. It is recommended to use a virtual environment instead: https://pip.pypa.io/warnings/venv\u001b[0m\u001b[33m\r\n",
      "\u001b[0m\r\n",
      "\u001b[1m[\u001b[0m\u001b[34;49mnotice\u001b[0m\u001b[1;39;49m]\u001b[0m\u001b[39;49m A new release of pip is available: \u001b[0m\u001b[31;49m23.0.1\u001b[0m\u001b[39;49m -> \u001b[0m\u001b[32;49m25.1.1\u001b[0m\r\n",
      "\u001b[1m[\u001b[0m\u001b[34;49mnotice\u001b[0m\u001b[1;39;49m]\u001b[0m\u001b[39;49m To update, run: \u001b[0m\u001b[32;49mpip install --upgrade pip\u001b[0m\r\n"
     ]
    },
    {
     "name": "stdout",
     "output_type": "stream",
     "text": [
      "\u001b[33mWARNING: Running pip as the 'root' user can result in broken permissions and conflicting behaviour with the system package manager. It is recommended to use a virtual environment instead: https://pip.pypa.io/warnings/venv\u001b[0m\u001b[33m\r\n",
      "\u001b[0m\r\n",
      "\u001b[1m[\u001b[0m\u001b[34;49mnotice\u001b[0m\u001b[1;39;49m]\u001b[0m\u001b[39;49m A new release of pip is available: \u001b[0m\u001b[31;49m23.0.1\u001b[0m\u001b[39;49m -> \u001b[0m\u001b[32;49m25.1.1\u001b[0m\r\n",
      "\u001b[1m[\u001b[0m\u001b[34;49mnotice\u001b[0m\u001b[1;39;49m]\u001b[0m\u001b[39;49m To update, run: \u001b[0m\u001b[32;49mpip install --upgrade pip\u001b[0m\r\n"
     ]
    },
    {
     "name": "stdout",
     "output_type": "stream",
     "text": [
      "\u001b[38;5;2m✔ Download and installation successful\u001b[0m\r\n",
      "You can now load the package via spacy.load('en_core_web_sm')\r\n"
     ]
    }
   ],
   "source": [
    "# Install the libraries (including spaCy)\n",
    "!pip install textstat -q\n",
    "!pip install spacy -q\n",
    "!pip install lightgbm -q\n",
    "\n",
    "# Download spaCy English model (only need to do once)\n",
    "!python -m spacy download en_core_web_sm -q"
   ]
  },
  {
   "cell_type": "code",
   "execution_count": 2,
   "id": "1447d32f",
   "metadata": {
    "execution": {
     "iopub.execute_input": "2025-07-07T07:22:37.205901Z",
     "iopub.status.busy": "2025-07-07T07:22:37.205643Z",
     "iopub.status.idle": "2025-07-07T07:22:46.182949Z",
     "shell.execute_reply": "2025-07-07T07:22:46.177144Z"
    },
    "papermill": {
     "duration": 8.986219,
     "end_time": "2025-07-07T07:22:46.185490",
     "exception": false,
     "start_time": "2025-07-07T07:22:37.199271",
     "status": "completed"
    },
    "tags": []
   },
   "outputs": [
    {
     "name": "stderr",
     "output_type": "stream",
     "text": [
      "/usr/local/lib/python3.10/site-packages/tqdm/auto.py:21: TqdmWarning: IProgress not found. Please update jupyter and ipywidgets. See https://ipywidgets.readthedocs.io/en/stable/user_install.html\n",
      "  from .autonotebook import tqdm as notebook_tqdm\n"
     ]
    }
   ],
   "source": [
    "# Imports\n",
    "import pandas as pd\n",
    "import numpy as np\n",
    "import os\n",
    "import glob\n",
    "from tqdm.auto import tqdm\n",
    "import textstat\n",
    "import spacy\n",
    "import string\n",
    "import lightgbm as lgb\n",
    "from sklearn.model_selection import StratifiedKFold\n",
    "from sklearn.metrics import accuracy_score\n",
    "import warnings\n",
    "warnings.filterwarnings('ignore')\n",
    "import urllib.error\n",
    "\n",
    "# Load spaCy English model\n",
    "nlp = spacy.load(\"en_core_web_sm\")"
   ]
  },
  {
   "cell_type": "code",
   "execution_count": 3,
   "id": "4d95dffe",
   "metadata": {
    "execution": {
     "iopub.execute_input": "2025-07-07T07:22:46.195406Z",
     "iopub.status.busy": "2025-07-07T07:22:46.194808Z",
     "iopub.status.idle": "2025-07-07T07:22:46.208011Z",
     "shell.execute_reply": "2025-07-07T07:22:46.201770Z"
    },
    "papermill": {
     "duration": 0.022345,
     "end_time": "2025-07-07T07:22:46.210832",
     "exception": false,
     "start_time": "2025-07-07T07:22:46.188487",
     "status": "completed"
    },
    "tags": []
   },
   "outputs": [],
   "source": [
    "class Config:\n",
    "    BASE_PATH = \"/kaggle/input/fake-or-real-the-impostor-hunt/data/\"\n",
    "    TRAIN_PATH = os.path.join(BASE_PATH, \"train\")\n",
    "    TEST_PATH = os.path.join(BASE_PATH, \"test\")\n",
    "    TRAIN_CSV = os.path.join(BASE_PATH, \"train.csv\")\n",
    "    SUBMISSION_FILE = \"submission.csv\"\n",
    "    N_SPLITS = 10\n",
    "    RANDOM_STATE = 42\n",
    "    LGBM_PARAMS = {\n",
    "        'objective': 'binary',\n",
    "        'metric': 'binary_logloss',\n",
    "        'boosting_type': 'gbdt',\n",
    "        'n_estimators': 3000,\n",
    "        'learning_rate': 0.01,\n",
    "        'num_leaves': 20,\n",
    "        'max_depth': 5,\n",
    "        'seed': RANDOM_STATE,\n",
    "        'n_jobs': -1,\n",
    "        'verbose': -1,\n",
    "        'colsample_bytree': 0.7,\n",
    "        'subsample': 0.7,\n",
    "        'reg_alpha': 0.1,\n",
    "        'reg_lambda': 0.1,\n",
    "    }"
   ]
  },
  {
   "cell_type": "code",
   "execution_count": 4,
   "id": "125c2ee1",
   "metadata": {
    "execution": {
     "iopub.execute_input": "2025-07-07T07:22:46.219414Z",
     "iopub.status.busy": "2025-07-07T07:22:46.219155Z",
     "iopub.status.idle": "2025-07-07T07:22:46.232933Z",
     "shell.execute_reply": "2025-07-07T07:22:46.226779Z"
    },
    "papermill": {
     "duration": 0.021953,
     "end_time": "2025-07-07T07:22:46.235239",
     "exception": false,
     "start_time": "2025-07-07T07:22:46.213286",
     "status": "completed"
    },
    "tags": []
   },
   "outputs": [],
   "source": [
    "def read_text_files_robust(df, path):\n",
    "    texts_1, texts_2 = [], []\n",
    "    all_dirs = glob.glob(os.path.join(path, 'article_*'))\n",
    "    dir_map = {int(os.path.basename(p).replace('article_', '')): p for p in all_dirs}\n",
    "\n",
    "    for _, row in tqdm(df.iterrows(), total=len(df), desc=f\"Reading files from {os.path.basename(path)}\"):\n",
    "        article_id = row['id']\n",
    "        dir_path = dir_map.get(article_id)\n",
    "\n",
    "        if dir_path:\n",
    "            try:\n",
    "                with open(os.path.join(dir_path, 'file_1.txt'), 'r', encoding='utf-8') as f:\n",
    "                    texts_1.append(f.read())\n",
    "            except FileNotFoundError:\n",
    "                texts_1.append(\"\")\n",
    "\n",
    "            try:\n",
    "                with open(os.path.join(dir_path, 'file_2.txt'), 'r', encoding='utf-8') as f:\n",
    "                    texts_2.append(f.read())\n",
    "            except FileNotFoundError:\n",
    "                texts_2.append(\"\")\n",
    "        else:\n",
    "            texts_1.append(\"\")\n",
    "            texts_2.append(\"\")\n",
    "\n",
    "    df['text_1'] = texts_1\n",
    "    df['text_2'] = texts_2\n",
    "    return df"
   ]
  },
  {
   "cell_type": "code",
   "execution_count": 5,
   "id": "31ea7a65",
   "metadata": {
    "execution": {
     "iopub.execute_input": "2025-07-07T07:22:46.243688Z",
     "iopub.status.busy": "2025-07-07T07:22:46.243477Z",
     "iopub.status.idle": "2025-07-07T07:22:58.690767Z",
     "shell.execute_reply": "2025-07-07T07:22:58.686120Z"
    },
    "papermill": {
     "duration": 12.45599,
     "end_time": "2025-07-07T07:22:58.693553",
     "exception": false,
     "start_time": "2025-07-07T07:22:46.237563",
     "status": "completed"
    },
    "tags": []
   },
   "outputs": [
    {
     "name": "stderr",
     "output_type": "stream",
     "text": [
      "\r",
      "Reading files from train:   0%|          | 0/95 [00:00<?, ?it/s]"
     ]
    },
    {
     "name": "stderr",
     "output_type": "stream",
     "text": [
      "\r",
      "Reading files from train:  15%|█▍        | 14/95 [00:00<00:00, 134.56it/s]"
     ]
    },
    {
     "name": "stderr",
     "output_type": "stream",
     "text": [
      "\r",
      "Reading files from train:  29%|██▉       | 28/95 [00:00<00:00, 129.22it/s]"
     ]
    },
    {
     "name": "stderr",
     "output_type": "stream",
     "text": [
      "\r",
      "Reading files from train:  43%|████▎     | 41/95 [00:00<00:00, 104.65it/s]"
     ]
    },
    {
     "name": "stderr",
     "output_type": "stream",
     "text": [
      "\r",
      "Reading files from train:  55%|█████▍    | 52/95 [00:00<00:00, 96.67it/s] "
     ]
    },
    {
     "name": "stderr",
     "output_type": "stream",
     "text": [
      "\r",
      "Reading files from train:  68%|██████▊   | 65/95 [00:00<00:00, 106.29it/s]"
     ]
    },
    {
     "name": "stderr",
     "output_type": "stream",
     "text": [
      "\r",
      "Reading files from train:  81%|████████  | 77/95 [00:00<00:00, 110.01it/s]"
     ]
    },
    {
     "name": "stderr",
     "output_type": "stream",
     "text": [
      "\r",
      "Reading files from train:  96%|█████████▌| 91/95 [00:00<00:00, 117.09it/s]"
     ]
    },
    {
     "name": "stderr",
     "output_type": "stream",
     "text": [
      "\r",
      "Reading files from train: 100%|██████████| 95/95 [00:00<00:00, 113.32it/s]"
     ]
    },
    {
     "name": "stderr",
     "output_type": "stream",
     "text": [
      "\n"
     ]
    },
    {
     "name": "stderr",
     "output_type": "stream",
     "text": [
      "\r",
      "Reading files from test:   0%|          | 0/1068 [00:00<?, ?it/s]"
     ]
    },
    {
     "name": "stderr",
     "output_type": "stream",
     "text": [
      "\r",
      "Reading files from test:   1%|          | 10/1068 [00:00<00:11, 95.29it/s]"
     ]
    },
    {
     "name": "stderr",
     "output_type": "stream",
     "text": [
      "\r",
      "Reading files from test:   2%|▏         | 23/1068 [00:00<00:09, 109.34it/s]"
     ]
    },
    {
     "name": "stderr",
     "output_type": "stream",
     "text": [
      "\r",
      "Reading files from test:   3%|▎         | 34/1068 [00:00<00:10, 102.33it/s]"
     ]
    },
    {
     "name": "stderr",
     "output_type": "stream",
     "text": [
      "\r",
      "Reading files from test:   4%|▍         | 45/1068 [00:00<00:10, 100.11it/s]"
     ]
    },
    {
     "name": "stderr",
     "output_type": "stream",
     "text": [
      "\r",
      "Reading files from test:   5%|▌         | 56/1068 [00:00<00:10, 98.83it/s] "
     ]
    },
    {
     "name": "stderr",
     "output_type": "stream",
     "text": [
      "\r",
      "Reading files from test:   6%|▌         | 66/1068 [00:00<00:10, 94.78it/s]"
     ]
    },
    {
     "name": "stderr",
     "output_type": "stream",
     "text": [
      "\r",
      "Reading files from test:   7%|▋         | 76/1068 [00:00<00:10, 95.52it/s]"
     ]
    },
    {
     "name": "stderr",
     "output_type": "stream",
     "text": [
      "\r",
      "Reading files from test:   8%|▊         | 86/1068 [00:00<00:11, 86.01it/s]"
     ]
    },
    {
     "name": "stderr",
     "output_type": "stream",
     "text": [
      "\r",
      "Reading files from test:   9%|▉         | 97/1068 [00:01<00:10, 91.04it/s]"
     ]
    },
    {
     "name": "stderr",
     "output_type": "stream",
     "text": [
      "\r",
      "Reading files from test:  10%|█         | 109/1068 [00:01<00:09, 97.19it/s]"
     ]
    },
    {
     "name": "stderr",
     "output_type": "stream",
     "text": [
      "\r",
      "Reading files from test:  11%|█         | 119/1068 [00:01<00:09, 96.87it/s]"
     ]
    },
    {
     "name": "stderr",
     "output_type": "stream",
     "text": [
      "\r",
      "Reading files from test:  12%|█▏        | 129/1068 [00:01<00:09, 97.50it/s]"
     ]
    },
    {
     "name": "stderr",
     "output_type": "stream",
     "text": [
      "\r",
      "Reading files from test:  13%|█▎        | 139/1068 [00:01<00:09, 96.85it/s]"
     ]
    },
    {
     "name": "stderr",
     "output_type": "stream",
     "text": [
      "\r",
      "Reading files from test:  14%|█▍        | 151/1068 [00:01<00:08, 102.21it/s]"
     ]
    },
    {
     "name": "stderr",
     "output_type": "stream",
     "text": [
      "\r",
      "Reading files from test:  15%|█▌        | 162/1068 [00:01<00:09, 98.69it/s] "
     ]
    },
    {
     "name": "stderr",
     "output_type": "stream",
     "text": [
      "\r",
      "Reading files from test:  16%|█▌        | 172/1068 [00:01<00:09, 98.83it/s]"
     ]
    },
    {
     "name": "stderr",
     "output_type": "stream",
     "text": [
      "\r",
      "Reading files from test:  17%|█▋        | 182/1068 [00:01<00:09, 97.74it/s]"
     ]
    },
    {
     "name": "stderr",
     "output_type": "stream",
     "text": [
      "\r",
      "Reading files from test:  18%|█▊        | 193/1068 [00:01<00:08, 98.46it/s]"
     ]
    },
    {
     "name": "stderr",
     "output_type": "stream",
     "text": [
      "\r",
      "Reading files from test:  19%|█▉        | 205/1068 [00:02<00:08, 102.13it/s]"
     ]
    },
    {
     "name": "stderr",
     "output_type": "stream",
     "text": [
      "\r",
      "Reading files from test:  20%|██        | 216/1068 [00:02<00:08, 100.92it/s]"
     ]
    },
    {
     "name": "stderr",
     "output_type": "stream",
     "text": [
      "\r",
      "Reading files from test:  21%|██▏       | 227/1068 [00:02<00:08, 102.70it/s]"
     ]
    },
    {
     "name": "stderr",
     "output_type": "stream",
     "text": [
      "\r",
      "Reading files from test:  22%|██▏       | 238/1068 [00:02<00:08, 98.04it/s] "
     ]
    },
    {
     "name": "stderr",
     "output_type": "stream",
     "text": [
      "\r",
      "Reading files from test:  23%|██▎       | 248/1068 [00:02<00:08, 98.10it/s]"
     ]
    },
    {
     "name": "stderr",
     "output_type": "stream",
     "text": [
      "\r",
      "Reading files from test:  24%|██▍       | 259/1068 [00:02<00:08, 98.48it/s]"
     ]
    },
    {
     "name": "stderr",
     "output_type": "stream",
     "text": [
      "\r",
      "Reading files from test:  25%|██▌       | 270/1068 [00:02<00:08, 98.92it/s]"
     ]
    },
    {
     "name": "stderr",
     "output_type": "stream",
     "text": [
      "\r",
      "Reading files from test:  26%|██▋       | 282/1068 [00:02<00:07, 103.07it/s]"
     ]
    },
    {
     "name": "stderr",
     "output_type": "stream",
     "text": [
      "\r",
      "Reading files from test:  27%|██▋       | 293/1068 [00:02<00:07, 97.07it/s] "
     ]
    },
    {
     "name": "stderr",
     "output_type": "stream",
     "text": [
      "\r",
      "Reading files from test:  28%|██▊       | 303/1068 [00:03<00:08, 92.40it/s]"
     ]
    },
    {
     "name": "stderr",
     "output_type": "stream",
     "text": [
      "\r",
      "Reading files from test:  29%|██▉       | 314/1068 [00:03<00:07, 95.15it/s]"
     ]
    },
    {
     "name": "stderr",
     "output_type": "stream",
     "text": [
      "\r",
      "Reading files from test:  30%|███       | 325/1068 [00:03<00:07, 97.46it/s]"
     ]
    },
    {
     "name": "stderr",
     "output_type": "stream",
     "text": [
      "\r",
      "Reading files from test:  31%|███▏      | 335/1068 [00:03<00:08, 87.54it/s]"
     ]
    },
    {
     "name": "stderr",
     "output_type": "stream",
     "text": [
      "\r",
      "Reading files from test:  32%|███▏      | 346/1068 [00:03<00:07, 91.81it/s]"
     ]
    },
    {
     "name": "stderr",
     "output_type": "stream",
     "text": [
      "\r",
      "Reading files from test:  33%|███▎      | 356/1068 [00:03<00:07, 91.22it/s]"
     ]
    },
    {
     "name": "stderr",
     "output_type": "stream",
     "text": [
      "\r",
      "Reading files from test:  34%|███▍      | 366/1068 [00:03<00:07, 93.43it/s]"
     ]
    },
    {
     "name": "stderr",
     "output_type": "stream",
     "text": [
      "\r",
      "Reading files from test:  35%|███▌      | 377/1068 [00:03<00:07, 97.96it/s]"
     ]
    },
    {
     "name": "stderr",
     "output_type": "stream",
     "text": [
      "\r",
      "Reading files from test:  36%|███▌      | 387/1068 [00:04<00:07, 89.75it/s]"
     ]
    },
    {
     "name": "stderr",
     "output_type": "stream",
     "text": [
      "\r",
      "Reading files from test:  37%|███▋      | 397/1068 [00:04<00:07, 91.47it/s]"
     ]
    },
    {
     "name": "stderr",
     "output_type": "stream",
     "text": [
      "\r",
      "Reading files from test:  38%|███▊      | 409/1068 [00:04<00:06, 98.65it/s]"
     ]
    },
    {
     "name": "stderr",
     "output_type": "stream",
     "text": [
      "\r",
      "Reading files from test:  39%|███▉      | 420/1068 [00:04<00:06, 95.26it/s]"
     ]
    },
    {
     "name": "stderr",
     "output_type": "stream",
     "text": [
      "\r",
      "Reading files from test:  40%|████      | 431/1068 [00:04<00:06, 99.07it/s]"
     ]
    },
    {
     "name": "stderr",
     "output_type": "stream",
     "text": [
      "\r",
      "Reading files from test:  41%|████▏     | 442/1068 [00:04<00:06, 97.14it/s]"
     ]
    },
    {
     "name": "stderr",
     "output_type": "stream",
     "text": [
      "\r",
      "Reading files from test:  42%|████▏     | 452/1068 [00:04<00:06, 92.40it/s]"
     ]
    },
    {
     "name": "stderr",
     "output_type": "stream",
     "text": [
      "\r",
      "Reading files from test:  43%|████▎     | 464/1068 [00:04<00:06, 98.82it/s]"
     ]
    },
    {
     "name": "stderr",
     "output_type": "stream",
     "text": [
      "\r",
      "Reading files from test:  44%|████▍     | 475/1068 [00:04<00:05, 99.92it/s]"
     ]
    },
    {
     "name": "stderr",
     "output_type": "stream",
     "text": [
      "\r",
      "Reading files from test:  46%|████▌     | 486/1068 [00:05<00:05, 100.05it/s]"
     ]
    },
    {
     "name": "stderr",
     "output_type": "stream",
     "text": [
      "\r",
      "Reading files from test:  47%|████▋     | 497/1068 [00:05<00:05, 101.33it/s]"
     ]
    },
    {
     "name": "stderr",
     "output_type": "stream",
     "text": [
      "\r",
      "Reading files from test:  48%|████▊     | 508/1068 [00:05<00:05, 97.13it/s] "
     ]
    },
    {
     "name": "stderr",
     "output_type": "stream",
     "text": [
      "\r",
      "Reading files from test:  49%|████▊     | 518/1068 [00:05<00:05, 97.76it/s]"
     ]
    },
    {
     "name": "stderr",
     "output_type": "stream",
     "text": [
      "\r",
      "Reading files from test:  50%|████▉     | 529/1068 [00:05<00:05, 99.62it/s]"
     ]
    },
    {
     "name": "stderr",
     "output_type": "stream",
     "text": [
      "\r",
      "Reading files from test:  51%|█████     | 540/1068 [00:05<00:05, 93.31it/s]"
     ]
    },
    {
     "name": "stderr",
     "output_type": "stream",
     "text": [
      "\r",
      "Reading files from test:  52%|█████▏    | 551/1068 [00:05<00:05, 96.23it/s]"
     ]
    },
    {
     "name": "stderr",
     "output_type": "stream",
     "text": [
      "\r",
      "Reading files from test:  53%|█████▎    | 561/1068 [00:05<00:05, 94.04it/s]"
     ]
    },
    {
     "name": "stderr",
     "output_type": "stream",
     "text": [
      "\r",
      "Reading files from test:  54%|█████▎    | 572/1068 [00:05<00:05, 96.95it/s]"
     ]
    },
    {
     "name": "stderr",
     "output_type": "stream",
     "text": [
      "\r",
      "Reading files from test:  55%|█████▍    | 583/1068 [00:06<00:04, 100.55it/s]"
     ]
    },
    {
     "name": "stderr",
     "output_type": "stream",
     "text": [
      "\r",
      "Reading files from test:  56%|█████▌    | 595/1068 [00:06<00:04, 103.46it/s]"
     ]
    },
    {
     "name": "stderr",
     "output_type": "stream",
     "text": [
      "\r",
      "Reading files from test:  57%|█████▋    | 606/1068 [00:06<00:04, 105.00it/s]"
     ]
    },
    {
     "name": "stderr",
     "output_type": "stream",
     "text": [
      "\r",
      "Reading files from test:  58%|█████▊    | 618/1068 [00:06<00:04, 108.70it/s]"
     ]
    },
    {
     "name": "stderr",
     "output_type": "stream",
     "text": [
      "\r",
      "Reading files from test:  59%|█████▉    | 629/1068 [00:06<00:04, 107.71it/s]"
     ]
    },
    {
     "name": "stderr",
     "output_type": "stream",
     "text": [
      "\r",
      "Reading files from test:  60%|██████    | 641/1068 [00:06<00:03, 106.96it/s]"
     ]
    },
    {
     "name": "stderr",
     "output_type": "stream",
     "text": [
      "\r",
      "Reading files from test:  61%|██████    | 652/1068 [00:06<00:03, 104.99it/s]"
     ]
    },
    {
     "name": "stderr",
     "output_type": "stream",
     "text": [
      "\r",
      "Reading files from test:  62%|██████▏   | 664/1068 [00:06<00:03, 105.72it/s]"
     ]
    },
    {
     "name": "stderr",
     "output_type": "stream",
     "text": [
      "\r",
      "Reading files from test:  63%|██████▎   | 675/1068 [00:06<00:03, 99.66it/s] "
     ]
    },
    {
     "name": "stderr",
     "output_type": "stream",
     "text": [
      "\r",
      "Reading files from test:  64%|██████▍   | 686/1068 [00:06<00:03, 102.26it/s]"
     ]
    },
    {
     "name": "stderr",
     "output_type": "stream",
     "text": [
      "\r",
      "Reading files from test:  65%|██████▌   | 697/1068 [00:07<00:03, 99.81it/s] "
     ]
    },
    {
     "name": "stderr",
     "output_type": "stream",
     "text": [
      "\r",
      "Reading files from test:  66%|██████▋   | 708/1068 [00:07<00:03, 100.92it/s]"
     ]
    },
    {
     "name": "stderr",
     "output_type": "stream",
     "text": [
      "\r",
      "Reading files from test:  67%|██████▋   | 719/1068 [00:07<00:03, 99.76it/s] "
     ]
    },
    {
     "name": "stderr",
     "output_type": "stream",
     "text": [
      "\r",
      "Reading files from test:  68%|██████▊   | 730/1068 [00:07<00:03, 97.07it/s]"
     ]
    },
    {
     "name": "stderr",
     "output_type": "stream",
     "text": [
      "\r",
      "Reading files from test:  69%|██████▉   | 740/1068 [00:07<00:03, 91.80it/s]"
     ]
    },
    {
     "name": "stderr",
     "output_type": "stream",
     "text": [
      "\r",
      "Reading files from test:  70%|███████   | 751/1068 [00:07<00:03, 94.93it/s]"
     ]
    },
    {
     "name": "stderr",
     "output_type": "stream",
     "text": [
      "\r",
      "Reading files from test:  71%|███████▏  | 761/1068 [00:07<00:03, 95.76it/s]"
     ]
    },
    {
     "name": "stderr",
     "output_type": "stream",
     "text": [
      "\r",
      "Reading files from test:  72%|███████▏  | 773/1068 [00:07<00:02, 100.26it/s]"
     ]
    },
    {
     "name": "stderr",
     "output_type": "stream",
     "text": [
      "\r",
      "Reading files from test:  73%|███████▎  | 784/1068 [00:07<00:02, 101.48it/s]"
     ]
    },
    {
     "name": "stderr",
     "output_type": "stream",
     "text": [
      "\r",
      "Reading files from test:  74%|███████▍  | 795/1068 [00:08<00:02, 93.72it/s] "
     ]
    },
    {
     "name": "stderr",
     "output_type": "stream",
     "text": [
      "\r",
      "Reading files from test:  75%|███████▌  | 806/1068 [00:08<00:02, 95.92it/s]"
     ]
    },
    {
     "name": "stderr",
     "output_type": "stream",
     "text": [
      "\r",
      "Reading files from test:  76%|███████▋  | 817/1068 [00:08<00:02, 97.88it/s]"
     ]
    },
    {
     "name": "stderr",
     "output_type": "stream",
     "text": [
      "\r",
      "Reading files from test:  77%|███████▋  | 827/1068 [00:08<00:02, 98.07it/s]"
     ]
    },
    {
     "name": "stderr",
     "output_type": "stream",
     "text": [
      "\r",
      "Reading files from test:  78%|███████▊  | 837/1068 [00:08<00:02, 98.09it/s]"
     ]
    },
    {
     "name": "stderr",
     "output_type": "stream",
     "text": [
      "\r",
      "Reading files from test:  79%|███████▉  | 847/1068 [00:08<00:02, 97.18it/s]"
     ]
    },
    {
     "name": "stderr",
     "output_type": "stream",
     "text": [
      "\r",
      "Reading files from test:  80%|████████  | 857/1068 [00:08<00:02, 79.48it/s]"
     ]
    },
    {
     "name": "stderr",
     "output_type": "stream",
     "text": [
      "\r",
      "Reading files from test:  81%|████████  | 866/1068 [00:08<00:02, 78.96it/s]"
     ]
    },
    {
     "name": "stderr",
     "output_type": "stream",
     "text": [
      "\r",
      "Reading files from test:  82%|████████▏ | 875/1068 [00:09<00:02, 69.35it/s]"
     ]
    },
    {
     "name": "stderr",
     "output_type": "stream",
     "text": [
      "\r",
      "Reading files from test:  83%|████████▎ | 883/1068 [00:09<00:02, 66.59it/s]"
     ]
    },
    {
     "name": "stderr",
     "output_type": "stream",
     "text": [
      "\r",
      "Reading files from test:  84%|████████▎ | 893/1068 [00:09<00:02, 71.52it/s]"
     ]
    },
    {
     "name": "stderr",
     "output_type": "stream",
     "text": [
      "\r",
      "Reading files from test:  84%|████████▍ | 901/1068 [00:09<00:02, 63.44it/s]"
     ]
    },
    {
     "name": "stderr",
     "output_type": "stream",
     "text": [
      "\r",
      "Reading files from test:  85%|████████▌ | 909/1068 [00:09<00:02, 64.25it/s]"
     ]
    },
    {
     "name": "stderr",
     "output_type": "stream",
     "text": [
      "\r",
      "Reading files from test:  86%|████████▌ | 919/1068 [00:09<00:02, 71.79it/s]"
     ]
    },
    {
     "name": "stderr",
     "output_type": "stream",
     "text": [
      "\r",
      "Reading files from test:  87%|████████▋ | 927/1068 [00:09<00:02, 67.15it/s]"
     ]
    },
    {
     "name": "stderr",
     "output_type": "stream",
     "text": [
      "\r",
      "Reading files from test:  87%|████████▋ | 934/1068 [00:10<00:02, 65.65it/s]"
     ]
    },
    {
     "name": "stderr",
     "output_type": "stream",
     "text": [
      "\r",
      "Reading files from test:  88%|████████▊ | 943/1068 [00:10<00:01, 71.54it/s]"
     ]
    },
    {
     "name": "stderr",
     "output_type": "stream",
     "text": [
      "\r",
      "Reading files from test:  89%|████████▉ | 953/1068 [00:10<00:01, 77.54it/s]"
     ]
    },
    {
     "name": "stderr",
     "output_type": "stream",
     "text": [
      "\r",
      "Reading files from test:  90%|█████████ | 962/1068 [00:10<00:01, 79.39it/s]"
     ]
    },
    {
     "name": "stderr",
     "output_type": "stream",
     "text": [
      "\r",
      "Reading files from test:  91%|█████████ | 973/1068 [00:10<00:01, 86.01it/s]"
     ]
    },
    {
     "name": "stderr",
     "output_type": "stream",
     "text": [
      "\r",
      "Reading files from test:  92%|█████████▏| 985/1068 [00:10<00:00, 94.07it/s]"
     ]
    },
    {
     "name": "stderr",
     "output_type": "stream",
     "text": [
      "\r",
      "Reading files from test:  93%|█████████▎| 995/1068 [00:10<00:00, 94.06it/s]"
     ]
    },
    {
     "name": "stderr",
     "output_type": "stream",
     "text": [
      "\r",
      "Reading files from test:  94%|█████████▍| 1005/1068 [00:10<00:00, 93.63it/s]"
     ]
    },
    {
     "name": "stderr",
     "output_type": "stream",
     "text": [
      "\r",
      "Reading files from test:  95%|█████████▌| 1015/1068 [00:10<00:00, 95.15it/s]"
     ]
    },
    {
     "name": "stderr",
     "output_type": "stream",
     "text": [
      "\r",
      "Reading files from test:  96%|█████████▌| 1026/1068 [00:10<00:00, 99.21it/s]"
     ]
    },
    {
     "name": "stderr",
     "output_type": "stream",
     "text": [
      "\r",
      "Reading files from test:  97%|█████████▋| 1036/1068 [00:11<00:00, 97.15it/s]"
     ]
    },
    {
     "name": "stderr",
     "output_type": "stream",
     "text": [
      "\r",
      "Reading files from test:  98%|█████████▊| 1046/1068 [00:11<00:00, 97.37it/s]"
     ]
    },
    {
     "name": "stderr",
     "output_type": "stream",
     "text": [
      "\r",
      "Reading files from test:  99%|█████████▉| 1056/1068 [00:11<00:00, 95.65it/s]"
     ]
    },
    {
     "name": "stderr",
     "output_type": "stream",
     "text": [
      "\r",
      "Reading files from test: 100%|█████████▉| 1066/1068 [00:11<00:00, 94.83it/s]"
     ]
    },
    {
     "name": "stderr",
     "output_type": "stream",
     "text": [
      "\r",
      "Reading files from test: 100%|██████████| 1068/1068 [00:11<00:00, 93.64it/s]"
     ]
    },
    {
     "name": "stderr",
     "output_type": "stream",
     "text": [
      "\n"
     ]
    }
   ],
   "source": [
    "def load_data(config):\n",
    "    train_df = pd.read_csv(config.TRAIN_CSV)\n",
    "    test_dirs = glob.glob(os.path.join(config.TEST_PATH, 'article_*'))\n",
    "    if not test_dirs:\n",
    "        raise FileNotFoundError(f\"No 'article_*' directories found in {config.TEST_PATH}\")\n",
    "    test_ids = [int(os.path.basename(p).replace('article_', '')) for p in test_dirs]\n",
    "    test_df = pd.DataFrame(sorted(test_ids), columns=['id'])\n",
    "\n",
    "    train_df = read_text_files_robust(train_df, config.TRAIN_PATH)\n",
    "    test_df = read_text_files_robust(test_df, config.TEST_PATH)\n",
    "\n",
    "    return train_df, test_df\n",
    "\n",
    "config = Config()\n",
    "train_df, test_df = load_data(config)"
   ]
  },
  {
   "cell_type": "code",
   "execution_count": 6,
   "id": "ffb5ff4f",
   "metadata": {
    "execution": {
     "iopub.execute_input": "2025-07-07T07:22:58.713763Z",
     "iopub.status.busy": "2025-07-07T07:22:58.713520Z",
     "iopub.status.idle": "2025-07-07T07:22:58.728215Z",
     "shell.execute_reply": "2025-07-07T07:22:58.724034Z"
    },
    "papermill": {
     "duration": 0.028023,
     "end_time": "2025-07-07T07:22:58.730375",
     "exception": false,
     "start_time": "2025-07-07T07:22:58.702352",
     "status": "completed"
    },
    "tags": []
   },
   "outputs": [],
   "source": [
    "# --- Updated get_text_features using spaCy instead of NLTK ---\n",
    "def get_text_features(text):\n",
    "    # Return zeroed features if text is invalid or empty\n",
    "    if not isinstance(text, str) or not text.strip():\n",
    "        return {feat: 0 for feat in [\n",
    "            'char_count', 'word_count', 'sentence_count', 'avg_word_length',\n",
    "            'avg_sentence_length', 'unique_word_count', 'ttr', 'stopword_count',\n",
    "            'stopword_ratio', 'punctuation_count', 'flesch_reading_ease',\n",
    "            'flesch_kincaid_grade', 'gunning_fog', 'smog_index', 'coleman_liau_index',\n",
    "            'automated_readability_index', 'dale_chall_readability_score', 'linsear_write_formula'\n",
    "        ]}\n",
    "\n",
    "    doc = nlp(text)\n",
    "\n",
    "    words = [token.text for token in doc if token.is_alpha]\n",
    "    word_count = len(words)\n",
    "\n",
    "    if word_count == 0:\n",
    "        return {feat: 0 for feat in [\n",
    "            'char_count', 'word_count', 'sentence_count', 'avg_word_length',\n",
    "            'avg_sentence_length', 'unique_word_count', 'ttr', 'stopword_count',\n",
    "            'stopword_ratio', 'punctuation_count', 'flesch_reading_ease',\n",
    "            'flesch_kincaid_grade', 'gunning_fog', 'smog_index', 'coleman_liau_index',\n",
    "            'automated_readability_index', 'dale_chall_readability_score', 'linsear_write_formula'\n",
    "        ]}\n",
    "\n",
    "    stopword_count = sum(1 for token in doc if token.is_stop)\n",
    "    punctuation_count = sum(1 for token in doc if token.is_punct)\n",
    "    sentence_count = len(list(doc.sents))\n",
    "\n",
    "    features = {\n",
    "        'char_count': len(text),\n",
    "        'word_count': word_count,\n",
    "        'sentence_count': sentence_count,\n",
    "        'avg_word_length': np.mean([len(w) for w in words]) if words else 0,\n",
    "        'avg_sentence_length': word_count / sentence_count if sentence_count > 0 else 0,\n",
    "        'unique_word_count': len(set(w.lower() for w in words)),\n",
    "        'ttr': len(set(w.lower() for w in words)) / word_count,\n",
    "        'stopword_count': stopword_count,\n",
    "        'stopword_ratio': stopword_count / word_count,\n",
    "        'punctuation_count': punctuation_count,\n",
    "        'flesch_reading_ease': textstat.flesch_reading_ease(text),\n",
    "        'flesch_kincaid_grade': textstat.flesch_kincaid_grade(text),\n",
    "        'gunning_fog': textstat.gunning_fog(text),\n",
    "        'smog_index': textstat.smog_index(text),\n",
    "        'coleman_liau_index': textstat.coleman_liau_index(text),\n",
    "        'automated_readability_index': textstat.automated_readability_index(text),\n",
    "        'dale_chall_readability_score': textstat.dale_chall_readability_score(text),\n",
    "        'linsear_write_formula': textstat.linsear_write_formula(text)\n",
    "    }\n",
    "\n",
    "    return features"
   ]
  },
  {
   "cell_type": "code",
   "execution_count": 7,
   "id": "27c4a5cc",
   "metadata": {
    "execution": {
     "iopub.execute_input": "2025-07-07T07:22:58.749684Z",
     "iopub.status.busy": "2025-07-07T07:22:58.749427Z",
     "iopub.status.idle": "2025-07-07T07:25:15.637839Z",
     "shell.execute_reply": "2025-07-07T07:25:15.632666Z"
    },
    "papermill": {
     "duration": 136.902524,
     "end_time": "2025-07-07T07:25:15.640699",
     "exception": false,
     "start_time": "2025-07-07T07:22:58.738175",
     "status": "completed"
    },
    "tags": []
   },
   "outputs": [
    {
     "name": "stderr",
     "output_type": "stream",
     "text": [
      "\r",
      "Creating comparison features:   0%|          | 0/18 [00:00<?, ?it/s]"
     ]
    },
    {
     "name": "stderr",
     "output_type": "stream",
     "text": [
      "\r",
      "Creating comparison features: 100%|██████████| 18/18 [00:00<00:00, 931.16it/s]"
     ]
    },
    {
     "name": "stderr",
     "output_type": "stream",
     "text": [
      "\n"
     ]
    },
    {
     "name": "stderr",
     "output_type": "stream",
     "text": [
      "\r",
      "Creating comparison features:   0%|          | 0/18 [00:00<?, ?it/s]"
     ]
    },
    {
     "name": "stderr",
     "output_type": "stream",
     "text": [
      "\r",
      "Creating comparison features: 100%|██████████| 18/18 [00:00<00:00, 843.51it/s]"
     ]
    },
    {
     "name": "stderr",
     "output_type": "stream",
     "text": [
      "\n"
     ]
    },
    {
     "name": "stdout",
     "output_type": "stream",
     "text": [
      "\n",
      " Created 36 features.\n",
      "🔎 Feature columns example: ['char_count_diff', 'word_count_diff', 'sentence_count_diff', 'avg_word_length_diff', 'avg_sentence_length_diff']\n"
     ]
    }
   ],
   "source": [
    "def create_features(df):\n",
    "    features_1 = df['text_1'].apply(get_text_features).apply(pd.Series)\n",
    "    features_2 = df['text_2'].apply(get_text_features).apply(pd.Series)\n",
    "\n",
    "    feature_cols = list(features_1.columns)\n",
    "\n",
    "    for col in tqdm(feature_cols, desc=\"Creating comparison features\"):\n",
    "        df[f'{col}_diff'] = features_1[col].astype(float) - features_2[col].astype(float)\n",
    "        df[f'{col}_ratio'] = features_1[col].astype(float) / (features_2[col].astype(float) + 1e-9)\n",
    "\n",
    "    final_feature_cols = [f'{col}_diff' for col in feature_cols] + [f'{col}_ratio' for col in feature_cols]\n",
    "    return df, final_feature_cols\n",
    "\n",
    "train_df, feature_cols = create_features(train_df)\n",
    "test_df, _ = create_features(test_df)\n",
    "\n",
    "print(f\"\\n Created {len(feature_cols)} features.\")\n",
    "print(\"🔎 Feature columns example:\", feature_cols[:5])"
   ]
  },
  {
   "cell_type": "code",
   "execution_count": 8,
   "id": "a2185ae7",
   "metadata": {
    "execution": {
     "iopub.execute_input": "2025-07-07T07:25:15.660999Z",
     "iopub.status.busy": "2025-07-07T07:25:15.660726Z",
     "iopub.status.idle": "2025-07-07T07:25:18.465610Z",
     "shell.execute_reply": "2025-07-07T07:25:18.461120Z"
    },
    "papermill": {
     "duration": 2.819755,
     "end_time": "2025-07-07T07:25:18.469024",
     "exception": false,
     "start_time": "2025-07-07T07:25:15.649269",
     "status": "completed"
    },
    "tags": []
   },
   "outputs": [
    {
     "name": "stdout",
     "output_type": "stream",
     "text": [
      "===== Fold 1 =====\n"
     ]
    },
    {
     "name": "stdout",
     "output_type": "stream",
     "text": [
      "===== Fold 2 =====\n"
     ]
    },
    {
     "name": "stdout",
     "output_type": "stream",
     "text": [
      "===== Fold 3 ====="
     ]
    },
    {
     "name": "stdout",
     "output_type": "stream",
     "text": [
      "\n"
     ]
    },
    {
     "name": "stdout",
     "output_type": "stream",
     "text": [
      "===== Fold 4 ====="
     ]
    },
    {
     "name": "stdout",
     "output_type": "stream",
     "text": [
      "\n"
     ]
    },
    {
     "name": "stdout",
     "output_type": "stream",
     "text": [
      "===== Fold 5 ====="
     ]
    },
    {
     "name": "stdout",
     "output_type": "stream",
     "text": [
      "\n"
     ]
    },
    {
     "name": "stdout",
     "output_type": "stream",
     "text": [
      "===== Fold 6 ====="
     ]
    },
    {
     "name": "stdout",
     "output_type": "stream",
     "text": [
      "\n"
     ]
    },
    {
     "name": "stdout",
     "output_type": "stream",
     "text": [
      "===== Fold 7 ====="
     ]
    },
    {
     "name": "stdout",
     "output_type": "stream",
     "text": [
      "\n"
     ]
    },
    {
     "name": "stdout",
     "output_type": "stream",
     "text": [
      "===== Fold 8 ====="
     ]
    },
    {
     "name": "stdout",
     "output_type": "stream",
     "text": [
      "\n"
     ]
    },
    {
     "name": "stdout",
     "output_type": "stream",
     "text": [
      "===== Fold 9 ====="
     ]
    },
    {
     "name": "stdout",
     "output_type": "stream",
     "text": [
      "\n"
     ]
    },
    {
     "name": "stdout",
     "output_type": "stream",
     "text": [
      "===== Fold 10 ====="
     ]
    },
    {
     "name": "stdout",
     "output_type": "stream",
     "text": [
      "\n"
     ]
    },
    {
     "name": "stdout",
     "output_type": "stream",
     "text": [
      "\n",
      "Overall CV Accuracy: 0.73684"
     ]
    },
    {
     "name": "stdout",
     "output_type": "stream",
     "text": [
      "\n"
     ]
    },
    {
     "name": "stdout",
     "output_type": "stream",
     "text": [
      "\n",
      "Submission file created successfully: submission.csv"
     ]
    },
    {
     "name": "stdout",
     "output_type": "stream",
     "text": [
      "\n",
      "Submission file head:\n"
     ]
    },
    {
     "name": "stdout",
     "output_type": "stream",
     "text": [
      "   id  real_text_id\n",
      "0   0             1\n",
      "1   1             2\n",
      "2   2             2\n",
      "3   3             1\n",
      "4   4             1\n"
     ]
    }
   ],
   "source": [
    "def train_and_predict(train_df, test_df, feature_cols, config):\n",
    "    X = train_df[feature_cols]\n",
    "    y = train_df['real_text_id'].apply(lambda x: 0 if x == 1 else 1)\n",
    "    X_test = test_df[feature_cols]\n",
    "\n",
    "    skf = StratifiedKFold(n_splits=config.N_SPLITS, shuffle=True, random_state=config.RANDOM_STATE)\n",
    "    oof_preds = np.zeros(len(train_df))\n",
    "    test_preds = np.zeros(len(test_df))\n",
    "\n",
    "    for fold, (train_idx, val_idx) in enumerate(skf.split(X, y)):\n",
    "        print(f\"===== Fold {fold+1} =====\")\n",
    "        X_train, y_train = X.iloc[train_idx], y.iloc[train_idx]\n",
    "        X_val, y_val = X.iloc[val_idx], y.iloc[val_idx]\n",
    "\n",
    "        model = lgb.LGBMClassifier(**config.LGBM_PARAMS)\n",
    "        callbacks = [lgb.early_stopping(100, verbose=False)]\n",
    "\n",
    "        model.fit(X_train, y_train,\n",
    "                  eval_set=[(X_val, y_val)],\n",
    "                  eval_metric='logloss',\n",
    "                  callbacks=callbacks)\n",
    "\n",
    "        val_preds_proba = model.predict_proba(X_val)[:, 1]\n",
    "        oof_preds[val_idx] = val_preds_proba\n",
    "        test_preds += model.predict_proba(X_test)[:, 1] / config.N_SPLITS\n",
    "\n",
    "    oof_accuracy = accuracy_score(y, np.round(oof_preds))\n",
    "    print(f\"\\nOverall CV Accuracy: {oof_accuracy:.5f}\")\n",
    "\n",
    "    return test_preds\n",
    "\n",
    "test_predictions_proba = train_and_predict(train_df, test_df, feature_cols, config)\n",
    "final_predictions_class = (test_predictions_proba > 0.5).astype(int)\n",
    "\n",
    "submission_df = pd.DataFrame({'id': test_df['id']})\n",
    "submission_df['real_text_id'] = final_predictions_class + 1\n",
    "submission_df.to_csv(config.SUBMISSION_FILE, index=False)\n",
    "\n",
    "print(f\"\\nSubmission file created successfully: {config.SUBMISSION_FILE}\")\n",
    "print(\"Submission file head:\")\n",
    "print(submission_df.head())"
   ]
  }
 ],
 "metadata": {
  "kaggle": {
   "accelerator": "tpu1vmV38",
   "dataSources": [
    {
     "databundleVersionId": 12820159,
     "sourceId": 105874,
     "sourceType": "competition"
    }
   ],
   "dockerImageVersionId": 31042,
   "isGpuEnabled": false,
   "isInternetEnabled": true,
   "language": "python",
   "sourceType": "notebook"
  },
  "kernelspec": {
   "display_name": "Python 3",
   "language": "python",
   "name": "python3"
  },
  "language_info": {
   "codemirror_mode": {
    "name": "ipython",
    "version": 3
   },
   "file_extension": ".py",
   "mimetype": "text/x-python",
   "name": "python",
   "nbconvert_exporter": "python",
   "pygments_lexer": "ipython3",
   "version": "3.10.17"
  },
  "papermill": {
   "default_parameters": {},
   "duration": 222.439002,
   "end_time": "2025-07-07T07:25:20.108657",
   "environment_variables": {},
   "exception": null,
   "input_path": "__notebook__.ipynb",
   "output_path": "__notebook__.ipynb",
   "parameters": {},
   "start_time": "2025-07-07T07:21:37.669655",
   "version": "2.6.0"
  }
 },
 "nbformat": 4,
 "nbformat_minor": 5
}
