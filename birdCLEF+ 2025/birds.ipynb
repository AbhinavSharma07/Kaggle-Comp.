{
 "cells": [
  {
   "cell_type": "code",
   "execution_count": 1,
   "id": "48d0850d",
   "metadata": {
    "execution": {
     "iopub.execute_input": "2025-04-07T10:37:42.049035Z",
     "iopub.status.busy": "2025-04-07T10:37:42.048776Z",
     "iopub.status.idle": "2025-04-07T10:37:46.339051Z",
     "shell.execute_reply": "2025-04-07T10:37:46.338106Z"
    },
    "papermill": {
     "duration": 4.294078,
     "end_time": "2025-04-07T10:37:46.340284",
     "exception": false,
     "start_time": "2025-04-07T10:37:42.046206",
     "status": "completed"
    },
    "tags": []
   },
   "outputs": [
    {
     "name": "stdout",
     "output_type": "stream",
     "text": [
      "[INFO] Using device: cuda\n",
      "[INFO] Running prediction pipeline...\n",
      "[INFO] Found 0 test audio files.\n",
      "[INFO] Submission DataFrame created.\n",
      "Empty DataFrame\n",
      "Columns: [row_id, target]\n",
      "Index: []\n",
      "[INFO] Submission saved to submission.csv\n"
     ]
    }
   ],
   "source": [
    "# ============================\n",
    "# Config and Imports\n",
    "# ============================\n",
    "\n",
    "import os\n",
    "import pandas as pd\n",
    "import torch\n",
    "\n",
    "class CFG:\n",
    "    data_dir = \"/kaggle/input/birdclef-2025\"\n",
    "    output_file = \"submission.csv\"\n",
    "    device = \"cuda\" if torch.cuda.is_available() else \"cpu\"\n",
    "\n",
    "print(f\"[INFO] Using device: {CFG.device}\")\n",
    "\n",
    "# ============================\n",
    "# Pipeline Class\n",
    "# ============================\n",
    "\n",
    "class BirdCLEF2025Pipeline:\n",
    "    def __init__(self, cfg):\n",
    "        self.cfg = cfg\n",
    "        self.submission_df = None\n",
    "\n",
    "    def run(self):\n",
    "        print(\"[INFO] Running prediction pipeline...\")\n",
    "\n",
    "        test_audio_dir = os.path.join(self.cfg.data_dir, \"test_soundscapes\")\n",
    "        test_files = [f for f in os.listdir(test_audio_dir) if f.endswith(\".ogg\")]\n",
    "        print(f\"[INFO] Found {len(test_files)} test audio files.\")\n",
    "\n",
    "        row_ids = []\n",
    "        targets = []\n",
    "\n",
    "        for file in test_files:\n",
    "            base_name = os.path.splitext(file)[0]\n",
    "            for i in range(5, 60, 5):  # row_ids in 5-second steps\n",
    "                row_id = f\"{base_name}_{i}\"\n",
    "                row_ids.append(row_id)\n",
    "                targets.append(0)  # Dummy prediction\n",
    "\n",
    "        self.submission_df = pd.DataFrame({\n",
    "            \"row_id\": row_ids,\n",
    "            \"target\": targets\n",
    "        })\n",
    "\n",
    "        print(\"[INFO] Submission DataFrame created.\")\n",
    "        print(self.submission_df.head())\n",
    "\n",
    "    def save_submission(self):\n",
    "        self.submission_df.to_csv(self.cfg.output_file, index=False)\n",
    "        print(f\"[INFO] Submission saved to {self.cfg.output_file}\")\n",
    "\n",
    "\n",
    "# ============================\n",
    "# Run the pipeline\n",
    "# ============================\n",
    "\n",
    "if __name__ == \"__main__\":\n",
    "    cfg = CFG()\n",
    "    pipeline = BirdCLEF2025Pipeline(cfg)\n",
    "    pipeline.run()\n",
    "    pipeline.save_submission()\n"
   ]
  },
  {
   "cell_type": "code",
   "execution_count": null,
   "id": "90602df8",
   "metadata": {
    "papermill": {
     "duration": 0.001078,
     "end_time": "2025-04-07T10:37:46.343116",
     "exception": false,
     "start_time": "2025-04-07T10:37:46.342038",
     "status": "completed"
    },
    "tags": []
   },
   "outputs": [],
   "source": []
  }
 ],
 "metadata": {
  "kaggle": {
   "accelerator": "nvidiaTeslaT4",
   "dataSources": [
    {
     "databundleVersionId": 11361821,
     "sourceId": 91844,
     "sourceType": "competition"
    }
   ],
   "dockerImageVersionId": 30919,
   "isGpuEnabled": true,
   "isInternetEnabled": false,
   "language": "python",
   "sourceType": "notebook"
  },
  "kernelspec": {
   "display_name": "Python 3",
   "language": "python",
   "name": "python3"
  },
  "language_info": {
   "codemirror_mode": {
    "name": "ipython",
    "version": 3
   },
   "file_extension": ".py",
   "mimetype": "text/x-python",
   "name": "python",
   "nbconvert_exporter": "python",
   "pygments_lexer": "ipython3",
   "version": "3.10.12"
  },
  "papermill": {
   "default_parameters": {},
   "duration": 8.200358,
   "end_time": "2025-04-07T10:37:47.563756",
   "environment_variables": {},
   "exception": null,
   "input_path": "__notebook__.ipynb",
   "output_path": "__notebook__.ipynb",
   "parameters": {},
   "start_time": "2025-04-07T10:37:39.363398",
   "version": "2.6.0"
  }
 },
 "nbformat": 4,
 "nbformat_minor": 5
}
