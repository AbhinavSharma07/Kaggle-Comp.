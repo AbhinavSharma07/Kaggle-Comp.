{
 "cells": [
  {
   "cell_type": "code",
   "execution_count": 1,
   "id": "90de6a7f",
   "metadata": {
    "execution": {
     "iopub.execute_input": "2025-07-15T05:28:26.009281Z",
     "iopub.status.busy": "2025-07-15T05:28:26.009079Z",
     "iopub.status.idle": "2025-07-15T05:28:44.419048Z",
     "shell.execute_reply": "2025-07-15T05:28:44.418270Z"
    },
    "papermill": {
     "duration": 18.415236,
     "end_time": "2025-07-15T05:28:44.420760",
     "exception": false,
     "start_time": "2025-07-15T05:28:26.005524",
     "status": "completed"
    },
    "tags": []
   },
   "outputs": [
    {
     "name": "stdout",
     "output_type": "stream",
     "text": [
      "Requirement already satisfied: polars in /usr/local/lib/python3.11/dist-packages (1.21.0)\r\n",
      "Requirement already satisfied: lightgbm in /usr/local/lib/python3.11/dist-packages (4.5.0)\r\n",
      "Requirement already satisfied: numpy>=1.17.0 in /usr/local/lib/python3.11/dist-packages (from lightgbm) (1.26.4)\r\n",
      "Requirement already satisfied: scipy in /usr/local/lib/python3.11/dist-packages (from lightgbm) (1.15.3)\r\n",
      "Requirement already satisfied: mkl_fft in /usr/local/lib/python3.11/dist-packages (from numpy>=1.17.0->lightgbm) (1.3.8)\r\n",
      "Requirement already satisfied: mkl_random in /usr/local/lib/python3.11/dist-packages (from numpy>=1.17.0->lightgbm) (1.2.4)\r\n",
      "Requirement already satisfied: mkl_umath in /usr/local/lib/python3.11/dist-packages (from numpy>=1.17.0->lightgbm) (0.1.1)\r\n",
      "Requirement already satisfied: mkl in /usr/local/lib/python3.11/dist-packages (from numpy>=1.17.0->lightgbm) (2025.2.0)\r\n",
      "Requirement already satisfied: tbb4py in /usr/local/lib/python3.11/dist-packages (from numpy>=1.17.0->lightgbm) (2022.2.0)\r\n",
      "Requirement already satisfied: mkl-service in /usr/local/lib/python3.11/dist-packages (from numpy>=1.17.0->lightgbm) (2.4.1)\r\n",
      "Requirement already satisfied: intel-openmp<2026,>=2024 in /usr/local/lib/python3.11/dist-packages (from mkl->numpy>=1.17.0->lightgbm) (2024.2.0)\r\n",
      "Requirement already satisfied: tbb==2022.* in /usr/local/lib/python3.11/dist-packages (from mkl->numpy>=1.17.0->lightgbm) (2022.2.0)\r\n",
      "Requirement already satisfied: tcmlib==1.* in /usr/local/lib/python3.11/dist-packages (from tbb==2022.*->mkl->numpy>=1.17.0->lightgbm) (1.4.0)\r\n",
      "Requirement already satisfied: intel-cmplr-lib-rt in /usr/local/lib/python3.11/dist-packages (from mkl_umath->numpy>=1.17.0->lightgbm) (2024.2.0)\r\n",
      "Requirement already satisfied: intel-cmplr-lib-ur==2024.2.0 in /usr/local/lib/python3.11/dist-packages (from intel-openmp<2026,>=2024->mkl->numpy>=1.17.0->lightgbm) (2024.2.0)\r\n"
     ]
    }
   ],
   "source": [
    "##import the required libraries\n",
    "!pip install polars\n",
    "!pip install lightgbm\n",
    "import numpy as np\n",
    "import polars as pl\n",
    "import pandas as pd\n",
    "from sklearn.feature_extraction.text import TfidfVectorizer\n",
    "from sklearn.model_selection import StratifiedKFold\n",
    "from sklearn.linear_model import LogisticRegression\n",
    "import sklearn.metrics\n",
    "import lightgbm as lgb\n",
    "from scipy.sparse import hstack\n",
    "from sklearn.utils.class_weight import compute_sample_weight"
   ]
  },
  {
   "cell_type": "code",
   "execution_count": 2,
   "id": "53c9f24d",
   "metadata": {
    "execution": {
     "iopub.execute_input": "2025-07-15T05:28:44.428461Z",
     "iopub.status.busy": "2025-07-15T05:28:44.427888Z",
     "iopub.status.idle": "2025-07-15T05:28:44.866098Z",
     "shell.execute_reply": "2025-07-15T05:28:44.865511Z"
    },
    "papermill": {
     "duration": 0.443547,
     "end_time": "2025-07-15T05:28:44.867623",
     "exception": false,
     "start_time": "2025-07-15T05:28:44.424076",
     "status": "completed"
    },
    "tags": []
   },
   "outputs": [],
   "source": [
    "# Load train/test datasets\n",
    "train = pl.read_csv(\"/kaggle/input/map-charting-student-math-misunderstandings/train.csv\")\n",
    "test = pl.read_csv(\"/kaggle/input/map-charting-student-math-misunderstandings/test.csv\")\n",
    "\n",
    "# Fill missing misconceptions with 'NA'\n",
    "train = train.with_columns([\n",
    "    pl.col('Misconception').fill_null('NA').cast(pl.Utf8).alias('Misconception')\n",
    "])\n",
    "\n",
    "# Create target_cat (Category:Misconception string label)\n",
    "train = train.with_columns([\n",
    "    (pl.col('Category') + \":\" + pl.col('Misconception')).alias('target_cat')\n",
    "])"
   ]
  },
  {
   "cell_type": "code",
   "execution_count": 3,
   "id": "c23a9eb6",
   "metadata": {
    "execution": {
     "iopub.execute_input": "2025-07-15T05:28:44.876305Z",
     "iopub.status.busy": "2025-07-15T05:28:44.876068Z",
     "iopub.status.idle": "2025-07-15T05:28:44.999359Z",
     "shell.execute_reply": "2025-07-15T05:28:44.998538Z"
    },
    "papermill": {
     "duration": 0.127653,
     "end_time": "2025-07-15T05:28:45.000651",
     "exception": false,
     "start_time": "2025-07-15T05:28:44.872998",
     "status": "completed"
    },
    "tags": []
   },
   "outputs": [],
   "source": [
    "# Encode Category labels\n",
    "category_counts = train['Category'].value_counts().sort('count', descending=True)\n",
    "map_target1 = {row['Category']: idx for idx, row in enumerate(category_counts.iter_rows(named=True))}\n",
    "\n",
    "# Encode Misconception labels\n",
    "misconception_counts = train['Misconception'].value_counts().sort('count', descending=True)\n",
    "map_target2 = {row['Misconception']: idx for idx, row in enumerate(misconception_counts.iter_rows(named=True))}\n",
    "\n",
    "# Map to numeric columns\n",
    "train = train.with_columns([\n",
    "    pl.col('Category').map_elements(lambda x: map_target1.get(x, -1), return_dtype=pl.Int64).alias('target1'),\n",
    "    pl.col('Misconception').map_elements(lambda x: map_target2.get(x, -1), return_dtype=pl.Int64).alias('target2')\n",
    "])"
   ]
  },
  {
   "cell_type": "code",
   "execution_count": 4,
   "id": "6dca61a7",
   "metadata": {
    "execution": {
     "iopub.execute_input": "2025-07-15T05:28:45.006432Z",
     "iopub.status.busy": "2025-07-15T05:28:45.006002Z",
     "iopub.status.idle": "2025-07-15T05:28:45.080828Z",
     "shell.execute_reply": "2025-07-15T05:28:45.080210Z"
    },
    "papermill": {
     "duration": 0.078904,
     "end_time": "2025-07-15T05:28:45.081995",
     "exception": false,
     "start_time": "2025-07-15T05:28:45.003091",
     "status": "completed"
    },
    "tags": []
   },
   "outputs": [],
   "source": [
    "# Define sentence construction\n",
    "def create_sentence(row):\n",
    "    return f\"Question: {row['QuestionText']}\\nAnswer: {row['MC_Answer']}\\nExplanation: {row['StudentExplanation']}\"\n",
    "\n",
    "# Apply to train/test\n",
    "train = train.with_columns([\n",
    "    pl.struct(['QuestionText', 'MC_Answer', 'StudentExplanation']).map_elements(create_sentence, return_dtype=pl.Utf8).alias('sentence')\n",
    "])\n",
    "test = test.with_columns([\n",
    "    pl.struct(['QuestionText', 'MC_Answer', 'StudentExplanation']).map_elements(create_sentence, return_dtype=pl.Utf8).alias('sentence')\n",
    "])"
   ]
  },
  {
   "cell_type": "code",
   "execution_count": 5,
   "id": "9112f194",
   "metadata": {
    "execution": {
     "iopub.execute_input": "2025-07-15T05:28:45.087205Z",
     "iopub.status.busy": "2025-07-15T05:28:45.086748Z",
     "iopub.status.idle": "2025-07-15T05:29:09.683007Z",
     "shell.execute_reply": "2025-07-15T05:29:09.682165Z"
    },
    "papermill": {
     "duration": 24.600134,
     "end_time": "2025-07-15T05:29:09.684299",
     "exception": false,
     "start_time": "2025-07-15T05:28:45.084165",
     "status": "completed"
    },
    "tags": []
   },
   "outputs": [
    {
     "name": "stdout",
     "output_type": "stream",
     "text": [
      "Creating TF-IDF features...\n"
     ]
    },
    {
     "name": "stderr",
     "output_type": "stream",
     "text": [
      "/usr/local/lib/python3.11/dist-packages/sklearn/feature_extraction/text.py:550: UserWarning: The parameter 'stop_words' will not be used since 'analyzer' != 'word'\n",
      "  warnings.warn(\n"
     ]
    },
    {
     "name": "stdout",
     "output_type": "stream",
     "text": [
      "Combined train sparse shape: (36696, 15000)\n",
      "Combined test sparse shape: (3, 15000)\n"
     ]
    }
   ],
   "source": [
    "print(\"Creating TF-IDF features...\")\n",
    "\n",
    "# Combine train and test for TF-IDF fitting\n",
    "all_sentences = pd.concat([\n",
    "    train.select('sentence').to_pandas(),\n",
    "    test.select('sentence').to_pandas()\n",
    "])\n",
    "\n",
    "# Word-level TF-IDF (1-3 grams)\n",
    "tfidf1 = TfidfVectorizer(stop_words='english', ngram_range=(1, 3), analyzer='word',\n",
    "                         max_df=0.95, min_df=2, max_features=10000)\n",
    "tfidf1.fit(all_sentences['sentence'])\n",
    "train_tfidf1 = tfidf1.transform(train['sentence'].to_pandas())\n",
    "test_tfidf1 = tfidf1.transform(test['sentence'].to_pandas())\n",
    "\n",
    "# Char-level TF-IDF (4-6 grams)\n",
    "tfidf2 = TfidfVectorizer(stop_words='english', ngram_range=(4, 6), analyzer='char',\n",
    "                         max_df=0.95, min_df=2, max_features=5000)\n",
    "tfidf2.fit(all_sentences['sentence'])\n",
    "train_tfidf2 = tfidf2.transform(train['sentence'].to_pandas())\n",
    "test_tfidf2 = tfidf2.transform(test['sentence'].to_pandas())\n",
    "\n",
    "# Combine TF-IDF features\n",
    "train_embeddings = hstack([train_tfidf1, train_tfidf2])\n",
    "test_embeddings = hstack([test_tfidf1, test_tfidf2])\n",
    "print(f'Combined train sparse shape: {train_embeddings.shape}')\n",
    "print(f'Combined test sparse shape: {test_embeddings.shape}')"
   ]
  },
  {
   "cell_type": "code",
   "execution_count": 6,
   "id": "4b0ab045",
   "metadata": {
    "execution": {
     "iopub.execute_input": "2025-07-15T05:29:09.690502Z",
     "iopub.status.busy": "2025-07-15T05:29:09.690280Z",
     "iopub.status.idle": "2025-07-15T06:14:06.049586Z",
     "shell.execute_reply": "2025-07-15T06:14:06.048903Z"
    },
    "papermill": {
     "duration": 2696.363807,
     "end_time": "2025-07-15T06:14:06.050816",
     "exception": false,
     "start_time": "2025-07-15T05:29:09.687009",
     "status": "completed"
    },
    "tags": []
   },
   "outputs": [
    {
     "name": "stdout",
     "output_type": "stream",
     "text": [
      "\n",
      "Training Category models...\n",
      "Category Fold 0, Train: 33026, Valid: 3670\n",
      "Training until validation scores don't improve for 10 rounds\n",
      "Did not meet early stopping. Best iteration is:\n",
      "[99]\tvalid_0's multi_logloss: 0.437991\n",
      "Category Fold 1, Train: 33026, Valid: 3670\n",
      "Training until validation scores don't improve for 10 rounds\n",
      "Did not meet early stopping. Best iteration is:\n",
      "[98]\tvalid_0's multi_logloss: 0.446975\n",
      "Category Fold 2, Train: 33026, Valid: 3670\n",
      "Training until validation scores don't improve for 10 rounds\n",
      "Did not meet early stopping. Best iteration is:\n",
      "[100]\tvalid_0's multi_logloss: 0.411311\n",
      "Category Fold 3, Train: 33026, Valid: 3670\n",
      "Training until validation scores don't improve for 10 rounds\n",
      "Did not meet early stopping. Best iteration is:\n",
      "[99]\tvalid_0's multi_logloss: 0.427969\n",
      "Category Fold 4, Train: 33026, Valid: 3670\n",
      "Training until validation scores don't improve for 10 rounds\n",
      "Did not meet early stopping. Best iteration is:\n",
      "[100]\tvalid_0's multi_logloss: 0.426918\n",
      "Category Fold 5, Train: 33026, Valid: 3670\n",
      "Training until validation scores don't improve for 10 rounds\n",
      "Did not meet early stopping. Best iteration is:\n",
      "[100]\tvalid_0's multi_logloss: 0.426835\n",
      "Category Fold 6, Train: 33027, Valid: 3669\n",
      "Training until validation scores don't improve for 10 rounds\n",
      "Did not meet early stopping. Best iteration is:\n",
      "[100]\tvalid_0's multi_logloss: 0.425229\n",
      "Category Fold 7, Train: 33027, Valid: 3669\n",
      "Training until validation scores don't improve for 10 rounds\n",
      "Did not meet early stopping. Best iteration is:\n",
      "[100]\tvalid_0's multi_logloss: 0.425996\n",
      "Category Fold 8, Train: 33027, Valid: 3669\n",
      "Training until validation scores don't improve for 10 rounds\n",
      "Did not meet early stopping. Best iteration is:\n",
      "[100]\tvalid_0's multi_logloss: 0.432412\n",
      "Category Fold 9, Train: 33027, Valid: 3669\n",
      "Training until validation scores don't improve for 10 rounds\n",
      "Did not meet early stopping. Best iteration is:\n",
      "[100]\tvalid_0's multi_logloss: 0.417458\n",
      "Category ACC: 0.8276106387617179\n",
      "Category F1: 0.8201424722866103\n"
     ]
    }
   ],
   "source": [
    "print(\"\\nTraining Category models...\")\n",
    "ytrain1_lr = np.zeros((len(train), len(map_target1)))\n",
    "ytrain1_lgb = np.zeros((len(train), len(map_target1)))\n",
    "ytest1_lr = np.zeros((len(test), len(map_target1)))\n",
    "ytest1_lgb = np.zeros((len(test), len(map_target1)))\n",
    "\n",
    "train_target1 = train['target1'].to_numpy()\n",
    "skf = StratifiedKFold(n_splits=10, shuffle=True, random_state=42)\n",
    "\n",
    "for i, (train_idx, valid_idx) in enumerate(skf.split(train_embeddings, train_target1)):\n",
    "    print(f\"Category Fold {i}, Train: {len(train_idx)}, Valid: {len(valid_idx)}\")\n",
    "\n",
    "    # Logistic Regression\n",
    "    lr_model = LogisticRegression(max_iter=1000, C=1.0, random_state=42)\n",
    "    lr_model.fit(train_embeddings[train_idx], train_target1[train_idx])\n",
    "    ytrain1_lr[valid_idx] = lr_model.predict_proba(train_embeddings[valid_idx])\n",
    "    ytest1_lr += lr_model.predict_proba(test_embeddings) / 10\n",
    "\n",
    "    # LightGBM\n",
    "    lgb_model = lgb.LGBMClassifier(n_estimators=100, learning_rate=0.1, num_leaves=31,\n",
    "                                   random_state=42, n_jobs=-1, verbose=-1)\n",
    "    lgb_model.fit(train_embeddings[train_idx], train_target1[train_idx],\n",
    "                  eval_set=[(train_embeddings[valid_idx], train_target1[valid_idx])],\n",
    "                  callbacks=[lgb.early_stopping(10), lgb.log_evaluation(0)])\n",
    "    ytrain1_lgb[valid_idx] = lgb_model.predict_proba(train_embeddings[valid_idx])\n",
    "    ytest1_lgb += lgb_model.predict_proba(test_embeddings) / 10\n",
    "\n",
    "# Weighted Ensemble\n",
    "ytrain1 = 0.6 * ytrain1_lr + 0.4 * ytrain1_lgb\n",
    "ytest1 = 0.6 * ytest1_lr + 0.4 * ytest1_lgb\n",
    "\n",
    "print(\"Category ACC:\", np.mean(train_target1 == np.argmax(ytrain1, 1)))\n",
    "print(\"Category F1:\", sklearn.metrics.f1_score(train_target1, np.argmax(ytrain1, 1), average='weighted'))"
   ]
  },
  {
   "cell_type": "code",
   "execution_count": 7,
   "id": "8c97c945",
   "metadata": {
    "execution": {
     "iopub.execute_input": "2025-07-15T06:14:06.059736Z",
     "iopub.status.busy": "2025-07-15T06:14:06.059245Z",
     "iopub.status.idle": "2025-07-15T06:29:52.017450Z",
     "shell.execute_reply": "2025-07-15T06:29:52.016545Z"
    },
    "papermill": {
     "duration": 945.964047,
     "end_time": "2025-07-15T06:29:52.018848",
     "exception": false,
     "start_time": "2025-07-15T06:14:06.054801",
     "status": "completed"
    },
    "tags": []
   },
   "outputs": [
    {
     "name": "stdout",
     "output_type": "stream",
     "text": [
      "\n",
      "Training Misconception models...\n"
     ]
    },
    {
     "name": "stderr",
     "output_type": "stream",
     "text": [
      "/usr/local/lib/python3.11/dist-packages/sklearn/model_selection/_split.py:700: UserWarning: The least populated class in y has only 6 members, which is less than n_splits=10.\n",
      "  warnings.warn(\n"
     ]
    },
    {
     "name": "stdout",
     "output_type": "stream",
     "text": [
      "Misconception Fold 0, Train: 33026, Valid: 3670\n",
      "Training until validation scores don't improve for 15 rounds\n",
      "Did not meet early stopping. Best iteration is:\n",
      "[150]\tvalid_0's multi_logloss: 0.750206\n",
      "Misconception Fold 1, Train: 33026, Valid: 3670\n",
      "Training until validation scores don't improve for 15 rounds\n",
      "Did not meet early stopping. Best iteration is:\n",
      "[150]\tvalid_0's multi_logloss: 0.723479\n",
      "Misconception Fold 2, Train: 33026, Valid: 3670\n",
      "Training until validation scores don't improve for 15 rounds\n",
      "Did not meet early stopping. Best iteration is:\n",
      "[150]\tvalid_0's multi_logloss: 0.730301\n",
      "Misconception Fold 3, Train: 33026, Valid: 3670\n",
      "Training until validation scores don't improve for 15 rounds\n",
      "Did not meet early stopping. Best iteration is:\n",
      "[150]\tvalid_0's multi_logloss: 0.718175\n",
      "Misconception Fold 4, Train: 33026, Valid: 3670\n",
      "Training until validation scores don't improve for 15 rounds\n",
      "Did not meet early stopping. Best iteration is:\n",
      "[150]\tvalid_0's multi_logloss: 0.752578\n",
      "Misconception Fold 5, Train: 33026, Valid: 3670\n",
      "Training until validation scores don't improve for 15 rounds\n",
      "Did not meet early stopping. Best iteration is:\n",
      "[150]\tvalid_0's multi_logloss: 0.740869\n",
      "Misconception Fold 6, Train: 33027, Valid: 3669\n",
      "Training until validation scores don't improve for 15 rounds\n",
      "Did not meet early stopping. Best iteration is:\n",
      "[150]\tvalid_0's multi_logloss: 0.730062\n",
      "Misconception Fold 7, Train: 33027, Valid: 3669\n",
      "Training until validation scores don't improve for 15 rounds\n",
      "Did not meet early stopping. Best iteration is:\n",
      "[150]\tvalid_0's multi_logloss: 0.748881\n",
      "Misconception Fold 8, Train: 33027, Valid: 3669\n",
      "Training until validation scores don't improve for 15 rounds\n",
      "Did not meet early stopping. Best iteration is:\n",
      "[150]\tvalid_0's multi_logloss: 0.775758\n",
      "Misconception Fold 9, Train: 33027, Valid: 3669\n",
      "Training until validation scores don't improve for 15 rounds\n",
      "Did not meet early stopping. Best iteration is:\n",
      "[150]\tvalid_0's multi_logloss: 0.742246\n",
      "Misconception ACC: 0.6085404403749728\n",
      "Misconception F1: 0.644214548423144\n"
     ]
    }
   ],
   "source": [
    "print(\"\\nTraining Misconception models...\")\n",
    "\n",
    "# Re-fit TF-IDF for Misconception task\n",
    "tfidf_misc = TfidfVectorizer(stop_words='english', ngram_range=(1, 2), analyzer='word',\n",
    "                             max_df=0.90, min_df=2, max_features=15000)\n",
    "tfidf_misc.fit(all_sentences['sentence'])\n",
    "train_embeddings_misc = tfidf_misc.transform(train['sentence'].to_pandas())\n",
    "test_embeddings_misc = tfidf_misc.transform(test['sentence'].to_pandas())\n",
    "\n",
    "ytrain2_lr = np.zeros((len(train), len(map_target2)))\n",
    "ytrain2_lgb = np.zeros((len(train), len(map_target2)))\n",
    "ytest2_lr = np.zeros((len(test), len(map_target2)))\n",
    "ytest2_lgb = np.zeros((len(test), len(map_target2)))\n",
    "\n",
    "train_target2 = train['target2'].to_numpy()\n",
    "\n",
    "for i, (train_idx, valid_idx) in enumerate(skf.split(train_embeddings_misc, train_target2)):\n",
    "    print(f\"Misconception Fold {i}, Train: {len(train_idx)}, Valid: {len(valid_idx)}\")\n",
    "\n",
    "    # Logistic Regression\n",
    "    lr_model = LogisticRegression(class_weight='balanced', max_iter=1000, C=0.5, random_state=42)\n",
    "    lr_model.fit(train_embeddings_misc[train_idx], train_target2[train_idx])\n",
    "    ytrain2_lr[valid_idx] = lr_model.predict_proba(train_embeddings_misc[valid_idx])\n",
    "    ytest2_lr += lr_model.predict_proba(test_embeddings_misc) / 10\n",
    "\n",
    "    # LightGBM with class weights\n",
    "    sample_weights = compute_sample_weight('balanced', train_target2[train_idx])\n",
    "    lgb_model = lgb.LGBMClassifier(n_estimators=150, learning_rate=0.05, num_leaves=50,\n",
    "                                   max_depth=8, min_child_samples=20, subsample=0.8,\n",
    "                                   colsample_bytree=0.8, random_state=42, n_jobs=-1, verbose=-1)\n",
    "    lgb_model.fit(train_embeddings_misc[train_idx], train_target2[train_idx],\n",
    "                  sample_weight=sample_weights,\n",
    "                  eval_set=[(train_embeddings_misc[valid_idx], train_target2[valid_idx])],\n",
    "                  callbacks=[lgb.early_stopping(15), lgb.log_evaluation(0)])\n",
    "    ytrain2_lgb[valid_idx] = lgb_model.predict_proba(train_embeddings_misc[valid_idx])\n",
    "    ytest2_lgb += lgb_model.predict_proba(test_embeddings_misc) / 10\n",
    "\n",
    "# Weighted Ensemble\n",
    "ytrain2 = 0.7 * ytrain2_lr + 0.3 * ytrain2_lgb\n",
    "ytest2 = 0.7 * ytest2_lr + 0.3 * ytest2_lgb\n",
    "\n",
    "print(\"Misconception ACC:\", np.mean(train_target2 == np.argmax(ytrain2, 1)))\n",
    "print(\"Misconception F1:\", sklearn.metrics.f1_score(train_target2, np.argmax(ytrain2, 1), average='weighted'))"
   ]
  },
  {
   "cell_type": "code",
   "execution_count": 8,
   "id": "36939f99",
   "metadata": {
    "execution": {
     "iopub.execute_input": "2025-07-15T06:29:52.030331Z",
     "iopub.status.busy": "2025-07-15T06:29:52.030073Z",
     "iopub.status.idle": "2025-07-15T06:29:52.184045Z",
     "shell.execute_reply": "2025-07-15T06:29:52.183123Z"
    },
    "papermill": {
     "duration": 0.161004,
     "end_time": "2025-07-15T06:29:52.185260",
     "exception": false,
     "start_time": "2025-07-15T06:29:52.024256",
     "status": "completed"
    },
    "tags": []
   },
   "outputs": [
    {
     "name": "stdout",
     "output_type": "stream",
     "text": [
      "\n",
      "Validation Results:\n",
      "Acc@1: 0.8135219097449313\n",
      "Acc@2: 0.1339655548288642\n",
      "Acc@3: 0.0033791148899062567\n",
      "MAP@3: 0.881631058789331\n"
     ]
    }
   ],
   "source": [
    "# Create reverse label mappings\n",
    "map_inverse1 = {v: k for k, v in map_target1.items()}\n",
    "map_inverse2 = {v: k for k, v in map_target2.items()}\n",
    "\n",
    "# Ensure NA class (0) in misconception prediction is never selected\n",
    "ytrain2[:, 0] = 0\n",
    "\n",
    "# Top-3 predictions for validation\n",
    "predicted1 = np.argsort(-ytrain1, axis=1)[:, :3]\n",
    "predicted2 = np.argsort(-ytrain2, axis=1)[:, :3]\n",
    "\n",
    "# Combine Category and Misconception predictions\n",
    "predict = []\n",
    "for i in range(len(predicted1)):\n",
    "    pred = []\n",
    "    for j in range(3):\n",
    "        p1 = map_inverse1[predicted1[i, j]]\n",
    "        p2 = map_inverse2[predicted2[i, j]]\n",
    "        if 'Misconception' in p1:\n",
    "            pred.append(p1 + \":\" + p2)\n",
    "        else:\n",
    "            pred.append(p1 + \":NA\")\n",
    "    predict.append(pred)\n",
    "\n",
    "# Validation true labels\n",
    "train_target_cat = train['target_cat'].to_list()\n",
    "\n",
    "# Accuracy at K\n",
    "print(\"\\nValidation Results:\")\n",
    "print(\"Acc@1:\", np.mean([train_target_cat[i] == predict[i][0] for i in range(len(predict))]))\n",
    "print(\"Acc@2:\", np.mean([train_target_cat[i] == predict[i][1] for i in range(len(predict))]))\n",
    "print(\"Acc@3:\", np.mean([train_target_cat[i] == predict[i][2] for i in range(len(predict))]))\n",
    "\n",
    "# MAP@3 implementation\n",
    "def map3(target_list, pred_list):\n",
    "    score = 0.\n",
    "    for t, p in zip(target_list, pred_list):\n",
    "        if t == p[0]:\n",
    "            score += 1.\n",
    "        elif t == p[1]:\n",
    "            score += 1 / 2\n",
    "        elif t == p[2]:\n",
    "            score += 1 / 3\n",
    "    return score / len(target_list)\n",
    "\n",
    "print(f\"MAP@3: {map3(train_target_cat, predict)}\")"
   ]
  },
  {
   "cell_type": "code",
   "execution_count": 9,
   "id": "8a77ffbe",
   "metadata": {
    "execution": {
     "iopub.execute_input": "2025-07-15T06:29:52.196385Z",
     "iopub.status.busy": "2025-07-15T06:29:52.195901Z",
     "iopub.status.idle": "2025-07-15T06:29:52.202911Z",
     "shell.execute_reply": "2025-07-15T06:29:52.202301Z"
    },
    "papermill": {
     "duration": 0.013586,
     "end_time": "2025-07-15T06:29:52.204020",
     "exception": false,
     "start_time": "2025-07-15T06:29:52.190434",
     "status": "completed"
    },
    "tags": []
   },
   "outputs": [],
   "source": [
    "# Prevent NA prediction in final misconception output\n",
    "ytest2[:, 0] = 0\n",
    "\n",
    "# Top-3 predictions for test set\n",
    "predicted1 = np.argsort(-ytest1, axis=1)[:, :3]\n",
    "predicted2 = np.argsort(-ytest2, axis=1)[:, :3]\n",
    "\n",
    "# Combine predicted labels\n",
    "predict = []\n",
    "for i in range(len(predicted1)):\n",
    "    pred = []\n",
    "    for j in range(3):\n",
    "        p1 = map_inverse1[predicted1[i, j]]\n",
    "        p2 = map_inverse2[predicted2[i, j]]\n",
    "        if 'Misconception' in p1:\n",
    "            pred.append(p1 + \":\" + p2)\n",
    "        else:\n",
    "            pred.append(p1 + \":NA\")\n",
    "    predict.append(\" \".join(pred))"
   ]
  },
  {
   "cell_type": "code",
   "execution_count": 10,
   "id": "7781e386",
   "metadata": {
    "execution": {
     "iopub.execute_input": "2025-07-15T06:29:52.214062Z",
     "iopub.status.busy": "2025-07-15T06:29:52.213886Z",
     "iopub.status.idle": "2025-07-15T06:29:52.280456Z",
     "shell.execute_reply": "2025-07-15T06:29:52.279708Z"
    },
    "papermill": {
     "duration": 0.073,
     "end_time": "2025-07-15T06:29:52.281652",
     "exception": false,
     "start_time": "2025-07-15T06:29:52.208652",
     "status": "completed"
    },
    "tags": []
   },
   "outputs": [
    {
     "name": "stdout",
     "output_type": "stream",
     "text": [
      "\n",
      "Submission file created successfully!\n"
     ]
    }
   ],
   "source": [
    "# Load sample submission and insert predictions\n",
    "sub = pl.read_csv(\"/kaggle/input/map-charting-student-math-misunderstandings/sample_submission.csv\")\n",
    "sub = sub.with_columns([\n",
    "    pl.Series('Category:Misconception', predict)\n",
    "])\n",
    "\n",
    "# Save to CSV\n",
    "sub.write_csv(\"submission.csv\")\n",
    "\n",
    "print(\"\\nSubmission file created successfully!\")"
   ]
  }
 ],
 "metadata": {
  "kaggle": {
   "accelerator": "nvidiaTeslaT4",
   "dataSources": [
    {
     "databundleVersionId": 12957508,
     "sourceId": 104383,
     "sourceType": "competition"
    }
   ],
   "dockerImageVersionId": 31091,
   "isGpuEnabled": true,
   "isInternetEnabled": false,
   "language": "python",
   "sourceType": "notebook"
  },
  "kernelspec": {
   "display_name": "Python 3",
   "language": "python",
   "name": "python3"
  },
  "language_info": {
   "codemirror_mode": {
    "name": "ipython",
    "version": 3
   },
   "file_extension": ".py",
   "mimetype": "text/x-python",
   "name": "python",
   "nbconvert_exporter": "python",
   "pygments_lexer": "ipython3",
   "version": "3.11.13"
  },
  "papermill": {
   "default_parameters": {},
   "duration": 3693.070503,
   "end_time": "2025-07-15T06:29:53.408373",
   "environment_variables": {},
   "exception": null,
   "input_path": "__notebook__.ipynb",
   "output_path": "__notebook__.ipynb",
   "parameters": {},
   "start_time": "2025-07-15T05:28:20.337870",
   "version": "2.6.0"
  }
 },
 "nbformat": 4,
 "nbformat_minor": 5
}
