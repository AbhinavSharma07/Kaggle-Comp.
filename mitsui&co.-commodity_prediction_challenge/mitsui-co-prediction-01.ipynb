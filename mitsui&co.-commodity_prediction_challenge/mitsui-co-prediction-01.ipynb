{
 "cells": [
  {
   "cell_type": "code",
   "execution_count": 1,
   "id": "72743cf7",
   "metadata": {
    "execution": {
     "iopub.execute_input": "2025-08-01T09:32:30.906789Z",
     "iopub.status.busy": "2025-08-01T09:32:30.906558Z",
     "iopub.status.idle": "2025-08-01T09:32:35.876788Z",
     "shell.execute_reply": "2025-08-01T09:32:35.876061Z"
    },
    "papermill": {
     "duration": 4.975073,
     "end_time": "2025-08-01T09:32:35.878865",
     "exception": false,
     "start_time": "2025-08-01T09:32:30.903792",
     "status": "completed"
    },
    "tags": []
   },
   "outputs": [
    {
     "name": "stdout",
     "output_type": "stream",
     "text": [
      "Requirement already satisfied: polars in /usr/local/lib/python3.11/dist-packages (1.21.0)\r\n"
     ]
    }
   ],
   "source": [
    "# Add package \n",
    "!pip install polars"
   ]
  },
  {
   "cell_type": "code",
   "execution_count": 2,
   "id": "f2a037c6",
   "metadata": {
    "execution": {
     "iopub.execute_input": "2025-08-01T09:32:35.883908Z",
     "iopub.status.busy": "2025-08-01T09:32:35.883642Z",
     "iopub.status.idle": "2025-08-01T09:32:42.108689Z",
     "shell.execute_reply": "2025-08-01T09:32:42.108118Z"
    },
    "papermill": {
     "duration": 6.228841,
     "end_time": "2025-08-01T09:32:42.110027",
     "exception": false,
     "start_time": "2025-08-01T09:32:35.881186",
     "status": "completed"
    },
    "tags": []
   },
   "outputs": [],
   "source": [
    "# === Imports ===\n",
    "import os\n",
    "import warnings\n",
    "import numpy as np\n",
    "import pandas as pd\n",
    "import polars as pl\n",
    "\n",
    "from sklearn import *\n",
    "import kaggle_evaluation.mitsui_inference_server\n",
    "\n",
    "# === Ignore warnings for cleaner output ===\n",
    "warnings.filterwarnings(\"ignore\")"
   ]
  },
  {
   "cell_type": "code",
   "execution_count": 3,
   "id": "145b2ac0",
   "metadata": {
    "execution": {
     "iopub.execute_input": "2025-08-01T09:32:42.114856Z",
     "iopub.status.busy": "2025-08-01T09:32:42.114496Z",
     "iopub.status.idle": "2025-08-01T09:32:42.759645Z",
     "shell.execute_reply": "2025-08-01T09:32:42.759064Z"
    },
    "papermill": {
     "duration": 0.648905,
     "end_time": "2025-08-01T09:32:42.760991",
     "exception": false,
     "start_time": "2025-08-01T09:32:42.112086",
     "status": "completed"
    },
    "tags": []
   },
   "outputs": [],
   "source": [
    "# Define input path\n",
    "DATA_PATH = '/kaggle/input/mitsui-commodity-prediction-challenge/'\n",
    "\n",
    "# Load datasets\n",
    "df_train = pd.read_csv(f\"{DATA_PATH}train.csv\")\n",
    "df_labels = pd.read_csv(f\"{DATA_PATH}train_labels.csv\")\n",
    "df_targets = pd.read_csv(f\"{DATA_PATH}target_pairs.csv\")\n",
    "\n",
    "# List of target columns\n",
    "target_columns = [f'target_{i}' for i in range(424)]\n",
    "\n",
    "# Replace NaN targets with 0 (baseline)\n",
    "df_labels[target_columns] = df_labels[target_columns].fillna(0)"
   ]
  },
  {
   "cell_type": "code",
   "execution_count": 4,
   "id": "c1497d3e",
   "metadata": {
    "execution": {
     "iopub.execute_input": "2025-08-01T09:32:42.765486Z",
     "iopub.status.busy": "2025-08-01T09:32:42.765260Z",
     "iopub.status.idle": "2025-08-01T09:32:42.770692Z",
     "shell.execute_reply": "2025-08-01T09:32:42.770200Z"
    },
    "papermill": {
     "duration": 0.008874,
     "end_time": "2025-08-01T09:32:42.771820",
     "exception": false,
     "start_time": "2025-08-01T09:32:42.762946",
     "status": "completed"
    },
    "tags": []
   },
   "outputs": [],
   "source": [
    "def rank_correlation_sharpe_ratio(merged: pd.DataFrame) -> float:\n",
    "    pred_cols = [c for c in merged.columns if c.startswith(\"prediction_\")]\n",
    "    true_cols = [c for c in merged.columns if c.startswith(\"target_\")]\n",
    "\n",
    "    def daily_rank_corr(row):\n",
    "        valid_targets = [c for c in true_cols if pd.notnull(row[c])]\n",
    "        pred_match = [c.replace(\"target_\", \"prediction_\") for c in valid_targets]\n",
    "        \n",
    "        if not valid_targets:\n",
    "            raise ValueError(\"No valid targets on this row\")\n",
    "        \n",
    "        if row[valid_targets].std(ddof=0) == 0 or row[pred_match].std(ddof=0) == 0:\n",
    "            raise ZeroDivisionError(\"Standard deviation is zero for ranking\")\n",
    "        \n",
    "        return np.corrcoef(\n",
    "            row[pred_match].rank(),\n",
    "            row[valid_targets].rank()\n",
    "        )[0, 1]\n",
    "\n",
    "    daily_corrs = merged.apply(daily_rank_corr, axis=1)\n",
    "    std = daily_corrs.std(ddof=0)\n",
    "    if std == 0:\n",
    "        raise ZeroDivisionError(\"Cannot compute Sharpe ratio: std is 0\")\n",
    "\n",
    "    return float(daily_corrs.mean() / std)"
   ]
  },
  {
   "cell_type": "code",
   "execution_count": 5,
   "id": "501b1949",
   "metadata": {
    "execution": {
     "iopub.execute_input": "2025-08-01T09:32:42.776046Z",
     "iopub.status.busy": "2025-08-01T09:32:42.775838Z",
     "iopub.status.idle": "2025-08-01T09:32:43.137679Z",
     "shell.execute_reply": "2025-08-01T09:32:43.137034Z"
    },
    "papermill": {
     "duration": 0.365426,
     "end_time": "2025-08-01T09:32:43.138845",
     "exception": false,
     "start_time": "2025-08-01T09:32:42.773419",
     "status": "completed"
    },
    "tags": []
   },
   "outputs": [
    {
     "data": {
      "text/plain": [
       "1.1418709159997808e+16"
      ]
     },
     "execution_count": 5,
     "metadata": {},
     "output_type": "execute_result"
    }
   ],
   "source": [
    "def score(solution_df: pd.DataFrame, prediction_df: pd.DataFrame) -> float:\n",
    "    assert list(solution_df.columns) == list(prediction_df.columns), \"Column mismatch\"\n",
    "    \n",
    "    preds = prediction_df.rename(columns=lambda c: c.replace(\"target_\", \"prediction_\"))\n",
    "    truth = solution_df.replace(0, np.nan)\n",
    "\n",
    "    merged = pd.concat([truth, preds], axis=1)\n",
    "    return rank_correlation_sharpe_ratio(merged)\n",
    "\n",
    "# Optional local evaluation\n",
    "score(df_labels[target_columns].tail(90), df_labels[target_columns].tail(90))"
   ]
  },
  {
   "cell_type": "code",
   "execution_count": 6,
   "id": "410fdab2",
   "metadata": {
    "execution": {
     "iopub.execute_input": "2025-08-01T09:32:43.143226Z",
     "iopub.status.busy": "2025-08-01T09:32:43.143011Z",
     "iopub.status.idle": "2025-08-01T09:32:43.148303Z",
     "shell.execute_reply": "2025-08-01T09:32:43.147641Z"
    },
    "papermill": {
     "duration": 0.008707,
     "end_time": "2025-08-01T09:32:43.149424",
     "exception": false,
     "start_time": "2025-08-01T09:32:43.140717",
     "status": "completed"
    },
    "tags": []
   },
   "outputs": [],
   "source": [
    "# Cache to hold rolling test data\n",
    "rolling_test_df = pd.DataFrame()\n",
    "\n",
    "def predict(test, lag1, lag2, lag3, lag4):\n",
    "    \"\"\"\n",
    "    This is the official prediction function registered with the inference server.\n",
    "    Currently returns label data from train set as a placeholder.\n",
    "    \"\"\"\n",
    "    global rolling_test_df, df_labels, target_columns\n",
    "\n",
    "    # Convert test to pandas\n",
    "    test_df = test.to_pandas()\n",
    "\n",
    "    # Accumulate test data if needed\n",
    "    if not rolling_test_df.empty:\n",
    "        full_test = pd.concat([rolling_test_df, test_df])\n",
    "    else:\n",
    "        full_test = test_df.copy()\n",
    "\n",
    "    # Save updated state\n",
    "    rolling_test_df = full_test.copy()\n",
    "\n",
    "    # Predict for current date_id\n",
    "    current_date = full_test[\"date_id\"].iloc[-1]\n",
    "    preds = df_labels[df_labels[\"date_id\"] == current_date][target_columns]\n",
    "\n",
    "    return preds"
   ]
  },
  {
   "cell_type": "code",
   "execution_count": 7,
   "id": "a8600568",
   "metadata": {
    "execution": {
     "iopub.execute_input": "2025-08-01T09:32:43.153386Z",
     "iopub.status.busy": "2025-08-01T09:32:43.153192Z",
     "iopub.status.idle": "2025-08-01T09:33:01.946287Z",
     "shell.execute_reply": "2025-08-01T09:33:01.945533Z"
    },
    "papermill": {
     "duration": 18.796363,
     "end_time": "2025-08-01T09:33:01.947471",
     "exception": false,
     "start_time": "2025-08-01T09:32:43.151108",
     "status": "completed"
    },
    "tags": []
   },
   "outputs": [
    {
     "data": {
      "text/html": [
       "<div><style>\n",
       ".dataframe > thead > tr,\n",
       ".dataframe > tbody > tr {\n",
       "  text-align: right;\n",
       "  white-space: pre-wrap;\n",
       "}\n",
       "</style>\n",
       "<small>shape: (90, 425)</small><table border=\"1\" class=\"dataframe\"><thead><tr><th>date_id</th><th>target_0</th><th>target_1</th><th>target_2</th><th>target_3</th><th>target_4</th><th>target_5</th><th>target_6</th><th>target_7</th><th>target_8</th><th>target_9</th><th>target_10</th><th>target_11</th><th>target_12</th><th>target_13</th><th>target_14</th><th>target_15</th><th>target_16</th><th>target_17</th><th>target_18</th><th>target_19</th><th>target_20</th><th>target_21</th><th>target_22</th><th>target_23</th><th>target_24</th><th>target_25</th><th>target_26</th><th>target_27</th><th>target_28</th><th>target_29</th><th>target_30</th><th>target_31</th><th>target_32</th><th>target_33</th><th>target_34</th><th>target_35</th><th>&hellip;</th><th>target_387</th><th>target_388</th><th>target_389</th><th>target_390</th><th>target_391</th><th>target_392</th><th>target_393</th><th>target_394</th><th>target_395</th><th>target_396</th><th>target_397</th><th>target_398</th><th>target_399</th><th>target_400</th><th>target_401</th><th>target_402</th><th>target_403</th><th>target_404</th><th>target_405</th><th>target_406</th><th>target_407</th><th>target_408</th><th>target_409</th><th>target_410</th><th>target_411</th><th>target_412</th><th>target_413</th><th>target_414</th><th>target_415</th><th>target_416</th><th>target_417</th><th>target_418</th><th>target_419</th><th>target_420</th><th>target_421</th><th>target_422</th><th>target_423</th></tr><tr><td>i64</td><td>f64</td><td>f64</td><td>f64</td><td>f64</td><td>f64</td><td>f64</td><td>f64</td><td>f64</td><td>f64</td><td>f64</td><td>f64</td><td>f64</td><td>f64</td><td>f64</td><td>f64</td><td>f64</td><td>f64</td><td>f64</td><td>f64</td><td>f64</td><td>f64</td><td>f64</td><td>f64</td><td>f64</td><td>f64</td><td>f64</td><td>f64</td><td>f64</td><td>f64</td><td>f64</td><td>f64</td><td>f64</td><td>f64</td><td>f64</td><td>f64</td><td>f64</td><td>&hellip;</td><td>f64</td><td>f64</td><td>f64</td><td>f64</td><td>f64</td><td>f64</td><td>f64</td><td>f64</td><td>f64</td><td>f64</td><td>f64</td><td>f64</td><td>f64</td><td>f64</td><td>f64</td><td>f64</td><td>f64</td><td>f64</td><td>f64</td><td>f64</td><td>f64</td><td>f64</td><td>f64</td><td>f64</td><td>f64</td><td>f64</td><td>f64</td><td>f64</td><td>f64</td><td>f64</td><td>f64</td><td>f64</td><td>f64</td><td>f64</td><td>f64</td><td>f64</td><td>f64</td></tr></thead><tbody><tr><td>1827</td><td>0.0</td><td>0.0</td><td>0.017868</td><td>-0.000205</td><td>-0.016391</td><td>-0.013827</td><td>0.009972</td><td>0.0</td><td>0.0</td><td>0.007339</td><td>0.0</td><td>0.000648</td><td>-0.000852</td><td>-0.008283</td><td>-0.002739</td><td>0.019704</td><td>0.0</td><td>0.0</td><td>-0.017568</td><td>-0.004002</td><td>-0.014452</td><td>0.0</td><td>0.0</td><td>0.002912</td><td>0.0</td><td>0.0</td><td>0.002835</td><td>0.0</td><td>0.0</td><td>0.014195</td><td>0.0</td><td>0.0</td><td>0.0</td><td>0.0</td><td>0.002789</td><td>0.0</td><td>&hellip;</td><td>0.0</td><td>0.0</td><td>0.0</td><td>0.0</td><td>0.0</td><td>0.007543</td><td>0.0</td><td>0.0</td><td>0.0</td><td>0.0</td><td>0.0</td><td>0.0</td><td>0.0</td><td>0.013897</td><td>0.0</td><td>0.002007</td><td>0.0</td><td>0.0</td><td>0.025312</td><td>0.023136</td><td>-0.005955</td><td>-0.024995</td><td>-0.017375</td><td>0.026902</td><td>0.0</td><td>0.0</td><td>-0.001379</td><td>0.0</td><td>0.019701</td><td>0.0</td><td>-0.02703</td><td>0.043602</td><td>0.027982</td><td>0.0</td><td>0.0</td><td>0.002177</td><td>0.0</td></tr><tr><td>1828</td><td>0.00256</td><td>-0.004592</td><td>-0.001776</td><td>0.000271</td><td>-0.016696</td><td>-0.020025</td><td>0.002514</td><td>0.002204</td><td>-0.011962</td><td>0.008167</td><td>0.017102</td><td>0.005028</td><td>0.019163</td><td>-0.00197</td><td>0.010479</td><td>0.009287</td><td>-0.000343</td><td>-0.041377</td><td>-0.004934</td><td>0.007855</td><td>-0.006208</td><td>-0.004902</td><td>-0.041703</td><td>0.00895</td><td>0.024104</td><td>-0.002321</td><td>0.011276</td><td>-0.028035</td><td>-0.006816</td><td>0.001038</td><td>-0.055063</td><td>-0.009939</td><td>0.025668</td><td>0.004457</td><td>-0.009861</td><td>-0.013057</td><td>&hellip;</td><td>-0.026099</td><td>-0.034523</td><td>0.035679</td><td>0.121072</td><td>-0.008056</td><td>0.021389</td><td>-0.029272</td><td>-0.029545</td><td>0.00028</td><td>0.07288</td><td>-0.107708</td><td>-0.017056</td><td>-0.003319</td><td>0.017535</td><td>-0.037499</td><td>-0.012534</td><td>0.004439</td><td>0.00886</td><td>0.003493</td><td>0.008265</td><td>-0.016261</td><td>-0.000541</td><td>0.011231</td><td>0.020304</td><td>-0.000436</td><td>0.006479</td><td>-0.006886</td><td>0.012063</td><td>0.012081</td><td>-0.020068</td><td>0.002858</td><td>0.019154</td><td>0.019018</td><td>0.003875</td><td>-0.035202</td><td>0.011246</td><td>0.099241</td></tr><tr><td>1829</td><td>0.005346</td><td>-0.014539</td><td>0.019542</td><td>0.014626</td><td>-0.011631</td><td>-0.009223</td><td>-0.005199</td><td>-0.026092</td><td>-0.003865</td><td>0.00895</td><td>-0.008017</td><td>-0.001784</td><td>-0.011473</td><td>-0.010397</td><td>-0.009773</td><td>0.000909</td><td>0.02615</td><td>-0.007636</td><td>-0.003865</td><td>0.009393</td><td>-0.021462</td><td>0.006038</td><td>0.006117</td><td>0.000398</td><td>0.029943</td><td>-0.010855</td><td>-0.002802</td><td>0.005267</td><td>0.01606</td><td>0.004741</td><td>-0.028163</td><td>-0.017205</td><td>-0.003412</td><td>0.015509</td><td>0.010165</td><td>-0.003796</td><td>&hellip;</td><td>-0.011534</td><td>-0.05373</td><td>0.039137</td><td>0.066989</td><td>-0.005044</td><td>0.025555</td><td>0.007079</td><td>-0.012595</td><td>-0.010889</td><td>0.031488</td><td>-0.088161</td><td>0.001681</td><td>-0.022259</td><td>0.019903</td><td>-0.056522</td><td>0.001215</td><td>0.020855</td><td>0.000878</td><td>0.014683</td><td>0.013527</td><td>-0.000723</td><td>-0.01233</td><td>0.003398</td><td>0.025563</td><td>0.002089</td><td>0.03439</td><td>0.013036</td><td>-0.009004</td><td>0.016166</td><td>-0.028919</td><td>-0.007297</td><td>0.033262</td><td>0.023174</td><td>-0.028512</td><td>-0.0179</td><td>-0.002096</td><td>0.121451</td></tr><tr><td>1830</td><td>0.000082</td><td>-0.005226</td><td>0.011452</td><td>0.013346</td><td>0.008228</td><td>-0.014819</td><td>-0.011792</td><td>-0.007148</td><td>0.005712</td><td>0.009382</td><td>0.006053</td><td>-0.001469</td><td>0.034369</td><td>-0.008849</td><td>0.011732</td><td>-0.005689</td><td>0.006415</td><td>-0.001207</td><td>0.001055</td><td>-0.000658</td><td>-0.009977</td><td>0.00162</td><td>-0.010534</td><td>0.005017</td><td>-0.022753</td><td>0.001035</td><td>-0.000097</td><td>0.003259</td><td>0.004387</td><td>-0.031017</td><td>0.008543</td><td>-0.012897</td><td>0.011389</td><td>-0.005703</td><td>0.021406</td><td>0.006979</td><td>&hellip;</td><td>-0.030488</td><td>-0.02537</td><td>0.022239</td><td>0.066084</td><td>0.031417</td><td>0.017546</td><td>0.006995</td><td>-0.026773</td><td>-0.026172</td><td>0.042424</td><td>-0.09226</td><td>-0.002049</td><td>-0.019993</td><td>0.010716</td><td>-0.02674</td><td>-0.012214</td><td>0.026445</td><td>0.008532</td><td>-0.000179</td><td>-0.007162</td><td>-0.013116</td><td>0.001457</td><td>0.015902</td><td>0.002427</td><td>0.001141</td><td>0.000699</td><td>0.01658</td><td>-0.013857</td><td>-0.007742</td><td>-0.018436</td><td>0.004691</td><td>0.013311</td><td>0.000589</td><td>-0.0145</td><td>-0.046444</td><td>0.009058</td><td>0.109246</td></tr><tr><td>1831</td><td>-0.011469</td><td>0.016613</td><td>-0.023765</td><td>-0.018744</td><td>-0.011878</td><td>0.007257</td><td>0.019829</td><td>0.006618</td><td>-0.015351</td><td>-0.020452</td><td>-0.007495</td><td>0.022225</td><td>-0.024215</td><td>0.026028</td><td>0.002966</td><td>0.009503</td><td>-0.00203</td><td>-0.015345</td><td>0.004251</td><td>0.004336</td><td>0.014184</td><td>0.00157</td><td>-0.041702</td><td>0.0101</td><td>-0.115978</td><td>-0.012884</td><td>-0.006369</td><td>-0.043873</td><td>0.006041</td><td>0.037664</td><td>0.16847</td><td>0.014518</td><td>0.034673</td><td>0.021639</td><td>-0.027945</td><td>-0.013476</td><td>&hellip;</td><td>-0.007888</td><td>-0.020061</td><td>0.028008</td><td>0.043235</td><td>0.077982</td><td>0.009942</td><td>0.056984</td><td>-0.021971</td><td>-0.044638</td><td>0.040099</td><td>-0.058358</td><td>0.007707</td><td>-0.02602</td><td>-0.007722</td><td>-0.021644</td><td>-0.027072</td><td>0.052724</td><td>0.015722</td><td>-0.003946</td><td>-0.010448</td><td>-0.016842</td><td>-0.000208</td><td>0.019106</td><td>-0.004725</td><td>-0.011568</td><td>0.000674</td><td>0.007404</td><td>-0.015625</td><td>-0.01885</td><td>-0.025373</td><td>0.031197</td><td>0.005873</td><td>-0.00565</td><td>-0.022926</td><td>-0.02799</td><td>0.011267</td><td>0.091318</td></tr><tr><td>&hellip;</td><td>&hellip;</td><td>&hellip;</td><td>&hellip;</td><td>&hellip;</td><td>&hellip;</td><td>&hellip;</td><td>&hellip;</td><td>&hellip;</td><td>&hellip;</td><td>&hellip;</td><td>&hellip;</td><td>&hellip;</td><td>&hellip;</td><td>&hellip;</td><td>&hellip;</td><td>&hellip;</td><td>&hellip;</td><td>&hellip;</td><td>&hellip;</td><td>&hellip;</td><td>&hellip;</td><td>&hellip;</td><td>&hellip;</td><td>&hellip;</td><td>&hellip;</td><td>&hellip;</td><td>&hellip;</td><td>&hellip;</td><td>&hellip;</td><td>&hellip;</td><td>&hellip;</td><td>&hellip;</td><td>&hellip;</td><td>&hellip;</td><td>&hellip;</td><td>&hellip;</td><td>&hellip;</td><td>&hellip;</td><td>&hellip;</td><td>&hellip;</td><td>&hellip;</td><td>&hellip;</td><td>&hellip;</td><td>&hellip;</td><td>&hellip;</td><td>&hellip;</td><td>&hellip;</td><td>&hellip;</td><td>&hellip;</td><td>&hellip;</td><td>&hellip;</td><td>&hellip;</td><td>&hellip;</td><td>&hellip;</td><td>&hellip;</td><td>&hellip;</td><td>&hellip;</td><td>&hellip;</td><td>&hellip;</td><td>&hellip;</td><td>&hellip;</td><td>&hellip;</td><td>&hellip;</td><td>&hellip;</td><td>&hellip;</td><td>&hellip;</td><td>&hellip;</td><td>&hellip;</td><td>&hellip;</td><td>&hellip;</td><td>&hellip;</td><td>&hellip;</td><td>&hellip;</td><td>&hellip;</td></tr><tr><td>1912</td><td>-0.012596</td><td>0.009309</td><td>0.007947</td><td>0.006477</td><td>-0.026216</td><td>-0.029487</td><td>-0.003287</td><td>0.011751</td><td>-0.02761</td><td>0.000665</td><td>0.026752</td><td>0.000976</td><td>0.02158</td><td>0.001321</td><td>0.025961</td><td>-0.001953</td><td>-0.011606</td><td>-0.055654</td><td>0.002567</td><td>0.030193</td><td>-0.005809</td><td>-0.012533</td><td>-0.041661</td><td>-0.003858</td><td>-0.015186</td><td>0.00545</td><td>-0.008017</td><td>-0.016237</td><td>-0.006058</td><td>0.003453</td><td>-0.002078</td><td>-0.013829</td><td>0.003731</td><td>0.014301</td><td>-0.025108</td><td>-0.028728</td><td>&hellip;</td><td>0.0</td><td>0.0</td><td>0.0</td><td>0.0</td><td>0.0</td><td>0.0</td><td>0.0</td><td>0.0</td><td>0.0</td><td>0.0</td><td>0.0</td><td>0.0</td><td>0.0</td><td>0.0</td><td>0.0</td><td>-0.041135</td><td>0.0</td><td>0.0</td><td>0.0</td><td>0.0</td><td>-0.049973</td><td>0.0</td><td>0.0</td><td>0.0</td><td>0.0</td><td>0.0</td><td>-0.026769</td><td>0.0</td><td>0.0</td><td>0.0</td><td>0.042052</td><td>0.0</td><td>0.0</td><td>0.0</td><td>0.0</td><td>0.031006</td><td>0.0</td></tr><tr><td>1913</td><td>-0.000736</td><td>-0.001292</td><td>-0.005137</td><td>-0.007961</td><td>-0.008494</td><td>-0.011547</td><td>0.004263</td><td>0.00567</td><td>-0.004822</td><td>-0.000875</td><td>0.011004</td><td>0.002718</td><td>0.008976</td><td>-0.0039</td><td>0.018571</td><td>0.003</td><td>-0.005799</td><td>-0.002896</td><td>-0.00415</td><td>0.001491</td><td>0.001282</td><td>0.009566</td><td>-0.014855</td><td>0.004179</td><td>-0.002997</td><td>-0.005198</td><td>0.002046</td><td>-0.007307</td><td>-0.003663</td><td>0.00653</td><td>-0.010523</td><td>0.010571</td><td>0.009859</td><td>0.016003</td><td>-0.017071</td><td>-0.004511</td><td>&hellip;</td><td>-0.02153</td><td>-0.01163</td><td>0.002408</td><td>-0.038982</td><td>-0.02049</td><td>-0.003409</td><td>0.024459</td><td>0.010653</td><td>0.015806</td><td>0.006548</td><td>0.019286</td><td>0.012487</td><td>-0.011835</td><td>-0.001247</td><td>-0.010599</td><td>0.000446</td><td>-0.009257</td><td>-0.235108</td><td>-0.004405</td><td>-0.003146</td><td>-0.000069</td><td>0.001729</td><td>0.01176</td><td>-0.004931</td><td>-0.018399</td><td>0.024919</td><td>0.00675</td><td>-0.012992</td><td>-0.003349</td><td>0.010912</td><td>0.006198</td><td>-0.009216</td><td>-0.003038</td><td>-0.026082</td><td>-0.008057</td><td>-0.002069</td><td>-0.141053</td></tr><tr><td>1914</td><td>-0.002294</td><td>0.012898</td><td>0.009978</td><td>0.001567</td><td>0.002596</td><td>-0.007373</td><td>0.007554</td><td>0.002661</td><td>0.004083</td><td>-0.00622</td><td>0.006817</td><td>-0.017027</td><td>0.009083</td><td>0.009517</td><td>0.002916</td><td>-0.002976</td><td>-0.00231</td><td>0.00038</td><td>-0.007149</td><td>0.009475</td><td>-0.002829</td><td>-0.01084</td><td>-0.004764</td><td>-0.011159</td><td>0.100948</td><td>-0.00041</td><td>-0.010294</td><td>-0.004312</td><td>0.007715</td><td>0.005817</td><td>-0.104087</td><td>-0.020188</td><td>-0.032932</td><td>-0.010976</td><td>-0.004316</td><td>0.00374</td><td>&hellip;</td><td>-0.01604</td><td>-0.012072</td><td>-0.006242</td><td>-0.049473</td><td>-0.007303</td><td>-0.00595</td><td>0.042362</td><td>0.005606</td><td>0.008433</td><td>0.014709</td><td>0.0153</td><td>0.008254</td><td>-0.001277</td><td>0.004271</td><td>-0.0081</td><td>0.010568</td><td>-0.021193</td><td>-0.218786</td><td>-0.002684</td><td>-0.001232</td><td>0.014846</td><td>-0.002419</td><td>0.004828</td><td>-0.009354</td><td>-0.001657</td><td>0.003526</td><td>-0.008493</td><td>-0.00524</td><td>0.004044</td><td>0.004459</td><td>0.002619</td><td>0.001308</td><td>-0.006772</td><td>-0.019918</td><td>-0.013304</td><td>-0.005527</td><td>-0.127688</td></tr><tr><td>1915</td><td>0.0</td><td>0.0</td><td>0.0</td><td>0.0</td><td>0.0</td><td>0.0</td><td>0.0</td><td>0.0</td><td>0.0</td><td>0.0</td><td>0.0</td><td>0.0</td><td>-0.006171</td><td>0.0</td><td>-0.008765</td><td>0.0</td><td>0.0</td><td>0.0</td><td>0.0</td><td>-0.001627</td><td>0.0</td><td>0.0</td><td>0.0</td><td>0.0</td><td>0.0</td><td>0.0</td><td>0.0</td><td>0.0</td><td>0.0</td><td>0.0</td><td>0.0</td><td>0.0</td><td>0.0</td><td>0.0</td><td>0.004378</td><td>0.0</td><td>&hellip;</td><td>-0.001893</td><td>-0.018356</td><td>0.011577</td><td>-0.024187</td><td>-0.029459</td><td>0.006396</td><td>0.016987</td><td>0.027237</td><td>0.000558</td><td>0.000394</td><td>0.006531</td><td>0.015775</td><td>-0.021438</td><td>0.011393</td><td>-0.016914</td><td>0.002455</td><td>-0.014087</td><td>-0.025906</td><td>0.007553</td><td>0.015503</td><td>0.001778</td><td>-0.00889</td><td>-0.019823</td><td>0.005968</td><td>0.000596</td><td>0.030605</td><td>0.000639</td><td>-0.00825</td><td>0.012842</td><td>0.009076</td><td>0.000932</td><td>0.011613</td><td>0.003825</td><td>0.02435</td><td>-0.006928</td><td>0.006805</td><td>-0.012187</td></tr><tr><td>1916</td><td>0.0</td><td>0.0</td><td>0.0</td><td>0.0</td><td>0.0</td><td>0.0</td><td>0.0</td><td>0.0</td><td>0.0</td><td>0.0</td><td>0.0</td><td>0.0</td><td>-0.015267</td><td>0.0</td><td>-0.015112</td><td>0.0</td><td>0.0</td><td>0.0</td><td>0.0</td><td>-0.014476</td><td>0.0</td><td>0.0</td><td>0.0</td><td>0.0</td><td>0.0</td><td>0.0</td><td>0.0</td><td>0.0</td><td>0.0</td><td>0.0</td><td>0.0</td><td>0.0</td><td>0.0</td><td>0.0</td><td>0.012471</td><td>0.0</td><td>&hellip;</td><td>0.0</td><td>0.0</td><td>0.0</td><td>0.0</td><td>0.0</td><td>0.0</td><td>0.0</td><td>0.0</td><td>0.0</td><td>0.0</td><td>0.0</td><td>0.0</td><td>0.0</td><td>0.0</td><td>0.0</td><td>0.00335</td><td>0.0</td><td>0.0</td><td>0.0</td><td>0.0</td><td>0.00689</td><td>0.0</td><td>0.0</td><td>0.0</td><td>0.0</td><td>0.0</td><td>0.004819</td><td>0.0</td><td>0.0</td><td>0.0</td><td>0.005931</td><td>0.0</td><td>0.0</td><td>0.0</td><td>0.0</td><td>0.012562</td><td>0.0</td></tr></tbody></table></div>"
      ],
      "text/plain": [
       "shape: (90, 425)\n",
       "┌─────────┬───────────┬───────────┬───────────┬───┬────────────┬───────────┬───────────┬───────────┐\n",
       "│ date_id ┆ target_0  ┆ target_1  ┆ target_2  ┆ … ┆ target_420 ┆ target_42 ┆ target_42 ┆ target_42 │\n",
       "│ ---     ┆ ---       ┆ ---       ┆ ---       ┆   ┆ ---        ┆ 1         ┆ 2         ┆ 3         │\n",
       "│ i64     ┆ f64       ┆ f64       ┆ f64       ┆   ┆ f64        ┆ ---       ┆ ---       ┆ ---       │\n",
       "│         ┆           ┆           ┆           ┆   ┆            ┆ f64       ┆ f64       ┆ f64       │\n",
       "╞═════════╪═══════════╪═══════════╪═══════════╪═══╪════════════╪═══════════╪═══════════╪═══════════╡\n",
       "│ 1827    ┆ 0.0       ┆ 0.0       ┆ 0.017868  ┆ … ┆ 0.0        ┆ 0.0       ┆ 0.002177  ┆ 0.0       │\n",
       "│ 1828    ┆ 0.00256   ┆ -0.004592 ┆ -0.001776 ┆ … ┆ 0.003875   ┆ -0.035202 ┆ 0.011246  ┆ 0.099241  │\n",
       "│ 1829    ┆ 0.005346  ┆ -0.014539 ┆ 0.019542  ┆ … ┆ -0.028512  ┆ -0.0179   ┆ -0.002096 ┆ 0.121451  │\n",
       "│ 1830    ┆ 0.000082  ┆ -0.005226 ┆ 0.011452  ┆ … ┆ -0.0145    ┆ -0.046444 ┆ 0.009058  ┆ 0.109246  │\n",
       "│ 1831    ┆ -0.011469 ┆ 0.016613  ┆ -0.023765 ┆ … ┆ -0.022926  ┆ -0.02799  ┆ 0.011267  ┆ 0.091318  │\n",
       "│ …       ┆ …         ┆ …         ┆ …         ┆ … ┆ …          ┆ …         ┆ …         ┆ …         │\n",
       "│ 1912    ┆ -0.012596 ┆ 0.009309  ┆ 0.007947  ┆ … ┆ 0.0        ┆ 0.0       ┆ 0.031006  ┆ 0.0       │\n",
       "│ 1913    ┆ -0.000736 ┆ -0.001292 ┆ -0.005137 ┆ … ┆ -0.026082  ┆ -0.008057 ┆ -0.002069 ┆ -0.141053 │\n",
       "│ 1914    ┆ -0.002294 ┆ 0.012898  ┆ 0.009978  ┆ … ┆ -0.019918  ┆ -0.013304 ┆ -0.005527 ┆ -0.127688 │\n",
       "│ 1915    ┆ 0.0       ┆ 0.0       ┆ 0.0       ┆ … ┆ 0.02435    ┆ -0.006928 ┆ 0.006805  ┆ -0.012187 │\n",
       "│ 1916    ┆ 0.0       ┆ 0.0       ┆ 0.0       ┆ … ┆ 0.0        ┆ 0.0       ┆ 0.012562  ┆ 0.0       │\n",
       "└─────────┴───────────┴───────────┴───────────┴───┴────────────┴───────────┴───────────┴───────────┘"
      ]
     },
     "metadata": {},
     "output_type": "display_data"
    }
   ],
   "source": [
    "# Initialize server with correct predict function\n",
    "inference_server = kaggle_evaluation.mitsui_inference_server.MitsuiInferenceServer(predict)\n",
    "\n",
    "# Run either in competition mode or locally\n",
    "if os.getenv('KAGGLE_IS_COMPETITION_RERUN'):\n",
    "    inference_server.serve()\n",
    "else:\n",
    "    inference_server.run_local_gateway((DATA_PATH,))\n",
    "    display(pl.read_parquet('/kaggle/working/submission.parquet'))"
   ]
  }
 ],
 "metadata": {
  "kaggle": {
   "accelerator": "nvidiaTeslaT4",
   "dataSources": [
    {
     "databundleVersionId": 13044405,
     "sourceId": 94771,
     "sourceType": "competition"
    }
   ],
   "dockerImageVersionId": 31091,
   "isGpuEnabled": true,
   "isInternetEnabled": false,
   "language": "python",
   "sourceType": "notebook"
  },
  "kernelspec": {
   "display_name": "Python 3",
   "language": "python",
   "name": "python3"
  },
  "language_info": {
   "codemirror_mode": {
    "name": "ipython",
    "version": 3
   },
   "file_extension": ".py",
   "mimetype": "text/x-python",
   "name": "python",
   "nbconvert_exporter": "python",
   "pygments_lexer": "ipython3",
   "version": "3.11.13"
  },
  "papermill": {
   "default_parameters": {},
   "duration": 37.162254,
   "end_time": "2025-08-01T09:33:02.467519",
   "environment_variables": {},
   "exception": null,
   "input_path": "__notebook__.ipynb",
   "output_path": "__notebook__.ipynb",
   "parameters": {},
   "start_time": "2025-08-01T09:32:25.305265",
   "version": "2.6.0"
  }
 },
 "nbformat": 4,
 "nbformat_minor": 5
}
