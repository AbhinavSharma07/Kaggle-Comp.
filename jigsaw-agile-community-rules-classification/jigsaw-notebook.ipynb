{
 "cells": [
  {
   "cell_type": "code",
   "execution_count": 1,
   "id": "c7dd24dd",
   "metadata": {
    "_cell_guid": "b1076dfc-b9ad-4769-8c92-a6c4dae69d19",
    "_uuid": "8f2839f25d086af736a60e9eeb907d3b93b6e0e5",
    "execution": {
     "iopub.execute_input": "2025-07-28T05:57:09.071495Z",
     "iopub.status.busy": "2025-07-28T05:57:09.070575Z",
     "iopub.status.idle": "2025-07-28T05:57:10.988331Z",
     "shell.execute_reply": "2025-07-28T05:57:10.987264Z"
    },
    "papermill": {
     "duration": 1.925562,
     "end_time": "2025-07-28T05:57:10.990029",
     "exception": false,
     "start_time": "2025-07-28T05:57:09.064467",
     "status": "completed"
    },
    "tags": []
   },
   "outputs": [
    {
     "name": "stdout",
     "output_type": "stream",
     "text": [
      "/kaggle/input/jigsaw-agile-community-rules/sample_submission.csv\n",
      "/kaggle/input/jigsaw-agile-community-rules/train.csv\n",
      "/kaggle/input/jigsaw-agile-community-rules/test.csv\n"
     ]
    }
   ],
   "source": [
    "# This Python 3 environment comes with many helpful analytics libraries installed\n",
    "# It is defined by the kaggle/python Docker image: https://github.com/kaggle/docker-python\n",
    "# For example, here's several helpful packages to load\n",
    "\n",
    "import numpy as np # linear algebra\n",
    "import pandas as pd # data processing, CSV file I/O (e.g. pd.read_csv)\n",
    "\n",
    "# Input data files are available in the read-only \"../input/\" directory\n",
    "# For example, running this (by clicking run or pressing Shift+Enter) will list all files under the input directory\n",
    "\n",
    "import os\n",
    "for dirname, _, filenames in os.walk('/kaggle/input'):\n",
    "    for filename in filenames:\n",
    "        print(os.path.join(dirname, filename))\n",
    "\n",
    "# You can write up to 20GB to the current directory (/kaggle/working/) that gets preserved as output when you create a version using \"Save & Run All\" \n",
    "# You can also write temporary files to /kaggle/temp/, but they won't be saved outside of the current session"
   ]
  },
  {
   "cell_type": "markdown",
   "id": "f9ca134b",
   "metadata": {
    "papermill": {
     "duration": 0.003975,
     "end_time": "2025-07-28T05:57:10.998547",
     "exception": false,
     "start_time": "2025-07-28T05:57:10.994572",
     "status": "completed"
    },
    "tags": []
   },
   "source": [
    "# **Problem Overview**\n",
    "\n",
    "In this competition, we're tasked with building a binary classifier to detect whether a Reddit comment violates a specific rule. While the training data contains only two rules, the test data introduces unseen rules, requiring our model to generalize well."
   ]
  },
  {
   "cell_type": "markdown",
   "id": "1632e6fc",
   "metadata": {
    "papermill": {
     "duration": 0.004062,
     "end_time": "2025-07-28T05:57:11.007243",
     "exception": false,
     "start_time": "2025-07-28T05:57:11.003181",
     "status": "completed"
    },
    "tags": []
   },
   "source": [
    "# **Step1: Load and Explore the Data**"
   ]
  },
  {
   "cell_type": "code",
   "execution_count": 2,
   "id": "a5691a36",
   "metadata": {
    "execution": {
     "iopub.execute_input": "2025-07-28T05:57:11.017171Z",
     "iopub.status.busy": "2025-07-28T05:57:11.016751Z",
     "iopub.status.idle": "2025-07-28T05:57:12.929892Z",
     "shell.execute_reply": "2025-07-28T05:57:12.928907Z"
    },
    "papermill": {
     "duration": 1.919892,
     "end_time": "2025-07-28T05:57:12.931508",
     "exception": false,
     "start_time": "2025-07-28T05:57:11.011616",
     "status": "completed"
    },
    "tags": []
   },
   "outputs": [],
   "source": [
    " # For data Visualization e.g histogram, barcharts\n",
    "import matplotlib.pyplot as plt\n",
    "import seaborn as sns\n",
    "import re\n",
    "import string"
   ]
  },
  {
   "cell_type": "code",
   "execution_count": 3,
   "id": "fab1576d",
   "metadata": {
    "execution": {
     "iopub.execute_input": "2025-07-28T05:57:12.941269Z",
     "iopub.status.busy": "2025-07-28T05:57:12.940868Z",
     "iopub.status.idle": "2025-07-28T05:57:13.052028Z",
     "shell.execute_reply": "2025-07-28T05:57:13.051079Z"
    },
    "papermill": {
     "duration": 0.117709,
     "end_time": "2025-07-28T05:57:13.053556",
     "exception": false,
     "start_time": "2025-07-28T05:57:12.935847",
     "status": "completed"
    },
    "tags": []
   },
   "outputs": [
    {
     "data": {
      "text/html": [
       "<div>\n",
       "<style scoped>\n",
       "    .dataframe tbody tr th:only-of-type {\n",
       "        vertical-align: middle;\n",
       "    }\n",
       "\n",
       "    .dataframe tbody tr th {\n",
       "        vertical-align: top;\n",
       "    }\n",
       "\n",
       "    .dataframe thead th {\n",
       "        text-align: right;\n",
       "    }\n",
       "</style>\n",
       "<table border=\"1\" class=\"dataframe\">\n",
       "  <thead>\n",
       "    <tr style=\"text-align: right;\">\n",
       "      <th></th>\n",
       "      <th>row_id</th>\n",
       "      <th>body</th>\n",
       "      <th>rule</th>\n",
       "      <th>subreddit</th>\n",
       "      <th>positive_example_1</th>\n",
       "      <th>positive_example_2</th>\n",
       "      <th>negative_example_1</th>\n",
       "      <th>negative_example_2</th>\n",
       "      <th>rule_violation</th>\n",
       "    </tr>\n",
       "  </thead>\n",
       "  <tbody>\n",
       "    <tr>\n",
       "      <th>0</th>\n",
       "      <td>0</td>\n",
       "      <td>Banks don't want you to know this! Click here ...</td>\n",
       "      <td>No Advertising: Spam, referral links, unsolici...</td>\n",
       "      <td>Futurology</td>\n",
       "      <td>If you could tell your younger self something ...</td>\n",
       "      <td>hunt for lady for jack off in neighbourhood ht...</td>\n",
       "      <td>Watch Golden Globe Awards 2017 Live Online in ...</td>\n",
       "      <td>DOUBLE CEE x BANDS EPPS - \"BIRDS\"\\n\\nDOWNLOAD/...</td>\n",
       "      <td>0</td>\n",
       "    </tr>\n",
       "    <tr>\n",
       "      <th>1</th>\n",
       "      <td>1</td>\n",
       "      <td>SD Stream [ ENG Link 1] (http://www.sportsstre...</td>\n",
       "      <td>No Advertising: Spam, referral links, unsolici...</td>\n",
       "      <td>soccerstreams</td>\n",
       "      <td>[I wanna kiss you all over! Stunning!](http://...</td>\n",
       "      <td>LOLGA.COM is One of the First Professional Onl...</td>\n",
       "      <td>#Rapper \\n🚨Straight Outta Cross Keys SC 🚨YouTu...</td>\n",
       "      <td>[15 Amazing Hidden Features Of Google Search Y...</td>\n",
       "      <td>0</td>\n",
       "    </tr>\n",
       "    <tr>\n",
       "      <th>2</th>\n",
       "      <td>2</td>\n",
       "      <td>Lol. Try appealing the ban and say you won't d...</td>\n",
       "      <td>No legal advice: Do not offer or request legal...</td>\n",
       "      <td>pcmasterrace</td>\n",
       "      <td>Don't break up with him or call the cops.  If ...</td>\n",
       "      <td>It'll be dismissed: https://en.wikipedia.org/w...</td>\n",
       "      <td>Where is there a site that still works where y...</td>\n",
       "      <td>Because this statement of his is true. It isn'...</td>\n",
       "      <td>1</td>\n",
       "    </tr>\n",
       "    <tr>\n",
       "      <th>3</th>\n",
       "      <td>3</td>\n",
       "      <td>she will come your home open her legs with  an...</td>\n",
       "      <td>No Advertising: Spam, referral links, unsolici...</td>\n",
       "      <td>sex</td>\n",
       "      <td>Selling Tyrande codes for 3€ to paypal. PM. \\n...</td>\n",
       "      <td>tight pussy watch for your cock get her at thi...</td>\n",
       "      <td>NSFW(obviously) http://spankbang.com/iy3u/vide...</td>\n",
       "      <td>Good News ::Download WhatsApp 2.16.230 APK for...</td>\n",
       "      <td>1</td>\n",
       "    </tr>\n",
       "    <tr>\n",
       "      <th>4</th>\n",
       "      <td>4</td>\n",
       "      <td>code free tyrande ---&gt;&gt;&gt; [Imgur](http://i.imgu...</td>\n",
       "      <td>No Advertising: Spam, referral links, unsolici...</td>\n",
       "      <td>hearthstone</td>\n",
       "      <td>wow!! amazing reminds me of the old days.Well...</td>\n",
       "      <td>seek for lady for sex in around http://p77.pl/...</td>\n",
       "      <td>must be watch movie https://sites.google.com/s...</td>\n",
       "      <td>We're streaming Pokemon Veitnamese Crystal RIG...</td>\n",
       "      <td>1</td>\n",
       "    </tr>\n",
       "  </tbody>\n",
       "</table>\n",
       "</div>"
      ],
      "text/plain": [
       "   row_id                                               body  \\\n",
       "0       0  Banks don't want you to know this! Click here ...   \n",
       "1       1  SD Stream [ ENG Link 1] (http://www.sportsstre...   \n",
       "2       2  Lol. Try appealing the ban and say you won't d...   \n",
       "3       3  she will come your home open her legs with  an...   \n",
       "4       4  code free tyrande --->>> [Imgur](http://i.imgu...   \n",
       "\n",
       "                                                rule      subreddit  \\\n",
       "0  No Advertising: Spam, referral links, unsolici...     Futurology   \n",
       "1  No Advertising: Spam, referral links, unsolici...  soccerstreams   \n",
       "2  No legal advice: Do not offer or request legal...   pcmasterrace   \n",
       "3  No Advertising: Spam, referral links, unsolici...            sex   \n",
       "4  No Advertising: Spam, referral links, unsolici...    hearthstone   \n",
       "\n",
       "                                  positive_example_1  \\\n",
       "0  If you could tell your younger self something ...   \n",
       "1  [I wanna kiss you all over! Stunning!](http://...   \n",
       "2  Don't break up with him or call the cops.  If ...   \n",
       "3  Selling Tyrande codes for 3€ to paypal. PM. \\n...   \n",
       "4   wow!! amazing reminds me of the old days.Well...   \n",
       "\n",
       "                                  positive_example_2  \\\n",
       "0  hunt for lady for jack off in neighbourhood ht...   \n",
       "1  LOLGA.COM is One of the First Professional Onl...   \n",
       "2  It'll be dismissed: https://en.wikipedia.org/w...   \n",
       "3  tight pussy watch for your cock get her at thi...   \n",
       "4  seek for lady for sex in around http://p77.pl/...   \n",
       "\n",
       "                                  negative_example_1  \\\n",
       "0  Watch Golden Globe Awards 2017 Live Online in ...   \n",
       "1  #Rapper \\n🚨Straight Outta Cross Keys SC 🚨YouTu...   \n",
       "2  Where is there a site that still works where y...   \n",
       "3  NSFW(obviously) http://spankbang.com/iy3u/vide...   \n",
       "4  must be watch movie https://sites.google.com/s...   \n",
       "\n",
       "                                  negative_example_2  rule_violation  \n",
       "0  DOUBLE CEE x BANDS EPPS - \"BIRDS\"\\n\\nDOWNLOAD/...               0  \n",
       "1  [15 Amazing Hidden Features Of Google Search Y...               0  \n",
       "2  Because this statement of his is true. It isn'...               1  \n",
       "3  Good News ::Download WhatsApp 2.16.230 APK for...               1  \n",
       "4  We're streaming Pokemon Veitnamese Crystal RIG...               1  "
      ]
     },
     "execution_count": 3,
     "metadata": {},
     "output_type": "execute_result"
    }
   ],
   "source": [
    "# load dataset\n",
    "train_data = pd.read_csv('/kaggle/input/jigsaw-agile-community-rules/train.csv')\n",
    "test_data = pd.read_csv('/kaggle/input/jigsaw-agile-community-rules/test.csv')\n",
    "\n",
    "train_data.head() # Display the first five rows of the training dataset "
   ]
  },
  {
   "cell_type": "code",
   "execution_count": 4,
   "id": "be92c663",
   "metadata": {
    "execution": {
     "iopub.execute_input": "2025-07-28T05:57:13.063798Z",
     "iopub.status.busy": "2025-07-28T05:57:13.063471Z",
     "iopub.status.idle": "2025-07-28T05:57:13.068423Z",
     "shell.execute_reply": "2025-07-28T05:57:13.067520Z"
    },
    "papermill": {
     "duration": 0.011613,
     "end_time": "2025-07-28T05:57:13.069874",
     "exception": false,
     "start_time": "2025-07-28T05:57:13.058261",
     "status": "completed"
    },
    "tags": []
   },
   "outputs": [
    {
     "name": "stdout",
     "output_type": "stream",
     "text": [
      "Train_shape: (2029, 9)\n",
      "Test_shape: (10, 8)\n"
     ]
    }
   ],
   "source": [
    "print('Train_shape:',train_data.shape)\n",
    "print('Test_shape:',test_data.shape)"
   ]
  },
  {
   "cell_type": "markdown",
   "id": "abe97899",
   "metadata": {
    "papermill": {
     "duration": 0.004116,
     "end_time": "2025-07-28T05:57:13.078597",
     "exception": false,
     "start_time": "2025-07-28T05:57:13.074481",
     "status": "completed"
    },
    "tags": []
   },
   "source": [
    "**Basic Exploratory Data Analysis**\n",
    "\n",
    "Display the distribution of the target variables(rule_violation). This helps us understand class imbalance e.g how many comments violated the rules vs not violated."
   ]
  },
  {
   "cell_type": "code",
   "execution_count": 5,
   "id": "49930c1e",
   "metadata": {
    "execution": {
     "iopub.execute_input": "2025-07-28T05:57:13.089249Z",
     "iopub.status.busy": "2025-07-28T05:57:13.088905Z",
     "iopub.status.idle": "2025-07-28T05:57:13.100318Z",
     "shell.execute_reply": "2025-07-28T05:57:13.099369Z"
    },
    "papermill": {
     "duration": 0.018733,
     "end_time": "2025-07-28T05:57:13.101599",
     "exception": false,
     "start_time": "2025-07-28T05:57:13.082866",
     "status": "completed"
    },
    "tags": []
   },
   "outputs": [
    {
     "name": "stdout",
     "output_type": "stream",
     "text": [
      "rule_violation\n",
      "1    1031\n",
      "0     998\n",
      "Name: count, dtype: int64\n"
     ]
    }
   ],
   "source": [
    "print(train_data['rule_violation'].value_counts())"
   ]
  },
  {
   "cell_type": "markdown",
   "id": "3443d802",
   "metadata": {
    "papermill": {
     "duration": 0.004378,
     "end_time": "2025-07-28T05:57:13.110958",
     "exception": false,
     "start_time": "2025-07-28T05:57:13.106580",
     "status": "completed"
    },
    "tags": []
   },
   "source": [
    "Show how many examples come from each subreddit. Useful for checking if data is dominated by certain communities."
   ]
  },
  {
   "cell_type": "code",
   "execution_count": 6,
   "id": "da7b52f9",
   "metadata": {
    "execution": {
     "iopub.execute_input": "2025-07-28T05:57:13.121261Z",
     "iopub.status.busy": "2025-07-28T05:57:13.120983Z",
     "iopub.status.idle": "2025-07-28T05:57:13.127892Z",
     "shell.execute_reply": "2025-07-28T05:57:13.126894Z"
    },
    "papermill": {
     "duration": 0.014061,
     "end_time": "2025-07-28T05:57:13.129621",
     "exception": false,
     "start_time": "2025-07-28T05:57:13.115560",
     "status": "completed"
    },
    "tags": []
   },
   "outputs": [
    {
     "name": "stdout",
     "output_type": "stream",
     "text": [
      "subreddit\n",
      "legaladvice         213\n",
      "AskReddit           152\n",
      "soccerstreams       139\n",
      "personalfinance     125\n",
      "relationships       106\n",
      "                   ... \n",
      "fantasyfootball       1\n",
      "PurplePillDebate      1\n",
      "changemyview          1\n",
      "IAmA                  1\n",
      "TheSilphRoad          1\n",
      "Name: count, Length: 100, dtype: int64\n"
     ]
    }
   ],
   "source": [
    "print(train_data['subreddit'].value_counts())"
   ]
  },
  {
   "cell_type": "markdown",
   "id": "a11402da",
   "metadata": {
    "papermill": {
     "duration": 0.004359,
     "end_time": "2025-07-28T05:57:13.138821",
     "exception": false,
     "start_time": "2025-07-28T05:57:13.134462",
     "status": "completed"
    },
    "tags": []
   },
   "source": [
    "**Visualizing the Distribution of Comment Lengths:** I create a new feature 'body_length' to capture the number of characters in each comment. This helps understand the range and frequency of comment lengths in the dataset. Longer or shorter comments may correlate with rule violations and can be an important feature.\n"
   ]
  },
  {
   "cell_type": "code",
   "execution_count": 7,
   "id": "d9b65f34",
   "metadata": {
    "execution": {
     "iopub.execute_input": "2025-07-28T05:57:13.149290Z",
     "iopub.status.busy": "2025-07-28T05:57:13.148980Z",
     "iopub.status.idle": "2025-07-28T05:57:13.518299Z",
     "shell.execute_reply": "2025-07-28T05:57:13.517395Z"
    },
    "papermill": {
     "duration": 0.376312,
     "end_time": "2025-07-28T05:57:13.519726",
     "exception": false,
     "start_time": "2025-07-28T05:57:13.143414",
     "status": "completed"
    },
    "tags": []
   },
   "outputs": [
    {
     "data": {
      "image/png": "[encoded data removed]",
      "text/plain": [
       "<Figure size 640x480 with 1 Axes>"
      ]
     },
     "metadata": {},
     "output_type": "display_data"
    }
   ],
   "source": [
    "train_data['body_length'] = train_data['body'].str.len()\n",
    "#train_data['body_length'].value_counts()\n",
    "\n",
    "train_data['body_length'].hist(bins=50, color='blue',edgecolor='black')\n",
    "plt.title('Distribution of Comment Length')\n",
    "plt.xlabel('Comment Length')\n",
    "plt.ylabel('Frequency')\n",
    "plt.show()"
   ]
  },
  {
   "cell_type": "markdown",
   "id": "df6d7903",
   "metadata": {
    "papermill": {
     "duration": 0.004696,
     "end_time": "2025-07-28T05:57:13.529699",
     "exception": false,
     "start_time": "2025-07-28T05:57:13.525003",
     "status": "completed"
    },
    "tags": []
   },
   "source": [
    "# **Step 2: Preprocessing and Text Cleaning** "
   ]
  },
  {
   "cell_type": "markdown",
   "id": "be6ead56",
   "metadata": {
    "papermill": {
     "duration": 0.004807,
     "end_time": "2025-07-28T05:57:13.539503",
     "exception": false,
     "start_time": "2025-07-28T05:57:13.534696",
     "status": "completed"
    },
    "tags": []
   },
   "source": [
    "**Word Cloud for Rule Text**"
   ]
  },
  {
   "cell_type": "code",
   "execution_count": 8,
   "id": "345db854",
   "metadata": {
    "execution": {
     "iopub.execute_input": "2025-07-28T05:57:13.551335Z",
     "iopub.status.busy": "2025-07-28T05:57:13.550419Z",
     "iopub.status.idle": "2025-07-28T05:57:14.290978Z",
     "shell.execute_reply": "2025-07-28T05:57:14.290116Z"
    },
    "papermill": {
     "duration": 0.749736,
     "end_time": "2025-07-28T05:57:14.294117",
     "exception": false,
     "start_time": "2025-07-28T05:57:13.544381",
     "status": "completed"
    },
    "tags": []
   },
   "outputs": [
    {
     "data": {
      "image/png": "[encoded data removed]",
      "text/plain": [
       "<Figure size 1000x500 with 1 Axes>"
      ]
     },
     "metadata": {},
     "output_type": "display_data"
    }
   ],
   "source": [
    "# Generate word cloud for rules\n",
    "from wordcloud import WordCloud\n",
    "from sklearn.feature_extraction.text import ENGLISH_STOP_WORDS\n",
    "\n",
    "def clean_text(text):\n",
    "    text = str(text).lower()\n",
    "    text = re.sub(r\"http\\S+|www\\S+\", \" \", text)\n",
    "    text = re.sub(r\"\\[.*?\\]|\\(.*?\\)\", \" \", text)\n",
    "    text = re.sub(r\"[^a-z0-9\\s]\", \" \", text)\n",
    "    text = re.sub(r\"\\s+\", \" \", text).strip()\n",
    "    return text\n",
    "\n",
    "train_data['rule_clean'] = train_data['rule'].apply(clean_text)\n",
    "\n",
    "# Combine all cleaned rules\n",
    "all_rules_text = \" \".join(train_data['rule_clean'])\n",
    "\n",
    "# Generate word cloud\n",
    "wordcloud = WordCloud(width=800, height=400, background_color='white',\n",
    "                      stopwords=ENGLISH_STOP_WORDS).generate(all_rules_text)\n",
    "\n",
    "plt.figure(figsize=(10, 5))\n",
    "plt.imshow(wordcloud, interpolation='bilinear')\n",
    "plt.axis('off')\n",
    "plt.title('Word Cloud for Rule Descriptions')\n",
    "plt.show()"
   ]
  },
  {
   "cell_type": "markdown",
   "id": "bef4a860",
   "metadata": {
    "papermill": {
     "duration": 0.008085,
     "end_time": "2025-07-28T05:57:14.310785",
     "exception": false,
     "start_time": "2025-07-28T05:57:14.302700",
     "status": "completed"
    },
    "tags": []
   },
   "source": [
    "# Step 3: Processing "
   ]
  },
  {
   "cell_type": "code",
   "execution_count": 9,
   "id": "02c32338",
   "metadata": {
    "execution": {
     "iopub.execute_input": "2025-07-28T05:57:14.330062Z",
     "iopub.status.busy": "2025-07-28T05:57:14.329242Z",
     "iopub.status.idle": "2025-07-28T05:57:14.424297Z",
     "shell.execute_reply": "2025-07-28T05:57:14.423550Z"
    },
    "papermill": {
     "duration": 0.10626,
     "end_time": "2025-07-28T05:57:14.425794",
     "exception": false,
     "start_time": "2025-07-28T05:57:14.319534",
     "status": "completed"
    },
    "tags": []
   },
   "outputs": [],
   "source": [
    "# Clean text columns \n",
    "for df in [train_data, test_data]:\n",
    "    df['body_clean'] = df['body'].apply(clean_text)\n",
    "    df['rule_clean'] = df['rule'].apply(clean_text)\n",
    "    # Feature engineering\n",
    "    df['body_length'] = df['body'].str.len()\n",
    "    df['num_words'] = df['body'].str.split().apply(len)\n",
    "    df['num_exclamations'] = df['body'].str.count('!')\n",
    "    df['rule_length'] = df['rule'].str.len()\n",
    "    df['rule_words'] = df['rule'].str.split().apply(len)\n",
    "\n",
    "# Combine cleaned text\n",
    "train_data['combined_clean'] = train_data['body_clean'] + ' ' + train_data['rule_clean']\n",
    "test_data['combined_clean'] = test_data['body_clean'] + ' ' + test_data['rule_clean']"
   ]
  },
  {
   "cell_type": "code",
   "execution_count": 10,
   "id": "2e678b20",
   "metadata": {
    "execution": {
     "iopub.execute_input": "2025-07-28T05:57:14.443744Z",
     "iopub.status.busy": "2025-07-28T05:57:14.443419Z",
     "iopub.status.idle": "2025-07-28T05:57:14.659239Z",
     "shell.execute_reply": "2025-07-28T05:57:14.658418Z"
    },
    "papermill": {
     "duration": 0.226501,
     "end_time": "2025-07-28T05:57:14.660803",
     "exception": false,
     "start_time": "2025-07-28T05:57:14.434302",
     "status": "completed"
    },
    "tags": []
   },
   "outputs": [],
   "source": [
    "from sklearn.feature_extraction.text import TfidfVectorizer\n",
    "\n",
    "# Vectorize Body and Rule Separately\n",
    "tfidf_body = TfidfVectorizer(max_features=15000, stop_words='english', ngram_range=(1,2), sublinear_tf=True)\n",
    "tfidf_rule = TfidfVectorizer(max_features=3000, stop_words='english', ngram_range=(1,2), sublinear_tf=True)\n",
    "\n",
    "X_body = tfidf_body.fit_transform(train_data['body_clean'])\n",
    "X_rule = tfidf_rule.fit_transform(train_data['rule_clean'])\n",
    "\n",
    "X_body_test = tfidf_body.transform(test_data['body_clean'])\n",
    "X_rule_test = tfidf_rule.transform(test_data['rule_clean'])\n",
    "\n",
    "# Combine TF-IDF + metadata features\n",
    "from scipy.sparse import hstack\n",
    "\n",
    "meta_features = ['body_length', 'num_words', 'num_exclamations', 'rule_length', 'rule_words']\n",
    "X_meta = train_data[meta_features].values\n",
    "X_meta_test = test_data[meta_features].values\n",
    "\n",
    "X_train_final = hstack([X_body, X_rule, X_meta])\n",
    "X_test_final = hstack([X_body_test, X_rule_test, X_meta_test])\n",
    "\n",
    "y_train = train_data['rule_violation']"
   ]
  },
  {
   "cell_type": "code",
   "execution_count": 11,
   "id": "41ef3c80",
   "metadata": {
    "execution": {
     "iopub.execute_input": "2025-07-28T05:57:14.679620Z",
     "iopub.status.busy": "2025-07-28T05:57:14.679320Z",
     "iopub.status.idle": "2025-07-28T05:57:44.346016Z",
     "shell.execute_reply": "2025-07-28T05:57:44.344953Z"
    },
    "papermill": {
     "duration": 29.677635,
     "end_time": "2025-07-28T05:57:44.347501",
     "exception": false,
     "start_time": "2025-07-28T05:57:14.669866",
     "status": "completed"
    },
    "tags": []
   },
   "outputs": [
    {
     "name": "stdout",
     "output_type": "stream",
     "text": [
      "Validation AUC: 0.8414684466019418\n",
      "submission.csv created.\n",
      "Training until validation scores don't improve for 100 rounds\n",
      "[100]\ttrain's auc: 0.895876\tvalid's auc: 0.759927\n",
      "[200]\ttrain's auc: 0.933426\tvalid's auc: 0.761978\n",
      "Early stopping, best iteration is:\n",
      "[185]\ttrain's auc: 0.929393\tvalid's auc: 0.763871\n",
      "Validation AUC: 0.763871359223301\n",
      "submission.csv created.\n"
     ]
    },
    {
     "name": "stderr",
     "output_type": "stream",
     "text": [
      "/usr/local/lib/python3.11/dist-packages/lightgbm/basic.py:1218: UserWarning: Converting data to scipy sparse matrix.\n",
      "  _log_warning(\"Converting data to scipy sparse matrix.\")\n"
     ]
    }
   ],
   "source": [
    "from sklearn.metrics import make_scorer, accuracy_score, recall_score, precision_score, roc_curve, roc_auc_score\n",
    "from sklearn.model_selection import train_test_split\n",
    "from sklearn.ensemble import GradientBoostingClassifier\n",
    "\n",
    "X_train_sub, X_val_sub, y_train_sub, y_val_sub = train_test_split(\n",
    "    X_train_final, y_train, test_size=0.2, stratify=y_train, random_state=42)\n",
    "\n",
    "# Gradient Boosting Model\n",
    "gb_model = GradientBoostingClassifier(n_estimators=500, learning_rate=0.05,max_depth=3,random_state=42)\n",
    "# Train the model\n",
    "gb_model.fit(X_train_sub, y_train_sub)\n",
    "\n",
    "# Validation predictions\n",
    "val_preds = gb_model.predict_proba(X_val_sub)[:, 1]\n",
    " \n",
    "# Evaluation\n",
    "print(\"Validation AUC:\", roc_auc_score(y_val_sub, val_preds))\n",
    "\n",
    "# Predict on test set\n",
    "test_preds = gb_model.predict_proba(X_test_final)[:, 1]\n",
    "\n",
    "# Create submission\n",
    "submission = test_data[['row_id']].copy()\n",
    "submission['rule_violation'] = test_preds\n",
    "submission.to_csv('submission.csv', index=False)\n",
    "print(\"submission.csv created.\")\n",
    "\n",
    "import lightgbm as lgb\n",
    "\n",
    "# LightGBM Model\n",
    "lgb_train = lgb.Dataset(X_train_sub, y_train_sub)\n",
    "lgb_val = lgb.Dataset(X_val_sub, y_val_sub, reference=lgb_train)\n",
    "\n",
    "params = {'objective': 'binary','metric': 'auc','boosting_type': 'gbdt',\n",
    "    'num_leaves': 64,'max_depth': -1,'learning_rate': 0.03,'feature_fraction': 0.7,\n",
    "    'bagging_fraction': 0.7,'bagging_freq': 5,'verbosity': -1,'random_state': 42}\n",
    "\n",
    "model = lgb.train(params,lgb_train,num_boost_round=2000,valid_sets=[lgb_train, lgb_val],\n",
    "    valid_names=['train', 'valid'],callbacks=[lgb.early_stopping(stopping_rounds=100), lgb.log_evaluation(100)])\n",
    "                 \n",
    "# Predict & evaluate\n",
    "val_preds = model.predict(X_val_sub)\n",
    "print(\"Validation AUC:\", roc_auc_score(y_val_sub, val_preds))\n",
    "\n",
    "# Predict on test set\n",
    "test_preds = model.predict(X_test_final)\n",
    "\n",
    "# Submission\n",
    "submission = test_data[['row_id']].copy()\n",
    "submission['rule_violation'] = test_preds\n",
    "submission.to_csv('submission.csv', index=False)\n",
    "print(\"submission.csv created.\")"
   ]
  },
  {
   "cell_type": "markdown",
   "id": "ca8d674e",
   "metadata": {
    "papermill": {
     "duration": 0.008352,
     "end_time": "2025-07-28T05:57:44.364657",
     "exception": false,
     "start_time": "2025-07-28T05:57:44.356305",
     "status": "completed"
    },
    "tags": []
   },
   "source": [
    "# **Step 4: Build and Train LSTM Model**\n"
   ]
  },
  {
   "cell_type": "code",
   "execution_count": 12,
   "id": "fdf32efd",
   "metadata": {
    "execution": {
     "iopub.execute_input": "2025-07-28T05:57:44.383291Z",
     "iopub.status.busy": "2025-07-28T05:57:44.382553Z",
     "iopub.status.idle": "2025-07-28T05:58:01.265913Z",
     "shell.execute_reply": "2025-07-28T05:58:01.265004Z"
    },
    "papermill": {
     "duration": 16.894311,
     "end_time": "2025-07-28T05:58:01.267545",
     "exception": false,
     "start_time": "2025-07-28T05:57:44.373234",
     "status": "completed"
    },
    "tags": []
   },
   "outputs": [
    {
     "name": "stderr",
     "output_type": "stream",
     "text": [
      "WARNING: All log messages before absl::InitializeLog() is called are written to STDERR\n",
      "E0000 00:00:1753682266.593384      13 cuda_dnn.cc:8310] Unable to register cuDNN factory: Attempting to register factory for plugin cuDNN when one has already been registered\n",
      "E0000 00:00:1753682266.663279      13 cuda_blas.cc:1418] Unable to register cuBLAS factory: Attempting to register factory for plugin cuBLAS when one has already been registered\n"
     ]
    }
   ],
   "source": [
    "#Prepare Tokenizer Sequence\n",
    "import os\n",
    "os.environ['TF_CPP_MIN_LOG_LEVEL'] = '3'\n",
    "\n",
    "from tensorflow.keras.preprocessing.text import Tokenizer\n",
    "from tensorflow.keras.preprocessing.sequence import pad_sequences\n",
    "from sklearn.model_selection import train_test_split\n",
    "\n",
    "# Tokenization\n",
    "MAX_VOCAB = 20000\n",
    "MAXLEN = 300\n",
    "\n",
    "tokenizer = Tokenizer(num_words=MAX_VOCAB, oov_token='<OOV>')\n",
    "tokenizer.fit_on_texts(train_data['combined_clean'])\n",
    "\n",
    "X_seq = tokenizer.texts_to_sequences(train_data['combined_clean'])\n",
    "X_test_seq = tokenizer.texts_to_sequences(test_data['combined_clean'])\n",
    "\n",
    "# Padding\n",
    "X_seq_padded = pad_sequences(X_seq, maxlen=MAXLEN, padding='post')\n",
    "X_test_padded = pad_sequences(X_test_seq, maxlen=MAXLEN, padding='post')\n",
    "\n",
    "# Target\n",
    "y = train_data['rule_violation']\n",
    "\n",
    "# Split\n",
    "X_train, X_val, y_train, y_val = train_test_split(\n",
    "    X_seq_padded, y, test_size=0.2, random_state=42, stratify=y)"
   ]
  },
  {
   "cell_type": "code",
   "execution_count": 13,
   "id": "50235e17",
   "metadata": {
    "execution": {
     "iopub.execute_input": "2025-07-28T05:58:01.286993Z",
     "iopub.status.busy": "2025-07-28T05:58:01.286177Z",
     "iopub.status.idle": "2025-07-28T06:01:10.632530Z",
     "shell.execute_reply": "2025-07-28T06:01:10.631522Z"
    },
    "papermill": {
     "duration": 189.357642,
     "end_time": "2025-07-28T06:01:10.634317",
     "exception": false,
     "start_time": "2025-07-28T05:58:01.276675",
     "status": "completed"
    },
    "tags": []
   },
   "outputs": [
    {
     "name": "stdout",
     "output_type": "stream",
     "text": [
      "Epoch 1/10\n"
     ]
    },
    {
     "name": "stderr",
     "output_type": "stream",
     "text": [
      "/usr/local/lib/python3.11/dist-packages/keras/src/layers/core/embedding.py:90: UserWarning: Argument `input_length` is deprecated. Just remove it.\n",
      "  warnings.warn(\n"
     ]
    },
    {
     "name": "stdout",
     "output_type": "stream",
     "text": [
      "13/13 - 43s - 3s/step - AUC: 0.5801 - loss: 0.6862 - val_AUC: 0.6860 - val_loss: 0.6723 - learning_rate: 0.0010\n",
      "Epoch 2/10\n",
      "13/13 - 28s - 2s/step - AUC: 0.6805 - loss: 0.6244 - val_AUC: 0.7261 - val_loss: 0.6975 - learning_rate: 0.0010\n",
      "Epoch 3/10\n",
      "13/13 - 29s - 2s/step - AUC: 0.8069 - loss: 0.5289 - val_AUC: 0.7881 - val_loss: 0.5730 - learning_rate: 0.0010\n",
      "Epoch 4/10\n",
      "13/13 - 28s - 2s/step - AUC: 0.9275 - loss: 0.3343 - val_AUC: 0.7904 - val_loss: 0.7741 - learning_rate: 0.0010\n",
      "Epoch 5/10\n",
      "\n",
      "Epoch 5: ReduceLROnPlateau reducing learning rate to 0.0005000000237487257.\n",
      "13/13 - 28s - 2s/step - AUC: 0.9677 - loss: 0.1943 - val_AUC: 0.7933 - val_loss: 0.7288 - learning_rate: 0.0010\n",
      "Epoch 6/10\n",
      "13/13 - 28s - 2s/step - AUC: 0.9853 - loss: 0.1210 - val_AUC: 0.7686 - val_loss: 0.9775 - learning_rate: 5.0000e-04\n",
      "\u001b[1m13/13\u001b[0m \u001b[32m━━━━━━━━━━━━━━━━━━━━\u001b[0m\u001b[37m\u001b[0m \u001b[1m4s\u001b[0m 288ms/step\n",
      "Validation AUC: 0.7877\n"
     ]
    }
   ],
   "source": [
    "from keras.models import Sequential\n",
    "from keras.layers import Embedding, LSTM, Dense, Dropout, Bidirectional\n",
    "from keras.callbacks import EarlyStopping, ModelCheckpoint, ReduceLROnPlateau\n",
    "\n",
    "# Model\n",
    "model = Sequential([\n",
    "    Embedding(input_dim=MAX_VOCAB, output_dim=300, input_length=MAXLEN, mask_zero=True),\n",
    "    Bidirectional(LSTM(128, return_sequences=True)),\n",
    "    Dropout(0.3),\n",
    "    LSTM(64),\n",
    "    Dense(64, activation='relu'),\n",
    "    Dropout(0.3),\n",
    "    Dense(1, activation='sigmoid')\n",
    "])\n",
    "\n",
    "model.compile(loss='binary_crossentropy', optimizer='adam', metrics=['AUC'])\n",
    "\n",
    "# Callbacks\n",
    "callbacks = [\n",
    "    EarlyStopping(patience=3, restore_best_weights=True),\n",
    "    ReduceLROnPlateau(patience=2, factor=0.5, verbose=1),\n",
    "    ModelCheckpoint('best_model.keras', save_best_only=True)\n",
    "]\n",
    "# Training\n",
    "history = model.fit(\n",
    "    X_train, y_train,\n",
    "    validation_data=(X_val, y_val),\n",
    "    epochs=10,\n",
    "    batch_size=128,\n",
    "    callbacks=callbacks,\n",
    "    verbose=2\n",
    ")\n",
    "\n",
    "# Evaluate AUC on validation\n",
    "val_preds = model.predict(X_val).flatten()\n",
    "val_auc = roc_auc_score(y_val, val_preds)\n",
    "print(f\"Validation AUC: {val_auc:.4f}\")"
   ]
  },
  {
   "cell_type": "markdown",
   "id": "9ec4b8fb",
   "metadata": {
    "papermill": {
     "duration": 0.009084,
     "end_time": "2025-07-28T06:01:10.653601",
     "exception": false,
     "start_time": "2025-07-28T06:01:10.644517",
     "status": "completed"
    },
    "tags": []
   },
   "source": [
    "# Step 5: Prediction and Submission File"
   ]
  },
  {
   "cell_type": "code",
   "execution_count": 14,
   "id": "3f71ec90",
   "metadata": {
    "execution": {
     "iopub.execute_input": "2025-07-28T06:01:10.674104Z",
     "iopub.status.busy": "2025-07-28T06:01:10.673771Z",
     "iopub.status.idle": "2025-07-28T06:01:10.897177Z",
     "shell.execute_reply": "2025-07-28T06:01:10.896091Z"
    },
    "papermill": {
     "duration": 0.235928,
     "end_time": "2025-07-28T06:01:10.898805",
     "exception": false,
     "start_time": "2025-07-28T06:01:10.662877",
     "status": "completed"
    },
    "tags": []
   },
   "outputs": [
    {
     "name": "stdout",
     "output_type": "stream",
     "text": [
      "\u001b[1m1/1\u001b[0m \u001b[32m━━━━━━━━━━━━━━━━━━━━\u001b[0m\u001b[37m\u001b[0m \u001b[1m0s\u001b[0m 157ms/step\n",
      "submission.csv created.\n"
     ]
    }
   ],
   "source": [
    "# Predict\n",
    "test_preds = model.predict(X_test_padded).flatten()\n",
    "\n",
    "# Submission\n",
    "submission = test_data[['row_id']].copy()\n",
    "submission['rule_violation'] = test_preds  # Leave as probability\n",
    "submission.to_csv('submission.csv', index=False)\n",
    "print(\"submission.csv created.\")"
   ]
  }
 ],
 "metadata": {
  "kaggle": {
   "accelerator": "none",
   "dataSources": [
    {
     "databundleVersionId": 13121456,
     "sourceId": 94635,
     "sourceType": "competition"
    }
   ],
   "dockerImageVersionId": 31089,
   "isGpuEnabled": false,
   "isInternetEnabled": false,
   "language": "python",
   "sourceType": "notebook"
  },
  "kernelspec": {
   "display_name": "Python 3",
   "language": "python",
   "name": "python3"
  },
  "language_info": {
   "codemirror_mode": {
    "name": "ipython",
    "version": 3
   },
   "file_extension": ".py",
   "mimetype": "text/x-python",
   "name": "python",
   "nbconvert_exporter": "python",
   "pygments_lexer": "ipython3",
   "version": "3.11.13"
  },
  "papermill": {
   "default_parameters": {},
   "duration": 249.360617,
   "end_time": "2025-07-28T06:01:13.674898",
   "environment_variables": {},
   "exception": null,
   "input_path": "__notebook__.ipynb",
   "output_path": "__notebook__.ipynb",
   "parameters": {},
   "start_time": "2025-07-28T05:57:04.314281",
   "version": "2.6.0"
  }
 },
 "nbformat": 4,
 "nbformat_minor": 5
}
