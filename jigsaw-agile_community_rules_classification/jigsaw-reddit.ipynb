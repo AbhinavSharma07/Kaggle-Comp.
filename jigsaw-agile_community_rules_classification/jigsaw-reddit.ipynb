{
 "cells": [
  {
   "cell_type": "code",
   "execution_count": 1,
   "id": "421af6a7",
   "metadata": {
    "_cell_guid": "b1076dfc-b9ad-4769-8c92-a6c4dae69d19",
    "_uuid": "8f2839f25d086af736a60e9eeb907d3b93b6e0e5",
    "execution": {
     "iopub.execute_input": "2025-08-14T12:02:44.139169Z",
     "iopub.status.busy": "2025-08-14T12:02:44.138862Z",
     "iopub.status.idle": "2025-08-14T12:02:48.401722Z",
     "shell.execute_reply": "2025-08-14T12:02:48.400748Z"
    },
    "papermill": {
     "duration": 4.269083,
     "end_time": "2025-08-14T12:02:48.403537",
     "exception": false,
     "start_time": "2025-08-14T12:02:44.134454",
     "status": "completed"
    },
    "tags": []
   },
   "outputs": [],
   "source": [
    "import pandas as pd\n",
    "import numpy as np\n",
    "import matplotlib.pyplot as plt\n",
    "import seaborn as sns\n",
    "\n",
    "from sklearn.feature_extraction.text import TfidfVectorizer\n",
    "from sklearn.linear_model import LogisticRegression\n",
    "from sklearn.metrics import confusion_matrix, ConfusionMatrixDisplay, classification_report"
   ]
  },
  {
   "cell_type": "code",
   "execution_count": 2,
   "id": "2bea9162",
   "metadata": {
    "execution": {
     "iopub.execute_input": "2025-08-14T12:02:48.411238Z",
     "iopub.status.busy": "2025-08-14T12:02:48.410321Z",
     "iopub.status.idle": "2025-08-14T12:02:48.542622Z",
     "shell.execute_reply": "2025-08-14T12:02:48.541217Z"
    },
    "papermill": {
     "duration": 0.137713,
     "end_time": "2025-08-14T12:02:48.544479",
     "exception": false,
     "start_time": "2025-08-14T12:02:48.406766",
     "status": "completed"
    },
    "tags": []
   },
   "outputs": [
    {
     "name": "stdout",
     "output_type": "stream",
     "text": [
      "Eksik değer sayısı:\n",
      " row_id                0\n",
      "body                  0\n",
      "rule                  0\n",
      "subreddit             0\n",
      "positive_example_1    0\n",
      "positive_example_2    0\n",
      "negative_example_1    0\n",
      "negative_example_2    0\n",
      "rule_violation        0\n",
      "dtype: int64\n"
     ]
    }
   ],
   "source": [
    "train = pd.read_csv(\"/kaggle/input/jigsaw-agile-community-rules/train.csv\")\n",
    "test = pd.read_csv(\"/kaggle/input/jigsaw-agile-community-rules/test.csv\")\n",
    "\n",
    "print(\"Eksik değer sayısı:\\n\", train.isnull().sum())"
   ]
  },
  {
   "cell_type": "raw",
   "id": "4ab482ac",
   "metadata": {
    "papermill": {
     "duration": 0.004216,
     "end_time": "2025-08-14T12:02:48.553379",
     "exception": false,
     "start_time": "2025-08-14T12:02:48.549163",
     "status": "completed"
    },
    "tags": []
   },
   "source": [
    "train[\"text_length\"] = train[\"body\"].astype(str).apply(len)\n",
    "\n",
    "plt.figure(figsize=(6,4))\n",
    "sns.histplot(train[\"text_length\"], bins=50, kde=True)\n",
    "plt.title(\"Yorum Uzunluğu Dağılımı\")\n",
    "plt.xlabel(\"Karakter sayısı\")\n",
    "plt.ylabel(\"Frekans\")\n",
    "plt.show()"
   ]
  },
  {
   "cell_type": "code",
   "execution_count": 3,
   "id": "b9743537",
   "metadata": {
    "execution": {
     "iopub.execute_input": "2025-08-14T12:02:48.563519Z",
     "iopub.status.busy": "2025-08-14T12:02:48.563188Z",
     "iopub.status.idle": "2025-08-14T12:02:48.667319Z",
     "shell.execute_reply": "2025-08-14T12:02:48.666419Z"
    },
    "papermill": {
     "duration": 0.111309,
     "end_time": "2025-08-14T12:02:48.669093",
     "exception": false,
     "start_time": "2025-08-14T12:02:48.557784",
     "status": "completed"
    },
    "tags": []
   },
   "outputs": [],
   "source": [
    "vectorizer = TfidfVectorizer(max_features=10000, stop_words=\"english\")\n",
    "X_train = vectorizer.fit_transform(train[\"body\"].astype(str))\n",
    "X_test = vectorizer.transform(test[\"body\"].astype(str))\n",
    "\n",
    "y_train = train[\"rule_violation\"].astype(int)"
   ]
  },
  {
   "cell_type": "code",
   "execution_count": 4,
   "id": "2384b0cb",
   "metadata": {
    "execution": {
     "iopub.execute_input": "2025-08-14T12:02:48.675969Z",
     "iopub.status.busy": "2025-08-14T12:02:48.675560Z",
     "iopub.status.idle": "2025-08-14T12:02:48.943151Z",
     "shell.execute_reply": "2025-08-14T12:02:48.941092Z"
    },
    "papermill": {
     "duration": 0.278253,
     "end_time": "2025-08-14T12:02:48.950206",
     "exception": false,
     "start_time": "2025-08-14T12:02:48.671953",
     "status": "completed"
    },
    "tags": []
   },
   "outputs": [
    {
     "data": {
      "text/html": [
       "<style>#sk-container-id-1 {color: black;background-color: white;}#sk-container-id-1 pre{padding: 0;}#sk-container-id-1 div.sk-toggleable {background-color: white;}#sk-container-id-1 label.sk-toggleable__label {cursor: pointer;display: block;width: 100%;margin-bottom: 0;padding: 0.3em;box-sizing: border-box;text-align: center;}#sk-container-id-1 label.sk-toggleable__label-arrow:before {content: \"▸\";float: left;margin-right: 0.25em;color: #696969;}#sk-container-id-1 label.sk-toggleable__label-arrow:hover:before {color: black;}#sk-container-id-1 div.sk-estimator:hover label.sk-toggleable__label-arrow:before {color: black;}#sk-container-id-1 div.sk-toggleable__content {max-height: 0;max-width: 0;overflow: hidden;text-align: left;background-color: #f0f8ff;}#sk-container-id-1 div.sk-toggleable__content pre {margin: 0.2em;color: black;border-radius: 0.25em;background-color: #f0f8ff;}#sk-container-id-1 input.sk-toggleable__control:checked~div.sk-toggleable__content {max-height: 200px;max-width: 100%;overflow: auto;}#sk-container-id-1 input.sk-toggleable__control:checked~label.sk-toggleable__label-arrow:before {content: \"▾\";}#sk-container-id-1 div.sk-estimator input.sk-toggleable__control:checked~label.sk-toggleable__label {background-color: #d4ebff;}#sk-container-id-1 div.sk-label input.sk-toggleable__control:checked~label.sk-toggleable__label {background-color: #d4ebff;}#sk-container-id-1 input.sk-hidden--visually {border: 0;clip: rect(1px 1px 1px 1px);clip: rect(1px, 1px, 1px, 1px);height: 1px;margin: -1px;overflow: hidden;padding: 0;position: absolute;width: 1px;}#sk-container-id-1 div.sk-estimator {font-family: monospace;background-color: #f0f8ff;border: 1px dotted black;border-radius: 0.25em;box-sizing: border-box;margin-bottom: 0.5em;}#sk-container-id-1 div.sk-estimator:hover {background-color: #d4ebff;}#sk-container-id-1 div.sk-parallel-item::after {content: \"\";width: 100%;border-bottom: 1px solid gray;flex-grow: 1;}#sk-container-id-1 div.sk-label:hover label.sk-toggleable__label {background-color: #d4ebff;}#sk-container-id-1 div.sk-serial::before {content: \"\";position: absolute;border-left: 1px solid gray;box-sizing: border-box;top: 0;bottom: 0;left: 50%;z-index: 0;}#sk-container-id-1 div.sk-serial {display: flex;flex-direction: column;align-items: center;background-color: white;padding-right: 0.2em;padding-left: 0.2em;position: relative;}#sk-container-id-1 div.sk-item {position: relative;z-index: 1;}#sk-container-id-1 div.sk-parallel {display: flex;align-items: stretch;justify-content: center;background-color: white;position: relative;}#sk-container-id-1 div.sk-item::before, #sk-container-id-1 div.sk-parallel-item::before {content: \"\";position: absolute;border-left: 1px solid gray;box-sizing: border-box;top: 0;bottom: 0;left: 50%;z-index: -1;}#sk-container-id-1 div.sk-parallel-item {display: flex;flex-direction: column;z-index: 1;position: relative;background-color: white;}#sk-container-id-1 div.sk-parallel-item:first-child::after {align-self: flex-end;width: 50%;}#sk-container-id-1 div.sk-parallel-item:last-child::after {align-self: flex-start;width: 50%;}#sk-container-id-1 div.sk-parallel-item:only-child::after {width: 0;}#sk-container-id-1 div.sk-dashed-wrapped {border: 1px dashed gray;margin: 0 0.4em 0.5em 0.4em;box-sizing: border-box;padding-bottom: 0.4em;background-color: white;}#sk-container-id-1 div.sk-label label {font-family: monospace;font-weight: bold;display: inline-block;line-height: 1.2em;}#sk-container-id-1 div.sk-label-container {text-align: center;}#sk-container-id-1 div.sk-container {/* jupyter's `normalize.less` sets `[hidden] { display: none; }` but bootstrap.min.css set `[hidden] { display: none !important; }` so we also need the `!important` here to be able to override the default hidden behavior on the sphinx rendered scikit-learn.org. See: https://github.com/scikit-learn/scikit-learn/issues/21755 */display: inline-block !important;position: relative;}#sk-container-id-1 div.sk-text-repr-fallback {display: none;}</style><div id=\"sk-container-id-1\" class=\"sk-top-container\"><div class=\"sk-text-repr-fallback\"><pre>LogisticRegression(max_iter=1000)</pre><b>In a Jupyter environment, please rerun this cell to show the HTML representation or trust the notebook. <br />On GitHub, the HTML representation is unable to render, please try loading this page with nbviewer.org.</b></div><div class=\"sk-container\" hidden><div class=\"sk-item\"><div class=\"sk-estimator sk-toggleable\"><input class=\"sk-toggleable__control sk-hidden--visually\" id=\"sk-estimator-id-1\" type=\"checkbox\" checked><label for=\"sk-estimator-id-1\" class=\"sk-toggleable__label sk-toggleable__label-arrow\">LogisticRegression</label><div class=\"sk-toggleable__content\"><pre>LogisticRegression(max_iter=1000)</pre></div></div></div></div></div>"
      ],
      "text/plain": [
       "LogisticRegression(max_iter=1000)"
      ]
     },
     "execution_count": 4,
     "metadata": {},
     "output_type": "execute_result"
    }
   ],
   "source": [
    "model = LogisticRegression(max_iter=1000)\n",
    "model.fit(X_train, y_train)"
   ]
  },
  {
   "cell_type": "code",
   "execution_count": 5,
   "id": "741a7b9d",
   "metadata": {
    "execution": {
     "iopub.execute_input": "2025-08-14T12:02:48.962860Z",
     "iopub.status.busy": "2025-08-14T12:02:48.962492Z",
     "iopub.status.idle": "2025-08-14T12:02:48.967476Z",
     "shell.execute_reply": "2025-08-14T12:02:48.966596Z"
    },
    "papermill": {
     "duration": 0.012553,
     "end_time": "2025-08-14T12:02:48.969409",
     "exception": false,
     "start_time": "2025-08-14T12:02:48.956856",
     "status": "completed"
    },
    "tags": []
   },
   "outputs": [],
   "source": [
    "y_pred_train = model.predict(X_train)"
   ]
  },
  {
   "cell_type": "code",
   "execution_count": 6,
   "id": "aa58499f",
   "metadata": {
    "execution": {
     "iopub.execute_input": "2025-08-14T12:02:48.980931Z",
     "iopub.status.busy": "2025-08-14T12:02:48.980466Z",
     "iopub.status.idle": "2025-08-14T12:02:49.282769Z",
     "shell.execute_reply": "2025-08-14T12:02:49.281855Z"
    },
    "papermill": {
     "duration": 0.309513,
     "end_time": "2025-08-14T12:02:49.284155",
     "exception": false,
     "start_time": "2025-08-14T12:02:48.974642",
     "status": "completed"
    },
    "tags": []
   },
   "outputs": [
    {
     "data": {
      "image/png": "[encoded data removed]",
      "text/plain": [
       "<Figure size 640x480 with 2 Axes>"
      ]
     },
     "metadata": {},
     "output_type": "display_data"
    }
   ],
   "source": [
    "cm = confusion_matrix(y_train, y_pred_train)\n",
    "disp = ConfusionMatrixDisplay(cm, display_labels=[0, 1])\n",
    "disp.plot(cmap=plt.cm.Blues)\n",
    "plt.title(\"Eğitim Verisi - Confusion Matrix\")\n",
    "plt.show()"
   ]
  },
  {
   "cell_type": "code",
   "execution_count": 7,
   "id": "125e084a",
   "metadata": {
    "execution": {
     "iopub.execute_input": "2025-08-14T12:02:49.292369Z",
     "iopub.status.busy": "2025-08-14T12:02:49.292031Z",
     "iopub.status.idle": "2025-08-14T12:02:49.307413Z",
     "shell.execute_reply": "2025-08-14T12:02:49.306090Z"
    },
    "papermill": {
     "duration": 0.021181,
     "end_time": "2025-08-14T12:02:49.308747",
     "exception": false,
     "start_time": "2025-08-14T12:02:49.287566",
     "status": "completed"
    },
    "tags": []
   },
   "outputs": [
    {
     "name": "stdout",
     "output_type": "stream",
     "text": [
      "\n",
      "Classification Report (Eğitim Verisi):\n",
      "\n",
      "              precision    recall  f1-score   support\n",
      "\n",
      "           0       0.95      0.90      0.93       998\n",
      "           1       0.91      0.96      0.93      1031\n",
      "\n",
      "    accuracy                           0.93      2029\n",
      "   macro avg       0.93      0.93      0.93      2029\n",
      "weighted avg       0.93      0.93      0.93      2029\n",
      "\n"
     ]
    }
   ],
   "source": [
    "print(\"\\nClassification Report (Eğitim Verisi):\\n\")\n",
    "print(classification_report(y_train, y_pred_train))"
   ]
  },
  {
   "cell_type": "code",
   "execution_count": 8,
   "id": "97a71e23",
   "metadata": {
    "execution": {
     "iopub.execute_input": "2025-08-14T12:02:49.316399Z",
     "iopub.status.busy": "2025-08-14T12:02:49.316083Z",
     "iopub.status.idle": "2025-08-14T12:02:49.568711Z",
     "shell.execute_reply": "2025-08-14T12:02:49.567643Z"
    },
    "papermill": {
     "duration": 0.258206,
     "end_time": "2025-08-14T12:02:49.570223",
     "exception": false,
     "start_time": "2025-08-14T12:02:49.312017",
     "status": "completed"
    },
    "tags": []
   },
   "outputs": [
    {
     "name": "stderr",
     "output_type": "stream",
     "text": [
      "/usr/local/lib/python3.11/dist-packages/seaborn/_oldcore.py:1119: FutureWarning: use_inf_as_na option is deprecated and will be removed in a future version. Convert inf values to NaN before operating instead.\n",
      "  with pd.option_context('mode.use_inf_as_na', True):\n"
     ]
    },
    {
     "data": {
      "image/png": "[encoded data removed]",
      "text/plain": [
       "<Figure size 640x480 with 1 Axes>"
      ]
     },
     "metadata": {},
     "output_type": "display_data"
    }
   ],
   "source": [
    "y_prob_train = model.predict_proba(X_train)[:,1]\n",
    "sns.histplot(y_prob_train, bins=50)\n",
    "plt.title(\"Pozitif Tahmin Olasılıkları (Eğitim Verisi)\")\n",
    "plt.xlabel(\"Olasılık\")\n",
    "plt.ylabel(\"Frekans\")\n",
    "plt.show()\n"
   ]
  },
  {
   "cell_type": "code",
   "execution_count": 9,
   "id": "26838aaa",
   "metadata": {
    "execution": {
     "iopub.execute_input": "2025-08-14T12:02:49.578910Z",
     "iopub.status.busy": "2025-08-14T12:02:49.578607Z",
     "iopub.status.idle": "2025-08-14T12:02:49.583410Z",
     "shell.execute_reply": "2025-08-14T12:02:49.582580Z"
    },
    "papermill": {
     "duration": 0.010539,
     "end_time": "2025-08-14T12:02:49.584658",
     "exception": false,
     "start_time": "2025-08-14T12:02:49.574119",
     "status": "completed"
    },
    "tags": []
   },
   "outputs": [],
   "source": [
    "test_pred = model.predict(X_test)"
   ]
  },
  {
   "cell_type": "code",
   "execution_count": 10,
   "id": "e6af0b58",
   "metadata": {
    "execution": {
     "iopub.execute_input": "2025-08-14T12:02:49.593315Z",
     "iopub.status.busy": "2025-08-14T12:02:49.593040Z",
     "iopub.status.idle": "2025-08-14T12:02:49.603068Z",
     "shell.execute_reply": "2025-08-14T12:02:49.602301Z"
    },
    "papermill": {
     "duration": 0.015913,
     "end_time": "2025-08-14T12:02:49.604470",
     "exception": false,
     "start_time": "2025-08-14T12:02:49.588557",
     "status": "completed"
    },
    "tags": []
   },
   "outputs": [],
   "source": [
    "submission = pd.DataFrame({\n",
    "    \"id\": test.index,  # test[\"id\"] yerine\n",
    "    \"rule_violation\": test_pred\n",
    "})\n",
    "submission.to_csv(\"submission.csv\", index=False)"
   ]
  }
 ],
 "metadata": {
  "kaggle": {
   "accelerator": "none",
   "dataSources": [
    {
     "databundleVersionId": 13121456,
     "sourceId": 94635,
     "sourceType": "competition"
    }
   ],
   "dockerImageVersionId": 31089,
   "isGpuEnabled": false,
   "isInternetEnabled": false,
   "language": "python",
   "sourceType": "notebook"
  },
  "kernelspec": {
   "display_name": "Python 3",
   "language": "python",
   "name": "python3"
  },
  "language_info": {
   "codemirror_mode": {
    "name": "ipython",
    "version": 3
   },
   "file_extension": ".py",
   "mimetype": "text/x-python",
   "name": "python",
   "nbconvert_exporter": "python",
   "pygments_lexer": "ipython3",
   "version": "3.11.13"
  },
  "papermill": {
   "default_parameters": {},
   "duration": 11.114947,
   "end_time": "2025-08-14T12:02:50.328470",
   "environment_variables": {},
   "exception": null,
   "input_path": "__notebook__.ipynb",
   "output_path": "__notebook__.ipynb",
   "parameters": {},
   "start_time": "2025-08-14T12:02:39.213523",
   "version": "2.6.0"
  }
 },
 "nbformat": 4,
 "nbformat_minor": 5
}
