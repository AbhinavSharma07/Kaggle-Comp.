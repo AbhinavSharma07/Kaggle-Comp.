{
 "cells": [
  {
   "cell_type": "code",
   "execution_count": 1,
   "id": "8c34db64",
   "metadata": {
    "_cell_guid": "b1076dfc-b9ad-4769-8c92-a6c4dae69d19",
    "_uuid": "8f2839f25d086af736a60e9eeb907d3b93b6e0e5",
    "execution": {
     "iopub.execute_input": "2025-08-06T12:14:10.079437Z",
     "iopub.status.busy": "2025-08-06T12:14:10.079148Z",
     "iopub.status.idle": "2025-08-06T12:14:54.225088Z",
     "shell.execute_reply": "2025-08-06T12:14:54.218683Z"
    },
    "papermill": {
     "duration": 44.15469,
     "end_time": "2025-08-06T12:14:54.227785",
     "exception": false,
     "start_time": "2025-08-06T12:14:10.073095",
     "status": "completed"
    },
    "tags": []
   },
   "outputs": [
    {
     "name": "stdout",
     "output_type": "stream",
     "text": [
      "Collecting scikit-learn==1.0.2\r\n"
     ]
    },
    {
     "name": "stdout",
     "output_type": "stream",
     "text": [
      "  Downloading scikit_learn-1.0.2-cp310-cp310-manylinux_2_17_x86_64.manylinux2014_x86_64.whl (26.5 MB)\r\n",
      "\u001b[?25l     \u001b[90m━━━━━━━━━━━━━━━━━━━━━━━━━━━━━━━━━━━━━━━━\u001b[0m \u001b[32m0.0/26.5 MB\u001b[0m \u001b[31m?\u001b[0m eta \u001b[36m-:--:--\u001b[0m\r",
      "\u001b[2K     \u001b[91m╸\u001b[0m\u001b[90m━━━━━━━━━━━━━━━━━━━━━━━━━━━━━━━━━━━━━━━\u001b[0m \u001b[32m0.6/26.5 MB\u001b[0m \u001b[31m16.3 MB/s\u001b[0m eta \u001b[36m0:00:02\u001b[0m"
     ]
    },
    {
     "name": "stdout",
     "output_type": "stream",
     "text": [
      "\r",
      "\u001b[2K     \u001b[91m━━\u001b[0m\u001b[90m╺\u001b[0m\u001b[90m━━━━━━━━━━━━━━━━━━━━━━━━━━━━━━━━━━━━━\u001b[0m \u001b[32m1.5/26.5 MB\u001b[0m \u001b[31m22.7 MB/s\u001b[0m eta \u001b[36m0:00:02\u001b[0m"
     ]
    },
    {
     "name": "stdout",
     "output_type": "stream",
     "text": [
      "\r",
      "\u001b[2K     \u001b[91m━━━━\u001b[0m\u001b[90m╺\u001b[0m\u001b[90m━━━━━━━━━━━━━━━━━━━━━━━━━━━━━━━━━━━\u001b[0m \u001b[32m3.0/26.5 MB\u001b[0m \u001b[31m28.7 MB/s\u001b[0m eta \u001b[36m0:00:01\u001b[0m\r",
      "\u001b[2K     \u001b[91m━━━━━━━\u001b[0m\u001b[90m╺\u001b[0m\u001b[90m━━━━━━━━━━━━━━━━━━━━━━━━━━━━━━━━\u001b[0m \u001b[32m4.9/26.5 MB\u001b[0m \u001b[31m35.7 MB/s\u001b[0m eta \u001b[36m0:00:01\u001b[0m"
     ]
    },
    {
     "name": "stdout",
     "output_type": "stream",
     "text": [
      "\r",
      "\u001b[2K     \u001b[91m━━━━━━━━━━━\u001b[0m\u001b[91m╸\u001b[0m\u001b[90m━━━━━━━━━━━━━━━━━━━━━━━━━━━━\u001b[0m \u001b[32m7.9/26.5 MB\u001b[0m \u001b[31m45.5 MB/s\u001b[0m eta \u001b[36m0:00:01\u001b[0m"
     ]
    },
    {
     "name": "stdout",
     "output_type": "stream",
     "text": [
      "\r",
      "\u001b[2K     \u001b[91m━━━━━━━━━━━━━━━━━\u001b[0m\u001b[91m╸\u001b[0m\u001b[90m━━━━━━━━━━━━━━━━━━━━━━\u001b[0m \u001b[32m11.7/26.5 MB\u001b[0m \u001b[31m71.2 MB/s\u001b[0m eta \u001b[36m0:00:01\u001b[0m\r",
      "\u001b[2K     \u001b[91m━━━━━━━━━━━━━━━━━━━━━━━━━\u001b[0m\u001b[90m╺\u001b[0m\u001b[90m━━━━━━━━━━━━━\u001b[0m \u001b[32m17.2/26.5 MB\u001b[0m \u001b[31m129.3 MB/s\u001b[0m eta \u001b[36m0:00:01\u001b[0m"
     ]
    },
    {
     "name": "stdout",
     "output_type": "stream",
     "text": [
      "\r",
      "\u001b[2K     \u001b[91m━━━━━━━━━━━━━━━━━━━━━━━━━━━━━\u001b[0m\u001b[90m╺\u001b[0m\u001b[90m━━━━━━━━━\u001b[0m \u001b[32m20.0/26.5 MB\u001b[0m \u001b[31m145.8 MB/s\u001b[0m eta \u001b[36m0:00:01\u001b[0m"
     ]
    },
    {
     "name": "stdout",
     "output_type": "stream",
     "text": [
      "\r",
      "\u001b[2K     \u001b[91m━━━━━━━━━━━━━━━━━━━━━━━━━━━━━━\u001b[0m\u001b[90m╺\u001b[0m\u001b[90m━━━━━━━━━\u001b[0m \u001b[32m20.1/26.5 MB\u001b[0m \u001b[31m89.5 MB/s\u001b[0m eta \u001b[36m0:00:01\u001b[0m"
     ]
    },
    {
     "name": "stdout",
     "output_type": "stream",
     "text": [
      "\r",
      "\u001b[2K     \u001b[91m━━━━━━━━━━━━━━━━━━━━━━━━━━━━━━\u001b[0m\u001b[90m╺\u001b[0m\u001b[90m━━━━━━━━━\u001b[0m \u001b[32m20.2/26.5 MB\u001b[0m \u001b[31m70.0 MB/s\u001b[0m eta \u001b[36m0:00:01\u001b[0m\r",
      "\u001b[2K     \u001b[91m━━━━━━━━━━━━━━━━━━━━━━━━━━━━━━\u001b[0m\u001b[91m╸\u001b[0m\u001b[90m━━━━━━━━━\u001b[0m \u001b[32m20.3/26.5 MB\u001b[0m \u001b[31m57.7 MB/s\u001b[0m eta \u001b[36m0:00:01\u001b[0m"
     ]
    },
    {
     "name": "stdout",
     "output_type": "stream",
     "text": [
      "\r",
      "\u001b[2K     \u001b[91m━━━━━━━━━━━━━━━━━━━━━━━━━━━━━━━\u001b[0m\u001b[90m╺\u001b[0m\u001b[90m━━━━━━━━\u001b[0m \u001b[32m20.6/26.5 MB\u001b[0m \u001b[31m46.6 MB/s\u001b[0m eta \u001b[36m0:00:01\u001b[0m"
     ]
    },
    {
     "name": "stdout",
     "output_type": "stream",
     "text": [
      "\r",
      "\u001b[2K     \u001b[91m━━━━━━━━━━━━━━━━━━━━━━━━━━━━━━━━━━━\u001b[0m\u001b[91m╸\u001b[0m\u001b[90m━━━━\u001b[0m \u001b[32m23.7/26.5 MB\u001b[0m \u001b[31m44.0 MB/s\u001b[0m eta \u001b[36m0:00:01\u001b[0m\r",
      "\u001b[2K     \u001b[91m━━━━━━━━━━━━━━━━━━━━━━━━━━━━━━━━━━━━━━━\u001b[0m\u001b[91m╸\u001b[0m \u001b[32m26.5/26.5 MB\u001b[0m \u001b[31m44.1 MB/s\u001b[0m eta \u001b[36m0:00:01\u001b[0m"
     ]
    },
    {
     "name": "stdout",
     "output_type": "stream",
     "text": [
      "\r",
      "\u001b[2K     \u001b[91m━━━━━━━━━━━━━━━━━━━━━━━━━━━━━━━━━━━━━━━\u001b[0m\u001b[91m╸\u001b[0m \u001b[32m26.5/26.5 MB\u001b[0m \u001b[31m44.1 MB/s\u001b[0m eta \u001b[36m0:00:01\u001b[0m"
     ]
    },
    {
     "name": "stdout",
     "output_type": "stream",
     "text": [
      "\r",
      "\u001b[2K     \u001b[91m━━━━━━━━━━━━━━━━━━━━━━━━━━━━━━━━━━━━━━━\u001b[0m\u001b[91m╸\u001b[0m \u001b[32m26.5/26.5 MB\u001b[0m \u001b[31m44.1 MB/s\u001b[0m eta \u001b[36m0:00:01\u001b[0m\r",
      "\u001b[2K     \u001b[91m━━━━━━━━━━━━━━━━━━━━━━━━━━━━━━━━━━━━━━━\u001b[0m\u001b[91m╸\u001b[0m \u001b[32m26.5/26.5 MB\u001b[0m \u001b[31m44.1 MB/s\u001b[0m eta \u001b[36m0:00:01\u001b[0m"
     ]
    },
    {
     "name": "stdout",
     "output_type": "stream",
     "text": [
      "\r",
      "\u001b[2K     \u001b[91m━━━━━━━━━━━━━━━━━━━━━━━━━━━━━━━━━━━━━━━\u001b[0m\u001b[91m╸\u001b[0m \u001b[32m26.5/26.5 MB\u001b[0m \u001b[31m44.1 MB/s\u001b[0m eta \u001b[36m0:00:01\u001b[0m\r",
      "\u001b[2K     \u001b[90m━━━━━━━━━━━━━━━━━━━━━━━━━━━━━━━━━━━━━━━━\u001b[0m \u001b[32m26.5/26.5 MB\u001b[0m \u001b[31m24.5 MB/s\u001b[0m eta \u001b[36m0:00:00\u001b[0m\r\n",
      "\u001b[?25h"
     ]
    },
    {
     "name": "stdout",
     "output_type": "stream",
     "text": [
      "Requirement already satisfied: joblib>=0.11 in /usr/local/lib/python3.10/site-packages (from scikit-learn==1.0.2) (1.5.1)\r\n",
      "Requirement already satisfied: numpy>=1.14.6 in /usr/local/lib/python3.10/site-packages (from scikit-learn==1.0.2) (2.0.2)\r\n",
      "Requirement already satisfied: threadpoolctl>=2.0.0 in /usr/local/lib/python3.10/site-packages (from scikit-learn==1.0.2) (3.6.0)\r\n",
      "Requirement already satisfied: scipy>=1.1.0 in /usr/local/lib/python3.10/site-packages (from scikit-learn==1.0.2) (1.15.3)\r\n"
     ]
    },
    {
     "name": "stdout",
     "output_type": "stream",
     "text": [
      "Installing collected packages: scikit-learn\r\n",
      "  Attempting uninstall: scikit-learn\r\n",
      "    Found existing installation: scikit-learn 1.7.0\r\n"
     ]
    },
    {
     "name": "stdout",
     "output_type": "stream",
     "text": [
      "    Uninstalling scikit-learn-1.7.0:\r\n"
     ]
    },
    {
     "name": "stdout",
     "output_type": "stream",
     "text": [
      "      Successfully uninstalled scikit-learn-1.7.0\r\n"
     ]
    },
    {
     "name": "stdout",
     "output_type": "stream",
     "text": [
      "Successfully installed scikit-learn-1.0.2\r\n",
      "\u001b[33mWARNING: Running pip as the 'root' user can result in broken permissions and conflicting behaviour with the system package manager. It is recommended to use a virtual environment instead: https://pip.pypa.io/warnings/venv\u001b[0m\u001b[33m\r\n",
      "\u001b[0m"
     ]
    },
    {
     "name": "stdout",
     "output_type": "stream",
     "text": [
      "\r\n",
      "\u001b[1m[\u001b[0m\u001b[34;49mnotice\u001b[0m\u001b[1;39;49m]\u001b[0m\u001b[39;49m A new release of pip is available: \u001b[0m\u001b[31;49m23.0.1\u001b[0m\u001b[39;49m -> \u001b[0m\u001b[32;49m25.2\u001b[0m\r\n",
      "\u001b[1m[\u001b[0m\u001b[34;49mnotice\u001b[0m\u001b[1;39;49m]\u001b[0m\u001b[39;49m To update, run: \u001b[0m\u001b[32;49mpip install --upgrade pip\u001b[0m\r\n"
     ]
    },
    {
     "name": "stdout",
     "output_type": "stream",
     "text": [
      "Collecting eli5\r\n"
     ]
    },
    {
     "name": "stdout",
     "output_type": "stream",
     "text": [
      "  Downloading eli5-0.16.0-py2.py3-none-any.whl (108 kB)\r\n",
      "\u001b[?25l     \u001b[90m━━━━━━━━━━━━━━━━━━━━━━━━━━━━━━━━━━━━━━━━\u001b[0m \u001b[32m0.0/108.4 kB\u001b[0m \u001b[31m?\u001b[0m eta \u001b[36m-:--:--\u001b[0m"
     ]
    },
    {
     "name": "stdout",
     "output_type": "stream",
     "text": [
      "\r",
      "\u001b[2K     \u001b[90m━━━━━━━━━━━━━━━━━━━━━━━━━━━━━━━━━━━━━━━\u001b[0m \u001b[32m108.4/108.4 kB\u001b[0m \u001b[31m4.4 MB/s\u001b[0m eta \u001b[36m0:00:00\u001b[0m\r\n",
      "\u001b[?25hRequirement already satisfied: numpy>=1.9.0 in /usr/local/lib/python3.10/site-packages (from eli5) (2.0.2)\r\n",
      "Requirement already satisfied: jinja2>=3.0.0 in /usr/local/lib/python3.10/site-packages (from eli5) (3.1.6)\r\n"
     ]
    },
    {
     "name": "stdout",
     "output_type": "stream",
     "text": [
      "Collecting graphviz\r\n",
      "  Downloading graphviz-0.21-py3-none-any.whl (47 kB)\r\n",
      "\u001b[?25l     \u001b[90m━━━━━━━━━━━━━━━━━━━━━━━━━━━━━━━━━━━━━━━━\u001b[0m \u001b[32m0.0/47.3 kB\u001b[0m \u001b[31m?\u001b[0m eta \u001b[36m-:--:--\u001b[0m\r",
      "\u001b[2K     \u001b[90m━━━━━━━━━━━━━━━━━━━━━━━━━━━━━━━━━━━━━━━━\u001b[0m \u001b[32m47.3/47.3 kB\u001b[0m \u001b[31m4.3 MB/s\u001b[0m eta \u001b[36m0:00:00\u001b[0m\r\n",
      "\u001b[?25hRequirement already satisfied: tabulate>=0.7.7 in /usr/local/lib/python3.10/site-packages (from eli5) (0.9.0)\r\n",
      "Requirement already satisfied: scipy in /usr/local/lib/python3.10/site-packages (from eli5) (1.15.3)\r\n",
      "Requirement already satisfied: attrs>17.1.0 in /usr/local/lib/python3.10/site-packages (from eli5) (25.3.0)\r\n"
     ]
    },
    {
     "name": "stdout",
     "output_type": "stream",
     "text": [
      "Collecting scikit-learn>=1.6.0\r\n",
      "  Downloading scikit_learn-1.7.1-cp310-cp310-manylinux2014_x86_64.manylinux_2_17_x86_64.whl (9.7 MB)\r\n",
      "\u001b[?25l     \u001b[90m━━━━━━━━━━━━━━━━━━━━━━━━━━━━━━━━━━━━━━━━\u001b[0m \u001b[32m0.0/9.7 MB\u001b[0m \u001b[31m?\u001b[0m eta \u001b[36m-:--:--\u001b[0m"
     ]
    },
    {
     "name": "stdout",
     "output_type": "stream",
     "text": [
      "\r",
      "\u001b[2K     \u001b[91m━━━\u001b[0m\u001b[91m╸\u001b[0m\u001b[90m━━━━━━━━━━━━━━━━━━━━━━━━━━━━━━━━━━━━\u001b[0m \u001b[32m0.9/9.7 MB\u001b[0m \u001b[31m26.3 MB/s\u001b[0m eta \u001b[36m0:00:01\u001b[0m"
     ]
    },
    {
     "name": "stdout",
     "output_type": "stream",
     "text": [
      "\r",
      "\u001b[2K     \u001b[91m━━━━━━━━\u001b[0m\u001b[90m╺\u001b[0m\u001b[90m━━━━━━━━━━━━━━━━━━━━━━━━━━━━━━━\u001b[0m \u001b[32m2.0/9.7 MB\u001b[0m \u001b[31m29.8 MB/s\u001b[0m eta \u001b[36m0:00:01\u001b[0m\r",
      "\u001b[2K     \u001b[91m━━━━━━━━━━━━━━━\u001b[0m\u001b[91m╸\u001b[0m\u001b[90m━━━━━━━━━━━━━━━━━━━━━━━━\u001b[0m \u001b[32m3.8/9.7 MB\u001b[0m \u001b[31m37.0 MB/s\u001b[0m eta \u001b[36m0:00:01\u001b[0m"
     ]
    },
    {
     "name": "stdout",
     "output_type": "stream",
     "text": [
      "\r",
      "\u001b[2K     \u001b[91m━━━━━━━━━━━━━━━━━━━━━━━\u001b[0m\u001b[90m╺\u001b[0m\u001b[90m━━━━━━━━━━━━━━━━\u001b[0m \u001b[32m5.6/9.7 MB\u001b[0m \u001b[31m40.7 MB/s\u001b[0m eta \u001b[36m0:00:01\u001b[0m"
     ]
    },
    {
     "name": "stdout",
     "output_type": "stream",
     "text": [
      "\r",
      "\u001b[2K     \u001b[91m━━━━━━━━━━━━━━━━━━━━━━━━━━━━━━━━━━━━━\u001b[0m\u001b[91m╸\u001b[0m\u001b[90m━━\u001b[0m \u001b[32m9.1/9.7 MB\u001b[0m \u001b[31m52.1 MB/s\u001b[0m eta \u001b[36m0:00:01\u001b[0m"
     ]
    },
    {
     "name": "stdout",
     "output_type": "stream",
     "text": [
      "\r",
      "\u001b[2K     \u001b[91m━━━━━━━━━━━━━━━━━━━━━━━━━━━━━━━━━━━━━━━\u001b[0m\u001b[91m╸\u001b[0m \u001b[32m9.6/9.7 MB\u001b[0m \u001b[31m53.0 MB/s\u001b[0m eta \u001b[36m0:00:01\u001b[0m\r",
      "\u001b[2K     \u001b[90m━━━━━━━━━━━━━━━━━━━━━━━━━━━━━━━━━━━━━━━━\u001b[0m \u001b[32m9.7/9.7 MB\u001b[0m \u001b[31m40.0 MB/s\u001b[0m eta \u001b[36m0:00:00\u001b[0m\r\n",
      "\u001b[?25h"
     ]
    },
    {
     "name": "stdout",
     "output_type": "stream",
     "text": [
      "Requirement already satisfied: MarkupSafe>=2.0 in /usr/local/lib/python3.10/site-packages (from jinja2>=3.0.0->eli5) (3.0.2)\r\n"
     ]
    },
    {
     "name": "stdout",
     "output_type": "stream",
     "text": [
      "Requirement already satisfied: joblib>=1.2.0 in /usr/local/lib/python3.10/site-packages (from scikit-learn>=1.6.0->eli5) (1.5.1)\r\n",
      "Requirement already satisfied: threadpoolctl>=3.1.0 in /usr/local/lib/python3.10/site-packages (from scikit-learn>=1.6.0->eli5) (3.6.0)\r\n"
     ]
    },
    {
     "name": "stdout",
     "output_type": "stream",
     "text": [
      "Installing collected packages: graphviz, scikit-learn, eli5\r\n"
     ]
    },
    {
     "name": "stdout",
     "output_type": "stream",
     "text": [
      "  Attempting uninstall: scikit-learn\r\n",
      "    Found existing installation: scikit-learn 1.0.2\r\n"
     ]
    },
    {
     "name": "stdout",
     "output_type": "stream",
     "text": [
      "    Uninstalling scikit-learn-1.0.2:\r\n"
     ]
    },
    {
     "name": "stdout",
     "output_type": "stream",
     "text": [
      "      Successfully uninstalled scikit-learn-1.0.2\r\n"
     ]
    },
    {
     "name": "stdout",
     "output_type": "stream",
     "text": [
      "Successfully installed eli5-0.16.0 graphviz-0.21 scikit-learn-1.7.1\r\n",
      "\u001b[33mWARNING: Running pip as the 'root' user can result in broken permissions and conflicting behaviour with the system package manager. It is recommended to use a virtual environment instead: https://pip.pypa.io/warnings/venv\u001b[0m\u001b[33m\r\n",
      "\u001b[0m"
     ]
    },
    {
     "name": "stdout",
     "output_type": "stream",
     "text": [
      "\r\n",
      "\u001b[1m[\u001b[0m\u001b[34;49mnotice\u001b[0m\u001b[1;39;49m]\u001b[0m\u001b[39;49m A new release of pip is available: \u001b[0m\u001b[31;49m23.0.1\u001b[0m\u001b[39;49m -> \u001b[0m\u001b[32;49m25.2\u001b[0m\r\n",
      "\u001b[1m[\u001b[0m\u001b[34;49mnotice\u001b[0m\u001b[1;39;49m]\u001b[0m\u001b[39;49m To update, run: \u001b[0m\u001b[32;49mpip install --upgrade pip\u001b[0m\r\n"
     ]
    },
    {
     "name": "stderr",
     "output_type": "stream",
     "text": [
      "WARNING: Logging before InitGoogle() is written to STDERR\n",
      "E0000 00:00:1754482481.090278      74 common_lib.cc:612] Could not set metric server port: INVALID_ARGUMENT: Could not find SliceBuilder port 8471 in any of the 0 ports provided in `tpu_process_addresses`=\"local\"\n",
      "=== Source Location Trace: ===\n",
      "learning/45eac/tfrc/runtime/common_lib.cc:230\n"
     ]
    }
   ],
   "source": [
    "# Install the required version of scikit-learn\n",
    "!pip install scikit-learn==1.0.2\n",
    "!pip install eli5\n",
    "\n",
    "# Import necessary libraries\n",
    "import warnings\n",
    "warnings.simplefilter(action='ignore', category=FutureWarning)\n",
    "import os\n",
    "import pickle\n",
    "import numpy as np\n",
    "import pandas as pd\n",
    "import seaborn as sns\n",
    "import eli5\n",
    "from scipy.sparse import hstack\n",
    "from sklearn.feature_extraction.text import TfidfVectorizer\n",
    "from sklearn.preprocessing import StandardScaler\n",
    "from sklearn.model_selection import TimeSeriesSplit, cross_val_score\n",
    "from sklearn.linear_model import LogisticRegression\n",
    "from matplotlib import pyplot as plt\n",
    "from IPython.display import display_html\n",
    "from sklearn.metrics import confusion_matrix\n",
    "from joblib import Parallel, delayed\n",
    "\n",
    "# Define constants\n",
    "PATH_TO_DATA = r'/kaggle/input/open-ml-course-linear-models-spring22/'\n",
    "SEED = 241"
   ]
  },
  {
   "cell_type": "code",
   "execution_count": 2,
   "id": "939302da",
   "metadata": {
    "execution": {
     "iopub.execute_input": "2025-08-06T12:14:54.241377Z",
     "iopub.status.busy": "2025-08-06T12:14:54.240791Z",
     "iopub.status.idle": "2025-08-06T12:15:11.174962Z",
     "shell.execute_reply": "2025-08-06T12:15:11.168859Z"
    },
    "papermill": {
     "duration": 16.945104,
     "end_time": "2025-08-06T12:15:11.177777",
     "exception": false,
     "start_time": "2025-08-06T12:14:54.232673",
     "status": "completed"
    },
    "tags": []
   },
   "outputs": [
    {
     "name": "stderr",
     "output_type": "stream",
     "text": [
      "/usr/local/lib/python3.10/site-packages/sklearn/feature_extraction/text.py:517: UserWarning: The parameter 'token_pattern' will not be used since 'tokenizer' is not None'\n",
      "  warnings.warn(\n"
     ]
    }
   ],
   "source": [
    "def prepare_sparse_features(path_to_train, path_to_test, path_to_site_dict, vectorizer_params):\n",
    "    \"\"\"\n",
    "    Prepare sparse features from the training and test datasets.\n",
    "\n",
    "    Args:\n",
    "        path_to_train (str): Path to the training dataset.\n",
    "        path_to_test (str): Path to the test dataset.\n",
    "        path_to_site_dict (str): Path to the site dictionary.\n",
    "        vectorizer_params (dict): Parameters for the TfidfVectorizer.\n",
    "\n",
    "    Returns:\n",
    "        tuple: Sparse matrices for training and test data, target values, vectorizer, and time data.\n",
    "    \"\"\"\n",
    "    times = ['time%s' % i for i in range(1, 11)]\n",
    "    train_df = pd.read_csv(path_to_train, index_col='session_id', parse_dates=times)\n",
    "    test_df = pd.read_csv(path_to_test, index_col='session_id', parse_dates=times)\n",
    "\n",
    "    # Sort the data by time\n",
    "    train_df = train_df.sort_values(by='time1')\n",
    "\n",
    "    # Read site -> id mapping provided by competition organizers\n",
    "    with open(path_to_site_dict, 'rb') as f:\n",
    "        site2id = pickle.load(f)\n",
    "    # Create an inverse id -> site mapping\n",
    "    id2site = {v: k for (k, v) in site2id.items()}\n",
    "    # We treat site with id 0 as \"unknown\"\n",
    "    id2site[0] = 'unknown'\n",
    "\n",
    "    # Transform data into format which can be fed into TfidfVectorizer\n",
    "    sites = ['site%s' % i for i in range(1, 11)]\n",
    "    train_sessions = train_df[sites].fillna(0).astype('int').apply(lambda row: ' '.join([id2site[i] for i in row]), axis=1).tolist()\n",
    "    test_sessions = test_df[sites].fillna(0).astype('int').apply(lambda row: ' '.join([id2site[i] for i in row]), axis=1).tolist()\n",
    "\n",
    "    # We'll tell TfidfVectorizer that we'd like to split data by whitespaces only\n",
    "    # so that it doesn't split by dots\n",
    "    vectorizer = TfidfVectorizer(**vectorizer_params)\n",
    "    X_train = vectorizer.fit_transform(train_sessions)\n",
    "    X_test = vectorizer.transform(test_sessions)\n",
    "    y_train = train_df['target'].astype('int').values\n",
    "\n",
    "    # We'll need site visit times for further feature engineering\n",
    "    train_times, test_times = train_df[times], test_df[times]\n",
    "\n",
    "    return X_train, X_test, y_train, vectorizer, train_times, test_times\n",
    "\n",
    "# Prepare sparse features\n",
    "X_train_sites, X_test_sites, y_train, vectorizer, train_times, test_times = prepare_sparse_features(\n",
    "    path_to_train=os.path.join(PATH_TO_DATA, 'train.csv'),\n",
    "    path_to_test=os.path.join(PATH_TO_DATA, 'test.csv'),\n",
    "    path_to_site_dict=os.path.join(PATH_TO_DATA, 'site_dic.pkl'),\n",
    "    vectorizer_params={'ngram_range': (1, 3), 'max_features': 31000, 'tokenizer': lambda s: s.split()}\n",
    ")"
   ]
  },
  {
   "cell_type": "code",
   "execution_count": 3,
   "id": "32aca43f",
   "metadata": {
    "execution": {
     "iopub.execute_input": "2025-08-06T12:15:11.191108Z",
     "iopub.status.busy": "2025-08-06T12:15:11.190849Z",
     "iopub.status.idle": "2025-08-06T12:15:14.037646Z",
     "shell.execute_reply": "2025-08-06T12:15:14.031491Z"
    },
    "papermill": {
     "duration": 2.857755,
     "end_time": "2025-08-06T12:15:14.040383",
     "exception": false,
     "start_time": "2025-08-06T12:15:11.182628",
     "status": "completed"
    },
    "tags": []
   },
   "outputs": [],
   "source": [
    "# Load site dictionary\n",
    "sites_dict = pd.read_pickle(os.path.join(PATH_TO_DATA, 'site_dic.pkl'))\n",
    "sites_dict_inv = {v: k for k, v in sites_dict.items()}\n",
    "\n",
    "# Define columns for sites\n",
    "sites_train = ['site%s' % i for i in range(1, 11)] + ['target']\n",
    "sites_test = ['site%s' % i for i in range(1, 11)]\n",
    "\n",
    "# Load and preprocess training and test data\n",
    "train_sites = pd.read_csv(os.path.join(PATH_TO_DATA, 'train.csv'),\n",
    "                         index_col='session_id', parse_dates=['time%s' % i for i in range(1, 11)])\n",
    "test_sites = pd.read_csv(os.path.join(PATH_TO_DATA, 'test.csv'),\n",
    "                        index_col='session_id', parse_dates=['time%s' % i for i in range(1, 11)])\n",
    "\n",
    "train_sites = train_sites.sort_values(by='time1')\n",
    "train_sites = train_sites[sites_train].fillna(0).astype('int')\n",
    "test_sites = test_sites[sites_test].fillna(0).astype('int')\n",
    "\n",
    "# Initialize lists for feature names and correlation dataframes\n",
    "features_name = []\n",
    "corr_df = []\n",
    "time_split = TimeSeriesSplit(n_splits=10)"
   ]
  },
  {
   "cell_type": "code",
   "execution_count": 4,
   "id": "9361cbd0",
   "metadata": {
    "execution": {
     "iopub.execute_input": "2025-08-06T12:15:14.055495Z",
     "iopub.status.busy": "2025-08-06T12:15:14.055225Z",
     "iopub.status.idle": "2025-08-06T12:15:14.097767Z",
     "shell.execute_reply": "2025-08-06T12:15:14.093001Z"
    },
    "papermill": {
     "duration": 0.055859,
     "end_time": "2025-08-06T12:15:14.101318",
     "exception": false,
     "start_time": "2025-08-06T12:15:14.045459",
     "status": "completed"
    },
    "tags": []
   },
   "outputs": [],
   "source": [
    "def write_to_submission_file(predicted_labels, out_file, target='target', index_label=\"session_id\"):\n",
    "    \"\"\"\n",
    "    Write predicted labels to a submission file.\n",
    "\n",
    "    Args:\n",
    "        predicted_labels (array-like): Predicted labels.\n",
    "        out_file (str): Path to the output file.\n",
    "        target (str): Name of the target column.\n",
    "        index_label (str): Name of the index column.\n",
    "    \"\"\"\n",
    "    predicted_df = pd.DataFrame(predicted_labels,\n",
    "                                index=np.arange(1, predicted_labels.shape[0] + 1),\n",
    "                                columns=[target])\n",
    "    predicted_df.to_csv(out_file, index_label=index_label)\n",
    "\n",
    "def train_and_predict(model, X_train, y_train, X_test, site_feature_names=vectorizer.get_feature_names_out(),\n",
    "                     new_feature_names=None, cv=time_split, scoring='roc_auc',\n",
    "                     top_n_features_to_show=30, submission_file_name='submission.csv'):\n",
    "    \"\"\"\n",
    "    Train and predict using a given model.\n",
    "\n",
    "    Args:\n",
    "        model: The model to train and predict with.\n",
    "        X_train: Training features.\n",
    "        y_train: Training target values.\n",
    "        X_test: Test features.\n",
    "        site_feature_names: Feature names from the vectorizer.\n",
    "        new_feature_names: Additional feature names.\n",
    "        cv: Cross-validation strategy.\n",
    "        scoring: Scoring metric.\n",
    "        top_n_features_to_show: Number of top features to show.\n",
    "        submission_file_name: Name of the submission file.\n",
    "\n",
    "    Returns:\n",
    "        tuple: Predicted probabilities, true labels, predicted labels, confusion matrix, and CV scores.\n",
    "    \"\"\"\n",
    "    cv_scores = cross_val_score(model, X_train, y_train, cv=cv, scoring=scoring, n_jobs=-1)\n",
    "    print('CV scores', cv_scores)\n",
    "    print('CV mean: {}, CV std: {}'.format(cv_scores.mean(), cv_scores.std()))\n",
    "    model.fit(X_train, y_train)\n",
    "\n",
    "    if new_feature_names:\n",
    "        all_feature_names = list(site_feature_names) + list(new_feature_names)\n",
    "    else:\n",
    "        all_feature_names = list(site_feature_names)\n",
    "\n",
    "    display_html(eli5.show_weights(estimator=model, feature_names=all_feature_names, top=top_n_features_to_show))\n",
    "\n",
    "    if new_feature_names:\n",
    "        print('New feature weights:')\n",
    "        print(pd.DataFrame({'feature': new_feature_names, 'coef': model.coef_.flatten()[-len(new_feature_names):]}))\n",
    "\n",
    "    proba = model.predict_proba(X_train)\n",
    "    predicted = model.predict(X_train)\n",
    "    table_confusion = confusion_matrix(y_train, predicted)\n",
    "    test_pred = model.predict_proba(X_test)[:, 1]\n",
    "    write_to_submission_file(test_pred, submission_file_name)\n",
    "\n",
    "    return proba, y_train, predicted, table_confusion, cv_scores"
   ]
  },
  {
   "cell_type": "code",
   "execution_count": 5,
   "id": "3cdf4d1f",
   "metadata": {
    "execution": {
     "iopub.execute_input": "2025-08-06T12:15:14.113713Z",
     "iopub.status.busy": "2025-08-06T12:15:14.113447Z",
     "iopub.status.idle": "2025-08-06T12:15:16.780773Z",
     "shell.execute_reply": "2025-08-06T12:15:16.774726Z"
    },
    "papermill": {
     "duration": 2.677313,
     "end_time": "2025-08-06T12:15:16.783243",
     "exception": false,
     "start_time": "2025-08-06T12:15:14.105930",
     "status": "completed"
    },
    "tags": []
   },
   "outputs": [
    {
     "data": {
      "image/png": "[encoded data removed]",
      "text/plain": [
       "<Figure size 2000x700 with 1 Axes>"
      ]
     },
     "metadata": {},
     "output_type": "display_data"
    }
   ],
   "source": [
    "# Plot session start hour for Alice\n",
    "session_start_hour = train_times['time1'].apply(lambda ts: 100 * ts.hour + int(ts.minute / 10)).values\n",
    "plt.subplots(1, figsize=(20, 7))\n",
    "sns.countplot(pd.DataFrame(session_start_hour[y_train == 1], columns=['time1']), x='time1')\n",
    "plt.title(\"Alice\")\n",
    "plt.xlabel('Session start hour')\n",
    "\n",
    "def add_time_features(times, X_sparse, add_feat=True):\n",
    "    \"\"\"\n",
    "    Add time-based features to the sparse matrix.\n",
    "\n",
    "    Args:\n",
    "        times: DataFrame containing time columns.\n",
    "        X_sparse: Sparse matrix of features.\n",
    "        add_feat: Whether to add features to the correlation DataFrame.\n",
    "\n",
    "    Returns:\n",
    "        tuple: Updated sparse matrix and feature names.\n",
    "    \"\"\"\n",
    "    hour = times['time1'].apply(lambda t: 100 * t.hour + t.minute) / 1000\n",
    "    morning_1 = (((hour >= 0.901) & (hour <= 0.904) | (hour >= 0.922) & (hour <= 1.209)).astype('int') * hour).values.reshape(-1, 1)\n",
    "    morning_2 = (((hour >= 0.905) & (hour <= 0.921)).astype('int') * hour).values.reshape(-1, 1)\n",
    "    day_1 = (((hour >= 1.210) & (hour <= 1.239)).astype('int') * hour).values.reshape(-1, 1)\n",
    "    day_2 = (((hour >= 1.240) & (hour <= 1.335)).astype('int') * hour).values.reshape(-1, 1)\n",
    "    day_3 = (((hour >= 1.336) & (hour <= 1.358)).astype('int') * hour).values.reshape(-1, 1)\n",
    "    day_4 = (((hour >= 1.359) & (hour <= 1.517)).astype('int') * hour).values.reshape(-1, 1)\n",
    "    day_5 = (((hour >= 1.518) & (hour <= 1.553)).astype('int') * hour).values.reshape(-1, 1)\n",
    "    evening_1 = (((hour >= 1.554) & (hour <= 1.629) | (hour >= 1.705) & (hour <= 1.755)) * hour).values.reshape(-1, 1)\n",
    "    evening_2 = ((hour >= 1.653) & (hour <= 1.704)).values.reshape(-1, 1)\n",
    "    evening_3 = (((hour >= 1.756) & (hour <= 1.828) | (hour >= 1.626) & (hour <= 1.656)) * hour).values.reshape(-1, 1)\n",
    "    night = (((hour >= 1.829) & (hour <= 2.359) | (hour >= 0) & (hour <= 0.900)) * hour).values.reshape(-1, 1)\n",
    "\n",
    "    objects_to_hstack = [X_sparse, morning_1, morning_2, day_1, day_2, day_3, day_4, day_5, evening_1, evening_2, evening_3, night]\n",
    "    feature_names = ['morning_1', 'morning_2', 'day_1', 'day_2', 'day_3', 'day_4', 'day_5', 'evening_1', 'evening_2', 'evening_3', 'night']\n",
    "\n",
    "    if add_feat:\n",
    "        for i, j in zip(objects_to_hstack[1:], feature_names):\n",
    "            feat = pd.DataFrame(pd.DataFrame(i, columns=[j]))\n",
    "            corr_df.append(feat)\n",
    "\n",
    "    X = hstack(objects_to_hstack)\n",
    "    return X, feature_names\n",
    "\n",
    "# Add time features to the training and test data\n",
    "X_train_final, new_feat_names = add_time_features(train_times, X_train_sites)\n",
    "X_test_final, _ = add_time_features(test_times, X_test_sites, add_feat=False)\n",
    "features_name += new_feat_names"
   ]
  },
  {
   "cell_type": "code",
   "execution_count": 6,
   "id": "b4d5d126",
   "metadata": {
    "execution": {
     "iopub.execute_input": "2025-08-06T12:15:16.797012Z",
     "iopub.status.busy": "2025-08-06T12:15:16.796766Z",
     "iopub.status.idle": "2025-08-06T12:15:18.684094Z",
     "shell.execute_reply": "2025-08-06T12:15:18.677803Z"
    },
    "papermill": {
     "duration": 1.898703,
     "end_time": "2025-08-06T12:15:18.687213",
     "exception": false,
     "start_time": "2025-08-06T12:15:16.788510",
     "status": "completed"
    },
    "tags": []
   },
   "outputs": [
    {
     "data": {
      "image/png": "[encoded data removed]",
      "text/plain": [
       "<Figure size 1600x800 with 1 Axes>"
      ]
     },
     "metadata": {},
     "output_type": "display_data"
    }
   ],
   "source": [
    "# Plot session start hour for Alice\n",
    "dow = train_times['time1'].apply(lambda x: x.weekday())\n",
    "plt.subplots(1, figsize=(16, 8))\n",
    "sns.countplot(pd.DataFrame(dow[y_train == 1]), x='time1')\n",
    "plt.title(\"Alice\")\n",
    "plt.xlabel('Session start hour')\n",
    "\n",
    "def add_day_month(times, X_sparse, add_feat=True):\n",
    "    \"\"\"\n",
    "    Add day of the week and month features to the sparse matrix.\n",
    "\n",
    "    Args:\n",
    "        times: DataFrame containing time columns.\n",
    "        X_sparse: Sparse matrix of features.\n",
    "        add_feat: Whether to add features to the correlation DataFrame.\n",
    "\n",
    "    Returns:\n",
    "        tuple: Updated sparse matrix and feature names.\n",
    "    \"\"\"\n",
    "    day_of_week = times['time1'].apply(lambda t: t.weekday())\n",
    "    day_of_week_df = pd.get_dummies(day_of_week)\n",
    "    day_of_week_df['5_6'] = day_of_week_df[5] + day_of_week_df[6]\n",
    "    day_of_week_df['2_3'] = day_of_week_df[2] + day_of_week_df[3]\n",
    "\n",
    "    for d in (2, 3, 5, 6):\n",
    "        del day_of_week_df[d]\n",
    "\n",
    "    day_of_week_df = day_of_week_df.rename({i: 'weekday_' + str(i) for i in day_of_week_df.columns}, axis=1)\n",
    "\n",
    "    objects_to_hstack = [X_sparse, day_of_week_df]\n",
    "    feature_names = ['weekday_' + str(i) for i in day_of_week_df.columns]\n",
    "\n",
    "    if add_feat:\n",
    "        corr_df.append(day_of_week_df.reset_index(drop=True))\n",
    "\n",
    "    X = hstack(objects_to_hstack)\n",
    "    return X, feature_names\n",
    "\n",
    "# Add day and month features to the training and test data\n",
    "X_train_final, more_feat_names = add_day_month(train_times, X_train_final)\n",
    "X_test_final, _ = add_day_month(test_times, X_test_final, add_feat=False)\n",
    "features_name += more_feat_names"
   ]
  },
  {
   "cell_type": "code",
   "execution_count": 7,
   "id": "a628114c",
   "metadata": {
    "execution": {
     "iopub.execute_input": "2025-08-06T12:15:18.702345Z",
     "iopub.status.busy": "2025-08-06T12:15:18.702052Z",
     "iopub.status.idle": "2025-08-06T12:15:21.458361Z",
     "shell.execute_reply": "2025-08-06T12:15:21.453838Z"
    },
    "papermill": {
     "duration": 2.769001,
     "end_time": "2025-08-06T12:15:21.461525",
     "exception": false,
     "start_time": "2025-08-06T12:15:18.692524",
     "status": "completed"
    },
    "tags": []
   },
   "outputs": [
    {
     "data": {
      "image/png": "[encoded data removed]",
      "text/plain": [
       "<Figure size 1600x800 with 2 Axes>"
      ]
     },
     "metadata": {},
     "output_type": "display_data"
    }
   ],
   "source": [
    "# Plot day of month for Alice and Intruder\n",
    "dom = train_times['time1'].apply(lambda ts: ts.day)\n",
    "plt.subplots(1, 2, figsize=(16, 8))\n",
    "\n",
    "plt.subplot(1, 2, 1)\n",
    "sns.countplot(pd.DataFrame(dom[(y_train == 1)]), x='time1')\n",
    "plt.title(\"Alice\")\n",
    "plt.xlabel('Day of month')\n",
    "\n",
    "plt.subplot(1, 2, 2)\n",
    "sns.countplot(pd.DataFrame(dom[(y_train == 0)]), x='time1')\n",
    "plt.title('Intruder')\n",
    "plt.xlabel('Day of month')\n",
    "\n",
    "def add_dom(times, X_sparse, add_feat=True):\n",
    "    \"\"\"\n",
    "    Add day of month features to the sparse matrix.\n",
    "\n",
    "    Args:\n",
    "        times: DataFrame containing time columns.\n",
    "        X_sparse: Sparse matrix of features.\n",
    "        add_feat: Whether to add features to the correlation DataFrame.\n",
    "\n",
    "    Returns:\n",
    "        tuple: Updated sparse matrix and feature names.\n",
    "    \"\"\"\n",
    "    dom = times['time1'].apply(lambda ts: ts.day)\n",
    "    dom_1 = (dom.isin([3, 5, 6, 7, 8, 10, 11, 12, 21, 23, 27, 28, 30])).values.reshape(-1, 1)\n",
    "    dom_2 = (dom.isin([9, 24])).values.reshape(-1, 1)\n",
    "    dom_3 = (dom.isin([17, 18, 19, 20, 21, 22, 24, 25, 26, 31])).values.reshape(-1, 1)\n",
    "\n",
    "    objects_to_hstack = [X_sparse, dom_1, dom_2, dom_3]\n",
    "    feature_names = ['dom_1', 'dom_2', 'dom_3']\n",
    "\n",
    "    if add_feat:\n",
    "        corr_df.append(pd.DataFrame(dom_1, columns=['dom_1']))\n",
    "        corr_df.append(pd.DataFrame(dom_2, columns=['dom_2']))\n",
    "        corr_df.append(pd.DataFrame(dom_3, columns=['dom_3']))\n",
    "\n",
    "    X = hstack(objects_to_hstack)\n",
    "    return X, feature_names\n",
    "\n",
    "# Add day of month features to the training and test data\n",
    "X_train_final, dom_features = add_dom(train_times, X_train_final)\n",
    "X_test_final, _ = add_dom(test_times, X_test_final, add_feat=False)\n",
    "features_name += dom_features"
   ]
  },
  {
   "cell_type": "code",
   "execution_count": 8,
   "id": "2505cbc1",
   "metadata": {
    "execution": {
     "iopub.execute_input": "2025-08-06T12:15:21.477743Z",
     "iopub.status.busy": "2025-08-06T12:15:21.477475Z",
     "iopub.status.idle": "2025-08-06T12:15:39.129795Z",
     "shell.execute_reply": "2025-08-06T12:15:39.125150Z"
    },
    "papermill": {
     "duration": 17.66549,
     "end_time": "2025-08-06T12:15:39.133114",
     "exception": false,
     "start_time": "2025-08-06T12:15:21.467624",
     "status": "completed"
    },
    "tags": []
   },
   "outputs": [
    {
     "name": "stdout",
     "output_type": "stream",
     "text": [
      "CV scores [0.83258131 0.97537971 0.97877715 0.87663354 0.96038059 0.93757734\n",
      " 0.89727008 0.96506534 0.9889404  0.98365495]\n",
      "CV mean: 0.9396260424233696, CV std: 0.050482025231184294\n"
     ]
    },
    {
     "data": {
      "text/html": [
       "\n",
       "    <style>\n",
       "    table.eli5-weights tr:hover {\n",
       "        filter: brightness(85%);\n",
       "    }\n",
       "</style>\n",
       "\n",
       "\n",
       "\n",
       "    \n",
       "\n",
       "    \n",
       "\n",
       "    \n",
       "\n",
       "    \n",
       "\n",
       "    \n",
       "\n",
       "    \n",
       "\n",
       "\n",
       "    \n",
       "\n",
       "    \n",
       "\n",
       "    \n",
       "\n",
       "    \n",
       "        \n",
       "\n",
       "    \n",
       "\n",
       "        \n",
       "            \n",
       "                \n",
       "                \n",
       "    \n",
       "        <p style=\"margin-bottom: 0.5em; margin-top: 0em\">\n",
       "            <b>\n",
       "    \n",
       "        y=1\n",
       "    \n",
       "</b>\n",
       "\n",
       "top features\n",
       "        </p>\n",
       "    \n",
       "    <table class=\"eli5-weights\"\n",
       "           style=\"border-collapse: collapse; border: none; margin-top: 0em; table-layout: auto; margin-bottom: 2em;\">\n",
       "        <thead>\n",
       "        <tr style=\"border: none;\">\n",
       "            \n",
       "                <th style=\"padding: 0 1em 0 0.5em; text-align: right; border: none;\" title=\"Feature weights. Note that weights do not account for feature value scales, so if feature values have different scales, features with highest weights might not be the most important.\">\n",
       "                    Weight<sup>?</sup>\n",
       "                </th>\n",
       "            \n",
       "            <th style=\"padding: 0 0.5em 0 0.5em; text-align: left; border: none;\">Feature</th>\n",
       "            \n",
       "        </tr>\n",
       "        </thead>\n",
       "        <tbody>\n",
       "        \n",
       "            <tr style=\"background-color: hsl(120, 100.00%, 80.00%); border: none;\">\n",
       "    <td style=\"padding: 0 1em 0 0.5em; text-align: right; border: none;\">\n",
       "        +18.686\n",
       "    </td>\n",
       "    <td style=\"padding: 0 0.5em 0 0.5em; text-align: left; border: none;\">\n",
       "        cid-ed6c3e6a5c6608a4.users.storage.live.com\n",
       "    </td>\n",
       "    \n",
       "</tr>\n",
       "        \n",
       "            <tr style=\"background-color: hsl(120, 100.00%, 85.85%); border: none;\">\n",
       "    <td style=\"padding: 0 1em 0 0.5em; text-align: right; border: none;\">\n",
       "        +11.397\n",
       "    </td>\n",
       "    <td style=\"padding: 0 0.5em 0 0.5em; text-align: left; border: none;\">\n",
       "        video.tt\n",
       "    </td>\n",
       "    \n",
       "</tr>\n",
       "        \n",
       "            <tr style=\"background-color: hsl(120, 100.00%, 85.91%); border: none;\">\n",
       "    <td style=\"padding: 0 1em 0 0.5em; text-align: right; border: none;\">\n",
       "        +11.327\n",
       "    </td>\n",
       "    <td style=\"padding: 0 0.5em 0 0.5em; text-align: left; border: none;\">\n",
       "        www.banque-chalus.fr\n",
       "    </td>\n",
       "    \n",
       "</tr>\n",
       "        \n",
       "            <tr style=\"background-color: hsl(120, 100.00%, 86.90%); border: none;\">\n",
       "    <td style=\"padding: 0 1em 0 0.5em; text-align: right; border: none;\">\n",
       "        +10.212\n",
       "    </td>\n",
       "    <td style=\"padding: 0 0.5em 0 0.5em; text-align: left; border: none;\">\n",
       "        t.voyages-sncf.com\n",
       "    </td>\n",
       "    \n",
       "</tr>\n",
       "        \n",
       "            <tr style=\"background-color: hsl(120, 100.00%, 86.91%); border: none;\">\n",
       "    <td style=\"padding: 0 1em 0 0.5em; text-align: right; border: none;\">\n",
       "        +10.200\n",
       "    </td>\n",
       "    <td style=\"padding: 0 0.5em 0 0.5em; text-align: left; border: none;\">\n",
       "        static.weezbe.com\n",
       "    </td>\n",
       "    \n",
       "</tr>\n",
       "        \n",
       "            <tr style=\"background-color: hsl(120, 100.00%, 86.93%); border: none;\">\n",
       "    <td style=\"padding: 0 1em 0 0.5em; text-align: right; border: none;\">\n",
       "        +10.180\n",
       "    </td>\n",
       "    <td style=\"padding: 0 0.5em 0 0.5em; text-align: left; border: none;\">\n",
       "        www.video.tt\n",
       "    </td>\n",
       "    \n",
       "</tr>\n",
       "        \n",
       "            <tr style=\"background-color: hsl(120, 100.00%, 87.19%); border: none;\">\n",
       "    <td style=\"padding: 0 1em 0 0.5em; text-align: right; border: none;\">\n",
       "        +9.891\n",
       "    </td>\n",
       "    <td style=\"padding: 0 0.5em 0 0.5em; text-align: left; border: none;\">\n",
       "        www.qapa.fr\n",
       "    </td>\n",
       "    \n",
       "</tr>\n",
       "        \n",
       "            <tr style=\"background-color: hsl(120, 100.00%, 87.74%); border: none;\">\n",
       "    <td style=\"padding: 0 1em 0 0.5em; text-align: right; border: none;\">\n",
       "        +9.289\n",
       "    </td>\n",
       "    <td style=\"padding: 0 0.5em 0 0.5em; text-align: left; border: none;\">\n",
       "        zupimages.net\n",
       "    </td>\n",
       "    \n",
       "</tr>\n",
       "        \n",
       "            <tr style=\"background-color: hsl(120, 100.00%, 87.86%); border: none;\">\n",
       "    <td style=\"padding: 0 1em 0 0.5em; text-align: right; border: none;\">\n",
       "        +9.160\n",
       "    </td>\n",
       "    <td style=\"padding: 0 0.5em 0 0.5em; text-align: left; border: none;\">\n",
       "        www.kickstarter.com\n",
       "    </td>\n",
       "    \n",
       "</tr>\n",
       "        \n",
       "            <tr style=\"background-color: hsl(120, 100.00%, 87.92%); border: none;\">\n",
       "    <td style=\"padding: 0 1em 0 0.5em; text-align: right; border: none;\">\n",
       "        +9.097\n",
       "    </td>\n",
       "    <td style=\"padding: 0 0.5em 0 0.5em; text-align: left; border: none;\">\n",
       "        www.tete-en-lair.com\n",
       "    </td>\n",
       "    \n",
       "</tr>\n",
       "        \n",
       "            <tr style=\"background-color: hsl(120, 100.00%, 87.96%); border: none;\">\n",
       "    <td style=\"padding: 0 1em 0 0.5em; text-align: right; border: none;\">\n",
       "        +9.049\n",
       "    </td>\n",
       "    <td style=\"padding: 0 0.5em 0 0.5em; text-align: left; border: none;\">\n",
       "        www.thefreecamsecret.com\n",
       "    </td>\n",
       "    \n",
       "</tr>\n",
       "        \n",
       "            <tr style=\"background-color: hsl(120, 100.00%, 88.18%); border: none;\">\n",
       "    <td style=\"padding: 0 1em 0 0.5em; text-align: right; border: none;\">\n",
       "        +8.813\n",
       "    </td>\n",
       "    <td style=\"padding: 0 0.5em 0 0.5em; text-align: left; border: none;\">\n",
       "        s.radio-canada.ca\n",
       "    </td>\n",
       "    \n",
       "</tr>\n",
       "        \n",
       "            <tr style=\"background-color: hsl(120, 100.00%, 88.26%); border: none;\">\n",
       "    <td style=\"padding: 0 1em 0 0.5em; text-align: right; border: none;\">\n",
       "        +8.727\n",
       "    </td>\n",
       "    <td style=\"padding: 0 0.5em 0 0.5em; text-align: left; border: none;\">\n",
       "        static.flickr.com\n",
       "    </td>\n",
       "    \n",
       "</tr>\n",
       "        \n",
       "            <tr style=\"background-color: hsl(120, 100.00%, 88.30%); border: none;\">\n",
       "    <td style=\"padding: 0 1em 0 0.5em; text-align: right; border: none;\">\n",
       "        +8.683\n",
       "    </td>\n",
       "    <td style=\"padding: 0 0.5em 0 0.5em; text-align: left; border: none;\">\n",
       "        youtube.fr\n",
       "    </td>\n",
       "    \n",
       "</tr>\n",
       "        \n",
       "            <tr style=\"background-color: hsl(120, 100.00%, 88.35%); border: none;\">\n",
       "    <td style=\"padding: 0 1em 0 0.5em; text-align: right; border: none;\">\n",
       "        +8.638\n",
       "    </td>\n",
       "    <td style=\"padding: 0 0.5em 0 0.5em; text-align: left; border: none;\">\n",
       "        www.voyages-sncf.com\n",
       "    </td>\n",
       "    \n",
       "</tr>\n",
       "        \n",
       "            <tr style=\"background-color: hsl(120, 100.00%, 88.54%); border: none;\">\n",
       "    <td style=\"padding: 0 1em 0 0.5em; text-align: right; border: none;\">\n",
       "        +8.434\n",
       "    </td>\n",
       "    <td style=\"padding: 0 0.5em 0 0.5em; text-align: left; border: none;\">\n",
       "        79.98.96.110\n",
       "    </td>\n",
       "    \n",
       "</tr>\n",
       "        \n",
       "            <tr style=\"background-color: hsl(120, 100.00%, 88.57%); border: none;\">\n",
       "    <td style=\"padding: 0 1em 0 0.5em; text-align: right; border: none;\">\n",
       "        +8.405\n",
       "    </td>\n",
       "    <td style=\"padding: 0 0.5em 0 0.5em; text-align: left; border: none;\">\n",
       "        media-1.melty.fr\n",
       "    </td>\n",
       "    \n",
       "</tr>\n",
       "        \n",
       "            <tr style=\"background-color: hsl(120, 100.00%, 88.76%); border: none;\">\n",
       "    <td style=\"padding: 0 1em 0 0.5em; text-align: right; border: none;\">\n",
       "        +8.208\n",
       "    </td>\n",
       "    <td style=\"padding: 0 0.5em 0 0.5em; text-align: left; border: none;\">\n",
       "        demotivateur.disqus.com\n",
       "    </td>\n",
       "    \n",
       "</tr>\n",
       "        \n",
       "            <tr style=\"background-color: hsl(120, 100.00%, 88.79%); border: none;\">\n",
       "    <td style=\"padding: 0 1em 0 0.5em; text-align: right; border: none;\">\n",
       "        +8.170\n",
       "    </td>\n",
       "    <td style=\"padding: 0 0.5em 0 0.5em; text-align: left; border: none;\">\n",
       "        exashare.com\n",
       "    </td>\n",
       "    \n",
       "</tr>\n",
       "        \n",
       "            <tr style=\"background-color: hsl(120, 100.00%, 88.92%); border: none;\">\n",
       "    <td style=\"padding: 0 1em 0 0.5em; text-align: right; border: none;\">\n",
       "        +8.042\n",
       "    </td>\n",
       "    <td style=\"padding: 0 0.5em 0 0.5em; text-align: left; border: none;\">\n",
       "        www.meltyfood.fr\n",
       "    </td>\n",
       "    \n",
       "</tr>\n",
       "        \n",
       "            <tr style=\"background-color: hsl(120, 100.00%, 88.98%); border: none;\">\n",
       "    <td style=\"padding: 0 1em 0 0.5em; text-align: right; border: none;\">\n",
       "        +7.970\n",
       "    </td>\n",
       "    <td style=\"padding: 0 0.5em 0 0.5em; text-align: left; border: none;\">\n",
       "        ver-adt.vindicosuite.com\n",
       "    </td>\n",
       "    \n",
       "</tr>\n",
       "        \n",
       "            <tr style=\"background-color: hsl(120, 100.00%, 89.06%); border: none;\">\n",
       "    <td style=\"padding: 0 1em 0 0.5em; text-align: right; border: none;\">\n",
       "        +7.889\n",
       "    </td>\n",
       "    <td style=\"padding: 0 0.5em 0 0.5em; text-align: left; border: none;\">\n",
       "        static.qapa.fr\n",
       "    </td>\n",
       "    \n",
       "</tr>\n",
       "        \n",
       "            <tr style=\"background-color: hsl(120, 100.00%, 89.07%); border: none;\">\n",
       "    <td style=\"padding: 0 1em 0 0.5em; text-align: right; border: none;\">\n",
       "        +7.878\n",
       "    </td>\n",
       "    <td style=\"padding: 0 0.5em 0 0.5em; text-align: left; border: none;\">\n",
       "        api.bing.com\n",
       "    </td>\n",
       "    \n",
       "</tr>\n",
       "        \n",
       "            <tr style=\"background-color: hsl(120, 100.00%, 89.09%); border: none;\">\n",
       "    <td style=\"padding: 0 1em 0 0.5em; text-align: right; border: none;\">\n",
       "        +7.863\n",
       "    </td>\n",
       "    <td style=\"padding: 0 0.5em 0 0.5em; text-align: left; border: none;\">\n",
       "        mcetv.fr\n",
       "    </td>\n",
       "    \n",
       "</tr>\n",
       "        \n",
       "            <tr style=\"background-color: hsl(120, 100.00%, 89.19%); border: none;\">\n",
       "    <td style=\"padding: 0 1em 0 0.5em; text-align: right; border: none;\">\n",
       "        +7.760\n",
       "    </td>\n",
       "    <td style=\"padding: 0 0.5em 0 0.5em; text-align: left; border: none;\">\n",
       "        www.clermont-filmfest.com\n",
       "    </td>\n",
       "    \n",
       "</tr>\n",
       "        \n",
       "            <tr style=\"background-color: hsl(120, 100.00%, 89.23%); border: none;\">\n",
       "    <td style=\"padding: 0 1em 0 0.5em; text-align: right; border: none;\">\n",
       "        +7.722\n",
       "    </td>\n",
       "    <td style=\"padding: 0 0.5em 0 0.5em; text-align: left; border: none;\">\n",
       "        r4---sn-cg07lues.googlevideo.com\n",
       "    </td>\n",
       "    \n",
       "</tr>\n",
       "        \n",
       "        \n",
       "            <tr style=\"background-color: hsl(120, 100.00%, 89.23%); border: none;\">\n",
       "                <td colspan=\"2\" style=\"padding: 0 0.5em 0 0.5em; text-align: center; border: none; white-space: nowrap;\">\n",
       "                    <i>&hellip; 3139 more positive &hellip;</i>\n",
       "                </td>\n",
       "            </tr>\n",
       "        \n",
       "\n",
       "        \n",
       "            <tr style=\"background-color: hsl(0, 100.00%, 89.02%); border: none;\">\n",
       "                <td colspan=\"2\" style=\"padding: 0 0.5em 0 0.5em; text-align: center; border: none; white-space: nowrap;\">\n",
       "                    <i>&hellip; 27851 more negative &hellip;</i>\n",
       "                </td>\n",
       "            </tr>\n",
       "        \n",
       "        \n",
       "            <tr style=\"background-color: hsl(0, 100.00%, 89.02%); border: none;\">\n",
       "    <td style=\"padding: 0 1em 0 0.5em; text-align: right; border: none;\">\n",
       "        -7.937\n",
       "    </td>\n",
       "    <td style=\"padding: 0 0.5em 0 0.5em; text-align: left; border: none;\">\n",
       "        c0.histats.12mlbe.com\n",
       "    </td>\n",
       "    \n",
       "</tr>\n",
       "        \n",
       "            <tr style=\"background-color: hsl(0, 100.00%, 88.40%); border: none;\">\n",
       "    <td style=\"padding: 0 1em 0 0.5em; text-align: right; border: none;\">\n",
       "        -8.577\n",
       "    </td>\n",
       "    <td style=\"padding: 0 0.5em 0 0.5em; text-align: left; border: none;\">\n",
       "        night\n",
       "    </td>\n",
       "    \n",
       "</tr>\n",
       "        \n",
       "            <tr style=\"background-color: hsl(0, 100.00%, 85.16%); border: none;\">\n",
       "    <td style=\"padding: 0 1em 0 0.5em; text-align: right; border: none;\">\n",
       "        -12.205\n",
       "    </td>\n",
       "    <td style=\"padding: 0 0.5em 0 0.5em; text-align: left; border: none;\">\n",
       "        mail.google.com\n",
       "    </td>\n",
       "    \n",
       "</tr>\n",
       "        \n",
       "            <tr style=\"background-color: hsl(0, 100.00%, 82.08%); border: none;\">\n",
       "    <td style=\"padding: 0 1em 0 0.5em; text-align: right; border: none;\">\n",
       "        -15.967\n",
       "    </td>\n",
       "    <td style=\"padding: 0 0.5em 0 0.5em; text-align: left; border: none;\">\n",
       "        plus.google.com\n",
       "    </td>\n",
       "    \n",
       "</tr>\n",
       "        \n",
       "\n",
       "        </tbody>\n",
       "    </table>\n",
       "\n",
       "            \n",
       "        \n",
       "\n",
       "        \n",
       "\n",
       "\n",
       "\n",
       "    \n",
       "\n",
       "    \n",
       "\n",
       "    \n",
       "\n",
       "    \n",
       "\n",
       "\n",
       "    \n",
       "\n",
       "    \n",
       "\n",
       "    \n",
       "\n",
       "    \n",
       "\n",
       "    \n",
       "\n",
       "    \n",
       "\n",
       "\n",
       "    \n",
       "\n",
       "    \n",
       "\n",
       "    \n",
       "\n",
       "    \n",
       "\n",
       "    \n",
       "\n",
       "    \n",
       "\n",
       "\n",
       "\n"
      ]
     },
     "metadata": {},
     "output_type": "display_data"
    },
    {
     "name": "stdout",
     "output_type": "stream",
     "text": [
      "New feature weights:\n"
     ]
    },
    {
     "name": "stdout",
     "output_type": "stream",
     "text": [
      "                feature      coef\n",
      "0             morning_1 -4.256089\n",
      "1             morning_2 -1.536779\n",
      "2                 day_1 -0.707883\n",
      "3                 day_2 -0.205605\n",
      "4                 day_3 -1.119248\n",
      "5                 day_4 -2.793510\n",
      "6                 day_5 -4.419803\n",
      "7             evening_1  0.361154\n",
      "8             evening_2 -0.581111\n",
      "9             evening_3  0.648522\n",
      "10                night -8.576917\n",
      "11    weekday_weekday_0  0.892796\n",
      "12    weekday_weekday_1  0.668611\n",
      "13    weekday_weekday_4  0.003435\n",
      "14  weekday_weekday_5_6 -5.687281\n",
      "15  weekday_weekday_2_3 -1.789601\n",
      "16                dom_1 -3.211454\n",
      "17                dom_2  1.051218\n",
      "18                dom_3 -0.981124\n"
     ]
    }
   ],
   "source": [
    "# Train and predict using the final model\n",
    "final_model = LogisticRegression(C=20, random_state=SEED, solver='liblinear')\n",
    "proba, ideal, predicted, conf_matrix, cv_scores = train_and_predict(model=final_model, X_train=X_train_final, y_train=y_train,\n",
    "                                                                     X_test=X_test_final,\n",
    "                                                                     site_feature_names=vectorizer.get_feature_names_out(),\n",
    "                                                                     new_feature_names=features_name,\n",
    "                                                                     cv=time_split, submission_file_name='submission.csv')"
   ]
  }
 ],
 "metadata": {
  "kaggle": {
   "accelerator": "tpu1vmV38",
   "dataSources": [
    {
     "databundleVersionId": 108687,
     "sourceId": 7173,
     "sourceType": "competition"
    },
    {
     "datasetId": 2172031,
     "sourceId": 3625595,
     "sourceType": "datasetVersion"
    }
   ],
   "dockerImageVersionId": 31091,
   "isGpuEnabled": false,
   "isInternetEnabled": true,
   "language": "python",
   "sourceType": "notebook"
  },
  "kernelspec": {
   "display_name": "Python 3",
   "language": "python",
   "name": "python3"
  },
  "language_info": {
   "codemirror_mode": {
    "name": "ipython",
    "version": 3
   },
   "file_extension": ".py",
   "mimetype": "text/x-python",
   "name": "python",
   "nbconvert_exporter": "python",
   "pygments_lexer": "ipython3",
   "version": "3.10.18"
  },
  "papermill": {
   "default_parameters": {},
   "duration": 94.905256,
   "end_time": "2025-08-06T12:15:41.868317",
   "environment_variables": {},
   "exception": null,
   "input_path": "__notebook__.ipynb",
   "output_path": "__notebook__.ipynb",
   "parameters": {},
   "start_time": "2025-08-06T12:14:06.963061",
   "version": "2.6.0"
  }
 },
 "nbformat": 4,
 "nbformat_minor": 5
}
