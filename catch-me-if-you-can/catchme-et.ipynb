{
 "cells": [
  {
   "cell_type": "markdown",
   "id": "3b8968f7",
   "metadata": {
    "papermill": {
     "duration": 0.007633,
     "end_time": "2024-12-26T14:05:42.171866",
     "exception": false,
     "start_time": "2024-12-26T14:05:42.164233",
     "status": "completed"
    },
    "tags": []
   },
   "source": [
    "Problem statement\n",
    "\n",
    "Predict probability a web user by the websites they visit"
   ]
  },
  {
   "cell_type": "markdown",
   "id": "0bef5e32",
   "metadata": {
    "papermill": {
     "duration": 0.006346,
     "end_time": "2024-12-26T14:05:42.186042",
     "exception": false,
     "start_time": "2024-12-26T14:05:42.179696",
     "status": "completed"
    },
    "tags": []
   },
   "source": [
    "Import libraries"
   ]
  },
  {
   "cell_type": "code",
   "execution_count": 1,
   "id": "b49ce8d3",
   "metadata": {
    "execution": {
     "iopub.execute_input": "2024-12-26T14:05:42.200286Z",
     "iopub.status.busy": "2024-12-26T14:05:42.199947Z",
     "iopub.status.idle": "2024-12-26T14:05:44.828143Z",
     "shell.execute_reply": "2024-12-26T14:05:44.827205Z"
    },
    "papermill": {
     "duration": 2.637435,
     "end_time": "2024-12-26T14:05:44.830031",
     "exception": false,
     "start_time": "2024-12-26T14:05:42.192596",
     "status": "completed"
    },
    "tags": []
   },
   "outputs": [],
   "source": [
    "import numpy as np # linear algebra\n",
    "import pandas as pd # data processing, CSV file I/O (e.g. pd.read_csv)\n",
    "\n",
    "import os\n",
    "\n",
    "from sklearn.model_selection import train_test_split\n",
    "from sklearn.ensemble import ExtraTreesClassifier\n",
    "from sklearn.metrics import accuracy_score\n",
    "from sklearn.metrics import confusion_matrix\n",
    "\n",
    "import matplotlib.pyplot as plt\n",
    "import seaborn as sns"
   ]
  },
  {
   "cell_type": "markdown",
   "id": "84cae7be",
   "metadata": {
    "papermill": {
     "duration": 0.006233,
     "end_time": "2024-12-26T14:05:44.843110",
     "exception": false,
     "start_time": "2024-12-26T14:05:44.836877",
     "status": "completed"
    },
    "tags": []
   },
   "source": [
    "Retrieve files used in competition"
   ]
  },
  {
   "cell_type": "code",
   "execution_count": 2,
   "id": "b0d2c074",
   "metadata": {
    "execution": {
     "iopub.execute_input": "2024-12-26T14:05:44.857167Z",
     "iopub.status.busy": "2024-12-26T14:05:44.856601Z",
     "iopub.status.idle": "2024-12-26T14:05:44.864163Z",
     "shell.execute_reply": "2024-12-26T14:05:44.863266Z"
    },
    "papermill": {
     "duration": 0.016591,
     "end_time": "2024-12-26T14:05:44.866133",
     "exception": false,
     "start_time": "2024-12-26T14:05:44.849542",
     "status": "completed"
    },
    "tags": []
   },
   "outputs": [
    {
     "name": "stdout",
     "output_type": "stream",
     "text": [
      "/kaggle/input/catch-me-if-you-can-intruder-detection-through-webpage-session-tracking2/sample_submission.csv\n",
      "/kaggle/input/catch-me-if-you-can-intruder-detection-through-webpage-session-tracking2/train.zip\n",
      "/kaggle/input/catch-me-if-you-can-intruder-detection-through-webpage-session-tracking2/train_sessions.csv\n",
      "/kaggle/input/catch-me-if-you-can-intruder-detection-through-webpage-session-tracking2/site_dic.pkl\n",
      "/kaggle/input/catch-me-if-you-can-intruder-detection-through-webpage-session-tracking2/test_sessions.csv\n"
     ]
    }
   ],
   "source": [
    "for dirname, _, filenames in os.walk('/kaggle/input'):\n",
    "    for filename in filenames:\n",
    "        print(os.path.join(dirname, filename))"
   ]
  },
  {
   "cell_type": "markdown",
   "id": "b30d2fb2",
   "metadata": {
    "papermill": {
     "duration": 0.006312,
     "end_time": "2024-12-26T14:05:44.879421",
     "exception": false,
     "start_time": "2024-12-26T14:05:44.873109",
     "status": "completed"
    },
    "tags": []
   },
   "source": [
    "Use pandas to read csv files"
   ]
  },
  {
   "cell_type": "code",
   "execution_count": 3,
   "id": "bfde6ab3",
   "metadata": {
    "execution": {
     "iopub.execute_input": "2024-12-26T14:05:44.893713Z",
     "iopub.status.busy": "2024-12-26T14:05:44.893327Z",
     "iopub.status.idle": "2024-12-26T14:05:48.574480Z",
     "shell.execute_reply": "2024-12-26T14:05:48.573476Z"
    },
    "papermill": {
     "duration": 3.690475,
     "end_time": "2024-12-26T14:05:48.576484",
     "exception": false,
     "start_time": "2024-12-26T14:05:44.886009",
     "status": "completed"
    },
    "tags": []
   },
   "outputs": [],
   "source": [
    "train = pd.read_csv(\"/kaggle/input/catch-me-if-you-can-intruder-detection-through-webpage-session-tracking2/train_sessions.csv\")\n",
    "test = pd.read_csv(\"/kaggle/input/catch-me-if-you-can-intruder-detection-through-webpage-session-tracking2/test_sessions.csv\")\n",
    "submission = pd.read_csv(\"/kaggle/input/catch-me-if-you-can-intruder-detection-through-webpage-session-tracking2/sample_submission.csv\")\n"
   ]
  },
  {
   "cell_type": "code",
   "execution_count": 4,
   "id": "23af743f",
   "metadata": {
    "execution": {
     "iopub.execute_input": "2024-12-26T14:05:48.591156Z",
     "iopub.status.busy": "2024-12-26T14:05:48.590779Z",
     "iopub.status.idle": "2024-12-26T14:05:48.595180Z",
     "shell.execute_reply": "2024-12-26T14:05:48.594133Z"
    },
    "papermill": {
     "duration": 0.013567,
     "end_time": "2024-12-26T14:05:48.596954",
     "exception": false,
     "start_time": "2024-12-26T14:05:48.583387",
     "status": "completed"
    },
    "tags": []
   },
   "outputs": [],
   "source": [
    "pd.set_option('display.max_columns', None)"
   ]
  },
  {
   "cell_type": "code",
   "execution_count": 5,
   "id": "849025d1",
   "metadata": {
    "execution": {
     "iopub.execute_input": "2024-12-26T14:05:48.611916Z",
     "iopub.status.busy": "2024-12-26T14:05:48.611516Z",
     "iopub.status.idle": "2024-12-26T14:05:48.651801Z",
     "shell.execute_reply": "2024-12-26T14:05:48.650626Z"
    },
    "papermill": {
     "duration": 0.049538,
     "end_time": "2024-12-26T14:05:48.653475",
     "exception": false,
     "start_time": "2024-12-26T14:05:48.603937",
     "status": "completed"
    },
    "tags": []
   },
   "outputs": [
    {
     "data": {
      "text/html": [
       "<div>\n",
       "<style scoped>\n",
       "    .dataframe tbody tr th:only-of-type {\n",
       "        vertical-align: middle;\n",
       "    }\n",
       "\n",
       "    .dataframe tbody tr th {\n",
       "        vertical-align: top;\n",
       "    }\n",
       "\n",
       "    .dataframe thead th {\n",
       "        text-align: right;\n",
       "    }\n",
       "</style>\n",
       "<table border=\"1\" class=\"dataframe\">\n",
       "  <thead>\n",
       "    <tr style=\"text-align: right;\">\n",
       "      <th></th>\n",
       "      <th>session_id</th>\n",
       "      <th>site1</th>\n",
       "      <th>time1</th>\n",
       "      <th>site2</th>\n",
       "      <th>time2</th>\n",
       "      <th>site3</th>\n",
       "      <th>time3</th>\n",
       "      <th>site4</th>\n",
       "      <th>time4</th>\n",
       "      <th>site5</th>\n",
       "      <th>time5</th>\n",
       "      <th>site6</th>\n",
       "      <th>time6</th>\n",
       "      <th>site7</th>\n",
       "      <th>time7</th>\n",
       "      <th>site8</th>\n",
       "      <th>time8</th>\n",
       "      <th>site9</th>\n",
       "      <th>time9</th>\n",
       "      <th>site10</th>\n",
       "      <th>time10</th>\n",
       "      <th>target</th>\n",
       "    </tr>\n",
       "  </thead>\n",
       "  <tbody>\n",
       "    <tr>\n",
       "      <th>0</th>\n",
       "      <td>1</td>\n",
       "      <td>718</td>\n",
       "      <td>2014-02-20 10:02:45</td>\n",
       "      <td>NaN</td>\n",
       "      <td>NaN</td>\n",
       "      <td>NaN</td>\n",
       "      <td>NaN</td>\n",
       "      <td>NaN</td>\n",
       "      <td>NaN</td>\n",
       "      <td>NaN</td>\n",
       "      <td>NaN</td>\n",
       "      <td>NaN</td>\n",
       "      <td>NaN</td>\n",
       "      <td>NaN</td>\n",
       "      <td>NaN</td>\n",
       "      <td>NaN</td>\n",
       "      <td>NaN</td>\n",
       "      <td>NaN</td>\n",
       "      <td>NaN</td>\n",
       "      <td>NaN</td>\n",
       "      <td>NaN</td>\n",
       "      <td>0</td>\n",
       "    </tr>\n",
       "    <tr>\n",
       "      <th>1</th>\n",
       "      <td>2</td>\n",
       "      <td>890</td>\n",
       "      <td>2014-02-22 11:19:50</td>\n",
       "      <td>941.0</td>\n",
       "      <td>2014-02-22 11:19:50</td>\n",
       "      <td>3847.0</td>\n",
       "      <td>2014-02-22 11:19:51</td>\n",
       "      <td>941.0</td>\n",
       "      <td>2014-02-22 11:19:51</td>\n",
       "      <td>942.0</td>\n",
       "      <td>2014-02-22 11:19:51</td>\n",
       "      <td>3846.0</td>\n",
       "      <td>2014-02-22 11:19:51</td>\n",
       "      <td>3847.0</td>\n",
       "      <td>2014-02-22 11:19:52</td>\n",
       "      <td>3846.0</td>\n",
       "      <td>2014-02-22 11:19:52</td>\n",
       "      <td>1516.0</td>\n",
       "      <td>2014-02-22 11:20:15</td>\n",
       "      <td>1518.0</td>\n",
       "      <td>2014-02-22 11:20:16</td>\n",
       "      <td>0</td>\n",
       "    </tr>\n",
       "    <tr>\n",
       "      <th>2</th>\n",
       "      <td>3</td>\n",
       "      <td>14769</td>\n",
       "      <td>2013-12-16 16:40:17</td>\n",
       "      <td>39.0</td>\n",
       "      <td>2013-12-16 16:40:18</td>\n",
       "      <td>14768.0</td>\n",
       "      <td>2013-12-16 16:40:19</td>\n",
       "      <td>14769.0</td>\n",
       "      <td>2013-12-16 16:40:19</td>\n",
       "      <td>37.0</td>\n",
       "      <td>2013-12-16 16:40:19</td>\n",
       "      <td>39.0</td>\n",
       "      <td>2013-12-16 16:40:19</td>\n",
       "      <td>14768.0</td>\n",
       "      <td>2013-12-16 16:40:20</td>\n",
       "      <td>14768.0</td>\n",
       "      <td>2013-12-16 16:40:21</td>\n",
       "      <td>14768.0</td>\n",
       "      <td>2013-12-16 16:40:22</td>\n",
       "      <td>14768.0</td>\n",
       "      <td>2013-12-16 16:40:24</td>\n",
       "      <td>0</td>\n",
       "    </tr>\n",
       "    <tr>\n",
       "      <th>3</th>\n",
       "      <td>4</td>\n",
       "      <td>782</td>\n",
       "      <td>2014-03-28 10:52:12</td>\n",
       "      <td>782.0</td>\n",
       "      <td>2014-03-28 10:52:42</td>\n",
       "      <td>782.0</td>\n",
       "      <td>2014-03-28 10:53:12</td>\n",
       "      <td>782.0</td>\n",
       "      <td>2014-03-28 10:53:42</td>\n",
       "      <td>782.0</td>\n",
       "      <td>2014-03-28 10:54:12</td>\n",
       "      <td>782.0</td>\n",
       "      <td>2014-03-28 10:54:42</td>\n",
       "      <td>782.0</td>\n",
       "      <td>2014-03-28 10:55:12</td>\n",
       "      <td>782.0</td>\n",
       "      <td>2014-03-28 10:55:42</td>\n",
       "      <td>782.0</td>\n",
       "      <td>2014-03-28 10:56:12</td>\n",
       "      <td>782.0</td>\n",
       "      <td>2014-03-28 10:56:42</td>\n",
       "      <td>0</td>\n",
       "    </tr>\n",
       "    <tr>\n",
       "      <th>4</th>\n",
       "      <td>5</td>\n",
       "      <td>22</td>\n",
       "      <td>2014-02-28 10:53:05</td>\n",
       "      <td>177.0</td>\n",
       "      <td>2014-02-28 10:55:22</td>\n",
       "      <td>175.0</td>\n",
       "      <td>2014-02-28 10:55:22</td>\n",
       "      <td>178.0</td>\n",
       "      <td>2014-02-28 10:55:23</td>\n",
       "      <td>177.0</td>\n",
       "      <td>2014-02-28 10:55:23</td>\n",
       "      <td>178.0</td>\n",
       "      <td>2014-02-28 10:55:59</td>\n",
       "      <td>175.0</td>\n",
       "      <td>2014-02-28 10:55:59</td>\n",
       "      <td>177.0</td>\n",
       "      <td>2014-02-28 10:55:59</td>\n",
       "      <td>177.0</td>\n",
       "      <td>2014-02-28 10:57:06</td>\n",
       "      <td>178.0</td>\n",
       "      <td>2014-02-28 10:57:11</td>\n",
       "      <td>0</td>\n",
       "    </tr>\n",
       "    <tr>\n",
       "      <th>...</th>\n",
       "      <td>...</td>\n",
       "      <td>...</td>\n",
       "      <td>...</td>\n",
       "      <td>...</td>\n",
       "      <td>...</td>\n",
       "      <td>...</td>\n",
       "      <td>...</td>\n",
       "      <td>...</td>\n",
       "      <td>...</td>\n",
       "      <td>...</td>\n",
       "      <td>...</td>\n",
       "      <td>...</td>\n",
       "      <td>...</td>\n",
       "      <td>...</td>\n",
       "      <td>...</td>\n",
       "      <td>...</td>\n",
       "      <td>...</td>\n",
       "      <td>...</td>\n",
       "      <td>...</td>\n",
       "      <td>...</td>\n",
       "      <td>...</td>\n",
       "      <td>...</td>\n",
       "    </tr>\n",
       "    <tr>\n",
       "      <th>253556</th>\n",
       "      <td>253557</td>\n",
       "      <td>3474</td>\n",
       "      <td>2013-11-25 10:26:54</td>\n",
       "      <td>3474.0</td>\n",
       "      <td>2013-11-25 10:26:58</td>\n",
       "      <td>141.0</td>\n",
       "      <td>2013-11-25 10:27:03</td>\n",
       "      <td>2428.0</td>\n",
       "      <td>2013-11-25 10:27:04</td>\n",
       "      <td>106.0</td>\n",
       "      <td>2013-11-25 10:27:13</td>\n",
       "      <td>2428.0</td>\n",
       "      <td>2013-11-25 10:27:16</td>\n",
       "      <td>2428.0</td>\n",
       "      <td>2013-11-25 10:27:28</td>\n",
       "      <td>2428.0</td>\n",
       "      <td>2013-11-25 10:27:40</td>\n",
       "      <td>2428.0</td>\n",
       "      <td>2013-11-25 10:27:52</td>\n",
       "      <td>148.0</td>\n",
       "      <td>2013-11-25 10:27:53</td>\n",
       "      <td>0</td>\n",
       "    </tr>\n",
       "    <tr>\n",
       "      <th>253557</th>\n",
       "      <td>253558</td>\n",
       "      <td>12727</td>\n",
       "      <td>2013-03-12 16:01:15</td>\n",
       "      <td>12727.0</td>\n",
       "      <td>2013-03-12 16:01:16</td>\n",
       "      <td>2215.0</td>\n",
       "      <td>2013-03-12 16:01:16</td>\n",
       "      <td>38.0</td>\n",
       "      <td>2013-03-12 16:01:17</td>\n",
       "      <td>2215.0</td>\n",
       "      <td>2013-03-12 16:01:17</td>\n",
       "      <td>23.0</td>\n",
       "      <td>2013-03-12 16:01:17</td>\n",
       "      <td>25444.0</td>\n",
       "      <td>2013-03-12 16:01:18</td>\n",
       "      <td>2215.0</td>\n",
       "      <td>2013-03-12 16:01:18</td>\n",
       "      <td>23.0</td>\n",
       "      <td>2013-03-12 16:01:18</td>\n",
       "      <td>21.0</td>\n",
       "      <td>2013-03-12 16:01:18</td>\n",
       "      <td>0</td>\n",
       "    </tr>\n",
       "    <tr>\n",
       "      <th>253558</th>\n",
       "      <td>253559</td>\n",
       "      <td>2661</td>\n",
       "      <td>2013-09-12 14:05:03</td>\n",
       "      <td>15004.0</td>\n",
       "      <td>2013-09-12 14:05:10</td>\n",
       "      <td>5562.0</td>\n",
       "      <td>2013-09-12 14:05:10</td>\n",
       "      <td>5562.0</td>\n",
       "      <td>2013-09-12 14:06:29</td>\n",
       "      <td>5562.0</td>\n",
       "      <td>2013-09-12 14:06:30</td>\n",
       "      <td>NaN</td>\n",
       "      <td>NaN</td>\n",
       "      <td>NaN</td>\n",
       "      <td>NaN</td>\n",
       "      <td>NaN</td>\n",
       "      <td>NaN</td>\n",
       "      <td>NaN</td>\n",
       "      <td>NaN</td>\n",
       "      <td>NaN</td>\n",
       "      <td>NaN</td>\n",
       "      <td>0</td>\n",
       "    </tr>\n",
       "    <tr>\n",
       "      <th>253559</th>\n",
       "      <td>253560</td>\n",
       "      <td>812</td>\n",
       "      <td>2013-12-19 15:20:22</td>\n",
       "      <td>676.0</td>\n",
       "      <td>2013-12-19 15:20:22</td>\n",
       "      <td>814.0</td>\n",
       "      <td>2013-12-19 15:20:22</td>\n",
       "      <td>22.0</td>\n",
       "      <td>2013-12-19 15:20:22</td>\n",
       "      <td>39.0</td>\n",
       "      <td>2013-12-19 15:20:22</td>\n",
       "      <td>812.0</td>\n",
       "      <td>2013-12-19 15:20:23</td>\n",
       "      <td>814.0</td>\n",
       "      <td>2013-12-19 15:20:23</td>\n",
       "      <td>570.0</td>\n",
       "      <td>2013-12-19 15:20:23</td>\n",
       "      <td>22.0</td>\n",
       "      <td>2013-12-19 15:20:24</td>\n",
       "      <td>570.0</td>\n",
       "      <td>2013-12-19 15:20:24</td>\n",
       "      <td>0</td>\n",
       "    </tr>\n",
       "    <tr>\n",
       "      <th>253560</th>\n",
       "      <td>253561</td>\n",
       "      <td>34942</td>\n",
       "      <td>2014-04-25 09:56:52</td>\n",
       "      <td>1429.0</td>\n",
       "      <td>2014-04-25 09:56:53</td>\n",
       "      <td>34942.0</td>\n",
       "      <td>2014-04-25 09:56:53</td>\n",
       "      <td>29.0</td>\n",
       "      <td>2014-04-25 09:56:54</td>\n",
       "      <td>30.0</td>\n",
       "      <td>2014-04-25 09:56:54</td>\n",
       "      <td>34942.0</td>\n",
       "      <td>2014-04-25 09:56:54</td>\n",
       "      <td>5779.0</td>\n",
       "      <td>2014-04-25 09:56:54</td>\n",
       "      <td>30.0</td>\n",
       "      <td>2014-04-25 09:56:55</td>\n",
       "      <td>35.0</td>\n",
       "      <td>2014-04-25 09:56:55</td>\n",
       "      <td>33.0</td>\n",
       "      <td>2014-04-25 09:56:55</td>\n",
       "      <td>0</td>\n",
       "    </tr>\n",
       "  </tbody>\n",
       "</table>\n",
       "<p>253561 rows × 22 columns</p>\n",
       "</div>"
      ],
      "text/plain": [
       "        session_id  site1                time1    site2                time2  \\\n",
       "0                1    718  2014-02-20 10:02:45      NaN                  NaN   \n",
       "1                2    890  2014-02-22 11:19:50    941.0  2014-02-22 11:19:50   \n",
       "2                3  14769  2013-12-16 16:40:17     39.0  2013-12-16 16:40:18   \n",
       "3                4    782  2014-03-28 10:52:12    782.0  2014-03-28 10:52:42   \n",
       "4                5     22  2014-02-28 10:53:05    177.0  2014-02-28 10:55:22   \n",
       "...            ...    ...                  ...      ...                  ...   \n",
       "253556      253557   3474  2013-11-25 10:26:54   3474.0  2013-11-25 10:26:58   \n",
       "253557      253558  12727  2013-03-12 16:01:15  12727.0  2013-03-12 16:01:16   \n",
       "253558      253559   2661  2013-09-12 14:05:03  15004.0  2013-09-12 14:05:10   \n",
       "253559      253560    812  2013-12-19 15:20:22    676.0  2013-12-19 15:20:22   \n",
       "253560      253561  34942  2014-04-25 09:56:52   1429.0  2014-04-25 09:56:53   \n",
       "\n",
       "          site3                time3    site4                time4   site5  \\\n",
       "0           NaN                  NaN      NaN                  NaN     NaN   \n",
       "1        3847.0  2014-02-22 11:19:51    941.0  2014-02-22 11:19:51   942.0   \n",
       "2       14768.0  2013-12-16 16:40:19  14769.0  2013-12-16 16:40:19    37.0   \n",
       "3         782.0  2014-03-28 10:53:12    782.0  2014-03-28 10:53:42   782.0   \n",
       "4         175.0  2014-02-28 10:55:22    178.0  2014-02-28 10:55:23   177.0   \n",
       "...         ...                  ...      ...                  ...     ...   \n",
       "253556    141.0  2013-11-25 10:27:03   2428.0  2013-11-25 10:27:04   106.0   \n",
       "253557   2215.0  2013-03-12 16:01:16     38.0  2013-03-12 16:01:17  2215.0   \n",
       "253558   5562.0  2013-09-12 14:05:10   5562.0  2013-09-12 14:06:29  5562.0   \n",
       "253559    814.0  2013-12-19 15:20:22     22.0  2013-12-19 15:20:22    39.0   \n",
       "253560  34942.0  2014-04-25 09:56:53     29.0  2014-04-25 09:56:54    30.0   \n",
       "\n",
       "                      time5    site6                time6    site7  \\\n",
       "0                       NaN      NaN                  NaN      NaN   \n",
       "1       2014-02-22 11:19:51   3846.0  2014-02-22 11:19:51   3847.0   \n",
       "2       2013-12-16 16:40:19     39.0  2013-12-16 16:40:19  14768.0   \n",
       "3       2014-03-28 10:54:12    782.0  2014-03-28 10:54:42    782.0   \n",
       "4       2014-02-28 10:55:23    178.0  2014-02-28 10:55:59    175.0   \n",
       "...                     ...      ...                  ...      ...   \n",
       "253556  2013-11-25 10:27:13   2428.0  2013-11-25 10:27:16   2428.0   \n",
       "253557  2013-03-12 16:01:17     23.0  2013-03-12 16:01:17  25444.0   \n",
       "253558  2013-09-12 14:06:30      NaN                  NaN      NaN   \n",
       "253559  2013-12-19 15:20:22    812.0  2013-12-19 15:20:23    814.0   \n",
       "253560  2014-04-25 09:56:54  34942.0  2014-04-25 09:56:54   5779.0   \n",
       "\n",
       "                      time7    site8                time8    site9  \\\n",
       "0                       NaN      NaN                  NaN      NaN   \n",
       "1       2014-02-22 11:19:52   3846.0  2014-02-22 11:19:52   1516.0   \n",
       "2       2013-12-16 16:40:20  14768.0  2013-12-16 16:40:21  14768.0   \n",
       "3       2014-03-28 10:55:12    782.0  2014-03-28 10:55:42    782.0   \n",
       "4       2014-02-28 10:55:59    177.0  2014-02-28 10:55:59    177.0   \n",
       "...                     ...      ...                  ...      ...   \n",
       "253556  2013-11-25 10:27:28   2428.0  2013-11-25 10:27:40   2428.0   \n",
       "253557  2013-03-12 16:01:18   2215.0  2013-03-12 16:01:18     23.0   \n",
       "253558                  NaN      NaN                  NaN      NaN   \n",
       "253559  2013-12-19 15:20:23    570.0  2013-12-19 15:20:23     22.0   \n",
       "253560  2014-04-25 09:56:54     30.0  2014-04-25 09:56:55     35.0   \n",
       "\n",
       "                      time9   site10               time10  target  \n",
       "0                       NaN      NaN                  NaN       0  \n",
       "1       2014-02-22 11:20:15   1518.0  2014-02-22 11:20:16       0  \n",
       "2       2013-12-16 16:40:22  14768.0  2013-12-16 16:40:24       0  \n",
       "3       2014-03-28 10:56:12    782.0  2014-03-28 10:56:42       0  \n",
       "4       2014-02-28 10:57:06    178.0  2014-02-28 10:57:11       0  \n",
       "...                     ...      ...                  ...     ...  \n",
       "253556  2013-11-25 10:27:52    148.0  2013-11-25 10:27:53       0  \n",
       "253557  2013-03-12 16:01:18     21.0  2013-03-12 16:01:18       0  \n",
       "253558                  NaN      NaN                  NaN       0  \n",
       "253559  2013-12-19 15:20:24    570.0  2013-12-19 15:20:24       0  \n",
       "253560  2014-04-25 09:56:55     33.0  2014-04-25 09:56:55       0  \n",
       "\n",
       "[253561 rows x 22 columns]"
      ]
     },
     "execution_count": 5,
     "metadata": {},
     "output_type": "execute_result"
    }
   ],
   "source": [
    "train"
   ]
  },
  {
   "cell_type": "code",
   "execution_count": 6,
   "id": "38bdaac4",
   "metadata": {
    "execution": {
     "iopub.execute_input": "2024-12-26T14:05:48.669655Z",
     "iopub.status.busy": "2024-12-26T14:05:48.669319Z",
     "iopub.status.idle": "2024-12-26T14:05:48.817895Z",
     "shell.execute_reply": "2024-12-26T14:05:48.816691Z"
    },
    "papermill": {
     "duration": 0.158891,
     "end_time": "2024-12-26T14:05:48.819599",
     "exception": false,
     "start_time": "2024-12-26T14:05:48.660708",
     "status": "completed"
    },
    "tags": []
   },
   "outputs": [
    {
     "name": "stdout",
     "output_type": "stream",
     "text": [
      "<class 'pandas.core.frame.DataFrame'>\n",
      "RangeIndex: 253561 entries, 0 to 253560\n",
      "Data columns (total 22 columns):\n",
      " #   Column      Non-Null Count   Dtype  \n",
      "---  ------      --------------   -----  \n",
      " 0   session_id  253561 non-null  int64  \n",
      " 1   site1       253561 non-null  int64  \n",
      " 2   time1       253561 non-null  object \n",
      " 3   site2       250098 non-null  float64\n",
      " 4   time2       250098 non-null  object \n",
      " 5   site3       246919 non-null  float64\n",
      " 6   time3       246919 non-null  object \n",
      " 7   site4       244321 non-null  float64\n",
      " 8   time4       244321 non-null  object \n",
      " 9   site5       241829 non-null  float64\n",
      " 10  time5       241829 non-null  object \n",
      " 11  site6       239495 non-null  float64\n",
      " 12  time6       239495 non-null  object \n",
      " 13  site7       237297 non-null  float64\n",
      " 14  time7       237297 non-null  object \n",
      " 15  site8       235224 non-null  float64\n",
      " 16  time8       235224 non-null  object \n",
      " 17  site9       233084 non-null  float64\n",
      " 18  time9       233084 non-null  object \n",
      " 19  site10      231052 non-null  float64\n",
      " 20  time10      231052 non-null  object \n",
      " 21  target      253561 non-null  int64  \n",
      "dtypes: float64(9), int64(3), object(10)\n",
      "memory usage: 42.6+ MB\n"
     ]
    }
   ],
   "source": [
    "train.info()"
   ]
  },
  {
   "cell_type": "code",
   "execution_count": 7,
   "id": "80f4720c",
   "metadata": {
    "execution": {
     "iopub.execute_input": "2024-12-26T14:05:48.835466Z",
     "iopub.status.busy": "2024-12-26T14:05:48.835114Z",
     "iopub.status.idle": "2024-12-26T14:05:48.964531Z",
     "shell.execute_reply": "2024-12-26T14:05:48.963392Z"
    },
    "papermill": {
     "duration": 0.139425,
     "end_time": "2024-12-26T14:05:48.966362",
     "exception": false,
     "start_time": "2024-12-26T14:05:48.826937",
     "status": "completed"
    },
    "tags": []
   },
   "outputs": [
    {
     "data": {
      "text/plain": [
       "session_id        0\n",
       "site1             0\n",
       "time1             0\n",
       "site2          3463\n",
       "time2          3463\n",
       "site3          6642\n",
       "time3          6642\n",
       "site4          9240\n",
       "time4          9240\n",
       "site5         11732\n",
       "time5         11732\n",
       "site6         14066\n",
       "time6         14066\n",
       "site7         16264\n",
       "time7         16264\n",
       "site8         18337\n",
       "time8         18337\n",
       "site9         20477\n",
       "time9         20477\n",
       "site10        22509\n",
       "time10        22509\n",
       "target            0\n",
       "dtype: int64"
      ]
     },
     "execution_count": 7,
     "metadata": {},
     "output_type": "execute_result"
    }
   ],
   "source": [
    "train.isna().sum()"
   ]
  },
  {
   "cell_type": "code",
   "execution_count": 8,
   "id": "d3cd29cb",
   "metadata": {
    "execution": {
     "iopub.execute_input": "2024-12-26T14:05:48.982452Z",
     "iopub.status.busy": "2024-12-26T14:05:48.982072Z",
     "iopub.status.idle": "2024-12-26T14:05:49.010947Z",
     "shell.execute_reply": "2024-12-26T14:05:49.009875Z"
    },
    "papermill": {
     "duration": 0.038898,
     "end_time": "2024-12-26T14:05:49.012628",
     "exception": false,
     "start_time": "2024-12-26T14:05:48.973730",
     "status": "completed"
    },
    "tags": []
   },
   "outputs": [
    {
     "data": {
      "text/html": [
       "<div>\n",
       "<style scoped>\n",
       "    .dataframe tbody tr th:only-of-type {\n",
       "        vertical-align: middle;\n",
       "    }\n",
       "\n",
       "    .dataframe tbody tr th {\n",
       "        vertical-align: top;\n",
       "    }\n",
       "\n",
       "    .dataframe thead th {\n",
       "        text-align: right;\n",
       "    }\n",
       "</style>\n",
       "<table border=\"1\" class=\"dataframe\">\n",
       "  <thead>\n",
       "    <tr style=\"text-align: right;\">\n",
       "      <th></th>\n",
       "      <th>session_id</th>\n",
       "      <th>site1</th>\n",
       "      <th>time1</th>\n",
       "      <th>site2</th>\n",
       "      <th>time2</th>\n",
       "      <th>site3</th>\n",
       "      <th>time3</th>\n",
       "      <th>site4</th>\n",
       "      <th>time4</th>\n",
       "      <th>site5</th>\n",
       "      <th>time5</th>\n",
       "      <th>site6</th>\n",
       "      <th>time6</th>\n",
       "      <th>site7</th>\n",
       "      <th>time7</th>\n",
       "      <th>site8</th>\n",
       "      <th>time8</th>\n",
       "      <th>site9</th>\n",
       "      <th>time9</th>\n",
       "      <th>site10</th>\n",
       "      <th>time10</th>\n",
       "    </tr>\n",
       "  </thead>\n",
       "  <tbody>\n",
       "    <tr>\n",
       "      <th>0</th>\n",
       "      <td>1</td>\n",
       "      <td>29</td>\n",
       "      <td>2014-10-04 11:19:53</td>\n",
       "      <td>35.0</td>\n",
       "      <td>2014-10-04 11:19:53</td>\n",
       "      <td>22.0</td>\n",
       "      <td>2014-10-04 11:19:54</td>\n",
       "      <td>321.0</td>\n",
       "      <td>2014-10-04 11:19:54</td>\n",
       "      <td>23.0</td>\n",
       "      <td>2014-10-04 11:19:54</td>\n",
       "      <td>2211.0</td>\n",
       "      <td>2014-10-04 11:19:54</td>\n",
       "      <td>6730.0</td>\n",
       "      <td>2014-10-04 11:19:54</td>\n",
       "      <td>21.0</td>\n",
       "      <td>2014-10-04 11:19:54</td>\n",
       "      <td>44582.0</td>\n",
       "      <td>2014-10-04 11:20:00</td>\n",
       "      <td>15336.0</td>\n",
       "      <td>2014-10-04 11:20:00</td>\n",
       "    </tr>\n",
       "    <tr>\n",
       "      <th>1</th>\n",
       "      <td>2</td>\n",
       "      <td>782</td>\n",
       "      <td>2014-07-03 11:00:28</td>\n",
       "      <td>782.0</td>\n",
       "      <td>2014-07-03 11:00:53</td>\n",
       "      <td>782.0</td>\n",
       "      <td>2014-07-03 11:00:58</td>\n",
       "      <td>782.0</td>\n",
       "      <td>2014-07-03 11:01:06</td>\n",
       "      <td>782.0</td>\n",
       "      <td>2014-07-03 11:01:09</td>\n",
       "      <td>782.0</td>\n",
       "      <td>2014-07-03 11:01:10</td>\n",
       "      <td>782.0</td>\n",
       "      <td>2014-07-03 11:01:23</td>\n",
       "      <td>782.0</td>\n",
       "      <td>2014-07-03 11:01:29</td>\n",
       "      <td>782.0</td>\n",
       "      <td>2014-07-03 11:01:30</td>\n",
       "      <td>782.0</td>\n",
       "      <td>2014-07-03 11:01:53</td>\n",
       "    </tr>\n",
       "    <tr>\n",
       "      <th>2</th>\n",
       "      <td>3</td>\n",
       "      <td>55</td>\n",
       "      <td>2014-12-05 15:55:12</td>\n",
       "      <td>55.0</td>\n",
       "      <td>2014-12-05 15:55:13</td>\n",
       "      <td>55.0</td>\n",
       "      <td>2014-12-05 15:55:14</td>\n",
       "      <td>55.0</td>\n",
       "      <td>2014-12-05 15:56:15</td>\n",
       "      <td>55.0</td>\n",
       "      <td>2014-12-05 15:56:16</td>\n",
       "      <td>55.0</td>\n",
       "      <td>2014-12-05 15:56:17</td>\n",
       "      <td>55.0</td>\n",
       "      <td>2014-12-05 15:56:18</td>\n",
       "      <td>55.0</td>\n",
       "      <td>2014-12-05 15:56:19</td>\n",
       "      <td>1445.0</td>\n",
       "      <td>2014-12-05 15:56:33</td>\n",
       "      <td>1445.0</td>\n",
       "      <td>2014-12-05 15:56:36</td>\n",
       "    </tr>\n",
       "    <tr>\n",
       "      <th>3</th>\n",
       "      <td>4</td>\n",
       "      <td>1023</td>\n",
       "      <td>2014-11-04 10:03:19</td>\n",
       "      <td>1022.0</td>\n",
       "      <td>2014-11-04 10:03:19</td>\n",
       "      <td>50.0</td>\n",
       "      <td>2014-11-04 10:03:20</td>\n",
       "      <td>222.0</td>\n",
       "      <td>2014-11-04 10:03:21</td>\n",
       "      <td>202.0</td>\n",
       "      <td>2014-11-04 10:03:21</td>\n",
       "      <td>3374.0</td>\n",
       "      <td>2014-11-04 10:03:22</td>\n",
       "      <td>50.0</td>\n",
       "      <td>2014-11-04 10:03:22</td>\n",
       "      <td>48.0</td>\n",
       "      <td>2014-11-04 10:03:22</td>\n",
       "      <td>48.0</td>\n",
       "      <td>2014-11-04 10:03:23</td>\n",
       "      <td>3374.0</td>\n",
       "      <td>2014-11-04 10:03:23</td>\n",
       "    </tr>\n",
       "    <tr>\n",
       "      <th>4</th>\n",
       "      <td>5</td>\n",
       "      <td>301</td>\n",
       "      <td>2014-05-16 15:05:31</td>\n",
       "      <td>301.0</td>\n",
       "      <td>2014-05-16 15:05:32</td>\n",
       "      <td>301.0</td>\n",
       "      <td>2014-05-16 15:05:33</td>\n",
       "      <td>66.0</td>\n",
       "      <td>2014-05-16 15:05:39</td>\n",
       "      <td>67.0</td>\n",
       "      <td>2014-05-16 15:05:40</td>\n",
       "      <td>69.0</td>\n",
       "      <td>2014-05-16 15:05:40</td>\n",
       "      <td>70.0</td>\n",
       "      <td>2014-05-16 15:05:40</td>\n",
       "      <td>68.0</td>\n",
       "      <td>2014-05-16 15:05:40</td>\n",
       "      <td>71.0</td>\n",
       "      <td>2014-05-16 15:05:40</td>\n",
       "      <td>167.0</td>\n",
       "      <td>2014-05-16 15:05:44</td>\n",
       "    </tr>\n",
       "    <tr>\n",
       "      <th>...</th>\n",
       "      <td>...</td>\n",
       "      <td>...</td>\n",
       "      <td>...</td>\n",
       "      <td>...</td>\n",
       "      <td>...</td>\n",
       "      <td>...</td>\n",
       "      <td>...</td>\n",
       "      <td>...</td>\n",
       "      <td>...</td>\n",
       "      <td>...</td>\n",
       "      <td>...</td>\n",
       "      <td>...</td>\n",
       "      <td>...</td>\n",
       "      <td>...</td>\n",
       "      <td>...</td>\n",
       "      <td>...</td>\n",
       "      <td>...</td>\n",
       "      <td>...</td>\n",
       "      <td>...</td>\n",
       "      <td>...</td>\n",
       "      <td>...</td>\n",
       "    </tr>\n",
       "    <tr>\n",
       "      <th>82792</th>\n",
       "      <td>82793</td>\n",
       "      <td>812</td>\n",
       "      <td>2014-10-02 18:20:09</td>\n",
       "      <td>1039.0</td>\n",
       "      <td>2014-10-02 18:20:09</td>\n",
       "      <td>676.0</td>\n",
       "      <td>2014-10-02 18:20:09</td>\n",
       "      <td>NaN</td>\n",
       "      <td>NaN</td>\n",
       "      <td>NaN</td>\n",
       "      <td>NaN</td>\n",
       "      <td>NaN</td>\n",
       "      <td>NaN</td>\n",
       "      <td>NaN</td>\n",
       "      <td>NaN</td>\n",
       "      <td>NaN</td>\n",
       "      <td>NaN</td>\n",
       "      <td>NaN</td>\n",
       "      <td>NaN</td>\n",
       "      <td>NaN</td>\n",
       "      <td>NaN</td>\n",
       "    </tr>\n",
       "    <tr>\n",
       "      <th>82793</th>\n",
       "      <td>82794</td>\n",
       "      <td>300</td>\n",
       "      <td>2014-05-26 14:16:40</td>\n",
       "      <td>302.0</td>\n",
       "      <td>2014-05-26 14:16:41</td>\n",
       "      <td>302.0</td>\n",
       "      <td>2014-05-26 14:16:44</td>\n",
       "      <td>300.0</td>\n",
       "      <td>2014-05-26 14:16:44</td>\n",
       "      <td>300.0</td>\n",
       "      <td>2014-05-26 14:17:19</td>\n",
       "      <td>1222.0</td>\n",
       "      <td>2014-05-26 14:17:19</td>\n",
       "      <td>302.0</td>\n",
       "      <td>2014-05-26 14:17:19</td>\n",
       "      <td>1218.0</td>\n",
       "      <td>2014-05-26 14:17:19</td>\n",
       "      <td>1221.0</td>\n",
       "      <td>2014-05-26 14:17:19</td>\n",
       "      <td>1216.0</td>\n",
       "      <td>2014-05-26 14:17:19</td>\n",
       "    </tr>\n",
       "    <tr>\n",
       "      <th>82794</th>\n",
       "      <td>82795</td>\n",
       "      <td>29</td>\n",
       "      <td>2014-05-02 11:21:56</td>\n",
       "      <td>33.0</td>\n",
       "      <td>2014-05-02 11:21:56</td>\n",
       "      <td>35.0</td>\n",
       "      <td>2014-05-02 11:21:56</td>\n",
       "      <td>22.0</td>\n",
       "      <td>2014-05-02 11:22:03</td>\n",
       "      <td>37.0</td>\n",
       "      <td>2014-05-02 11:22:03</td>\n",
       "      <td>6779.0</td>\n",
       "      <td>2014-05-02 11:22:03</td>\n",
       "      <td>30.0</td>\n",
       "      <td>2014-05-02 11:22:03</td>\n",
       "      <td>21.0</td>\n",
       "      <td>2014-05-02 11:22:04</td>\n",
       "      <td>23.0</td>\n",
       "      <td>2014-05-02 11:22:04</td>\n",
       "      <td>6780.0</td>\n",
       "      <td>2014-05-02 11:22:04</td>\n",
       "    </tr>\n",
       "    <tr>\n",
       "      <th>82795</th>\n",
       "      <td>82796</td>\n",
       "      <td>5828</td>\n",
       "      <td>2014-05-03 10:05:25</td>\n",
       "      <td>23.0</td>\n",
       "      <td>2014-05-03 10:05:27</td>\n",
       "      <td>21.0</td>\n",
       "      <td>2014-05-03 10:05:27</td>\n",
       "      <td>804.0</td>\n",
       "      <td>2014-05-03 10:05:27</td>\n",
       "      <td>21.0</td>\n",
       "      <td>2014-05-03 10:05:36</td>\n",
       "      <td>3350.0</td>\n",
       "      <td>2014-05-03 10:05:37</td>\n",
       "      <td>23.0</td>\n",
       "      <td>2014-05-03 10:05:37</td>\n",
       "      <td>894.0</td>\n",
       "      <td>2014-05-03 10:05:38</td>\n",
       "      <td>21.0</td>\n",
       "      <td>2014-05-03 10:05:38</td>\n",
       "      <td>961.0</td>\n",
       "      <td>2014-05-03 10:05:38</td>\n",
       "    </tr>\n",
       "    <tr>\n",
       "      <th>82796</th>\n",
       "      <td>82797</td>\n",
       "      <td>21</td>\n",
       "      <td>2014-11-02 10:46:57</td>\n",
       "      <td>1098.0</td>\n",
       "      <td>2014-11-02 10:46:57</td>\n",
       "      <td>1098.0</td>\n",
       "      <td>2014-11-02 10:46:58</td>\n",
       "      <td>1098.0</td>\n",
       "      <td>2014-11-02 10:47:12</td>\n",
       "      <td>1098.0</td>\n",
       "      <td>2014-11-02 10:47:13</td>\n",
       "      <td>1098.0</td>\n",
       "      <td>2014-11-02 10:47:14</td>\n",
       "      <td>1098.0</td>\n",
       "      <td>2014-11-02 10:47:15</td>\n",
       "      <td>1098.0</td>\n",
       "      <td>2014-11-02 10:47:18</td>\n",
       "      <td>1098.0</td>\n",
       "      <td>2014-11-02 10:47:42</td>\n",
       "      <td>1098.0</td>\n",
       "      <td>2014-11-02 10:47:47</td>\n",
       "    </tr>\n",
       "  </tbody>\n",
       "</table>\n",
       "<p>82797 rows × 21 columns</p>\n",
       "</div>"
      ],
      "text/plain": [
       "       session_id  site1                time1   site2                time2  \\\n",
       "0               1     29  2014-10-04 11:19:53    35.0  2014-10-04 11:19:53   \n",
       "1               2    782  2014-07-03 11:00:28   782.0  2014-07-03 11:00:53   \n",
       "2               3     55  2014-12-05 15:55:12    55.0  2014-12-05 15:55:13   \n",
       "3               4   1023  2014-11-04 10:03:19  1022.0  2014-11-04 10:03:19   \n",
       "4               5    301  2014-05-16 15:05:31   301.0  2014-05-16 15:05:32   \n",
       "...           ...    ...                  ...     ...                  ...   \n",
       "82792       82793    812  2014-10-02 18:20:09  1039.0  2014-10-02 18:20:09   \n",
       "82793       82794    300  2014-05-26 14:16:40   302.0  2014-05-26 14:16:41   \n",
       "82794       82795     29  2014-05-02 11:21:56    33.0  2014-05-02 11:21:56   \n",
       "82795       82796   5828  2014-05-03 10:05:25    23.0  2014-05-03 10:05:27   \n",
       "82796       82797     21  2014-11-02 10:46:57  1098.0  2014-11-02 10:46:57   \n",
       "\n",
       "        site3                time3   site4                time4   site5  \\\n",
       "0        22.0  2014-10-04 11:19:54   321.0  2014-10-04 11:19:54    23.0   \n",
       "1       782.0  2014-07-03 11:00:58   782.0  2014-07-03 11:01:06   782.0   \n",
       "2        55.0  2014-12-05 15:55:14    55.0  2014-12-05 15:56:15    55.0   \n",
       "3        50.0  2014-11-04 10:03:20   222.0  2014-11-04 10:03:21   202.0   \n",
       "4       301.0  2014-05-16 15:05:33    66.0  2014-05-16 15:05:39    67.0   \n",
       "...       ...                  ...     ...                  ...     ...   \n",
       "82792   676.0  2014-10-02 18:20:09     NaN                  NaN     NaN   \n",
       "82793   302.0  2014-05-26 14:16:44   300.0  2014-05-26 14:16:44   300.0   \n",
       "82794    35.0  2014-05-02 11:21:56    22.0  2014-05-02 11:22:03    37.0   \n",
       "82795    21.0  2014-05-03 10:05:27   804.0  2014-05-03 10:05:27    21.0   \n",
       "82796  1098.0  2014-11-02 10:46:58  1098.0  2014-11-02 10:47:12  1098.0   \n",
       "\n",
       "                     time5   site6                time6   site7  \\\n",
       "0      2014-10-04 11:19:54  2211.0  2014-10-04 11:19:54  6730.0   \n",
       "1      2014-07-03 11:01:09   782.0  2014-07-03 11:01:10   782.0   \n",
       "2      2014-12-05 15:56:16    55.0  2014-12-05 15:56:17    55.0   \n",
       "3      2014-11-04 10:03:21  3374.0  2014-11-04 10:03:22    50.0   \n",
       "4      2014-05-16 15:05:40    69.0  2014-05-16 15:05:40    70.0   \n",
       "...                    ...     ...                  ...     ...   \n",
       "82792                  NaN     NaN                  NaN     NaN   \n",
       "82793  2014-05-26 14:17:19  1222.0  2014-05-26 14:17:19   302.0   \n",
       "82794  2014-05-02 11:22:03  6779.0  2014-05-02 11:22:03    30.0   \n",
       "82795  2014-05-03 10:05:36  3350.0  2014-05-03 10:05:37    23.0   \n",
       "82796  2014-11-02 10:47:13  1098.0  2014-11-02 10:47:14  1098.0   \n",
       "\n",
       "                     time7   site8                time8    site9  \\\n",
       "0      2014-10-04 11:19:54    21.0  2014-10-04 11:19:54  44582.0   \n",
       "1      2014-07-03 11:01:23   782.0  2014-07-03 11:01:29    782.0   \n",
       "2      2014-12-05 15:56:18    55.0  2014-12-05 15:56:19   1445.0   \n",
       "3      2014-11-04 10:03:22    48.0  2014-11-04 10:03:22     48.0   \n",
       "4      2014-05-16 15:05:40    68.0  2014-05-16 15:05:40     71.0   \n",
       "...                    ...     ...                  ...      ...   \n",
       "82792                  NaN     NaN                  NaN      NaN   \n",
       "82793  2014-05-26 14:17:19  1218.0  2014-05-26 14:17:19   1221.0   \n",
       "82794  2014-05-02 11:22:03    21.0  2014-05-02 11:22:04     23.0   \n",
       "82795  2014-05-03 10:05:37   894.0  2014-05-03 10:05:38     21.0   \n",
       "82796  2014-11-02 10:47:15  1098.0  2014-11-02 10:47:18   1098.0   \n",
       "\n",
       "                     time9   site10               time10  \n",
       "0      2014-10-04 11:20:00  15336.0  2014-10-04 11:20:00  \n",
       "1      2014-07-03 11:01:30    782.0  2014-07-03 11:01:53  \n",
       "2      2014-12-05 15:56:33   1445.0  2014-12-05 15:56:36  \n",
       "3      2014-11-04 10:03:23   3374.0  2014-11-04 10:03:23  \n",
       "4      2014-05-16 15:05:40    167.0  2014-05-16 15:05:44  \n",
       "...                    ...      ...                  ...  \n",
       "82792                  NaN      NaN                  NaN  \n",
       "82793  2014-05-26 14:17:19   1216.0  2014-05-26 14:17:19  \n",
       "82794  2014-05-02 11:22:04   6780.0  2014-05-02 11:22:04  \n",
       "82795  2014-05-03 10:05:38    961.0  2014-05-03 10:05:38  \n",
       "82796  2014-11-02 10:47:42   1098.0  2014-11-02 10:47:47  \n",
       "\n",
       "[82797 rows x 21 columns]"
      ]
     },
     "execution_count": 8,
     "metadata": {},
     "output_type": "execute_result"
    }
   ],
   "source": [
    "test"
   ]
  },
  {
   "cell_type": "code",
   "execution_count": 9,
   "id": "ca357121",
   "metadata": {
    "execution": {
     "iopub.execute_input": "2024-12-26T14:05:49.029384Z",
     "iopub.status.busy": "2024-12-26T14:05:49.029068Z",
     "iopub.status.idle": "2024-12-26T14:05:49.039339Z",
     "shell.execute_reply": "2024-12-26T14:05:49.038220Z"
    },
    "papermill": {
     "duration": 0.020474,
     "end_time": "2024-12-26T14:05:49.040919",
     "exception": false,
     "start_time": "2024-12-26T14:05:49.020445",
     "status": "completed"
    },
    "tags": []
   },
   "outputs": [
    {
     "data": {
      "text/html": [
       "<div>\n",
       "<style scoped>\n",
       "    .dataframe tbody tr th:only-of-type {\n",
       "        vertical-align: middle;\n",
       "    }\n",
       "\n",
       "    .dataframe tbody tr th {\n",
       "        vertical-align: top;\n",
       "    }\n",
       "\n",
       "    .dataframe thead th {\n",
       "        text-align: right;\n",
       "    }\n",
       "</style>\n",
       "<table border=\"1\" class=\"dataframe\">\n",
       "  <thead>\n",
       "    <tr style=\"text-align: right;\">\n",
       "      <th></th>\n",
       "      <th>session_id</th>\n",
       "      <th>target</th>\n",
       "    </tr>\n",
       "  </thead>\n",
       "  <tbody>\n",
       "    <tr>\n",
       "      <th>0</th>\n",
       "      <td>1</td>\n",
       "      <td>0.948255</td>\n",
       "    </tr>\n",
       "    <tr>\n",
       "      <th>1</th>\n",
       "      <td>2</td>\n",
       "      <td>0.682483</td>\n",
       "    </tr>\n",
       "    <tr>\n",
       "      <th>2</th>\n",
       "      <td>3</td>\n",
       "      <td>0.502855</td>\n",
       "    </tr>\n",
       "    <tr>\n",
       "      <th>3</th>\n",
       "      <td>4</td>\n",
       "      <td>0.345556</td>\n",
       "    </tr>\n",
       "    <tr>\n",
       "      <th>4</th>\n",
       "      <td>5</td>\n",
       "      <td>0.889428</td>\n",
       "    </tr>\n",
       "    <tr>\n",
       "      <th>...</th>\n",
       "      <td>...</td>\n",
       "      <td>...</td>\n",
       "    </tr>\n",
       "    <tr>\n",
       "      <th>82792</th>\n",
       "      <td>82793</td>\n",
       "      <td>0.585216</td>\n",
       "    </tr>\n",
       "    <tr>\n",
       "      <th>82793</th>\n",
       "      <td>82794</td>\n",
       "      <td>0.621074</td>\n",
       "    </tr>\n",
       "    <tr>\n",
       "      <th>82794</th>\n",
       "      <td>82795</td>\n",
       "      <td>0.651144</td>\n",
       "    </tr>\n",
       "    <tr>\n",
       "      <th>82795</th>\n",
       "      <td>82796</td>\n",
       "      <td>0.319917</td>\n",
       "    </tr>\n",
       "    <tr>\n",
       "      <th>82796</th>\n",
       "      <td>82797</td>\n",
       "      <td>0.933516</td>\n",
       "    </tr>\n",
       "  </tbody>\n",
       "</table>\n",
       "<p>82797 rows × 2 columns</p>\n",
       "</div>"
      ],
      "text/plain": [
       "       session_id    target\n",
       "0               1  0.948255\n",
       "1               2  0.682483\n",
       "2               3  0.502855\n",
       "3               4  0.345556\n",
       "4               5  0.889428\n",
       "...           ...       ...\n",
       "82792       82793  0.585216\n",
       "82793       82794  0.621074\n",
       "82794       82795  0.651144\n",
       "82795       82796  0.319917\n",
       "82796       82797  0.933516\n",
       "\n",
       "[82797 rows x 2 columns]"
      ]
     },
     "execution_count": 9,
     "metadata": {},
     "output_type": "execute_result"
    }
   ],
   "source": [
    "submission"
   ]
  },
  {
   "cell_type": "markdown",
   "id": "a6b8558d",
   "metadata": {
    "papermill": {
     "duration": 0.007616,
     "end_time": "2024-12-26T14:05:49.056962",
     "exception": false,
     "start_time": "2024-12-26T14:05:49.049346",
     "status": "completed"
    },
    "tags": []
   },
   "source": [
    "Analyse target"
   ]
  },
  {
   "cell_type": "code",
   "execution_count": 10,
   "id": "f38dc341",
   "metadata": {
    "execution": {
     "iopub.execute_input": "2024-12-26T14:05:49.073929Z",
     "iopub.status.busy": "2024-12-26T14:05:49.073552Z",
     "iopub.status.idle": "2024-12-26T14:05:49.083932Z",
     "shell.execute_reply": "2024-12-26T14:05:49.082947Z"
    },
    "papermill": {
     "duration": 0.020895,
     "end_time": "2024-12-26T14:05:49.085607",
     "exception": false,
     "start_time": "2024-12-26T14:05:49.064712",
     "status": "completed"
    },
    "tags": []
   },
   "outputs": [
    {
     "data": {
      "text/plain": [
       "target\n",
       "0    251264\n",
       "1      2297\n",
       "Name: count, dtype: int64"
      ]
     },
     "execution_count": 10,
     "metadata": {},
     "output_type": "execute_result"
    }
   ],
   "source": [
    "target = train[\"target\"]\n",
    "target.value_counts()"
   ]
  },
  {
   "cell_type": "code",
   "execution_count": 11,
   "id": "094529b9",
   "metadata": {
    "execution": {
     "iopub.execute_input": "2024-12-26T14:05:49.104286Z",
     "iopub.status.busy": "2024-12-26T14:05:49.103935Z",
     "iopub.status.idle": "2024-12-26T14:05:49.356122Z",
     "shell.execute_reply": "2024-12-26T14:05:49.354958Z"
    },
    "papermill": {
     "duration": 0.263636,
     "end_time": "2024-12-26T14:05:49.357816",
     "exception": false,
     "start_time": "2024-12-26T14:05:49.094180",
     "status": "completed"
    },
    "tags": []
   },
   "outputs": [
    {
     "data": {
      "image/png": "[encoded data removed]",
      "text/plain": [
       "<Figure size 640x480 with 1 Axes>"
      ]
     },
     "metadata": {},
     "output_type": "display_data"
    }
   ],
   "source": [
    "plt.hist(target)\n",
    "plt.show()"
   ]
  },
  {
   "cell_type": "markdown",
   "id": "0d9afc0a",
   "metadata": {
    "papermill": {
     "duration": 0.008088,
     "end_time": "2024-12-26T14:05:49.374351",
     "exception": false,
     "start_time": "2024-12-26T14:05:49.366263",
     "status": "completed"
    },
    "tags": []
   },
   "source": [
    "Make dataframes numeric"
   ]
  },
  {
   "cell_type": "code",
   "execution_count": 12,
   "id": "4988aca2",
   "metadata": {
    "execution": {
     "iopub.execute_input": "2024-12-26T14:05:49.392441Z",
     "iopub.status.busy": "2024-12-26T14:05:49.392105Z",
     "iopub.status.idle": "2024-12-26T14:05:49.410653Z",
     "shell.execute_reply": "2024-12-26T14:05:49.409553Z"
    },
    "papermill": {
     "duration": 0.029711,
     "end_time": "2024-12-26T14:05:49.412305",
     "exception": false,
     "start_time": "2024-12-26T14:05:49.382594",
     "status": "completed"
    },
    "tags": []
   },
   "outputs": [
    {
     "name": "stdout",
     "output_type": "stream",
     "text": [
      "['time1', 'time2', 'time3', 'time4', 'time5', 'time6', 'time7', 'time8', 'time9', 'time10']\n"
     ]
    },
    {
     "data": {
      "text/plain": [
       "((253561, 12), (82797, 11))"
      ]
     },
     "execution_count": 12,
     "metadata": {},
     "output_type": "execute_result"
    }
   ],
   "source": [
    "drop_col = []\n",
    "\n",
    "for col in train:\n",
    "    if train[col].dtype =='object':\n",
    "        drop_col.append(col)\n",
    "\n",
    "print(drop_col)\n",
    "\n",
    "train_num = train.drop(drop_col, axis=1)\n",
    "test_num = test.drop(drop_col, axis=1)\n",
    "\n",
    "train_num.shape, test_num.shape"
   ]
  },
  {
   "cell_type": "code",
   "execution_count": 13,
   "id": "6b17fa44",
   "metadata": {
    "execution": {
     "iopub.execute_input": "2024-12-26T14:05:49.430612Z",
     "iopub.status.busy": "2024-12-26T14:05:49.430274Z",
     "iopub.status.idle": "2024-12-26T14:05:49.453113Z",
     "shell.execute_reply": "2024-12-26T14:05:49.452041Z"
    },
    "papermill": {
     "duration": 0.033744,
     "end_time": "2024-12-26T14:05:49.454650",
     "exception": false,
     "start_time": "2024-12-26T14:05:49.420906",
     "status": "completed"
    },
    "tags": []
   },
   "outputs": [
    {
     "data": {
      "text/plain": [
       "session_id    0\n",
       "site1         0\n",
       "site2         0\n",
       "site3         0\n",
       "site4         0\n",
       "site5         0\n",
       "site6         0\n",
       "site7         0\n",
       "site8         0\n",
       "site9         0\n",
       "site10        0\n",
       "target        0\n",
       "dtype: int64"
      ]
     },
     "execution_count": 13,
     "metadata": {},
     "output_type": "execute_result"
    }
   ],
   "source": [
    "train_num.dropna(inplace=True)\n",
    "train_num.isna().sum()"
   ]
  },
  {
   "cell_type": "code",
   "execution_count": 14,
   "id": "af506a91",
   "metadata": {
    "execution": {
     "iopub.execute_input": "2024-12-26T14:05:49.473307Z",
     "iopub.status.busy": "2024-12-26T14:05:49.472975Z",
     "iopub.status.idle": "2024-12-26T14:05:49.481805Z",
     "shell.execute_reply": "2024-12-26T14:05:49.480668Z"
    },
    "papermill": {
     "duration": 0.020028,
     "end_time": "2024-12-26T14:05:49.483368",
     "exception": false,
     "start_time": "2024-12-26T14:05:49.463340",
     "status": "completed"
    },
    "tags": []
   },
   "outputs": [
    {
     "data": {
      "text/plain": [
       "session_id       0\n",
       "site1            0\n",
       "site2         1489\n",
       "site3         2722\n",
       "site4         3615\n",
       "site5         4456\n",
       "site6         5231\n",
       "site7         5957\n",
       "site8         6646\n",
       "site9         7313\n",
       "site10        7991\n",
       "dtype: int64"
      ]
     },
     "execution_count": 14,
     "metadata": {},
     "output_type": "execute_result"
    }
   ],
   "source": [
    "test_num.isna().sum()"
   ]
  },
  {
   "cell_type": "markdown",
   "id": "f7125384",
   "metadata": {
    "papermill": {
     "duration": 0.008968,
     "end_time": "2024-12-26T14:05:49.501049",
     "exception": false,
     "start_time": "2024-12-26T14:05:49.492081",
     "status": "completed"
    },
    "tags": []
   },
   "source": [
    "Drop Id"
   ]
  },
  {
   "cell_type": "code",
   "execution_count": 15,
   "id": "56ca63ed",
   "metadata": {
    "execution": {
     "iopub.execute_input": "2024-12-26T14:05:49.519715Z",
     "iopub.status.busy": "2024-12-26T14:05:49.519386Z",
     "iopub.status.idle": "2024-12-26T14:05:49.530621Z",
     "shell.execute_reply": "2024-12-26T14:05:49.529192Z"
    },
    "papermill": {
     "duration": 0.023791,
     "end_time": "2024-12-26T14:05:49.533630",
     "exception": false,
     "start_time": "2024-12-26T14:05:49.509839",
     "status": "completed"
    },
    "tags": []
   },
   "outputs": [],
   "source": [
    "train_num.drop('session_id', axis=1, inplace=True)\n",
    "test_num.drop('session_id', axis=1, inplace=True)"
   ]
  },
  {
   "cell_type": "markdown",
   "id": "0e91833a",
   "metadata": {
    "papermill": {
     "duration": 0.011656,
     "end_time": "2024-12-26T14:05:49.561286",
     "exception": false,
     "start_time": "2024-12-26T14:05:49.549630",
     "status": "completed"
    },
    "tags": []
   },
   "source": [
    "Impute null values"
   ]
  },
  {
   "cell_type": "code",
   "execution_count": 16,
   "id": "7c03c826",
   "metadata": {
    "execution": {
     "iopub.execute_input": "2024-12-26T14:05:49.586558Z",
     "iopub.status.busy": "2024-12-26T14:05:49.586201Z",
     "iopub.status.idle": "2024-12-26T14:05:49.606335Z",
     "shell.execute_reply": "2024-12-26T14:05:49.605317Z"
    },
    "papermill": {
     "duration": 0.032601,
     "end_time": "2024-12-26T14:05:49.608080",
     "exception": false,
     "start_time": "2024-12-26T14:05:49.575479",
     "status": "completed"
    },
    "tags": []
   },
   "outputs": [
    {
     "data": {
      "text/plain": [
       "0"
      ]
     },
     "execution_count": 16,
     "metadata": {},
     "output_type": "execute_result"
    }
   ],
   "source": [
    "for col in test_num:\n",
    "    test_num[col] = test_num[col].fillna(-1)\n",
    "\n",
    "test_num.isna().sum().sum()"
   ]
  },
  {
   "cell_type": "markdown",
   "id": "c7b9bbff",
   "metadata": {
    "papermill": {
     "duration": 0.008389,
     "end_time": "2024-12-26T14:05:49.625343",
     "exception": false,
     "start_time": "2024-12-26T14:05:49.616954",
     "status": "completed"
    },
    "tags": []
   },
   "source": [
    "Heatmap"
   ]
  },
  {
   "cell_type": "code",
   "execution_count": 17,
   "id": "bbadbe3b",
   "metadata": {
    "execution": {
     "iopub.execute_input": "2024-12-26T14:05:49.643900Z",
     "iopub.status.busy": "2024-12-26T14:05:49.643496Z",
     "iopub.status.idle": "2024-12-26T14:05:50.419970Z",
     "shell.execute_reply": "2024-12-26T14:05:50.418676Z"
    },
    "papermill": {
     "duration": 0.788694,
     "end_time": "2024-12-26T14:05:50.422587",
     "exception": false,
     "start_time": "2024-12-26T14:05:49.633893",
     "status": "completed"
    },
    "tags": []
   },
   "outputs": [
    {
     "data": {
      "text/plain": [
       "<Axes: >"
      ]
     },
     "execution_count": 17,
     "metadata": {},
     "output_type": "execute_result"
    },
    {
     "data": {
      "image/png": "[encoded data removed]",
      "text/plain": [
       "<Figure size 640x480 with 2 Axes>"
      ]
     },
     "metadata": {},
     "output_type": "display_data"
    }
   ],
   "source": [
    "corr = train_num.corr()\n",
    "sns.heatmap(corr, annot=True)"
   ]
  },
  {
   "cell_type": "markdown",
   "id": "a9116ff6",
   "metadata": {
    "papermill": {
     "duration": 0.010882,
     "end_time": "2024-12-26T14:05:50.445383",
     "exception": false,
     "start_time": "2024-12-26T14:05:50.434501",
     "status": "completed"
    },
    "tags": []
   },
   "source": [
    "Define dependent and independent variables"
   ]
  },
  {
   "cell_type": "code",
   "execution_count": 18,
   "id": "17760ba5",
   "metadata": {
    "execution": {
     "iopub.execute_input": "2024-12-26T14:05:50.468348Z",
     "iopub.status.busy": "2024-12-26T14:05:50.467993Z",
     "iopub.status.idle": "2024-12-26T14:05:50.473078Z",
     "shell.execute_reply": "2024-12-26T14:05:50.472023Z"
    },
    "papermill": {
     "duration": 0.018862,
     "end_time": "2024-12-26T14:05:50.474910",
     "exception": false,
     "start_time": "2024-12-26T14:05:50.456048",
     "status": "completed"
    },
    "tags": []
   },
   "outputs": [],
   "source": [
    "y = train_num.pop('target')\n",
    "X = train_num\n",
    "X_test = test_num"
   ]
  },
  {
   "cell_type": "markdown",
   "id": "6e5707d7",
   "metadata": {
    "papermill": {
     "duration": 0.011187,
     "end_time": "2024-12-26T14:05:50.497349",
     "exception": false,
     "start_time": "2024-12-26T14:05:50.486162",
     "status": "completed"
    },
    "tags": []
   },
   "source": [
    "Split X into training and validating sets"
   ]
  },
  {
   "cell_type": "code",
   "execution_count": 19,
   "id": "3d5b52ff",
   "metadata": {
    "execution": {
     "iopub.execute_input": "2024-12-26T14:05:50.521349Z",
     "iopub.status.busy": "2024-12-26T14:05:50.521007Z",
     "iopub.status.idle": "2024-12-26T14:05:50.558159Z",
     "shell.execute_reply": "2024-12-26T14:05:50.557104Z"
    },
    "papermill": {
     "duration": 0.050853,
     "end_time": "2024-12-26T14:05:50.559935",
     "exception": false,
     "start_time": "2024-12-26T14:05:50.509082",
     "status": "completed"
    },
    "tags": []
   },
   "outputs": [
    {
     "data": {
      "text/plain": [
       "((207946, 10), (207946,), (23106, 10), (23106,), (82797, 10))"
      ]
     },
     "execution_count": 19,
     "metadata": {},
     "output_type": "execute_result"
    }
   ],
   "source": [
    "X_train, X_val, y_train, y_val = train_test_split( X, y, test_size=0.1, shuffle=True, random_state=42)\n",
    "X_train.shape, y_train.shape, X_val.shape, y_val.shape, X_test.shape"
   ]
  },
  {
   "cell_type": "markdown",
   "id": "6f8cc344",
   "metadata": {
    "papermill": {
     "duration": 0.011026,
     "end_time": "2024-12-26T14:05:50.583296",
     "exception": false,
     "start_time": "2024-12-26T14:05:50.572270",
     "status": "completed"
    },
    "tags": []
   },
   "source": [
    "Define model"
   ]
  },
  {
   "cell_type": "code",
   "execution_count": 20,
   "id": "4982c22a",
   "metadata": {
    "execution": {
     "iopub.execute_input": "2024-12-26T14:05:50.606703Z",
     "iopub.status.busy": "2024-12-26T14:05:50.606373Z",
     "iopub.status.idle": "2024-12-26T14:06:42.924976Z",
     "shell.execute_reply": "2024-12-26T14:06:42.923871Z"
    },
    "papermill": {
     "duration": 52.342208,
     "end_time": "2024-12-26T14:06:42.936480",
     "exception": false,
     "start_time": "2024-12-26T14:05:50.594272",
     "status": "completed"
    },
    "tags": []
   },
   "outputs": [
    {
     "data": {
      "text/plain": [
       "0.6510536389254903"
      ]
     },
     "execution_count": 20,
     "metadata": {},
     "output_type": "execute_result"
    }
   ],
   "source": [
    "model = ExtraTreesClassifier(n_estimators=1000, max_depth=5, random_state=42, class_weight='balanced')\n",
    "model.fit(X_train, y_train)\n",
    "model.score(X_train, y_train)"
   ]
  },
  {
   "cell_type": "code",
   "execution_count": 21,
   "id": "d60d82b9",
   "metadata": {
    "execution": {
     "iopub.execute_input": "2024-12-26T14:06:42.959955Z",
     "iopub.status.busy": "2024-12-26T14:06:42.959547Z",
     "iopub.status.idle": "2024-12-26T14:06:44.229871Z",
     "shell.execute_reply": "2024-12-26T14:06:44.228809Z"
    },
    "papermill": {
     "duration": 1.284088,
     "end_time": "2024-12-26T14:06:44.231552",
     "exception": false,
     "start_time": "2024-12-26T14:06:42.947464",
     "status": "completed"
    },
    "tags": []
   },
   "outputs": [
    {
     "data": {
      "text/plain": [
       "array([1, 1, 0, ..., 0, 1, 0])"
      ]
     },
     "execution_count": 21,
     "metadata": {},
     "output_type": "execute_result"
    }
   ],
   "source": [
    "y_pred = model.predict(X_val)\n",
    "y_pred"
   ]
  },
  {
   "cell_type": "code",
   "execution_count": 22,
   "id": "453cbb57",
   "metadata": {
    "execution": {
     "iopub.execute_input": "2024-12-26T14:06:44.255450Z",
     "iopub.status.busy": "2024-12-26T14:06:44.255085Z",
     "iopub.status.idle": "2024-12-26T14:06:44.265100Z",
     "shell.execute_reply": "2024-12-26T14:06:44.263853Z"
    },
    "papermill": {
     "duration": 0.023976,
     "end_time": "2024-12-26T14:06:44.266862",
     "exception": false,
     "start_time": "2024-12-26T14:06:44.242886",
     "status": "completed"
    },
    "tags": []
   },
   "outputs": [
    {
     "data": {
      "text/plain": [
       "0.6511295767333161"
      ]
     },
     "execution_count": 22,
     "metadata": {},
     "output_type": "execute_result"
    }
   ],
   "source": [
    "acc = accuracy_score(y_val, y_pred)\n",
    "acc"
   ]
  },
  {
   "cell_type": "code",
   "execution_count": 23,
   "id": "4eabbc32",
   "metadata": {
    "execution": {
     "iopub.execute_input": "2024-12-26T14:06:44.290795Z",
     "iopub.status.busy": "2024-12-26T14:06:44.290321Z",
     "iopub.status.idle": "2024-12-26T14:06:44.302515Z",
     "shell.execute_reply": "2024-12-26T14:06:44.301185Z"
    },
    "papermill": {
     "duration": 0.02632,
     "end_time": "2024-12-26T14:06:44.304584",
     "exception": false,
     "start_time": "2024-12-26T14:06:44.278264",
     "status": "completed"
    },
    "tags": []
   },
   "outputs": [
    {
     "data": {
      "text/plain": [
       "array([[14893,  8001],\n",
       "       [   60,   152]])"
      ]
     },
     "execution_count": 23,
     "metadata": {},
     "output_type": "execute_result"
    }
   ],
   "source": [
    "cm = confusion_matrix(y_val, y_pred)\n",
    "cm"
   ]
  },
  {
   "cell_type": "markdown",
   "id": "cbab09da",
   "metadata": {
    "papermill": {
     "duration": 0.010989,
     "end_time": "2024-12-26T14:06:44.327378",
     "exception": false,
     "start_time": "2024-12-26T14:06:44.316389",
     "status": "completed"
    },
    "tags": []
   },
   "source": [
    "Predict on X_test"
   ]
  },
  {
   "cell_type": "code",
   "execution_count": 24,
   "id": "739df386",
   "metadata": {
    "execution": {
     "iopub.execute_input": "2024-12-26T14:06:44.351901Z",
     "iopub.status.busy": "2024-12-26T14:06:44.351466Z",
     "iopub.status.idle": "2024-12-26T14:06:48.730600Z",
     "shell.execute_reply": "2024-12-26T14:06:48.729276Z"
    },
    "papermill": {
     "duration": 4.39359,
     "end_time": "2024-12-26T14:06:48.732574",
     "exception": false,
     "start_time": "2024-12-26T14:06:44.338984",
     "status": "completed"
    },
    "tags": []
   },
   "outputs": [
    {
     "data": {
      "text/plain": [
       "array([0.37940532, 0.47562862, 0.51351966, ..., 0.51144456, 0.49825958,\n",
       "       0.48236578])"
      ]
     },
     "execution_count": 24,
     "metadata": {},
     "output_type": "execute_result"
    }
   ],
   "source": [
    "pred_proba = model.predict_proba(X_test)\n",
    "pred = pred_proba[:,1]\n",
    "pred"
   ]
  },
  {
   "cell_type": "markdown",
   "id": "c2be4c43",
   "metadata": {
    "papermill": {
     "duration": 0.012359,
     "end_time": "2024-12-26T14:06:48.759546",
     "exception": false,
     "start_time": "2024-12-26T14:06:48.747187",
     "status": "completed"
    },
    "tags": []
   },
   "source": [
    "Prepare submission"
   ]
  },
  {
   "cell_type": "code",
   "execution_count": 25,
   "id": "d286a069",
   "metadata": {
    "execution": {
     "iopub.execute_input": "2024-12-26T14:06:48.783737Z",
     "iopub.status.busy": "2024-12-26T14:06:48.783313Z",
     "iopub.status.idle": "2024-12-26T14:06:48.990276Z",
     "shell.execute_reply": "2024-12-26T14:06:48.989258Z"
    },
    "papermill": {
     "duration": 0.220946,
     "end_time": "2024-12-26T14:06:48.991829",
     "exception": false,
     "start_time": "2024-12-26T14:06:48.770883",
     "status": "completed"
    },
    "tags": []
   },
   "outputs": [
    {
     "data": {
      "text/html": [
       "<div>\n",
       "<style scoped>\n",
       "    .dataframe tbody tr th:only-of-type {\n",
       "        vertical-align: middle;\n",
       "    }\n",
       "\n",
       "    .dataframe tbody tr th {\n",
       "        vertical-align: top;\n",
       "    }\n",
       "\n",
       "    .dataframe thead th {\n",
       "        text-align: right;\n",
       "    }\n",
       "</style>\n",
       "<table border=\"1\" class=\"dataframe\">\n",
       "  <thead>\n",
       "    <tr style=\"text-align: right;\">\n",
       "      <th></th>\n",
       "      <th>session_id</th>\n",
       "      <th>target</th>\n",
       "    </tr>\n",
       "  </thead>\n",
       "  <tbody>\n",
       "    <tr>\n",
       "      <th>0</th>\n",
       "      <td>1</td>\n",
       "      <td>0.379405</td>\n",
       "    </tr>\n",
       "    <tr>\n",
       "      <th>1</th>\n",
       "      <td>2</td>\n",
       "      <td>0.475629</td>\n",
       "    </tr>\n",
       "    <tr>\n",
       "      <th>2</th>\n",
       "      <td>3</td>\n",
       "      <td>0.513520</td>\n",
       "    </tr>\n",
       "    <tr>\n",
       "      <th>3</th>\n",
       "      <td>4</td>\n",
       "      <td>0.502204</td>\n",
       "    </tr>\n",
       "    <tr>\n",
       "      <th>4</th>\n",
       "      <td>5</td>\n",
       "      <td>0.515026</td>\n",
       "    </tr>\n",
       "    <tr>\n",
       "      <th>...</th>\n",
       "      <td>...</td>\n",
       "      <td>...</td>\n",
       "    </tr>\n",
       "    <tr>\n",
       "      <th>82792</th>\n",
       "      <td>82793</td>\n",
       "      <td>0.503972</td>\n",
       "    </tr>\n",
       "    <tr>\n",
       "      <th>82793</th>\n",
       "      <td>82794</td>\n",
       "      <td>0.490629</td>\n",
       "    </tr>\n",
       "    <tr>\n",
       "      <th>82794</th>\n",
       "      <td>82795</td>\n",
       "      <td>0.511445</td>\n",
       "    </tr>\n",
       "    <tr>\n",
       "      <th>82795</th>\n",
       "      <td>82796</td>\n",
       "      <td>0.498260</td>\n",
       "    </tr>\n",
       "    <tr>\n",
       "      <th>82796</th>\n",
       "      <td>82797</td>\n",
       "      <td>0.482366</td>\n",
       "    </tr>\n",
       "  </tbody>\n",
       "</table>\n",
       "<p>82797 rows × 2 columns</p>\n",
       "</div>"
      ],
      "text/plain": [
       "       session_id    target\n",
       "0               1  0.379405\n",
       "1               2  0.475629\n",
       "2               3  0.513520\n",
       "3               4  0.502204\n",
       "4               5  0.515026\n",
       "...           ...       ...\n",
       "82792       82793  0.503972\n",
       "82793       82794  0.490629\n",
       "82794       82795  0.511445\n",
       "82795       82796  0.498260\n",
       "82796       82797  0.482366\n",
       "\n",
       "[82797 rows x 2 columns]"
      ]
     },
     "execution_count": 25,
     "metadata": {},
     "output_type": "execute_result"
    }
   ],
   "source": [
    "submission['target'] = pred\n",
    "submission.to_csv('submission.csv', index=False)\n",
    "submission = pd.read_csv('submission.csv')\n",
    "submission"
   ]
  }
 ],
 "metadata": {
  "kaggle": {
   "accelerator": "none",
   "dataSources": [
    {
     "databundleVersionId": 108687,
     "sourceId": 7173,
     "sourceType": "competition"
    }
   ],
   "dockerImageVersionId": 30822,
   "isGpuEnabled": false,
   "isInternetEnabled": true,
   "language": "python",
   "sourceType": "notebook"
  },
  "kernelspec": {
   "display_name": "Python 3",
   "language": "python",
   "name": "python3"
  },
  "language_info": {
   "codemirror_mode": {
    "name": "ipython",
    "version": 3
   },
   "file_extension": ".py",
   "mimetype": "text/x-python",
   "name": "python",
   "nbconvert_exporter": "python",
   "pygments_lexer": "ipython3",
   "version": "3.10.12"
  },
  "papermill": {
   "default_parameters": {},
   "duration": 69.877326,
   "end_time": "2024-12-26T14:06:49.825873",
   "environment_variables": {},
   "exception": null,
   "input_path": "__notebook__.ipynb",
   "output_path": "__notebook__.ipynb",
   "parameters": {},
   "start_time": "2024-12-26T14:05:39.948547",
   "version": "2.6.0"
  }
 },
 "nbformat": 4,
 "nbformat_minor": 5
}
