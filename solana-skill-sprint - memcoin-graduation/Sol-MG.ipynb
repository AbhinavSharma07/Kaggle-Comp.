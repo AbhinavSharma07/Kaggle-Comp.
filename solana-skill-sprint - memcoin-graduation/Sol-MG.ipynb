{
 "cells": [
  {
   "cell_type": "code",
   "execution_count": 1,
   "id": "8b58a4d1",
   "metadata": {
    "_cell_guid": "b1076dfc-b9ad-4769-8c92-a6c4dae69d19",
    "_uuid": "8f2839f25d086af736a60e9eeb907d3b93b6e0e5",
    "execution": {
     "iopub.execute_input": "2025-04-17T11:16:53.472504Z",
     "iopub.status.busy": "2025-04-17T11:16:53.471810Z",
     "iopub.status.idle": "2025-04-17T11:17:02.014571Z",
     "shell.execute_reply": "2025-04-17T11:17:02.013715Z"
    },
    "papermill": {
     "duration": 8.549789,
     "end_time": "2025-04-17T11:17:02.016104",
     "exception": false,
     "start_time": "2025-04-17T11:16:53.466315",
     "status": "completed"
    },
    "tags": []
   },
   "outputs": [],
   "source": [
    "import pandas as pd\n",
    "import numpy as np\n",
    "import glob\n",
    "import os\n",
    "import gc  # Garbage collection\n",
    "from tqdm.auto import tqdm  # Progress bars\n",
    "\n",
    "# Modeling & Evaluation\n",
    "from sklearn.model_selection import StratifiedKFold\n",
    "from sklearn.preprocessing import LabelEncoder\n",
    "import lightgbm as lgb\n",
    "import catboost as cb\n",
    "import xgboost as xgb\n",
    "from sklearn.metrics import log_loss\n"
   ]
  },
  {
   "cell_type": "code",
   "execution_count": 2,
   "id": "699bf2bc",
   "metadata": {
    "execution": {
     "iopub.execute_input": "2025-04-17T11:17:02.025870Z",
     "iopub.status.busy": "2025-04-17T11:17:02.025271Z",
     "iopub.status.idle": "2025-04-17T11:17:02.030633Z",
     "shell.execute_reply": "2025-04-17T11:17:02.029839Z"
    },
    "papermill": {
     "duration": 0.011274,
     "end_time": "2025-04-17T11:17:02.031854",
     "exception": false,
     "start_time": "2025-04-17T11:17:02.020580",
     "status": "completed"
    },
    "tags": []
   },
   "outputs": [],
   "source": [
    "# Configuration\n",
    "\n",
    "DATA_PATH = '/kaggle/input/pump-fun-graduation-february-2025' # Adjust if your data is elsewhere\n",
    "CHUNK_PATTERN = os.path.join(DATA_PATH, 'chunk*.csv')\n",
    "TRAIN_FILE = os.path.join(DATA_PATH, 'train.csv')\n",
    "TEST_FILE = os.path.join(DATA_PATH, 'test_unlabeled.csv')\n",
    "DUNE_INFO_FILE = os.path.join(DATA_PATH, 'dune_token_info.csv')\n",
    "ONCHAIN_INFO_FILE = os.path.join(DATA_PATH, 'token_info_onchain_divers.csv')\n",
    "SUBMISSION_FILE = 'submission.csv'\n",
    "\n",
    "TARGET = 'has_graduated'\n",
    "MINT_ID = 'mint'\n",
    "BLOCK_LIMIT = 100 # Only use data from first 100 blocks post-mint\n",
    "N_SPLITS = 5 # Number of folds for cross-validation\n",
    "RANDOM_SEED = 42"
   ]
  },
  {
   "cell_type": "code",
   "execution_count": 3,
   "id": "0786f761",
   "metadata": {
    "execution": {
     "iopub.execute_input": "2025-04-17T11:17:02.040381Z",
     "iopub.status.busy": "2025-04-17T11:17:02.040139Z",
     "iopub.status.idle": "2025-04-17T11:19:08.974780Z",
     "shell.execute_reply": "2025-04-17T11:19:08.973762Z"
    },
    "papermill": {
     "duration": 126.940665,
     "end_time": "2025-04-17T11:19:08.976419",
     "exception": false,
     "start_time": "2025-04-17T11:17:02.035754",
     "status": "completed"
    },
    "tags": []
   },
   "outputs": [
    {
     "name": "stdout",
     "output_type": "stream",
     "text": [
      "Loading data...\n"
     ]
    },
    {
     "name": "stderr",
     "output_type": "stream",
     "text": [
      "/tmp/ipykernel_19/1432169342.py:6: DtypeWarning: Columns (1,2) have mixed types. Specify dtype option on import or set low_memory=False.\n",
      "  onchain_info_df = pd.read_csv(ONCHAIN_INFO_FILE)\n"
     ]
    },
    {
     "name": "stdout",
     "output_type": "stream",
     "text": [
      "Found 41 chunk files.\n"
     ]
    },
    {
     "data": {
      "application/vnd.jupyter.widget-view+json": {
       "model_id": "05ffbaef428343bf9846a17a7a551316",
       "version_major": 2,
       "version_minor": 0
      },
      "text/plain": [
       "Loading chunks:   0%|          | 0/41 [00:00<?, ?it/s]"
      ]
     },
     "metadata": {},
     "output_type": "display_data"
    }
   ],
   "source": [
    "# --- 1. Load Data ---\n",
    "print(\"Loading data...\")\n",
    "train_df = pd.read_csv(TRAIN_FILE)\n",
    "test_df = pd.read_csv(TEST_FILE)\n",
    "dune_info_df = pd.read_csv(DUNE_INFO_FILE)\n",
    "onchain_info_df = pd.read_csv(ONCHAIN_INFO_FILE)\n",
    "\n",
    "# Combine train and test for easier processing\n",
    "train_df['is_train'] = 1\n",
    "test_df['is_train'] = 0\n",
    "combined_df = pd.concat([train_df, test_df], ignore_index=True)\n",
    "\n",
    "# Load and combine chunk files\n",
    "all_chunk_files = glob.glob(CHUNK_PATTERN)\n",
    "print(f\"Found {len(all_chunk_files)} chunk files.\")\n",
    "\n",
    "chunk_list = []\n",
    "for f in tqdm(all_chunk_files, desc=\"Loading chunks\"):\n",
    "    try:\n",
    "        chunk_list.append(pd.read_csv(f))\n",
    "    except Exception as e:\n",
    "        print(f\"Error loading {f}: {e}\")\n",
    "if not chunk_list:\n",
    "    raise ValueError(\"No chunk files loaded. Check CHUNK_PATTERN and file existence.\")\n",
    "\n",
    "transactions_df = pd.concat(chunk_list, ignore_index=True)"
   ]
  },
  {
   "cell_type": "code",
   "execution_count": 4,
   "id": "64a7a49a",
   "metadata": {
    "execution": {
     "iopub.execute_input": "2025-04-17T11:19:08.986143Z",
     "iopub.status.busy": "2025-04-17T11:19:08.985737Z",
     "iopub.status.idle": "2025-04-17T11:19:09.005537Z",
     "shell.execute_reply": "2025-04-17T11:19:09.004899Z"
    },
    "papermill": {
     "duration": 0.025544,
     "end_time": "2025-04-17T11:19:09.006645",
     "exception": false,
     "start_time": "2025-04-17T11:19:08.981101",
     "status": "completed"
    },
    "tags": []
   },
   "outputs": [
    {
     "data": {
      "text/html": [
       "<div>\n",
       "<style scoped>\n",
       "    .dataframe tbody tr th:only-of-type {\n",
       "        vertical-align: middle;\n",
       "    }\n",
       "\n",
       "    .dataframe tbody tr th {\n",
       "        vertical-align: top;\n",
       "    }\n",
       "\n",
       "    .dataframe thead th {\n",
       "        text-align: right;\n",
       "    }\n",
       "</style>\n",
       "<table border=\"1\" class=\"dataframe\">\n",
       "  <thead>\n",
       "    <tr style=\"text-align: right;\">\n",
       "      <th></th>\n",
       "      <th>block_time</th>\n",
       "      <th>slot</th>\n",
       "      <th>tx_idx</th>\n",
       "      <th>signing_wallet</th>\n",
       "      <th>direction</th>\n",
       "      <th>base_coin</th>\n",
       "      <th>base_coin_amount</th>\n",
       "      <th>quote_coin_amount</th>\n",
       "      <th>virtual_token_balance_after</th>\n",
       "      <th>virtual_sol_balance_after</th>\n",
       "      <th>signature</th>\n",
       "      <th>provided_gas_fee</th>\n",
       "      <th>provided_gas_limit</th>\n",
       "      <th>fee</th>\n",
       "      <th>consumed_gas</th>\n",
       "    </tr>\n",
       "  </thead>\n",
       "  <tbody>\n",
       "    <tr>\n",
       "      <th>0</th>\n",
       "      <td>2025-02-28 11:00:16</td>\n",
       "      <td>323711058</td>\n",
       "      <td>1296</td>\n",
       "      <td>7hVj4WXJCCK52VhpGrVV4Pfwyps9P64f4kdeWgcTwfnj</td>\n",
       "      <td>buy</td>\n",
       "      <td>J8QR88GiYp74oBbJByz3Jekmz4Gh2DQS2sk2ckeMpump</td>\n",
       "      <td>3494424123858</td>\n",
       "      <td>100987399</td>\n",
       "      <td>1053648433019000</td>\n",
       "      <td>30550987399</td>\n",
       "      <td>4xvsRs8NtBUuEYboid4EpsZsqiAM6E9dQt9tBYkHxhmRzB...</td>\n",
       "      <td>1000000</td>\n",
       "      <td>100000</td>\n",
       "      <td>105000</td>\n",
       "      <td>57686</td>\n",
       "    </tr>\n",
       "    <tr>\n",
       "      <th>1</th>\n",
       "      <td>2025-02-28 11:00:16</td>\n",
       "      <td>323711059</td>\n",
       "      <td>718</td>\n",
       "      <td>6XiwTExDHAGhxp2Mex6icXYwiyUHgfTjYutrr3bRcgEf</td>\n",
       "      <td>buy</td>\n",
       "      <td>28TJ8C9ZTCKq3K63Urta9WwNmXAnevaTrcw1ciHVpump</td>\n",
       "      <td>1785430932050</td>\n",
       "      <td>56792203</td>\n",
       "      <td>1005083777764309</td>\n",
       "      <td>32027180931</td>\n",
       "      <td>5Yxc8Pvku3Udyp948uW8WbL5uKnsEQ9kyKNiFAhEJBnDPC...</td>\n",
       "      <td>22058824</td>\n",
       "      <td>68000</td>\n",
       "      <td>1505001</td>\n",
       "      <td>59336</td>\n",
       "    </tr>\n",
       "    <tr>\n",
       "      <th>2</th>\n",
       "      <td>2025-02-28 11:00:16</td>\n",
       "      <td>323711059</td>\n",
       "      <td>1311</td>\n",
       "      <td>FtcH8GXx5ATLvWE3kVBvpEErQXCPP4m5fDTyg1GM1nHc</td>\n",
       "      <td>buy</td>\n",
       "      <td>28TJ8C9ZTCKq3K63Urta9WwNmXAnevaTrcw1ciHVpump</td>\n",
       "      <td>242290322581</td>\n",
       "      <td>7722488</td>\n",
       "      <td>1004841487441728</td>\n",
       "      <td>32034903419</td>\n",
       "      <td>4QKFnwrtLfEz7TPVYe6FiVdQWyHWUD7A78q3ePELHVyHLS...</td>\n",
       "      <td>125000</td>\n",
       "      <td>200000</td>\n",
       "      <td>30000</td>\n",
       "      <td>63724</td>\n",
       "    </tr>\n",
       "    <tr>\n",
       "      <th>3</th>\n",
       "      <td>2025-02-28 11:00:16</td>\n",
       "      <td>323711059</td>\n",
       "      <td>393</td>\n",
       "      <td>avAtiJAzAJv8dhMC6GLjW3FpJ1wY7aNegaxE9q4H5h5</td>\n",
       "      <td>buy</td>\n",
       "      <td>9oASc6yBTZG1pZeDRAuSQDGe1h6f6Q9VwdnQNqc6JTG</td>\n",
       "      <td>1200000000000</td>\n",
       "      <td>33588357</td>\n",
       "      <td>1071800000000000</td>\n",
       "      <td>30033588358</td>\n",
       "      <td>668t2QNPbajyXrhHbu1Z1hkT6c2ejetsavVxLdkHHxcZBV...</td>\n",
       "      <td>6700</td>\n",
       "      <td>80000</td>\n",
       "      <td>5536</td>\n",
       "      <td>66914</td>\n",
       "    </tr>\n",
       "    <tr>\n",
       "      <th>4</th>\n",
       "      <td>2025-02-28 11:00:16</td>\n",
       "      <td>323711059</td>\n",
       "      <td>396</td>\n",
       "      <td>7tMoEadQnH3iaU7yR5TVEKfne8aSyfiitkKE88Jzaz8i</td>\n",
       "      <td>buy</td>\n",
       "      <td>9oASc6yBTZG1pZeDRAuSQDGe1h6f6Q9VwdnQNqc6JTG</td>\n",
       "      <td>714809123297</td>\n",
       "      <td>20043488</td>\n",
       "      <td>1071085190876703</td>\n",
       "      <td>30053631846</td>\n",
       "      <td>4Dw7CCpzat6pVpR7uXdxPcfGmkmEMuDRtGBekiZf51fwvE...</td>\n",
       "      <td>0</td>\n",
       "      <td>0</td>\n",
       "      <td>5000</td>\n",
       "      <td>67886</td>\n",
       "    </tr>\n",
       "  </tbody>\n",
       "</table>\n",
       "</div>"
      ],
      "text/plain": [
       "            block_time       slot  tx_idx  \\\n",
       "0  2025-02-28 11:00:16  323711058    1296   \n",
       "1  2025-02-28 11:00:16  323711059     718   \n",
       "2  2025-02-28 11:00:16  323711059    1311   \n",
       "3  2025-02-28 11:00:16  323711059     393   \n",
       "4  2025-02-28 11:00:16  323711059     396   \n",
       "\n",
       "                                 signing_wallet direction  \\\n",
       "0  7hVj4WXJCCK52VhpGrVV4Pfwyps9P64f4kdeWgcTwfnj       buy   \n",
       "1  6XiwTExDHAGhxp2Mex6icXYwiyUHgfTjYutrr3bRcgEf       buy   \n",
       "2  FtcH8GXx5ATLvWE3kVBvpEErQXCPP4m5fDTyg1GM1nHc       buy   \n",
       "3   avAtiJAzAJv8dhMC6GLjW3FpJ1wY7aNegaxE9q4H5h5       buy   \n",
       "4  7tMoEadQnH3iaU7yR5TVEKfne8aSyfiitkKE88Jzaz8i       buy   \n",
       "\n",
       "                                      base_coin  base_coin_amount  \\\n",
       "0  J8QR88GiYp74oBbJByz3Jekmz4Gh2DQS2sk2ckeMpump     3494424123858   \n",
       "1  28TJ8C9ZTCKq3K63Urta9WwNmXAnevaTrcw1ciHVpump     1785430932050   \n",
       "2  28TJ8C9ZTCKq3K63Urta9WwNmXAnevaTrcw1ciHVpump      242290322581   \n",
       "3   9oASc6yBTZG1pZeDRAuSQDGe1h6f6Q9VwdnQNqc6JTG     1200000000000   \n",
       "4   9oASc6yBTZG1pZeDRAuSQDGe1h6f6Q9VwdnQNqc6JTG      714809123297   \n",
       "\n",
       "   quote_coin_amount  virtual_token_balance_after  virtual_sol_balance_after  \\\n",
       "0          100987399             1053648433019000                30550987399   \n",
       "1           56792203             1005083777764309                32027180931   \n",
       "2            7722488             1004841487441728                32034903419   \n",
       "3           33588357             1071800000000000                30033588358   \n",
       "4           20043488             1071085190876703                30053631846   \n",
       "\n",
       "                                           signature  provided_gas_fee  \\\n",
       "0  4xvsRs8NtBUuEYboid4EpsZsqiAM6E9dQt9tBYkHxhmRzB...           1000000   \n",
       "1  5Yxc8Pvku3Udyp948uW8WbL5uKnsEQ9kyKNiFAhEJBnDPC...          22058824   \n",
       "2  4QKFnwrtLfEz7TPVYe6FiVdQWyHWUD7A78q3ePELHVyHLS...            125000   \n",
       "3  668t2QNPbajyXrhHbu1Z1hkT6c2ejetsavVxLdkHHxcZBV...              6700   \n",
       "4  4Dw7CCpzat6pVpR7uXdxPcfGmkmEMuDRtGBekiZf51fwvE...                 0   \n",
       "\n",
       "   provided_gas_limit      fee  consumed_gas  \n",
       "0              100000   105000         57686  \n",
       "1               68000  1505001         59336  \n",
       "2              200000    30000         63724  \n",
       "3               80000     5536         66914  \n",
       "4                   0     5000         67886  "
      ]
     },
     "execution_count": 4,
     "metadata": {},
     "output_type": "execute_result"
    }
   ],
   "source": [
    "transactions_df.head()"
   ]
  },
  {
   "cell_type": "code",
   "execution_count": 5,
   "id": "7c6f4ce9",
   "metadata": {
    "execution": {
     "iopub.execute_input": "2025-04-17T11:19:09.016843Z",
     "iopub.status.busy": "2025-04-17T11:19:09.016644Z",
     "iopub.status.idle": "2025-04-17T11:19:25.125818Z",
     "shell.execute_reply": "2025-04-17T11:19:25.124943Z"
    },
    "papermill": {
     "duration": 16.116172,
     "end_time": "2025-04-17T11:19:25.127081",
     "exception": false,
     "start_time": "2025-04-17T11:19:09.010909",
     "status": "completed"
    },
    "tags": []
   },
   "outputs": [
    {
     "name": "stdout",
     "output_type": "stream",
     "text": [
      "Merging data...\n"
     ]
    },
    {
     "name": "stderr",
     "output_type": "stream",
     "text": [
      "/usr/local/lib/python3.11/dist-packages/pandas/core/computation/expressions.py:73: RuntimeWarning: invalid value encountered in less_equal\n",
      "  return op(a, b)\n"
     ]
    },
    {
     "data": {
      "text/plain": [
       "Index(['block_time', 'slot', 'tx_idx', 'signing_wallet', 'direction',\n",
       "       'base_coin', 'base_coin_amount', 'quote_coin_amount',\n",
       "       'virtual_token_balance_after', 'virtual_sol_balance_after', 'signature',\n",
       "       'provided_gas_fee', 'provided_gas_limit', 'fee', 'consumed_gas', 'mint',\n",
       "       'slot_min'],\n",
       "      dtype='object')"
      ]
     },
     "execution_count": 5,
     "metadata": {},
     "output_type": "execute_result"
    }
   ],
   "source": [
    "# Convert timestamps/slots for filtering\n",
    "transactions_df['block_time'] = pd.to_datetime(transactions_df['block_time'], errors='coerce')\n",
    "# Ensure slot is numeric\n",
    "transactions_df['slot'] = pd.to_numeric(transactions_df['slot'], errors='coerce')\n",
    "combined_df['slot_min'] = pd.to_numeric(combined_df['slot_min'], errors='coerce')\n",
    "\n",
    "# --- 2. Data Merging and Preprocessing ---\n",
    "print(\"Merging data...\")\n",
    "\n",
    "# Merge token creation info (slot_min) with transactions\n",
    "transactions_df = pd.merge(\n",
    "    transactions_df,\n",
    "    combined_df[[MINT_ID, 'slot_min']],\n",
    "    left_on='base_coin', # Assuming base_coin is the token mint address\n",
    "    right_on=MINT_ID,\n",
    "    how='left'\n",
    ")\n",
    "\n",
    "# !!! Crucial Filter: Only keep transactions within the first 100 blocks !!!\n",
    "transactions_df = transactions_df[\n",
    "    transactions_df['slot'] <= transactions_df['slot_min'] + BLOCK_LIMIT\n",
    "    ]\n",
    "transactions_df.columns"
   ]
  },
  {
   "cell_type": "code",
   "execution_count": 6,
   "id": "2b217ca2",
   "metadata": {
    "execution": {
     "iopub.execute_input": "2025-04-17T11:19:25.136743Z",
     "iopub.status.busy": "2025-04-17T11:19:25.136484Z",
     "iopub.status.idle": "2025-04-17T11:19:36.398033Z",
     "shell.execute_reply": "2025-04-17T11:19:36.397370Z"
    },
    "papermill": {
     "duration": 11.267552,
     "end_time": "2025-04-17T11:19:36.399149",
     "exception": false,
     "start_time": "2025-04-17T11:19:25.131597",
     "status": "completed"
    },
    "tags": []
   },
   "outputs": [
    {
     "data": {
      "text/plain": [
       "(Index(['mint', 'decimals', 'name', 'symbol', 'token_uri', 'created_at',\n",
       "        'init_tx'],\n",
       "       dtype='object'),\n",
       " Index(['mint', 'creator', 'bundle_size', 'gas_used'], dtype='object'))"
      ]
     },
     "execution_count": 6,
     "metadata": {},
     "output_type": "execute_result"
    }
   ],
   "source": [
    "# Rename columns for clarity before merging metadata\n",
    "dune_info_df = dune_info_df.rename(columns={'token_mint_address': MINT_ID})\n",
    "# Select relevant columns and handle potential duplicates (keep first)\n",
    "dune_info_df = dune_info_df[[MINT_ID, 'decimals', 'name', 'symbol', 'token_uri', 'created_at', 'init_tx']].drop_duplicates(subset=[MINT_ID], keep='first')\n",
    "dune_info_df['created_at'] = pd.to_datetime(dune_info_df['created_at'], errors='coerce')\n",
    "\n",
    "onchain_info_df = onchain_info_df.rename(columns={'mint': MINT_ID})\n",
    "# Select relevant columns and handle potential duplicates (keep first)\n",
    "onchain_info_df = onchain_info_df[[MINT_ID, 'creator', 'bundle_size', 'gas_used']].drop_duplicates(subset=[MINT_ID], keep='first')\n",
    "# Ensure numeric types\n",
    "onchain_info_df['bundle_size'] = pd.to_numeric(onchain_info_df['bundle_size'], errors='coerce').fillna(0) # Assume NaN means not bundled (or size 1?) - check data desc\n",
    "onchain_info_df['gas_used'] = pd.to_numeric(onchain_info_df['gas_used'], errors='coerce')\n",
    "\n",
    "dune_info_df.columns, onchain_info_df.columns\n"
   ]
  },
  {
   "cell_type": "code",
   "execution_count": 7,
   "id": "a401f3fb",
   "metadata": {
    "execution": {
     "iopub.execute_input": "2025-04-17T11:19:36.409014Z",
     "iopub.status.busy": "2025-04-17T11:19:36.408615Z",
     "iopub.status.idle": "2025-04-17T11:19:39.556746Z",
     "shell.execute_reply": "2025-04-17T11:19:39.556029Z"
    },
    "papermill": {
     "duration": 3.1544,
     "end_time": "2025-04-17T11:19:39.558013",
     "exception": false,
     "start_time": "2025-04-17T11:19:36.403613",
     "status": "completed"
    },
    "tags": []
   },
   "outputs": [
    {
     "data": {
      "text/plain": [
       "Index(['Unnamed: 0', 'mint', 'slot_min', 'slot_graduated', 'has_graduated',\n",
       "       'is_valid', 'is_train', 'decimals', 'name', 'symbol', 'token_uri',\n",
       "       'created_at', 'init_tx', 'creator', 'bundle_size', 'gas_used'],\n",
       "      dtype='object')"
      ]
     },
     "execution_count": 7,
     "metadata": {},
     "output_type": "execute_result"
    }
   ],
   "source": [
    "# Merge metadata into the combined train/test dataframe\n",
    "combined_df = pd.merge(combined_df, dune_info_df, on=MINT_ID, how='left')\n",
    "combined_df = pd.merge(combined_df, onchain_info_df, on=MINT_ID, how='left')\n",
    "combined_df.columns"
   ]
  },
  {
   "cell_type": "code",
   "execution_count": 8,
   "id": "3fd2098a",
   "metadata": {
    "execution": {
     "iopub.execute_input": "2025-04-17T11:19:39.568479Z",
     "iopub.status.busy": "2025-04-17T11:19:39.567850Z",
     "iopub.status.idle": "2025-04-17T11:19:40.164742Z",
     "shell.execute_reply": "2025-04-17T11:19:40.164100Z"
    },
    "papermill": {
     "duration": 0.603156,
     "end_time": "2025-04-17T11:19:40.165970",
     "exception": false,
     "start_time": "2025-04-17T11:19:39.562814",
     "status": "completed"
    },
    "tags": []
   },
   "outputs": [
    {
     "name": "stdout",
     "output_type": "stream",
     "text": [
      "Basic EDA (Conceptual):\n",
      "Train shape: (639557, 7)\n",
      "Test shape: (478832, 5)\n",
      "Transactions shape (first 100 blocks): (16712389, 17)\n",
      "Combined shape before features: (1118389, 16)\n",
      "\n",
      "Missing values in combined metadata:\n"
     ]
    },
    {
     "data": {
      "text/plain": [
       "Unnamed: 0        0.000000\n",
       "mint              0.000000\n",
       "slot_min          0.000000\n",
       "slot_graduated    0.993380\n",
       "has_graduated     0.428144\n",
       "is_valid          0.000000\n",
       "is_train          0.000000\n",
       "decimals          0.208081\n",
       "name              0.208302\n",
       "symbol            0.208477\n",
       "token_uri         0.208088\n",
       "created_at        0.208081\n",
       "init_tx           0.208081\n",
       "creator           0.557353\n",
       "bundle_size       0.557353\n",
       "gas_used          0.557353\n",
       "dtype: float64"
      ]
     },
     "execution_count": 8,
     "metadata": {},
     "output_type": "execute_result"
    }
   ],
   "source": [
    "# --- 3. Exploratory Data Analysis (Conceptual) ---\n",
    "print(\"Basic EDA (Conceptual):\")\n",
    "print(f\"Train shape: {train_df.shape}\")\n",
    "print(f\"Test shape: {test_df.shape}\")\n",
    "print(f\"Transactions shape (first 100 blocks): {transactions_df.shape}\")\n",
    "print(f\"Combined shape before features: {combined_df.shape}\")\n",
    "\n",
    "# Check missing values in combined metadata\n",
    "print(\"\\nMissing values in combined metadata:\")\n",
    "combined_df.isnull().sum() / len(combined_df)\n"
   ]
  },
  {
   "cell_type": "code",
   "execution_count": 9,
   "id": "16c03555",
   "metadata": {
    "execution": {
     "iopub.execute_input": "2025-04-17T11:19:40.177461Z",
     "iopub.status.busy": "2025-04-17T11:19:40.177196Z",
     "iopub.status.idle": "2025-04-17T11:19:40.222689Z",
     "shell.execute_reply": "2025-04-17T11:19:40.221894Z"
    },
    "papermill": {
     "duration": 0.052056,
     "end_time": "2025-04-17T11:19:40.223845",
     "exception": false,
     "start_time": "2025-04-17T11:19:40.171789",
     "status": "completed"
    },
    "tags": []
   },
   "outputs": [
    {
     "name": "stdout",
     "output_type": "stream",
     "text": [
      "\n",
      "Target Distribution:\n",
      "has_graduated\n",
      "False    0.988423\n",
      "True     0.011577\n",
      "Name: proportion, dtype: float64\n"
     ]
    }
   ],
   "source": [
    "# Check target distribution\n",
    "print(\"\\nTarget Distribution:\")\n",
    "print(combined_df[TARGET].value_counts(normalize=True))"
   ]
  },
  {
   "cell_type": "code",
   "execution_count": 10,
   "id": "47f1e473",
   "metadata": {
    "execution": {
     "iopub.execute_input": "2025-04-17T11:19:40.233760Z",
     "iopub.status.busy": "2025-04-17T11:19:40.233560Z",
     "iopub.status.idle": "2025-04-17T11:19:40.246356Z",
     "shell.execute_reply": "2025-04-17T11:19:40.245446Z"
    },
    "papermill": {
     "duration": 0.019246,
     "end_time": "2025-04-17T11:19:40.247635",
     "exception": false,
     "start_time": "2025-04-17T11:19:40.228389",
     "status": "completed"
    },
    "tags": []
   },
   "outputs": [
    {
     "name": "stdout",
     "output_type": "stream",
     "text": [
      "\n",
      "Transaction Data Info:\n",
      "<class 'pandas.core.frame.DataFrame'>\n",
      "Index: 16712389 entries, 0 to 17033441\n",
      "Data columns (total 17 columns):\n",
      " #   Column                       Dtype         \n",
      "---  ------                       -----         \n",
      " 0   block_time                   datetime64[ns]\n",
      " 1   slot                         int64         \n",
      " 2   tx_idx                       int64         \n",
      " 3   signing_wallet               object        \n",
      " 4   direction                    object        \n",
      " 5   base_coin                    object        \n",
      " 6   base_coin_amount             int64         \n",
      " 7   quote_coin_amount            int64         \n",
      " 8   virtual_token_balance_after  int64         \n",
      " 9   virtual_sol_balance_after    int64         \n",
      " 10  signature                    object        \n",
      " 11  provided_gas_fee             int64         \n",
      " 12  provided_gas_limit           int64         \n",
      " 13  fee                          int64         \n",
      " 14  consumed_gas                 int64         \n",
      " 15  mint                         object        \n",
      " 16  slot_min                     float64       \n",
      "dtypes: datetime64[ns](1), float64(1), int64(10), object(5)\n",
      "memory usage: 2.2+ GB\n"
     ]
    }
   ],
   "source": [
    "# Basic checks on transaction data\n",
    "print(\"\\nTransaction Data Info:\")\n",
    "transactions_df.info()\n"
   ]
  },
  {
   "cell_type": "code",
   "execution_count": 11,
   "id": "376b2b4b",
   "metadata": {
    "execution": {
     "iopub.execute_input": "2025-04-17T11:19:40.258594Z",
     "iopub.status.busy": "2025-04-17T11:19:40.258338Z",
     "iopub.status.idle": "2025-04-17T11:19:40.270920Z",
     "shell.execute_reply": "2025-04-17T11:19:40.270215Z"
    },
    "papermill": {
     "duration": 0.019082,
     "end_time": "2025-04-17T11:19:40.271970",
     "exception": false,
     "start_time": "2025-04-17T11:19:40.252888",
     "status": "completed"
    },
    "tags": []
   },
   "outputs": [
    {
     "name": "stdout",
     "output_type": "stream",
     "text": [
      "\n",
      "Sample Transactions:\n"
     ]
    },
    {
     "data": {
      "text/html": [
       "<div>\n",
       "<style scoped>\n",
       "    .dataframe tbody tr th:only-of-type {\n",
       "        vertical-align: middle;\n",
       "    }\n",
       "\n",
       "    .dataframe tbody tr th {\n",
       "        vertical-align: top;\n",
       "    }\n",
       "\n",
       "    .dataframe thead th {\n",
       "        text-align: right;\n",
       "    }\n",
       "</style>\n",
       "<table border=\"1\" class=\"dataframe\">\n",
       "  <thead>\n",
       "    <tr style=\"text-align: right;\">\n",
       "      <th></th>\n",
       "      <th>block_time</th>\n",
       "      <th>slot</th>\n",
       "      <th>tx_idx</th>\n",
       "      <th>signing_wallet</th>\n",
       "      <th>direction</th>\n",
       "      <th>base_coin</th>\n",
       "      <th>base_coin_amount</th>\n",
       "      <th>quote_coin_amount</th>\n",
       "      <th>virtual_token_balance_after</th>\n",
       "      <th>virtual_sol_balance_after</th>\n",
       "      <th>signature</th>\n",
       "      <th>provided_gas_fee</th>\n",
       "      <th>provided_gas_limit</th>\n",
       "      <th>fee</th>\n",
       "      <th>consumed_gas</th>\n",
       "      <th>mint</th>\n",
       "      <th>slot_min</th>\n",
       "    </tr>\n",
       "  </thead>\n",
       "  <tbody>\n",
       "    <tr>\n",
       "      <th>0</th>\n",
       "      <td>2025-02-28 11:00:16</td>\n",
       "      <td>323711058</td>\n",
       "      <td>1296</td>\n",
       "      <td>7hVj4WXJCCK52VhpGrVV4Pfwyps9P64f4kdeWgcTwfnj</td>\n",
       "      <td>buy</td>\n",
       "      <td>J8QR88GiYp74oBbJByz3Jekmz4Gh2DQS2sk2ckeMpump</td>\n",
       "      <td>3494424123858</td>\n",
       "      <td>100987399</td>\n",
       "      <td>1053648433019000</td>\n",
       "      <td>30550987399</td>\n",
       "      <td>4xvsRs8NtBUuEYboid4EpsZsqiAM6E9dQt9tBYkHxhmRzB...</td>\n",
       "      <td>1000000</td>\n",
       "      <td>100000</td>\n",
       "      <td>105000</td>\n",
       "      <td>57686</td>\n",
       "      <td>J8QR88GiYp74oBbJByz3Jekmz4Gh2DQS2sk2ckeMpump</td>\n",
       "      <td>323711056.0</td>\n",
       "    </tr>\n",
       "    <tr>\n",
       "      <th>1</th>\n",
       "      <td>2025-02-28 11:00:16</td>\n",
       "      <td>323711059</td>\n",
       "      <td>718</td>\n",
       "      <td>6XiwTExDHAGhxp2Mex6icXYwiyUHgfTjYutrr3bRcgEf</td>\n",
       "      <td>buy</td>\n",
       "      <td>28TJ8C9ZTCKq3K63Urta9WwNmXAnevaTrcw1ciHVpump</td>\n",
       "      <td>1785430932050</td>\n",
       "      <td>56792203</td>\n",
       "      <td>1005083777764309</td>\n",
       "      <td>32027180931</td>\n",
       "      <td>5Yxc8Pvku3Udyp948uW8WbL5uKnsEQ9kyKNiFAhEJBnDPC...</td>\n",
       "      <td>22058824</td>\n",
       "      <td>68000</td>\n",
       "      <td>1505001</td>\n",
       "      <td>59336</td>\n",
       "      <td>28TJ8C9ZTCKq3K63Urta9WwNmXAnevaTrcw1ciHVpump</td>\n",
       "      <td>323711055.0</td>\n",
       "    </tr>\n",
       "    <tr>\n",
       "      <th>2</th>\n",
       "      <td>2025-02-28 11:00:16</td>\n",
       "      <td>323711059</td>\n",
       "      <td>1311</td>\n",
       "      <td>FtcH8GXx5ATLvWE3kVBvpEErQXCPP4m5fDTyg1GM1nHc</td>\n",
       "      <td>buy</td>\n",
       "      <td>28TJ8C9ZTCKq3K63Urta9WwNmXAnevaTrcw1ciHVpump</td>\n",
       "      <td>242290322581</td>\n",
       "      <td>7722488</td>\n",
       "      <td>1004841487441728</td>\n",
       "      <td>32034903419</td>\n",
       "      <td>4QKFnwrtLfEz7TPVYe6FiVdQWyHWUD7A78q3ePELHVyHLS...</td>\n",
       "      <td>125000</td>\n",
       "      <td>200000</td>\n",
       "      <td>30000</td>\n",
       "      <td>63724</td>\n",
       "      <td>28TJ8C9ZTCKq3K63Urta9WwNmXAnevaTrcw1ciHVpump</td>\n",
       "      <td>323711055.0</td>\n",
       "    </tr>\n",
       "    <tr>\n",
       "      <th>3</th>\n",
       "      <td>2025-02-28 11:00:16</td>\n",
       "      <td>323711059</td>\n",
       "      <td>393</td>\n",
       "      <td>avAtiJAzAJv8dhMC6GLjW3FpJ1wY7aNegaxE9q4H5h5</td>\n",
       "      <td>buy</td>\n",
       "      <td>9oASc6yBTZG1pZeDRAuSQDGe1h6f6Q9VwdnQNqc6JTG</td>\n",
       "      <td>1200000000000</td>\n",
       "      <td>33588357</td>\n",
       "      <td>1071800000000000</td>\n",
       "      <td>30033588358</td>\n",
       "      <td>668t2QNPbajyXrhHbu1Z1hkT6c2ejetsavVxLdkHHxcZBV...</td>\n",
       "      <td>6700</td>\n",
       "      <td>80000</td>\n",
       "      <td>5536</td>\n",
       "      <td>66914</td>\n",
       "      <td>9oASc6yBTZG1pZeDRAuSQDGe1h6f6Q9VwdnQNqc6JTG</td>\n",
       "      <td>323711032.0</td>\n",
       "    </tr>\n",
       "    <tr>\n",
       "      <th>4</th>\n",
       "      <td>2025-02-28 11:00:16</td>\n",
       "      <td>323711059</td>\n",
       "      <td>396</td>\n",
       "      <td>7tMoEadQnH3iaU7yR5TVEKfne8aSyfiitkKE88Jzaz8i</td>\n",
       "      <td>buy</td>\n",
       "      <td>9oASc6yBTZG1pZeDRAuSQDGe1h6f6Q9VwdnQNqc6JTG</td>\n",
       "      <td>714809123297</td>\n",
       "      <td>20043488</td>\n",
       "      <td>1071085190876703</td>\n",
       "      <td>30053631846</td>\n",
       "      <td>4Dw7CCpzat6pVpR7uXdxPcfGmkmEMuDRtGBekiZf51fwvE...</td>\n",
       "      <td>0</td>\n",
       "      <td>0</td>\n",
       "      <td>5000</td>\n",
       "      <td>67886</td>\n",
       "      <td>9oASc6yBTZG1pZeDRAuSQDGe1h6f6Q9VwdnQNqc6JTG</td>\n",
       "      <td>323711032.0</td>\n",
       "    </tr>\n",
       "  </tbody>\n",
       "</table>\n",
       "</div>"
      ],
      "text/plain": [
       "           block_time       slot  tx_idx  \\\n",
       "0 2025-02-28 11:00:16  323711058    1296   \n",
       "1 2025-02-28 11:00:16  323711059     718   \n",
       "2 2025-02-28 11:00:16  323711059    1311   \n",
       "3 2025-02-28 11:00:16  323711059     393   \n",
       "4 2025-02-28 11:00:16  323711059     396   \n",
       "\n",
       "                                 signing_wallet direction  \\\n",
       "0  7hVj4WXJCCK52VhpGrVV4Pfwyps9P64f4kdeWgcTwfnj       buy   \n",
       "1  6XiwTExDHAGhxp2Mex6icXYwiyUHgfTjYutrr3bRcgEf       buy   \n",
       "2  FtcH8GXx5ATLvWE3kVBvpEErQXCPP4m5fDTyg1GM1nHc       buy   \n",
       "3   avAtiJAzAJv8dhMC6GLjW3FpJ1wY7aNegaxE9q4H5h5       buy   \n",
       "4  7tMoEadQnH3iaU7yR5TVEKfne8aSyfiitkKE88Jzaz8i       buy   \n",
       "\n",
       "                                      base_coin  base_coin_amount  \\\n",
       "0  J8QR88GiYp74oBbJByz3Jekmz4Gh2DQS2sk2ckeMpump     3494424123858   \n",
       "1  28TJ8C9ZTCKq3K63Urta9WwNmXAnevaTrcw1ciHVpump     1785430932050   \n",
       "2  28TJ8C9ZTCKq3K63Urta9WwNmXAnevaTrcw1ciHVpump      242290322581   \n",
       "3   9oASc6yBTZG1pZeDRAuSQDGe1h6f6Q9VwdnQNqc6JTG     1200000000000   \n",
       "4   9oASc6yBTZG1pZeDRAuSQDGe1h6f6Q9VwdnQNqc6JTG      714809123297   \n",
       "\n",
       "   quote_coin_amount  virtual_token_balance_after  virtual_sol_balance_after  \\\n",
       "0          100987399             1053648433019000                30550987399   \n",
       "1           56792203             1005083777764309                32027180931   \n",
       "2            7722488             1004841487441728                32034903419   \n",
       "3           33588357             1071800000000000                30033588358   \n",
       "4           20043488             1071085190876703                30053631846   \n",
       "\n",
       "                                           signature  provided_gas_fee  \\\n",
       "0  4xvsRs8NtBUuEYboid4EpsZsqiAM6E9dQt9tBYkHxhmRzB...           1000000   \n",
       "1  5Yxc8Pvku3Udyp948uW8WbL5uKnsEQ9kyKNiFAhEJBnDPC...          22058824   \n",
       "2  4QKFnwrtLfEz7TPVYe6FiVdQWyHWUD7A78q3ePELHVyHLS...            125000   \n",
       "3  668t2QNPbajyXrhHbu1Z1hkT6c2ejetsavVxLdkHHxcZBV...              6700   \n",
       "4  4Dw7CCpzat6pVpR7uXdxPcfGmkmEMuDRtGBekiZf51fwvE...                 0   \n",
       "\n",
       "   provided_gas_limit      fee  consumed_gas  \\\n",
       "0              100000   105000         57686   \n",
       "1               68000  1505001         59336   \n",
       "2              200000    30000         63724   \n",
       "3               80000     5536         66914   \n",
       "4                   0     5000         67886   \n",
       "\n",
       "                                           mint     slot_min  \n",
       "0  J8QR88GiYp74oBbJByz3Jekmz4Gh2DQS2sk2ckeMpump  323711056.0  \n",
       "1  28TJ8C9ZTCKq3K63Urta9WwNmXAnevaTrcw1ciHVpump  323711055.0  \n",
       "2  28TJ8C9ZTCKq3K63Urta9WwNmXAnevaTrcw1ciHVpump  323711055.0  \n",
       "3   9oASc6yBTZG1pZeDRAuSQDGe1h6f6Q9VwdnQNqc6JTG  323711032.0  \n",
       "4   9oASc6yBTZG1pZeDRAuSQDGe1h6f6Q9VwdnQNqc6JTG  323711032.0  "
      ]
     },
     "execution_count": 11,
     "metadata": {},
     "output_type": "execute_result"
    }
   ],
   "source": [
    "print(\"\\nSample Transactions:\")\n",
    "transactions_df.head()"
   ]
  },
  {
   "cell_type": "code",
   "execution_count": 12,
   "id": "7ad7da41",
   "metadata": {
    "execution": {
     "iopub.execute_input": "2025-04-17T11:19:40.282094Z",
     "iopub.status.busy": "2025-04-17T11:19:40.281908Z",
     "iopub.status.idle": "2025-04-17T11:19:58.803287Z",
     "shell.execute_reply": "2025-04-17T11:19:58.802708Z"
    },
    "papermill": {
     "duration": 18.528179,
     "end_time": "2025-04-17T11:19:58.804816",
     "exception": false,
     "start_time": "2025-04-17T11:19:40.276637",
     "status": "completed"
    },
    "tags": []
   },
   "outputs": [
    {
     "name": "stdout",
     "output_type": "stream",
     "text": [
      "Starting Feature Engineering...\n"
     ]
    }
   ],
   "source": [
    "# --- 4. Feature Engineering ---\n",
    "print(\"Starting Feature Engineering...\")\n",
    "\n",
    "# Group transactions by token mint\n",
    "grouped_tx = transactions_df.groupby('base_coin') # Group by the token's mint address\n",
    "\n",
    "# Aggregation dictionary\n",
    "agg_funcs = {\n",
    "    'tx_idx': ['count'], # Total transactions\n",
    "    'block_time': ['min', 'max'], # First and last transaction time\n",
    "    'slot': ['min', 'max', 'nunique'], # First, last, and number of unique blocks with activity\n",
    "    'signing_wallet': ['nunique'], # Number of unique traders\n",
    "    'quote_coin_amount': ['sum', 'mean', 'std', 'max'], # SOL volume stats\n",
    "    'base_coin_amount': ['sum', 'mean', 'std', 'max'], # Token volume stats\n",
    "    'virtual_sol_balance_after': ['last', 'max', 'min', 'mean', 'std'], # SOL balance proxy\n",
    "    'virtual_token_balance_after': ['last', 'max', 'min', 'mean', 'std'] # Token balance proxy\n",
    "}\n",
    "\n",
    "# Perform aggregation\n",
    "agg_features = grouped_tx.agg(agg_funcs)\n",
    "agg_features.columns = ['_'.join(col).strip() for col in agg_features.columns.values] # Flatten multi-index\n",
    "agg_features = agg_features.reset_index().rename(columns={'base_coin': MINT_ID})\n"
   ]
  },
  {
   "cell_type": "code",
   "execution_count": 13,
   "id": "bcbfe677",
   "metadata": {
    "execution": {
     "iopub.execute_input": "2025-04-17T11:19:58.816949Z",
     "iopub.status.busy": "2025-04-17T11:19:58.816697Z",
     "iopub.status.idle": "2025-04-17T11:20:16.816897Z",
     "shell.execute_reply": "2025-04-17T11:20:16.816023Z"
    },
    "papermill": {
     "duration": 18.007368,
     "end_time": "2025-04-17T11:20:16.818233",
     "exception": false,
     "start_time": "2025-04-17T11:19:58.810865",
     "status": "completed"
    },
    "tags": []
   },
   "outputs": [
    {
     "data": {
      "text/plain": [
       "(Index(['mint', 'buy_tx_idx_count', 'buy_signing_wallet_nunique',\n",
       "        'buy_quote_coin_amount_sum', 'buy_quote_coin_amount_mean',\n",
       "        'buy_quote_coin_amount_max', 'buy_base_coin_amount_sum',\n",
       "        'buy_base_coin_amount_mean', 'buy_base_coin_amount_max'],\n",
       "       dtype='object'),\n",
       " Index(['mint', 'sell_tx_idx_count', 'sell_signing_wallet_nunique',\n",
       "        'sell_quote_coin_amount_sum', 'sell_quote_coin_amount_mean',\n",
       "        'sell_quote_coin_amount_max', 'sell_base_coin_amount_sum',\n",
       "        'sell_base_coin_amount_mean', 'sell_base_coin_amount_max'],\n",
       "       dtype='object'))"
      ]
     },
     "execution_count": 13,
     "metadata": {},
     "output_type": "execute_result"
    }
   ],
   "source": [
    "# --- Buy/Sell specific features ---\n",
    "buy_tx = transactions_df[transactions_df['direction'] == 'buy']\n",
    "sell_tx = transactions_df[transactions_df['direction'] == 'sell']\n",
    "\n",
    "grouped_buy = buy_tx.groupby('base_coin')\n",
    "grouped_sell = sell_tx.groupby('base_coin')\n",
    "\n",
    "buy_agg = grouped_buy.agg({\n",
    "    'tx_idx': ['count'],\n",
    "    'signing_wallet': ['nunique'],\n",
    "    'quote_coin_amount': ['sum', 'mean', 'max'],\n",
    "    'base_coin_amount': ['sum', 'mean', 'max'],\n",
    "}).reset_index()\n",
    "buy_agg.columns = [MINT_ID] + ['buy_' + '_'.join(col).strip() for col in buy_agg.columns[1:]]\n",
    "\n",
    "sell_agg = grouped_sell.agg({\n",
    "    'tx_idx': ['count'],\n",
    "    'signing_wallet': ['nunique'],\n",
    "    'quote_coin_amount': ['sum', 'mean', 'max'],\n",
    "    'base_coin_amount': ['sum', 'mean', 'max'],\n",
    "}).reset_index()\n",
    "sell_agg.columns = [MINT_ID] + ['sell_' + '_'.join(col).strip() for col in sell_agg.columns[1:]]\n",
    "\n",
    "buy_agg.columns, sell_agg.columns,"
   ]
  },
  {
   "cell_type": "code",
   "execution_count": 14,
   "id": "593386e8",
   "metadata": {
    "execution": {
     "iopub.execute_input": "2025-04-17T11:20:16.830176Z",
     "iopub.status.busy": "2025-04-17T11:20:16.829751Z",
     "iopub.status.idle": "2025-04-17T11:20:22.708152Z",
     "shell.execute_reply": "2025-04-17T11:20:22.707583Z"
    },
    "papermill": {
     "duration": 5.885298,
     "end_time": "2025-04-17T11:20:22.709468",
     "exception": false,
     "start_time": "2025-04-17T11:20:16.824170",
     "status": "completed"
    },
    "tags": []
   },
   "outputs": [
    {
     "name": "stdout",
     "output_type": "stream",
     "text": [
      "Merging aggregated features...\n"
     ]
    }
   ],
   "source": [
    "print(\"Merging aggregated features...\")\n",
    "\n",
    "combined_df = pd.merge(combined_df, agg_features[[c for c in agg_features.columns if c != 'slot_min']], on=MINT_ID, how='left')\n",
    "\n",
    "# --- Merge Buy/Sell specific features --- # Add prints here too if needed\n",
    "combined_df = pd.merge(combined_df, buy_agg, on=MINT_ID, how='left')\n",
    "\n",
    "combined_df = pd.merge(combined_df, sell_agg, on=MINT_ID, how='left')\n"
   ]
  },
  {
   "cell_type": "code",
   "execution_count": 15,
   "id": "3a289462",
   "metadata": {
    "execution": {
     "iopub.execute_input": "2025-04-17T11:20:22.720669Z",
     "iopub.status.busy": "2025-04-17T11:20:22.720433Z",
     "iopub.status.idle": "2025-04-17T11:20:22.769394Z",
     "shell.execute_reply": "2025-04-17T11:20:22.768578Z"
    },
    "papermill": {
     "duration": 0.056118,
     "end_time": "2025-04-17T11:20:22.770759",
     "exception": false,
     "start_time": "2025-04-17T11:20:22.714641",
     "status": "completed"
    },
    "tags": []
   },
   "outputs": [
    {
     "name": "stdout",
     "output_type": "stream",
     "text": [
      "Calculating derived features...\n"
     ]
    }
   ],
   "source": [
    "# --- Derived Features ---\n",
    "print(\"Calculating derived features...\")\n",
    "\n",
    "# --- Check if the required columns exist before calculation ---\n",
    "required_cols_for_duration = ['block_time_max', 'block_time_min', 'slot_max', 'slot_min', 'tx_idx_count', 'slot_nunique']\n",
    "\n",
    "# Time-based features\n",
    "combined_df['tx_duration_seconds'] = (combined_df['block_time_max'] - combined_df['block_time_min']).dt.total_seconds()\n",
    "# Use the slot_min and slot_max derived from the transaction aggregation\n",
    "combined_df['tx_duration_slots'] = combined_df['slot_max'] - combined_df['slot_min']\n",
    "combined_df['avg_time_between_tx'] = combined_df['tx_duration_seconds'] / (combined_df['tx_idx_count'] + 1e-6) # Avoid division by zero for tokens with 0 tx\n",
    "combined_df['tx_per_slot'] = combined_df['tx_idx_count'] / (combined_df['slot_nunique'] + 1e-6) # Avoid division by zero\n"
   ]
  },
  {
   "cell_type": "code",
   "execution_count": 16,
   "id": "33fc4d59",
   "metadata": {
    "execution": {
     "iopub.execute_input": "2025-04-17T11:20:22.783564Z",
     "iopub.status.busy": "2025-04-17T11:20:22.783310Z",
     "iopub.status.idle": "2025-04-17T11:20:22.808223Z",
     "shell.execute_reply": "2025-04-17T11:20:22.807283Z"
    },
    "papermill": {
     "duration": 0.03265,
     "end_time": "2025-04-17T11:20:22.809932",
     "exception": false,
     "start_time": "2025-04-17T11:20:22.777282",
     "status": "completed"
    },
    "tags": []
   },
   "outputs": [],
   "source": [
    "# Ratio features (ensure denominators are checked)\n",
    "required_cols_for_ratios = [\n",
    "    'buy_tx_idx_count', 'sell_tx_idx_count',\n",
    "    'buy_quote_coin_amount_sum', 'sell_quote_coin_amount_sum',\n",
    "    'buy_signing_wallet_nunique', 'sell_signing_wallet_nunique', 'signing_wallet_nunique'\n",
    "]\n",
    "\n",
    "combined_df['buy_sell_count_ratio'] = combined_df['buy_tx_idx_count'] / (combined_df['sell_tx_idx_count'] + 1e-6)\n",
    "combined_df['buy_sell_vol_ratio'] = combined_df['buy_quote_coin_amount_sum'] / (combined_df['sell_quote_coin_amount_sum'] + 1e-6)\n",
    "combined_df['unique_buyer_ratio'] = combined_df['buy_signing_wallet_nunique'] / (combined_df['signing_wallet_nunique'] + 1e-6)\n",
    "combined_df['unique_seller_ratio'] = combined_df['sell_signing_wallet_nunique'] / (combined_df['signing_wallet_nunique'] + 1e-6)\n"
   ]
  },
  {
   "cell_type": "code",
   "execution_count": 17,
   "id": "4b4ce95e",
   "metadata": {
    "execution": {
     "iopub.execute_input": "2025-04-17T11:20:22.824600Z",
     "iopub.status.busy": "2025-04-17T11:20:22.823819Z",
     "iopub.status.idle": "2025-04-17T11:20:44.046084Z",
     "shell.execute_reply": "2025-04-17T11:20:44.045512Z"
    },
    "papermill": {
     "duration": 21.230493,
     "end_time": "2025-04-17T11:20:44.047559",
     "exception": false,
     "start_time": "2025-04-17T11:20:22.817066",
     "status": "completed"
    },
    "tags": []
   },
   "outputs": [],
   "source": [
    "# Creator interaction (Check if creator traded)\n",
    "creator_trades = transactions_df.groupby(['base_coin', 'signing_wallet']).size().reset_index(name='trade_count')\n",
    "# Need onchain_info_df merged *before* this step if not already done\n",
    "\n",
    "creator_trades = pd.merge(creator_trades, onchain_info_df[[MINT_ID, 'creator']], left_on='base_coin', right_on=MINT_ID, how='inner')\n",
    "creator_trades = creator_trades[creator_trades['signing_wallet'] == creator_trades['creator']]\n",
    "creator_trades = creator_trades[['base_coin', 'trade_count']].rename(columns={'base_coin': MINT_ID, 'trade_count': 'creator_trade_count'})\n",
    "creator_trades = creator_trades.drop_duplicates(subset=[MINT_ID], keep='first')"
   ]
  },
  {
   "cell_type": "code",
   "execution_count": 18,
   "id": "8010e359",
   "metadata": {
    "execution": {
     "iopub.execute_input": "2025-04-17T11:20:44.058761Z",
     "iopub.status.busy": "2025-04-17T11:20:44.058544Z",
     "iopub.status.idle": "2025-04-17T11:20:45.456031Z",
     "shell.execute_reply": "2025-04-17T11:20:45.455368Z"
    },
    "papermill": {
     "duration": 1.404669,
     "end_time": "2025-04-17T11:20:45.457624",
     "exception": false,
     "start_time": "2025-04-17T11:20:44.052955",
     "status": "completed"
    },
    "tags": []
   },
   "outputs": [],
   "source": [
    "combined_df = pd.merge(combined_df, creator_trades, on=MINT_ID, how='left')\n",
    "\n",
    "combined_df['creator_traded'] = combined_df['creator_trade_count'].notna().astype(int)\n",
    "combined_df['creator_trade_count'] = combined_df['creator_trade_count'].fillna(0)"
   ]
  },
  {
   "cell_type": "code",
   "execution_count": 19,
   "id": "b8ddf818",
   "metadata": {
    "execution": {
     "iopub.execute_input": "2025-04-17T11:20:45.470414Z",
     "iopub.status.busy": "2025-04-17T11:20:45.469746Z",
     "iopub.status.idle": "2025-04-17T11:20:47.420581Z",
     "shell.execute_reply": "2025-04-17T11:20:47.419845Z"
    },
    "papermill": {
     "duration": 1.958067,
     "end_time": "2025-04-17T11:20:47.421791",
     "exception": false,
     "start_time": "2025-04-17T11:20:45.463724",
     "status": "completed"
    },
    "tags": []
   },
   "outputs": [
    {
     "name": "stdout",
     "output_type": "stream",
     "text": [
      "Selecting final features...\n",
      "Using 51 features: ['decimals', 'bundle_size', 'gas_used', 'tx_idx_count', 'slot_max', 'slot_nunique', 'signing_wallet_nunique', 'quote_coin_amount_sum', 'quote_coin_amount_mean', 'quote_coin_amount_std', 'quote_coin_amount_max', 'base_coin_amount_sum', 'base_coin_amount_mean', 'base_coin_amount_std', 'base_coin_amount_max', 'virtual_sol_balance_after_last', 'virtual_sol_balance_after_max', 'virtual_sol_balance_after_min', 'virtual_sol_balance_after_mean', 'virtual_sol_balance_after_std', 'virtual_token_balance_after_last', 'virtual_token_balance_after_max', 'virtual_token_balance_after_min', 'virtual_token_balance_after_mean', 'virtual_token_balance_after_std', 'buy_tx_idx_count', 'buy_signing_wallet_nunique', 'buy_quote_coin_amount_sum', 'buy_quote_coin_amount_mean', 'buy_quote_coin_amount_max', 'buy_base_coin_amount_sum', 'buy_base_coin_amount_mean', 'buy_base_coin_amount_max', 'sell_tx_idx_count', 'sell_signing_wallet_nunique', 'sell_quote_coin_amount_sum', 'sell_quote_coin_amount_mean', 'sell_quote_coin_amount_max', 'sell_base_coin_amount_sum', 'sell_base_coin_amount_mean', 'sell_base_coin_amount_max', 'tx_duration_seconds', 'tx_duration_slots', 'avg_time_between_tx', 'tx_per_slot', 'buy_sell_count_ratio', 'buy_sell_vol_ratio', 'unique_buyer_ratio', 'unique_seller_ratio', 'creator_trade_count', 'creator_traded']\n"
     ]
    },
    {
     "data": {
      "text/plain": [
       "0"
      ]
     },
     "execution_count": 19,
     "metadata": {},
     "output_type": "execute_result"
    }
   ],
   "source": [
    "# --- Final Feature Selection ---\n",
    "print(\"Selecting final features...\")\n",
    "features_to_drop = [\n",
    "    MINT_ID, TARGET, 'slot_graduated', 'is_train', 'slot_min', # IDs, target, helpers\n",
    "    'name', 'symbol', 'token_uri', 'created_at', 'init_tx', # Original text/metadata unless parsed\n",
    "    'block_time_min', 'block_time_max', # Used to create duration, maybe drop\n",
    "    'creator', # Use encoded version\n",
    "    'is_valid', 'Unnamed: 0' # different from origin data\n",
    "    # Potentially drop columns with very high correlation or low variance if needed\n",
    "]\n",
    "\n",
    "features = [col for col in combined_df.columns if col not in features_to_drop]\n",
    "categorical_features = ['creator_encoded'] # Add more if you encode others\n",
    "\n",
    "print(f\"Using {len(features)} features: {features}\")\n",
    "# Ensure all features are numeric or suitable for the model (CatBoost handles categoricals)\n",
    "for f in features:\n",
    "    if combined_df[f].dtype == 'object':\n",
    "        print(f\"Warning: Feature '{f}' is object type. Ensure proper handling.\")\n",
    "        # Attempt conversion or drop\n",
    "        try:\n",
    "            combined_df[f] = pd.to_numeric(combined_df[f])\n",
    "        except:\n",
    "            print(f\"Could not convert {f} to numeric. Consider encoding or dropping.\")\n",
    "            if f in features: features.remove(f)\n",
    "\n",
    "\n",
    "# Separate train and test again\n",
    "train_processed = combined_df[combined_df['is_train'] == 1].reset_index(drop=True)\n",
    "train_processed[TARGET] = train_processed[TARGET].astype(int)\n",
    "test_processed = combined_df[combined_df['is_train'] == 0].reset_index(drop=True)\n",
    "\n",
    "X = train_processed[features]\n",
    "y = train_processed[TARGET]\n",
    "X_test = test_processed[features]\n",
    "\n",
    "# Clean up memory\n",
    "del combined_df, transactions_df, agg_features, buy_agg, sell_agg, creator_trades, chunk_list\n",
    "gc.collect()"
   ]
  },
  {
   "cell_type": "code",
   "execution_count": 20,
   "id": "ddc4c2ee",
   "metadata": {
    "execution": {
     "iopub.execute_input": "2025-04-17T11:20:47.433077Z",
     "iopub.status.busy": "2025-04-17T11:20:47.432851Z",
     "iopub.status.idle": "2025-04-17T11:23:37.354541Z",
     "shell.execute_reply": "2025-04-17T11:23:37.353690Z"
    },
    "papermill": {
     "duration": 169.935048,
     "end_time": "2025-04-17T11:23:37.362124",
     "exception": false,
     "start_time": "2025-04-17T11:20:47.427076",
     "status": "completed"
    },
    "tags": []
   },
   "outputs": [
    {
     "name": "stdout",
     "output_type": "stream",
     "text": [
      "\n",
      "Training LightGBM model...\n",
      "--- Fold 1/5 ---\n"
     ]
    },
    {
     "name": "stderr",
     "output_type": "stream",
     "text": [
      "1 warning generated.\n",
      "1 warning generated.\n",
      "1 warning generated.\n",
      "1 warning generated.\n",
      "1 warning generated.\n",
      "1 warning generated.\n",
      "1 warning generated.\n",
      "1 warning generated.\n",
      "1 warning generated.\n",
      "1 warning generated.\n",
      "1 warning generated.\n",
      "1 warning generated.\n",
      "1 warning generated.\n",
      "1 warning generated.\n",
      "1 warning generated.\n",
      "1 warning generated.\n",
      "1 warning generated.\n",
      "1 warning generated.\n",
      "1 warning generated.\n",
      "1 warning generated.\n",
      "1 warning generated.\n",
      "1 warning generated.\n",
      "1 warning generated.\n",
      "1 warning generated.\n",
      "1 warning generated.\n",
      "1 warning generated.\n",
      "1 warning generated.\n",
      "1 warning generated.\n",
      "1 warning generated.\n",
      "1 warning generated.\n",
      "1 warning generated.\n",
      "1 warning generated.\n",
      "1 warning generated.\n"
     ]
    },
    {
     "name": "stdout",
     "output_type": "stream",
     "text": [
      "Fold 1 OOF LogLoss: 0.038460825765968085\n",
      "--- Fold 2/5 ---\n",
      "Fold 2 OOF LogLoss: 0.03957169572312642\n",
      "--- Fold 3/5 ---\n",
      "Fold 3 OOF LogLoss: 0.039048162708473395\n",
      "--- Fold 4/5 ---\n",
      "Fold 4 OOF LogLoss: 0.03815250653159824\n",
      "--- Fold 5/5 ---\n",
      "Fold 5 OOF LogLoss: 0.03908380116870599\n",
      "\n",
      "LGBM Overall OOF LogLoss: 0.0388633988576002\n"
     ]
    }
   ],
   "source": [
    "# --- 5. Model Training ---\n",
    "# --- Option A: LightGBM ---\n",
    "print(\"\\nTraining LightGBM model...\")\n",
    "lgb_oof_preds = np.zeros(len(X))\n",
    "lgb_test_preds = np.zeros(len(X_test))\n",
    "lgb_models = []\n",
    "\n",
    "skf = StratifiedKFold(n_splits=N_SPLITS, shuffle=True, random_state=RANDOM_SEED)\n",
    "\n",
    "for fold, (train_idx, val_idx) in enumerate(skf.split(X, y)):\n",
    "    print(f\"--- Fold {fold+1}/{N_SPLITS} ---\")\n",
    "    X_train, y_train = X.iloc[train_idx], y.iloc[train_idx]\n",
    "    X_val, y_val = X.iloc[val_idx], y.iloc[val_idx]\n",
    "\n",
    "    lgb_params = {\n",
    "        'objective': 'binary',\n",
    "        'metric': 'logloss',\n",
    "        'boosting_type': 'gbdt',\n",
    "        'device': 'gpu',\n",
    "        'n_estimators': 700, # High number, use early stopping\n",
    "        'learning_rate': 0.01,\n",
    "        'num_leaves': 31, # Adjust based on data complexity\n",
    "        'max_depth': 5, # No limit\n",
    "        'seed': RANDOM_SEED + fold,\n",
    "        'n_jobs': -1,\n",
    "        'verbose': -1,\n",
    "        'colsample_bytree': 0.7,\n",
    "        'subsample': 0.7,\n",
    "        'reg_alpha': 0.1,\n",
    "        'reg_lambda': 0.1,\n",
    "    }\n",
    "\n",
    "    model = lgb.LGBMClassifier(**lgb_params)\n",
    "    model.fit(X_train, y_train,\n",
    "              eval_set=[(X_val, y_val)],\n",
    "              eval_metric='logloss',\n",
    "              callbacks=[lgb.early_stopping(100, verbose=False)], # Stop if validation logloss doesn't improve for 100 rounds\n",
    "              categorical_feature=[f for f in categorical_features if f in X.columns] # Pass categorical feature names\n",
    "              )\n",
    "\n",
    "    val_preds = model.predict_proba(X_val)[:, 1]\n",
    "    lgb_oof_preds[val_idx] = val_preds\n",
    "    lgb_test_preds += model.predict_proba(X_test)[:, 1] / N_SPLITS\n",
    "    lgb_models.append(model)\n",
    "    print(f\"Fold {fold+1} OOF LogLoss: {log_loss(y_val, val_preds)}\")\n",
    "\n",
    "from sklearn.metrics import log_loss\n",
    "overall_oof_logloss = log_loss(y, lgb_oof_preds)\n",
    "print(f\"\\nLGBM Overall OOF LogLoss: {overall_oof_logloss}\")\n"
   ]
  },
  {
   "cell_type": "code",
   "execution_count": 21,
   "id": "8834a2a6",
   "metadata": {
    "execution": {
     "iopub.execute_input": "2025-04-17T11:23:37.376072Z",
     "iopub.status.busy": "2025-04-17T11:23:37.375360Z",
     "iopub.status.idle": "2025-04-17T11:24:27.626499Z",
     "shell.execute_reply": "2025-04-17T11:24:27.625640Z"
    },
    "papermill": {
     "duration": 50.259526,
     "end_time": "2025-04-17T11:24:27.627891",
     "exception": false,
     "start_time": "2025-04-17T11:23:37.368365",
     "status": "completed"
    },
    "tags": []
   },
   "outputs": [
    {
     "name": "stdout",
     "output_type": "stream",
     "text": [
      "\n",
      "Training CatBoost model...\n",
      "--- Fold 1/5 ---\n",
      "Fold 1 OOF LogLoss: 0.03852673481969938\n",
      "--- Fold 2/5 ---\n",
      "Fold 2 OOF LogLoss: 0.03988008966883056\n",
      "--- Fold 3/5 ---\n",
      "Fold 3 OOF LogLoss: 0.03928242255496035\n",
      "--- Fold 4/5 ---\n",
      "Fold 4 OOF LogLoss: 0.038220682901404755\n",
      "--- Fold 5/5 ---\n",
      "Fold 5 OOF LogLoss: 0.03939930442286205\n",
      "\n",
      "CatBoost Overall OOF LogLoss: 0.03906184731624963\n"
     ]
    }
   ],
   "source": [
    "# --- Option B: CatBoost ---\n",
    "print(\"\\nTraining CatBoost model...\")\n",
    "cb_oof_preds = np.zeros(len(X))\n",
    "cb_test_preds = np.zeros(len(X_test))\n",
    "cb_models = []\n",
    "\n",
    "# Identify categorical features for CatBoost (by name or index)\n",
    "cat_features_indices = [X.columns.get_loc(col) for col in categorical_features if col in X.columns]\n",
    "\n",
    "skf = StratifiedKFold(n_splits=N_SPLITS, shuffle=True, random_state=RANDOM_SEED)\n",
    "\n",
    "for fold, (train_idx, val_idx) in enumerate(skf.split(X, y)):\n",
    "    print(f\"--- Fold {fold+1}/{N_SPLITS} ---\")\n",
    "    X_train, y_train = X.iloc[train_idx], y.iloc[train_idx]\n",
    "    X_val, y_val = X.iloc[val_idx], y.iloc[val_idx]\n",
    "\n",
    "    # Fill NaNs before CatBoost if not handled earlier or use CatBoost's internal handling\n",
    "    # X_train = X_train.fillna(-999) # Example simple fill\n",
    "    # X_val = X_val.fillna(-999)\n",
    "\n",
    "    model = cb.CatBoostClassifier(\n",
    "        iterations=700, # High number, use early stopping\n",
    "        learning_rate=0.02,\n",
    "        loss_function='Logloss',\n",
    "        eval_metric='Logloss',\n",
    "        task_type='GPU',\n",
    "        depth=7, # Adjust as needed\n",
    "        l2_leaf_reg=3, # Regularization\n",
    "        random_seed=RANDOM_SEED + fold,\n",
    "        verbose=0, # Suppress verbose output during training\n",
    "        early_stopping_rounds=100,\n",
    "        cat_features=cat_features_indices, # Pass indices or names\n",
    "        # task_type=\"GPU\", # Uncomment if you have a suitable GPU and installed CatBoost with GPU support\n",
    "    )\n",
    "\n",
    "    model.fit(X_train, y_train,\n",
    "              eval_set=[(X_val, y_val)],\n",
    "              use_best_model=True)\n",
    "\n",
    "    val_preds = model.predict_proba(X_val)[:, 1]\n",
    "    cb_oof_preds[val_idx] = val_preds\n",
    "    cb_test_preds += model.predict_proba(X_test)[:, 1] / N_SPLITS # Fill test NaNs same way if needed\n",
    "    cb_models.append(model)\n",
    "    print(f\"Fold {fold+1} OOF LogLoss: {log_loss(y_val, val_preds)}\")\n",
    "\n",
    "\n",
    "from sklearn.metrics import log_loss\n",
    "overall_oof_logloss_cb = log_loss(y, cb_oof_preds)\n",
    "print(f\"\\nCatBoost Overall OOF LogLoss: {overall_oof_logloss_cb}\")"
   ]
  },
  {
   "cell_type": "code",
   "execution_count": 22,
   "id": "a1b9c000",
   "metadata": {
    "execution": {
     "iopub.execute_input": "2025-04-17T11:24:27.642496Z",
     "iopub.status.busy": "2025-04-17T11:24:27.642090Z",
     "iopub.status.idle": "2025-04-17T11:25:47.527885Z",
     "shell.execute_reply": "2025-04-17T11:25:47.527289Z"
    },
    "papermill": {
     "duration": 79.894362,
     "end_time": "2025-04-17T11:25:47.529027",
     "exception": false,
     "start_time": "2025-04-17T11:24:27.634665",
     "status": "completed"
    },
    "tags": []
   },
   "outputs": [
    {
     "name": "stdout",
     "output_type": "stream",
     "text": [
      "\n",
      "Training XGBoost model with GPU acceleration...\n",
      "--- XGB Fold 1/5 ---\n",
      "Fold 1 OOF LogLoss: 0.038235376921460965\n",
      "--- XGB Fold 2/5 ---\n",
      "Fold 2 OOF LogLoss: 0.03959831701591272\n",
      "--- XGB Fold 3/5 ---\n",
      "Fold 3 OOF LogLoss: 0.039005870957921185\n",
      "--- XGB Fold 4/5 ---\n",
      "Fold 4 OOF LogLoss: 0.0380932577813554\n",
      "--- XGB Fold 5/5 ---\n",
      "Fold 5 OOF LogLoss: 0.03908043681510354\n",
      "\n",
      "XGBoost Overall OOF LogLoss: 0.03880265222091513\n"
     ]
    },
    {
     "data": {
      "text/plain": [
       "444"
      ]
     },
     "execution_count": 22,
     "metadata": {},
     "output_type": "execute_result"
    }
   ],
   "source": [
    "# --- Model C: XGBoost with GPU ---\n",
    "print(\"\\nTraining XGBoost model with GPU acceleration...\")\n",
    "\n",
    "\n",
    "xgb_oof_preds = np.zeros(len(X))\n",
    "xgb_test_preds = np.zeros(len(X_test))\n",
    "skf = StratifiedKFold(n_splits=N_SPLITS, shuffle=True, random_state=RANDOM_SEED)\n",
    "\n",
    "for fold, (train_idx, val_idx) in enumerate(skf.split(X, y)):\n",
    "    print(f\"--- XGB Fold {fold+1}/{N_SPLITS} ---\")\n",
    "    X_train, y_train = X.iloc[train_idx], y.iloc[train_idx]\n",
    "    X_val, y_val = X.iloc[val_idx], y.iloc[val_idx]\n",
    "\n",
    "    # GPU ID - alternate between GPUs for different folds\n",
    "    gpu_id = fold % 2  # This will alternate between GPU 0 and GPU 1\n",
    "\n",
    "    # XGBoost parameters with GPU configuration\n",
    "    xgb_params = {\n",
    "        'objective': 'binary:logistic',\n",
    "        'eval_metric': 'logloss',\n",
    "        'max_depth': 5,\n",
    "        'learning_rate': 0.01,\n",
    "        'n_estimators': 1000,\n",
    "        'subsample': 0.7,\n",
    "        'colsample_bytree': 0.7,\n",
    "        'min_child_weight': 3,\n",
    "        'alpha': 0.1,  # L1 regularization\n",
    "        'lambda': 0.1,  # L2 regularization\n",
    "        'random_state': RANDOM_SEED + fold,\n",
    "        'verbosity': 0,\n",
    "        'tree_method': 'gpu_hist',  # Use GPU for tree construction\n",
    "        'gpu_id': gpu_id,  # Specify which GPU to use\n",
    "        'predictor': 'gpu_predictor',  # Use GPU for prediction\n",
    "    }\n",
    "\n",
    "    # Create XGBoost classifier with GPU support\n",
    "    model = xgb.XGBClassifier(**xgb_params)\n",
    "\n",
    "    # Train model\n",
    "    model.fit(\n",
    "        X_train, y_train,\n",
    "        eval_set=[(X_val, y_val)],\n",
    "        verbose=False\n",
    "    )\n",
    "\n",
    "    # Make predictions\n",
    "    val_preds = model.predict_proba(X_val)[:, 1]\n",
    "    xgb_oof_preds[val_idx] = val_preds\n",
    "    \n",
    "    xgb_test_preds += model.predict_proba(X_test)[:, 1] / N_SPLITS\n",
    "\n",
    "    print(f\"Fold {fold+1} OOF LogLoss: {log_loss(y_val, val_preds)}\")\n",
    "\n",
    "overall_oof_logloss_xgb = log_loss(y, xgb_oof_preds)\n",
    "print(f\"\\nXGBoost Overall OOF LogLoss: {overall_oof_logloss_xgb}\")\n",
    "gc.collect()"
   ]
  },
  {
   "cell_type": "code",
   "execution_count": 23,
   "id": "05636ecc",
   "metadata": {
    "execution": {
     "iopub.execute_input": "2025-04-17T11:25:47.543291Z",
     "iopub.status.busy": "2025-04-17T11:25:47.543068Z",
     "iopub.status.idle": "2025-04-17T11:25:49.042085Z",
     "shell.execute_reply": "2025-04-17T11:25:49.041360Z"
    },
    "papermill": {
     "duration": 1.507495,
     "end_time": "2025-04-17T11:25:49.043292",
     "exception": false,
     "start_time": "2025-04-17T11:25:47.535797",
     "status": "completed"
    },
    "tags": []
   },
   "outputs": [
    {
     "name": "stdout",
     "output_type": "stream",
     "text": [
      "Submission file saved to: submission.csv\n",
      "\n",
      "Submission file head:\n",
      "                                           mint  has_graduated\n",
      "0  9Wt3N7etKMX9cioTdEJ5S4b8A9nK3M66n9RFVgBGpump       0.004849\n",
      "1  9q5y2X2P8ZEKTjyXBVcS5q2EZM7HbNV8DURY2qnvqi2f       0.000673\n",
      "2  HL2di8dcQ7eYDmkcFoZ4zJyHX5SbRZXAJxTegL3JPfx2       0.001240\n",
      "3  7iAFj9Pc5QH9jbGmHwYe8T6yzNVbjhL13PNJXVTspump       0.005841\n",
      "4  F7U1Rdgz2KFpneKpAnYytWF2jggnsrLScfi2A668pump       0.003970\n",
      "\n",
      "Script finished successfully!\n"
     ]
    }
   ],
   "source": [
    "final_test_preds = (lgb_test_preds + cb_test_preds + xgb_test_preds) / 3 # Simple Averaging Ensemble Example\n",
    "\n",
    "\n",
    "submission_df = pd.DataFrame({\n",
    "    MINT_ID: test_processed[MINT_ID],\n",
    "    TARGET: final_test_preds\n",
    "})\n",
    "\n",
    "# Ensure probabilities are within [0, 1] range (optional clipping)\n",
    "submission_df[TARGET] = np.clip(submission_df[TARGET], 0.0001, 0.9999)\n",
    "\n",
    "submission_df.to_csv(SUBMISSION_FILE, index=False)\n",
    "\n",
    "print(f\"Submission file saved to: {SUBMISSION_FILE}\")\n",
    "print(\"\\nSubmission file head:\")\n",
    "print(submission_df.head())\n",
    "\n",
    "print(\"\\nScript finished successfully!\")"
   ]
  },
  {
   "cell_type": "code",
   "execution_count": null,
   "id": "2825ded2",
   "metadata": {
    "papermill": {
     "duration": 0.00703,
     "end_time": "2025-04-17T11:25:49.057994",
     "exception": false,
     "start_time": "2025-04-17T11:25:49.050964",
     "status": "completed"
    },
    "tags": []
   },
   "outputs": [],
   "source": []
  }
 ],
 "metadata": {
  "kaggle": {
   "accelerator": "nvidiaTeslaT4",
   "dataSources": [
    {
     "databundleVersionId": 11856763,
     "isSourceIdPinned": false,
     "sourceId": 97569,
     "sourceType": "competition"
    },
    {
     "datasetId": 7012766,
     "sourceId": 11407081,
     "sourceType": "datasetVersion"
    }
   ],
   "dockerImageVersionId": 31011,
   "isGpuEnabled": true,
   "isInternetEnabled": false,
   "language": "python",
   "sourceType": "notebook"
  },
  "kernelspec": {
   "display_name": "Python 3",
   "language": "python",
   "name": "python3"
  },
  "language_info": {
   "codemirror_mode": {
    "name": "ipython",
    "version": 3
   },
   "file_extension": ".py",
   "mimetype": "text/x-python",
   "name": "python",
   "nbconvert_exporter": "python",
   "pygments_lexer": "ipython3",
   "version": "3.11.11"
  },
  "papermill": {
   "default_parameters": {},
   "duration": 543.025943,
   "end_time": "2025-04-17T11:25:51.783163",
   "environment_variables": {},
   "exception": null,
   "input_path": "__notebook__.ipynb",
   "output_path": "__notebook__.ipynb",
   "parameters": {},
   "start_time": "2025-04-17T11:16:48.757220",
   "version": "2.6.0"
  },
  "widgets": {
   "application/vnd.jupyter.widget-state+json": {
    "state": {
     "05ffbaef428343bf9846a17a7a551316": {
      "model_module": "@jupyter-widgets/controls",
      "model_module_version": "2.0.0",
      "model_name": "HBoxModel",
      "state": {
       "_dom_classes": [],
       "_model_module": "@jupyter-widgets/controls",
       "_model_module_version": "2.0.0",
       "_model_name": "HBoxModel",
       "_view_count": null,
       "_view_module": "@jupyter-widgets/controls",
       "_view_module_version": "2.0.0",
       "_view_name": "HBoxView",
       "box_style": "",
       "children": [
        "IPY_MODEL_df51330176584bc08f2abfc20dfc95d8",
        "IPY_MODEL_854689c8870f49e0adad6e00dfeda8f0",
        "IPY_MODEL_bc88d42ac0444bed9fed3e53aa62ff28"
       ],
       "layout": "IPY_MODEL_3247992127dc4719b4c486458493794a",
       "tabbable": null,
       "tooltip": null
      }
     },
     "3247992127dc4719b4c486458493794a": {
      "model_module": "@jupyter-widgets/base",
      "model_module_version": "2.0.0",
      "model_name": "LayoutModel",
      "state": {
       "_model_module": "@jupyter-widgets/base",
       "_model_module_version": "2.0.0",
       "_model_name": "LayoutModel",
       "_view_count": null,
       "_view_module": "@jupyter-widgets/base",
       "_view_module_version": "2.0.0",
       "_view_name": "LayoutView",
       "align_content": null,
       "align_items": null,
       "align_self": null,
       "border_bottom": null,
       "border_left": null,
       "border_right": null,
       "border_top": null,
       "bottom": null,
       "display": null,
       "flex": null,
       "flex_flow": null,
       "grid_area": null,
       "grid_auto_columns": null,
       "grid_auto_flow": null,
       "grid_auto_rows": null,
       "grid_column": null,
       "grid_gap": null,
       "grid_row": null,
       "grid_template_areas": null,
       "grid_template_columns": null,
       "grid_template_rows": null,
       "height": null,
       "justify_content": null,
       "justify_items": null,
       "left": null,
       "margin": null,
       "max_height": null,
       "max_width": null,
       "min_height": null,
       "min_width": null,
       "object_fit": null,
       "object_position": null,
       "order": null,
       "overflow": null,
       "padding": null,
       "right": null,
       "top": null,
       "visibility": null,
       "width": null
      }
     },
     "660ebd5d36f94ff0b6edbf09afcff118": {
      "model_module": "@jupyter-widgets/base",
      "model_module_version": "2.0.0",
      "model_name": "LayoutModel",
      "state": {
       "_model_module": "@jupyter-widgets/base",
       "_model_module_version": "2.0.0",
       "_model_name": "LayoutModel",
       "_view_count": null,
       "_view_module": "@jupyter-widgets/base",
       "_view_module_version": "2.0.0",
       "_view_name": "LayoutView",
       "align_content": null,
       "align_items": null,
       "align_self": null,
       "border_bottom": null,
       "border_left": null,
       "border_right": null,
       "border_top": null,
       "bottom": null,
       "display": null,
       "flex": null,
       "flex_flow": null,
       "grid_area": null,
       "grid_auto_columns": null,
       "grid_auto_flow": null,
       "grid_auto_rows": null,
       "grid_column": null,
       "grid_gap": null,
       "grid_row": null,
       "grid_template_areas": null,
       "grid_template_columns": null,
       "grid_template_rows": null,
       "height": null,
       "justify_content": null,
       "justify_items": null,
       "left": null,
       "margin": null,
       "max_height": null,
       "max_width": null,
       "min_height": null,
       "min_width": null,
       "object_fit": null,
       "object_position": null,
       "order": null,
       "overflow": null,
       "padding": null,
       "right": null,
       "top": null,
       "visibility": null,
       "width": null
      }
     },
     "854689c8870f49e0adad6e00dfeda8f0": {
      "model_module": "@jupyter-widgets/controls",
      "model_module_version": "2.0.0",
      "model_name": "FloatProgressModel",
      "state": {
       "_dom_classes": [],
       "_model_module": "@jupyter-widgets/controls",
       "_model_module_version": "2.0.0",
       "_model_name": "FloatProgressModel",
       "_view_count": null,
       "_view_module": "@jupyter-widgets/controls",
       "_view_module_version": "2.0.0",
       "_view_name": "ProgressView",
       "bar_style": "success",
       "description": "",
       "description_allow_html": false,
       "layout": "IPY_MODEL_660ebd5d36f94ff0b6edbf09afcff118",
       "max": 41.0,
       "min": 0.0,
       "orientation": "horizontal",
       "style": "IPY_MODEL_f6a8c92cf02d42dda434c9b6a9cc4c3b",
       "tabbable": null,
       "tooltip": null,
       "value": 41.0
      }
     },
     "86868f3c72c04f17bd9640015f1a0d2c": {
      "model_module": "@jupyter-widgets/controls",
      "model_module_version": "2.0.0",
      "model_name": "HTMLStyleModel",
      "state": {
       "_model_module": "@jupyter-widgets/controls",
       "_model_module_version": "2.0.0",
       "_model_name": "HTMLStyleModel",
       "_view_count": null,
       "_view_module": "@jupyter-widgets/base",
       "_view_module_version": "2.0.0",
       "_view_name": "StyleView",
       "background": null,
       "description_width": "",
       "font_size": null,
       "text_color": null
      }
     },
     "923e86c88dcb48a5a5753ef0e5229ab1": {
      "model_module": "@jupyter-widgets/base",
      "model_module_version": "2.0.0",
      "model_name": "LayoutModel",
      "state": {
       "_model_module": "@jupyter-widgets/base",
       "_model_module_version": "2.0.0",
       "_model_name": "LayoutModel",
       "_view_count": null,
       "_view_module": "@jupyter-widgets/base",
       "_view_module_version": "2.0.0",
       "_view_name": "LayoutView",
       "align_content": null,
       "align_items": null,
       "align_self": null,
       "border_bottom": null,
       "border_left": null,
       "border_right": null,
       "border_top": null,
       "bottom": null,
       "display": null,
       "flex": null,
       "flex_flow": null,
       "grid_area": null,
       "grid_auto_columns": null,
       "grid_auto_flow": null,
       "grid_auto_rows": null,
       "grid_column": null,
       "grid_gap": null,
       "grid_row": null,
       "grid_template_areas": null,
       "grid_template_columns": null,
       "grid_template_rows": null,
       "height": null,
       "justify_content": null,
       "justify_items": null,
       "left": null,
       "margin": null,
       "max_height": null,
       "max_width": null,
       "min_height": null,
       "min_width": null,
       "object_fit": null,
       "object_position": null,
       "order": null,
       "overflow": null,
       "padding": null,
       "right": null,
       "top": null,
       "visibility": null,
       "width": null
      }
     },
     "bc88d42ac0444bed9fed3e53aa62ff28": {
      "model_module": "@jupyter-widgets/controls",
      "model_module_version": "2.0.0",
      "model_name": "HTMLModel",
      "state": {
       "_dom_classes": [],
       "_model_module": "@jupyter-widgets/controls",
       "_model_module_version": "2.0.0",
       "_model_name": "HTMLModel",
       "_view_count": null,
       "_view_module": "@jupyter-widgets/controls",
       "_view_module_version": "2.0.0",
       "_view_name": "HTMLView",
       "description": "",
       "description_allow_html": false,
       "layout": "IPY_MODEL_ded63bc11111433bb32c687509b118ea",
       "placeholder": "​",
       "style": "IPY_MODEL_dc077f3d3c2249028ae15b71e4505419",
       "tabbable": null,
       "tooltip": null,
       "value": " 41/41 [01:48&lt;00:00,  2.60s/it]"
      }
     },
     "dc077f3d3c2249028ae15b71e4505419": {
      "model_module": "@jupyter-widgets/controls",
      "model_module_version": "2.0.0",
      "model_name": "HTMLStyleModel",
      "state": {
       "_model_module": "@jupyter-widgets/controls",
       "_model_module_version": "2.0.0",
       "_model_name": "HTMLStyleModel",
       "_view_count": null,
       "_view_module": "@jupyter-widgets/base",
       "_view_module_version": "2.0.0",
       "_view_name": "StyleView",
       "background": null,
       "description_width": "",
       "font_size": null,
       "text_color": null
      }
     },
     "ded63bc11111433bb32c687509b118ea": {
      "model_module": "@jupyter-widgets/base",
      "model_module_version": "2.0.0",
      "model_name": "LayoutModel",
      "state": {
       "_model_module": "@jupyter-widgets/base",
       "_model_module_version": "2.0.0",
       "_model_name": "LayoutModel",
       "_view_count": null,
       "_view_module": "@jupyter-widgets/base",
       "_view_module_version": "2.0.0",
       "_view_name": "LayoutView",
       "align_content": null,
       "align_items": null,
       "align_self": null,
       "border_bottom": null,
       "border_left": null,
       "border_right": null,
       "border_top": null,
       "bottom": null,
       "display": null,
       "flex": null,
       "flex_flow": null,
       "grid_area": null,
       "grid_auto_columns": null,
       "grid_auto_flow": null,
       "grid_auto_rows": null,
       "grid_column": null,
       "grid_gap": null,
       "grid_row": null,
       "grid_template_areas": null,
       "grid_template_columns": null,
       "grid_template_rows": null,
       "height": null,
       "justify_content": null,
       "justify_items": null,
       "left": null,
       "margin": null,
       "max_height": null,
       "max_width": null,
       "min_height": null,
       "min_width": null,
       "object_fit": null,
       "object_position": null,
       "order": null,
       "overflow": null,
       "padding": null,
       "right": null,
       "top": null,
       "visibility": null,
       "width": null
      }
     },
     "df51330176584bc08f2abfc20dfc95d8": {
      "model_module": "@jupyter-widgets/controls",
      "model_module_version": "2.0.0",
      "model_name": "HTMLModel",
      "state": {
       "_dom_classes": [],
       "_model_module": "@jupyter-widgets/controls",
       "_model_module_version": "2.0.0",
       "_model_name": "HTMLModel",
       "_view_count": null,
       "_view_module": "@jupyter-widgets/controls",
       "_view_module_version": "2.0.0",
       "_view_name": "HTMLView",
       "description": "",
       "description_allow_html": false,
       "layout": "IPY_MODEL_923e86c88dcb48a5a5753ef0e5229ab1",
       "placeholder": "​",
       "style": "IPY_MODEL_86868f3c72c04f17bd9640015f1a0d2c",
       "tabbable": null,
       "tooltip": null,
       "value": "Loading chunks: 100%"
      }
     },
     "f6a8c92cf02d42dda434c9b6a9cc4c3b": {
      "model_module": "@jupyter-widgets/controls",
      "model_module_version": "2.0.0",
      "model_name": "ProgressStyleModel",
      "state": {
       "_model_module": "@jupyter-widgets/controls",
       "_model_module_version": "2.0.0",
       "_model_name": "ProgressStyleModel",
       "_view_count": null,
       "_view_module": "@jupyter-widgets/base",
       "_view_module_version": "2.0.0",
       "_view_name": "StyleView",
       "bar_color": null,
       "description_width": ""
      }
     }
    },
    "version_major": 2,
    "version_minor": 0
   }
  }
 },
 "nbformat": 4,
 "nbformat_minor": 5
}
