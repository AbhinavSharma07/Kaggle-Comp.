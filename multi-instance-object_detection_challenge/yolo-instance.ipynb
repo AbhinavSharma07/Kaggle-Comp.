{
 "cells": [
  {
   "cell_type": "code",
   "execution_count": 1,
   "id": "58c800ca",
   "metadata": {
    "execution": {
     "iopub.execute_input": "2025-06-24T09:32:58.278972Z",
     "iopub.status.busy": "2025-06-24T09:32:58.278723Z",
     "iopub.status.idle": "2025-06-24T09:34:14.279483Z",
     "shell.execute_reply": "2025-06-24T09:34:14.278521Z"
    },
    "papermill": {
     "duration": 76.005347,
     "end_time": "2025-06-24T09:34:14.281004",
     "exception": false,
     "start_time": "2025-06-24T09:32:58.275657",
     "status": "completed"
    },
    "tags": []
   },
   "outputs": [
    {
     "name": "stdout",
     "output_type": "stream",
     "text": [
      "Collecting ultralytics\r\n",
      "  Downloading ultralytics-8.3.158-py3-none-any.whl.metadata (37 kB)\r\n",
      "Requirement already satisfied: numpy>=1.23.0 in /usr/local/lib/python3.11/dist-packages (from ultralytics) (1.26.4)\r\n",
      "Requirement already satisfied: matplotlib>=3.3.0 in /usr/local/lib/python3.11/dist-packages (from ultralytics) (3.7.2)\r\n",
      "Requirement already satisfied: opencv-python>=4.6.0 in /usr/local/lib/python3.11/dist-packages (from ultralytics) (4.11.0.86)\r\n",
      "Requirement already satisfied: pillow>=7.1.2 in /usr/local/lib/python3.11/dist-packages (from ultralytics) (11.1.0)\r\n",
      "Requirement already satisfied: pyyaml>=5.3.1 in /usr/local/lib/python3.11/dist-packages (from ultralytics) (6.0.2)\r\n",
      "Requirement already satisfied: requests>=2.23.0 in /usr/local/lib/python3.11/dist-packages (from ultralytics) (2.32.3)\r\n",
      "Requirement already satisfied: scipy>=1.4.1 in /usr/local/lib/python3.11/dist-packages (from ultralytics) (1.15.2)\r\n",
      "Requirement already satisfied: torch>=1.8.0 in /usr/local/lib/python3.11/dist-packages (from ultralytics) (2.6.0+cu124)\r\n",
      "Requirement already satisfied: torchvision>=0.9.0 in /usr/local/lib/python3.11/dist-packages (from ultralytics) (0.21.0+cu124)\r\n",
      "Requirement already satisfied: tqdm>=4.64.0 in /usr/local/lib/python3.11/dist-packages (from ultralytics) (4.67.1)\r\n",
      "Requirement already satisfied: psutil in /usr/local/lib/python3.11/dist-packages (from ultralytics) (7.0.0)\r\n",
      "Requirement already satisfied: py-cpuinfo in /usr/local/lib/python3.11/dist-packages (from ultralytics) (9.0.0)\r\n",
      "Requirement already satisfied: pandas>=1.1.4 in /usr/local/lib/python3.11/dist-packages (from ultralytics) (2.2.3)\r\n",
      "Collecting ultralytics-thop>=2.0.0 (from ultralytics)\r\n",
      "  Downloading ultralytics_thop-2.0.14-py3-none-any.whl.metadata (9.4 kB)\r\n",
      "Requirement already satisfied: contourpy>=1.0.1 in /usr/local/lib/python3.11/dist-packages (from matplotlib>=3.3.0->ultralytics) (1.3.1)\r\n",
      "Requirement already satisfied: cycler>=0.10 in /usr/local/lib/python3.11/dist-packages (from matplotlib>=3.3.0->ultralytics) (0.12.1)\r\n",
      "Requirement already satisfied: fonttools>=4.22.0 in /usr/local/lib/python3.11/dist-packages (from matplotlib>=3.3.0->ultralytics) (4.57.0)\r\n",
      "Requirement already satisfied: kiwisolver>=1.0.1 in /usr/local/lib/python3.11/dist-packages (from matplotlib>=3.3.0->ultralytics) (1.4.8)\r\n",
      "Requirement already satisfied: packaging>=20.0 in /usr/local/lib/python3.11/dist-packages (from matplotlib>=3.3.0->ultralytics) (25.0)\r\n",
      "Requirement already satisfied: pyparsing<3.1,>=2.3.1 in /usr/local/lib/python3.11/dist-packages (from matplotlib>=3.3.0->ultralytics) (3.0.9)\r\n",
      "Requirement already satisfied: python-dateutil>=2.7 in /usr/local/lib/python3.11/dist-packages (from matplotlib>=3.3.0->ultralytics) (2.9.0.post0)\r\n",
      "Requirement already satisfied: mkl_fft in /usr/local/lib/python3.11/dist-packages (from numpy>=1.23.0->ultralytics) (1.3.8)\r\n",
      "Requirement already satisfied: mkl_random in /usr/local/lib/python3.11/dist-packages (from numpy>=1.23.0->ultralytics) (1.2.4)\r\n",
      "Requirement already satisfied: mkl_umath in /usr/local/lib/python3.11/dist-packages (from numpy>=1.23.0->ultralytics) (0.1.1)\r\n",
      "Requirement already satisfied: mkl in /usr/local/lib/python3.11/dist-packages (from numpy>=1.23.0->ultralytics) (2025.1.0)\r\n",
      "Requirement already satisfied: tbb4py in /usr/local/lib/python3.11/dist-packages (from numpy>=1.23.0->ultralytics) (2022.1.0)\r\n",
      "Requirement already satisfied: mkl-service in /usr/local/lib/python3.11/dist-packages (from numpy>=1.23.0->ultralytics) (2.4.1)\r\n",
      "Requirement already satisfied: pytz>=2020.1 in /usr/local/lib/python3.11/dist-packages (from pandas>=1.1.4->ultralytics) (2025.2)\r\n",
      "Requirement already satisfied: tzdata>=2022.7 in /usr/local/lib/python3.11/dist-packages (from pandas>=1.1.4->ultralytics) (2025.2)\r\n",
      "Requirement already satisfied: charset-normalizer<4,>=2 in /usr/local/lib/python3.11/dist-packages (from requests>=2.23.0->ultralytics) (3.4.2)\r\n",
      "Requirement already satisfied: idna<4,>=2.5 in /usr/local/lib/python3.11/dist-packages (from requests>=2.23.0->ultralytics) (3.10)\r\n",
      "Requirement already satisfied: urllib3<3,>=1.21.1 in /usr/local/lib/python3.11/dist-packages (from requests>=2.23.0->ultralytics) (2.4.0)\r\n",
      "Requirement already satisfied: certifi>=2017.4.17 in /usr/local/lib/python3.11/dist-packages (from requests>=2.23.0->ultralytics) (2025.4.26)\r\n",
      "Requirement already satisfied: filelock in /usr/local/lib/python3.11/dist-packages (from torch>=1.8.0->ultralytics) (3.18.0)\r\n",
      "Requirement already satisfied: typing-extensions>=4.10.0 in /usr/local/lib/python3.11/dist-packages (from torch>=1.8.0->ultralytics) (4.13.2)\r\n",
      "Requirement already satisfied: networkx in /usr/local/lib/python3.11/dist-packages (from torch>=1.8.0->ultralytics) (3.4.2)\r\n",
      "Requirement already satisfied: jinja2 in /usr/local/lib/python3.11/dist-packages (from torch>=1.8.0->ultralytics) (3.1.6)\r\n",
      "Requirement already satisfied: fsspec in /usr/local/lib/python3.11/dist-packages (from torch>=1.8.0->ultralytics) (2025.3.2)\r\n",
      "Requirement already satisfied: nvidia-cuda-nvrtc-cu12==12.4.127 in /usr/local/lib/python3.11/dist-packages (from torch>=1.8.0->ultralytics) (12.4.127)\r\n",
      "Requirement already satisfied: nvidia-cuda-runtime-cu12==12.4.127 in /usr/local/lib/python3.11/dist-packages (from torch>=1.8.0->ultralytics) (12.4.127)\r\n",
      "Requirement already satisfied: nvidia-cuda-cupti-cu12==12.4.127 in /usr/local/lib/python3.11/dist-packages (from torch>=1.8.0->ultralytics) (12.4.127)\r\n",
      "Collecting nvidia-cudnn-cu12==9.1.0.70 (from torch>=1.8.0->ultralytics)\r\n",
      "  Downloading nvidia_cudnn_cu12-9.1.0.70-py3-none-manylinux2014_x86_64.whl.metadata (1.6 kB)\r\n",
      "Collecting nvidia-cublas-cu12==12.4.5.8 (from torch>=1.8.0->ultralytics)\r\n",
      "  Downloading nvidia_cublas_cu12-12.4.5.8-py3-none-manylinux2014_x86_64.whl.metadata (1.5 kB)\r\n",
      "Collecting nvidia-cufft-cu12==11.2.1.3 (from torch>=1.8.0->ultralytics)\r\n",
      "  Downloading nvidia_cufft_cu12-11.2.1.3-py3-none-manylinux2014_x86_64.whl.metadata (1.5 kB)\r\n",
      "Collecting nvidia-curand-cu12==10.3.5.147 (from torch>=1.8.0->ultralytics)\r\n",
      "  Downloading nvidia_curand_cu12-10.3.5.147-py3-none-manylinux2014_x86_64.whl.metadata (1.5 kB)\r\n",
      "Collecting nvidia-cusolver-cu12==11.6.1.9 (from torch>=1.8.0->ultralytics)\r\n",
      "  Downloading nvidia_cusolver_cu12-11.6.1.9-py3-none-manylinux2014_x86_64.whl.metadata (1.6 kB)\r\n",
      "Collecting nvidia-cusparse-cu12==12.3.1.170 (from torch>=1.8.0->ultralytics)\r\n",
      "  Downloading nvidia_cusparse_cu12-12.3.1.170-py3-none-manylinux2014_x86_64.whl.metadata (1.6 kB)\r\n",
      "Requirement already satisfied: nvidia-cusparselt-cu12==0.6.2 in /usr/local/lib/python3.11/dist-packages (from torch>=1.8.0->ultralytics) (0.6.2)\r\n",
      "Requirement already satisfied: nvidia-nccl-cu12==2.21.5 in /usr/local/lib/python3.11/dist-packages (from torch>=1.8.0->ultralytics) (2.21.5)\r\n",
      "Requirement already satisfied: nvidia-nvtx-cu12==12.4.127 in /usr/local/lib/python3.11/dist-packages (from torch>=1.8.0->ultralytics) (12.4.127)\r\n",
      "Collecting nvidia-nvjitlink-cu12==12.4.127 (from torch>=1.8.0->ultralytics)\r\n",
      "  Downloading nvidia_nvjitlink_cu12-12.4.127-py3-none-manylinux2014_x86_64.whl.metadata (1.5 kB)\r\n",
      "Requirement already satisfied: triton==3.2.0 in /usr/local/lib/python3.11/dist-packages (from torch>=1.8.0->ultralytics) (3.2.0)\r\n",
      "Requirement already satisfied: sympy==1.13.1 in /usr/local/lib/python3.11/dist-packages (from torch>=1.8.0->ultralytics) (1.13.1)\r\n",
      "Requirement already satisfied: mpmath<1.4,>=1.1.0 in /usr/local/lib/python3.11/dist-packages (from sympy==1.13.1->torch>=1.8.0->ultralytics) (1.3.0)\r\n",
      "Requirement already satisfied: six>=1.5 in /usr/local/lib/python3.11/dist-packages (from python-dateutil>=2.7->matplotlib>=3.3.0->ultralytics) (1.17.0)\r\n",
      "Requirement already satisfied: MarkupSafe>=2.0 in /usr/local/lib/python3.11/dist-packages (from jinja2->torch>=1.8.0->ultralytics) (3.0.2)\r\n",
      "Requirement already satisfied: intel-openmp<2026,>=2024 in /usr/local/lib/python3.11/dist-packages (from mkl->numpy>=1.23.0->ultralytics) (2024.2.0)\r\n",
      "Requirement already satisfied: tbb==2022.* in /usr/local/lib/python3.11/dist-packages (from mkl->numpy>=1.23.0->ultralytics) (2022.1.0)\r\n",
      "Requirement already satisfied: tcmlib==1.* in /usr/local/lib/python3.11/dist-packages (from tbb==2022.*->mkl->numpy>=1.23.0->ultralytics) (1.3.0)\r\n",
      "Requirement already satisfied: intel-cmplr-lib-rt in /usr/local/lib/python3.11/dist-packages (from mkl_umath->numpy>=1.23.0->ultralytics) (2024.2.0)\r\n",
      "Requirement already satisfied: intel-cmplr-lib-ur==2024.2.0 in /usr/local/lib/python3.11/dist-packages (from intel-openmp<2026,>=2024->mkl->numpy>=1.23.0->ultralytics) (2024.2.0)\r\n",
      "Downloading ultralytics-8.3.158-py3-none-any.whl (1.0 MB)\r\n",
      "\u001b[2K   \u001b[90m━━━━━━━━━━━━━━━━━━━━━━━━━━━━━━━━━━━━━━━━\u001b[0m \u001b[32m1.0/1.0 MB\u001b[0m \u001b[31m21.9 MB/s\u001b[0m eta \u001b[36m0:00:00\u001b[0m\r\n",
      "\u001b[?25hDownloading nvidia_cublas_cu12-12.4.5.8-py3-none-manylinux2014_x86_64.whl (363.4 MB)\r\n",
      "\u001b[2K   \u001b[90m━━━━━━━━━━━━━━━━━━━━━━━━━━━━━━━━━━━━━━━━\u001b[0m \u001b[32m363.4/363.4 MB\u001b[0m \u001b[31m4.7 MB/s\u001b[0m eta \u001b[36m0:00:00\u001b[0m\r\n",
      "\u001b[?25hDownloading nvidia_cudnn_cu12-9.1.0.70-py3-none-manylinux2014_x86_64.whl (664.8 MB)\r\n",
      "\u001b[2K   \u001b[90m━━━━━━━━━━━━━━━━━━━━━━━━━━━━━━━━━━━━━━━━\u001b[0m \u001b[32m664.8/664.8 MB\u001b[0m \u001b[31m2.4 MB/s\u001b[0m eta \u001b[36m0:00:00\u001b[0m\r\n",
      "\u001b[?25hDownloading nvidia_cufft_cu12-11.2.1.3-py3-none-manylinux2014_x86_64.whl (211.5 MB)\r\n",
      "\u001b[2K   \u001b[90m━━━━━━━━━━━━━━━━━━━━━━━━━━━━━━━━━━━━━━━━\u001b[0m \u001b[32m211.5/211.5 MB\u001b[0m \u001b[31m6.9 MB/s\u001b[0m eta \u001b[36m0:00:00\u001b[0m\r\n",
      "\u001b[?25hDownloading nvidia_curand_cu12-10.3.5.147-py3-none-manylinux2014_x86_64.whl (56.3 MB)\r\n",
      "\u001b[2K   \u001b[90m━━━━━━━━━━━━━━━━━━━━━━━━━━━━━━━━━━━━━━━━\u001b[0m \u001b[32m56.3/56.3 MB\u001b[0m \u001b[31m3.2 MB/s\u001b[0m eta \u001b[36m0:00:00\u001b[0m\r\n",
      "\u001b[?25hDownloading nvidia_cusolver_cu12-11.6.1.9-py3-none-manylinux2014_x86_64.whl (127.9 MB)\r\n",
      "\u001b[2K   \u001b[90m━━━━━━━━━━━━━━━━━━━━━━━━━━━━━━━━━━━━━━━━\u001b[0m \u001b[32m127.9/127.9 MB\u001b[0m \u001b[31m6.7 MB/s\u001b[0m eta \u001b[36m0:00:00\u001b[0m\r\n",
      "\u001b[?25hDownloading nvidia_cusparse_cu12-12.3.1.170-py3-none-manylinux2014_x86_64.whl (207.5 MB)\r\n",
      "\u001b[2K   \u001b[90m━━━━━━━━━━━━━━━━━━━━━━━━━━━━━━━━━━━━━━━━\u001b[0m \u001b[32m207.5/207.5 MB\u001b[0m \u001b[31m8.3 MB/s\u001b[0m eta \u001b[36m0:00:00\u001b[0m\r\n",
      "\u001b[?25hDownloading nvidia_nvjitlink_cu12-12.4.127-py3-none-manylinux2014_x86_64.whl (21.1 MB)\r\n",
      "\u001b[2K   \u001b[90m━━━━━━━━━━━━━━━━━━━━━━━━━━━━━━━━━━━━━━━━\u001b[0m \u001b[32m21.1/21.1 MB\u001b[0m \u001b[31m72.6 MB/s\u001b[0m eta \u001b[36m0:00:00\u001b[0m\r\n",
      "\u001b[?25hDownloading ultralytics_thop-2.0.14-py3-none-any.whl (26 kB)\r\n",
      "Installing collected packages: nvidia-nvjitlink-cu12, nvidia-curand-cu12, nvidia-cufft-cu12, nvidia-cublas-cu12, nvidia-cusparse-cu12, nvidia-cudnn-cu12, nvidia-cusolver-cu12, ultralytics-thop, ultralytics\r\n",
      "  Attempting uninstall: nvidia-nvjitlink-cu12\r\n",
      "    Found existing installation: nvidia-nvjitlink-cu12 12.9.41\r\n",
      "    Uninstalling nvidia-nvjitlink-cu12-12.9.41:\r\n",
      "      Successfully uninstalled nvidia-nvjitlink-cu12-12.9.41\r\n",
      "  Attempting uninstall: nvidia-curand-cu12\r\n",
      "    Found existing installation: nvidia-curand-cu12 10.3.10.19\r\n",
      "    Uninstalling nvidia-curand-cu12-10.3.10.19:\r\n",
      "      Successfully uninstalled nvidia-curand-cu12-10.3.10.19\r\n",
      "  Attempting uninstall: nvidia-cufft-cu12\r\n",
      "    Found existing installation: nvidia-cufft-cu12 11.4.0.6\r\n",
      "    Uninstalling nvidia-cufft-cu12-11.4.0.6:\r\n",
      "      Successfully uninstalled nvidia-cufft-cu12-11.4.0.6\r\n",
      "  Attempting uninstall: nvidia-cublas-cu12\r\n",
      "    Found existing installation: nvidia-cublas-cu12 12.9.0.13\r\n",
      "    Uninstalling nvidia-cublas-cu12-12.9.0.13:\r\n",
      "      Successfully uninstalled nvidia-cublas-cu12-12.9.0.13\r\n",
      "  Attempting uninstall: nvidia-cusparse-cu12\r\n",
      "    Found existing installation: nvidia-cusparse-cu12 12.5.9.5\r\n",
      "    Uninstalling nvidia-cusparse-cu12-12.5.9.5:\r\n",
      "      Successfully uninstalled nvidia-cusparse-cu12-12.5.9.5\r\n",
      "  Attempting uninstall: nvidia-cudnn-cu12\r\n",
      "    Found existing installation: nvidia-cudnn-cu12 9.3.0.75\r\n",
      "    Uninstalling nvidia-cudnn-cu12-9.3.0.75:\r\n",
      "      Successfully uninstalled nvidia-cudnn-cu12-9.3.0.75\r\n",
      "  Attempting uninstall: nvidia-cusolver-cu12\r\n",
      "    Found existing installation: nvidia-cusolver-cu12 11.7.4.40\r\n",
      "    Uninstalling nvidia-cusolver-cu12-11.7.4.40:\r\n",
      "      Successfully uninstalled nvidia-cusolver-cu12-11.7.4.40\r\n",
      "Successfully installed nvidia-cublas-cu12-12.4.5.8 nvidia-cudnn-cu12-9.1.0.70 nvidia-cufft-cu12-11.2.1.3 nvidia-curand-cu12-10.3.5.147 nvidia-cusolver-cu12-11.6.1.9 nvidia-cusparse-cu12-12.3.1.170 nvidia-nvjitlink-cu12-12.4.127 ultralytics-8.3.158 ultralytics-thop-2.0.14\r\n"
     ]
    }
   ],
   "source": [
    "!pip install ultralytics"
   ]
  },
  {
   "cell_type": "code",
   "execution_count": 2,
   "id": "0a217c47",
   "metadata": {
    "execution": {
     "iopub.execute_input": "2025-06-24T09:34:14.322665Z",
     "iopub.status.busy": "2025-06-24T09:34:14.322366Z",
     "iopub.status.idle": "2025-06-24T09:34:19.198798Z",
     "shell.execute_reply": "2025-06-24T09:34:19.198104Z"
    },
    "papermill": {
     "duration": 4.898255,
     "end_time": "2025-06-24T09:34:19.199995",
     "exception": false,
     "start_time": "2025-06-24T09:34:14.301740",
     "status": "completed"
    },
    "tags": []
   },
   "outputs": [
    {
     "name": "stdout",
     "output_type": "stream",
     "text": [
      "Creating new Ultralytics Settings v0.0.6 file ✅ \n",
      "View Ultralytics Settings with 'yolo settings' or at '/root/.config/Ultralytics/settings.json'\n",
      "Update Settings with 'yolo settings key=value', i.e. 'yolo settings runs_dir=path/to/dir'. For help see https://docs.ultralytics.com/quickstart/#ultralytics-settings.\n"
     ]
    },
    {
     "data": {
      "text/plain": [
       "<torch._C.Generator at 0x7b76013af430>"
      ]
     },
     "execution_count": 2,
     "metadata": {},
     "output_type": "execute_result"
    }
   ],
   "source": [
    "import pandas as pd\n",
    "import numpy as np\n",
    "import matplotlib.pyplot as plt\n",
    "from ultralytics import YOLO\n",
    "from pathlib import Path\n",
    "import csv\n",
    "import os\n",
    "import random\n",
    "import torch\n",
    "# Set random seeds for reproducibility\n",
    "np.random.seed(42)\n",
    "random.seed(42)\n",
    "torch.manual_seed(42)"
   ]
  },
  {
   "cell_type": "code",
   "execution_count": 3,
   "id": "0d0ee50a",
   "metadata": {
    "execution": {
     "iopub.execute_input": "2025-06-24T09:34:19.241177Z",
     "iopub.status.busy": "2025-06-24T09:34:19.240835Z",
     "iopub.status.idle": "2025-06-24T09:37:27.873008Z",
     "shell.execute_reply": "2025-06-24T09:37:27.872100Z"
    },
    "papermill": {
     "duration": 188.655572,
     "end_time": "2025-06-24T09:37:27.875859",
     "exception": false,
     "start_time": "2025-06-24T09:34:19.220287",
     "status": "completed"
    },
    "tags": []
   },
   "outputs": [
    {
     "name": "stdout",
     "output_type": "stream",
     "text": [
      "Downloading https://github.com/ultralytics/assets/releases/download/v8.3.0/yolo11m.pt to 'yolo11m.pt'...\n"
     ]
    },
    {
     "name": "stderr",
     "output_type": "stream",
     "text": [
      "100%|██████████| 38.8M/38.8M [00:00<00:00, 218MB/s]\n"
     ]
    },
    {
     "name": "stdout",
     "output_type": "stream",
     "text": [
      "Ultralytics 8.3.158 🚀 Python-3.11.11 torch-2.6.0+cu124 CUDA:0 (Tesla T4, 15095MiB)\n",
      "\u001b[34m\u001b[1mengine/trainer: \u001b[0magnostic_nms=False, amp=True, augment=False, auto_augment=randaugment, batch=4, bgr=0.0, box=7.5, cache=False, cfg=None, classes=None, close_mosaic=15, cls=0.5, conf=None, copy_paste=0.0, copy_paste_mode=flip, cos_lr=True, cutmix=0.0, data=/kaggle/input/multi-instance-object-detection-challenge/Starter_Dataset/yolo_params.yaml, degrees=0.0, deterministic=True, device=None, dfl=1.5, dnn=False, dropout=0.0, dynamic=False, embed=None, epochs=50, erasing=0.4, exist_ok=False, fliplr=0.5, flipud=0.5, format=torchscript, fraction=1.0, freeze=None, half=False, hsv_h=0.015, hsv_s=0.7, hsv_v=0.4, imgsz=640, int8=False, iou=0.7, keras=False, kobj=1.0, line_width=None, lr0=0.001, lrf=0.01, mask_ratio=4, max_det=300, mixup=0.0, mode=train, model=yolo11m.pt, momentum=0.937, mosaic=1.0, multi_scale=False, name=train, nbs=64, nms=False, opset=None, optimize=False, optimizer=SGD, overlap_mask=True, patience=50, perspective=0.0, plots=True, pose=12.0, pretrained=True, profile=False, project=None, rect=False, resume=False, retina_masks=False, save=True, save_conf=False, save_crop=False, save_dir=runs/detect/train, save_frames=False, save_json=False, save_period=5, save_txt=False, scale=0.5, seed=0, shear=0.01, show=False, show_boxes=True, show_conf=True, show_labels=True, simplify=True, single_cls=False, source=None, split=val, stream_buffer=False, task=detect, time=None, tracker=botsort.yaml, translate=0.1, val=True, verbose=True, vid_stride=1, visualize=False, warmup_bias_lr=0.1, warmup_epochs=3.0, warmup_momentum=0.8, weight_decay=0.0005, workers=8, workspace=None\n",
      "Downloading https://ultralytics.com/assets/Arial.ttf to '/root/.config/Ultralytics/Arial.ttf'...\n"
     ]
    },
    {
     "name": "stderr",
     "output_type": "stream",
     "text": [
      "100%|██████████| 755k/755k [00:00<00:00, 18.7MB/s]\n"
     ]
    },
    {
     "name": "stdout",
     "output_type": "stream",
     "text": [
      "Overriding model.yaml nc=80 with nc=1\n",
      "\n",
      "                   from  n    params  module                                       arguments                     \n",
      "  0                  -1  1      1856  ultralytics.nn.modules.conv.Conv             [3, 64, 3, 2]                 \n",
      "  1                  -1  1     73984  ultralytics.nn.modules.conv.Conv             [64, 128, 3, 2]               \n",
      "  2                  -1  1    111872  ultralytics.nn.modules.block.C3k2            [128, 256, 1, True, 0.25]     \n",
      "  3                  -1  1    590336  ultralytics.nn.modules.conv.Conv             [256, 256, 3, 2]              \n",
      "  4                  -1  1    444928  ultralytics.nn.modules.block.C3k2            [256, 512, 1, True, 0.25]     \n",
      "  5                  -1  1   2360320  ultralytics.nn.modules.conv.Conv             [512, 512, 3, 2]              \n",
      "  6                  -1  1   1380352  ultralytics.nn.modules.block.C3k2            [512, 512, 1, True]           \n",
      "  7                  -1  1   2360320  ultralytics.nn.modules.conv.Conv             [512, 512, 3, 2]              \n",
      "  8                  -1  1   1380352  ultralytics.nn.modules.block.C3k2            [512, 512, 1, True]           \n",
      "  9                  -1  1    656896  ultralytics.nn.modules.block.SPPF            [512, 512, 5]                 \n",
      " 10                  -1  1    990976  ultralytics.nn.modules.block.C2PSA           [512, 512, 1]                 \n",
      " 11                  -1  1         0  torch.nn.modules.upsampling.Upsample         [None, 2, 'nearest']          \n",
      " 12             [-1, 6]  1         0  ultralytics.nn.modules.conv.Concat           [1]                           \n",
      " 13                  -1  1   1642496  ultralytics.nn.modules.block.C3k2            [1024, 512, 1, True]          \n",
      " 14                  -1  1         0  torch.nn.modules.upsampling.Upsample         [None, 2, 'nearest']          \n",
      " 15             [-1, 4]  1         0  ultralytics.nn.modules.conv.Concat           [1]                           \n",
      " 16                  -1  1    542720  ultralytics.nn.modules.block.C3k2            [1024, 256, 1, True]          \n",
      " 17                  -1  1    590336  ultralytics.nn.modules.conv.Conv             [256, 256, 3, 2]              \n",
      " 18            [-1, 13]  1         0  ultralytics.nn.modules.conv.Concat           [1]                           \n",
      " 19                  -1  1   1511424  ultralytics.nn.modules.block.C3k2            [768, 512, 1, True]           \n",
      " 20                  -1  1   2360320  ultralytics.nn.modules.conv.Conv             [512, 512, 3, 2]              \n",
      " 21            [-1, 10]  1         0  ultralytics.nn.modules.conv.Concat           [1]                           \n",
      " 22                  -1  1   1642496  ultralytics.nn.modules.block.C3k2            [1024, 512, 1, True]          \n",
      " 23        [16, 19, 22]  1   1411795  ultralytics.nn.modules.head.Detect           [1, [256, 512, 512]]          \n",
      "YOLO11m summary: 231 layers, 20,053,779 parameters, 20,053,763 gradients, 68.2 GFLOPs\n",
      "\n",
      "Transferred 643/649 items from pretrained weights\n",
      "Freezing layer 'model.23.dfl.conv.weight'\n",
      "\u001b[34m\u001b[1mAMP: \u001b[0mrunning Automatic Mixed Precision (AMP) checks...\n",
      "Downloading https://github.com/ultralytics/assets/releases/download/v8.3.0/yolo11n.pt to 'yolo11n.pt'...\n"
     ]
    },
    {
     "name": "stderr",
     "output_type": "stream",
     "text": [
      "100%|██████████| 5.35M/5.35M [00:00<00:00, 72.9MB/s]\n"
     ]
    },
    {
     "name": "stdout",
     "output_type": "stream",
     "text": [
      "\u001b[34m\u001b[1mAMP: \u001b[0mchecks passed ✅\n",
      "\u001b[34m\u001b[1mtrain: \u001b[0mFast image access ✅ (ping: 0.0±0.0 ms, read: 58.9±25.7 MB/s, size: 3000.0 KB)\n"
     ]
    },
    {
     "name": "stderr",
     "output_type": "stream",
     "text": [
      "\u001b[34m\u001b[1mtrain: \u001b[0mScanning /kaggle/input/multi-instance-object-detection-challenge/Starter_Dataset/clutter/train/labels... 56 images, 1 backgrounds, 0 corrupt: 100%|██████████| 56/56 [00:00<00:00, 75.37it/s]"
     ]
    },
    {
     "name": "stdout",
     "output_type": "stream",
     "text": [
      "WARNING ⚠️ \u001b[34m\u001b[1mtrain: \u001b[0mCache directory /kaggle/input/multi-instance-object-detection-challenge/Starter_Dataset/clutter/train is not writeable, cache not saved.\n"
     ]
    },
    {
     "name": "stderr",
     "output_type": "stream",
     "text": [
      "\n"
     ]
    },
    {
     "name": "stdout",
     "output_type": "stream",
     "text": [
      "\u001b[34m\u001b[1malbumentations: \u001b[0mBlur(p=0.01, blur_limit=(3, 7)), MedianBlur(p=0.01, blur_limit=(3, 7)), ToGray(p=0.01, num_output_channels=3, method='weighted_average'), CLAHE(p=0.01, clip_limit=(1.0, 4.0), tile_grid_size=(8, 8))\n",
      "\u001b[34m\u001b[1mval: \u001b[0mFast image access ✅ (ping: 0.0±0.0 ms, read: 93.1±55.4 MB/s, size: 3806.8 KB)\n"
     ]
    },
    {
     "name": "stderr",
     "output_type": "stream",
     "text": [
      "\u001b[34m\u001b[1mval: \u001b[0mScanning /kaggle/input/multi-instance-object-detection-challenge/Starter_Dataset/clutter/val/labels... 14 images, 0 backgrounds, 0 corrupt: 100%|██████████| 14/14 [00:00<00:00, 71.26it/s]\n"
     ]
    },
    {
     "name": "stdout",
     "output_type": "stream",
     "text": [
      "WARNING ⚠️ \u001b[34m\u001b[1mval: \u001b[0mCache directory /kaggle/input/multi-instance-object-detection-challenge/Starter_Dataset/clutter/val is not writeable, cache not saved.\n",
      "Plotting labels to runs/detect/train/labels.jpg... \n",
      "\u001b[34m\u001b[1moptimizer:\u001b[0m SGD(lr=0.001, momentum=0.937) with parameter groups 106 weight(decay=0.0), 113 weight(decay=0.0005), 112 bias(decay=0.0)\n",
      "Image sizes 640 train, 640 val\n",
      "Using 2 dataloader workers\n",
      "Logging results to \u001b[1mruns/detect/train\u001b[0m\n",
      "Starting training for 50 epochs...\n",
      "\n",
      "      Epoch    GPU_mem   box_loss   cls_loss   dfl_loss  Instances       Size\n"
     ]
    },
    {
     "name": "stderr",
     "output_type": "stream",
     "text": [
      "       1/50      2.25G     0.7496      3.264      1.013         17        640: 100%|██████████| 14/14 [00:03<00:00,  3.93it/s]\n",
      "                 Class     Images  Instances      Box(P          R      mAP50  mAP50-95): 100%|██████████| 2/2 [00:01<00:00,  1.65it/s]"
     ]
    },
    {
     "name": "stdout",
     "output_type": "stream",
     "text": [
      "                   all         14         28      0.249      0.143      0.104     0.0754\n"
     ]
    },
    {
     "name": "stderr",
     "output_type": "stream",
     "text": [
      "\n"
     ]
    },
    {
     "name": "stdout",
     "output_type": "stream",
     "text": [
      "\n",
      "      Epoch    GPU_mem   box_loss   cls_loss   dfl_loss  Instances       Size\n"
     ]
    },
    {
     "name": "stderr",
     "output_type": "stream",
     "text": [
      "       2/50      2.35G     0.6736      2.972     0.9443         27        640: 100%|██████████| 14/14 [00:02<00:00,  6.03it/s]\n",
      "                 Class     Images  Instances      Box(P          R      mAP50  mAP50-95): 100%|██████████| 2/2 [00:00<00:00, 11.77it/s]"
     ]
    },
    {
     "name": "stdout",
     "output_type": "stream",
     "text": [
      "                   all         14         28      0.613      0.679      0.578      0.485\n"
     ]
    },
    {
     "name": "stderr",
     "output_type": "stream",
     "text": [
      "\n"
     ]
    },
    {
     "name": "stdout",
     "output_type": "stream",
     "text": [
      "\n",
      "      Epoch    GPU_mem   box_loss   cls_loss   dfl_loss  Instances       Size\n"
     ]
    },
    {
     "name": "stderr",
     "output_type": "stream",
     "text": [
      "       3/50      2.42G     0.6096      2.012     0.9142         10        640: 100%|██████████| 14/14 [00:02<00:00,  5.93it/s]\n",
      "                 Class     Images  Instances      Box(P          R      mAP50  mAP50-95): 100%|██████████| 2/2 [00:00<00:00, 11.78it/s]"
     ]
    },
    {
     "name": "stdout",
     "output_type": "stream",
     "text": [
      "                   all         14         28      0.797      0.786      0.877       0.82\n"
     ]
    },
    {
     "name": "stderr",
     "output_type": "stream",
     "text": [
      "\n"
     ]
    },
    {
     "name": "stdout",
     "output_type": "stream",
     "text": [
      "\n",
      "      Epoch    GPU_mem   box_loss   cls_loss   dfl_loss  Instances       Size\n"
     ]
    },
    {
     "name": "stderr",
     "output_type": "stream",
     "text": [
      "       4/50      2.48G     0.5156       1.34      0.887         22        640: 100%|██████████| 14/14 [00:02<00:00,  6.34it/s]\n",
      "                 Class     Images  Instances      Box(P          R      mAP50  mAP50-95): 100%|██████████| 2/2 [00:00<00:00, 12.73it/s]"
     ]
    },
    {
     "name": "stdout",
     "output_type": "stream",
     "text": [
      "                   all         14         28      0.764      0.857      0.894      0.839\n"
     ]
    },
    {
     "name": "stderr",
     "output_type": "stream",
     "text": [
      "\n"
     ]
    },
    {
     "name": "stdout",
     "output_type": "stream",
     "text": [
      "\n",
      "      Epoch    GPU_mem   box_loss   cls_loss   dfl_loss  Instances       Size\n"
     ]
    },
    {
     "name": "stderr",
     "output_type": "stream",
     "text": [
      "       5/50      2.57G     0.5878      1.587     0.9151         12        640: 100%|██████████| 14/14 [00:02<00:00,  6.31it/s]\n",
      "                 Class     Images  Instances      Box(P          R      mAP50  mAP50-95): 100%|██████████| 2/2 [00:00<00:00, 10.34it/s]"
     ]
    },
    {
     "name": "stdout",
     "output_type": "stream",
     "text": [
      "                   all         14         28        0.8      0.856      0.898      0.847\n"
     ]
    },
    {
     "name": "stderr",
     "output_type": "stream",
     "text": [
      "\n"
     ]
    },
    {
     "name": "stdout",
     "output_type": "stream",
     "text": [
      "\n",
      "      Epoch    GPU_mem   box_loss   cls_loss   dfl_loss  Instances       Size\n"
     ]
    },
    {
     "name": "stderr",
     "output_type": "stream",
     "text": [
      "       6/50      2.65G       0.57      1.397     0.9439         17        640: 100%|██████████| 14/14 [00:02<00:00,  6.39it/s]\n",
      "                 Class     Images  Instances      Box(P          R      mAP50  mAP50-95): 100%|██████████| 2/2 [00:00<00:00, 10.95it/s]"
     ]
    },
    {
     "name": "stdout",
     "output_type": "stream",
     "text": [
      "                   all         14         28       0.79      0.821      0.894      0.849\n"
     ]
    },
    {
     "name": "stderr",
     "output_type": "stream",
     "text": [
      "\n"
     ]
    },
    {
     "name": "stdout",
     "output_type": "stream",
     "text": [
      "\n",
      "      Epoch    GPU_mem   box_loss   cls_loss   dfl_loss  Instances       Size\n"
     ]
    },
    {
     "name": "stderr",
     "output_type": "stream",
     "text": [
      "       7/50      2.71G     0.5266      1.307     0.8937         17        640: 100%|██████████| 14/14 [00:02<00:00,  6.32it/s]\n",
      "                 Class     Images  Instances      Box(P          R      mAP50  mAP50-95): 100%|██████████| 2/2 [00:00<00:00, 11.96it/s]"
     ]
    },
    {
     "name": "stdout",
     "output_type": "stream",
     "text": [
      "                   all         14         28        0.8      0.786       0.87      0.826\n"
     ]
    },
    {
     "name": "stderr",
     "output_type": "stream",
     "text": [
      "\n"
     ]
    },
    {
     "name": "stdout",
     "output_type": "stream",
     "text": [
      "\n",
      "      Epoch    GPU_mem   box_loss   cls_loss   dfl_loss  Instances       Size\n"
     ]
    },
    {
     "name": "stderr",
     "output_type": "stream",
     "text": [
      "       8/50       2.8G     0.5279      1.117     0.9027         19        640: 100%|██████████| 14/14 [00:02<00:00,  6.33it/s]\n",
      "                 Class     Images  Instances      Box(P          R      mAP50  mAP50-95): 100%|██████████| 2/2 [00:00<00:00, 10.97it/s]"
     ]
    },
    {
     "name": "stdout",
     "output_type": "stream",
     "text": [
      "                   all         14         28      0.777      0.871      0.865      0.824\n"
     ]
    },
    {
     "name": "stderr",
     "output_type": "stream",
     "text": [
      "\n"
     ]
    },
    {
     "name": "stdout",
     "output_type": "stream",
     "text": [
      "\n",
      "      Epoch    GPU_mem   box_loss   cls_loss   dfl_loss  Instances       Size\n"
     ]
    },
    {
     "name": "stderr",
     "output_type": "stream",
     "text": [
      "       9/50      2.88G     0.4671      1.117     0.8488         21        640: 100%|██████████| 14/14 [00:02<00:00,  6.30it/s]\n",
      "                 Class     Images  Instances      Box(P          R      mAP50  mAP50-95): 100%|██████████| 2/2 [00:00<00:00, 10.28it/s]\n"
     ]
    },
    {
     "name": "stdout",
     "output_type": "stream",
     "text": [
      "                   all         14         28      0.817      0.857      0.864      0.825\n",
      "\n",
      "      Epoch    GPU_mem   box_loss   cls_loss   dfl_loss  Instances       Size\n"
     ]
    },
    {
     "name": "stderr",
     "output_type": "stream",
     "text": [
      "      10/50      2.94G     0.5306      1.052     0.8829         14        640: 100%|██████████| 14/14 [00:02<00:00,  6.19it/s]\n",
      "                 Class     Images  Instances      Box(P          R      mAP50  mAP50-95): 100%|██████████| 2/2 [00:00<00:00, 11.77it/s]"
     ]
    },
    {
     "name": "stdout",
     "output_type": "stream",
     "text": [
      "                   all         14         28      0.903      0.857      0.898      0.862\n"
     ]
    },
    {
     "name": "stderr",
     "output_type": "stream",
     "text": [
      "\n"
     ]
    },
    {
     "name": "stdout",
     "output_type": "stream",
     "text": [
      "\n",
      "      Epoch    GPU_mem   box_loss   cls_loss   dfl_loss  Instances       Size\n"
     ]
    },
    {
     "name": "stderr",
     "output_type": "stream",
     "text": [
      "      11/50      3.03G     0.4796     0.9575      0.842         25        640: 100%|██████████| 14/14 [00:02<00:00,  5.97it/s]\n",
      "                 Class     Images  Instances      Box(P          R      mAP50  mAP50-95): 100%|██████████| 2/2 [00:00<00:00, 11.81it/s]"
     ]
    },
    {
     "name": "stdout",
     "output_type": "stream",
     "text": [
      "                   all         14         28      0.892      0.884      0.892      0.867\n"
     ]
    },
    {
     "name": "stderr",
     "output_type": "stream",
     "text": [
      "\n"
     ]
    },
    {
     "name": "stdout",
     "output_type": "stream",
     "text": [
      "\n",
      "      Epoch    GPU_mem   box_loss   cls_loss   dfl_loss  Instances       Size\n"
     ]
    },
    {
     "name": "stderr",
     "output_type": "stream",
     "text": [
      "      12/50      3.11G     0.4637      0.799     0.8524         11        640: 100%|██████████| 14/14 [00:02<00:00,  6.26it/s]\n",
      "                 Class     Images  Instances      Box(P          R      mAP50  mAP50-95): 100%|██████████| 2/2 [00:00<00:00, 11.37it/s]\n"
     ]
    },
    {
     "name": "stdout",
     "output_type": "stream",
     "text": [
      "                   all         14         28      0.917      0.893      0.919      0.887\n",
      "\n",
      "      Epoch    GPU_mem   box_loss   cls_loss   dfl_loss  Instances       Size\n"
     ]
    },
    {
     "name": "stderr",
     "output_type": "stream",
     "text": [
      "      13/50      3.17G     0.4657     0.8336      0.841         27        640: 100%|██████████| 14/14 [00:02<00:00,  6.10it/s]\n",
      "                 Class     Images  Instances      Box(P          R      mAP50  mAP50-95): 100%|██████████| 2/2 [00:00<00:00, 12.60it/s]"
     ]
    },
    {
     "name": "stdout",
     "output_type": "stream",
     "text": [
      "                   all         14         28      0.892      0.884      0.931      0.902\n"
     ]
    },
    {
     "name": "stderr",
     "output_type": "stream",
     "text": [
      "\n"
     ]
    },
    {
     "name": "stdout",
     "output_type": "stream",
     "text": [
      "\n",
      "      Epoch    GPU_mem   box_loss   cls_loss   dfl_loss  Instances       Size\n"
     ]
    },
    {
     "name": "stderr",
     "output_type": "stream",
     "text": [
      "      14/50      3.26G     0.4406      0.674     0.8466         26        640: 100%|██████████| 14/14 [00:02<00:00,  6.32it/s]\n",
      "                 Class     Images  Instances      Box(P          R      mAP50  mAP50-95): 100%|██████████| 2/2 [00:00<00:00, 12.94it/s]"
     ]
    },
    {
     "name": "stdout",
     "output_type": "stream",
     "text": [
      "                   all         14         28      0.892      0.884      0.931      0.902\n"
     ]
    },
    {
     "name": "stderr",
     "output_type": "stream",
     "text": [
      "\n"
     ]
    },
    {
     "name": "stdout",
     "output_type": "stream",
     "text": [
      "\n",
      "      Epoch    GPU_mem   box_loss   cls_loss   dfl_loss  Instances       Size\n"
     ]
    },
    {
     "name": "stderr",
     "output_type": "stream",
     "text": [
      "      15/50      3.34G     0.5353     0.7747     0.8827         10        640: 100%|██████████| 14/14 [00:02<00:00,  6.23it/s]\n",
      "                 Class     Images  Instances      Box(P          R      mAP50  mAP50-95): 100%|██████████| 2/2 [00:00<00:00, 13.42it/s]"
     ]
    },
    {
     "name": "stdout",
     "output_type": "stream",
     "text": [
      "                   all         14         28      0.917      0.857       0.93      0.899\n"
     ]
    },
    {
     "name": "stderr",
     "output_type": "stream",
     "text": [
      "\n"
     ]
    },
    {
     "name": "stdout",
     "output_type": "stream",
     "text": [
      "\n",
      "      Epoch    GPU_mem   box_loss   cls_loss   dfl_loss  Instances       Size\n"
     ]
    },
    {
     "name": "stderr",
     "output_type": "stream",
     "text": [
      "      16/50       3.4G     0.4865     0.7148     0.9172         15        640: 100%|██████████| 14/14 [00:02<00:00,  6.09it/s]\n",
      "                 Class     Images  Instances      Box(P          R      mAP50  mAP50-95): 100%|██████████| 2/2 [00:00<00:00, 11.02it/s]"
     ]
    },
    {
     "name": "stdout",
     "output_type": "stream",
     "text": [
      "                   all         14         28      0.887      0.893      0.912      0.873\n"
     ]
    },
    {
     "name": "stderr",
     "output_type": "stream",
     "text": [
      "\n"
     ]
    },
    {
     "name": "stdout",
     "output_type": "stream",
     "text": [
      "\n",
      "      Epoch    GPU_mem   box_loss   cls_loss   dfl_loss  Instances       Size\n"
     ]
    },
    {
     "name": "stderr",
     "output_type": "stream",
     "text": [
      "      17/50      3.49G     0.4378     0.6129     0.8453         26        640: 100%|██████████| 14/14 [00:02<00:00,  6.08it/s]\n",
      "                 Class     Images  Instances      Box(P          R      mAP50  mAP50-95): 100%|██████████| 2/2 [00:00<00:00, 12.68it/s]"
     ]
    },
    {
     "name": "stdout",
     "output_type": "stream",
     "text": [
      "                   all         14         28      0.925      0.887      0.913      0.888\n"
     ]
    },
    {
     "name": "stderr",
     "output_type": "stream",
     "text": [
      "\n"
     ]
    },
    {
     "name": "stdout",
     "output_type": "stream",
     "text": [
      "\n",
      "      Epoch    GPU_mem   box_loss   cls_loss   dfl_loss  Instances       Size\n"
     ]
    },
    {
     "name": "stderr",
     "output_type": "stream",
     "text": [
      "      18/50      3.63G     0.4626     0.6488     0.8428         26        640: 100%|██████████| 14/14 [00:02<00:00,  6.10it/s]\n",
      "                 Class     Images  Instances      Box(P          R      mAP50  mAP50-95): 100%|██████████| 2/2 [00:00<00:00, 13.34it/s]"
     ]
    },
    {
     "name": "stdout",
     "output_type": "stream",
     "text": [
      "                   all         14         28      0.928      0.923      0.926      0.905\n"
     ]
    },
    {
     "name": "stderr",
     "output_type": "stream",
     "text": [
      "\n"
     ]
    },
    {
     "name": "stdout",
     "output_type": "stream",
     "text": [
      "\n",
      "      Epoch    GPU_mem   box_loss   cls_loss   dfl_loss  Instances       Size\n"
     ]
    },
    {
     "name": "stderr",
     "output_type": "stream",
     "text": [
      "      19/50      3.67G      0.411     0.5547     0.8474         17        640: 100%|██████████| 14/14 [00:02<00:00,  6.00it/s]\n",
      "                 Class     Images  Instances      Box(P          R      mAP50  mAP50-95): 100%|██████████| 2/2 [00:00<00:00, 11.81it/s]\n"
     ]
    },
    {
     "name": "stdout",
     "output_type": "stream",
     "text": [
      "                   all         14         28      0.928      0.919      0.927      0.906\n",
      "\n",
      "      Epoch    GPU_mem   box_loss   cls_loss   dfl_loss  Instances       Size\n"
     ]
    },
    {
     "name": "stderr",
     "output_type": "stream",
     "text": [
      "      20/50      3.71G     0.4978     0.5799     0.8812         19        640: 100%|██████████| 14/14 [00:02<00:00,  6.00it/s]\n",
      "                 Class     Images  Instances      Box(P          R      mAP50  mAP50-95): 100%|██████████| 2/2 [00:00<00:00, 12.36it/s]"
     ]
    },
    {
     "name": "stdout",
     "output_type": "stream",
     "text": [
      "                   all         14         28      0.898      0.929      0.906      0.889\n"
     ]
    },
    {
     "name": "stderr",
     "output_type": "stream",
     "text": [
      "\n"
     ]
    },
    {
     "name": "stdout",
     "output_type": "stream",
     "text": [
      "\n",
      "      Epoch    GPU_mem   box_loss   cls_loss   dfl_loss  Instances       Size\n"
     ]
    },
    {
     "name": "stderr",
     "output_type": "stream",
     "text": [
      "      21/50       3.8G     0.4585     0.5788     0.8726         23        640: 100%|██████████| 14/14 [00:02<00:00,  5.87it/s]\n",
      "                 Class     Images  Instances      Box(P          R      mAP50  mAP50-95): 100%|██████████| 2/2 [00:00<00:00, 12.43it/s]"
     ]
    },
    {
     "name": "stdout",
     "output_type": "stream",
     "text": [
      "                   all         14         28      0.926      0.929      0.912      0.898\n"
     ]
    },
    {
     "name": "stderr",
     "output_type": "stream",
     "text": [
      "\n"
     ]
    },
    {
     "name": "stdout",
     "output_type": "stream",
     "text": [
      "\n",
      "      Epoch    GPU_mem   box_loss   cls_loss   dfl_loss  Instances       Size\n"
     ]
    },
    {
     "name": "stderr",
     "output_type": "stream",
     "text": [
      "      22/50      3.86G     0.4585     0.5329     0.8812         18        640: 100%|██████████| 14/14 [00:02<00:00,  5.99it/s]\n",
      "                 Class     Images  Instances      Box(P          R      mAP50  mAP50-95): 100%|██████████| 2/2 [00:00<00:00, 12.11it/s]"
     ]
    },
    {
     "name": "stdout",
     "output_type": "stream",
     "text": [
      "                   all         14         28      0.926      0.929      0.912      0.898\n"
     ]
    },
    {
     "name": "stderr",
     "output_type": "stream",
     "text": [
      "\n"
     ]
    },
    {
     "name": "stdout",
     "output_type": "stream",
     "text": [
      "\n",
      "      Epoch    GPU_mem   box_loss   cls_loss   dfl_loss  Instances       Size\n"
     ]
    },
    {
     "name": "stderr",
     "output_type": "stream",
     "text": [
      "      23/50      3.95G     0.4346     0.5038     0.8719         10        640: 100%|██████████| 14/14 [00:02<00:00,  6.04it/s]\n",
      "                 Class     Images  Instances      Box(P          R      mAP50  mAP50-95): 100%|██████████| 2/2 [00:00<00:00, 13.15it/s]"
     ]
    },
    {
     "name": "stdout",
     "output_type": "stream",
     "text": [
      "                   all         14         28      0.899      0.958      0.911      0.891\n"
     ]
    },
    {
     "name": "stderr",
     "output_type": "stream",
     "text": [
      "\n"
     ]
    },
    {
     "name": "stdout",
     "output_type": "stream",
     "text": [
      "\n",
      "      Epoch    GPU_mem   box_loss   cls_loss   dfl_loss  Instances       Size\n"
     ]
    },
    {
     "name": "stderr",
     "output_type": "stream",
     "text": [
      "      24/50      4.03G     0.4498      0.567     0.8689         22        640: 100%|██████████| 14/14 [00:02<00:00,  6.06it/s]\n",
      "                 Class     Images  Instances      Box(P          R      mAP50  mAP50-95): 100%|██████████| 2/2 [00:00<00:00, 11.72it/s]"
     ]
    },
    {
     "name": "stdout",
     "output_type": "stream",
     "text": [
      "                   all         14         28      0.928      0.927      0.932      0.912\n"
     ]
    },
    {
     "name": "stderr",
     "output_type": "stream",
     "text": [
      "\n"
     ]
    },
    {
     "name": "stdout",
     "output_type": "stream",
     "text": [
      "\n",
      "      Epoch    GPU_mem   box_loss   cls_loss   dfl_loss  Instances       Size\n"
     ]
    },
    {
     "name": "stderr",
     "output_type": "stream",
     "text": [
      "      25/50       4.1G     0.4108     0.4734      0.863         15        640: 100%|██████████| 14/14 [00:02<00:00,  6.05it/s]\n",
      "                 Class     Images  Instances      Box(P          R      mAP50  mAP50-95): 100%|██████████| 2/2 [00:00<00:00,  8.60it/s]"
     ]
    },
    {
     "name": "stdout",
     "output_type": "stream",
     "text": [
      "                   all         14         28      0.928      0.929      0.936      0.907\n"
     ]
    },
    {
     "name": "stderr",
     "output_type": "stream",
     "text": [
      "\n"
     ]
    },
    {
     "name": "stdout",
     "output_type": "stream",
     "text": [
      "\n",
      "      Epoch    GPU_mem   box_loss   cls_loss   dfl_loss  Instances       Size\n"
     ]
    },
    {
     "name": "stderr",
     "output_type": "stream",
     "text": [
      "      26/50      4.18G     0.4187      0.474     0.8764         12        640: 100%|██████████| 14/14 [00:02<00:00,  5.96it/s]\n",
      "                 Class     Images  Instances      Box(P          R      mAP50  mAP50-95): 100%|██████████| 2/2 [00:00<00:00, 12.54it/s]"
     ]
    },
    {
     "name": "stdout",
     "output_type": "stream",
     "text": [
      "                   all         14         28      0.927      0.929      0.936      0.908\n"
     ]
    },
    {
     "name": "stderr",
     "output_type": "stream",
     "text": [
      "\n"
     ]
    },
    {
     "name": "stdout",
     "output_type": "stream",
     "text": [
      "\n",
      "      Epoch    GPU_mem   box_loss   cls_loss   dfl_loss  Instances       Size\n"
     ]
    },
    {
     "name": "stderr",
     "output_type": "stream",
     "text": [
      "      27/50      4.26G     0.4005     0.4494     0.8609          5        640: 100%|██████████| 14/14 [00:02<00:00,  6.05it/s]\n",
      "                 Class     Images  Instances      Box(P          R      mAP50  mAP50-95): 100%|██████████| 2/2 [00:00<00:00, 11.55it/s]\n"
     ]
    },
    {
     "name": "stdout",
     "output_type": "stream",
     "text": [
      "                   all         14         28      0.925      0.929      0.944      0.927\n",
      "\n",
      "      Epoch    GPU_mem   box_loss   cls_loss   dfl_loss  Instances       Size\n"
     ]
    },
    {
     "name": "stderr",
     "output_type": "stream",
     "text": [
      "      28/50      4.32G     0.3904     0.4175     0.8309         24        640: 100%|██████████| 14/14 [00:02<00:00,  6.06it/s]\n",
      "                 Class     Images  Instances      Box(P          R      mAP50  mAP50-95): 100%|██████████| 2/2 [00:00<00:00, 13.21it/s]"
     ]
    },
    {
     "name": "stdout",
     "output_type": "stream",
     "text": [
      "                   all         14         28      0.926      0.929      0.945      0.931\n"
     ]
    },
    {
     "name": "stderr",
     "output_type": "stream",
     "text": [
      "\n"
     ]
    },
    {
     "name": "stdout",
     "output_type": "stream",
     "text": [
      "\n",
      "      Epoch    GPU_mem   box_loss   cls_loss   dfl_loss  Instances       Size\n"
     ]
    },
    {
     "name": "stderr",
     "output_type": "stream",
     "text": [
      "      29/50      4.41G     0.4152     0.4674     0.8392         14        640: 100%|██████████| 14/14 [00:02<00:00,  5.88it/s]\n",
      "                 Class     Images  Instances      Box(P          R      mAP50  mAP50-95): 100%|██████████| 2/2 [00:00<00:00, 12.69it/s]\n"
     ]
    },
    {
     "name": "stdout",
     "output_type": "stream",
     "text": [
      "                   all         14         28      0.925      0.929      0.949      0.931\n",
      "\n",
      "      Epoch    GPU_mem   box_loss   cls_loss   dfl_loss  Instances       Size\n"
     ]
    },
    {
     "name": "stderr",
     "output_type": "stream",
     "text": [
      "      30/50      4.49G     0.4321     0.4118     0.8727         21        640: 100%|██████████| 14/14 [00:02<00:00,  5.98it/s]\n",
      "                 Class     Images  Instances      Box(P          R      mAP50  mAP50-95): 100%|██████████| 2/2 [00:00<00:00, 12.30it/s]"
     ]
    },
    {
     "name": "stdout",
     "output_type": "stream",
     "text": [
      "                   all         14         28      0.925      0.929      0.949      0.931\n"
     ]
    },
    {
     "name": "stderr",
     "output_type": "stream",
     "text": [
      "\n"
     ]
    },
    {
     "name": "stdout",
     "output_type": "stream",
     "text": [
      "\n",
      "      Epoch    GPU_mem   box_loss   cls_loss   dfl_loss  Instances       Size\n"
     ]
    },
    {
     "name": "stderr",
     "output_type": "stream",
     "text": [
      "      31/50      4.56G     0.4014     0.4001     0.8293         13        640: 100%|██████████| 14/14 [00:02<00:00,  5.68it/s]\n",
      "                 Class     Images  Instances      Box(P          R      mAP50  mAP50-95): 100%|██████████| 2/2 [00:00<00:00,  8.76it/s]"
     ]
    },
    {
     "name": "stdout",
     "output_type": "stream",
     "text": [
      "                   all         14         28        0.9      0.962      0.949      0.928\n"
     ]
    },
    {
     "name": "stderr",
     "output_type": "stream",
     "text": [
      "\n"
     ]
    },
    {
     "name": "stdout",
     "output_type": "stream",
     "text": [
      "\n",
      "      Epoch    GPU_mem   box_loss   cls_loss   dfl_loss  Instances       Size\n"
     ]
    },
    {
     "name": "stderr",
     "output_type": "stream",
     "text": [
      "      32/50      4.64G     0.3856     0.4051     0.8378         17        640: 100%|██████████| 14/14 [00:02<00:00,  5.78it/s]\n",
      "                 Class     Images  Instances      Box(P          R      mAP50  mAP50-95): 100%|██████████| 2/2 [00:00<00:00, 12.99it/s]"
     ]
    },
    {
     "name": "stdout",
     "output_type": "stream",
     "text": [
      "                   all         14         28      0.925      0.929      0.947      0.916\n"
     ]
    },
    {
     "name": "stderr",
     "output_type": "stream",
     "text": [
      "\n"
     ]
    },
    {
     "name": "stdout",
     "output_type": "stream",
     "text": [
      "\n",
      "      Epoch    GPU_mem   box_loss   cls_loss   dfl_loss  Instances       Size\n"
     ]
    },
    {
     "name": "stderr",
     "output_type": "stream",
     "text": [
      "      33/50      4.72G     0.3873     0.4506     0.8441          8        640: 100%|██████████| 14/14 [00:02<00:00,  5.86it/s]\n",
      "                 Class     Images  Instances      Box(P          R      mAP50  mAP50-95): 100%|██████████| 2/2 [00:00<00:00, 12.07it/s]"
     ]
    },
    {
     "name": "stdout",
     "output_type": "stream",
     "text": [
      "                   all         14         28      0.952      0.929       0.95      0.918\n"
     ]
    },
    {
     "name": "stderr",
     "output_type": "stream",
     "text": [
      "\n"
     ]
    },
    {
     "name": "stdout",
     "output_type": "stream",
     "text": [
      "\n",
      "      Epoch    GPU_mem   box_loss   cls_loss   dfl_loss  Instances       Size\n"
     ]
    },
    {
     "name": "stderr",
     "output_type": "stream",
     "text": [
      "      34/50      4.81G      0.366     0.3656     0.8511         24        640: 100%|██████████| 14/14 [00:02<00:00,  5.87it/s]\n",
      "                 Class     Images  Instances      Box(P          R      mAP50  mAP50-95): 100%|██████████| 2/2 [00:00<00:00, 12.95it/s]"
     ]
    },
    {
     "name": "stdout",
     "output_type": "stream",
     "text": [
      "                   all         14         28      0.931       0.96      0.951      0.919\n"
     ]
    },
    {
     "name": "stderr",
     "output_type": "stream",
     "text": [
      "\n"
     ]
    },
    {
     "name": "stdout",
     "output_type": "stream",
     "text": [
      "\n",
      "      Epoch    GPU_mem   box_loss   cls_loss   dfl_loss  Instances       Size\n"
     ]
    },
    {
     "name": "stderr",
     "output_type": "stream",
     "text": [
      "      35/50      4.89G     0.3827      0.385     0.8083         18        640: 100%|██████████| 14/14 [00:02<00:00,  5.73it/s]\n",
      "                 Class     Images  Instances      Box(P          R      mAP50  mAP50-95): 100%|██████████| 2/2 [00:00<00:00, 12.89it/s]"
     ]
    },
    {
     "name": "stdout",
     "output_type": "stream",
     "text": [
      "                   all         14         28      0.931      0.959      0.954       0.92\n"
     ]
    },
    {
     "name": "stderr",
     "output_type": "stream",
     "text": [
      "\n"
     ]
    },
    {
     "name": "stdout",
     "output_type": "stream",
     "text": [
      "Closing dataloader mosaic\n",
      "\u001b[34m\u001b[1malbumentations: \u001b[0mBlur(p=0.01, blur_limit=(3, 7)), MedianBlur(p=0.01, blur_limit=(3, 7)), ToGray(p=0.01, num_output_channels=3, method='weighted_average'), CLAHE(p=0.01, clip_limit=(1.0, 4.0), tile_grid_size=(8, 8))\n",
      "\n",
      "      Epoch    GPU_mem   box_loss   cls_loss   dfl_loss  Instances       Size\n"
     ]
    },
    {
     "name": "stderr",
     "output_type": "stream",
     "text": [
      "      36/50      4.95G     0.3981     0.4961     0.8232          6        640: 100%|██████████| 14/14 [00:02<00:00,  4.85it/s]\n",
      "                 Class     Images  Instances      Box(P          R      mAP50  mAP50-95): 100%|██████████| 2/2 [00:00<00:00, 11.59it/s]\n"
     ]
    },
    {
     "name": "stdout",
     "output_type": "stream",
     "text": [
      "                   all         14         28      0.931      0.958      0.956      0.926\n",
      "\n",
      "      Epoch    GPU_mem   box_loss   cls_loss   dfl_loss  Instances       Size\n"
     ]
    },
    {
     "name": "stderr",
     "output_type": "stream",
     "text": [
      "      37/50      5.03G     0.3718     0.4657     0.8048          9        640: 100%|██████████| 14/14 [00:02<00:00,  5.84it/s]\n",
      "                 Class     Images  Instances      Box(P          R      mAP50  mAP50-95): 100%|██████████| 2/2 [00:00<00:00, 13.21it/s]"
     ]
    },
    {
     "name": "stdout",
     "output_type": "stream",
     "text": [
      "                   all         14         28      0.952      0.929      0.956      0.929\n"
     ]
    },
    {
     "name": "stderr",
     "output_type": "stream",
     "text": [
      "\n"
     ]
    },
    {
     "name": "stdout",
     "output_type": "stream",
     "text": [
      "\n",
      "      Epoch    GPU_mem   box_loss   cls_loss   dfl_loss  Instances       Size\n"
     ]
    },
    {
     "name": "stderr",
     "output_type": "stream",
     "text": [
      "      38/50       5.1G     0.3327     0.4247     0.8255          5        640: 100%|██████████| 14/14 [00:02<00:00,  5.87it/s]\n",
      "                 Class     Images  Instances      Box(P          R      mAP50  mAP50-95): 100%|██████████| 2/2 [00:00<00:00, 12.19it/s]"
     ]
    },
    {
     "name": "stdout",
     "output_type": "stream",
     "text": [
      "                   all         14         28      0.952      0.929      0.956      0.929\n"
     ]
    },
    {
     "name": "stderr",
     "output_type": "stream",
     "text": [
      "\n"
     ]
    },
    {
     "name": "stdout",
     "output_type": "stream",
     "text": [
      "\n",
      "      Epoch    GPU_mem   box_loss   cls_loss   dfl_loss  Instances       Size\n"
     ]
    },
    {
     "name": "stderr",
     "output_type": "stream",
     "text": [
      "      39/50      5.18G     0.3151     0.3884     0.7987         10        640: 100%|██████████| 14/14 [00:02<00:00,  5.91it/s]\n",
      "                 Class     Images  Instances      Box(P          R      mAP50  mAP50-95): 100%|██████████| 2/2 [00:00<00:00, 12.03it/s]"
     ]
    },
    {
     "name": "stdout",
     "output_type": "stream",
     "text": [
      "                   all         14         28      0.951      0.929       0.96      0.942\n"
     ]
    },
    {
     "name": "stderr",
     "output_type": "stream",
     "text": [
      "\n"
     ]
    },
    {
     "name": "stdout",
     "output_type": "stream",
     "text": [
      "\n",
      "      Epoch    GPU_mem   box_loss   cls_loss   dfl_loss  Instances       Size\n"
     ]
    },
    {
     "name": "stderr",
     "output_type": "stream",
     "text": [
      "      40/50      5.27G     0.3696     0.4275     0.8092         11        640: 100%|██████████| 14/14 [00:02<00:00,  5.90it/s]\n",
      "                 Class     Images  Instances      Box(P          R      mAP50  mAP50-95): 100%|██████████| 2/2 [00:00<00:00, 12.00it/s]"
     ]
    },
    {
     "name": "stdout",
     "output_type": "stream",
     "text": [
      "                   all         14         28      0.951      0.929      0.961      0.945\n"
     ]
    },
    {
     "name": "stderr",
     "output_type": "stream",
     "text": [
      "\n"
     ]
    },
    {
     "name": "stdout",
     "output_type": "stream",
     "text": [
      "\n",
      "      Epoch    GPU_mem   box_loss   cls_loss   dfl_loss  Instances       Size\n"
     ]
    },
    {
     "name": "stderr",
     "output_type": "stream",
     "text": [
      "      41/50      5.35G     0.3401     0.4232     0.7997         10        640: 100%|██████████| 14/14 [00:02<00:00,  5.69it/s]\n",
      "                 Class     Images  Instances      Box(P          R      mAP50  mAP50-95): 100%|██████████| 2/2 [00:00<00:00, 12.22it/s]"
     ]
    },
    {
     "name": "stdout",
     "output_type": "stream",
     "text": [
      "                   all         14         28      0.954      0.929      0.956      0.942\n"
     ]
    },
    {
     "name": "stderr",
     "output_type": "stream",
     "text": [
      "\n"
     ]
    },
    {
     "name": "stdout",
     "output_type": "stream",
     "text": [
      "\n",
      "      Epoch    GPU_mem   box_loss   cls_loss   dfl_loss  Instances       Size\n"
     ]
    },
    {
     "name": "stderr",
     "output_type": "stream",
     "text": [
      "      42/50      5.41G      0.363     0.4278      0.843         10        640: 100%|██████████| 14/14 [00:02<00:00,  5.93it/s]\n",
      "                 Class     Images  Instances      Box(P          R      mAP50  mAP50-95): 100%|██████████| 2/2 [00:00<00:00, 12.12it/s]"
     ]
    },
    {
     "name": "stdout",
     "output_type": "stream",
     "text": [
      "                   all         14         28      0.957      0.929      0.959      0.953\n"
     ]
    },
    {
     "name": "stderr",
     "output_type": "stream",
     "text": [
      "\n"
     ]
    },
    {
     "name": "stdout",
     "output_type": "stream",
     "text": [
      "\n",
      "      Epoch    GPU_mem   box_loss   cls_loss   dfl_loss  Instances       Size\n"
     ]
    },
    {
     "name": "stderr",
     "output_type": "stream",
     "text": [
      "      43/50       5.5G     0.3478     0.4138     0.8068          9        640: 100%|██████████| 14/14 [00:02<00:00,  5.93it/s]\n",
      "                 Class     Images  Instances      Box(P          R      mAP50  mAP50-95): 100%|██████████| 2/2 [00:00<00:00, 10.84it/s]"
     ]
    },
    {
     "name": "stdout",
     "output_type": "stream",
     "text": [
      "                   all         14         28      0.958      0.929      0.964      0.949\n"
     ]
    },
    {
     "name": "stderr",
     "output_type": "stream",
     "text": [
      "\n"
     ]
    },
    {
     "name": "stdout",
     "output_type": "stream",
     "text": [
      "\n",
      "      Epoch    GPU_mem   box_loss   cls_loss   dfl_loss  Instances       Size\n"
     ]
    },
    {
     "name": "stderr",
     "output_type": "stream",
     "text": [
      "      44/50      5.58G     0.3653     0.4194     0.8107          9        640: 100%|██████████| 14/14 [00:02<00:00,  5.89it/s]\n",
      "                 Class     Images  Instances      Box(P          R      mAP50  mAP50-95): 100%|██████████| 2/2 [00:00<00:00, 11.61it/s]\n"
     ]
    },
    {
     "name": "stdout",
     "output_type": "stream",
     "text": [
      "                   all         14         28      0.957      0.929      0.969       0.95\n",
      "\n",
      "      Epoch    GPU_mem   box_loss   cls_loss   dfl_loss  Instances       Size\n"
     ]
    },
    {
     "name": "stderr",
     "output_type": "stream",
     "text": [
      "      45/50      5.66G     0.3535     0.3914     0.8084          9        640: 100%|██████████| 14/14 [00:02<00:00,  6.02it/s]\n",
      "                 Class     Images  Instances      Box(P          R      mAP50  mAP50-95): 100%|██████████| 2/2 [00:00<00:00, 13.12it/s]"
     ]
    },
    {
     "name": "stdout",
     "output_type": "stream",
     "text": [
      "                   all         14         28      0.934      0.929      0.966      0.952\n"
     ]
    },
    {
     "name": "stderr",
     "output_type": "stream",
     "text": [
      "\n"
     ]
    },
    {
     "name": "stdout",
     "output_type": "stream",
     "text": [
      "\n",
      "      Epoch    GPU_mem   box_loss   cls_loss   dfl_loss  Instances       Size\n"
     ]
    },
    {
     "name": "stderr",
     "output_type": "stream",
     "text": [
      "      46/50      5.73G     0.3422     0.3906     0.7909          6        640: 100%|██████████| 14/14 [00:02<00:00,  6.04it/s]\n",
      "                 Class     Images  Instances      Box(P          R      mAP50  mAP50-95): 100%|██████████| 2/2 [00:00<00:00, 12.38it/s]"
     ]
    },
    {
     "name": "stdout",
     "output_type": "stream",
     "text": [
      "                   all         14         28      0.934      0.929      0.966      0.952\n"
     ]
    },
    {
     "name": "stderr",
     "output_type": "stream",
     "text": [
      "\n"
     ]
    },
    {
     "name": "stdout",
     "output_type": "stream",
     "text": [
      "\n",
      "      Epoch    GPU_mem   box_loss   cls_loss   dfl_loss  Instances       Size\n"
     ]
    },
    {
     "name": "stderr",
     "output_type": "stream",
     "text": [
      "      47/50      5.81G     0.3454     0.4044     0.7945          4        640: 100%|██████████| 14/14 [00:02<00:00,  5.86it/s]\n",
      "                 Class     Images  Instances      Box(P          R      mAP50  mAP50-95): 100%|██████████| 2/2 [00:00<00:00, 11.61it/s]\n"
     ]
    },
    {
     "name": "stdout",
     "output_type": "stream",
     "text": [
      "                   all         14         28      0.941      0.929      0.965      0.938\n",
      "\n",
      "      Epoch    GPU_mem   box_loss   cls_loss   dfl_loss  Instances       Size\n"
     ]
    },
    {
     "name": "stderr",
     "output_type": "stream",
     "text": [
      "      48/50      5.87G     0.3401     0.4225     0.7867         10        640: 100%|██████████| 14/14 [00:02<00:00,  5.98it/s]\n",
      "                 Class     Images  Instances      Box(P          R      mAP50  mAP50-95): 100%|██████████| 2/2 [00:00<00:00, 12.33it/s]"
     ]
    },
    {
     "name": "stdout",
     "output_type": "stream",
     "text": [
      "                   all         14         28      0.897      0.964      0.963      0.945\n"
     ]
    },
    {
     "name": "stderr",
     "output_type": "stream",
     "text": [
      "\n"
     ]
    },
    {
     "name": "stdout",
     "output_type": "stream",
     "text": [
      "\n",
      "      Epoch    GPU_mem   box_loss   cls_loss   dfl_loss  Instances       Size\n"
     ]
    },
    {
     "name": "stderr",
     "output_type": "stream",
     "text": [
      "      49/50      5.96G     0.2901     0.3675     0.7733          6        640: 100%|██████████| 14/14 [00:02<00:00,  5.96it/s]\n",
      "                 Class     Images  Instances      Box(P          R      mAP50  mAP50-95): 100%|██████████| 2/2 [00:00<00:00, 13.37it/s]"
     ]
    },
    {
     "name": "stdout",
     "output_type": "stream",
     "text": [
      "                   all         14         28      0.897      0.932      0.967      0.954\n"
     ]
    },
    {
     "name": "stderr",
     "output_type": "stream",
     "text": [
      "\n"
     ]
    },
    {
     "name": "stdout",
     "output_type": "stream",
     "text": [
      "\n",
      "      Epoch    GPU_mem   box_loss   cls_loss   dfl_loss  Instances       Size\n"
     ]
    },
    {
     "name": "stderr",
     "output_type": "stream",
     "text": [
      "      50/50      6.04G     0.4075     0.4736     0.8198          9        640: 100%|██████████| 14/14 [00:02<00:00,  5.89it/s]\n",
      "                 Class     Images  Instances      Box(P          R      mAP50  mAP50-95): 100%|██████████| 2/2 [00:00<00:00, 12.02it/s]\n"
     ]
    },
    {
     "name": "stdout",
     "output_type": "stream",
     "text": [
      "                   all         14         28      0.897      0.964      0.964      0.941\n",
      "\n",
      "50 epochs completed in 0.045 hours.\n",
      "Optimizer stripped from runs/detect/train/weights/last.pt, 40.5MB\n",
      "Optimizer stripped from runs/detect/train/weights/best.pt, 40.5MB\n",
      "\n",
      "Validating runs/detect/train/weights/best.pt...\n",
      "Ultralytics 8.3.158 🚀 Python-3.11.11 torch-2.6.0+cu124 CUDA:0 (Tesla T4, 15095MiB)\n",
      "YOLO11m summary (fused): 125 layers, 20,030,803 parameters, 0 gradients, 67.6 GFLOPs\n"
     ]
    },
    {
     "name": "stderr",
     "output_type": "stream",
     "text": [
      "                 Class     Images  Instances      Box(P          R      mAP50  mAP50-95): 100%|██████████| 2/2 [00:00<00:00,  8.76it/s]\n",
      "/usr/local/lib/python3.11/dist-packages/matplotlib/colors.py:721: RuntimeWarning: invalid value encountered in less\n",
      "  xa[xa < 0] = -1\n",
      "/usr/local/lib/python3.11/dist-packages/matplotlib/colors.py:721: RuntimeWarning: invalid value encountered in less\n",
      "  xa[xa < 0] = -1\n"
     ]
    },
    {
     "name": "stdout",
     "output_type": "stream",
     "text": [
      "                   all         14         28      0.897      0.935      0.968      0.955\n",
      "Speed: 0.6ms preprocess, 6.4ms inference, 0.0ms loss, 2.3ms postprocess per image\n",
      "Results saved to \u001b[1mruns/detect/train\u001b[0m\n"
     ]
    },
    {
     "data": {
      "text/plain": [
       "ultralytics.utils.metrics.DetMetrics object with attributes:\n",
       "\n",
       "ap_class_index: array([0])\n",
       "box: ultralytics.utils.metrics.Metric object\n",
       "confusion_matrix: <ultralytics.utils.metrics.ConfusionMatrix object at 0x7b7349204b10>\n",
       "curves: ['Precision-Recall(B)', 'F1-Confidence(B)', 'Precision-Confidence(B)', 'Recall-Confidence(B)']\n",
       "curves_results: [[array([          0,    0.001001,    0.002002,    0.003003,    0.004004,    0.005005,    0.006006,    0.007007,    0.008008,    0.009009,     0.01001,    0.011011,    0.012012,    0.013013,    0.014014,    0.015015,    0.016016,    0.017017,    0.018018,    0.019019,     0.02002,    0.021021,    0.022022,    0.023023,\n",
       "          0.024024,    0.025025,    0.026026,    0.027027,    0.028028,    0.029029,     0.03003,    0.031031,    0.032032,    0.033033,    0.034034,    0.035035,    0.036036,    0.037037,    0.038038,    0.039039,     0.04004,    0.041041,    0.042042,    0.043043,    0.044044,    0.045045,    0.046046,    0.047047,\n",
       "          0.048048,    0.049049,     0.05005,    0.051051,    0.052052,    0.053053,    0.054054,    0.055055,    0.056056,    0.057057,    0.058058,    0.059059,     0.06006,    0.061061,    0.062062,    0.063063,    0.064064,    0.065065,    0.066066,    0.067067,    0.068068,    0.069069,     0.07007,    0.071071,\n",
       "          0.072072,    0.073073,    0.074074,    0.075075,    0.076076,    0.077077,    0.078078,    0.079079,     0.08008,    0.081081,    0.082082,    0.083083,    0.084084,    0.085085,    0.086086,    0.087087,    0.088088,    0.089089,     0.09009,    0.091091,    0.092092,    0.093093,    0.094094,    0.095095,\n",
       "          0.096096,    0.097097,    0.098098,    0.099099,      0.1001,      0.1011,      0.1021,      0.1031,      0.1041,     0.10511,     0.10611,     0.10711,     0.10811,     0.10911,     0.11011,     0.11111,     0.11211,     0.11311,     0.11411,     0.11512,     0.11612,     0.11712,     0.11812,     0.11912,\n",
       "           0.12012,     0.12112,     0.12212,     0.12312,     0.12412,     0.12513,     0.12613,     0.12713,     0.12813,     0.12913,     0.13013,     0.13113,     0.13213,     0.13313,     0.13413,     0.13514,     0.13614,     0.13714,     0.13814,     0.13914,     0.14014,     0.14114,     0.14214,     0.14314,\n",
       "           0.14414,     0.14515,     0.14615,     0.14715,     0.14815,     0.14915,     0.15015,     0.15115,     0.15215,     0.15315,     0.15415,     0.15516,     0.15616,     0.15716,     0.15816,     0.15916,     0.16016,     0.16116,     0.16216,     0.16316,     0.16416,     0.16517,     0.16617,     0.16717,\n",
       "           0.16817,     0.16917,     0.17017,     0.17117,     0.17217,     0.17317,     0.17417,     0.17518,     0.17618,     0.17718,     0.17818,     0.17918,     0.18018,     0.18118,     0.18218,     0.18318,     0.18418,     0.18519,     0.18619,     0.18719,     0.18819,     0.18919,     0.19019,     0.19119,\n",
       "           0.19219,     0.19319,     0.19419,      0.1952,      0.1962,      0.1972,      0.1982,      0.1992,      0.2002,      0.2012,      0.2022,      0.2032,      0.2042,     0.20521,     0.20621,     0.20721,     0.20821,     0.20921,     0.21021,     0.21121,     0.21221,     0.21321,     0.21421,     0.21522,\n",
       "           0.21622,     0.21722,     0.21822,     0.21922,     0.22022,     0.22122,     0.22222,     0.22322,     0.22422,     0.22523,     0.22623,     0.22723,     0.22823,     0.22923,     0.23023,     0.23123,     0.23223,     0.23323,     0.23423,     0.23524,     0.23624,     0.23724,     0.23824,     0.23924,\n",
       "           0.24024,     0.24124,     0.24224,     0.24324,     0.24424,     0.24525,     0.24625,     0.24725,     0.24825,     0.24925,     0.25025,     0.25125,     0.25225,     0.25325,     0.25425,     0.25526,     0.25626,     0.25726,     0.25826,     0.25926,     0.26026,     0.26126,     0.26226,     0.26326,\n",
       "           0.26426,     0.26527,     0.26627,     0.26727,     0.26827,     0.26927,     0.27027,     0.27127,     0.27227,     0.27327,     0.27427,     0.27528,     0.27628,     0.27728,     0.27828,     0.27928,     0.28028,     0.28128,     0.28228,     0.28328,     0.28428,     0.28529,     0.28629,     0.28729,\n",
       "           0.28829,     0.28929,     0.29029,     0.29129,     0.29229,     0.29329,     0.29429,      0.2953,      0.2963,      0.2973,      0.2983,      0.2993,      0.3003,      0.3013,      0.3023,      0.3033,      0.3043,     0.30531,     0.30631,     0.30731,     0.30831,     0.30931,     0.31031,     0.31131,\n",
       "           0.31231,     0.31331,     0.31431,     0.31532,     0.31632,     0.31732,     0.31832,     0.31932,     0.32032,     0.32132,     0.32232,     0.32332,     0.32432,     0.32533,     0.32633,     0.32733,     0.32833,     0.32933,     0.33033,     0.33133,     0.33233,     0.33333,     0.33433,     0.33534,\n",
       "           0.33634,     0.33734,     0.33834,     0.33934,     0.34034,     0.34134,     0.34234,     0.34334,     0.34434,     0.34535,     0.34635,     0.34735,     0.34835,     0.34935,     0.35035,     0.35135,     0.35235,     0.35335,     0.35435,     0.35536,     0.35636,     0.35736,     0.35836,     0.35936,\n",
       "           0.36036,     0.36136,     0.36236,     0.36336,     0.36436,     0.36537,     0.36637,     0.36737,     0.36837,     0.36937,     0.37037,     0.37137,     0.37237,     0.37337,     0.37437,     0.37538,     0.37638,     0.37738,     0.37838,     0.37938,     0.38038,     0.38138,     0.38238,     0.38338,\n",
       "           0.38438,     0.38539,     0.38639,     0.38739,     0.38839,     0.38939,     0.39039,     0.39139,     0.39239,     0.39339,     0.39439,      0.3954,      0.3964,      0.3974,      0.3984,      0.3994,      0.4004,      0.4014,      0.4024,      0.4034,      0.4044,     0.40541,     0.40641,     0.40741,\n",
       "           0.40841,     0.40941,     0.41041,     0.41141,     0.41241,     0.41341,     0.41441,     0.41542,     0.41642,     0.41742,     0.41842,     0.41942,     0.42042,     0.42142,     0.42242,     0.42342,     0.42442,     0.42543,     0.42643,     0.42743,     0.42843,     0.42943,     0.43043,     0.43143,\n",
       "           0.43243,     0.43343,     0.43443,     0.43544,     0.43644,     0.43744,     0.43844,     0.43944,     0.44044,     0.44144,     0.44244,     0.44344,     0.44444,     0.44545,     0.44645,     0.44745,     0.44845,     0.44945,     0.45045,     0.45145,     0.45245,     0.45345,     0.45445,     0.45546,\n",
       "           0.45646,     0.45746,     0.45846,     0.45946,     0.46046,     0.46146,     0.46246,     0.46346,     0.46446,     0.46547,     0.46647,     0.46747,     0.46847,     0.46947,     0.47047,     0.47147,     0.47247,     0.47347,     0.47447,     0.47548,     0.47648,     0.47748,     0.47848,     0.47948,\n",
       "           0.48048,     0.48148,     0.48248,     0.48348,     0.48448,     0.48549,     0.48649,     0.48749,     0.48849,     0.48949,     0.49049,     0.49149,     0.49249,     0.49349,     0.49449,      0.4955,      0.4965,      0.4975,      0.4985,      0.4995,      0.5005,      0.5015,      0.5025,      0.5035,\n",
       "            0.5045,     0.50551,     0.50651,     0.50751,     0.50851,     0.50951,     0.51051,     0.51151,     0.51251,     0.51351,     0.51451,     0.51552,     0.51652,     0.51752,     0.51852,     0.51952,     0.52052,     0.52152,     0.52252,     0.52352,     0.52452,     0.52553,     0.52653,     0.52753,\n",
       "           0.52853,     0.52953,     0.53053,     0.53153,     0.53253,     0.53353,     0.53453,     0.53554,     0.53654,     0.53754,     0.53854,     0.53954,     0.54054,     0.54154,     0.54254,     0.54354,     0.54454,     0.54555,     0.54655,     0.54755,     0.54855,     0.54955,     0.55055,     0.55155,\n",
       "           0.55255,     0.55355,     0.55455,     0.55556,     0.55656,     0.55756,     0.55856,     0.55956,     0.56056,     0.56156,     0.56256,     0.56356,     0.56456,     0.56557,     0.56657,     0.56757,     0.56857,     0.56957,     0.57057,     0.57157,     0.57257,     0.57357,     0.57457,     0.57558,\n",
       "           0.57658,     0.57758,     0.57858,     0.57958,     0.58058,     0.58158,     0.58258,     0.58358,     0.58458,     0.58559,     0.58659,     0.58759,     0.58859,     0.58959,     0.59059,     0.59159,     0.59259,     0.59359,     0.59459,      0.5956,      0.5966,      0.5976,      0.5986,      0.5996,\n",
       "            0.6006,      0.6016,      0.6026,      0.6036,      0.6046,     0.60561,     0.60661,     0.60761,     0.60861,     0.60961,     0.61061,     0.61161,     0.61261,     0.61361,     0.61461,     0.61562,     0.61662,     0.61762,     0.61862,     0.61962,     0.62062,     0.62162,     0.62262,     0.62362,\n",
       "           0.62462,     0.62563,     0.62663,     0.62763,     0.62863,     0.62963,     0.63063,     0.63163,     0.63263,     0.63363,     0.63463,     0.63564,     0.63664,     0.63764,     0.63864,     0.63964,     0.64064,     0.64164,     0.64264,     0.64364,     0.64464,     0.64565,     0.64665,     0.64765,\n",
       "           0.64865,     0.64965,     0.65065,     0.65165,     0.65265,     0.65365,     0.65465,     0.65566,     0.65666,     0.65766,     0.65866,     0.65966,     0.66066,     0.66166,     0.66266,     0.66366,     0.66466,     0.66567,     0.66667,     0.66767,     0.66867,     0.66967,     0.67067,     0.67167,\n",
       "           0.67267,     0.67367,     0.67467,     0.67568,     0.67668,     0.67768,     0.67868,     0.67968,     0.68068,     0.68168,     0.68268,     0.68368,     0.68468,     0.68569,     0.68669,     0.68769,     0.68869,     0.68969,     0.69069,     0.69169,     0.69269,     0.69369,     0.69469,      0.6957,\n",
       "            0.6967,      0.6977,      0.6987,      0.6997,      0.7007,      0.7017,      0.7027,      0.7037,      0.7047,     0.70571,     0.70671,     0.70771,     0.70871,     0.70971,     0.71071,     0.71171,     0.71271,     0.71371,     0.71471,     0.71572,     0.71672,     0.71772,     0.71872,     0.71972,\n",
       "           0.72072,     0.72172,     0.72272,     0.72372,     0.72472,     0.72573,     0.72673,     0.72773,     0.72873,     0.72973,     0.73073,     0.73173,     0.73273,     0.73373,     0.73473,     0.73574,     0.73674,     0.73774,     0.73874,     0.73974,     0.74074,     0.74174,     0.74274,     0.74374,\n",
       "           0.74474,     0.74575,     0.74675,     0.74775,     0.74875,     0.74975,     0.75075,     0.75175,     0.75275,     0.75375,     0.75475,     0.75576,     0.75676,     0.75776,     0.75876,     0.75976,     0.76076,     0.76176,     0.76276,     0.76376,     0.76476,     0.76577,     0.76677,     0.76777,\n",
       "           0.76877,     0.76977,     0.77077,     0.77177,     0.77277,     0.77377,     0.77477,     0.77578,     0.77678,     0.77778,     0.77878,     0.77978,     0.78078,     0.78178,     0.78278,     0.78378,     0.78478,     0.78579,     0.78679,     0.78779,     0.78879,     0.78979,     0.79079,     0.79179,\n",
       "           0.79279,     0.79379,     0.79479,      0.7958,      0.7968,      0.7978,      0.7988,      0.7998,      0.8008,      0.8018,      0.8028,      0.8038,      0.8048,     0.80581,     0.80681,     0.80781,     0.80881,     0.80981,     0.81081,     0.81181,     0.81281,     0.81381,     0.81481,     0.81582,\n",
       "           0.81682,     0.81782,     0.81882,     0.81982,     0.82082,     0.82182,     0.82282,     0.82382,     0.82482,     0.82583,     0.82683,     0.82783,     0.82883,     0.82983,     0.83083,     0.83183,     0.83283,     0.83383,     0.83483,     0.83584,     0.83684,     0.83784,     0.83884,     0.83984,\n",
       "           0.84084,     0.84184,     0.84284,     0.84384,     0.84484,     0.84585,     0.84685,     0.84785,     0.84885,     0.84985,     0.85085,     0.85185,     0.85285,     0.85385,     0.85485,     0.85586,     0.85686,     0.85786,     0.85886,     0.85986,     0.86086,     0.86186,     0.86286,     0.86386,\n",
       "           0.86486,     0.86587,     0.86687,     0.86787,     0.86887,     0.86987,     0.87087,     0.87187,     0.87287,     0.87387,     0.87487,     0.87588,     0.87688,     0.87788,     0.87888,     0.87988,     0.88088,     0.88188,     0.88288,     0.88388,     0.88488,     0.88589,     0.88689,     0.88789,\n",
       "           0.88889,     0.88989,     0.89089,     0.89189,     0.89289,     0.89389,     0.89489,      0.8959,      0.8969,      0.8979,      0.8989,      0.8999,      0.9009,      0.9019,      0.9029,      0.9039,      0.9049,     0.90591,     0.90691,     0.90791,     0.90891,     0.90991,     0.91091,     0.91191,\n",
       "           0.91291,     0.91391,     0.91491,     0.91592,     0.91692,     0.91792,     0.91892,     0.91992,     0.92092,     0.92192,     0.92292,     0.92392,     0.92492,     0.92593,     0.92693,     0.92793,     0.92893,     0.92993,     0.93093,     0.93193,     0.93293,     0.93393,     0.93493,     0.93594,\n",
       "           0.93694,     0.93794,     0.93894,     0.93994,     0.94094,     0.94194,     0.94294,     0.94394,     0.94494,     0.94595,     0.94695,     0.94795,     0.94895,     0.94995,     0.95095,     0.95195,     0.95295,     0.95395,     0.95495,     0.95596,     0.95696,     0.95796,     0.95896,     0.95996,\n",
       "           0.96096,     0.96196,     0.96296,     0.96396,     0.96496,     0.96597,     0.96697,     0.96797,     0.96897,     0.96997,     0.97097,     0.97197,     0.97297,     0.97397,     0.97497,     0.97598,     0.97698,     0.97798,     0.97898,     0.97998,     0.98098,     0.98198,     0.98298,     0.98398,\n",
       "           0.98498,     0.98599,     0.98699,     0.98799,     0.98899,     0.98999,     0.99099,     0.99199,     0.99299,     0.99399,     0.99499,       0.996,       0.997,       0.998,       0.999,           1]), array([[          1,           1,           1,           1,           1,           1,           1,           1,           1,           1,           1,           1,           1,           1,           1,           1,           1,           1,           1,           1,           1,           1,           1,\n",
       "                  1,           1,           1,           1,           1,           1,           1,           1,           1,           1,           1,           1,           1,           1,           1,           1,           1,           1,           1,           1,           1,           1,           1,\n",
       "                  1,           1,           1,           1,           1,           1,           1,           1,           1,           1,           1,           1,           1,           1,           1,           1,           1,           1,           1,           1,           1,           1,           1,\n",
       "                  1,           1,           1,           1,           1,           1,           1,           1,           1,           1,           1,           1,           1,           1,           1,           1,           1,           1,           1,           1,           1,           1,           1,\n",
       "                  1,           1,           1,           1,           1,           1,           1,           1,           1,           1,           1,           1,           1,           1,           1,           1,           1,           1,           1,           1,           1,           1,           1,\n",
       "                  1,           1,           1,           1,           1,           1,           1,           1,           1,           1,           1,           1,           1,           1,           1,           1,           1,           1,           1,           1,           1,           1,           1,\n",
       "                  1,           1,           1,           1,           1,           1,           1,           1,           1,           1,           1,           1,           1,           1,           1,           1,           1,           1,           1,           1,           1,           1,           1,\n",
       "                  1,           1,           1,           1,           1,           1,           1,           1,           1,           1,           1,           1,           1,           1,           1,           1,           1,           1,           1,           1,           1,           1,           1,\n",
       "                  1,           1,           1,           1,           1,           1,           1,           1,           1,           1,           1,           1,           1,           1,           1,           1,           1,           1,           1,           1,           1,           1,           1,\n",
       "                  1,           1,           1,           1,           1,           1,           1,           1,           1,           1,           1,           1,           1,           1,           1,           1,           1,           1,           1,           1,           1,           1,           1,\n",
       "                  1,           1,           1,           1,           1,           1,           1,           1,           1,           1,           1,           1,           1,           1,           1,           1,           1,           1,           1,           1,           1,           1,           1,\n",
       "                  1,           1,           1,           1,           1,           1,           1,           1,           1,           1,           1,           1,           1,           1,           1,           1,           1,           1,           1,           1,           1,           1,           1,\n",
       "                  1,           1,           1,           1,           1,           1,           1,           1,           1,           1,           1,           1,           1,           1,           1,           1,           1,           1,           1,           1,           1,           1,           1,\n",
       "                  1,           1,           1,           1,           1,           1,           1,           1,           1,           1,           1,           1,           1,           1,           1,           1,           1,           1,           1,           1,           1,           1,           1,\n",
       "                  1,           1,           1,           1,           1,           1,           1,           1,           1,           1,           1,           1,           1,           1,           1,           1,           1,           1,           1,           1,           1,           1,           1,\n",
       "                  1,           1,           1,           1,           1,           1,           1,           1,           1,           1,           1,           1,           1,           1,           1,           1,           1,           1,           1,           1,           1,           1,           1,\n",
       "                  1,           1,           1,           1,           1,           1,           1,           1,           1,           1,           1,           1,           1,           1,           1,           1,           1,           1,           1,           1,           1,           1,           1,\n",
       "                  1,           1,           1,           1,           1,           1,           1,           1,           1,           1,           1,           1,           1,           1,           1,           1,           1,           1,           1,           1,           1,           1,           1,\n",
       "                  1,           1,           1,           1,           1,           1,           1,           1,           1,           1,           1,           1,           1,           1,           1,           1,           1,           1,           1,           1,           1,           1,           1,\n",
       "                  1,           1,           1,           1,           1,           1,           1,           1,           1,           1,           1,           1,           1,           1,           1,           1,           1,           1,           1,           1,           1,           1,           1,\n",
       "                  1,           1,           1,           1,           1,           1,           1,           1,           1,           1,           1,           1,           1,           1,           1,           1,           1,           1,           1,           1,           1,           1,           1,\n",
       "                  1,           1,           1,           1,           1,           1,           1,           1,           1,           1,           1,           1,           1,           1,           1,           1,           1,           1,           1,           1,           1,           1,           1,\n",
       "                  1,           1,           1,           1,           1,           1,           1,           1,           1,           1,           1,           1,           1,           1,           1,           1,           1,           1,           1,           1,           1,           1,           1,\n",
       "                  1,           1,           1,           1,           1,           1,           1,           1,           1,           1,           1,           1,           1,           1,           1,           1,           1,           1,           1,           1,           1,           1,           1,\n",
       "                  1,           1,           1,           1,           1,           1,           1,           1,           1,           1,           1,           1,           1,           1,           1,           1,           1,           1,           1,           1,           1,           1,           1,\n",
       "                  1,           1,           1,           1,           1,           1,           1,           1,           1,           1,           1,           1,           1,           1,           1,           1,           1,           1,           1,           1,           1,           1,           1,\n",
       "                  1,           1,           1,           1,           1,           1,           1,           1,           1,           1,           1,           1,           1,           1,           1,           1,           1,           1,           1,           1,           1,           1,           1,\n",
       "                  1,           1,           1,           1,           1,           1,           1,           1,           1,           1,           1,           1,           1,           1,           1,           1,           1,           1,           1,           1,           1,           1,           1,\n",
       "                  1,           1,           1,           1,           1,           1,           1,           1,           1,           1,           1,           1,           1,           1,           1,           1,           1,           1,           1,           1,           1,           1,           1,\n",
       "                  1,           1,           1,           1,           1,           1,           1,           1,           1,           1,           1,           1,           1,           1,           1,           1,           1,           1,           1,           1,           1,           1,           1,\n",
       "                  1,           1,           1,           1,           1,           1,           1,           1,           1,           1,           1,           1,           1,           1,           1,           1,           1,           1,           1,           1,           1,           1,           1,\n",
       "                  1,     0.96296,     0.96296,     0.96296,     0.96296,     0.96296,     0.96296,     0.96296,     0.96296,     0.96296,     0.96296,     0.96296,     0.96296,     0.96296,     0.96296,     0.96296,     0.96296,     0.96296,     0.96296,     0.96296,     0.96296,     0.96296,     0.96296,\n",
       "            0.96296,     0.96296,     0.96296,     0.96296,     0.96296,     0.96296,     0.96296,     0.96296,     0.96296,     0.96296,     0.96296,     0.96296,     0.96296,     0.96296,     0.96296,     0.96296,     0.96296,     0.96296,     0.96296,     0.96296,     0.96296,     0.96296,     0.96296,\n",
       "            0.96296,     0.96296,     0.96296,     0.96296,     0.96296,     0.96296,     0.96296,     0.96296,     0.96296,     0.96296,     0.96296,     0.96296,     0.96296,     0.96296,     0.96296,     0.96296,     0.96296,     0.96296,     0.96296,     0.96296,     0.96296,     0.96296,     0.96296,\n",
       "            0.96296,     0.96296,     0.96296,     0.96296,     0.96296,     0.96296,     0.96296,     0.96296,     0.96296,     0.96296,     0.96296,     0.96296,     0.96296,     0.96296,     0.96296,     0.96296,     0.96296,     0.96296,     0.96296,     0.96296,     0.96296,     0.96296,     0.96296,\n",
       "            0.96296,     0.96296,     0.96296,     0.96296,     0.96296,     0.96296,     0.96296,     0.96296,     0.96296,     0.96296,     0.96296,     0.96296,     0.96296,     0.96296,     0.96296,     0.96296,     0.96296,     0.96296,     0.96296,     0.96296,     0.96296,     0.96296,     0.96296,\n",
       "            0.96296,     0.96296,     0.96296,     0.96296,     0.96296,     0.96296,     0.96296,     0.96296,     0.96296,     0.96296,     0.96296,     0.96296,     0.96296,     0.96296,     0.96296,     0.96296,     0.96296,     0.96296,     0.96296,     0.96296,     0.96296,     0.96296,     0.96296,\n",
       "            0.96296,     0.96296,     0.96296,     0.96296,     0.96296,     0.96296,     0.96296,     0.96296,     0.96296,     0.96296,     0.96296,     0.96296,     0.96296,     0.96296,     0.96296,     0.96296,     0.96296,     0.96296,     0.96296,     0.96296,     0.96296,     0.96296,     0.96296,\n",
       "            0.96296,     0.96296,     0.96296,     0.96296,     0.96296,     0.96296,     0.96296,     0.96296,     0.96296,     0.96296,     0.96296,     0.96296,     0.96296,     0.96296,     0.96296,     0.96296,     0.96296,     0.96296,     0.96296,     0.96296,     0.96296,     0.96296,     0.96296,\n",
       "            0.96296,     0.96296,     0.96296,     0.96296,     0.96296,     0.96296,     0.96296,     0.96296,     0.96296,     0.96296,     0.96296,     0.96296,     0.96296,     0.96296,     0.96296,     0.96296,     0.96296,     0.96296,     0.96296,     0.96296,     0.96296,     0.96296,     0.96296,\n",
       "            0.96296,     0.96296,     0.96296,     0.96296,     0.96296,     0.96296,     0.96296,     0.96296,         0.9,         0.9,         0.9,         0.9,         0.9,         0.9,         0.9,         0.9,         0.9,         0.9,         0.9,         0.9,         0.9,         0.9,         0.9,\n",
       "                0.9,         0.9,         0.9,         0.9,         0.9,         0.9,         0.9,         0.9,         0.9,         0.9,         0.9,         0.9,         0.9,         0.9,         0.9,         0.9,         0.9,         0.9,         0.9,         0.9,         0.9,         0.5,         0.5,\n",
       "                0.5,         0.5,         0.5,         0.5,         0.5,         0.5,         0.5,         0.5,         0.5,         0.5,         0.5,         0.5,         0.5,         0.5,         0.5,         0.5,         0.5,         0.5,         0.5,         0.5,         0.5,         0.5,         0.5,\n",
       "                0.5,         0.5,         0.5,         0.5,         0.5,         0.5,         0.5,         0.5,         0.5,         0.5,           0]]), 'Recall', 'Precision'], [array([          0,    0.001001,    0.002002,    0.003003,    0.004004,    0.005005,    0.006006,    0.007007,    0.008008,    0.009009,     0.01001,    0.011011,    0.012012,    0.013013,    0.014014,    0.015015,    0.016016,    0.017017,    0.018018,    0.019019,     0.02002,    0.021021,    0.022022,    0.023023,\n",
       "          0.024024,    0.025025,    0.026026,    0.027027,    0.028028,    0.029029,     0.03003,    0.031031,    0.032032,    0.033033,    0.034034,    0.035035,    0.036036,    0.037037,    0.038038,    0.039039,     0.04004,    0.041041,    0.042042,    0.043043,    0.044044,    0.045045,    0.046046,    0.047047,\n",
       "          0.048048,    0.049049,     0.05005,    0.051051,    0.052052,    0.053053,    0.054054,    0.055055,    0.056056,    0.057057,    0.058058,    0.059059,     0.06006,    0.061061,    0.062062,    0.063063,    0.064064,    0.065065,    0.066066,    0.067067,    0.068068,    0.069069,     0.07007,    0.071071,\n",
       "          0.072072,    0.073073,    0.074074,    0.075075,    0.076076,    0.077077,    0.078078,    0.079079,     0.08008,    0.081081,    0.082082,    0.083083,    0.084084,    0.085085,    0.086086,    0.087087,    0.088088,    0.089089,     0.09009,    0.091091,    0.092092,    0.093093,    0.094094,    0.095095,\n",
       "          0.096096,    0.097097,    0.098098,    0.099099,      0.1001,      0.1011,      0.1021,      0.1031,      0.1041,     0.10511,     0.10611,     0.10711,     0.10811,     0.10911,     0.11011,     0.11111,     0.11211,     0.11311,     0.11411,     0.11512,     0.11612,     0.11712,     0.11812,     0.11912,\n",
       "           0.12012,     0.12112,     0.12212,     0.12312,     0.12412,     0.12513,     0.12613,     0.12713,     0.12813,     0.12913,     0.13013,     0.13113,     0.13213,     0.13313,     0.13413,     0.13514,     0.13614,     0.13714,     0.13814,     0.13914,     0.14014,     0.14114,     0.14214,     0.14314,\n",
       "           0.14414,     0.14515,     0.14615,     0.14715,     0.14815,     0.14915,     0.15015,     0.15115,     0.15215,     0.15315,     0.15415,     0.15516,     0.15616,     0.15716,     0.15816,     0.15916,     0.16016,     0.16116,     0.16216,     0.16316,     0.16416,     0.16517,     0.16617,     0.16717,\n",
       "           0.16817,     0.16917,     0.17017,     0.17117,     0.17217,     0.17317,     0.17417,     0.17518,     0.17618,     0.17718,     0.17818,     0.17918,     0.18018,     0.18118,     0.18218,     0.18318,     0.18418,     0.18519,     0.18619,     0.18719,     0.18819,     0.18919,     0.19019,     0.19119,\n",
       "           0.19219,     0.19319,     0.19419,      0.1952,      0.1962,      0.1972,      0.1982,      0.1992,      0.2002,      0.2012,      0.2022,      0.2032,      0.2042,     0.20521,     0.20621,     0.20721,     0.20821,     0.20921,     0.21021,     0.21121,     0.21221,     0.21321,     0.21421,     0.21522,\n",
       "           0.21622,     0.21722,     0.21822,     0.21922,     0.22022,     0.22122,     0.22222,     0.22322,     0.22422,     0.22523,     0.22623,     0.22723,     0.22823,     0.22923,     0.23023,     0.23123,     0.23223,     0.23323,     0.23423,     0.23524,     0.23624,     0.23724,     0.23824,     0.23924,\n",
       "           0.24024,     0.24124,     0.24224,     0.24324,     0.24424,     0.24525,     0.24625,     0.24725,     0.24825,     0.24925,     0.25025,     0.25125,     0.25225,     0.25325,     0.25425,     0.25526,     0.25626,     0.25726,     0.25826,     0.25926,     0.26026,     0.26126,     0.26226,     0.26326,\n",
       "           0.26426,     0.26527,     0.26627,     0.26727,     0.26827,     0.26927,     0.27027,     0.27127,     0.27227,     0.27327,     0.27427,     0.27528,     0.27628,     0.27728,     0.27828,     0.27928,     0.28028,     0.28128,     0.28228,     0.28328,     0.28428,     0.28529,     0.28629,     0.28729,\n",
       "           0.28829,     0.28929,     0.29029,     0.29129,     0.29229,     0.29329,     0.29429,      0.2953,      0.2963,      0.2973,      0.2983,      0.2993,      0.3003,      0.3013,      0.3023,      0.3033,      0.3043,     0.30531,     0.30631,     0.30731,     0.30831,     0.30931,     0.31031,     0.31131,\n",
       "           0.31231,     0.31331,     0.31431,     0.31532,     0.31632,     0.31732,     0.31832,     0.31932,     0.32032,     0.32132,     0.32232,     0.32332,     0.32432,     0.32533,     0.32633,     0.32733,     0.32833,     0.32933,     0.33033,     0.33133,     0.33233,     0.33333,     0.33433,     0.33534,\n",
       "           0.33634,     0.33734,     0.33834,     0.33934,     0.34034,     0.34134,     0.34234,     0.34334,     0.34434,     0.34535,     0.34635,     0.34735,     0.34835,     0.34935,     0.35035,     0.35135,     0.35235,     0.35335,     0.35435,     0.35536,     0.35636,     0.35736,     0.35836,     0.35936,\n",
       "           0.36036,     0.36136,     0.36236,     0.36336,     0.36436,     0.36537,     0.36637,     0.36737,     0.36837,     0.36937,     0.37037,     0.37137,     0.37237,     0.37337,     0.37437,     0.37538,     0.37638,     0.37738,     0.37838,     0.37938,     0.38038,     0.38138,     0.38238,     0.38338,\n",
       "           0.38438,     0.38539,     0.38639,     0.38739,     0.38839,     0.38939,     0.39039,     0.39139,     0.39239,     0.39339,     0.39439,      0.3954,      0.3964,      0.3974,      0.3984,      0.3994,      0.4004,      0.4014,      0.4024,      0.4034,      0.4044,     0.40541,     0.40641,     0.40741,\n",
       "           0.40841,     0.40941,     0.41041,     0.41141,     0.41241,     0.41341,     0.41441,     0.41542,     0.41642,     0.41742,     0.41842,     0.41942,     0.42042,     0.42142,     0.42242,     0.42342,     0.42442,     0.42543,     0.42643,     0.42743,     0.42843,     0.42943,     0.43043,     0.43143,\n",
       "           0.43243,     0.43343,     0.43443,     0.43544,     0.43644,     0.43744,     0.43844,     0.43944,     0.44044,     0.44144,     0.44244,     0.44344,     0.44444,     0.44545,     0.44645,     0.44745,     0.44845,     0.44945,     0.45045,     0.45145,     0.45245,     0.45345,     0.45445,     0.45546,\n",
       "           0.45646,     0.45746,     0.45846,     0.45946,     0.46046,     0.46146,     0.46246,     0.46346,     0.46446,     0.46547,     0.46647,     0.46747,     0.46847,     0.46947,     0.47047,     0.47147,     0.47247,     0.47347,     0.47447,     0.47548,     0.47648,     0.47748,     0.47848,     0.47948,\n",
       "           0.48048,     0.48148,     0.48248,     0.48348,     0.48448,     0.48549,     0.48649,     0.48749,     0.48849,     0.48949,     0.49049,     0.49149,     0.49249,     0.49349,     0.49449,      0.4955,      0.4965,      0.4975,      0.4985,      0.4995,      0.5005,      0.5015,      0.5025,      0.5035,\n",
       "            0.5045,     0.50551,     0.50651,     0.50751,     0.50851,     0.50951,     0.51051,     0.51151,     0.51251,     0.51351,     0.51451,     0.51552,     0.51652,     0.51752,     0.51852,     0.51952,     0.52052,     0.52152,     0.52252,     0.52352,     0.52452,     0.52553,     0.52653,     0.52753,\n",
       "           0.52853,     0.52953,     0.53053,     0.53153,     0.53253,     0.53353,     0.53453,     0.53554,     0.53654,     0.53754,     0.53854,     0.53954,     0.54054,     0.54154,     0.54254,     0.54354,     0.54454,     0.54555,     0.54655,     0.54755,     0.54855,     0.54955,     0.55055,     0.55155,\n",
       "           0.55255,     0.55355,     0.55455,     0.55556,     0.55656,     0.55756,     0.55856,     0.55956,     0.56056,     0.56156,     0.56256,     0.56356,     0.56456,     0.56557,     0.56657,     0.56757,     0.56857,     0.56957,     0.57057,     0.57157,     0.57257,     0.57357,     0.57457,     0.57558,\n",
       "           0.57658,     0.57758,     0.57858,     0.57958,     0.58058,     0.58158,     0.58258,     0.58358,     0.58458,     0.58559,     0.58659,     0.58759,     0.58859,     0.58959,     0.59059,     0.59159,     0.59259,     0.59359,     0.59459,      0.5956,      0.5966,      0.5976,      0.5986,      0.5996,\n",
       "            0.6006,      0.6016,      0.6026,      0.6036,      0.6046,     0.60561,     0.60661,     0.60761,     0.60861,     0.60961,     0.61061,     0.61161,     0.61261,     0.61361,     0.61461,     0.61562,     0.61662,     0.61762,     0.61862,     0.61962,     0.62062,     0.62162,     0.62262,     0.62362,\n",
       "           0.62462,     0.62563,     0.62663,     0.62763,     0.62863,     0.62963,     0.63063,     0.63163,     0.63263,     0.63363,     0.63463,     0.63564,     0.63664,     0.63764,     0.63864,     0.63964,     0.64064,     0.64164,     0.64264,     0.64364,     0.64464,     0.64565,     0.64665,     0.64765,\n",
       "           0.64865,     0.64965,     0.65065,     0.65165,     0.65265,     0.65365,     0.65465,     0.65566,     0.65666,     0.65766,     0.65866,     0.65966,     0.66066,     0.66166,     0.66266,     0.66366,     0.66466,     0.66567,     0.66667,     0.66767,     0.66867,     0.66967,     0.67067,     0.67167,\n",
       "           0.67267,     0.67367,     0.67467,     0.67568,     0.67668,     0.67768,     0.67868,     0.67968,     0.68068,     0.68168,     0.68268,     0.68368,     0.68468,     0.68569,     0.68669,     0.68769,     0.68869,     0.68969,     0.69069,     0.69169,     0.69269,     0.69369,     0.69469,      0.6957,\n",
       "            0.6967,      0.6977,      0.6987,      0.6997,      0.7007,      0.7017,      0.7027,      0.7037,      0.7047,     0.70571,     0.70671,     0.70771,     0.70871,     0.70971,     0.71071,     0.71171,     0.71271,     0.71371,     0.71471,     0.71572,     0.71672,     0.71772,     0.71872,     0.71972,\n",
       "           0.72072,     0.72172,     0.72272,     0.72372,     0.72472,     0.72573,     0.72673,     0.72773,     0.72873,     0.72973,     0.73073,     0.73173,     0.73273,     0.73373,     0.73473,     0.73574,     0.73674,     0.73774,     0.73874,     0.73974,     0.74074,     0.74174,     0.74274,     0.74374,\n",
       "           0.74474,     0.74575,     0.74675,     0.74775,     0.74875,     0.74975,     0.75075,     0.75175,     0.75275,     0.75375,     0.75475,     0.75576,     0.75676,     0.75776,     0.75876,     0.75976,     0.76076,     0.76176,     0.76276,     0.76376,     0.76476,     0.76577,     0.76677,     0.76777,\n",
       "           0.76877,     0.76977,     0.77077,     0.77177,     0.77277,     0.77377,     0.77477,     0.77578,     0.77678,     0.77778,     0.77878,     0.77978,     0.78078,     0.78178,     0.78278,     0.78378,     0.78478,     0.78579,     0.78679,     0.78779,     0.78879,     0.78979,     0.79079,     0.79179,\n",
       "           0.79279,     0.79379,     0.79479,      0.7958,      0.7968,      0.7978,      0.7988,      0.7998,      0.8008,      0.8018,      0.8028,      0.8038,      0.8048,     0.80581,     0.80681,     0.80781,     0.80881,     0.80981,     0.81081,     0.81181,     0.81281,     0.81381,     0.81481,     0.81582,\n",
       "           0.81682,     0.81782,     0.81882,     0.81982,     0.82082,     0.82182,     0.82282,     0.82382,     0.82482,     0.82583,     0.82683,     0.82783,     0.82883,     0.82983,     0.83083,     0.83183,     0.83283,     0.83383,     0.83483,     0.83584,     0.83684,     0.83784,     0.83884,     0.83984,\n",
       "           0.84084,     0.84184,     0.84284,     0.84384,     0.84484,     0.84585,     0.84685,     0.84785,     0.84885,     0.84985,     0.85085,     0.85185,     0.85285,     0.85385,     0.85485,     0.85586,     0.85686,     0.85786,     0.85886,     0.85986,     0.86086,     0.86186,     0.86286,     0.86386,\n",
       "           0.86486,     0.86587,     0.86687,     0.86787,     0.86887,     0.86987,     0.87087,     0.87187,     0.87287,     0.87387,     0.87487,     0.87588,     0.87688,     0.87788,     0.87888,     0.87988,     0.88088,     0.88188,     0.88288,     0.88388,     0.88488,     0.88589,     0.88689,     0.88789,\n",
       "           0.88889,     0.88989,     0.89089,     0.89189,     0.89289,     0.89389,     0.89489,      0.8959,      0.8969,      0.8979,      0.8989,      0.8999,      0.9009,      0.9019,      0.9029,      0.9039,      0.9049,     0.90591,     0.90691,     0.90791,     0.90891,     0.90991,     0.91091,     0.91191,\n",
       "           0.91291,     0.91391,     0.91491,     0.91592,     0.91692,     0.91792,     0.91892,     0.91992,     0.92092,     0.92192,     0.92292,     0.92392,     0.92492,     0.92593,     0.92693,     0.92793,     0.92893,     0.92993,     0.93093,     0.93193,     0.93293,     0.93393,     0.93493,     0.93594,\n",
       "           0.93694,     0.93794,     0.93894,     0.93994,     0.94094,     0.94194,     0.94294,     0.94394,     0.94494,     0.94595,     0.94695,     0.94795,     0.94895,     0.94995,     0.95095,     0.95195,     0.95295,     0.95395,     0.95495,     0.95596,     0.95696,     0.95796,     0.95896,     0.95996,\n",
       "           0.96096,     0.96196,     0.96296,     0.96396,     0.96496,     0.96597,     0.96697,     0.96797,     0.96897,     0.96997,     0.97097,     0.97197,     0.97297,     0.97397,     0.97497,     0.97598,     0.97698,     0.97798,     0.97898,     0.97998,     0.98098,     0.98198,     0.98298,     0.98398,\n",
       "           0.98498,     0.98599,     0.98699,     0.98799,     0.98899,     0.98999,     0.99099,     0.99199,     0.99299,     0.99399,     0.99499,       0.996,       0.997,       0.998,       0.999,           1]), array([[   0.020408,    0.020408,    0.039213,    0.091489,      0.1586,     0.23649,     0.30524,     0.36325,     0.41349,     0.45321,     0.49123,     0.54657,     0.58993,     0.63498,     0.64825,     0.66014,     0.66585,     0.65782,     0.65445,     0.65986,      0.6618,     0.66374,     0.66567,\n",
       "            0.66793,     0.67053,     0.67312,     0.67757,     0.68729,     0.69493,     0.70015,     0.70394,     0.70733,      0.7115,     0.72984,     0.73805,     0.74326,     0.74769,     0.75287,     0.75883,     0.76646,     0.77288,     0.77653,     0.78015,     0.78489,     0.79201,      0.7943,\n",
       "            0.79455,     0.79481,     0.79507,     0.79532,     0.79558,     0.79583,     0.79609,     0.79635,      0.7966,     0.79686,     0.79711,     0.79737,     0.79762,     0.79788,     0.79813,     0.79839,     0.79864,      0.7989,     0.79915,     0.79941,     0.79966,     0.79991,     0.80017,\n",
       "            0.80042,     0.80068,     0.80093,     0.80118,     0.80144,     0.80169,     0.80194,     0.80219,     0.80245,      0.8027,     0.80295,     0.80321,     0.80346,     0.80371,     0.80396,     0.80422,     0.80447,     0.80472,     0.80497,     0.80522,     0.80547,     0.80573,     0.80619,\n",
       "            0.81456,     0.81844,     0.81891,     0.81938,     0.81984,     0.82031,     0.82077,     0.82124,      0.8217,     0.82217,     0.82263,     0.82309,     0.82356,     0.82402,     0.82448,     0.82494,      0.8254,     0.82587,     0.82633,     0.82679,     0.82725,     0.82771,     0.82816,\n",
       "            0.82862,     0.82908,     0.82954,        0.83,     0.83045,     0.83084,     0.83107,     0.83131,     0.83154,     0.83177,     0.83201,     0.83224,     0.83247,      0.8327,     0.83294,     0.83317,      0.8334,     0.83363,     0.83387,      0.8341,     0.83433,     0.83456,     0.83479,\n",
       "            0.83503,     0.83526,     0.83549,     0.83572,     0.83595,     0.83618,     0.83641,     0.83664,     0.83688,     0.83711,     0.83734,     0.83757,      0.8378,     0.83803,     0.83826,     0.83849,     0.83872,     0.83895,     0.83918,     0.83941,     0.83964,     0.83987,      0.8401,\n",
       "            0.84033,     0.84056,     0.84079,     0.84101,     0.84124,     0.84147,      0.8417,     0.84193,     0.84216,     0.84239,     0.84262,     0.84284,     0.84307,      0.8433,     0.84353,     0.84377,     0.84431,     0.84485,     0.84539,     0.84593,     0.84647,     0.84701,     0.84755,\n",
       "            0.84809,     0.84863,     0.84916,      0.8497,     0.85024,     0.85077,     0.85131,     0.85184,     0.85238,     0.85291,     0.85344,     0.85397,     0.85451,     0.85504,     0.85557,      0.8561,     0.85663,     0.85718,     0.85855,     0.85991,     0.86127,     0.86262,     0.86398,\n",
       "            0.86532,     0.86667,     0.86801,     0.86935,     0.87068,     0.88557,     0.88598,     0.88638,     0.88679,      0.8872,     0.88761,     0.88801,     0.88842,     0.88883,     0.88923,     0.88964,     0.89004,     0.89045,     0.89085,     0.89126,     0.89166,     0.89207,     0.89247,\n",
       "            0.89287,     0.89328,     0.89368,     0.89408,     0.89448,     0.89489,     0.89529,     0.89569,     0.89609,     0.89649,     0.89689,     0.89729,     0.89769,     0.89809,     0.89849,     0.89889,     0.89928,     0.89968,     0.90085,     0.90506,     0.90923,     0.91337,     0.91527,\n",
       "             0.9153,     0.91534,     0.91537,      0.9154,     0.91543,     0.91546,      0.9155,     0.91553,     0.91556,     0.91559,     0.91562,     0.91566,     0.91569,     0.91572,     0.91575,     0.91578,     0.91582,     0.91585,     0.91588,     0.91591,     0.91594,     0.91598,     0.91601,\n",
       "            0.91604,     0.91607,      0.9161,     0.91614,     0.91617,      0.9162,     0.91623,     0.91626,     0.91629,     0.91633,     0.91636,     0.91639,     0.91642,     0.91645,     0.91649,     0.91652,     0.91655,     0.91658,     0.91661,     0.91665,     0.91668,     0.91671,     0.91674,\n",
       "            0.91677,     0.91681,     0.91684,     0.91687,      0.9169,     0.91693,     0.91697,       0.917,     0.91703,     0.91706,     0.91709,     0.91712,     0.91716,     0.91719,     0.91722,     0.91725,     0.91728,     0.91732,     0.91735,     0.91738,     0.91741,     0.91744,     0.91748,\n",
       "            0.91751,     0.91754,     0.91757,      0.9176,     0.91764,     0.91767,      0.9177,     0.91773,     0.91776,     0.91779,     0.91783,     0.91786,     0.91789,     0.91792,     0.91795,     0.91799,     0.91802,     0.91805,     0.91808,     0.91811,     0.91814,     0.91818,     0.91821,\n",
       "            0.91824,     0.91827,      0.9183,     0.91834,     0.91837,      0.9184,     0.91843,     0.91846,     0.91849,     0.91853,     0.91856,     0.91859,     0.91862,     0.91865,     0.91869,     0.91872,     0.91875,     0.91878,     0.91881,     0.91884,     0.91888,     0.91891,     0.91894,\n",
       "            0.91897,       0.919,     0.91904,     0.91907,      0.9191,     0.91913,     0.91916,     0.91919,     0.91923,     0.91926,     0.91929,     0.91932,     0.91935,     0.91938,     0.91942,     0.91945,     0.91948,     0.91951,     0.91954,     0.91957,     0.91961,     0.91964,     0.91967,\n",
       "             0.9197,     0.91973,     0.91977,      0.9198,     0.91983,     0.91986,     0.91989,     0.91992,     0.91996,     0.91999,     0.92002,     0.92005,     0.92008,     0.92011,     0.92015,     0.92018,     0.92021,     0.92024,     0.92027,      0.9203,     0.92034,     0.92037,      0.9204,\n",
       "            0.92043,     0.92046,     0.92049,     0.92053,     0.92056,     0.92059,     0.92062,     0.92065,     0.92068,     0.92072,     0.92075,     0.92078,     0.92081,     0.92084,     0.92087,     0.92091,     0.92094,     0.92097,       0.921,     0.92103,     0.92106,      0.9211,     0.92113,\n",
       "            0.92116,     0.92119,     0.92122,     0.92125,     0.92129,     0.92132,     0.92135,     0.92138,     0.92141,     0.92144,     0.92148,     0.92151,     0.92154,     0.92157,      0.9216,     0.92163,     0.92167,      0.9217,     0.92173,     0.92176,     0.92179,     0.92182,     0.92186,\n",
       "            0.92189,     0.92192,     0.92195,     0.92198,     0.92201,     0.92204,     0.92208,     0.92211,     0.92214,     0.92217,      0.9222,     0.92223,     0.92227,      0.9223,     0.92233,     0.92236,     0.92239,     0.92242,     0.92246,     0.92249,     0.92252,     0.92255,     0.92258,\n",
       "            0.92261,     0.92264,     0.92268,     0.92271,     0.92274,     0.92277,      0.9228,     0.92283,     0.92287,      0.9229,     0.92293,     0.92296,     0.92299,     0.92302,     0.92305,     0.92309,     0.92312,     0.92315,     0.92318,     0.92321,     0.92324,     0.92328,     0.92331,\n",
       "            0.92334,     0.92337,      0.9234,     0.92343,     0.92346,      0.9235,     0.92353,     0.92356,     0.92359,     0.92362,     0.92365,     0.92368,     0.92372,     0.92375,     0.92378,     0.92381,     0.92384,     0.92387,      0.9239,     0.92394,     0.92397,       0.924,     0.92403,\n",
       "            0.92406,     0.92409,     0.92413,     0.92416,     0.92419,     0.92422,     0.92425,     0.92428,     0.92431,     0.92435,     0.92438,     0.92441,     0.92444,     0.92447,      0.9245,     0.92453,     0.92457,      0.9246,     0.92463,     0.92466,     0.92469,     0.92472,     0.92475,\n",
       "            0.92479,     0.92482,     0.92485,     0.92488,     0.92491,     0.92494,     0.92497,     0.92501,     0.92504,     0.92507,      0.9251,     0.92513,     0.92516,     0.92519,     0.92522,     0.92526,     0.92529,     0.92532,     0.92535,     0.92538,     0.92541,     0.92544,     0.92548,\n",
       "            0.92551,     0.92554,     0.92557,      0.9256,     0.92563,     0.92566,      0.9257,     0.92573,     0.92576,     0.92579,     0.92582,     0.92585,     0.92588,     0.92591,     0.92595,     0.92598,     0.92601,     0.92604,     0.92607,      0.9261,     0.92613,     0.92617,      0.9262,\n",
       "            0.92623,     0.92626,     0.92629,     0.92632,     0.92635,     0.92638,     0.92642,     0.92645,     0.92648,     0.92651,     0.92654,     0.92657,      0.9266,     0.92664,     0.92667,      0.9267,     0.92673,     0.92676,     0.92679,     0.92682,     0.92685,     0.92689,     0.92692,\n",
       "            0.92695,     0.92698,     0.92701,     0.92704,     0.92707,      0.9271,     0.92714,     0.92717,      0.9272,     0.92723,     0.92726,     0.92729,     0.92732,     0.92735,     0.92739,     0.92742,     0.92745,     0.92748,     0.92751,     0.92754,     0.92757,      0.9276,     0.92764,\n",
       "            0.92767,      0.9277,     0.92773,     0.92776,     0.92779,     0.92782,     0.92785,     0.92789,     0.92792,     0.92795,     0.92798,     0.92801,     0.92804,     0.92807,      0.9281,     0.92814,     0.92817,      0.9282,     0.92823,     0.92826,     0.92829,     0.92832,     0.92835,\n",
       "            0.92838,     0.92842,     0.92845,     0.92848,     0.92851,     0.92854,     0.92857,      0.9286,     0.92863,     0.92867,      0.9287,     0.92873,     0.92876,     0.92879,     0.92882,     0.92885,     0.92888,     0.92891,     0.92895,     0.92898,     0.92901,     0.92904,     0.92907,\n",
       "             0.9291,     0.92913,     0.92916,      0.9292,     0.92923,     0.92926,     0.92929,     0.92932,     0.92935,     0.92938,     0.92941,     0.92944,     0.92948,     0.92951,     0.92954,     0.92957,      0.9296,     0.92963,     0.92966,     0.92969,     0.92972,     0.92976,     0.92979,\n",
       "            0.92982,     0.92985,     0.92988,     0.92991,     0.92994,     0.92997,        0.93,     0.93004,     0.93007,      0.9301,     0.93013,     0.93016,     0.93019,     0.93022,     0.93025,     0.93028,     0.93031,     0.93035,     0.93038,     0.93041,     0.93044,     0.93047,      0.9305,\n",
       "            0.93053,     0.93056,     0.93059,     0.93063,     0.93066,     0.93069,     0.93072,     0.93075,     0.93078,     0.93081,     0.93084,     0.93087,      0.9309,     0.93094,     0.93097,       0.931,     0.93103,     0.93066,     0.93021,     0.92976,     0.92931,     0.92885,      0.9284,\n",
       "            0.92795,     0.92749,     0.92704,     0.92659,     0.92613,     0.92568,     0.92522,     0.92477,     0.92431,     0.92385,      0.9234,     0.92294,     0.92248,     0.92203,     0.92157,     0.92111,     0.92065,      0.9202,     0.91974,     0.91928,     0.91882,     0.91836,      0.9179,\n",
       "            0.91744,     0.91698,     0.91652,     0.91605,     0.91559,     0.91513,     0.91467,     0.91421,     0.91374,     0.91328,     0.91281,     0.91235,     0.91944,     0.92773,     0.92924,     0.92999,     0.93074,     0.93149,     0.93223,     0.93297,     0.93372,     0.93446,      0.9352,\n",
       "            0.93594,     0.93667,     0.93741,     0.93815,     0.93888,     0.93961,     0.94034,     0.94107,      0.9418,     0.94253,     0.94326,     0.94399,     0.94471,     0.94543,     0.94467,     0.94387,     0.94306,     0.94226,     0.94145,     0.94064,     0.93983,     0.93902,      0.9382,\n",
       "            0.93739,     0.93657,     0.93576,     0.93494,     0.93412,      0.9333,     0.93248,     0.93166,     0.93083,     0.93001,     0.92918,     0.92836,     0.92753,      0.9267,     0.92585,     0.92474,     0.92364,     0.92253,     0.92142,      0.9203,     0.91919,     0.91807,     0.91695,\n",
       "            0.91583,     0.91471,     0.91358,     0.91245,     0.91132,     0.91019,     0.90905,     0.90792,     0.90678,     0.90563,     0.90435,     0.90306,     0.90177,     0.90047,     0.89918,     0.89788,     0.89657,     0.89527,     0.89396,     0.89265,     0.89133,     0.89002,     0.88869,\n",
       "            0.88737,     0.88605,     0.88472,     0.88311,     0.88147,     0.87983,     0.87818,     0.87653,     0.87488,     0.87322,     0.87155,     0.86988,     0.86821,     0.86653,     0.86485,     0.86316,     0.86118,     0.85909,     0.85699,     0.85488,     0.85277,     0.85065,     0.84853,\n",
       "             0.8464,     0.84426,     0.84211,      0.8399,     0.83511,     0.83029,     0.82544,     0.82054,     0.82145,     0.81675,     0.77017,     0.75419,     0.74784,     0.74143,     0.73495,     0.72841,     0.71489,      0.6996,     0.68855,     0.67797,     0.66722,      0.6615,     0.65601,\n",
       "            0.65048,      0.6449,     0.63927,     0.63378,     0.62998,     0.62615,      0.6223,     0.61843,     0.61453,     0.61062,     0.60668,     0.60272,       0.577,     0.54297,     0.51904,     0.49869,     0.47485,     0.44593,     0.42743,     0.40912,     0.39466,     0.38411,     0.37342,\n",
       "            0.36259,     0.34994,     0.32464,     0.30047,     0.28523,     0.26972,     0.25392,     0.24803,     0.24541,     0.24279,     0.24015,     0.23751,     0.23487,     0.23221,     0.22954,     0.22687,     0.22419,      0.2215,     0.21881,      0.2161,     0.21339,     0.21067,     0.20794,\n",
       "             0.2052,     0.20245,      0.1997,     0.19693,     0.19416,     0.18949,     0.18426,     0.17899,      0.1737,     0.16838,     0.16302,     0.15763,     0.15222,     0.14677,     0.14128,     0.13577,     0.12782,     0.11789,     0.10787,     0.09773,    0.087485,    0.077129,           0,\n",
       "                  0,           0,           0,           0,           0,           0,           0,           0,           0,           0,           0]]), 'Confidence', 'F1'], [array([          0,    0.001001,    0.002002,    0.003003,    0.004004,    0.005005,    0.006006,    0.007007,    0.008008,    0.009009,     0.01001,    0.011011,    0.012012,    0.013013,    0.014014,    0.015015,    0.016016,    0.017017,    0.018018,    0.019019,     0.02002,    0.021021,    0.022022,    0.023023,\n",
       "          0.024024,    0.025025,    0.026026,    0.027027,    0.028028,    0.029029,     0.03003,    0.031031,    0.032032,    0.033033,    0.034034,    0.035035,    0.036036,    0.037037,    0.038038,    0.039039,     0.04004,    0.041041,    0.042042,    0.043043,    0.044044,    0.045045,    0.046046,    0.047047,\n",
       "          0.048048,    0.049049,     0.05005,    0.051051,    0.052052,    0.053053,    0.054054,    0.055055,    0.056056,    0.057057,    0.058058,    0.059059,     0.06006,    0.061061,    0.062062,    0.063063,    0.064064,    0.065065,    0.066066,    0.067067,    0.068068,    0.069069,     0.07007,    0.071071,\n",
       "          0.072072,    0.073073,    0.074074,    0.075075,    0.076076,    0.077077,    0.078078,    0.079079,     0.08008,    0.081081,    0.082082,    0.083083,    0.084084,    0.085085,    0.086086,    0.087087,    0.088088,    0.089089,     0.09009,    0.091091,    0.092092,    0.093093,    0.094094,    0.095095,\n",
       "          0.096096,    0.097097,    0.098098,    0.099099,      0.1001,      0.1011,      0.1021,      0.1031,      0.1041,     0.10511,     0.10611,     0.10711,     0.10811,     0.10911,     0.11011,     0.11111,     0.11211,     0.11311,     0.11411,     0.11512,     0.11612,     0.11712,     0.11812,     0.11912,\n",
       "           0.12012,     0.12112,     0.12212,     0.12312,     0.12412,     0.12513,     0.12613,     0.12713,     0.12813,     0.12913,     0.13013,     0.13113,     0.13213,     0.13313,     0.13413,     0.13514,     0.13614,     0.13714,     0.13814,     0.13914,     0.14014,     0.14114,     0.14214,     0.14314,\n",
       "           0.14414,     0.14515,     0.14615,     0.14715,     0.14815,     0.14915,     0.15015,     0.15115,     0.15215,     0.15315,     0.15415,     0.15516,     0.15616,     0.15716,     0.15816,     0.15916,     0.16016,     0.16116,     0.16216,     0.16316,     0.16416,     0.16517,     0.16617,     0.16717,\n",
       "           0.16817,     0.16917,     0.17017,     0.17117,     0.17217,     0.17317,     0.17417,     0.17518,     0.17618,     0.17718,     0.17818,     0.17918,     0.18018,     0.18118,     0.18218,     0.18318,     0.18418,     0.18519,     0.18619,     0.18719,     0.18819,     0.18919,     0.19019,     0.19119,\n",
       "           0.19219,     0.19319,     0.19419,      0.1952,      0.1962,      0.1972,      0.1982,      0.1992,      0.2002,      0.2012,      0.2022,      0.2032,      0.2042,     0.20521,     0.20621,     0.20721,     0.20821,     0.20921,     0.21021,     0.21121,     0.21221,     0.21321,     0.21421,     0.21522,\n",
       "           0.21622,     0.21722,     0.21822,     0.21922,     0.22022,     0.22122,     0.22222,     0.22322,     0.22422,     0.22523,     0.22623,     0.22723,     0.22823,     0.22923,     0.23023,     0.23123,     0.23223,     0.23323,     0.23423,     0.23524,     0.23624,     0.23724,     0.23824,     0.23924,\n",
       "           0.24024,     0.24124,     0.24224,     0.24324,     0.24424,     0.24525,     0.24625,     0.24725,     0.24825,     0.24925,     0.25025,     0.25125,     0.25225,     0.25325,     0.25425,     0.25526,     0.25626,     0.25726,     0.25826,     0.25926,     0.26026,     0.26126,     0.26226,     0.26326,\n",
       "           0.26426,     0.26527,     0.26627,     0.26727,     0.26827,     0.26927,     0.27027,     0.27127,     0.27227,     0.27327,     0.27427,     0.27528,     0.27628,     0.27728,     0.27828,     0.27928,     0.28028,     0.28128,     0.28228,     0.28328,     0.28428,     0.28529,     0.28629,     0.28729,\n",
       "           0.28829,     0.28929,     0.29029,     0.29129,     0.29229,     0.29329,     0.29429,      0.2953,      0.2963,      0.2973,      0.2983,      0.2993,      0.3003,      0.3013,      0.3023,      0.3033,      0.3043,     0.30531,     0.30631,     0.30731,     0.30831,     0.30931,     0.31031,     0.31131,\n",
       "           0.31231,     0.31331,     0.31431,     0.31532,     0.31632,     0.31732,     0.31832,     0.31932,     0.32032,     0.32132,     0.32232,     0.32332,     0.32432,     0.32533,     0.32633,     0.32733,     0.32833,     0.32933,     0.33033,     0.33133,     0.33233,     0.33333,     0.33433,     0.33534,\n",
       "           0.33634,     0.33734,     0.33834,     0.33934,     0.34034,     0.34134,     0.34234,     0.34334,     0.34434,     0.34535,     0.34635,     0.34735,     0.34835,     0.34935,     0.35035,     0.35135,     0.35235,     0.35335,     0.35435,     0.35536,     0.35636,     0.35736,     0.35836,     0.35936,\n",
       "           0.36036,     0.36136,     0.36236,     0.36336,     0.36436,     0.36537,     0.36637,     0.36737,     0.36837,     0.36937,     0.37037,     0.37137,     0.37237,     0.37337,     0.37437,     0.37538,     0.37638,     0.37738,     0.37838,     0.37938,     0.38038,     0.38138,     0.38238,     0.38338,\n",
       "           0.38438,     0.38539,     0.38639,     0.38739,     0.38839,     0.38939,     0.39039,     0.39139,     0.39239,     0.39339,     0.39439,      0.3954,      0.3964,      0.3974,      0.3984,      0.3994,      0.4004,      0.4014,      0.4024,      0.4034,      0.4044,     0.40541,     0.40641,     0.40741,\n",
       "           0.40841,     0.40941,     0.41041,     0.41141,     0.41241,     0.41341,     0.41441,     0.41542,     0.41642,     0.41742,     0.41842,     0.41942,     0.42042,     0.42142,     0.42242,     0.42342,     0.42442,     0.42543,     0.42643,     0.42743,     0.42843,     0.42943,     0.43043,     0.43143,\n",
       "           0.43243,     0.43343,     0.43443,     0.43544,     0.43644,     0.43744,     0.43844,     0.43944,     0.44044,     0.44144,     0.44244,     0.44344,     0.44444,     0.44545,     0.44645,     0.44745,     0.44845,     0.44945,     0.45045,     0.45145,     0.45245,     0.45345,     0.45445,     0.45546,\n",
       "           0.45646,     0.45746,     0.45846,     0.45946,     0.46046,     0.46146,     0.46246,     0.46346,     0.46446,     0.46547,     0.46647,     0.46747,     0.46847,     0.46947,     0.47047,     0.47147,     0.47247,     0.47347,     0.47447,     0.47548,     0.47648,     0.47748,     0.47848,     0.47948,\n",
       "           0.48048,     0.48148,     0.48248,     0.48348,     0.48448,     0.48549,     0.48649,     0.48749,     0.48849,     0.48949,     0.49049,     0.49149,     0.49249,     0.49349,     0.49449,      0.4955,      0.4965,      0.4975,      0.4985,      0.4995,      0.5005,      0.5015,      0.5025,      0.5035,\n",
       "            0.5045,     0.50551,     0.50651,     0.50751,     0.50851,     0.50951,     0.51051,     0.51151,     0.51251,     0.51351,     0.51451,     0.51552,     0.51652,     0.51752,     0.51852,     0.51952,     0.52052,     0.52152,     0.52252,     0.52352,     0.52452,     0.52553,     0.52653,     0.52753,\n",
       "           0.52853,     0.52953,     0.53053,     0.53153,     0.53253,     0.53353,     0.53453,     0.53554,     0.53654,     0.53754,     0.53854,     0.53954,     0.54054,     0.54154,     0.54254,     0.54354,     0.54454,     0.54555,     0.54655,     0.54755,     0.54855,     0.54955,     0.55055,     0.55155,\n",
       "           0.55255,     0.55355,     0.55455,     0.55556,     0.55656,     0.55756,     0.55856,     0.55956,     0.56056,     0.56156,     0.56256,     0.56356,     0.56456,     0.56557,     0.56657,     0.56757,     0.56857,     0.56957,     0.57057,     0.57157,     0.57257,     0.57357,     0.57457,     0.57558,\n",
       "           0.57658,     0.57758,     0.57858,     0.57958,     0.58058,     0.58158,     0.58258,     0.58358,     0.58458,     0.58559,     0.58659,     0.58759,     0.58859,     0.58959,     0.59059,     0.59159,     0.59259,     0.59359,     0.59459,      0.5956,      0.5966,      0.5976,      0.5986,      0.5996,\n",
       "            0.6006,      0.6016,      0.6026,      0.6036,      0.6046,     0.60561,     0.60661,     0.60761,     0.60861,     0.60961,     0.61061,     0.61161,     0.61261,     0.61361,     0.61461,     0.61562,     0.61662,     0.61762,     0.61862,     0.61962,     0.62062,     0.62162,     0.62262,     0.62362,\n",
       "           0.62462,     0.62563,     0.62663,     0.62763,     0.62863,     0.62963,     0.63063,     0.63163,     0.63263,     0.63363,     0.63463,     0.63564,     0.63664,     0.63764,     0.63864,     0.63964,     0.64064,     0.64164,     0.64264,     0.64364,     0.64464,     0.64565,     0.64665,     0.64765,\n",
       "           0.64865,     0.64965,     0.65065,     0.65165,     0.65265,     0.65365,     0.65465,     0.65566,     0.65666,     0.65766,     0.65866,     0.65966,     0.66066,     0.66166,     0.66266,     0.66366,     0.66466,     0.66567,     0.66667,     0.66767,     0.66867,     0.66967,     0.67067,     0.67167,\n",
       "           0.67267,     0.67367,     0.67467,     0.67568,     0.67668,     0.67768,     0.67868,     0.67968,     0.68068,     0.68168,     0.68268,     0.68368,     0.68468,     0.68569,     0.68669,     0.68769,     0.68869,     0.68969,     0.69069,     0.69169,     0.69269,     0.69369,     0.69469,      0.6957,\n",
       "            0.6967,      0.6977,      0.6987,      0.6997,      0.7007,      0.7017,      0.7027,      0.7037,      0.7047,     0.70571,     0.70671,     0.70771,     0.70871,     0.70971,     0.71071,     0.71171,     0.71271,     0.71371,     0.71471,     0.71572,     0.71672,     0.71772,     0.71872,     0.71972,\n",
       "           0.72072,     0.72172,     0.72272,     0.72372,     0.72472,     0.72573,     0.72673,     0.72773,     0.72873,     0.72973,     0.73073,     0.73173,     0.73273,     0.73373,     0.73473,     0.73574,     0.73674,     0.73774,     0.73874,     0.73974,     0.74074,     0.74174,     0.74274,     0.74374,\n",
       "           0.74474,     0.74575,     0.74675,     0.74775,     0.74875,     0.74975,     0.75075,     0.75175,     0.75275,     0.75375,     0.75475,     0.75576,     0.75676,     0.75776,     0.75876,     0.75976,     0.76076,     0.76176,     0.76276,     0.76376,     0.76476,     0.76577,     0.76677,     0.76777,\n",
       "           0.76877,     0.76977,     0.77077,     0.77177,     0.77277,     0.77377,     0.77477,     0.77578,     0.77678,     0.77778,     0.77878,     0.77978,     0.78078,     0.78178,     0.78278,     0.78378,     0.78478,     0.78579,     0.78679,     0.78779,     0.78879,     0.78979,     0.79079,     0.79179,\n",
       "           0.79279,     0.79379,     0.79479,      0.7958,      0.7968,      0.7978,      0.7988,      0.7998,      0.8008,      0.8018,      0.8028,      0.8038,      0.8048,     0.80581,     0.80681,     0.80781,     0.80881,     0.80981,     0.81081,     0.81181,     0.81281,     0.81381,     0.81481,     0.81582,\n",
       "           0.81682,     0.81782,     0.81882,     0.81982,     0.82082,     0.82182,     0.82282,     0.82382,     0.82482,     0.82583,     0.82683,     0.82783,     0.82883,     0.82983,     0.83083,     0.83183,     0.83283,     0.83383,     0.83483,     0.83584,     0.83684,     0.83784,     0.83884,     0.83984,\n",
       "           0.84084,     0.84184,     0.84284,     0.84384,     0.84484,     0.84585,     0.84685,     0.84785,     0.84885,     0.84985,     0.85085,     0.85185,     0.85285,     0.85385,     0.85485,     0.85586,     0.85686,     0.85786,     0.85886,     0.85986,     0.86086,     0.86186,     0.86286,     0.86386,\n",
       "           0.86486,     0.86587,     0.86687,     0.86787,     0.86887,     0.86987,     0.87087,     0.87187,     0.87287,     0.87387,     0.87487,     0.87588,     0.87688,     0.87788,     0.87888,     0.87988,     0.88088,     0.88188,     0.88288,     0.88388,     0.88488,     0.88589,     0.88689,     0.88789,\n",
       "           0.88889,     0.88989,     0.89089,     0.89189,     0.89289,     0.89389,     0.89489,      0.8959,      0.8969,      0.8979,      0.8989,      0.8999,      0.9009,      0.9019,      0.9029,      0.9039,      0.9049,     0.90591,     0.90691,     0.90791,     0.90891,     0.90991,     0.91091,     0.91191,\n",
       "           0.91291,     0.91391,     0.91491,     0.91592,     0.91692,     0.91792,     0.91892,     0.91992,     0.92092,     0.92192,     0.92292,     0.92392,     0.92492,     0.92593,     0.92693,     0.92793,     0.92893,     0.92993,     0.93093,     0.93193,     0.93293,     0.93393,     0.93493,     0.93594,\n",
       "           0.93694,     0.93794,     0.93894,     0.93994,     0.94094,     0.94194,     0.94294,     0.94394,     0.94494,     0.94595,     0.94695,     0.94795,     0.94895,     0.94995,     0.95095,     0.95195,     0.95295,     0.95395,     0.95495,     0.95596,     0.95696,     0.95796,     0.95896,     0.95996,\n",
       "           0.96096,     0.96196,     0.96296,     0.96396,     0.96496,     0.96597,     0.96697,     0.96797,     0.96897,     0.96997,     0.97097,     0.97197,     0.97297,     0.97397,     0.97497,     0.97598,     0.97698,     0.97798,     0.97898,     0.97998,     0.98098,     0.98198,     0.98298,     0.98398,\n",
       "           0.98498,     0.98599,     0.98699,     0.98799,     0.98899,     0.98999,     0.99099,     0.99199,     0.99299,     0.99399,     0.99499,       0.996,       0.997,       0.998,       0.999,           1]), array([[   0.010309,    0.010309,    0.019999,    0.047938,    0.086129,      0.1341,     0.18011,     0.22193,     0.26063,       0.293,     0.32559,     0.37605,     0.41837,     0.46518,     0.47956,     0.49269,     0.49909,     0.49499,     0.49531,     0.50152,     0.50377,     0.50603,     0.50828,\n",
       "            0.51091,     0.51396,       0.517,     0.52227,     0.53392,      0.5432,      0.5496,     0.55429,      0.5585,     0.56372,      0.5871,     0.59779,     0.60467,     0.61056,     0.61748,     0.62555,     0.63598,     0.64488,     0.64997,     0.65506,     0.66178,     0.67197,     0.67526,\n",
       "            0.67563,       0.676,     0.67637,     0.67674,     0.67711,     0.67749,     0.67786,     0.67823,      0.6786,     0.67897,     0.67934,     0.67971,     0.68008,     0.68045,     0.68082,     0.68119,     0.68156,     0.68193,     0.68231,     0.68268,     0.68305,     0.68342,     0.68379,\n",
       "            0.68416,     0.68453,      0.6849,     0.68527,     0.68564,     0.68601,     0.68638,     0.68676,     0.68713,      0.6875,     0.68787,     0.68824,     0.68861,     0.68898,     0.68935,     0.68972,     0.69009,     0.69046,     0.69083,     0.69121,     0.69158,     0.69195,     0.69264,\n",
       "            0.70509,     0.71092,     0.71163,     0.71233,     0.71304,     0.71374,     0.71445,     0.71515,     0.71586,     0.71656,     0.71726,     0.71797,     0.71867,     0.71938,     0.72008,     0.72079,     0.72149,      0.7222,      0.7229,     0.72361,     0.72431,     0.72501,     0.72572,\n",
       "            0.72642,     0.72713,     0.72783,     0.72854,     0.72924,     0.72984,      0.7302,     0.73056,     0.73092,     0.73128,     0.73164,       0.732,     0.73236,     0.73272,     0.73308,     0.73344,      0.7338,     0.73416,     0.73452,     0.73488,     0.73524,      0.7356,     0.73596,\n",
       "            0.73632,     0.73668,     0.73704,      0.7374,     0.73776,     0.73812,     0.73848,     0.73884,     0.73921,     0.73957,     0.73993,     0.74029,     0.74065,     0.74101,     0.74137,     0.74173,     0.74209,     0.74245,     0.74281,     0.74317,     0.74353,     0.74389,     0.74425,\n",
       "            0.74461,     0.74497,     0.74533,     0.74569,     0.74605,     0.74641,     0.74677,     0.74713,     0.74749,     0.74785,     0.74821,     0.74857,     0.74893,     0.74929,     0.74965,     0.75002,     0.75088,     0.75174,      0.7526,     0.75345,     0.75431,     0.75517,     0.75602,\n",
       "            0.75688,     0.75774,      0.7586,     0.75945,     0.76031,     0.76117,     0.76202,     0.76288,     0.76374,      0.7646,     0.76545,     0.76631,     0.76717,     0.76803,     0.76888,     0.76974,      0.7706,     0.77149,     0.77371,     0.77592,     0.77814,     0.78035,     0.78257,\n",
       "            0.78478,       0.787,     0.78921,     0.79143,     0.79364,     0.81873,     0.81943,     0.82013,     0.82083,     0.82153,     0.82223,     0.82292,     0.82362,     0.82432,     0.82502,     0.82572,     0.82642,     0.82712,     0.82782,     0.82852,     0.82921,     0.82991,     0.83061,\n",
       "            0.83131,     0.83201,     0.83271,     0.83341,     0.83411,     0.83481,      0.8355,      0.8362,      0.8369,      0.8376,      0.8383,       0.839,      0.8397,      0.8404,      0.8411,     0.84179,     0.84249,     0.84319,     0.84525,     0.85269,     0.86013,     0.86757,       0.871,\n",
       "            0.87106,     0.87112,     0.87117,     0.87123,     0.87129,     0.87135,     0.87141,     0.87146,     0.87152,     0.87158,     0.87164,     0.87169,     0.87175,     0.87181,     0.87187,     0.87193,     0.87198,     0.87204,      0.8721,     0.87216,     0.87222,     0.87227,     0.87233,\n",
       "            0.87239,     0.87245,     0.87251,     0.87256,     0.87262,     0.87268,     0.87274,      0.8728,     0.87285,     0.87291,     0.87297,     0.87303,     0.87309,     0.87314,      0.8732,     0.87326,     0.87332,     0.87338,     0.87343,     0.87349,     0.87355,     0.87361,     0.87367,\n",
       "            0.87372,     0.87378,     0.87384,      0.8739,     0.87396,     0.87401,     0.87407,     0.87413,     0.87419,     0.87425,      0.8743,     0.87436,     0.87442,     0.87448,     0.87454,     0.87459,     0.87465,     0.87471,     0.87477,     0.87483,     0.87488,     0.87494,       0.875,\n",
       "            0.87506,     0.87512,     0.87517,     0.87523,     0.87529,     0.87535,     0.87541,     0.87546,     0.87552,     0.87558,     0.87564,      0.8757,     0.87575,     0.87581,     0.87587,     0.87593,     0.87599,     0.87604,      0.8761,     0.87616,     0.87622,     0.87628,     0.87633,\n",
       "            0.87639,     0.87645,     0.87651,     0.87657,     0.87662,     0.87668,     0.87674,      0.8768,     0.87686,     0.87691,     0.87697,     0.87703,     0.87709,     0.87715,      0.8772,     0.87726,     0.87732,     0.87738,     0.87744,     0.87749,     0.87755,     0.87761,     0.87767,\n",
       "            0.87773,     0.87778,     0.87784,      0.8779,     0.87796,     0.87801,     0.87807,     0.87813,     0.87819,     0.87825,      0.8783,     0.87836,     0.87842,     0.87848,     0.87854,     0.87859,     0.87865,     0.87871,     0.87877,     0.87883,     0.87888,     0.87894,       0.879,\n",
       "            0.87906,     0.87912,     0.87917,     0.87923,     0.87929,     0.87935,     0.87941,     0.87946,     0.87952,     0.87958,     0.87964,      0.8797,     0.87975,     0.87981,     0.87987,     0.87993,     0.87999,     0.88004,      0.8801,     0.88016,     0.88022,     0.88028,     0.88033,\n",
       "            0.88039,     0.88045,     0.88051,     0.88057,     0.88062,     0.88068,     0.88074,      0.8808,     0.88086,     0.88091,     0.88097,     0.88103,     0.88109,     0.88115,      0.8812,     0.88126,     0.88132,     0.88138,     0.88144,     0.88149,     0.88155,     0.88161,     0.88167,\n",
       "            0.88173,     0.88178,     0.88184,      0.8819,     0.88196,     0.88202,     0.88207,     0.88213,     0.88219,     0.88225,     0.88231,     0.88236,     0.88242,     0.88248,     0.88254,      0.8826,     0.88265,     0.88271,     0.88277,     0.88283,     0.88289,     0.88294,       0.883,\n",
       "            0.88306,     0.88312,     0.88318,     0.88323,     0.88329,     0.88335,     0.88341,     0.88347,     0.88352,     0.88358,     0.88364,      0.8837,     0.88376,     0.88381,     0.88387,     0.88393,     0.88399,     0.88404,      0.8841,     0.88416,     0.88422,     0.88428,     0.88433,\n",
       "            0.88439,     0.88445,     0.88451,     0.88457,     0.88462,     0.88468,     0.88474,      0.8848,     0.88486,     0.88491,     0.88497,     0.88503,     0.88509,     0.88515,      0.8852,     0.88526,     0.88532,     0.88538,     0.88544,     0.88549,     0.88555,     0.88561,     0.88567,\n",
       "            0.88573,     0.88578,     0.88584,      0.8859,     0.88596,     0.88602,     0.88607,     0.88613,     0.88619,     0.88625,     0.88631,     0.88636,     0.88642,     0.88648,     0.88654,      0.8866,     0.88665,     0.88671,     0.88677,     0.88683,     0.88689,     0.88694,       0.887,\n",
       "            0.88706,     0.88712,     0.88718,     0.88723,     0.88729,     0.88735,     0.88741,     0.88747,     0.88752,     0.88758,     0.88764,      0.8877,     0.88776,     0.88781,     0.88787,     0.88793,     0.88799,     0.88805,      0.8881,     0.88816,     0.88822,     0.88828,     0.88834,\n",
       "            0.88839,     0.88845,     0.88851,     0.88857,     0.88863,     0.88868,     0.88874,      0.8888,     0.88886,     0.88892,     0.88897,     0.88903,     0.88909,     0.88915,     0.88921,     0.88926,     0.88932,     0.88938,     0.88944,      0.8895,     0.88955,     0.88961,     0.88967,\n",
       "            0.88973,     0.88979,     0.88984,      0.8899,     0.88996,     0.89002,     0.89007,     0.89013,     0.89019,     0.89025,     0.89031,     0.89036,     0.89042,     0.89048,     0.89054,      0.8906,     0.89065,     0.89071,     0.89077,     0.89083,     0.89089,     0.89094,       0.891,\n",
       "            0.89106,     0.89112,     0.89118,     0.89123,     0.89129,     0.89135,     0.89141,     0.89147,     0.89152,     0.89158,     0.89164,      0.8917,     0.89176,     0.89181,     0.89187,     0.89193,     0.89199,     0.89205,      0.8921,     0.89216,     0.89222,     0.89228,     0.89234,\n",
       "            0.89239,     0.89245,     0.89251,     0.89257,     0.89263,     0.89268,     0.89274,      0.8928,     0.89286,     0.89292,     0.89297,     0.89303,     0.89309,     0.89315,     0.89321,     0.89326,     0.89332,     0.89338,     0.89344,      0.8935,     0.89355,     0.89361,     0.89367,\n",
       "            0.89373,     0.89379,     0.89384,      0.8939,     0.89396,     0.89402,     0.89408,     0.89413,     0.89419,     0.89425,     0.89431,     0.89437,     0.89442,     0.89448,     0.89454,      0.8946,     0.89466,     0.89471,     0.89477,     0.89483,     0.89489,     0.89495,       0.895,\n",
       "            0.89506,     0.89512,     0.89518,     0.89524,     0.89529,     0.89535,     0.89541,     0.89547,     0.89553,     0.89558,     0.89564,      0.8957,     0.89576,     0.89582,     0.89587,     0.89593,     0.89599,     0.89605,     0.89611,     0.89616,     0.89622,     0.89628,     0.89634,\n",
       "            0.89639,     0.89645,     0.89651,     0.89657,     0.89663,     0.89668,     0.89674,      0.8968,     0.89686,     0.89692,     0.89697,     0.89703,     0.89709,     0.89715,     0.89721,     0.89726,     0.89732,     0.89738,     0.89744,      0.8975,     0.89755,     0.89761,     0.89767,\n",
       "            0.89773,     0.89779,     0.89784,      0.8979,     0.89796,     0.89802,     0.89808,     0.89813,     0.89819,     0.89825,     0.89831,     0.89837,     0.89842,     0.89848,     0.89854,      0.8986,     0.89866,     0.89871,     0.89877,     0.89883,     0.89889,     0.89895,       0.899,\n",
       "            0.89906,     0.89912,     0.89918,     0.89924,     0.89929,     0.89935,     0.89941,     0.89947,     0.89953,     0.89958,     0.89964,      0.8997,     0.89976,     0.89982,     0.89987,     0.89993,     0.89999,     0.89993,     0.89985,     0.89976,     0.89968,     0.89959,     0.89951,\n",
       "            0.89943,     0.89934,     0.89926,     0.89917,     0.89909,       0.899,     0.89892,     0.89884,     0.89875,     0.89867,     0.89858,      0.8985,     0.89842,     0.89833,     0.89825,     0.89816,     0.89808,       0.898,     0.89791,     0.89783,     0.89774,     0.89766,     0.89757,\n",
       "            0.89749,     0.89741,     0.89732,     0.89724,     0.89715,     0.89707,     0.89699,      0.8969,     0.89682,     0.89673,     0.89665,     0.89656,     0.91048,     0.92689,     0.92992,     0.93142,     0.93292,     0.93442,     0.93592,     0.93742,     0.93892,     0.94042,     0.94192,\n",
       "            0.94342,     0.94492,     0.94642,     0.94792,     0.94942,     0.95092,     0.95242,     0.95392,     0.95542,     0.95692,     0.95842,     0.95992,     0.96142,     0.96292,     0.96291,     0.96285,     0.96279,     0.96273,     0.96267,     0.96261,     0.96255,     0.96249,     0.96243,\n",
       "            0.96237,     0.96231,     0.96225,     0.96219,     0.96213,     0.96207,     0.96201,     0.96195,     0.96189,     0.96183,     0.96177,     0.96171,     0.96165,     0.96159,     0.96153,     0.96145,     0.96136,     0.96128,     0.96119,     0.96111,     0.96102,     0.96094,     0.96085,\n",
       "            0.96077,     0.96068,     0.96059,     0.96051,     0.96042,     0.96034,     0.96025,     0.96017,     0.96008,        0.96,     0.95989,     0.95979,     0.95969,     0.95958,     0.95948,     0.95938,     0.95927,     0.95917,     0.95907,     0.95896,     0.95886,     0.95876,     0.95865,\n",
       "            0.95855,     0.95844,     0.95834,     0.95821,     0.95807,     0.95793,     0.95779,     0.95766,     0.95752,     0.95738,     0.95724,     0.95711,     0.95697,     0.95683,     0.95669,     0.95656,     0.95638,      0.9562,     0.95601,     0.95583,     0.95565,     0.95546,     0.95528,\n",
       "            0.95509,     0.95491,     0.95473,     0.95454,     0.95409,     0.95365,      0.9532,     0.95276,     0.96644,           1,           1,           1,           1,           1,           1,           1,           1,           1,           1,           1,           1,           1,           1,\n",
       "                  1,           1,           1,           1,           1,           1,           1,           1,           1,           1,           1,           1,           1,           1,           1,           1,           1,           1,           1,           1,           1,           1,           1,\n",
       "                  1,           1,           1,           1,           1,           1,           1,           1,           1,           1,           1,           1,           1,           1,           1,           1,           1,           1,           1,           1,           1,           1,           1,\n",
       "                  1,           1,           1,           1,           1,           1,           1,           1,           1,           1,           1,           1,           1,           1,           1,           1,           1,           1,           1,           1,           1,           1,           1,\n",
       "                  1,           1,           1,           1,           1,           1,           1,           1,           1,           1,           1]]), 'Confidence', 'Precision'], [array([          0,    0.001001,    0.002002,    0.003003,    0.004004,    0.005005,    0.006006,    0.007007,    0.008008,    0.009009,     0.01001,    0.011011,    0.012012,    0.013013,    0.014014,    0.015015,    0.016016,    0.017017,    0.018018,    0.019019,     0.02002,    0.021021,    0.022022,    0.023023,\n",
       "          0.024024,    0.025025,    0.026026,    0.027027,    0.028028,    0.029029,     0.03003,    0.031031,    0.032032,    0.033033,    0.034034,    0.035035,    0.036036,    0.037037,    0.038038,    0.039039,     0.04004,    0.041041,    0.042042,    0.043043,    0.044044,    0.045045,    0.046046,    0.047047,\n",
       "          0.048048,    0.049049,     0.05005,    0.051051,    0.052052,    0.053053,    0.054054,    0.055055,    0.056056,    0.057057,    0.058058,    0.059059,     0.06006,    0.061061,    0.062062,    0.063063,    0.064064,    0.065065,    0.066066,    0.067067,    0.068068,    0.069069,     0.07007,    0.071071,\n",
       "          0.072072,    0.073073,    0.074074,    0.075075,    0.076076,    0.077077,    0.078078,    0.079079,     0.08008,    0.081081,    0.082082,    0.083083,    0.084084,    0.085085,    0.086086,    0.087087,    0.088088,    0.089089,     0.09009,    0.091091,    0.092092,    0.093093,    0.094094,    0.095095,\n",
       "          0.096096,    0.097097,    0.098098,    0.099099,      0.1001,      0.1011,      0.1021,      0.1031,      0.1041,     0.10511,     0.10611,     0.10711,     0.10811,     0.10911,     0.11011,     0.11111,     0.11211,     0.11311,     0.11411,     0.11512,     0.11612,     0.11712,     0.11812,     0.11912,\n",
       "           0.12012,     0.12112,     0.12212,     0.12312,     0.12412,     0.12513,     0.12613,     0.12713,     0.12813,     0.12913,     0.13013,     0.13113,     0.13213,     0.13313,     0.13413,     0.13514,     0.13614,     0.13714,     0.13814,     0.13914,     0.14014,     0.14114,     0.14214,     0.14314,\n",
       "           0.14414,     0.14515,     0.14615,     0.14715,     0.14815,     0.14915,     0.15015,     0.15115,     0.15215,     0.15315,     0.15415,     0.15516,     0.15616,     0.15716,     0.15816,     0.15916,     0.16016,     0.16116,     0.16216,     0.16316,     0.16416,     0.16517,     0.16617,     0.16717,\n",
       "           0.16817,     0.16917,     0.17017,     0.17117,     0.17217,     0.17317,     0.17417,     0.17518,     0.17618,     0.17718,     0.17818,     0.17918,     0.18018,     0.18118,     0.18218,     0.18318,     0.18418,     0.18519,     0.18619,     0.18719,     0.18819,     0.18919,     0.19019,     0.19119,\n",
       "           0.19219,     0.19319,     0.19419,      0.1952,      0.1962,      0.1972,      0.1982,      0.1992,      0.2002,      0.2012,      0.2022,      0.2032,      0.2042,     0.20521,     0.20621,     0.20721,     0.20821,     0.20921,     0.21021,     0.21121,     0.21221,     0.21321,     0.21421,     0.21522,\n",
       "           0.21622,     0.21722,     0.21822,     0.21922,     0.22022,     0.22122,     0.22222,     0.22322,     0.22422,     0.22523,     0.22623,     0.22723,     0.22823,     0.22923,     0.23023,     0.23123,     0.23223,     0.23323,     0.23423,     0.23524,     0.23624,     0.23724,     0.23824,     0.23924,\n",
       "           0.24024,     0.24124,     0.24224,     0.24324,     0.24424,     0.24525,     0.24625,     0.24725,     0.24825,     0.24925,     0.25025,     0.25125,     0.25225,     0.25325,     0.25425,     0.25526,     0.25626,     0.25726,     0.25826,     0.25926,     0.26026,     0.26126,     0.26226,     0.26326,\n",
       "           0.26426,     0.26527,     0.26627,     0.26727,     0.26827,     0.26927,     0.27027,     0.27127,     0.27227,     0.27327,     0.27427,     0.27528,     0.27628,     0.27728,     0.27828,     0.27928,     0.28028,     0.28128,     0.28228,     0.28328,     0.28428,     0.28529,     0.28629,     0.28729,\n",
       "           0.28829,     0.28929,     0.29029,     0.29129,     0.29229,     0.29329,     0.29429,      0.2953,      0.2963,      0.2973,      0.2983,      0.2993,      0.3003,      0.3013,      0.3023,      0.3033,      0.3043,     0.30531,     0.30631,     0.30731,     0.30831,     0.30931,     0.31031,     0.31131,\n",
       "           0.31231,     0.31331,     0.31431,     0.31532,     0.31632,     0.31732,     0.31832,     0.31932,     0.32032,     0.32132,     0.32232,     0.32332,     0.32432,     0.32533,     0.32633,     0.32733,     0.32833,     0.32933,     0.33033,     0.33133,     0.33233,     0.33333,     0.33433,     0.33534,\n",
       "           0.33634,     0.33734,     0.33834,     0.33934,     0.34034,     0.34134,     0.34234,     0.34334,     0.34434,     0.34535,     0.34635,     0.34735,     0.34835,     0.34935,     0.35035,     0.35135,     0.35235,     0.35335,     0.35435,     0.35536,     0.35636,     0.35736,     0.35836,     0.35936,\n",
       "           0.36036,     0.36136,     0.36236,     0.36336,     0.36436,     0.36537,     0.36637,     0.36737,     0.36837,     0.36937,     0.37037,     0.37137,     0.37237,     0.37337,     0.37437,     0.37538,     0.37638,     0.37738,     0.37838,     0.37938,     0.38038,     0.38138,     0.38238,     0.38338,\n",
       "           0.38438,     0.38539,     0.38639,     0.38739,     0.38839,     0.38939,     0.39039,     0.39139,     0.39239,     0.39339,     0.39439,      0.3954,      0.3964,      0.3974,      0.3984,      0.3994,      0.4004,      0.4014,      0.4024,      0.4034,      0.4044,     0.40541,     0.40641,     0.40741,\n",
       "           0.40841,     0.40941,     0.41041,     0.41141,     0.41241,     0.41341,     0.41441,     0.41542,     0.41642,     0.41742,     0.41842,     0.41942,     0.42042,     0.42142,     0.42242,     0.42342,     0.42442,     0.42543,     0.42643,     0.42743,     0.42843,     0.42943,     0.43043,     0.43143,\n",
       "           0.43243,     0.43343,     0.43443,     0.43544,     0.43644,     0.43744,     0.43844,     0.43944,     0.44044,     0.44144,     0.44244,     0.44344,     0.44444,     0.44545,     0.44645,     0.44745,     0.44845,     0.44945,     0.45045,     0.45145,     0.45245,     0.45345,     0.45445,     0.45546,\n",
       "           0.45646,     0.45746,     0.45846,     0.45946,     0.46046,     0.46146,     0.46246,     0.46346,     0.46446,     0.46547,     0.46647,     0.46747,     0.46847,     0.46947,     0.47047,     0.47147,     0.47247,     0.47347,     0.47447,     0.47548,     0.47648,     0.47748,     0.47848,     0.47948,\n",
       "           0.48048,     0.48148,     0.48248,     0.48348,     0.48448,     0.48549,     0.48649,     0.48749,     0.48849,     0.48949,     0.49049,     0.49149,     0.49249,     0.49349,     0.49449,      0.4955,      0.4965,      0.4975,      0.4985,      0.4995,      0.5005,      0.5015,      0.5025,      0.5035,\n",
       "            0.5045,     0.50551,     0.50651,     0.50751,     0.50851,     0.50951,     0.51051,     0.51151,     0.51251,     0.51351,     0.51451,     0.51552,     0.51652,     0.51752,     0.51852,     0.51952,     0.52052,     0.52152,     0.52252,     0.52352,     0.52452,     0.52553,     0.52653,     0.52753,\n",
       "           0.52853,     0.52953,     0.53053,     0.53153,     0.53253,     0.53353,     0.53453,     0.53554,     0.53654,     0.53754,     0.53854,     0.53954,     0.54054,     0.54154,     0.54254,     0.54354,     0.54454,     0.54555,     0.54655,     0.54755,     0.54855,     0.54955,     0.55055,     0.55155,\n",
       "           0.55255,     0.55355,     0.55455,     0.55556,     0.55656,     0.55756,     0.55856,     0.55956,     0.56056,     0.56156,     0.56256,     0.56356,     0.56456,     0.56557,     0.56657,     0.56757,     0.56857,     0.56957,     0.57057,     0.57157,     0.57257,     0.57357,     0.57457,     0.57558,\n",
       "           0.57658,     0.57758,     0.57858,     0.57958,     0.58058,     0.58158,     0.58258,     0.58358,     0.58458,     0.58559,     0.58659,     0.58759,     0.58859,     0.58959,     0.59059,     0.59159,     0.59259,     0.59359,     0.59459,      0.5956,      0.5966,      0.5976,      0.5986,      0.5996,\n",
       "            0.6006,      0.6016,      0.6026,      0.6036,      0.6046,     0.60561,     0.60661,     0.60761,     0.60861,     0.60961,     0.61061,     0.61161,     0.61261,     0.61361,     0.61461,     0.61562,     0.61662,     0.61762,     0.61862,     0.61962,     0.62062,     0.62162,     0.62262,     0.62362,\n",
       "           0.62462,     0.62563,     0.62663,     0.62763,     0.62863,     0.62963,     0.63063,     0.63163,     0.63263,     0.63363,     0.63463,     0.63564,     0.63664,     0.63764,     0.63864,     0.63964,     0.64064,     0.64164,     0.64264,     0.64364,     0.64464,     0.64565,     0.64665,     0.64765,\n",
       "           0.64865,     0.64965,     0.65065,     0.65165,     0.65265,     0.65365,     0.65465,     0.65566,     0.65666,     0.65766,     0.65866,     0.65966,     0.66066,     0.66166,     0.66266,     0.66366,     0.66466,     0.66567,     0.66667,     0.66767,     0.66867,     0.66967,     0.67067,     0.67167,\n",
       "           0.67267,     0.67367,     0.67467,     0.67568,     0.67668,     0.67768,     0.67868,     0.67968,     0.68068,     0.68168,     0.68268,     0.68368,     0.68468,     0.68569,     0.68669,     0.68769,     0.68869,     0.68969,     0.69069,     0.69169,     0.69269,     0.69369,     0.69469,      0.6957,\n",
       "            0.6967,      0.6977,      0.6987,      0.6997,      0.7007,      0.7017,      0.7027,      0.7037,      0.7047,     0.70571,     0.70671,     0.70771,     0.70871,     0.70971,     0.71071,     0.71171,     0.71271,     0.71371,     0.71471,     0.71572,     0.71672,     0.71772,     0.71872,     0.71972,\n",
       "           0.72072,     0.72172,     0.72272,     0.72372,     0.72472,     0.72573,     0.72673,     0.72773,     0.72873,     0.72973,     0.73073,     0.73173,     0.73273,     0.73373,     0.73473,     0.73574,     0.73674,     0.73774,     0.73874,     0.73974,     0.74074,     0.74174,     0.74274,     0.74374,\n",
       "           0.74474,     0.74575,     0.74675,     0.74775,     0.74875,     0.74975,     0.75075,     0.75175,     0.75275,     0.75375,     0.75475,     0.75576,     0.75676,     0.75776,     0.75876,     0.75976,     0.76076,     0.76176,     0.76276,     0.76376,     0.76476,     0.76577,     0.76677,     0.76777,\n",
       "           0.76877,     0.76977,     0.77077,     0.77177,     0.77277,     0.77377,     0.77477,     0.77578,     0.77678,     0.77778,     0.77878,     0.77978,     0.78078,     0.78178,     0.78278,     0.78378,     0.78478,     0.78579,     0.78679,     0.78779,     0.78879,     0.78979,     0.79079,     0.79179,\n",
       "           0.79279,     0.79379,     0.79479,      0.7958,      0.7968,      0.7978,      0.7988,      0.7998,      0.8008,      0.8018,      0.8028,      0.8038,      0.8048,     0.80581,     0.80681,     0.80781,     0.80881,     0.80981,     0.81081,     0.81181,     0.81281,     0.81381,     0.81481,     0.81582,\n",
       "           0.81682,     0.81782,     0.81882,     0.81982,     0.82082,     0.82182,     0.82282,     0.82382,     0.82482,     0.82583,     0.82683,     0.82783,     0.82883,     0.82983,     0.83083,     0.83183,     0.83283,     0.83383,     0.83483,     0.83584,     0.83684,     0.83784,     0.83884,     0.83984,\n",
       "           0.84084,     0.84184,     0.84284,     0.84384,     0.84484,     0.84585,     0.84685,     0.84785,     0.84885,     0.84985,     0.85085,     0.85185,     0.85285,     0.85385,     0.85485,     0.85586,     0.85686,     0.85786,     0.85886,     0.85986,     0.86086,     0.86186,     0.86286,     0.86386,\n",
       "           0.86486,     0.86587,     0.86687,     0.86787,     0.86887,     0.86987,     0.87087,     0.87187,     0.87287,     0.87387,     0.87487,     0.87588,     0.87688,     0.87788,     0.87888,     0.87988,     0.88088,     0.88188,     0.88288,     0.88388,     0.88488,     0.88589,     0.88689,     0.88789,\n",
       "           0.88889,     0.88989,     0.89089,     0.89189,     0.89289,     0.89389,     0.89489,      0.8959,      0.8969,      0.8979,      0.8989,      0.8999,      0.9009,      0.9019,      0.9029,      0.9039,      0.9049,     0.90591,     0.90691,     0.90791,     0.90891,     0.90991,     0.91091,     0.91191,\n",
       "           0.91291,     0.91391,     0.91491,     0.91592,     0.91692,     0.91792,     0.91892,     0.91992,     0.92092,     0.92192,     0.92292,     0.92392,     0.92492,     0.92593,     0.92693,     0.92793,     0.92893,     0.92993,     0.93093,     0.93193,     0.93293,     0.93393,     0.93493,     0.93594,\n",
       "           0.93694,     0.93794,     0.93894,     0.93994,     0.94094,     0.94194,     0.94294,     0.94394,     0.94494,     0.94595,     0.94695,     0.94795,     0.94895,     0.94995,     0.95095,     0.95195,     0.95295,     0.95395,     0.95495,     0.95596,     0.95696,     0.95796,     0.95896,     0.95996,\n",
       "           0.96096,     0.96196,     0.96296,     0.96396,     0.96496,     0.96597,     0.96697,     0.96797,     0.96897,     0.96997,     0.97097,     0.97197,     0.97297,     0.97397,     0.97497,     0.97598,     0.97698,     0.97798,     0.97898,     0.97998,     0.98098,     0.98198,     0.98298,     0.98398,\n",
       "           0.98498,     0.98599,     0.98699,     0.98799,     0.98899,     0.98999,     0.99099,     0.99199,     0.99299,     0.99399,     0.99499,       0.996,       0.997,       0.998,       0.999,           1]), array([[          1,           1,           1,           1,           1,           1,           1,           1,           1,           1,           1,           1,           1,           1,           1,           1,           1,     0.98031,     0.96429,     0.96429,     0.96429,     0.96429,     0.96429,\n",
       "            0.96429,     0.96429,     0.96429,     0.96429,     0.96429,     0.96429,     0.96429,     0.96429,     0.96429,     0.96429,     0.96429,     0.96429,     0.96429,     0.96429,     0.96429,     0.96429,     0.96429,     0.96429,     0.96429,     0.96429,     0.96429,     0.96429,     0.96429,\n",
       "            0.96429,     0.96429,     0.96429,     0.96429,     0.96429,     0.96429,     0.96429,     0.96429,     0.96429,     0.96429,     0.96429,     0.96429,     0.96429,     0.96429,     0.96429,     0.96429,     0.96429,     0.96429,     0.96429,     0.96429,     0.96429,     0.96429,     0.96429,\n",
       "            0.96429,     0.96429,     0.96429,     0.96429,     0.96429,     0.96429,     0.96429,     0.96429,     0.96429,     0.96429,     0.96429,     0.96429,     0.96429,     0.96429,     0.96429,     0.96429,     0.96429,     0.96429,     0.96429,     0.96429,     0.96429,     0.96429,     0.96429,\n",
       "            0.96429,     0.96429,     0.96429,     0.96429,     0.96429,     0.96429,     0.96429,     0.96429,     0.96429,     0.96429,     0.96429,     0.96429,     0.96429,     0.96429,     0.96429,     0.96429,     0.96429,     0.96429,     0.96429,     0.96429,     0.96429,     0.96429,     0.96429,\n",
       "            0.96429,     0.96429,     0.96429,     0.96429,     0.96429,     0.96429,     0.96429,     0.96429,     0.96429,     0.96429,     0.96429,     0.96429,     0.96429,     0.96429,     0.96429,     0.96429,     0.96429,     0.96429,     0.96429,     0.96429,     0.96429,     0.96429,     0.96429,\n",
       "            0.96429,     0.96429,     0.96429,     0.96429,     0.96429,     0.96429,     0.96429,     0.96429,     0.96429,     0.96429,     0.96429,     0.96429,     0.96429,     0.96429,     0.96429,     0.96429,     0.96429,     0.96429,     0.96429,     0.96429,     0.96429,     0.96429,     0.96429,\n",
       "            0.96429,     0.96429,     0.96429,     0.96429,     0.96429,     0.96429,     0.96429,     0.96429,     0.96429,     0.96429,     0.96429,     0.96429,     0.96429,     0.96429,     0.96429,     0.96429,     0.96429,     0.96429,     0.96429,     0.96429,     0.96429,     0.96429,     0.96429,\n",
       "            0.96429,     0.96429,     0.96429,     0.96429,     0.96429,     0.96429,     0.96429,     0.96429,     0.96429,     0.96429,     0.96429,     0.96429,     0.96429,     0.96429,     0.96429,     0.96429,     0.96429,     0.96429,     0.96429,     0.96429,     0.96429,     0.96429,     0.96429,\n",
       "            0.96429,     0.96429,     0.96429,     0.96429,     0.96429,     0.96429,     0.96429,     0.96429,     0.96429,     0.96429,     0.96429,     0.96429,     0.96429,     0.96429,     0.96429,     0.96429,     0.96429,     0.96429,     0.96429,     0.96429,     0.96429,     0.96429,     0.96429,\n",
       "            0.96429,     0.96429,     0.96429,     0.96429,     0.96429,     0.96429,     0.96429,     0.96429,     0.96429,     0.96429,     0.96429,     0.96429,     0.96429,     0.96429,     0.96429,     0.96429,     0.96429,     0.96429,     0.96429,     0.96429,     0.96429,     0.96429,     0.96429,\n",
       "            0.96429,     0.96429,     0.96429,     0.96429,     0.96429,     0.96429,     0.96429,     0.96429,     0.96429,     0.96429,     0.96429,     0.96429,     0.96429,     0.96429,     0.96429,     0.96429,     0.96429,     0.96429,     0.96429,     0.96429,     0.96429,     0.96429,     0.96429,\n",
       "            0.96429,     0.96429,     0.96429,     0.96429,     0.96429,     0.96429,     0.96429,     0.96429,     0.96429,     0.96429,     0.96429,     0.96429,     0.96429,     0.96429,     0.96429,     0.96429,     0.96429,     0.96429,     0.96429,     0.96429,     0.96429,     0.96429,     0.96429,\n",
       "            0.96429,     0.96429,     0.96429,     0.96429,     0.96429,     0.96429,     0.96429,     0.96429,     0.96429,     0.96429,     0.96429,     0.96429,     0.96429,     0.96429,     0.96429,     0.96429,     0.96429,     0.96429,     0.96429,     0.96429,     0.96429,     0.96429,     0.96429,\n",
       "            0.96429,     0.96429,     0.96429,     0.96429,     0.96429,     0.96429,     0.96429,     0.96429,     0.96429,     0.96429,     0.96429,     0.96429,     0.96429,     0.96429,     0.96429,     0.96429,     0.96429,     0.96429,     0.96429,     0.96429,     0.96429,     0.96429,     0.96429,\n",
       "            0.96429,     0.96429,     0.96429,     0.96429,     0.96429,     0.96429,     0.96429,     0.96429,     0.96429,     0.96429,     0.96429,     0.96429,     0.96429,     0.96429,     0.96429,     0.96429,     0.96429,     0.96429,     0.96429,     0.96429,     0.96429,     0.96429,     0.96429,\n",
       "            0.96429,     0.96429,     0.96429,     0.96429,     0.96429,     0.96429,     0.96429,     0.96429,     0.96429,     0.96429,     0.96429,     0.96429,     0.96429,     0.96429,     0.96429,     0.96429,     0.96429,     0.96429,     0.96429,     0.96429,     0.96429,     0.96429,     0.96429,\n",
       "            0.96429,     0.96429,     0.96429,     0.96429,     0.96429,     0.96429,     0.96429,     0.96429,     0.96429,     0.96429,     0.96429,     0.96429,     0.96429,     0.96429,     0.96429,     0.96429,     0.96429,     0.96429,     0.96429,     0.96429,     0.96429,     0.96429,     0.96429,\n",
       "            0.96429,     0.96429,     0.96429,     0.96429,     0.96429,     0.96429,     0.96429,     0.96429,     0.96429,     0.96429,     0.96429,     0.96429,     0.96429,     0.96429,     0.96429,     0.96429,     0.96429,     0.96429,     0.96429,     0.96429,     0.96429,     0.96429,     0.96429,\n",
       "            0.96429,     0.96429,     0.96429,     0.96429,     0.96429,     0.96429,     0.96429,     0.96429,     0.96429,     0.96429,     0.96429,     0.96429,     0.96429,     0.96429,     0.96429,     0.96429,     0.96429,     0.96429,     0.96429,     0.96429,     0.96429,     0.96429,     0.96429,\n",
       "            0.96429,     0.96429,     0.96429,     0.96429,     0.96429,     0.96429,     0.96429,     0.96429,     0.96429,     0.96429,     0.96429,     0.96429,     0.96429,     0.96429,     0.96429,     0.96429,     0.96429,     0.96429,     0.96429,     0.96429,     0.96429,     0.96429,     0.96429,\n",
       "            0.96429,     0.96429,     0.96429,     0.96429,     0.96429,     0.96429,     0.96429,     0.96429,     0.96429,     0.96429,     0.96429,     0.96429,     0.96429,     0.96429,     0.96429,     0.96429,     0.96429,     0.96429,     0.96429,     0.96429,     0.96429,     0.96429,     0.96429,\n",
       "            0.96429,     0.96429,     0.96429,     0.96429,     0.96429,     0.96429,     0.96429,     0.96429,     0.96429,     0.96429,     0.96429,     0.96429,     0.96429,     0.96429,     0.96429,     0.96429,     0.96429,     0.96429,     0.96429,     0.96429,     0.96429,     0.96429,     0.96429,\n",
       "            0.96429,     0.96429,     0.96429,     0.96429,     0.96429,     0.96429,     0.96429,     0.96429,     0.96429,     0.96429,     0.96429,     0.96429,     0.96429,     0.96429,     0.96429,     0.96429,     0.96429,     0.96429,     0.96429,     0.96429,     0.96429,     0.96429,     0.96429,\n",
       "            0.96429,     0.96429,     0.96429,     0.96429,     0.96429,     0.96429,     0.96429,     0.96429,     0.96429,     0.96429,     0.96429,     0.96429,     0.96429,     0.96429,     0.96429,     0.96429,     0.96429,     0.96429,     0.96429,     0.96429,     0.96429,     0.96429,     0.96429,\n",
       "            0.96429,     0.96429,     0.96429,     0.96429,     0.96429,     0.96429,     0.96429,     0.96429,     0.96429,     0.96429,     0.96429,     0.96429,     0.96429,     0.96429,     0.96429,     0.96429,     0.96429,     0.96429,     0.96429,     0.96429,     0.96429,     0.96429,     0.96429,\n",
       "            0.96429,     0.96429,     0.96429,     0.96429,     0.96429,     0.96429,     0.96429,     0.96429,     0.96429,     0.96429,     0.96429,     0.96429,     0.96429,     0.96429,     0.96429,     0.96429,     0.96429,     0.96429,     0.96429,     0.96429,     0.96429,     0.96429,     0.96429,\n",
       "            0.96429,     0.96429,     0.96429,     0.96429,     0.96429,     0.96429,     0.96429,     0.96429,     0.96429,     0.96429,     0.96429,     0.96429,     0.96429,     0.96429,     0.96429,     0.96429,     0.96429,     0.96429,     0.96429,     0.96429,     0.96429,     0.96429,     0.96429,\n",
       "            0.96429,     0.96429,     0.96429,     0.96429,     0.96429,     0.96429,     0.96429,     0.96429,     0.96429,     0.96429,     0.96429,     0.96429,     0.96429,     0.96429,     0.96429,     0.96429,     0.96429,     0.96429,     0.96429,     0.96429,     0.96429,     0.96429,     0.96429,\n",
       "            0.96429,     0.96429,     0.96429,     0.96429,     0.96429,     0.96429,     0.96429,     0.96429,     0.96429,     0.96429,     0.96429,     0.96429,     0.96429,     0.96429,     0.96429,     0.96429,     0.96429,     0.96429,     0.96429,     0.96429,     0.96429,     0.96429,     0.96429,\n",
       "            0.96429,     0.96429,     0.96429,     0.96429,     0.96429,     0.96429,     0.96429,     0.96429,     0.96429,     0.96429,     0.96429,     0.96429,     0.96429,     0.96429,     0.96429,     0.96429,     0.96429,     0.96429,     0.96429,     0.96429,     0.96429,     0.96429,     0.96429,\n",
       "            0.96429,     0.96429,     0.96429,     0.96429,     0.96429,     0.96429,     0.96429,     0.96429,     0.96429,     0.96429,     0.96429,     0.96429,     0.96429,     0.96429,     0.96429,     0.96429,     0.96429,     0.96429,     0.96429,     0.96429,     0.96429,     0.96429,     0.96429,\n",
       "            0.96429,     0.96429,     0.96429,     0.96429,     0.96429,     0.96429,     0.96429,     0.96429,     0.96429,     0.96429,     0.96429,     0.96429,     0.96429,     0.96429,     0.96429,     0.96429,     0.96429,     0.96357,      0.9627,     0.96182,     0.96095,     0.96008,     0.95921,\n",
       "            0.95834,     0.95747,      0.9566,     0.95572,     0.95485,     0.95398,     0.95311,     0.95224,     0.95137,     0.95049,     0.94962,     0.94875,     0.94788,     0.94701,     0.94614,     0.94526,     0.94439,     0.94352,     0.94265,     0.94178,     0.94091,     0.94003,     0.93916,\n",
       "            0.93829,     0.93742,     0.93655,     0.93568,      0.9348,     0.93393,     0.93306,     0.93219,     0.93132,     0.93045,     0.92957,      0.9287,     0.92857,     0.92857,     0.92857,     0.92857,     0.92857,     0.92857,     0.92857,     0.92857,     0.92857,     0.92857,     0.92857,\n",
       "            0.92857,     0.92857,     0.92857,     0.92857,     0.92857,     0.92857,     0.92857,     0.92857,     0.92857,     0.92857,     0.92857,     0.92857,     0.92857,     0.92857,     0.92712,     0.92563,     0.92413,     0.92264,     0.92114,     0.91965,     0.91816,     0.91666,     0.91517,\n",
       "            0.91367,     0.91218,     0.91068,     0.90919,      0.9077,      0.9062,     0.90471,     0.90321,     0.90172,     0.90022,     0.89873,     0.89724,     0.89574,     0.89425,     0.89272,     0.89074,     0.88876,     0.88678,      0.8848,     0.88283,     0.88085,     0.87887,     0.87689,\n",
       "            0.87491,     0.87293,     0.87095,     0.86897,       0.867,     0.86502,     0.86304,     0.86106,     0.85908,      0.8571,     0.85488,     0.85266,     0.85044,     0.84822,       0.846,     0.84378,     0.84157,     0.83935,     0.83713,     0.83491,     0.83269,     0.83047,     0.82825,\n",
       "            0.82603,     0.82382,      0.8216,     0.81892,     0.81621,      0.8135,     0.81079,     0.80808,     0.80536,     0.80265,     0.79994,     0.79723,     0.79452,     0.79181,     0.78909,     0.78638,     0.78321,     0.77988,     0.77655,     0.77322,     0.76989,     0.76657,     0.76324,\n",
       "            0.75991,     0.75658,     0.75325,     0.74984,     0.74252,      0.7352,     0.72787,     0.72055,     0.71429,     0.69026,     0.62625,     0.60538,     0.59724,      0.5891,     0.58097,     0.57283,     0.55629,     0.53798,     0.52503,     0.51282,     0.50062,     0.49421,     0.48811,\n",
       "            0.48201,      0.4759,      0.4698,      0.4639,     0.45983,     0.45576,     0.45169,     0.44763,     0.44356,     0.43949,     0.43542,     0.43136,     0.40548,     0.37266,     0.35048,     0.33217,     0.31135,     0.28694,     0.27181,     0.25716,     0.24585,     0.23771,     0.22957,\n",
       "            0.22144,     0.21208,     0.19377,      0.1768,     0.16634,     0.15588,     0.14542,     0.14157,     0.13987,     0.13817,     0.13646,     0.13476,     0.13306,     0.13136,     0.12965,     0.12795,     0.12625,     0.12454,     0.12284,     0.12114,     0.11944,     0.11773,     0.11603,\n",
       "            0.11433,     0.11263,     0.11092,     0.10922,     0.10752,     0.10466,     0.10148,    0.098294,    0.095111,    0.091927,    0.088744,    0.085561,    0.082377,    0.079194,    0.076011,    0.072827,    0.068272,     0.06264,    0.057008,    0.051376,    0.045744,    0.040112,           0,\n",
       "                  0,           0,           0,           0,           0,           0,           0,           0,           0,           0,           0]]), 'Confidence', 'Recall']]\n",
       "fitness: 0.9565658407789235\n",
       "keys: ['metrics/precision(B)', 'metrics/recall(B)', 'metrics/mAP50(B)', 'metrics/mAP50-95(B)']\n",
       "maps: array([    0.95527])\n",
       "names: {0: 'Soup'}\n",
       "nt_per_class: array([28])\n",
       "nt_per_image: array([14])\n",
       "results_dict: {'metrics/precision(B)': 0.8971535574983851, 'metrics/recall(B)': 0.9348047026618456, 'metrics/mAP50(B)': 0.9682222222222223, 'metrics/mAP50-95(B)': 0.9552706872852236, 'fitness': 0.9565658407789235}\n",
       "speed: {'preprocess': 0.6253190000100923, 'inference': 6.416817714279789, 'loss': 0.0017766428592429812, 'postprocess': 2.269759857142617}\n",
       "stats: {'tp': [], 'conf': [], 'pred_cls': [], 'target_cls': [], 'target_img': []}\n",
       "task: 'detect'"
      ]
     },
     "execution_count": 3,
     "metadata": {},
     "output_type": "execute_result"
    }
   ],
   "source": [
    "model = YOLO(\"yolo11m.pt\")\n",
    "data_yaml = \"/kaggle/input/multi-instance-object-detection-challenge/Starter_Dataset/yolo_params.yaml\"\n",
    "\n",
    "model.train(\n",
    "    data=data_yaml,\n",
    "    epochs=50,                \n",
    "    batch=4,                   \n",
    "    imgsz=640,\n",
    "    patience=50,               \n",
    "    optimizer='SGD',\n",
    "    momentum=0.937,          \n",
    "    lr0=0.001,                \n",
    "    weight_decay=0.0005,       \n",
    "    cos_lr=True,               \n",
    "    save_period=5,             \n",
    "    workers=8,\n",
    "    # Augmentations\n",
    "    close_mosaic=15,\n",
    "    hsv_h=0.015,\n",
    "    hsv_s=0.7,\n",
    "    hsv_v=0.4,\n",
    "    flipud=0.5,\n",
    "    fliplr=0.5,\n",
    "    translate=0.1,\n",
    "    scale=0.5,\n",
    "    shear=0.01\n",
    ")"
   ]
  },
  {
   "cell_type": "code",
   "execution_count": 4,
   "id": "8eb30514",
   "metadata": {
    "execution": {
     "iopub.execute_input": "2025-06-24T09:37:28.083386Z",
     "iopub.status.busy": "2025-06-24T09:37:28.082633Z",
     "iopub.status.idle": "2025-06-24T09:38:17.694738Z",
     "shell.execute_reply": "2025-06-24T09:38:17.694128Z"
    },
    "papermill": {
     "duration": 49.714233,
     "end_time": "2025-06-24T09:38:17.695912",
     "exception": false,
     "start_time": "2025-06-24T09:37:27.981679",
     "status": "completed"
    },
    "tags": []
   },
   "outputs": [
    {
     "name": "stdout",
     "output_type": "stream",
     "text": [
      "\n",
      "image 1/1 /kaggle/input/multi-instance-object-detection-challenge/Starter_Dataset/TestImages/images/IMG_9602.jpg: 480x640 300 Soups, 49.4ms\n",
      "Speed: 3.5ms preprocess, 49.4ms inference, 13.8ms postprocess per image at shape (1, 3, 480, 640)\n",
      "\n",
      "image 1/1 /kaggle/input/multi-instance-object-detection-challenge/Starter_Dataset/TestImages/images/IMG_9594.jpg: 480x640 300 Soups, 16.9ms\n",
      "Speed: 3.4ms preprocess, 16.9ms inference, 3.3ms postprocess per image at shape (1, 3, 480, 640)\n",
      "\n",
      "image 1/1 /kaggle/input/multi-instance-object-detection-challenge/Starter_Dataset/TestImages/images/IMG_9717.jpg: 480x640 300 Soups, 29.2ms\n",
      "Speed: 3.3ms preprocess, 29.2ms inference, 3.5ms postprocess per image at shape (1, 3, 480, 640)\n",
      "\n",
      "image 1/1 /kaggle/input/multi-instance-object-detection-challenge/Starter_Dataset/TestImages/images/IMG_9703.jpg: 480x640 300 Soups, 29.2ms\n",
      "Speed: 3.4ms preprocess, 29.2ms inference, 3.9ms postprocess per image at shape (1, 3, 480, 640)\n",
      "\n",
      "image 1/1 /kaggle/input/multi-instance-object-detection-challenge/Starter_Dataset/TestImages/images/IMG_9780.jpg: 480x640 300 Soups, 29.2ms\n",
      "Speed: 3.1ms preprocess, 29.2ms inference, 3.8ms postprocess per image at shape (1, 3, 480, 640)\n",
      "\n",
      "image 1/1 /kaggle/input/multi-instance-object-detection-challenge/Starter_Dataset/TestImages/images/IMG_9617.jpg: 480x640 300 Soups, 29.2ms\n",
      "Speed: 3.4ms preprocess, 29.2ms inference, 3.6ms postprocess per image at shape (1, 3, 480, 640)\n",
      "\n",
      "image 1/1 /kaggle/input/multi-instance-object-detection-challenge/Starter_Dataset/TestImages/images/IMG_9788.jpg: 480x640 300 Soups, 29.2ms\n",
      "Speed: 3.2ms preprocess, 29.2ms inference, 4.0ms postprocess per image at shape (1, 3, 480, 640)\n",
      "\n",
      "image 1/1 /kaggle/input/multi-instance-object-detection-challenge/Starter_Dataset/TestImages/images/IMG_9786.jpg: 480x640 300 Soups, 29.2ms\n",
      "Speed: 3.3ms preprocess, 29.2ms inference, 3.7ms postprocess per image at shape (1, 3, 480, 640)\n",
      "\n",
      "image 1/1 /kaggle/input/multi-instance-object-detection-challenge/Starter_Dataset/TestImages/images/IMG_9769.jpg: 480x640 300 Soups, 29.2ms\n",
      "Speed: 3.1ms preprocess, 29.2ms inference, 4.0ms postprocess per image at shape (1, 3, 480, 640)\n",
      "\n",
      "image 1/1 /kaggle/input/multi-instance-object-detection-challenge/Starter_Dataset/TestImages/images/IMG_9588.jpg: 480x640 300 Soups, 29.2ms\n",
      "Speed: 3.5ms preprocess, 29.2ms inference, 3.9ms postprocess per image at shape (1, 3, 480, 640)\n",
      "\n",
      "image 1/1 /kaggle/input/multi-instance-object-detection-challenge/Starter_Dataset/TestImages/images/IMG_9623.jpg: 480x640 300 Soups, 29.2ms\n",
      "Speed: 3.4ms preprocess, 29.2ms inference, 3.4ms postprocess per image at shape (1, 3, 480, 640)\n",
      "\n",
      "image 1/1 /kaggle/input/multi-instance-object-detection-challenge/Starter_Dataset/TestImages/images/IMG_9768.jpg: 480x640 300 Soups, 29.2ms\n",
      "Speed: 3.1ms preprocess, 29.2ms inference, 3.9ms postprocess per image at shape (1, 3, 480, 640)\n",
      "\n",
      "image 1/1 /kaggle/input/multi-instance-object-detection-challenge/Starter_Dataset/TestImages/images/IMG_9678.jpg: 480x640 300 Soups, 29.2ms\n",
      "Speed: 3.4ms preprocess, 29.2ms inference, 3.6ms postprocess per image at shape (1, 3, 480, 640)\n",
      "\n",
      "image 1/1 /kaggle/input/multi-instance-object-detection-challenge/Starter_Dataset/TestImages/images/IMG_9764.jpg: 480x640 300 Soups, 29.2ms\n",
      "Speed: 3.4ms preprocess, 29.2ms inference, 4.4ms postprocess per image at shape (1, 3, 480, 640)\n",
      "\n",
      "image 1/1 /kaggle/input/multi-instance-object-detection-challenge/Starter_Dataset/TestImages/images/IMG_9790.jpg: 480x640 300 Soups, 29.2ms\n",
      "Speed: 3.0ms preprocess, 29.2ms inference, 3.6ms postprocess per image at shape (1, 3, 480, 640)\n",
      "\n",
      "image 1/1 /kaggle/input/multi-instance-object-detection-challenge/Starter_Dataset/TestImages/images/IMG_9701.jpg: 480x640 300 Soups, 29.2ms\n",
      "Speed: 3.3ms preprocess, 29.2ms inference, 3.8ms postprocess per image at shape (1, 3, 480, 640)\n",
      "\n",
      "image 1/1 /kaggle/input/multi-instance-object-detection-challenge/Starter_Dataset/TestImages/images/IMG_9735.jpg: 480x640 300 Soups, 29.2ms\n",
      "Speed: 3.1ms preprocess, 29.2ms inference, 3.5ms postprocess per image at shape (1, 3, 480, 640)\n",
      "\n",
      "image 1/1 /kaggle/input/multi-instance-object-detection-challenge/Starter_Dataset/TestImages/images/IMG_9762.jpg: 480x640 300 Soups, 29.2ms\n",
      "Speed: 3.4ms preprocess, 29.2ms inference, 3.8ms postprocess per image at shape (1, 3, 480, 640)\n",
      "\n",
      "image 1/1 /kaggle/input/multi-instance-object-detection-challenge/Starter_Dataset/TestImages/images/IMG_9692.jpg: 480x640 300 Soups, 29.2ms\n",
      "Speed: 3.2ms preprocess, 29.2ms inference, 3.4ms postprocess per image at shape (1, 3, 480, 640)\n",
      "\n",
      "image 1/1 /kaggle/input/multi-instance-object-detection-challenge/Starter_Dataset/TestImages/images/IMG_9756.jpg: 480x640 300 Soups, 29.2ms\n",
      "Speed: 3.3ms preprocess, 29.2ms inference, 3.4ms postprocess per image at shape (1, 3, 480, 640)\n",
      "\n",
      "image 1/1 /kaggle/input/multi-instance-object-detection-challenge/Starter_Dataset/TestImages/images/IMG_9689.jpg: 480x640 300 Soups, 29.2ms\n",
      "Speed: 3.4ms preprocess, 29.2ms inference, 3.6ms postprocess per image at shape (1, 3, 480, 640)\n",
      "\n",
      "image 1/1 /kaggle/input/multi-instance-object-detection-challenge/Starter_Dataset/TestImages/images/IMG_9791.jpg: 480x640 300 Soups, 29.2ms\n",
      "Speed: 3.1ms preprocess, 29.2ms inference, 3.1ms postprocess per image at shape (1, 3, 480, 640)\n",
      "\n",
      "image 1/1 /kaggle/input/multi-instance-object-detection-challenge/Starter_Dataset/TestImages/images/IMG_9612.jpg: 480x640 300 Soups, 29.2ms\n",
      "Speed: 3.5ms preprocess, 29.2ms inference, 3.3ms postprocess per image at shape (1, 3, 480, 640)\n",
      "\n",
      "image 1/1 /kaggle/input/multi-instance-object-detection-challenge/Starter_Dataset/TestImages/images/IMG_9562.jpg: 480x640 300 Soups, 29.2ms\n",
      "Speed: 3.5ms preprocess, 29.2ms inference, 3.8ms postprocess per image at shape (1, 3, 480, 640)\n",
      "\n",
      "image 1/1 /kaggle/input/multi-instance-object-detection-challenge/Starter_Dataset/TestImages/images/IMG_9596.jpg: 480x640 300 Soups, 29.2ms\n",
      "Speed: 3.4ms preprocess, 29.2ms inference, 3.7ms postprocess per image at shape (1, 3, 480, 640)\n",
      "\n",
      "image 1/1 /kaggle/input/multi-instance-object-detection-challenge/Starter_Dataset/TestImages/images/IMG_9633.jpg: 480x640 300 Soups, 29.2ms\n",
      "Speed: 3.4ms preprocess, 29.2ms inference, 3.5ms postprocess per image at shape (1, 3, 480, 640)\n",
      "\n",
      "image 1/1 /kaggle/input/multi-instance-object-detection-challenge/Starter_Dataset/TestImages/images/IMG_9570.jpg: 480x640 300 Soups, 29.2ms\n",
      "Speed: 3.4ms preprocess, 29.2ms inference, 3.5ms postprocess per image at shape (1, 3, 480, 640)\n",
      "\n",
      "image 1/1 /kaggle/input/multi-instance-object-detection-challenge/Starter_Dataset/TestImages/images/IMG_9604.jpg: 480x640 300 Soups, 29.2ms\n",
      "Speed: 3.4ms preprocess, 29.2ms inference, 3.6ms postprocess per image at shape (1, 3, 480, 640)\n",
      "\n",
      "image 1/1 /kaggle/input/multi-instance-object-detection-challenge/Starter_Dataset/TestImages/images/IMG_9613.jpg: 480x640 300 Soups, 29.2ms\n",
      "Speed: 3.5ms preprocess, 29.2ms inference, 4.4ms postprocess per image at shape (1, 3, 480, 640)\n",
      "\n",
      "image 1/1 /kaggle/input/multi-instance-object-detection-challenge/Starter_Dataset/TestImages/images/IMG_9707.jpg: 480x640 300 Soups, 29.2ms\n",
      "Speed: 3.4ms preprocess, 29.2ms inference, 3.7ms postprocess per image at shape (1, 3, 480, 640)\n",
      "\n",
      "image 1/1 /kaggle/input/multi-instance-object-detection-challenge/Starter_Dataset/TestImages/images/IMG_9580.jpg: 480x640 300 Soups, 29.2ms\n",
      "Speed: 3.4ms preprocess, 29.2ms inference, 3.7ms postprocess per image at shape (1, 3, 480, 640)\n",
      "\n",
      "image 1/1 /kaggle/input/multi-instance-object-detection-challenge/Starter_Dataset/TestImages/images/IMG_9748.jpg: 480x640 300 Soups, 29.3ms\n",
      "Speed: 3.7ms preprocess, 29.3ms inference, 3.6ms postprocess per image at shape (1, 3, 480, 640)\n",
      "\n",
      "image 1/1 /kaggle/input/multi-instance-object-detection-challenge/Starter_Dataset/TestImages/images/IMG_9582.jpg: 480x640 300 Soups, 29.2ms\n",
      "Speed: 3.4ms preprocess, 29.2ms inference, 3.5ms postprocess per image at shape (1, 3, 480, 640)\n",
      "\n",
      "image 1/1 /kaggle/input/multi-instance-object-detection-challenge/Starter_Dataset/TestImages/images/IMG_9709.jpg: 480x640 300 Soups, 29.2ms\n",
      "Speed: 3.4ms preprocess, 29.2ms inference, 3.5ms postprocess per image at shape (1, 3, 480, 640)\n",
      "\n",
      "image 1/1 /kaggle/input/multi-instance-object-detection-challenge/Starter_Dataset/TestImages/images/IMG_9775.jpg: 480x640 300 Soups, 29.2ms\n",
      "Speed: 3.1ms preprocess, 29.2ms inference, 3.7ms postprocess per image at shape (1, 3, 480, 640)\n",
      "\n",
      "image 1/1 /kaggle/input/multi-instance-object-detection-challenge/Starter_Dataset/TestImages/images/IMG_9574.jpg: 480x640 300 Soups, 29.2ms\n",
      "Speed: 3.3ms preprocess, 29.2ms inference, 3.6ms postprocess per image at shape (1, 3, 480, 640)\n",
      "\n",
      "image 1/1 /kaggle/input/multi-instance-object-detection-challenge/Starter_Dataset/TestImages/images/IMG_9632.jpg: 480x640 300 Soups, 29.2ms\n",
      "Speed: 3.5ms preprocess, 29.2ms inference, 3.5ms postprocess per image at shape (1, 3, 480, 640)\n",
      "\n",
      "image 1/1 /kaggle/input/multi-instance-object-detection-challenge/Starter_Dataset/TestImages/images/IMG_9683.jpg: 480x640 300 Soups, 29.2ms\n",
      "Speed: 3.4ms preprocess, 29.2ms inference, 3.4ms postprocess per image at shape (1, 3, 480, 640)\n",
      "\n",
      "image 1/1 /kaggle/input/multi-instance-object-detection-challenge/Starter_Dataset/TestImages/images/IMG_9566.jpg: 480x640 300 Soups, 29.2ms\n",
      "Speed: 3.3ms preprocess, 29.2ms inference, 3.6ms postprocess per image at shape (1, 3, 480, 640)\n",
      "\n",
      "image 1/1 /kaggle/input/multi-instance-object-detection-challenge/Starter_Dataset/TestImages/images/IMG_9687.jpg: 480x640 300 Soups, 29.2ms\n",
      "Speed: 3.3ms preprocess, 29.2ms inference, 3.5ms postprocess per image at shape (1, 3, 480, 640)\n",
      "\n",
      "image 1/1 /kaggle/input/multi-instance-object-detection-challenge/Starter_Dataset/TestImages/images/IMG_9578.jpg: 480x640 300 Soups, 29.2ms\n",
      "Speed: 3.4ms preprocess, 29.2ms inference, 4.7ms postprocess per image at shape (1, 3, 480, 640)\n",
      "\n",
      "image 1/1 /kaggle/input/multi-instance-object-detection-challenge/Starter_Dataset/TestImages/images/IMG_9592.jpg: 480x640 300 Soups, 29.2ms\n",
      "Speed: 3.4ms preprocess, 29.2ms inference, 3.7ms postprocess per image at shape (1, 3, 480, 640)\n",
      "\n",
      "image 1/1 /kaggle/input/multi-instance-object-detection-challenge/Starter_Dataset/TestImages/images/IMG_9597.jpg: 480x640 300 Soups, 29.2ms\n",
      "Speed: 3.4ms preprocess, 29.2ms inference, 3.6ms postprocess per image at shape (1, 3, 480, 640)\n",
      "\n",
      "image 1/1 /kaggle/input/multi-instance-object-detection-challenge/Starter_Dataset/TestImages/images/IMG_9705.jpg: 480x640 300 Soups, 29.2ms\n",
      "Speed: 3.3ms preprocess, 29.2ms inference, 3.5ms postprocess per image at shape (1, 3, 480, 640)\n",
      "\n",
      "image 1/1 /kaggle/input/multi-instance-object-detection-challenge/Starter_Dataset/TestImages/images/IMG_9622.jpg: 480x640 300 Soups, 29.2ms\n",
      "Speed: 3.6ms preprocess, 29.2ms inference, 3.7ms postprocess per image at shape (1, 3, 480, 640)\n",
      "\n",
      "image 1/1 /kaggle/input/multi-instance-object-detection-challenge/Starter_Dataset/TestImages/images/IMG_9625.jpg: 480x640 300 Soups, 29.2ms\n",
      "Speed: 3.5ms preprocess, 29.2ms inference, 3.3ms postprocess per image at shape (1, 3, 480, 640)\n",
      "\n",
      "image 1/1 /kaggle/input/multi-instance-object-detection-challenge/Starter_Dataset/TestImages/images/IMG_9628.jpg: 480x640 300 Soups, 29.2ms\n",
      "Speed: 3.4ms preprocess, 29.2ms inference, 3.8ms postprocess per image at shape (1, 3, 480, 640)\n",
      "\n",
      "image 1/1 /kaggle/input/multi-instance-object-detection-challenge/Starter_Dataset/TestImages/images/IMG_9782.jpg: 480x640 300 Soups, 29.2ms\n",
      "Speed: 3.0ms preprocess, 29.2ms inference, 3.9ms postprocess per image at shape (1, 3, 480, 640)\n",
      "\n",
      "image 1/1 /kaggle/input/multi-instance-object-detection-challenge/Starter_Dataset/TestImages/images/IMG_9774.jpg: 480x640 300 Soups, 29.2ms\n",
      "Speed: 3.1ms preprocess, 29.2ms inference, 3.9ms postprocess per image at shape (1, 3, 480, 640)\n",
      "\n",
      "image 1/1 /kaggle/input/multi-instance-object-detection-challenge/Starter_Dataset/TestImages/images/IMG_9702.jpg: 480x640 300 Soups, 29.2ms\n",
      "Speed: 3.4ms preprocess, 29.2ms inference, 3.9ms postprocess per image at shape (1, 3, 480, 640)\n",
      "\n",
      "image 1/1 /kaggle/input/multi-instance-object-detection-challenge/Starter_Dataset/TestImages/images/IMG_9789.jpg: 480x640 300 Soups, 29.4ms\n",
      "Speed: 3.1ms preprocess, 29.4ms inference, 3.5ms postprocess per image at shape (1, 3, 480, 640)\n",
      "\n",
      "image 1/1 /kaggle/input/multi-instance-object-detection-challenge/Starter_Dataset/TestImages/images/IMG_9745.jpg: 480x640 300 Soups, 29.2ms\n",
      "Speed: 3.3ms preprocess, 29.2ms inference, 3.5ms postprocess per image at shape (1, 3, 480, 640)\n",
      "\n",
      "image 1/1 /kaggle/input/multi-instance-object-detection-challenge/Starter_Dataset/TestImages/images/IMG_9608.jpg: 480x640 300 Soups, 29.2ms\n",
      "Speed: 3.3ms preprocess, 29.2ms inference, 2.8ms postprocess per image at shape (1, 3, 480, 640)\n",
      "\n",
      "image 1/1 /kaggle/input/multi-instance-object-detection-challenge/Starter_Dataset/TestImages/images/IMG_9685.jpg: 480x640 300 Soups, 29.2ms\n",
      "Speed: 3.4ms preprocess, 29.2ms inference, 3.9ms postprocess per image at shape (1, 3, 480, 640)\n",
      "\n",
      "image 1/1 /kaggle/input/multi-instance-object-detection-challenge/Starter_Dataset/TestImages/images/IMG_9712.jpg: 480x640 300 Soups, 29.2ms\n",
      "Speed: 3.7ms preprocess, 29.2ms inference, 4.0ms postprocess per image at shape (1, 3, 480, 640)\n",
      "\n",
      "image 1/1 /kaggle/input/multi-instance-object-detection-challenge/Starter_Dataset/TestImages/images/IMG_9734.jpg: 480x640 300 Soups, 29.2ms\n",
      "Speed: 3.5ms preprocess, 29.2ms inference, 3.9ms postprocess per image at shape (1, 3, 480, 640)\n",
      "\n",
      "image 1/1 /kaggle/input/multi-instance-object-detection-challenge/Starter_Dataset/TestImages/images/IMG_9711.jpg: 480x640 300 Soups, 29.2ms\n",
      "Speed: 3.4ms preprocess, 29.2ms inference, 3.4ms postprocess per image at shape (1, 3, 480, 640)\n",
      "\n",
      "image 1/1 /kaggle/input/multi-instance-object-detection-challenge/Starter_Dataset/TestImages/images/IMG_9694.jpg: 480x640 300 Soups, 29.2ms\n",
      "Speed: 3.4ms preprocess, 29.2ms inference, 3.6ms postprocess per image at shape (1, 3, 480, 640)\n",
      "\n",
      "image 1/1 /kaggle/input/multi-instance-object-detection-challenge/Starter_Dataset/TestImages/images/IMG_9635.jpg: 480x640 300 Soups, 29.2ms\n",
      "Speed: 3.3ms preprocess, 29.2ms inference, 3.5ms postprocess per image at shape (1, 3, 480, 640)\n",
      "\n",
      "image 1/1 /kaggle/input/multi-instance-object-detection-challenge/Starter_Dataset/TestImages/images/IMG_9750.jpg: 480x640 300 Soups, 29.2ms\n",
      "Speed: 3.4ms preprocess, 29.2ms inference, 3.5ms postprocess per image at shape (1, 3, 480, 640)\n",
      "\n",
      "image 1/1 /kaggle/input/multi-instance-object-detection-challenge/Starter_Dataset/TestImages/images/IMG_9773.jpg: 480x640 300 Soups, 29.2ms\n",
      "Speed: 3.1ms preprocess, 29.2ms inference, 3.0ms postprocess per image at shape (1, 3, 480, 640)\n",
      "\n",
      "image 1/1 /kaggle/input/multi-instance-object-detection-challenge/Starter_Dataset/TestImages/images/IMG_9591.jpg: 480x640 300 Soups, 29.2ms\n",
      "Speed: 3.4ms preprocess, 29.2ms inference, 4.2ms postprocess per image at shape (1, 3, 480, 640)\n",
      "\n",
      "image 1/1 /kaggle/input/multi-instance-object-detection-challenge/Starter_Dataset/TestImages/images/IMG_9586.jpg: 480x640 300 Soups, 29.2ms\n",
      "Speed: 3.4ms preprocess, 29.2ms inference, 4.0ms postprocess per image at shape (1, 3, 480, 640)\n",
      "\n",
      "image 1/1 /kaggle/input/multi-instance-object-detection-challenge/Starter_Dataset/TestImages/images/IMG_9630.jpg: 480x640 300 Soups, 29.2ms\n",
      "Speed: 3.5ms preprocess, 29.2ms inference, 4.0ms postprocess per image at shape (1, 3, 480, 640)\n",
      "\n",
      "image 1/1 /kaggle/input/multi-instance-object-detection-challenge/Starter_Dataset/TestImages/images/IMG_9607.jpg: 480x640 300 Soups, 29.2ms\n",
      "Speed: 3.5ms preprocess, 29.2ms inference, 4.0ms postprocess per image at shape (1, 3, 480, 640)\n",
      "\n",
      "image 1/1 /kaggle/input/multi-instance-object-detection-challenge/Starter_Dataset/TestImages/images/IMG_9749.jpg: 480x640 300 Soups, 29.2ms\n",
      "Speed: 3.3ms preprocess, 29.2ms inference, 3.7ms postprocess per image at shape (1, 3, 480, 640)\n",
      "\n",
      "image 1/1 /kaggle/input/multi-instance-object-detection-challenge/Starter_Dataset/TestImages/images/IMG_9629.jpg: 480x640 300 Soups, 29.2ms\n",
      "Speed: 3.5ms preprocess, 29.2ms inference, 3.5ms postprocess per image at shape (1, 3, 480, 640)\n",
      "\n",
      "image 1/1 /kaggle/input/multi-instance-object-detection-challenge/Starter_Dataset/TestImages/images/IMG_9767.jpg: 480x640 300 Soups, 29.2ms\n",
      "Speed: 3.0ms preprocess, 29.2ms inference, 3.3ms postprocess per image at shape (1, 3, 480, 640)\n",
      "\n",
      "image 1/1 /kaggle/input/multi-instance-object-detection-challenge/Starter_Dataset/TestImages/images/IMG_9568.jpg: 480x640 300 Soups, 29.2ms\n",
      "Speed: 3.3ms preprocess, 29.2ms inference, 3.7ms postprocess per image at shape (1, 3, 480, 640)\n",
      "\n",
      "image 1/1 /kaggle/input/multi-instance-object-detection-challenge/Starter_Dataset/TestImages/images/IMG_9620.jpg: 480x640 300 Soups, 29.2ms\n",
      "Speed: 3.4ms preprocess, 29.2ms inference, 3.5ms postprocess per image at shape (1, 3, 480, 640)\n",
      "\n",
      "image 1/1 /kaggle/input/multi-instance-object-detection-challenge/Starter_Dataset/TestImages/images/IMG_9792.jpg: 480x640 300 Soups, 29.2ms\n",
      "Speed: 3.0ms preprocess, 29.2ms inference, 3.4ms postprocess per image at shape (1, 3, 480, 640)\n",
      "\n",
      "image 1/1 /kaggle/input/multi-instance-object-detection-challenge/Starter_Dataset/TestImages/images/IMG_9697.jpg: 480x640 300 Soups, 29.2ms\n",
      "Speed: 3.4ms preprocess, 29.2ms inference, 4.2ms postprocess per image at shape (1, 3, 480, 640)\n",
      "\n",
      "image 1/1 /kaggle/input/multi-instance-object-detection-challenge/Starter_Dataset/TestImages/images/IMG_9715.jpg: 480x640 300 Soups, 29.2ms\n",
      "Speed: 3.4ms preprocess, 29.2ms inference, 3.4ms postprocess per image at shape (1, 3, 480, 640)\n",
      "\n",
      "image 1/1 /kaggle/input/multi-instance-object-detection-challenge/Starter_Dataset/TestImages/images/IMG_9564.jpg: 480x640 300 Soups, 29.2ms\n",
      "Speed: 3.4ms preprocess, 29.2ms inference, 4.0ms postprocess per image at shape (1, 3, 480, 640)\n",
      "\n",
      "image 1/1 /kaggle/input/multi-instance-object-detection-challenge/Starter_Dataset/TestImages/images/IMG_9636.jpg: 480x640 300 Soups, 29.2ms\n",
      "Speed: 3.4ms preprocess, 29.2ms inference, 3.8ms postprocess per image at shape (1, 3, 480, 640)\n",
      "\n",
      "image 1/1 /kaggle/input/multi-instance-object-detection-challenge/Starter_Dataset/TestImages/images/IMG_9688.jpg: 480x640 300 Soups, 29.2ms\n",
      "Speed: 3.5ms preprocess, 29.2ms inference, 4.2ms postprocess per image at shape (1, 3, 480, 640)\n",
      "\n",
      "image 1/1 /kaggle/input/multi-instance-object-detection-challenge/Starter_Dataset/TestImages/images/IMG_9686.jpg: 480x640 300 Soups, 29.2ms\n",
      "Speed: 3.4ms preprocess, 29.2ms inference, 3.5ms postprocess per image at shape (1, 3, 480, 640)\n",
      "\n",
      "image 1/1 /kaggle/input/multi-instance-object-detection-challenge/Starter_Dataset/TestImages/images/IMG_9569.jpg: 480x640 300 Soups, 29.2ms\n",
      "Speed: 3.4ms preprocess, 29.2ms inference, 3.5ms postprocess per image at shape (1, 3, 480, 640)\n",
      "\n",
      "image 1/1 /kaggle/input/multi-instance-object-detection-challenge/Starter_Dataset/TestImages/images/IMG_9776.jpg: 480x640 300 Soups, 29.2ms\n",
      "Speed: 3.0ms preprocess, 29.2ms inference, 3.7ms postprocess per image at shape (1, 3, 480, 640)\n",
      "\n",
      "image 1/1 /kaggle/input/multi-instance-object-detection-challenge/Starter_Dataset/TestImages/images/IMG_9725.jpg: 480x640 300 Soups, 29.2ms\n",
      "Speed: 3.4ms preprocess, 29.2ms inference, 3.9ms postprocess per image at shape (1, 3, 480, 640)\n",
      "\n",
      "image 1/1 /kaggle/input/multi-instance-object-detection-challenge/Starter_Dataset/TestImages/images/IMG_9766.jpg: 480x640 300 Soups, 29.2ms\n",
      "Speed: 3.0ms preprocess, 29.2ms inference, 3.8ms postprocess per image at shape (1, 3, 480, 640)\n",
      "\n",
      "image 1/1 /kaggle/input/multi-instance-object-detection-challenge/Starter_Dataset/TestImages/images/IMG_9710.jpg: 480x640 300 Soups, 29.2ms\n",
      "Speed: 3.5ms preprocess, 29.2ms inference, 3.6ms postprocess per image at shape (1, 3, 480, 640)\n",
      "\n",
      "image 1/1 /kaggle/input/multi-instance-object-detection-challenge/Starter_Dataset/TestImages/images/IMG_9593.jpg: 480x640 300 Soups, 29.2ms\n",
      "Speed: 3.6ms preprocess, 29.2ms inference, 4.0ms postprocess per image at shape (1, 3, 480, 640)\n",
      "\n",
      "image 1/1 /kaggle/input/multi-instance-object-detection-challenge/Starter_Dataset/TestImages/images/IMG_9783.jpg: 480x640 300 Soups, 29.2ms\n",
      "Speed: 3.1ms preprocess, 29.2ms inference, 3.9ms postprocess per image at shape (1, 3, 480, 640)\n",
      "\n",
      "image 1/1 /kaggle/input/multi-instance-object-detection-challenge/Starter_Dataset/TestImages/images/IMG_9599.jpg: 480x640 300 Soups, 29.2ms\n",
      "Speed: 3.5ms preprocess, 29.2ms inference, 3.7ms postprocess per image at shape (1, 3, 480, 640)\n",
      "\n",
      "image 1/1 /kaggle/input/multi-instance-object-detection-challenge/Starter_Dataset/TestImages/images/IMG_9589.jpg: 480x640 300 Soups, 29.2ms\n",
      "Speed: 3.3ms preprocess, 29.2ms inference, 3.7ms postprocess per image at shape (1, 3, 480, 640)\n",
      "\n",
      "image 1/1 /kaggle/input/multi-instance-object-detection-challenge/Starter_Dataset/TestImages/images/IMG_9572.jpg: 480x640 300 Soups, 29.2ms\n",
      "Speed: 3.4ms preprocess, 29.2ms inference, 3.7ms postprocess per image at shape (1, 3, 480, 640)\n",
      "\n",
      "image 1/1 /kaggle/input/multi-instance-object-detection-challenge/Starter_Dataset/TestImages/images/IMG_9563.jpg: 480x640 300 Soups, 29.2ms\n",
      "Speed: 3.4ms preprocess, 29.2ms inference, 3.1ms postprocess per image at shape (1, 3, 480, 640)\n",
      "\n",
      "image 1/1 /kaggle/input/multi-instance-object-detection-challenge/Starter_Dataset/TestImages/images/IMG_9583.jpg: 480x640 300 Soups, 29.2ms\n",
      "Speed: 3.6ms preprocess, 29.2ms inference, 3.6ms postprocess per image at shape (1, 3, 480, 640)\n",
      "\n",
      "image 1/1 /kaggle/input/multi-instance-object-detection-challenge/Starter_Dataset/TestImages/images/IMG_9781.jpg: 480x640 300 Soups, 29.2ms\n",
      "Speed: 3.2ms preprocess, 29.2ms inference, 3.9ms postprocess per image at shape (1, 3, 480, 640)\n",
      "\n",
      "image 1/1 /kaggle/input/multi-instance-object-detection-challenge/Starter_Dataset/TestImages/images/IMG_9718.jpg: 480x640 300 Soups, 29.2ms\n",
      "Speed: 3.4ms preprocess, 29.2ms inference, 3.7ms postprocess per image at shape (1, 3, 480, 640)\n",
      "\n",
      "image 1/1 /kaggle/input/multi-instance-object-detection-challenge/Starter_Dataset/TestImages/images/IMG_9719.jpg: 480x640 300 Soups, 29.2ms\n",
      "Speed: 3.3ms preprocess, 29.2ms inference, 3.7ms postprocess per image at shape (1, 3, 480, 640)\n",
      "\n",
      "image 1/1 /kaggle/input/multi-instance-object-detection-challenge/Starter_Dataset/TestImages/images/IMG_9600.jpg: 480x640 300 Soups, 29.2ms\n",
      "Speed: 3.4ms preprocess, 29.2ms inference, 3.4ms postprocess per image at shape (1, 3, 480, 640)\n",
      "\n",
      "image 1/1 /kaggle/input/multi-instance-object-detection-challenge/Starter_Dataset/TestImages/images/IMG_9690.jpg: 480x640 300 Soups, 29.2ms\n",
      "Speed: 3.0ms preprocess, 29.2ms inference, 3.4ms postprocess per image at shape (1, 3, 480, 640)\n",
      "\n",
      "image 1/1 /kaggle/input/multi-instance-object-detection-challenge/Starter_Dataset/TestImages/images/IMG_9681.jpg: 480x640 300 Soups, 29.2ms\n",
      "Speed: 3.4ms preprocess, 29.2ms inference, 3.9ms postprocess per image at shape (1, 3, 480, 640)\n",
      "\n",
      "image 1/1 /kaggle/input/multi-instance-object-detection-challenge/Starter_Dataset/TestImages/images/IMG_9691.jpg: 480x640 300 Soups, 29.2ms\n",
      "Speed: 3.4ms preprocess, 29.2ms inference, 3.4ms postprocess per image at shape (1, 3, 480, 640)\n",
      "\n",
      "image 1/1 /kaggle/input/multi-instance-object-detection-challenge/Starter_Dataset/TestImages/images/IMG_9714.jpg: 480x640 300 Soups, 29.2ms\n",
      "Speed: 3.6ms preprocess, 29.2ms inference, 4.0ms postprocess per image at shape (1, 3, 480, 640)\n",
      "\n",
      "image 1/1 /kaggle/input/multi-instance-object-detection-challenge/Starter_Dataset/TestImages/images/IMG_9571.jpg: 480x640 300 Soups, 29.2ms\n",
      "Speed: 3.4ms preprocess, 29.2ms inference, 4.1ms postprocess per image at shape (1, 3, 480, 640)\n",
      "\n",
      "image 1/1 /kaggle/input/multi-instance-object-detection-challenge/Starter_Dataset/TestImages/images/IMG_9765.jpg: 480x640 300 Soups, 29.2ms\n",
      "Speed: 3.0ms preprocess, 29.2ms inference, 3.5ms postprocess per image at shape (1, 3, 480, 640)\n",
      "\n",
      "image 1/1 /kaggle/input/multi-instance-object-detection-challenge/Starter_Dataset/TestImages/images/IMG_9721.jpg: 480x640 300 Soups, 29.2ms\n",
      "Speed: 3.5ms preprocess, 29.2ms inference, 3.9ms postprocess per image at shape (1, 3, 480, 640)\n",
      "\n",
      "image 1/1 /kaggle/input/multi-instance-object-detection-challenge/Starter_Dataset/TestImages/images/IMG_9696.jpg: 480x640 300 Soups, 29.2ms\n",
      "Speed: 3.3ms preprocess, 29.2ms inference, 3.8ms postprocess per image at shape (1, 3, 480, 640)\n",
      "\n",
      "image 1/1 /kaggle/input/multi-instance-object-detection-challenge/Starter_Dataset/TestImages/images/IMG_9741.jpg: 480x640 300 Soups, 29.2ms\n",
      "Speed: 3.4ms preprocess, 29.2ms inference, 3.7ms postprocess per image at shape (1, 3, 480, 640)\n",
      "\n",
      "image 1/1 /kaggle/input/multi-instance-object-detection-challenge/Starter_Dataset/TestImages/images/IMG_9590.jpg: 480x640 300 Soups, 29.2ms\n",
      "Speed: 3.3ms preprocess, 29.2ms inference, 3.6ms postprocess per image at shape (1, 3, 480, 640)\n",
      "\n",
      "image 1/1 /kaggle/input/multi-instance-object-detection-challenge/Starter_Dataset/TestImages/images/IMG_9739.jpg: 480x640 300 Soups, 29.2ms\n",
      "Speed: 3.4ms preprocess, 29.2ms inference, 3.6ms postprocess per image at shape (1, 3, 480, 640)\n",
      "\n",
      "image 1/1 /kaggle/input/multi-instance-object-detection-challenge/Starter_Dataset/TestImages/images/IMG_9595.jpg: 480x640 300 Soups, 29.2ms\n",
      "Speed: 3.4ms preprocess, 29.2ms inference, 3.6ms postprocess per image at shape (1, 3, 480, 640)\n",
      "\n",
      "image 1/1 /kaggle/input/multi-instance-object-detection-challenge/Starter_Dataset/TestImages/images/IMG_9722.jpg: 480x640 300 Soups, 29.2ms\n",
      "Speed: 3.3ms preprocess, 29.2ms inference, 3.4ms postprocess per image at shape (1, 3, 480, 640)\n",
      "\n",
      "image 1/1 /kaggle/input/multi-instance-object-detection-challenge/Starter_Dataset/TestImages/images/IMG_9585.jpg: 480x640 300 Soups, 29.2ms\n",
      "Speed: 3.3ms preprocess, 29.2ms inference, 3.8ms postprocess per image at shape (1, 3, 480, 640)\n",
      "\n",
      "image 1/1 /kaggle/input/multi-instance-object-detection-challenge/Starter_Dataset/TestImages/images/IMG_9784.jpg: 480x640 300 Soups, 29.6ms\n",
      "Speed: 3.0ms preprocess, 29.6ms inference, 3.5ms postprocess per image at shape (1, 3, 480, 640)\n",
      "\n",
      "image 1/1 /kaggle/input/multi-instance-object-detection-challenge/Starter_Dataset/TestImages/images/IMG_9605.jpg: 480x640 300 Soups, 29.2ms\n",
      "Speed: 3.4ms preprocess, 29.2ms inference, 3.4ms postprocess per image at shape (1, 3, 480, 640)\n",
      "\n",
      "image 1/1 /kaggle/input/multi-instance-object-detection-challenge/Starter_Dataset/TestImages/images/IMG_9693.jpg: 480x640 300 Soups, 29.2ms\n",
      "Speed: 3.3ms preprocess, 29.2ms inference, 3.1ms postprocess per image at shape (1, 3, 480, 640)\n",
      "\n",
      "image 1/1 /kaggle/input/multi-instance-object-detection-challenge/Starter_Dataset/TestImages/images/IMG_9576.jpg: 480x640 300 Soups, 29.2ms\n",
      "Speed: 3.4ms preprocess, 29.2ms inference, 3.4ms postprocess per image at shape (1, 3, 480, 640)\n",
      "\n",
      "image 1/1 /kaggle/input/multi-instance-object-detection-challenge/Starter_Dataset/TestImages/images/IMG_9785.jpg: 480x640 300 Soups, 29.2ms\n",
      "Speed: 3.0ms preprocess, 29.2ms inference, 3.4ms postprocess per image at shape (1, 3, 480, 640)\n",
      "\n",
      "image 1/1 /kaggle/input/multi-instance-object-detection-challenge/Starter_Dataset/TestImages/images/IMG_9634.jpg: 480x640 300 Soups, 29.2ms\n",
      "Speed: 3.4ms preprocess, 29.2ms inference, 3.6ms postprocess per image at shape (1, 3, 480, 640)\n",
      "\n",
      "image 1/1 /kaggle/input/multi-instance-object-detection-challenge/Starter_Dataset/TestImages/images/IMG_9587.jpg: 480x640 300 Soups, 29.2ms\n",
      "Speed: 3.4ms preprocess, 29.2ms inference, 3.8ms postprocess per image at shape (1, 3, 480, 640)\n",
      "\n",
      "image 1/1 /kaggle/input/multi-instance-object-detection-challenge/Starter_Dataset/TestImages/images/IMG_9618.jpg: 480x640 300 Soups, 29.2ms\n",
      "Speed: 4.3ms preprocess, 29.2ms inference, 5.6ms postprocess per image at shape (1, 3, 480, 640)\n",
      "\n",
      "image 1/1 /kaggle/input/multi-instance-object-detection-challenge/Starter_Dataset/TestImages/images/IMG_9787.jpg: 480x640 300 Soups, 29.2ms\n",
      "Speed: 3.1ms preprocess, 29.2ms inference, 3.8ms postprocess per image at shape (1, 3, 480, 640)\n",
      "\n",
      "image 1/1 /kaggle/input/multi-instance-object-detection-challenge/Starter_Dataset/TestImages/images/IMG_9615.jpg: 480x640 300 Soups, 29.2ms\n",
      "Speed: 3.4ms preprocess, 29.2ms inference, 3.7ms postprocess per image at shape (1, 3, 480, 640)\n",
      "\n",
      "image 1/1 /kaggle/input/multi-instance-object-detection-challenge/Starter_Dataset/TestImages/images/IMG_9680.jpg: 480x640 300 Soups, 29.2ms\n",
      "Speed: 3.3ms preprocess, 29.2ms inference, 3.5ms postprocess per image at shape (1, 3, 480, 640)\n",
      "\n",
      "image 1/1 /kaggle/input/multi-instance-object-detection-challenge/Starter_Dataset/TestImages/images/IMG_9753.jpg: 480x640 300 Soups, 29.2ms\n",
      "Speed: 3.3ms preprocess, 29.2ms inference, 2.9ms postprocess per image at shape (1, 3, 480, 640)\n",
      "\n",
      "image 1/1 /kaggle/input/multi-instance-object-detection-challenge/Starter_Dataset/TestImages/images/IMG_9770.jpg: 480x640 300 Soups, 29.2ms\n",
      "Speed: 3.3ms preprocess, 29.2ms inference, 3.8ms postprocess per image at shape (1, 3, 480, 640)\n",
      "\n",
      "image 1/1 /kaggle/input/multi-instance-object-detection-challenge/Starter_Dataset/TestImages/images/IMG_9611.jpg: 480x640 300 Soups, 29.2ms\n",
      "Speed: 3.4ms preprocess, 29.2ms inference, 3.5ms postprocess per image at shape (1, 3, 480, 640)\n",
      "\n",
      "image 1/1 /kaggle/input/multi-instance-object-detection-challenge/Starter_Dataset/TestImages/images/IMG_9761.jpg: 480x640 300 Soups, 29.2ms\n",
      "Speed: 3.5ms preprocess, 29.2ms inference, 3.7ms postprocess per image at shape (1, 3, 480, 640)\n",
      "\n",
      "image 1/1 /kaggle/input/multi-instance-object-detection-challenge/Starter_Dataset/TestImages/images/IMG_9621.jpg: 480x640 300 Soups, 29.2ms\n",
      "Speed: 3.5ms preprocess, 29.2ms inference, 3.1ms postprocess per image at shape (1, 3, 480, 640)\n",
      "\n",
      "image 1/1 /kaggle/input/multi-instance-object-detection-challenge/Starter_Dataset/TestImages/images/IMG_9759.jpg: 480x640 300 Soups, 29.2ms\n",
      "Speed: 3.4ms preprocess, 29.2ms inference, 3.2ms postprocess per image at shape (1, 3, 480, 640)\n",
      "\n",
      "image 1/1 /kaggle/input/multi-instance-object-detection-challenge/Starter_Dataset/TestImages/images/IMG_9744.jpg: 480x640 300 Soups, 29.2ms\n",
      "Speed: 3.3ms preprocess, 29.2ms inference, 3.6ms postprocess per image at shape (1, 3, 480, 640)\n",
      "\n",
      "image 1/1 /kaggle/input/multi-instance-object-detection-challenge/Starter_Dataset/TestImages/images/IMG_9627.jpg: 480x640 300 Soups, 29.2ms\n",
      "Speed: 3.4ms preprocess, 29.2ms inference, 3.9ms postprocess per image at shape (1, 3, 480, 640)\n",
      "\n",
      "image 1/1 /kaggle/input/multi-instance-object-detection-challenge/Starter_Dataset/TestImages/images/IMG_9713.jpg: 480x640 300 Soups, 29.2ms\n",
      "Speed: 3.4ms preprocess, 29.2ms inference, 3.6ms postprocess per image at shape (1, 3, 480, 640)\n",
      "\n",
      "image 1/1 /kaggle/input/multi-instance-object-detection-challenge/Starter_Dataset/TestImages/images/IMG_9601.jpg: 480x640 300 Soups, 29.2ms\n",
      "Speed: 3.4ms preprocess, 29.2ms inference, 3.7ms postprocess per image at shape (1, 3, 480, 640)\n",
      "\n",
      "image 1/1 /kaggle/input/multi-instance-object-detection-challenge/Starter_Dataset/TestImages/images/IMG_9682.jpg: 480x640 300 Soups, 29.2ms\n",
      "Speed: 3.3ms preprocess, 29.2ms inference, 3.5ms postprocess per image at shape (1, 3, 480, 640)\n",
      "\n",
      "image 1/1 /kaggle/input/multi-instance-object-detection-challenge/Starter_Dataset/TestImages/images/IMG_9700.jpg: 480x640 300 Soups, 29.2ms\n",
      "Speed: 3.6ms preprocess, 29.2ms inference, 3.6ms postprocess per image at shape (1, 3, 480, 640)\n",
      "\n",
      "image 1/1 /kaggle/input/multi-instance-object-detection-challenge/Starter_Dataset/TestImages/images/IMG_9738.jpg: 480x640 300 Soups, 29.2ms\n",
      "Speed: 3.0ms preprocess, 29.2ms inference, 4.1ms postprocess per image at shape (1, 3, 480, 640)\n",
      "\n",
      "image 1/1 /kaggle/input/multi-instance-object-detection-challenge/Starter_Dataset/TestImages/images/IMG_9598.jpg: 480x640 300 Soups, 29.2ms\n",
      "Speed: 3.4ms preprocess, 29.2ms inference, 3.6ms postprocess per image at shape (1, 3, 480, 640)\n",
      "\n",
      "image 1/1 /kaggle/input/multi-instance-object-detection-challenge/Starter_Dataset/TestImages/images/IMG_9720.jpg: 480x640 300 Soups, 29.2ms\n",
      "Speed: 3.1ms preprocess, 29.2ms inference, 3.5ms postprocess per image at shape (1, 3, 480, 640)\n",
      "\n",
      "image 1/1 /kaggle/input/multi-instance-object-detection-challenge/Starter_Dataset/TestImages/images/IMG_9752.jpg: 480x640 300 Soups, 29.2ms\n",
      "Speed: 3.4ms preprocess, 29.2ms inference, 3.3ms postprocess per image at shape (1, 3, 480, 640)\n",
      "\n",
      "image 1/1 /kaggle/input/multi-instance-object-detection-challenge/Starter_Dataset/TestImages/images/IMG_9740.jpg: 480x640 300 Soups, 29.2ms\n",
      "Speed: 3.5ms preprocess, 29.2ms inference, 3.5ms postprocess per image at shape (1, 3, 480, 640)\n",
      "\n",
      "image 1/1 /kaggle/input/multi-instance-object-detection-challenge/Starter_Dataset/TestImages/images/IMG_9584.jpg: 480x640 300 Soups, 29.2ms\n",
      "Speed: 3.4ms preprocess, 29.2ms inference, 3.5ms postprocess per image at shape (1, 3, 480, 640)\n",
      "\n",
      "image 1/1 /kaggle/input/multi-instance-object-detection-challenge/Starter_Dataset/TestImages/images/IMG_9624.jpg: 480x640 300 Soups, 29.2ms\n",
      "Speed: 3.4ms preprocess, 29.2ms inference, 3.4ms postprocess per image at shape (1, 3, 480, 640)\n",
      "\n",
      "image 1/1 /kaggle/input/multi-instance-object-detection-challenge/Starter_Dataset/TestImages/images/IMG_9679.jpg: 480x640 300 Soups, 29.2ms\n",
      "Speed: 3.4ms preprocess, 29.2ms inference, 3.6ms postprocess per image at shape (1, 3, 480, 640)\n",
      "\n",
      "image 1/1 /kaggle/input/multi-instance-object-detection-challenge/Starter_Dataset/TestImages/images/IMG_9760.jpg: 480x640 300 Soups, 29.2ms\n",
      "Speed: 3.4ms preprocess, 29.2ms inference, 3.6ms postprocess per image at shape (1, 3, 480, 640)\n",
      "\n",
      "image 1/1 /kaggle/input/multi-instance-object-detection-challenge/Starter_Dataset/TestImages/images/IMG_9567.jpg: 480x640 300 Soups, 29.2ms\n",
      "Speed: 3.4ms preprocess, 29.2ms inference, 3.9ms postprocess per image at shape (1, 3, 480, 640)\n",
      "\n",
      "image 1/1 /kaggle/input/multi-instance-object-detection-challenge/Starter_Dataset/TestImages/images/IMG_9779.jpg: 480x640 300 Soups, 29.2ms\n",
      "Speed: 3.1ms preprocess, 29.2ms inference, 3.9ms postprocess per image at shape (1, 3, 480, 640)\n",
      "\n",
      "image 1/1 /kaggle/input/multi-instance-object-detection-challenge/Starter_Dataset/TestImages/images/IMG_9751.jpg: 480x640 300 Soups, 29.2ms\n",
      "Speed: 3.4ms preprocess, 29.2ms inference, 3.5ms postprocess per image at shape (1, 3, 480, 640)\n",
      "\n",
      "image 1/1 /kaggle/input/multi-instance-object-detection-challenge/Starter_Dataset/TestImages/images/IMG_9603.jpg: 480x640 300 Soups, 29.2ms\n",
      "Speed: 3.4ms preprocess, 29.2ms inference, 3.5ms postprocess per image at shape (1, 3, 480, 640)\n",
      "\n",
      "image 1/1 /kaggle/input/multi-instance-object-detection-challenge/Starter_Dataset/TestImages/images/IMG_9746.jpg: 480x640 300 Soups, 29.2ms\n",
      "Speed: 3.0ms preprocess, 29.2ms inference, 3.3ms postprocess per image at shape (1, 3, 480, 640)\n",
      "\n",
      "image 1/1 /kaggle/input/multi-instance-object-detection-challenge/Starter_Dataset/TestImages/images/IMG_9706.jpg: 480x640 300 Soups, 29.2ms\n",
      "Speed: 3.3ms preprocess, 29.2ms inference, 3.8ms postprocess per image at shape (1, 3, 480, 640)\n",
      "\n",
      "image 1/1 /kaggle/input/multi-instance-object-detection-challenge/Starter_Dataset/TestImages/images/IMG_9619.jpg: 480x640 300 Soups, 29.2ms\n",
      "Speed: 3.5ms preprocess, 29.2ms inference, 3.4ms postprocess per image at shape (1, 3, 480, 640)\n",
      "\n",
      "image 1/1 /kaggle/input/multi-instance-object-detection-challenge/Starter_Dataset/TestImages/images/IMG_9565.jpg: 480x640 300 Soups, 29.2ms\n",
      "Speed: 3.5ms preprocess, 29.2ms inference, 3.4ms postprocess per image at shape (1, 3, 480, 640)\n",
      "\n",
      "image 1/1 /kaggle/input/multi-instance-object-detection-challenge/Starter_Dataset/TestImages/images/IMG_9616.jpg: 480x640 300 Soups, 29.2ms\n",
      "Speed: 3.5ms preprocess, 29.2ms inference, 3.5ms postprocess per image at shape (1, 3, 480, 640)\n",
      "\n",
      "image 1/1 /kaggle/input/multi-instance-object-detection-challenge/Starter_Dataset/TestImages/images/IMG_9581.jpg: 480x640 300 Soups, 29.2ms\n",
      "Speed: 3.5ms preprocess, 29.2ms inference, 3.5ms postprocess per image at shape (1, 3, 480, 640)\n",
      "\n",
      "image 1/1 /kaggle/input/multi-instance-object-detection-challenge/Starter_Dataset/TestImages/images/IMG_9755.jpg: 480x640 300 Soups, 29.2ms\n",
      "Speed: 3.4ms preprocess, 29.2ms inference, 3.5ms postprocess per image at shape (1, 3, 480, 640)\n",
      "\n",
      "image 1/1 /kaggle/input/multi-instance-object-detection-challenge/Starter_Dataset/TestImages/images/IMG_9771.jpg: 480x640 300 Soups, 29.2ms\n",
      "Speed: 3.2ms preprocess, 29.2ms inference, 4.0ms postprocess per image at shape (1, 3, 480, 640)\n",
      "\n",
      "image 1/1 /kaggle/input/multi-instance-object-detection-challenge/Starter_Dataset/TestImages/images/IMG_9737.jpg: 480x640 300 Soups, 29.2ms\n",
      "Speed: 3.3ms preprocess, 29.2ms inference, 3.4ms postprocess per image at shape (1, 3, 480, 640)\n",
      "\n",
      "image 1/1 /kaggle/input/multi-instance-object-detection-challenge/Starter_Dataset/TestImages/images/IMG_9631.jpg: 480x640 300 Soups, 29.2ms\n",
      "Speed: 3.4ms preprocess, 29.2ms inference, 3.4ms postprocess per image at shape (1, 3, 480, 640)\n",
      "\n",
      "image 1/1 /kaggle/input/multi-instance-object-detection-challenge/Starter_Dataset/TestImages/images/IMG_9695.jpg: 480x640 300 Soups, 29.2ms\n",
      "Speed: 3.4ms preprocess, 29.2ms inference, 3.7ms postprocess per image at shape (1, 3, 480, 640)\n",
      "\n",
      "image 1/1 /kaggle/input/multi-instance-object-detection-challenge/Starter_Dataset/TestImages/images/IMG_9778.jpg: 480x640 300 Soups, 29.2ms\n",
      "Speed: 3.1ms preprocess, 29.2ms inference, 3.7ms postprocess per image at shape (1, 3, 480, 640)\n",
      "\n",
      "image 1/1 /kaggle/input/multi-instance-object-detection-challenge/Starter_Dataset/TestImages/images/IMG_9614.jpg: 480x640 300 Soups, 29.2ms\n",
      "Speed: 3.4ms preprocess, 29.2ms inference, 3.7ms postprocess per image at shape (1, 3, 480, 640)\n",
      "\n",
      "image 1/1 /kaggle/input/multi-instance-object-detection-challenge/Starter_Dataset/TestImages/images/IMG_9747.jpg: 480x640 300 Soups, 29.2ms\n",
      "Speed: 3.4ms preprocess, 29.2ms inference, 3.4ms postprocess per image at shape (1, 3, 480, 640)\n",
      "\n",
      "image 1/1 /kaggle/input/multi-instance-object-detection-challenge/Starter_Dataset/TestImages/images/IMG_9736.jpg: 480x640 300 Soups, 29.2ms\n",
      "Speed: 3.3ms preprocess, 29.2ms inference, 3.6ms postprocess per image at shape (1, 3, 480, 640)\n",
      "\n",
      "image 1/1 /kaggle/input/multi-instance-object-detection-challenge/Starter_Dataset/TestImages/images/IMG_9698.jpg: 480x640 300 Soups, 29.2ms\n",
      "Speed: 3.4ms preprocess, 29.2ms inference, 3.5ms postprocess per image at shape (1, 3, 480, 640)\n",
      "\n",
      "image 1/1 /kaggle/input/multi-instance-object-detection-challenge/Starter_Dataset/TestImages/images/IMG_9716.jpg: 480x640 300 Soups, 29.2ms\n",
      "Speed: 3.3ms preprocess, 29.2ms inference, 3.5ms postprocess per image at shape (1, 3, 480, 640)\n",
      "\n",
      "image 1/1 /kaggle/input/multi-instance-object-detection-challenge/Starter_Dataset/TestImages/images/IMG_9609.jpg: 480x640 300 Soups, 29.2ms\n",
      "Speed: 3.3ms preprocess, 29.2ms inference, 3.3ms postprocess per image at shape (1, 3, 480, 640)\n",
      "\n",
      "image 1/1 /kaggle/input/multi-instance-object-detection-challenge/Starter_Dataset/TestImages/images/IMG_9772.jpg: 480x640 300 Soups, 29.2ms\n",
      "Speed: 3.0ms preprocess, 29.2ms inference, 3.4ms postprocess per image at shape (1, 3, 480, 640)\n",
      "\n",
      "image 1/1 /kaggle/input/multi-instance-object-detection-challenge/Starter_Dataset/TestImages/images/IMG_9704.jpg: 480x640 300 Soups, 29.2ms\n",
      "Speed: 3.6ms preprocess, 29.2ms inference, 3.9ms postprocess per image at shape (1, 3, 480, 640)\n",
      "\n",
      "image 1/1 /kaggle/input/multi-instance-object-detection-challenge/Starter_Dataset/TestImages/images/IMG_9606.jpg: 480x640 300 Soups, 29.2ms\n",
      "Speed: 3.5ms preprocess, 29.2ms inference, 3.8ms postprocess per image at shape (1, 3, 480, 640)\n",
      "\n",
      "image 1/1 /kaggle/input/multi-instance-object-detection-challenge/Starter_Dataset/TestImages/images/IMG_9575.jpg: 480x640 300 Soups, 29.2ms\n",
      "Speed: 3.4ms preprocess, 29.2ms inference, 3.5ms postprocess per image at shape (1, 3, 480, 640)\n",
      "\n",
      "image 1/1 /kaggle/input/multi-instance-object-detection-challenge/Starter_Dataset/TestImages/images/IMG_9763.jpg: 480x640 300 Soups, 29.2ms\n",
      "Speed: 3.4ms preprocess, 29.2ms inference, 3.6ms postprocess per image at shape (1, 3, 480, 640)\n",
      "\n",
      "image 1/1 /kaggle/input/multi-instance-object-detection-challenge/Starter_Dataset/TestImages/images/IMG_9777.jpg: 480x640 300 Soups, 29.2ms\n",
      "Speed: 3.0ms preprocess, 29.2ms inference, 3.6ms postprocess per image at shape (1, 3, 480, 640)\n",
      "\n",
      "image 1/1 /kaggle/input/multi-instance-object-detection-challenge/Starter_Dataset/TestImages/images/IMG_9743.jpg: 480x640 300 Soups, 29.2ms\n",
      "Speed: 3.2ms preprocess, 29.2ms inference, 3.6ms postprocess per image at shape (1, 3, 480, 640)\n",
      "\n",
      "image 1/1 /kaggle/input/multi-instance-object-detection-challenge/Starter_Dataset/TestImages/images/IMG_9684.jpg: 480x640 300 Soups, 29.2ms\n",
      "Speed: 3.4ms preprocess, 29.2ms inference, 3.6ms postprocess per image at shape (1, 3, 480, 640)\n",
      "\n",
      "image 1/1 /kaggle/input/multi-instance-object-detection-challenge/Starter_Dataset/TestImages/images/IMG_9577.jpg: 480x640 300 Soups, 29.2ms\n",
      "Speed: 3.4ms preprocess, 29.2ms inference, 3.2ms postprocess per image at shape (1, 3, 480, 640)\n",
      "\n",
      "image 1/1 /kaggle/input/multi-instance-object-detection-challenge/Starter_Dataset/TestImages/images/IMG_9573.jpg: 480x640 300 Soups, 29.2ms\n",
      "Speed: 3.4ms preprocess, 29.2ms inference, 3.6ms postprocess per image at shape (1, 3, 480, 640)\n",
      "\n",
      "image 1/1 /kaggle/input/multi-instance-object-detection-challenge/Starter_Dataset/TestImages/images/IMG_9626.jpg: 480x640 300 Soups, 29.2ms\n",
      "Speed: 3.4ms preprocess, 29.2ms inference, 3.8ms postprocess per image at shape (1, 3, 480, 640)\n",
      "\n",
      "image 1/1 /kaggle/input/multi-instance-object-detection-challenge/Starter_Dataset/TestImages/images/IMG_9579.jpg: 480x640 300 Soups, 29.2ms\n",
      "Speed: 3.4ms preprocess, 29.2ms inference, 3.6ms postprocess per image at shape (1, 3, 480, 640)\n",
      "\n",
      "image 1/1 /kaggle/input/multi-instance-object-detection-challenge/Starter_Dataset/TestImages/images/IMG_9708.jpg: 480x640 300 Soups, 29.2ms\n",
      "Speed: 3.4ms preprocess, 29.2ms inference, 3.6ms postprocess per image at shape (1, 3, 480, 640)\n",
      "\n",
      "image 1/1 /kaggle/input/multi-instance-object-detection-challenge/Starter_Dataset/TestImages/images/IMG_9758.jpg: 480x640 300 Soups, 29.2ms\n",
      "Speed: 3.4ms preprocess, 29.2ms inference, 3.8ms postprocess per image at shape (1, 3, 480, 640)\n",
      "\n",
      "image 1/1 /kaggle/input/multi-instance-object-detection-challenge/Starter_Dataset/TestImages/images/IMG_9610.jpg: 480x640 300 Soups, 29.2ms\n",
      "Speed: 3.5ms preprocess, 29.2ms inference, 3.1ms postprocess per image at shape (1, 3, 480, 640)\n",
      "\n",
      "image 1/1 /kaggle/input/multi-instance-object-detection-challenge/Starter_Dataset/TestImages/images/IMG_9754.jpg: 480x640 300 Soups, 29.2ms\n",
      "Speed: 3.4ms preprocess, 29.2ms inference, 3.5ms postprocess per image at shape (1, 3, 480, 640)\n",
      "\n",
      "image 1/1 /kaggle/input/multi-instance-object-detection-challenge/Starter_Dataset/TestImages/images/IMG_9757.jpg: 480x640 300 Soups, 29.2ms\n",
      "Speed: 3.4ms preprocess, 29.2ms inference, 3.5ms postprocess per image at shape (1, 3, 480, 640)\n",
      "\n",
      "image 1/1 /kaggle/input/multi-instance-object-detection-challenge/Starter_Dataset/TestImages/images/IMG_9699.jpg: 480x640 300 Soups, 29.2ms\n",
      "Speed: 3.4ms preprocess, 29.2ms inference, 3.8ms postprocess per image at shape (1, 3, 480, 640)\n",
      "[notice] ✅ Predictions saved: /kaggle/working/predictions/labels\n"
     ]
    }
   ],
   "source": [
    "model = YOLO(\"/kaggle/working/runs/detect/train/weights/best.pt\")\n",
    "\n",
    "test_images_path = \"/kaggle/input/multi-instance-object-detection-challenge/Starter_Dataset/TestImages/images\"\n",
    "output_dir = \"/kaggle/working/predictions/labels\"\n",
    "\n",
    "conf=0.0001\n",
    "\n",
    "def predict(test_images_path, output_dir , model, conf):\n",
    "    os.makedirs(output_dir, exist_ok=True)\n",
    "    model.eval()\n",
    "    model.training = False\n",
    "    for img_path in Path(test_images_path).glob(\"*\"):\n",
    "        if img_path.suffix.lower() not in ['.png', '.jpg', '.jpeg']:\n",
    "            continue\n",
    "    \n",
    "        results = model.predict(img_path, conf=conf)  \n",
    "        \n",
    "        output_txt = Path(output_dir) / f\"{img_path.stem}.txt\"\n",
    "    \n",
    "        with open(output_txt, \"w\") as f:\n",
    "            for result in results:\n",
    "                img_height, img_width = result.orig_shape\n",
    "                for box in result.boxes.data:\n",
    "                    x1, y1, x2, y2, confidence, cls_id = box.tolist()\n",
    "    \n",
    "                    x_center = ((x1 + x2) / 2) / img_width\n",
    "                    y_center = ((y1 + y2) / 2) / img_height\n",
    "                    width = (x2 - x1) / img_width\n",
    "                    height = (y2 - y1) / img_height\n",
    "    \n",
    "                    f.write(f\"0 {confidence:.6f} {x_center:.6f} {y_center:.6f} {width:.6f} {height:.6f}\\n\")\n",
    "    \n",
    "    print(f\"[notice] ✅ Predictions saved: {output_dir}\")\n",
    "predict(test_images_path, output_dir , model, conf)"
   ]
  },
  {
   "cell_type": "code",
   "execution_count": 5,
   "id": "d0a2beed",
   "metadata": {
    "execution": {
     "iopub.execute_input": "2025-06-24T09:38:17.944235Z",
     "iopub.status.busy": "2025-06-24T09:38:17.943724Z",
     "iopub.status.idle": "2025-06-24T09:38:18.055181Z",
     "shell.execute_reply": "2025-06-24T09:38:18.054343Z"
    },
    "papermill": {
     "duration": 0.236254,
     "end_time": "2025-06-24T09:38:18.056511",
     "exception": false,
     "start_time": "2025-06-24T09:38:17.820257",
     "status": "completed"
    },
    "tags": []
   },
   "outputs": [
    {
     "name": "stdout",
     "output_type": "stream",
     "text": [
      "   image_id                                  prediction_string\n",
      "0  IMG_9712  0 0.953264 0.328947 0.546374 0.065089 0.141291...\n",
      "1  IMG_9775  0 0.976505 0.393930 0.540386 0.180020 0.223596...\n",
      "2  IMG_9788  0 0.964525 0.338159 0.490281 0.081584 0.160479...\n",
      "3  IMG_9610  0 0.974760 0.553958 0.532559 0.118134 0.260993...\n",
      "4  IMG_9624  0 0.919792 0.363470 0.579482 0.113341 0.254043...\n",
      "5  IMG_9755  0 0.961265 0.727903 0.628138 0.126677 0.255484...\n",
      "6  IMG_9785  0 0.944616 0.345813 0.345553 0.093058 0.103450...\n",
      "7  IMG_9603  0 0.982276 0.276086 0.636501 0.186031 0.321438...\n",
      "8  IMG_9576  0 0.957775 0.474376 0.447176 0.102097 0.215523...\n",
      "9  IMG_9587  0 0.946170 0.506448 0.344534 0.072359 0.142762...\n",
      "[notice] ✅ Submission saved to /kaggle/working/submissionv.csv\n"
     ]
    }
   ],
   "source": [
    "# Convert predictions to CSV\n",
    "def predictions_to_csv(\n",
    "    preds_folder: str = \"/kaggle/working/predictions/labels\", \n",
    "    output_csv: str = \"/kaggle/working/submissionv.csv\", \n",
    "    test_images_folder: str = \"/kaggle/input/multi-instance-object-detection-challenge/Starter_Dataset/TestImages/images\",\n",
    "    allowed_extensions: tuple = (\".jpg\", \".png\", \".jpeg\")\n",
    "):\n",
    "    preds_path = Path(preds_folder)\n",
    "    test_images_path = Path(test_images_folder)\n",
    "\n",
    "    test_images = {p.stem for p in test_images_path.glob(\"*\") if p.suffix.lower() in allowed_extensions}\n",
    "\n",
    "    predictions = []\n",
    "    predicted_images = set()\n",
    "\n",
    "    for txt_file in preds_path.glob(\"*.txt\"):\n",
    "        image_id = txt_file.stem\n",
    "        predicted_images.add(image_id)\n",
    "\n",
    "        with open(txt_file, \"r\") as f:\n",
    "            valid_lines = [line.strip() for line in f if len(line.strip().split()) == 6]\n",
    "\n",
    "        pred_str = \" \".join(valid_lines) if valid_lines else \"no boxes\"\n",
    "        predictions.append({\"image_id\": image_id, \"prediction_string\": pred_str})\n",
    "\n",
    "    missing_images = test_images - predicted_images\n",
    "    for image_id in missing_images:\n",
    "        predictions.append({\"image_id\": image_id, \"prediction_string\": \"no boxes\"})\n",
    "\n",
    "    submission_df = pd.DataFrame(predictions)\n",
    "    submission_df.to_csv(output_csv, index=False, quoting=csv.QUOTE_MINIMAL)\n",
    "    print(submission_df.head(10))\n",
    "    print(f\"[notice] ✅ Submission saved to {output_csv}\")\n",
    "\n",
    "predictions_to_csv()"
   ]
  }
 ],
 "metadata": {
  "kaggle": {
   "accelerator": "nvidiaTeslaT4",
   "dataSources": [
    {
     "databundleVersionId": 12610790,
     "sourceId": 104781,
     "sourceType": "competition"
    }
   ],
   "dockerImageVersionId": 31041,
   "isGpuEnabled": true,
   "isInternetEnabled": true,
   "language": "python",
   "sourceType": "notebook"
  },
  "kernelspec": {
   "display_name": "Python 3",
   "language": "python",
   "name": "python3"
  },
  "language_info": {
   "codemirror_mode": {
    "name": "ipython",
    "version": 3
   },
   "file_extension": ".py",
   "mimetype": "text/x-python",
   "name": "python",
   "nbconvert_exporter": "python",
   "pygments_lexer": "ipython3",
   "version": "3.11.11"
  },
  "papermill": {
   "default_parameters": {},
   "duration": 326.134484,
   "end_time": "2025-06-24T09:38:20.306016",
   "environment_variables": {},
   "exception": null,
   "input_path": "__notebook__.ipynb",
   "output_path": "__notebook__.ipynb",
   "parameters": {},
   "start_time": "2025-06-24T09:32:54.171532",
   "version": "2.6.0"
  }
 },
 "nbformat": 4,
 "nbformat_minor": 5
}
