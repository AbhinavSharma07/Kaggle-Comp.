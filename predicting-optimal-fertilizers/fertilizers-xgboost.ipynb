{
 "cells": [
  {
   "cell_type": "code",
   "execution_count": 1,
   "id": "e08836ad",
   "metadata": {
    "execution": {
     "iopub.execute_input": "2025-06-09T10:54:20.757969Z",
     "iopub.status.busy": "2025-06-09T10:54:20.757544Z",
     "iopub.status.idle": "2025-06-09T10:54:23.371558Z",
     "shell.execute_reply": "2025-06-09T10:54:23.370767Z"
    },
    "papermill": {
     "duration": 2.619503,
     "end_time": "2025-06-09T10:54:23.373129",
     "exception": false,
     "start_time": "2025-06-09T10:54:20.753626",
     "status": "completed"
    },
    "tags": []
   },
   "outputs": [],
   "source": [
    "import numpy as np\n",
    "import pandas as pd\n",
    "import matplotlib.pyplot as plt\n",
    "from sklearn.model_selection import train_test_split\n",
    "from sklearn.metrics import mean_squared_error\n",
    "from sklearn.metrics import log_loss\n",
    "import gc\n",
    "import numpy as np\n",
    "import xgboost as xgb\n",
    "from sklearn.metrics import accuracy_score\n",
    "from sklearn.model_selection import KFold,StratifiedKFold\n",
    "from sklearn.utils.class_weight import compute_sample_weight"
   ]
  },
  {
   "cell_type": "code",
   "execution_count": 2,
   "id": "85141822",
   "metadata": {
    "execution": {
     "iopub.execute_input": "2025-06-09T10:54:23.379586Z",
     "iopub.status.busy": "2025-06-09T10:54:23.379272Z",
     "iopub.status.idle": "2025-06-09T10:54:24.789592Z",
     "shell.execute_reply": "2025-06-09T10:54:24.788683Z"
    },
    "papermill": {
     "duration": 1.415106,
     "end_time": "2025-06-09T10:54:24.791236",
     "exception": false,
     "start_time": "2025-06-09T10:54:23.376130",
     "status": "completed"
    },
    "tags": []
   },
   "outputs": [],
   "source": [
    "df_sub=pd.read_csv(\"/kaggle/input/playground-series-s5e6/sample_submission.csv\")\n",
    "df_train=pd.read_csv(\"/kaggle/input/playground-series-s5e6/train.csv\")\n",
    "df_original = pd.read_csv(\"/kaggle/input/fertilizer-prediction/Fertilizer Prediction.csv\")\n",
    "df_test=pd.read_csv(\"/kaggle/input/playground-series-s5e6/test.csv\")"
   ]
  },
  {
   "cell_type": "code",
   "execution_count": 3,
   "id": "303b19e2",
   "metadata": {
    "execution": {
     "iopub.execute_input": "2025-06-09T10:54:24.798454Z",
     "iopub.status.busy": "2025-06-09T10:54:24.798206Z",
     "iopub.status.idle": "2025-06-09T10:54:24.885110Z",
     "shell.execute_reply": "2025-06-09T10:54:24.884513Z"
    },
    "papermill": {
     "duration": 0.091687,
     "end_time": "2025-06-09T10:54:24.886416",
     "exception": false,
     "start_time": "2025-06-09T10:54:24.794729",
     "status": "completed"
    },
    "tags": []
   },
   "outputs": [],
   "source": [
    "df_train = pd.concat([df_train, df_original], axis=0, ignore_index=True)\n",
    "df_train = df_train.drop(columns=['id'])\n",
    "df_test = df_test.drop(columns=['id'])"
   ]
  },
  {
   "cell_type": "code",
   "execution_count": 4,
   "id": "0fff3eb7",
   "metadata": {
    "execution": {
     "iopub.execute_input": "2025-06-09T10:54:24.893078Z",
     "iopub.status.busy": "2025-06-09T10:54:24.892598Z",
     "iopub.status.idle": "2025-06-09T10:54:25.020340Z",
     "shell.execute_reply": "2025-06-09T10:54:25.019317Z"
    },
    "papermill": {
     "duration": 0.132237,
     "end_time": "2025-06-09T10:54:25.021475",
     "exception": false,
     "start_time": "2025-06-09T10:54:24.889238",
     "status": "completed"
    },
    "tags": []
   },
   "outputs": [
    {
     "name": "stdout",
     "output_type": "stream",
     "text": [
      "<class 'pandas.core.frame.DataFrame'>\n",
      "RangeIndex: 850000 entries, 0 to 849999\n",
      "Data columns (total 9 columns):\n",
      " #   Column           Non-Null Count   Dtype \n",
      "---  ------           --------------   ----- \n",
      " 0   Temparature      850000 non-null  int64 \n",
      " 1   Humidity         850000 non-null  int64 \n",
      " 2   Moisture         850000 non-null  int64 \n",
      " 3   Soil Type        850000 non-null  object\n",
      " 4   Crop Type        850000 non-null  object\n",
      " 5   Nitrogen         850000 non-null  int64 \n",
      " 6   Potassium        850000 non-null  int64 \n",
      " 7   Phosphorous      850000 non-null  int64 \n",
      " 8   Fertilizer Name  850000 non-null  object\n",
      "dtypes: int64(6), object(3)\n",
      "memory usage: 58.4+ MB\n"
     ]
    }
   ],
   "source": [
    "df_train.info()"
   ]
  },
  {
   "cell_type": "code",
   "execution_count": 5,
   "id": "3e70945e",
   "metadata": {
    "execution": {
     "iopub.execute_input": "2025-06-09T10:54:25.027748Z",
     "iopub.status.busy": "2025-06-09T10:54:25.027504Z",
     "iopub.status.idle": "2025-06-09T10:54:25.241404Z",
     "shell.execute_reply": "2025-06-09T10:54:25.240682Z"
    },
    "papermill": {
     "duration": 0.218189,
     "end_time": "2025-06-09T10:54:25.242517",
     "exception": false,
     "start_time": "2025-06-09T10:54:25.024328",
     "status": "completed"
    },
    "tags": []
   },
   "outputs": [
    {
     "name": "stdout",
     "output_type": "stream",
     "text": [
      "Soil Type: 5 unique values\n",
      "Crop Type: 11 unique values\n",
      "Fertilizer Name: 7 unique values\n"
     ]
    },
    {
     "data": {
      "text/plain": [
       "0"
      ]
     },
     "execution_count": 5,
     "metadata": {},
     "output_type": "execute_result"
    }
   ],
   "source": [
    "categorical_columns = df_train.select_dtypes(include=['object']).columns\n",
    "unique_values = {col: df_train[col].nunique() for col in categorical_columns}\n",
    "for col, unique_count in unique_values.items():\n",
    "    print(f\"{col}: {unique_count} unique values\")\n",
    "    \n",
    "gc.collect()"
   ]
  },
  {
   "cell_type": "code",
   "execution_count": 6,
   "id": "2f2873e0",
   "metadata": {
    "execution": {
     "iopub.execute_input": "2025-06-09T10:54:25.248775Z",
     "iopub.status.busy": "2025-06-09T10:54:25.248554Z",
     "iopub.status.idle": "2025-06-09T10:54:25.331291Z",
     "shell.execute_reply": "2025-06-09T10:54:25.330588Z"
    },
    "papermill": {
     "duration": 0.087073,
     "end_time": "2025-06-09T10:54:25.332475",
     "exception": false,
     "start_time": "2025-06-09T10:54:25.245402",
     "status": "completed"
    },
    "tags": []
   },
   "outputs": [
    {
     "name": "stdout",
     "output_type": "stream",
     "text": [
      "Soil Type: 5 unique values\n",
      "Crop Type: 11 unique values\n"
     ]
    },
    {
     "data": {
      "text/plain": [
       "0"
      ]
     },
     "execution_count": 6,
     "metadata": {},
     "output_type": "execute_result"
    }
   ],
   "source": [
    "categorical_columns = df_test.select_dtypes(include=['object']).columns\n",
    "unique_values = {col: df_test[col].nunique() for col in categorical_columns}\n",
    "for col, unique_count in unique_values.items():\n",
    "    print(f\"{col}: {unique_count} unique values\")\n",
    "    \n",
    "gc.collect()"
   ]
  },
  {
   "cell_type": "code",
   "execution_count": 7,
   "id": "cdf601cb",
   "metadata": {
    "execution": {
     "iopub.execute_input": "2025-06-09T10:54:25.339296Z",
     "iopub.status.busy": "2025-06-09T10:54:25.338904Z",
     "iopub.status.idle": "2025-06-09T10:54:25.480364Z",
     "shell.execute_reply": "2025-06-09T10:54:25.479539Z"
    },
    "papermill": {
     "duration": 0.145838,
     "end_time": "2025-06-09T10:54:25.481407",
     "exception": false,
     "start_time": "2025-06-09T10:54:25.335569",
     "status": "completed"
    },
    "tags": []
   },
   "outputs": [
    {
     "name": "stdout",
     "output_type": "stream",
     "text": [
      "Columns in df_train with more than 10% missing values:\n",
      "Series([], dtype: float64)\n",
      "\n",
      "Columns in df_test with more than 10% missing values:\n",
      "Series([], dtype: float64)\n"
     ]
    }
   ],
   "source": [
    "missing_train = df_train.isna().mean() * 100\n",
    "missing_test = df_test.isna().mean() * 100\n",
    "\n",
    "print(\"Columns in df_train with more than 10% missing values:\")\n",
    "print(missing_train[missing_train > 0])\n",
    "\n",
    "print(\"\\nColumns in df_test with more than 10% missing values:\")\n",
    "print(missing_test[missing_test > 0])"
   ]
  },
  {
   "cell_type": "code",
   "execution_count": 8,
   "id": "6b1f6d27",
   "metadata": {
    "execution": {
     "iopub.execute_input": "2025-06-09T10:54:25.488217Z",
     "iopub.status.busy": "2025-06-09T10:54:25.488003Z",
     "iopub.status.idle": "2025-06-09T10:54:26.332679Z",
     "shell.execute_reply": "2025-06-09T10:54:26.331942Z"
    },
    "papermill": {
     "duration": 0.849461,
     "end_time": "2025-06-09T10:54:26.333930",
     "exception": false,
     "start_time": "2025-06-09T10:54:25.484469",
     "status": "completed"
    },
    "tags": []
   },
   "outputs": [
    {
     "data": {
      "text/plain": [
       "Index(['Temparature', 'Humidity', 'Moisture', 'Soil Type', 'Crop Type',\n",
       "       'Nitrogen', 'Potassium', 'Phosphorous', 'Fertilizer Name'],\n",
       "      dtype='object')"
      ]
     },
     "execution_count": 8,
     "metadata": {},
     "output_type": "execute_result"
    }
   ],
   "source": [
    "from sklearn.model_selection import train_test_split\n",
    "from sklearn.preprocessing import LabelEncoder,OrdinalEncoder\n",
    "import category_encoders as ce\n",
    "\n",
    "missing_threshold = 0.95\n",
    "\n",
    "high_missing_columns = df_train.columns[df_train.isnull().mean() > missing_threshold]\n",
    "\n",
    "df_train = df_train.drop(columns=high_missing_columns)\n",
    "df_test = df_test.drop(columns=high_missing_columns)\n",
    "\n",
    "for column in df_train.columns:\n",
    "    if df_train[column].isnull().any():      \n",
    "        if df_train[column].dtype == 'object':\n",
    "            mode_value = df_train[column].mode()[0]\n",
    "            df_train[column].fillna(mode_value, inplace=True)\n",
    "            df_test[column].fillna(mode_value, inplace=True)     \n",
    "        else:\n",
    "            median_value = df_train[column].median()\n",
    "            df_train[column].fillna(median_value, inplace=True)\n",
    "            df_test[column].fillna(median_value, inplace=True)\n",
    "\n",
    "\n",
    "df_train.columns\n"
   ]
  },
  {
   "cell_type": "code",
   "execution_count": 9,
   "id": "bda821d5",
   "metadata": {
    "execution": {
     "iopub.execute_input": "2025-06-09T10:54:26.341614Z",
     "iopub.status.busy": "2025-06-09T10:54:26.340857Z",
     "iopub.status.idle": "2025-06-09T10:54:26.925881Z",
     "shell.execute_reply": "2025-06-09T10:54:26.924965Z"
    },
    "papermill": {
     "duration": 0.590097,
     "end_time": "2025-06-09T10:54:26.927295",
     "exception": false,
     "start_time": "2025-06-09T10:54:26.337198",
     "status": "completed"
    },
    "tags": []
   },
   "outputs": [],
   "source": [
    "cat_cols_train = df_train.select_dtypes(include=['object']).columns\n",
    "cat_cols_train = cat_cols_train[cat_cols_train != 'Fertilizer Name']\n",
    "ordinal_encoder = OrdinalEncoder(handle_unknown='use_encoded_value', unknown_value=-1)\n",
    "\n",
    "df_train[cat_cols_train] = ordinal_encoder.fit_transform(df_train[cat_cols_train].astype(str))\n",
    "df_test[cat_cols_train] = ordinal_encoder.transform(df_test[cat_cols_train].astype(str))\n",
    "\n",
    "cat_features = ['Soil Type','Crop Type']\n",
    "df_train['Soil Type'] = df_train['Soil Type'].astype('category').cat.codes\n",
    "df_train['Crop Type'] = df_train['Crop Type'].astype('category').cat.codes\n",
    "\n",
    "df_test['Soil Type'] = df_test['Soil Type'].astype('category').cat.codes\n",
    "df_test['Crop Type'] = df_test['Crop Type'].astype('category').cat.codes\n",
    "\n"
   ]
  },
  {
   "cell_type": "code",
   "execution_count": 10,
   "id": "c68ad708",
   "metadata": {
    "execution": {
     "iopub.execute_input": "2025-06-09T10:54:26.934623Z",
     "iopub.status.busy": "2025-06-09T10:54:26.934239Z",
     "iopub.status.idle": "2025-06-09T10:54:26.950593Z",
     "shell.execute_reply": "2025-06-09T10:54:26.949987Z"
    },
    "papermill": {
     "duration": 0.021414,
     "end_time": "2025-06-09T10:54:26.951906",
     "exception": false,
     "start_time": "2025-06-09T10:54:26.930492",
     "status": "completed"
    },
    "tags": []
   },
   "outputs": [
    {
     "data": {
      "text/html": [
       "<div>\n",
       "<style scoped>\n",
       "    .dataframe tbody tr th:only-of-type {\n",
       "        vertical-align: middle;\n",
       "    }\n",
       "\n",
       "    .dataframe tbody tr th {\n",
       "        vertical-align: top;\n",
       "    }\n",
       "\n",
       "    .dataframe thead th {\n",
       "        text-align: right;\n",
       "    }\n",
       "</style>\n",
       "<table border=\"1\" class=\"dataframe\">\n",
       "  <thead>\n",
       "    <tr style=\"text-align: right;\">\n",
       "      <th></th>\n",
       "      <th>Temparature</th>\n",
       "      <th>Humidity</th>\n",
       "      <th>Moisture</th>\n",
       "      <th>Soil Type</th>\n",
       "      <th>Crop Type</th>\n",
       "      <th>Nitrogen</th>\n",
       "      <th>Potassium</th>\n",
       "      <th>Phosphorous</th>\n",
       "      <th>Fertilizer Name</th>\n",
       "    </tr>\n",
       "  </thead>\n",
       "  <tbody>\n",
       "    <tr>\n",
       "      <th>0</th>\n",
       "      <td>37</td>\n",
       "      <td>70</td>\n",
       "      <td>36</td>\n",
       "      <td>1</td>\n",
       "      <td>8</td>\n",
       "      <td>36</td>\n",
       "      <td>4</td>\n",
       "      <td>5</td>\n",
       "      <td>28-28</td>\n",
       "    </tr>\n",
       "    <tr>\n",
       "      <th>1</th>\n",
       "      <td>27</td>\n",
       "      <td>69</td>\n",
       "      <td>65</td>\n",
       "      <td>4</td>\n",
       "      <td>4</td>\n",
       "      <td>30</td>\n",
       "      <td>6</td>\n",
       "      <td>18</td>\n",
       "      <td>28-28</td>\n",
       "    </tr>\n",
       "    <tr>\n",
       "      <th>2</th>\n",
       "      <td>29</td>\n",
       "      <td>63</td>\n",
       "      <td>32</td>\n",
       "      <td>4</td>\n",
       "      <td>4</td>\n",
       "      <td>24</td>\n",
       "      <td>12</td>\n",
       "      <td>16</td>\n",
       "      <td>17-17-17</td>\n",
       "    </tr>\n",
       "    <tr>\n",
       "      <th>3</th>\n",
       "      <td>35</td>\n",
       "      <td>62</td>\n",
       "      <td>54</td>\n",
       "      <td>4</td>\n",
       "      <td>0</td>\n",
       "      <td>39</td>\n",
       "      <td>12</td>\n",
       "      <td>4</td>\n",
       "      <td>10-26-26</td>\n",
       "    </tr>\n",
       "    <tr>\n",
       "      <th>4</th>\n",
       "      <td>35</td>\n",
       "      <td>58</td>\n",
       "      <td>43</td>\n",
       "      <td>3</td>\n",
       "      <td>6</td>\n",
       "      <td>37</td>\n",
       "      <td>2</td>\n",
       "      <td>16</td>\n",
       "      <td>DAP</td>\n",
       "    </tr>\n",
       "  </tbody>\n",
       "</table>\n",
       "</div>"
      ],
      "text/plain": [
       "   Temparature  Humidity  Moisture  Soil Type  Crop Type  Nitrogen  Potassium  \\\n",
       "0           37        70        36          1          8        36          4   \n",
       "1           27        69        65          4          4        30          6   \n",
       "2           29        63        32          4          4        24         12   \n",
       "3           35        62        54          4          0        39         12   \n",
       "4           35        58        43          3          6        37          2   \n",
       "\n",
       "   Phosphorous Fertilizer Name  \n",
       "0            5           28-28  \n",
       "1           18           28-28  \n",
       "2           16        17-17-17  \n",
       "3            4        10-26-26  \n",
       "4           16             DAP  "
      ]
     },
     "execution_count": 10,
     "metadata": {},
     "output_type": "execute_result"
    }
   ],
   "source": [
    "df_train.head()"
   ]
  },
  {
   "cell_type": "code",
   "execution_count": 11,
   "id": "3e2e5430",
   "metadata": {
    "execution": {
     "iopub.execute_input": "2025-06-09T10:54:26.959742Z",
     "iopub.status.busy": "2025-06-09T10:54:26.959505Z",
     "iopub.status.idle": "2025-06-09T10:54:26.966969Z",
     "shell.execute_reply": "2025-06-09T10:54:26.966422Z"
    },
    "papermill": {
     "duration": 0.012623,
     "end_time": "2025-06-09T10:54:26.968057",
     "exception": false,
     "start_time": "2025-06-09T10:54:26.955434",
     "status": "completed"
    },
    "tags": []
   },
   "outputs": [
    {
     "data": {
      "text/html": [
       "<div>\n",
       "<style scoped>\n",
       "    .dataframe tbody tr th:only-of-type {\n",
       "        vertical-align: middle;\n",
       "    }\n",
       "\n",
       "    .dataframe tbody tr th {\n",
       "        vertical-align: top;\n",
       "    }\n",
       "\n",
       "    .dataframe thead th {\n",
       "        text-align: right;\n",
       "    }\n",
       "</style>\n",
       "<table border=\"1\" class=\"dataframe\">\n",
       "  <thead>\n",
       "    <tr style=\"text-align: right;\">\n",
       "      <th></th>\n",
       "      <th>Temparature</th>\n",
       "      <th>Humidity</th>\n",
       "      <th>Moisture</th>\n",
       "      <th>Soil Type</th>\n",
       "      <th>Crop Type</th>\n",
       "      <th>Nitrogen</th>\n",
       "      <th>Potassium</th>\n",
       "      <th>Phosphorous</th>\n",
       "    </tr>\n",
       "  </thead>\n",
       "  <tbody>\n",
       "    <tr>\n",
       "      <th>0</th>\n",
       "      <td>31</td>\n",
       "      <td>70</td>\n",
       "      <td>52</td>\n",
       "      <td>4</td>\n",
       "      <td>10</td>\n",
       "      <td>34</td>\n",
       "      <td>11</td>\n",
       "      <td>24</td>\n",
       "    </tr>\n",
       "    <tr>\n",
       "      <th>1</th>\n",
       "      <td>27</td>\n",
       "      <td>62</td>\n",
       "      <td>45</td>\n",
       "      <td>3</td>\n",
       "      <td>8</td>\n",
       "      <td>30</td>\n",
       "      <td>14</td>\n",
       "      <td>15</td>\n",
       "    </tr>\n",
       "    <tr>\n",
       "      <th>2</th>\n",
       "      <td>28</td>\n",
       "      <td>72</td>\n",
       "      <td>28</td>\n",
       "      <td>1</td>\n",
       "      <td>2</td>\n",
       "      <td>14</td>\n",
       "      <td>15</td>\n",
       "      <td>4</td>\n",
       "    </tr>\n",
       "    <tr>\n",
       "      <th>3</th>\n",
       "      <td>37</td>\n",
       "      <td>53</td>\n",
       "      <td>57</td>\n",
       "      <td>0</td>\n",
       "      <td>2</td>\n",
       "      <td>18</td>\n",
       "      <td>17</td>\n",
       "      <td>36</td>\n",
       "    </tr>\n",
       "    <tr>\n",
       "      <th>4</th>\n",
       "      <td>31</td>\n",
       "      <td>55</td>\n",
       "      <td>32</td>\n",
       "      <td>3</td>\n",
       "      <td>7</td>\n",
       "      <td>13</td>\n",
       "      <td>19</td>\n",
       "      <td>14</td>\n",
       "    </tr>\n",
       "  </tbody>\n",
       "</table>\n",
       "</div>"
      ],
      "text/plain": [
       "   Temparature  Humidity  Moisture  Soil Type  Crop Type  Nitrogen  Potassium  \\\n",
       "0           31        70        52          4         10        34         11   \n",
       "1           27        62        45          3          8        30         14   \n",
       "2           28        72        28          1          2        14         15   \n",
       "3           37        53        57          0          2        18         17   \n",
       "4           31        55        32          3          7        13         19   \n",
       "\n",
       "   Phosphorous  \n",
       "0           24  \n",
       "1           15  \n",
       "2            4  \n",
       "3           36  \n",
       "4           14  "
      ]
     },
     "execution_count": 11,
     "metadata": {},
     "output_type": "execute_result"
    }
   ],
   "source": [
    "df_test.head()"
   ]
  },
  {
   "cell_type": "code",
   "execution_count": 12,
   "id": "c24a4ff3",
   "metadata": {
    "execution": {
     "iopub.execute_input": "2025-06-09T10:54:26.975067Z",
     "iopub.status.busy": "2025-06-09T10:54:26.974856Z",
     "iopub.status.idle": "2025-06-09T10:54:27.114860Z",
     "shell.execute_reply": "2025-06-09T10:54:27.114263Z"
    },
    "papermill": {
     "duration": 0.144866,
     "end_time": "2025-06-09T10:54:27.116042",
     "exception": false,
     "start_time": "2025-06-09T10:54:26.971176",
     "status": "completed"
    },
    "tags": []
   },
   "outputs": [],
   "source": [
    "le = LabelEncoder()\n",
    "df_train['Fertilizer Name'] = le.fit_transform(df_train['Fertilizer Name'])\n",
    "\n",
    "y = df_train['Fertilizer Name'] \n",
    "X = df_train.drop(['Fertilizer Name'],axis=1)"
   ]
  },
  {
   "cell_type": "code",
   "execution_count": 13,
   "id": "eb139170",
   "metadata": {
    "execution": {
     "iopub.execute_input": "2025-06-09T10:54:27.123338Z",
     "iopub.status.busy": "2025-06-09T10:54:27.123110Z",
     "iopub.status.idle": "2025-06-09T11:53:10.987406Z",
     "shell.execute_reply": "2025-06-09T11:53:10.986584Z"
    },
    "papermill": {
     "duration": 3523.874631,
     "end_time": "2025-06-09T11:53:10.993919",
     "exception": false,
     "start_time": "2025-06-09T10:54:27.119288",
     "status": "completed"
    },
    "tags": []
   },
   "outputs": [
    {
     "name": "stdout",
     "output_type": "stream",
     "text": [
      "\n",
      "########## Fold 1 ##########\n",
      "[0]\tvalid-mlogloss:1.94564\n",
      "[200]\tvalid-mlogloss:1.91877\n",
      "[400]\tvalid-mlogloss:1.90653\n",
      "[600]\tvalid-mlogloss:1.89908\n",
      "[800]\tvalid-mlogloss:1.89429\n",
      "[1000]\tvalid-mlogloss:1.89140\n",
      "[1200]\tvalid-mlogloss:1.88970\n",
      "[1400]\tvalid-mlogloss:1.88903\n",
      "[1577]\tvalid-mlogloss:1.88897\n",
      "Fold 1 log_loss: 1.8890\n",
      "\n",
      "########## Fold 2 ##########\n",
      "[0]\tvalid-mlogloss:1.94565\n",
      "[200]\tvalid-mlogloss:1.91881\n",
      "[400]\tvalid-mlogloss:1.90671\n",
      "[600]\tvalid-mlogloss:1.89940\n",
      "[800]\tvalid-mlogloss:1.89464\n",
      "[1000]\tvalid-mlogloss:1.89181\n",
      "[1200]\tvalid-mlogloss:1.89018\n",
      "[1400]\tvalid-mlogloss:1.88960\n",
      "[1517]\tvalid-mlogloss:1.88953\n",
      "Fold 2 log_loss: 1.8895\n",
      "\n",
      "########## Fold 3 ##########\n",
      "[0]\tvalid-mlogloss:1.94564\n",
      "[200]\tvalid-mlogloss:1.91872\n",
      "[400]\tvalid-mlogloss:1.90645\n",
      "[600]\tvalid-mlogloss:1.89906\n",
      "[800]\tvalid-mlogloss:1.89430\n",
      "[1000]\tvalid-mlogloss:1.89159\n",
      "[1200]\tvalid-mlogloss:1.88995\n",
      "[1400]\tvalid-mlogloss:1.88934\n",
      "[1516]\tvalid-mlogloss:1.88932\n",
      "Fold 3 log_loss: 1.8893\n",
      "\n",
      "########## Fold 4 ##########\n",
      "[0]\tvalid-mlogloss:1.94564\n",
      "[200]\tvalid-mlogloss:1.91907\n",
      "[400]\tvalid-mlogloss:1.90702\n",
      "[600]\tvalid-mlogloss:1.89973\n",
      "[800]\tvalid-mlogloss:1.89496\n",
      "[1000]\tvalid-mlogloss:1.89227\n",
      "[1200]\tvalid-mlogloss:1.89076\n",
      "[1400]\tvalid-mlogloss:1.89012\n",
      "[1515]\tvalid-mlogloss:1.89010\n",
      "Fold 4 log_loss: 1.8901\n",
      "\n",
      "########## Fold 5 ##########\n",
      "[0]\tvalid-mlogloss:1.94565\n",
      "[200]\tvalid-mlogloss:1.91912\n",
      "[400]\tvalid-mlogloss:1.90723\n",
      "[600]\tvalid-mlogloss:1.90014\n",
      "[800]\tvalid-mlogloss:1.89555\n",
      "[1000]\tvalid-mlogloss:1.89297\n",
      "[1200]\tvalid-mlogloss:1.89152\n",
      "[1400]\tvalid-mlogloss:1.89104\n",
      "[1451]\tvalid-mlogloss:1.89105\n",
      "Fold 5 log_loss: 1.8911\n",
      "\n",
      "Final CV log_loss: 1.8898\n"
     ]
    }
   ],
   "source": [
    "# KFold setup\n",
    "FOLDS = 5\n",
    "kf = StratifiedKFold(n_splits=FOLDS, shuffle=True, random_state=42)\n",
    "\n",
    "# Arrays to store predictions\n",
    "oof = np.zeros((len(df_train), len(np.unique(y))))\n",
    "pred = np.zeros((len(df_test), len(np.unique(y))))\n",
    "logloss = []\n",
    "\n",
    "# Start CV loop\n",
    "for i, (train_idx, valid_idx) in enumerate(kf.split(X, y)):\n",
    "    print(f\"\\n{'#'*10} Fold {i+1} {'#'*10}\")\n",
    "    \n",
    "    x_train = X.iloc[train_idx].copy()\n",
    "    y_train = y.iloc[train_idx]\n",
    "    x_valid = X.iloc[valid_idx].copy()\n",
    "    y_valid = y.iloc[valid_idx]\n",
    "    x_test = df_test.copy()\n",
    "\n",
    "    #weights = compute_sample_weight(class_weight='balanced', y=y_train)\n",
    "    # 将数据转换为 XGBoost 的 DMatrix 格式\n",
    "    dtrain = xgb.DMatrix(x_train, label=y_train)\n",
    "    dvalid = xgb.DMatrix(x_valid, label=y_valid)\n",
    "    dtest = xgb.DMatrix(x_test)\n",
    "\n",
    "    # XGBoost 参数\n",
    "    params = {\n",
    "        'objective': 'multi:softprob',  # 多分类概率输出\n",
    "        'num_class': len(np.unique(y)),  # 类别数\n",
    "        'max_depth': 16,\n",
    "        'learning_rate': 0.03,\n",
    "        'min_child_weight' : 2,\n",
    "        'alpha': 0.8, \n",
    "        'reg_lambda': 4.0, \n",
    "        'colsample_bytree': 0.3,\n",
    "        'subsample': 0.8,\n",
    "        'max_bin': 128,\n",
    "        'colsample_bytree': 0.3, \n",
    "        'colsample_bylevel': 1,  \n",
    "        'colsample_bynode': 1,  \n",
    "        'tree_method': 'hist',  \n",
    "        'random_state': 42,\n",
    "        'eval_metric': 'mlogloss',\n",
    "        #'tree_method': 'hist',  \n",
    "        #'device': 'cpu'                 \n",
    "    }\n",
    "\n",
    "    # 训练模型\n",
    "    model = xgb.train(\n",
    "        params,\n",
    "        dtrain,\n",
    "        num_boost_round=5000,\n",
    "        evals=[(dvalid, 'valid')],\n",
    "        early_stopping_rounds=50,\n",
    "        verbose_eval=200\n",
    "    )\n",
    "\n",
    "    # Predict OOF and test\n",
    "    oof[valid_idx] = model.predict(dvalid)\n",
    "    pred += model.predict(dtest)\n",
    "\n",
    "    log_loss_value = log_loss(y_valid, oof[valid_idx])\n",
    "    print(f\"Fold {i+1} log_loss: {log_loss_value:.4f}\")\n",
    "    logloss.append(log_loss_value)\n",
    "\n",
    "# Average test predictions\n",
    "pred /= FOLDS\n",
    "log_loss_value = np.mean(logloss)\n",
    "\n",
    "print(f\"\\nFinal CV log_loss: {log_loss_value:.4f}\")"
   ]
  },
  {
   "cell_type": "code",
   "execution_count": 14,
   "id": "cb34e2e0",
   "metadata": {
    "execution": {
     "iopub.execute_input": "2025-06-09T11:53:11.005809Z",
     "iopub.status.busy": "2025-06-09T11:53:11.005034Z",
     "iopub.status.idle": "2025-06-09T11:53:12.197986Z",
     "shell.execute_reply": "2025-06-09T11:53:12.197074Z"
    },
    "papermill": {
     "duration": 1.200102,
     "end_time": "2025-06-09T11:53:12.199209",
     "exception": false,
     "start_time": "2025-06-09T11:53:10.999107",
     "status": "completed"
    },
    "tags": []
   },
   "outputs": [
    {
     "name": "stdout",
     "output_type": "stream",
     "text": [
      "✅ MAP@3 Score: 0.26695\n"
     ]
    }
   ],
   "source": [
    "top_3_preds = np.argsort(pred, axis=1)[:, -3:][:, ::-1]  \n",
    "actual = [[label] for label in y]\n",
    "\n",
    "def mapk(actual, predicted, k=3):\n",
    "    def apk(a, p, k):\n",
    "        p = p[:k]\n",
    "        score = 0.0\n",
    "        hits = 0\n",
    "        seen = set()\n",
    "        for i, pred in enumerate(p):\n",
    "            if pred in a and pred not in seen:\n",
    "                hits += 1\n",
    "                score += hits / (i + 1.0)\n",
    "                seen.add(pred)\n",
    "        return score / min(len(a), k)\n",
    "    return np.mean([apk(a, p, k) for a, p in zip(actual, predicted)])\n",
    "map3_score = mapk(actual, top_3_preds)\n",
    "print(f\"✅ MAP@3 Score: {map3_score:.5f}\")"
   ]
  },
  {
   "cell_type": "code",
   "execution_count": 15,
   "id": "366969bf",
   "metadata": {
    "execution": {
     "iopub.execute_input": "2025-06-09T11:53:12.210749Z",
     "iopub.status.busy": "2025-06-09T11:53:12.210506Z",
     "iopub.status.idle": "2025-06-09T11:53:12.887900Z",
     "shell.execute_reply": "2025-06-09T11:53:12.887015Z"
    },
    "papermill": {
     "duration": 0.684377,
     "end_time": "2025-06-09T11:53:12.889192",
     "exception": false,
     "start_time": "2025-06-09T11:53:12.204815",
     "status": "completed"
    },
    "tags": []
   },
   "outputs": [
    {
     "name": "stdout",
     "output_type": "stream",
     "text": [
      "✅ Submission file saved as 'submission.csv'\n"
     ]
    }
   ],
   "source": [
    "top_3_preds = np.argsort(pred, axis=1)[:, -3:][:, ::-1]\n",
    "top_3_labels = le.inverse_transform(top_3_preds.ravel()).reshape(top_3_preds.shape)\n",
    "submission = pd.DataFrame({\n",
    "    'id': df_sub['id'],\n",
    "    'Fertilizer Name': [' '.join(row) for row in top_3_labels]\n",
    "})\n",
    "submission.to_csv('submission.csv', index=False)\n",
    "print(\"✅ Submission file saved as 'submission.csv'\")\n"
   ]
  }
 ],
 "metadata": {
  "kaggle": {
   "accelerator": "nvidiaTeslaT4",
   "dataSources": [
    {
     "databundleVersionId": 12184666,
     "sourceId": 91717,
     "sourceType": "competition"
    },
    {
     "datasetId": 7269189,
     "sourceId": 11592231,
     "sourceType": "datasetVersion"
    }
   ],
   "dockerImageVersionId": 31041,
   "isGpuEnabled": true,
   "isInternetEnabled": true,
   "language": "python",
   "sourceType": "notebook"
  },
  "kernelspec": {
   "display_name": "Python 3",
   "language": "python",
   "name": "python3"
  },
  "language_info": {
   "codemirror_mode": {
    "name": "ipython",
    "version": 3
   },
   "file_extension": ".py",
   "mimetype": "text/x-python",
   "name": "python",
   "nbconvert_exporter": "python",
   "pygments_lexer": "ipython3",
   "version": "3.11.11"
  },
  "papermill": {
   "default_parameters": {},
   "duration": 3536.87562,
   "end_time": "2025-06-09T11:53:13.616166",
   "environment_variables": {},
   "exception": null,
   "input_path": "__notebook__.ipynb",
   "output_path": "__notebook__.ipynb",
   "parameters": {},
   "start_time": "2025-06-09T10:54:16.740546",
   "version": "2.6.0"
  }
 },
 "nbformat": 4,
 "nbformat_minor": 5
}
