{
 "cells": [
  {
   "cell_type": "code",
   "execution_count": 1,
   "id": "da3a5ef0",
   "metadata": {},
   "outputs": [],
   "source": [
    "import numpy as np\n",
    "import pandas as pd\n",
    "import matplotlib.pyplot as plt\n",
    "%matplotlib inline\n",
    "import seaborn as sns\n",
    "import tensorflow as tf"
   ]
  },
  {
   "cell_type": "code",
   "execution_count": 4,
   "id": "e3320371",
   "metadata": {},
   "outputs": [
    {
     "data": {
      "text/html": [
       "<div>\n",
       "<style scoped>\n",
       "    .dataframe tbody tr th:only-of-type {\n",
       "        vertical-align: middle;\n",
       "    }\n",
       "\n",
       "    .dataframe tbody tr th {\n",
       "        vertical-align: top;\n",
       "    }\n",
       "\n",
       "    .dataframe thead th {\n",
       "        text-align: right;\n",
       "    }\n",
       "</style>\n",
       "<table border=\"1\" class=\"dataframe\">\n",
       "  <thead>\n",
       "    <tr style=\"text-align: right;\">\n",
       "      <th></th>\n",
       "      <th>label</th>\n",
       "      <th>pixel0</th>\n",
       "      <th>pixel1</th>\n",
       "      <th>pixel2</th>\n",
       "      <th>pixel3</th>\n",
       "      <th>pixel4</th>\n",
       "      <th>pixel5</th>\n",
       "      <th>pixel6</th>\n",
       "      <th>pixel7</th>\n",
       "      <th>pixel8</th>\n",
       "      <th>...</th>\n",
       "      <th>pixel774</th>\n",
       "      <th>pixel775</th>\n",
       "      <th>pixel776</th>\n",
       "      <th>pixel777</th>\n",
       "      <th>pixel778</th>\n",
       "      <th>pixel779</th>\n",
       "      <th>pixel780</th>\n",
       "      <th>pixel781</th>\n",
       "      <th>pixel782</th>\n",
       "      <th>pixel783</th>\n",
       "    </tr>\n",
       "  </thead>\n",
       "  <tbody>\n",
       "    <tr>\n",
       "      <th>0</th>\n",
       "      <td>1</td>\n",
       "      <td>0</td>\n",
       "      <td>0</td>\n",
       "      <td>0</td>\n",
       "      <td>0</td>\n",
       "      <td>0</td>\n",
       "      <td>0</td>\n",
       "      <td>0</td>\n",
       "      <td>0</td>\n",
       "      <td>0</td>\n",
       "      <td>...</td>\n",
       "      <td>0</td>\n",
       "      <td>0</td>\n",
       "      <td>0</td>\n",
       "      <td>0</td>\n",
       "      <td>0</td>\n",
       "      <td>0</td>\n",
       "      <td>0</td>\n",
       "      <td>0</td>\n",
       "      <td>0</td>\n",
       "      <td>0</td>\n",
       "    </tr>\n",
       "    <tr>\n",
       "      <th>1</th>\n",
       "      <td>0</td>\n",
       "      <td>0</td>\n",
       "      <td>0</td>\n",
       "      <td>0</td>\n",
       "      <td>0</td>\n",
       "      <td>0</td>\n",
       "      <td>0</td>\n",
       "      <td>0</td>\n",
       "      <td>0</td>\n",
       "      <td>0</td>\n",
       "      <td>...</td>\n",
       "      <td>0</td>\n",
       "      <td>0</td>\n",
       "      <td>0</td>\n",
       "      <td>0</td>\n",
       "      <td>0</td>\n",
       "      <td>0</td>\n",
       "      <td>0</td>\n",
       "      <td>0</td>\n",
       "      <td>0</td>\n",
       "      <td>0</td>\n",
       "    </tr>\n",
       "    <tr>\n",
       "      <th>2</th>\n",
       "      <td>1</td>\n",
       "      <td>0</td>\n",
       "      <td>0</td>\n",
       "      <td>0</td>\n",
       "      <td>0</td>\n",
       "      <td>0</td>\n",
       "      <td>0</td>\n",
       "      <td>0</td>\n",
       "      <td>0</td>\n",
       "      <td>0</td>\n",
       "      <td>...</td>\n",
       "      <td>0</td>\n",
       "      <td>0</td>\n",
       "      <td>0</td>\n",
       "      <td>0</td>\n",
       "      <td>0</td>\n",
       "      <td>0</td>\n",
       "      <td>0</td>\n",
       "      <td>0</td>\n",
       "      <td>0</td>\n",
       "      <td>0</td>\n",
       "    </tr>\n",
       "    <tr>\n",
       "      <th>3</th>\n",
       "      <td>4</td>\n",
       "      <td>0</td>\n",
       "      <td>0</td>\n",
       "      <td>0</td>\n",
       "      <td>0</td>\n",
       "      <td>0</td>\n",
       "      <td>0</td>\n",
       "      <td>0</td>\n",
       "      <td>0</td>\n",
       "      <td>0</td>\n",
       "      <td>...</td>\n",
       "      <td>0</td>\n",
       "      <td>0</td>\n",
       "      <td>0</td>\n",
       "      <td>0</td>\n",
       "      <td>0</td>\n",
       "      <td>0</td>\n",
       "      <td>0</td>\n",
       "      <td>0</td>\n",
       "      <td>0</td>\n",
       "      <td>0</td>\n",
       "    </tr>\n",
       "    <tr>\n",
       "      <th>4</th>\n",
       "      <td>0</td>\n",
       "      <td>0</td>\n",
       "      <td>0</td>\n",
       "      <td>0</td>\n",
       "      <td>0</td>\n",
       "      <td>0</td>\n",
       "      <td>0</td>\n",
       "      <td>0</td>\n",
       "      <td>0</td>\n",
       "      <td>0</td>\n",
       "      <td>...</td>\n",
       "      <td>0</td>\n",
       "      <td>0</td>\n",
       "      <td>0</td>\n",
       "      <td>0</td>\n",
       "      <td>0</td>\n",
       "      <td>0</td>\n",
       "      <td>0</td>\n",
       "      <td>0</td>\n",
       "      <td>0</td>\n",
       "      <td>0</td>\n",
       "    </tr>\n",
       "  </tbody>\n",
       "</table>\n",
       "<p>5 rows × 785 columns</p>\n",
       "</div>"
      ],
      "text/plain": [
       "   label  pixel0  pixel1  pixel2  pixel3  pixel4  pixel5  pixel6  pixel7  \\\n",
       "0      1       0       0       0       0       0       0       0       0   \n",
       "1      0       0       0       0       0       0       0       0       0   \n",
       "2      1       0       0       0       0       0       0       0       0   \n",
       "3      4       0       0       0       0       0       0       0       0   \n",
       "4      0       0       0       0       0       0       0       0       0   \n",
       "\n",
       "   pixel8  ...  pixel774  pixel775  pixel776  pixel777  pixel778  pixel779  \\\n",
       "0       0  ...         0         0         0         0         0         0   \n",
       "1       0  ...         0         0         0         0         0         0   \n",
       "2       0  ...         0         0         0         0         0         0   \n",
       "3       0  ...         0         0         0         0         0         0   \n",
       "4       0  ...         0         0         0         0         0         0   \n",
       "\n",
       "   pixel780  pixel781  pixel782  pixel783  \n",
       "0         0         0         0         0  \n",
       "1         0         0         0         0  \n",
       "2         0         0         0         0  \n",
       "3         0         0         0         0  \n",
       "4         0         0         0         0  \n",
       "\n",
       "[5 rows x 785 columns]"
      ]
     },
     "execution_count": 4,
     "metadata": {},
     "output_type": "execute_result"
    }
   ],
   "source": [
    "train = pd.read_csv(\"Kaggle\\digit-recognizer\\train.csv\")\n",
    "test = pd.read_csv(\"Kaggle\\digit-recognizer\\test.csv\")\n",
    "train.head()"
   ]
  },
  {
   "cell_type": "code",
   "execution_count": 5,
   "id": "749a9b97",
   "metadata": {},
   "outputs": [
    {
     "data": {
      "text/plain": [
       "((42000, 784), (42000,), (28000, 784))"
      ]
     },
     "execution_count": 5,
     "metadata": {},
     "output_type": "execute_result"
    }
   ],
   "source": [
    "y_train = train['label'].astype('float32')\n",
    "X_train = train.drop(['label'], axis=1).astype('int32')\n",
    "X_test = test.astype('float32')\n",
    "X_train.shape, y_train.shape, X_test.shape"
   ]
  },
  {
   "cell_type": "code",
   "execution_count": 6,
   "id": "8cb03430",
   "metadata": {},
   "outputs": [
    {
     "data": {
      "image/png": "[encoded data removed]",
      "text/plain": [
       "<Figure size 640x480 with 1 Axes>"
      ]
     },
     "metadata": {},
     "output_type": "display_data"
    }
   ],
   "source": [
    "sns.countplot(x='label', data=train);"
   ]
  },
  {
   "cell_type": "code",
   "execution_count": 7,
   "id": "400a139e",
   "metadata": {},
   "outputs": [],
   "source": [
    "# Data normalization\n",
    "X_train = X_train/255\n",
    "X_test = X_test/255"
   ]
  },
  {
   "cell_type": "code",
   "execution_count": 8,
   "id": "ea5716c5",
   "metadata": {},
   "outputs": [
    {
     "data": {
      "text/plain": [
       "((42000, 28, 28, 1), (28000, 28, 28, 1))"
      ]
     },
     "execution_count": 8,
     "metadata": {},
     "output_type": "execute_result"
    }
   ],
   "source": [
    "X_train = X_train.values.reshape(-1,28,28,1)\n",
    "X_test = X_test.values.reshape(-1,28,28,1)\n",
    "X_train.shape, X_test.shape"
   ]
  },
  {
   "cell_type": "code",
   "execution_count": 10,
   "id": "2039951b",
   "metadata": {},
   "outputs": [
    {
     "data": {
      "text/plain": [
       "(42000, 10)"
      ]
     },
     "execution_count": 10,
     "metadata": {},
     "output_type": "execute_result"
    }
   ],
   "source": [
    "from tensorflow.keras.utils import to_categorical\n",
    "\n",
    "y_train = to_categorical(y_train, num_classes=10)\n",
    "y_train.shape\n"
   ]
  },
  {
   "cell_type": "code",
   "execution_count": 11,
   "id": "83793bf4",
   "metadata": {},
   "outputs": [
    {
     "name": "stdout",
     "output_type": "stream",
     "text": [
      "0    1\n",
      "1    0\n",
      "2    1\n",
      "3    4\n",
      "4    0\n",
      "Name: label, dtype: int64\n"
     ]
    },
    {
     "data": {
      "text/plain": [
       "array([[0., 1., 0., 0., 0., 0., 0., 0., 0., 0.],\n",
       "       [1., 0., 0., 0., 0., 0., 0., 0., 0., 0.],\n",
       "       [0., 1., 0., 0., 0., 0., 0., 0., 0., 0.],\n",
       "       [0., 0., 0., 0., 1., 0., 0., 0., 0., 0.],\n",
       "       [1., 0., 0., 0., 0., 0., 0., 0., 0., 0.]], dtype=float32)"
      ]
     },
     "execution_count": 11,
     "metadata": {},
     "output_type": "execute_result"
    }
   ],
   "source": [
    "print(train['label'].head())\n",
    "y_train[0:5,:]"
   ]
  },
  {
   "cell_type": "code",
   "execution_count": 12,
   "id": "50b91b4d",
   "metadata": {},
   "outputs": [],
   "source": [
    "from sklearn.model_selection import train_test_split\n",
    "X_train, X_cv, y_train, y_cv = train_test_split(X_train, y_train, test_size = 0.1, random_state=42)"
   ]
  },
  {
   "cell_type": "code",
   "execution_count": 13,
   "id": "0359580c",
   "metadata": {},
   "outputs": [
    {
     "data": {
      "image/png": "[encoded data removed]",
      "text/plain": [
       "<Figure size 640x480 with 1 Axes>"
      ]
     },
     "metadata": {},
     "output_type": "display_data"
    }
   ],
   "source": [
    "plt.imshow(X_train[1][:,:,0])\n",
    "plt.title(y_train[1].argmax());"
   ]
  },
  {
   "cell_type": "code",
   "execution_count": 14,
   "id": "a574de0f",
   "metadata": {},
   "outputs": [],
   "source": [
    "from keras.layers import Input,InputLayer, Dense, Activation, ZeroPadding2D, BatchNormalization, Flatten, Conv2D\n",
    "from keras.layers import AveragePooling2D, MaxPooling2D, Dropout\n",
    "from keras.models import Sequential,Model\n",
    "from keras.optimizers import SGD\n",
    "from keras.callbacks import ModelCheckpoint,LearningRateScheduler\n",
    "import keras\n",
    "from keras import backend as K"
   ]
  },
  {
   "cell_type": "code",
   "execution_count": 15,
   "id": "20d518c9",
   "metadata": {},
   "outputs": [
    {
     "name": "stdout",
     "output_type": "stream",
     "text": [
      "Model: \"Predict\"\n",
      "_________________________________________________________________\n",
      " Layer (type)                Output Shape              Param #   \n",
      "=================================================================\n",
      " input_1 (InputLayer)        [(None, 28, 28, 1)]       0         \n",
      "                                                                 \n",
      " layer_conv1 (Conv2D)        (None, 28, 28, 64)        640       \n",
      "                                                                 \n",
      " batch_normalization (Batch  (None, 28, 28, 64)        256       \n",
      " Normalization)                                                  \n",
      "                                                                 \n",
      " activation (Activation)     (None, 28, 28, 64)        0         \n",
      "                                                                 \n",
      " maxPool1 (MaxPooling2D)     (None, 14, 14, 64)        0         \n",
      "                                                                 \n",
      " layer_conv2 (Conv2D)        (None, 14, 14, 32)        18464     \n",
      "                                                                 \n",
      " batch_normalization_1 (Bat  (None, 14, 14, 32)        128       \n",
      " chNormalization)                                                \n",
      "                                                                 \n",
      " activation_1 (Activation)   (None, 14, 14, 32)        0         \n",
      "                                                                 \n",
      " maxPool2 (MaxPooling2D)     (None, 7, 7, 32)          0         \n",
      "                                                                 \n",
      " conv3 (Conv2D)              (None, 7, 7, 32)          9248      \n",
      "                                                                 \n",
      " batch_normalization_2 (Bat  (None, 7, 7, 32)          128       \n",
      " chNormalization)                                                \n",
      "                                                                 \n",
      " activation_2 (Activation)   (None, 7, 7, 32)          0         \n",
      "                                                                 \n",
      " maxPool3 (MaxPooling2D)     (None, 3, 3, 32)          0         \n",
      "                                                                 \n",
      " flatten (Flatten)           (None, 288)               0         \n",
      "                                                                 \n",
      " fc0 (Dense)                 (None, 64)                18496     \n",
      "                                                                 \n",
      " dropout (Dropout)           (None, 64)                0         \n",
      "                                                                 \n",
      " fc1 (Dense)                 (None, 32)                2080      \n",
      "                                                                 \n",
      " dropout_1 (Dropout)         (None, 32)                0         \n",
      "                                                                 \n",
      " fc2 (Dense)                 (None, 10)                330       \n",
      "                                                                 \n",
      "=================================================================\n",
      "Total params: 49770 (194.41 KB)\n",
      "Trainable params: 49514 (193.41 KB)\n",
      "Non-trainable params: 256 (1.00 KB)\n",
      "_________________________________________________________________\n"
     ]
    }
   ],
   "source": [
    "# Building a CNN model\n",
    "input_shape = (28,28,1)\n",
    "X_input = Input(input_shape)\n",
    "\n",
    "# layer 1\n",
    "x = Conv2D(64,(3,3),strides=(1,1),name='layer_conv1',padding='same')(X_input)\n",
    "x = BatchNormalization()(x)\n",
    "x = Activation('relu')(x)\n",
    "x = MaxPooling2D((2,2),name='maxPool1')(x)\n",
    "# layer 2\n",
    "x = Conv2D(32,(3,3),strides=(1,1),name='layer_conv2',padding='same')(x)\n",
    "x = BatchNormalization()(x)\n",
    "x = Activation('relu')(x)\n",
    "x = MaxPooling2D((2,2),name='maxPool2')(x)\n",
    "# layer 3\n",
    "x = Conv2D(32,(3,3),strides=(1,1),name='conv3',padding='same')(x)\n",
    "x = BatchNormalization()(x)\n",
    "x = Activation('relu')(x)\n",
    "x = MaxPooling2D((2,2), name='maxPool3')(x)\n",
    "# fc\n",
    "x = Flatten()(x)\n",
    "x = Dense(64,activation ='relu',name='fc0')(x)\n",
    "x = Dropout(0.25)(x)\n",
    "x = Dense(32,activation ='relu',name='fc1')(x)\n",
    "x = Dropout(0.25)(x)\n",
    "x = Dense(10,activation ='softmax',name='fc2')(x)\n",
    "\n",
    "conv_model = Model(inputs=X_input, outputs=x, name='Predict')\n",
    "conv_model.summary()"
   ]
  },
  {
   "cell_type": "code",
   "execution_count": 16,
   "id": "e396f010",
   "metadata": {},
   "outputs": [
    {
     "name": "stdout",
     "output_type": "stream",
     "text": [
      "Epoch 1/10\n",
      "378/378 [==============================] - 20s 50ms/step - loss: 0.5664 - accuracy: 0.8190 - val_loss: 2.8634 - val_accuracy: 0.2212\n",
      "Epoch 2/10\n",
      "378/378 [==============================] - 19s 49ms/step - loss: 0.1484 - accuracy: 0.9585 - val_loss: 0.0510 - val_accuracy: 0.9860\n",
      "Epoch 3/10\n",
      "378/378 [==============================] - 18s 48ms/step - loss: 0.1016 - accuracy: 0.9722 - val_loss: 0.0678 - val_accuracy: 0.9817\n",
      "Epoch 4/10\n",
      "378/378 [==============================] - 18s 48ms/step - loss: 0.0810 - accuracy: 0.9782 - val_loss: 0.0633 - val_accuracy: 0.9826\n",
      "Epoch 5/10\n",
      "378/378 [==============================] - 18s 48ms/step - loss: 0.0705 - accuracy: 0.9811 - val_loss: 0.0638 - val_accuracy: 0.9836\n",
      "Epoch 6/10\n",
      "378/378 [==============================] - 19s 50ms/step - loss: 0.0604 - accuracy: 0.9840 - val_loss: 0.0519 - val_accuracy: 0.9845\n",
      "Epoch 7/10\n",
      "378/378 [==============================] - 19s 49ms/step - loss: 0.0541 - accuracy: 0.9854 - val_loss: 0.0410 - val_accuracy: 0.9886\n",
      "Epoch 8/10\n",
      "378/378 [==============================] - 19s 50ms/step - loss: 0.0475 - accuracy: 0.9872 - val_loss: 0.0457 - val_accuracy: 0.9869\n",
      "Epoch 9/10\n",
      "378/378 [==============================] - 19s 50ms/step - loss: 0.0445 - accuracy: 0.9871 - val_loss: 0.0385 - val_accuracy: 0.9895\n",
      "Epoch 10/10\n",
      "378/378 [==============================] - 19s 50ms/step - loss: 0.0373 - accuracy: 0.9888 - val_loss: 0.0458 - val_accuracy: 0.9890\n"
     ]
    },
    {
     "data": {
      "text/plain": [
       "<keras.src.callbacks.History at 0x157c8ae1b90>"
      ]
     },
     "execution_count": 16,
     "metadata": {},
     "output_type": "execute_result"
    }
   ],
   "source": [
    "# Adam optimizer\n",
    "conv_model.compile(optimizer='adam',loss='categorical_crossentropy',metrics=['accuracy'])\n",
    "conv_model.fit(X_train, y_train, epochs=10, batch_size=100, validation_data=(X_cv,y_cv))\n"
   ]
  },
  {
   "cell_type": "code",
   "execution_count": 18,
   "id": "a42d492e",
   "metadata": {},
   "outputs": [
    {
     "name": "stdout",
     "output_type": "stream",
     "text": [
      "Epoch 1/30\n",
      "1182/1182 [==============================] - 22s 18ms/step - loss: 0.0302 - accuracy: 0.9912 - val_loss: 0.0294 - val_accuracy: 0.9919\n",
      "Epoch 2/30\n",
      "1182/1182 [==============================] - 21s 18ms/step - loss: 0.0257 - accuracy: 0.9926 - val_loss: 0.0274 - val_accuracy: 0.9919\n",
      "Epoch 3/30\n",
      "1182/1182 [==============================] - 22s 18ms/step - loss: 0.0242 - accuracy: 0.9935 - val_loss: 0.0268 - val_accuracy: 0.9929\n",
      "Epoch 4/30\n",
      "1182/1182 [==============================] - 22s 19ms/step - loss: 0.0249 - accuracy: 0.9930 - val_loss: 0.0268 - val_accuracy: 0.9924\n",
      "Epoch 5/30\n",
      "1182/1182 [==============================] - 21s 18ms/step - loss: 0.0232 - accuracy: 0.9930 - val_loss: 0.0261 - val_accuracy: 0.9921\n",
      "Epoch 6/30\n",
      "1182/1182 [==============================] - 23s 19ms/step - loss: 0.0207 - accuracy: 0.9946 - val_loss: 0.0262 - val_accuracy: 0.9924\n",
      "Epoch 7/30\n",
      "1182/1182 [==============================] - 21s 18ms/step - loss: 0.0212 - accuracy: 0.9940 - val_loss: 0.0260 - val_accuracy: 0.9924\n",
      "Epoch 8/30\n",
      "1182/1182 [==============================] - 22s 18ms/step - loss: 0.0220 - accuracy: 0.9941 - val_loss: 0.0255 - val_accuracy: 0.9926\n",
      "Epoch 9/30\n",
      "1182/1182 [==============================] - 22s 18ms/step - loss: 0.0218 - accuracy: 0.9941 - val_loss: 0.0255 - val_accuracy: 0.9921\n",
      "Epoch 10/30\n",
      "1182/1182 [==============================] - 22s 19ms/step - loss: 0.0214 - accuracy: 0.9939 - val_loss: 0.0256 - val_accuracy: 0.9921\n",
      "Epoch 11/30\n",
      "1182/1182 [==============================] - 22s 19ms/step - loss: 0.0194 - accuracy: 0.9947 - val_loss: 0.0257 - val_accuracy: 0.9924\n",
      "Epoch 12/30\n",
      "1182/1182 [==============================] - 22s 19ms/step - loss: 0.0187 - accuracy: 0.9948 - val_loss: 0.0249 - val_accuracy: 0.9931\n",
      "Epoch 13/30\n",
      "1182/1182 [==============================] - 22s 19ms/step - loss: 0.0198 - accuracy: 0.9946 - val_loss: 0.0248 - val_accuracy: 0.9921\n",
      "Epoch 14/30\n",
      "1182/1182 [==============================] - 22s 18ms/step - loss: 0.0188 - accuracy: 0.9948 - val_loss: 0.0246 - val_accuracy: 0.9929\n",
      "Epoch 15/30\n",
      "1182/1182 [==============================] - 22s 18ms/step - loss: 0.0195 - accuracy: 0.9947 - val_loss: 0.0246 - val_accuracy: 0.9931\n",
      "Epoch 16/30\n",
      "1182/1182 [==============================] - 22s 18ms/step - loss: 0.0179 - accuracy: 0.9949 - val_loss: 0.0248 - val_accuracy: 0.9931\n",
      "Epoch 17/30\n",
      "1182/1182 [==============================] - 22s 19ms/step - loss: 0.0185 - accuracy: 0.9947 - val_loss: 0.0247 - val_accuracy: 0.9936\n",
      "Epoch 18/30\n",
      "1182/1182 [==============================] - 21s 18ms/step - loss: 0.0187 - accuracy: 0.9946 - val_loss: 0.0247 - val_accuracy: 0.9931\n",
      "Epoch 19/30\n",
      "1182/1182 [==============================] - 21s 18ms/step - loss: 0.0174 - accuracy: 0.9953 - val_loss: 0.0246 - val_accuracy: 0.9931\n",
      "Epoch 20/30\n",
      "1182/1182 [==============================] - 22s 18ms/step - loss: 0.0176 - accuracy: 0.9951 - val_loss: 0.0248 - val_accuracy: 0.9926\n",
      "Epoch 21/30\n",
      "1182/1182 [==============================] - 22s 18ms/step - loss: 0.0165 - accuracy: 0.9954 - val_loss: 0.0247 - val_accuracy: 0.9926\n",
      "Epoch 22/30\n",
      "1182/1182 [==============================] - 22s 19ms/step - loss: 0.0179 - accuracy: 0.9953 - val_loss: 0.0245 - val_accuracy: 0.9931\n",
      "Epoch 23/30\n",
      "1182/1182 [==============================] - 22s 19ms/step - loss: 0.0193 - accuracy: 0.9944 - val_loss: 0.0247 - val_accuracy: 0.9931\n",
      "Epoch 24/30\n",
      "1182/1182 [==============================] - 22s 18ms/step - loss: 0.0168 - accuracy: 0.9955 - val_loss: 0.0247 - val_accuracy: 0.9931\n",
      "Epoch 25/30\n",
      "1182/1182 [==============================] - 22s 19ms/step - loss: 0.0189 - accuracy: 0.9948 - val_loss: 0.0243 - val_accuracy: 0.9933\n",
      "Epoch 26/30\n",
      "1182/1182 [==============================] - 21s 18ms/step - loss: 0.0177 - accuracy: 0.9952 - val_loss: 0.0245 - val_accuracy: 0.9933\n",
      "Epoch 27/30\n",
      "1182/1182 [==============================] - 20s 17ms/step - loss: 0.0169 - accuracy: 0.9950 - val_loss: 0.0241 - val_accuracy: 0.9926\n",
      "Epoch 28/30\n",
      "1182/1182 [==============================] - 20s 17ms/step - loss: 0.0182 - accuracy: 0.9944 - val_loss: 0.0238 - val_accuracy: 0.9938\n",
      "Epoch 29/30\n",
      "1182/1182 [==============================] - 21s 18ms/step - loss: 0.0169 - accuracy: 0.9953 - val_loss: 0.0238 - val_accuracy: 0.9938\n",
      "Epoch 30/30\n",
      "1182/1182 [==============================] - 21s 18ms/step - loss: 0.0170 - accuracy: 0.9953 - val_loss: 0.0240 - val_accuracy: 0.9931\n"
     ]
    },
    {
     "data": {
      "text/plain": [
       "<keras.src.callbacks.History at 0x157c8c3c550>"
      ]
     },
     "execution_count": 18,
     "metadata": {},
     "output_type": "execute_result"
    }
   ],
   "source": [
    "# SGD optimizer\n",
    "from tensorflow.keras.optimizers import SGD\n",
    "\n",
    "sgd = SGD(learning_rate=0.0005, momentum=0.5, weight_decay=0.0, nesterov=False) \n",
    "conv_model.compile(optimizer=sgd, loss='categorical_crossentropy', metrics=['accuracy'])\n",
    "conv_model.fit(X_train, y_train, epochs=30, validation_data=(X_cv, y_cv))\n"
   ]
  },
  {
   "cell_type": "code",
   "execution_count": 19,
   "id": "0f4de668",
   "metadata": {},
   "outputs": [
    {
     "name": "stdout",
     "output_type": "stream",
     "text": [
      "875/875 [==============================] - 4s 5ms/step\n"
     ]
    }
   ],
   "source": [
    "y_pred = conv_model.predict(X_test)\n",
    "y_pred = np.argmax(y_pred,axis=1)\n",
    "my_submission = pd.DataFrame({'ImageId': list(range(1, len(y_pred)+1)), 'Label': y_pred})\n",
    "my_submission.to_csv('submission.csv', index=False)"
   ]
  },
  {
   "cell_type": "code",
   "execution_count": null,
   "id": "a0154e7e",
   "metadata": {},
   "outputs": [],
   "source": []
  }
 ],
 "metadata": {
  "kernelspec": {
   "display_name": "Python 3 (ipykernel)",
   "language": "python",
   "name": "python3"
  },
  "language_info": {
   "codemirror_mode": {
    "name": "ipython",
    "version": 3
   },
   "file_extension": ".py",
   "mimetype": "text/x-python",
   "name": "python",
   "nbconvert_exporter": "python",
   "pygments_lexer": "ipython3",
   "version": "3.11.3"
  }
 },
 "nbformat": 4,
 "nbformat_minor": 5
}
