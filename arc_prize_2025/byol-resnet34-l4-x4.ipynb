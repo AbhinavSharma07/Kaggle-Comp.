{
 "cells": [
  {
   "cell_type": "code",
   "execution_count": 1,
   "id": "e77fc108",
   "metadata": {
    "_cell_guid": "659382e6-d644-48dd-bfb1-ace78f1b6f27",
    "_uuid": "aa0eaf8f-06b6-43b4-91a0-9c049ddcc982",
    "collapsed": false,
    "execution": {
     "iopub.execute_input": "2025-07-20T10:21:46.812366Z",
     "iopub.status.busy": "2025-07-20T10:21:46.811875Z",
     "iopub.status.idle": "2025-07-20T10:21:58.452978Z",
     "shell.execute_reply": "2025-07-20T10:21:58.452405Z"
    },
    "jupyter": {
     "outputs_hidden": false
    },
    "papermill": {
     "duration": 11.646125,
     "end_time": "2025-07-20T10:21:58.454295",
     "exception": false,
     "start_time": "2025-07-20T10:21:46.808170",
     "status": "completed"
    },
    "tags": []
   },
   "outputs": [],
   "source": [
    "import os\n",
    "import torch\n",
    "import torch.nn as nn\n",
    "import torch.nn.functional as F\n",
    "import torchvision.models as models\n",
    "import torchvision.transforms as transforms\n",
    "from torch.utils.data import DataLoader, Dataset, random_split\n",
    "from torch.nn.parallel import DataParallel\n",
    "from torch.cuda.amp import autocast, GradScaler\n",
    "from PIL import Image\n",
    "import matplotlib.pyplot as plt\n",
    "import numpy as np\n",
    "from sklearn.metrics import confusion_matrix\n",
    "import seaborn as sns\n",
    "from collections import defaultdict\n",
    "import random\n",
    "from tqdm import tqdm\n",
    "import json\n",
    "\n",
    "import copy\n",
    "\n",
    "def serialize_wrong_predictions(wrong_preds):\n",
    "    \"\"\"Convert tuple keys to string keys for JSON serialization\"\"\"\n",
    "    serialized = {}\n",
    "    for (true_label, pred_label), count in wrong_preds.items():\n",
    "        key = f\"{true_label}_{pred_label}\"  # Convert tuple to string\n",
    "        serialized[key] = count\n",
    "    return serialized\n",
    "\n",
    "def deserialize_wrong_predictions(serialized_wrong_preds):\n",
    "    \"\"\"Convert string keys back to tuple keys\"\"\"\n",
    "    deserialized = {}\n",
    "    for key, count in serialized_wrong_preds.items():\n",
    "        true_label, pred_label = map(int, key.split('_'))\n",
    "        deserialized[(true_label, pred_label)] = count\n",
    "    return deserialized"
   ]
  },
  {
   "cell_type": "code",
   "execution_count": 2,
   "id": "f3ce3516",
   "metadata": {
    "execution": {
     "iopub.execute_input": "2025-07-20T10:21:58.460881Z",
     "iopub.status.busy": "2025-07-20T10:21:58.460589Z",
     "iopub.status.idle": "2025-07-20T10:21:58.474828Z",
     "shell.execute_reply": "2025-07-20T10:21:58.474342Z"
    },
    "papermill": {
     "duration": 0.01831,
     "end_time": "2025-07-20T10:21:58.475676",
     "exception": false,
     "start_time": "2025-07-20T10:21:58.457366",
     "status": "completed"
    },
    "tags": []
   },
   "outputs": [],
   "source": [
    "class MLP(nn.Module):\n",
    "    def __init__(self, dim, projection_size, hidden_size=4096):\n",
    "        super().__init__()\n",
    "        self.net = nn.Sequential(\n",
    "            nn.Linear(dim, hidden_size),\n",
    "            nn.BatchNorm1d(hidden_size),\n",
    "            nn.ReLU(inplace=True),\n",
    "            nn.Linear(hidden_size, projection_size)\n",
    "        )\n",
    "    \n",
    "    def forward(self, x):\n",
    "        return self.net(x)\n",
    "\n",
    "class BYOL(nn.Module):\n",
    "    def __init__(self, net, image_size, hidden_layer='avgpool', projection_size=256, \n",
    "                 projection_hidden_size=4096, moving_average_decay=0.996):\n",
    "        super().__init__()\n",
    "        self.moving_average_decay = moving_average_decay\n",
    "        \n",
    "        # Handle different encoder types\n",
    "        if hasattr(net, 'feature_dim'):\n",
    "            feature_dim = net.feature_dim\n",
    "            self.online_encoder = net\n",
    "        else:\n",
    "            # For standard models (ResNet, etc.)\n",
    "            if hasattr(net, 'fc'):\n",
    "                feature_dim = net.fc.in_features\n",
    "                net.fc = nn.Identity()\n",
    "            else:\n",
    "                feature_dim = 512  # fallback\n",
    "            self.online_encoder = net\n",
    "        \n",
    "        # Online network components\n",
    "        self.online_projector = MLP(feature_dim, projection_size, projection_hidden_size)\n",
    "        self.online_predictor = MLP(projection_size, projection_size, projection_hidden_size)\n",
    "        \n",
    "        # Target network - create copies\n",
    "        self.target_encoder = None\n",
    "        self.target_projector = None\n",
    "        self.update_target_network(tau=1.0)  # Initialize target network\n",
    "    \n",
    "    @torch.no_grad()\n",
    "    def update_target_network(self, tau=None):\n",
    "        \"\"\"\n",
    "        Update target network using exponential moving average.\n",
    "        If tau=1.0, this initializes the target network.\n",
    "        \"\"\"\n",
    "        if tau is None:\n",
    "            tau = self.moving_average_decay\n",
    "            \n",
    "        if self.target_encoder is None:\n",
    "            # Initialize target encoder and projector\n",
    "            self.target_encoder = copy.deepcopy(self.online_encoder)\n",
    "            self.target_projector = copy.deepcopy(self.online_projector)\n",
    "            \n",
    "            # Freeze target network parameters\n",
    "            for param in self.target_encoder.parameters():\n",
    "                param.requires_grad = False\n",
    "            for param in self.target_projector.parameters():\n",
    "                param.requires_grad = False\n",
    "            \n",
    "            # Set BatchNorm layers in target network to eval mode\n",
    "            for module in self.target_encoder.modules():\n",
    "                if isinstance(module, (nn.BatchNorm1d, nn.BatchNorm2d)):\n",
    "                    module.eval()\n",
    "            for module in self.target_projector.modules():\n",
    "                if isinstance(module, (nn.BatchNorm1d, nn.BatchNorm2d)):\n",
    "                    module.eval()\n",
    "        else:\n",
    "            # EMA update\n",
    "            for online_params, target_params in zip(self.online_encoder.parameters(), self.target_encoder.parameters()):\n",
    "                target_params.data = tau * target_params.data + (1 - tau) * online_params.data\n",
    "            \n",
    "            for online_params, target_params in zip(self.online_projector.parameters(), self.target_projector.parameters()):\n",
    "                target_params.data = tau * target_params.data + (1 - tau) * online_params.data\n",
    "    \n",
    "    def update_moving_average(self):\n",
    "        \"\"\"\n",
    "        Update the target network using exponential moving average.\n",
    "        This method provides compatibility with the chat implementation.\n",
    "        \"\"\"\n",
    "        self.update_target_network()\n",
    "    \n",
    "    def _loss_fn(self, x, y):\n",
    "        \"\"\"\n",
    "        BYOL loss function: negative cosine similarity\n",
    "        \"\"\"\n",
    "        x = F.normalize(x, dim=-1, p=2)\n",
    "        y = F.normalize(y, dim=-1, p=2)\n",
    "        # Calculate cosine similarity and return scalar\n",
    "        cosine_sim = (x * y).sum(dim=-1)  # Shape: (batch_size,)\n",
    "        loss = 2 - 2 * cosine_sim  # Shape: (batch_size,)\n",
    "        return loss.mean()  # Return scalar by taking mean across batch\n",
    "    \n",
    "    def forward(self, im_1, im_2):\n",
    "        \"\"\"\n",
    "        Forward pass for BYOL training.\n",
    "        Can return either loss (chat implementation style) or components (pasted implementation style).\n",
    "        \"\"\"\n",
    "        # Online network forward pass\n",
    "        f_o1 = self.online_encoder(im_1)\n",
    "        f_o2 = self.online_encoder(im_2)\n",
    "        \n",
    "        z_o1 = self.online_projector(f_o1)\n",
    "        z_o2 = self.online_projector(f_o2)\n",
    "        \n",
    "        p_o1 = self.online_predictor(z_o1)\n",
    "        p_o2 = self.online_predictor(z_o2)\n",
    "        \n",
    "        # Target network forward pass (no gradient)\n",
    "        with torch.no_grad():\n",
    "            f_t1 = self.target_encoder(im_1)\n",
    "            f_t2 = self.target_encoder(im_2)\n",
    "            \n",
    "            z_t1 = self.target_projector(f_t1)\n",
    "            z_t2 = self.target_projector(f_t2)\n",
    "        \n",
    "        # Calculate loss for compatibility with chat implementation\n",
    "        loss_1 = self._loss_fn(p_o1, z_t2.detach())\n",
    "        loss_2 = self._loss_fn(p_o2, z_t1.detach())\n",
    "        loss = (loss_1 + loss_2) / 2.0\n",
    "        \n",
    "        # Return loss for compatibility with chat implementation\n",
    "        return loss\n",
    "    \n",
    "    def forward_features(self, x1, x2):\n",
    "        \"\"\"\n",
    "        Forward pass that returns all components (original pasted implementation style).\n",
    "        Use this for more detailed analysis or custom loss computation.\n",
    "        \"\"\"\n",
    "        # Online network forward pass\n",
    "        f_o1 = self.online_encoder(x1)\n",
    "        f_o2 = self.online_encoder(x2)\n",
    "        \n",
    "        z_o1 = self.online_projector(f_o1)\n",
    "        z_o2 = self.online_projector(f_o2)\n",
    "        \n",
    "        p_o1 = self.online_predictor(z_o1)\n",
    "        p_o2 = self.online_predictor(z_o2)\n",
    "        \n",
    "        # Target network forward pass (no gradient)\n",
    "        with torch.no_grad():\n",
    "            f_t1 = self.target_encoder(x1)\n",
    "            f_t2 = self.target_encoder(x2)\n",
    "            \n",
    "            z_t1 = self.target_projector(f_t1)\n",
    "            z_t2 = self.target_projector(f_t2)\n",
    "        \n",
    "        return p_o1, p_o2, z_t1.detach(), z_t2.detach(), f_o1, f_o2\n",
    "    \n",
    "    def get_features(self, x):\n",
    "        \"\"\"\n",
    "        Extract features from the encoder (useful for downstream tasks).\n",
    "        \"\"\"\n",
    "        return self.online_encoder(x)"
   ]
  },
  {
   "cell_type": "code",
   "execution_count": 3,
   "id": "c82adc9e",
   "metadata": {
    "execution": {
     "iopub.execute_input": "2025-07-20T10:21:58.481336Z",
     "iopub.status.busy": "2025-07-20T10:21:58.480989Z",
     "iopub.status.idle": "2025-07-20T10:21:58.616987Z",
     "shell.execute_reply": "2025-07-20T10:21:58.616442Z"
    },
    "papermill": {
     "duration": 0.139771,
     "end_time": "2025-07-20T10:21:58.617927",
     "exception": false,
     "start_time": "2025-07-20T10:21:58.478156",
     "status": "completed"
    },
    "tags": []
   },
   "outputs": [
    {
     "name": "stdout",
     "output_type": "stream",
     "text": [
      "Using device: cuda\n",
      "Number of GPUs available: 4\n"
     ]
    }
   ],
   "source": [
    "# Define device\n",
    "device = torch.device(\"cuda\" if torch.cuda.is_available() else \"cpu\")\n",
    "print(f\"Using device: {device}\")\n",
    "print(f\"Number of GPUs available: {torch.cuda.device_count()}\")\n",
    "\n",
    "# Create directories for outputs\n",
    "os.makedirs('/kaggle/working/models', exist_ok=True)\n",
    "os.makedirs('/kaggle/working/plots', exist_ok=True)\n",
    "os.makedirs('/kaggle/working/metrics', exist_ok=True)"
   ]
  },
  {
   "cell_type": "code",
   "execution_count": 4,
   "id": "bb998136",
   "metadata": {
    "execution": {
     "iopub.execute_input": "2025-07-20T10:21:58.624258Z",
     "iopub.status.busy": "2025-07-20T10:21:58.623869Z",
     "iopub.status.idle": "2025-07-20T10:21:58.629592Z",
     "shell.execute_reply": "2025-07-20T10:21:58.629089Z"
    },
    "papermill": {
     "duration": 0.009762,
     "end_time": "2025-07-20T10:21:58.630467",
     "exception": false,
     "start_time": "2025-07-20T10:21:58.620705",
     "status": "completed"
    },
    "tags": []
   },
   "outputs": [],
   "source": [
    "class BYOLTransform:\n",
    "    def __init__(self, size=224):\n",
    "        def get_transform():\n",
    "            return transforms.Compose([\n",
    "                transforms.RandomResizedCrop(size, scale=(0.08, 1.0)),\n",
    "                transforms.RandomHorizontalFlip(),\n",
    "                transforms.RandomApply([\n",
    "                    transforms.ColorJitter(0.8, 0.8, 0.8, 0.2)\n",
    "                ], p=0.8),\n",
    "                transforms.RandomGrayscale(p=0.2),\n",
    "                transforms.ToTensor(),\n",
    "                transforms.Normalize(mean=[0.485, 0.456, 0.406], std=[0.229, 0.224, 0.225]),\n",
    "            ])\n",
    "\n",
    "        self.transform1 = get_transform()\n",
    "        self.transform2 = get_transform()\n",
    "\n",
    "    def __call__(self, x):\n",
    "        return self.transform1(x), self.transform2(x)\n",
    "\n",
    "def get_standard_transforms(size=224):\n",
    "    return transforms.Compose([\n",
    "        transforms.Resize((size, size)),\n",
    "        transforms.RandomCrop(224),\n",
    "        transforms.RandomHorizontalFlip(),\n",
    "        transforms.ColorJitter(brightness=0.2, contrast=0.2, saturation=0.2, hue=0.1),\n",
    "        transforms.ToTensor(),\n",
    "        transforms.Normalize(mean=[0.485, 0.456, 0.406], std=[0.229, 0.224, 0.225])\n",
    "    ])"
   ]
  },
  {
   "cell_type": "code",
   "execution_count": 5,
   "id": "2e66b575",
   "metadata": {
    "execution": {
     "iopub.execute_input": "2025-07-20T10:21:58.636409Z",
     "iopub.status.busy": "2025-07-20T10:21:58.636217Z",
     "iopub.status.idle": "2025-07-20T10:21:58.647847Z",
     "shell.execute_reply": "2025-07-20T10:21:58.647371Z"
    },
    "papermill": {
     "duration": 0.015617,
     "end_time": "2025-07-20T10:21:58.648633",
     "exception": false,
     "start_time": "2025-07-20T10:21:58.633016",
     "status": "completed"
    },
    "tags": []
   },
   "outputs": [],
   "source": [
    "class VGGFace2Dataset(Dataset):\n",
    "    def __init__(self, root_dir, transform=None, max_images=40000):\n",
    "        self.root_dir = root_dir\n",
    "        self.transform = transform\n",
    "        self.image_paths = []\n",
    "        self.labels = []\n",
    "        self.class_to_idx = {}\n",
    "        \n",
    "        # Get all identity folders\n",
    "        identity_folders = sorted([d for d in os.listdir(root_dir) \n",
    "                                 if os.path.isdir(os.path.join(root_dir, d))])\n",
    "        \n",
    "        print(f\"Found {len(identity_folders)} identity folders\")\n",
    "        \n",
    "        # Calculate images per identity to reach approximately max_images total\n",
    "        images_per_identity = max(1, max_images // len(identity_folders))\n",
    "        \n",
    "        total_collected = 0\n",
    "        \n",
    "        for i, identity_folder in enumerate(identity_folders):\n",
    "            if total_collected >= max_images:\n",
    "                break\n",
    "                \n",
    "            self.class_to_idx[identity_folder] = i\n",
    "            identity_path = os.path.join(root_dir, identity_folder)\n",
    "            \n",
    "            # Get all images in this identity folder\n",
    "            identity_images = []\n",
    "            for img_name in os.listdir(identity_path):\n",
    "                if img_name.lower().endswith(('.png', '.jpg', '.jpeg')):\n",
    "                    identity_images.append(os.path.join(identity_path, img_name))\n",
    "            \n",
    "            # Randomly sample images_per_identity images from this identity\n",
    "            # (or all images if fewer than images_per_identity available)\n",
    "            num_to_take = min(images_per_identity, len(identity_images), \n",
    "                            max_images - total_collected)\n",
    "            \n",
    "            if num_to_take > 0:\n",
    "                sampled_images = random.sample(identity_images, num_to_take)\n",
    "                \n",
    "                for img_path in sampled_images:\n",
    "                    self.image_paths.append(img_path)\n",
    "                    self.labels.append(i)\n",
    "                    total_collected += 1\n",
    "                    \n",
    "                    if total_collected >= max_images:\n",
    "                        break\n",
    "        \n",
    "        print(f\"VGGFace2 collected {total_collected} images from {len(self.class_to_idx)} identities\")\n",
    "        print(f\"Average images per identity: {total_collected / len(self.class_to_idx):.1f}\")\n",
    "    \n",
    "    def __len__(self):\n",
    "        return len(self.image_paths)\n",
    "    \n",
    "    def __getitem__(self, idx):\n",
    "        img_path = self.image_paths[idx]\n",
    "        try:\n",
    "            image = Image.open(img_path).convert('RGB')\n",
    "        except Exception as e:\n",
    "            print(f\"Error loading image {img_path}: {e}\")\n",
    "            # Return a black image as fallback\n",
    "            image = Image.new('RGB', (224, 224), (0, 0, 0))\n",
    "        \n",
    "        label = self.labels[idx]\n",
    "        \n",
    "        if self.transform:\n",
    "            image = self.transform(image)\n",
    "        \n",
    "        return image, label\n",
    "\n",
    "class RAFDBDataset(Dataset):\n",
    "    def __init__(self, root_dir, transform=None):\n",
    "        self.root_dir = root_dir\n",
    "        self.transform = transform\n",
    "        self.image_paths = []\n",
    "        self.labels = []\n",
    "        self.class_to_idx = {}\n",
    "        \n",
    "        # Find all image paths and assign labels\n",
    "        classes = sorted([d for d in os.listdir(root_dir) if os.path.isdir(os.path.join(root_dir, d))])\n",
    "        for i, class_name in enumerate(classes):\n",
    "            self.class_to_idx[class_name] = i\n",
    "            class_dir = os.path.join(root_dir, class_name)\n",
    "            for img_name in os.listdir(class_dir):\n",
    "                if img_name.lower().endswith(('.png', '.jpg', '.jpeg')):\n",
    "                    self.image_paths.append(os.path.join(class_dir, img_name))\n",
    "                    self.labels.append(i)\n",
    "        \n",
    "        print(f\"RAF-DB Found {len(self.class_to_idx)} classes: {list(self.class_to_idx.keys())}\")\n",
    "        print(f\"RAF-DB Total images: {len(self.image_paths)}\")\n",
    "    \n",
    "    def __len__(self):\n",
    "        return len(self.image_paths)\n",
    "    \n",
    "    def __getitem__(self, idx):\n",
    "        img_path = self.image_paths[idx]\n",
    "        try:\n",
    "            image = Image.open(img_path).convert('RGB')\n",
    "        except Exception as e:\n",
    "            print(f\"Error loading image {img_path}: {e}\")\n",
    "            # Return a black image as fallback\n",
    "            image = Image.new('RGB', (224, 224), (0, 0, 0))\n",
    "        \n",
    "        label = self.labels[idx]\n",
    "        \n",
    "        if self.transform:\n",
    "            image = self.transform(image)\n",
    "        \n",
    "        return image, label"
   ]
  },
  {
   "cell_type": "code",
   "execution_count": 6,
   "id": "1011f774",
   "metadata": {
    "execution": {
     "iopub.execute_input": "2025-07-20T10:21:58.654512Z",
     "iopub.status.busy": "2025-07-20T10:21:58.654255Z",
     "iopub.status.idle": "2025-07-20T10:21:58.663174Z",
     "shell.execute_reply": "2025-07-20T10:21:58.662679Z"
    },
    "papermill": {
     "duration": 0.012832,
     "end_time": "2025-07-20T10:21:58.664014",
     "exception": false,
     "start_time": "2025-07-20T10:21:58.651182",
     "status": "completed"
    },
    "tags": []
   },
   "outputs": [],
   "source": [
    "def train_byol(model, train_loader, optimizer, scheduler, epochs, device):\n",
    "    model.train()\n",
    "    from torch.cuda.amp import GradScaler, autocast\n",
    "    scaler = GradScaler()\n",
    "    \n",
    "    train_losses = []\n",
    "    train_accuracies = []\n",
    "    learning_rates = []\n",
    "    \n",
    "    for epoch in range(epochs):\n",
    "        running_loss = 0.0\n",
    "        total_cosine_sim = 0.0\n",
    "        num_batches = 0\n",
    "        \n",
    "        for i, (images, _) in enumerate(train_loader):\n",
    "            try:\n",
    "                # Get the two views of each image\n",
    "                if isinstance(images, list):\n",
    "                    im_1 = images[0].to(device, non_blocking=True)\n",
    "                    im_2 = images[1].to(device, non_blocking=True)\n",
    "                else:\n",
    "                    im_1 = images.to(device, non_blocking=True)\n",
    "                    im_2 = images.to(device, non_blocking=True)\n",
    "                \n",
    "                # Zero the gradients\n",
    "                optimizer.zero_grad()\n",
    "                \n",
    "                # Forward pass with mixed precision\n",
    "                with autocast():\n",
    "                    loss = model(im_1, im_2)\n",
    "                    \n",
    "                    # Ensure loss is a scalar\n",
    "                    if loss.dim() > 0:\n",
    "                        loss = loss.mean()\n",
    "                    \n",
    "                    # Get representations for accuracy calculation\n",
    "                    with torch.no_grad():\n",
    "                        # Handle DataParallel wrapper\n",
    "                        if isinstance(model, torch.nn.DataParallel):\n",
    "                            repr_1 = model.module.online_encoder(im_1)\n",
    "                            repr_2 = model.module.online_encoder(im_2)\n",
    "                        else:\n",
    "                            repr_1 = model.online_encoder(im_1)\n",
    "                            repr_2 = model.online_encoder(im_2)\n",
    "                        \n",
    "                        # Calculate cosine similarity for accuracy metric\n",
    "                        repr_1_norm = F.normalize(repr_1, dim=-1, p=2)\n",
    "                        repr_2_norm = F.normalize(repr_2, dim=-1, p=2)\n",
    "                        cosine_sim = (repr_1_norm * repr_2_norm).sum(dim=-1).mean()\n",
    "                        total_cosine_sim += cosine_sim.item()\n",
    "                        num_batches += 1\n",
    "                \n",
    "                # Backward pass with mixed precision\n",
    "                scaler.scale(loss).backward()\n",
    "                scaler.step(optimizer)\n",
    "                scaler.update()\n",
    "                \n",
    "                # Update target network\n",
    "                if isinstance(model, torch.nn.DataParallel):\n",
    "                    model.module.update_moving_average()\n",
    "                else:\n",
    "                    model.update_moving_average()\n",
    "                    \n",
    "                # Update statistics\n",
    "                running_loss += loss.item()\n",
    "                \n",
    "                # Print progress every 100 batches\n",
    "                if i % 100 == 0:\n",
    "                    print(f'Epoch {epoch+1}, Batch {i}, Loss: {loss.item():.4f}')\n",
    "                    \n",
    "            except Exception as e:\n",
    "                print(f\"Error in batch {i}: {e}\")\n",
    "                continue\n",
    "        \n",
    "        # Step the scheduler after each epoch\n",
    "        scheduler.step()\n",
    "        current_lr = scheduler.get_last_lr()[0]\n",
    "        learning_rates.append(current_lr)\n",
    "        \n",
    "        epoch_loss = running_loss / len(train_loader)\n",
    "        epoch_accuracy = (total_cosine_sim / num_batches) * 100 if num_batches > 0 else 0\n",
    "        train_losses.append(epoch_loss)\n",
    "        train_accuracies.append(epoch_accuracy)\n",
    "        \n",
    "        print(f\"Epoch {epoch+1}/{epochs}, Loss: {epoch_loss:.4f}, Accuracy: {epoch_accuracy:.2f}%, LR: {current_lr:.6f}\")\n",
    "    \n",
    "    return train_losses, train_accuracies, learning_rates"
   ]
  },
  {
   "cell_type": "code",
   "execution_count": 7,
   "id": "ebb7f05e",
   "metadata": {
    "execution": {
     "iopub.execute_input": "2025-07-20T10:21:58.670056Z",
     "iopub.status.busy": "2025-07-20T10:21:58.669788Z",
     "iopub.status.idle": "2025-07-20T10:21:58.682845Z",
     "shell.execute_reply": "2025-07-20T10:21:58.682377Z"
    },
    "papermill": {
     "duration": 0.017038,
     "end_time": "2025-07-20T10:21:58.683620",
     "exception": false,
     "start_time": "2025-07-20T10:21:58.666582",
     "status": "completed"
    },
    "tags": []
   },
   "outputs": [],
   "source": [
    "class FinetuneModel(nn.Module):\n",
    "    def __init__(self, byol_model, num_classes):\n",
    "        super(FinetuneModel, self).__init__()\n",
    "        self.encoder = byol_model.online_encoder\n",
    "        \n",
    "        # Get the feature dimension from the encoder\n",
    "        # Handle case where fc layer is already replaced with Identity\n",
    "        if hasattr(self.encoder, 'fc') and hasattr(self.encoder.fc, 'in_features'):\n",
    "            feature_dim = self.encoder.fc.in_features\n",
    "            self.encoder.fc = nn.Identity()\n",
    "        else:\n",
    "            feature_dim = self._get_feature_dim()\n",
    "            \n",
    "            # Ensure fc layer is Identity if it's not already\n",
    "            if hasattr(self.encoder, 'fc') and not isinstance(self.encoder.fc, nn.Identity):\n",
    "                self.encoder.fc = nn.Identity()\n",
    "        \n",
    "        self.fc = nn.Linear(feature_dim, num_classes)\n",
    "    \n",
    "    def _get_feature_dim(self):\n",
    "        \"\"\"Dynamically determine the feature dimension by doing a forward pass\"\"\"\n",
    "        # Create a dummy input to determine feature dimension\n",
    "        dummy_input = torch.randn(1, 3, 224, 224)\n",
    "        if torch.cuda.is_available():\n",
    "            dummy_input = dummy_input.cuda()\n",
    "            self.encoder = self.encoder.cuda()\n",
    "        \n",
    "        self.encoder.eval()\n",
    "        with torch.no_grad():\n",
    "            features = self.encoder(dummy_input)\n",
    "            feature_dim = features.shape[1]\n",
    "        \n",
    "        return feature_dim\n",
    "    \n",
    "    def forward(self, x):\n",
    "        features = self.encoder(x)\n",
    "        return self.fc(features)\n",
    "\n",
    "def finetune_model(byol_model, train_loader, val_loader, num_classes, epochs, device, lr=0.001):\n",
    "    model = FinetuneModel(byol_model, num_classes)\n",
    "    \n",
    "    # Use DataParallel for multi-GPU\n",
    "    if torch.cuda.device_count() > 1:\n",
    "        print(f\"Using {torch.cuda.device_count()} GPUs for fine-tuning\")\n",
    "        model = DataParallel(model)\n",
    "    \n",
    "    model = model.to(device)\n",
    "    \n",
    "    criterion = nn.CrossEntropyLoss()\n",
    "    optimizer = torch.optim.Adam(model.parameters(), lr=lr, weight_decay=1e-4)\n",
    "    scheduler = torch.optim.lr_scheduler.CosineAnnealingLR(optimizer, T_max=epochs)\n",
    "    scaler = GradScaler()\n",
    "    \n",
    "    # Training metrics\n",
    "    train_losses = []\n",
    "    train_accs = []\n",
    "    val_losses = []\n",
    "    val_accs = []\n",
    "    wrong_preds = defaultdict(int)\n",
    "    \n",
    "    for epoch in range(epochs):\n",
    "        # Training phase\n",
    "        model.train()\n",
    "        running_loss = 0.0\n",
    "        correct = 0\n",
    "        total = 0\n",
    "        \n",
    "        for images, targets in tqdm(train_loader, desc=f\"Epoch {epoch+1}/{epochs} [Train]\"):\n",
    "            images, targets = images.to(device, non_blocking=True), targets.to(device, non_blocking=True)\n",
    "            \n",
    "            # Zero the gradients\n",
    "            optimizer.zero_grad()\n",
    "            \n",
    "            # Forward pass with mixed precision\n",
    "            with autocast():\n",
    "                outputs = model(images)\n",
    "                loss = criterion(outputs, targets)\n",
    "            \n",
    "            # Backward pass with mixed precision\n",
    "            scaler.scale(loss).backward()\n",
    "            scaler.step(optimizer)\n",
    "            scaler.update()\n",
    "            \n",
    "            # Update statistics\n",
    "            running_loss += loss.item()\n",
    "            _, predicted = outputs.max(1)\n",
    "            total += targets.size(0)\n",
    "            correct += predicted.eq(targets).sum().item()\n",
    "        \n",
    "        train_loss = running_loss / len(train_loader)\n",
    "        train_acc = 100. * correct / total\n",
    "        train_losses.append(train_loss)\n",
    "        train_accs.append(train_acc)\n",
    "        \n",
    "        # Validation phase\n",
    "        model.eval()\n",
    "        running_loss = 0.0\n",
    "        correct = 0\n",
    "        total = 0\n",
    "        \n",
    "        wrong_preds.clear()\n",
    "        with torch.no_grad():\n",
    "            for images, targets in tqdm(val_loader, desc=f\"Epoch {epoch+1}/{epochs} [Val]\"):\n",
    "                images, targets = images.to(device, non_blocking=True), targets.to(device, non_blocking=True)\n",
    "                \n",
    "                # Forward pass\n",
    "                with autocast():\n",
    "                    outputs = model(images)\n",
    "                    loss = criterion(outputs, targets)\n",
    "                \n",
    "                # Update statistics\n",
    "                running_loss += loss.item()\n",
    "                _, predicted = outputs.max(1)\n",
    "                total += targets.size(0)\n",
    "                correct += predicted.eq(targets).sum().item()\n",
    "                \n",
    "                # Track wrong predictions\n",
    "                for true, pred in zip(targets.cpu().numpy(), predicted.cpu().numpy()):\n",
    "                    if true != pred:\n",
    "                        wrong_preds[(true, pred)] += 1\n",
    "        \n",
    "        val_loss = running_loss / len(val_loader)\n",
    "        val_acc = 100. * correct / total\n",
    "        val_losses.append(val_loss)\n",
    "        val_accs.append(val_acc)\n",
    "        \n",
    "        # Update learning rate\n",
    "        scheduler.step()\n",
    "        \n",
    "        print(f\"Epoch {epoch+1}/{epochs}\")\n",
    "        print(f\"Train Loss: {train_loss:.4f}, Train Acc: {train_acc:.2f}%\")\n",
    "        print(f\"Val Loss: {val_loss:.4f}, Val Acc: {val_acc:.2f}%\")\n",
    "    \n",
    "    return model, train_losses, train_accs, val_losses, val_accs, wrong_preds"
   ]
  },
  {
   "cell_type": "code",
   "execution_count": 8,
   "id": "e80beee1",
   "metadata": {
    "execution": {
     "iopub.execute_input": "2025-07-20T10:21:58.689312Z",
     "iopub.status.busy": "2025-07-20T10:21:58.689119Z",
     "iopub.status.idle": "2025-07-20T10:21:58.693597Z",
     "shell.execute_reply": "2025-07-20T10:21:58.693097Z"
    },
    "papermill": {
     "duration": 0.008228,
     "end_time": "2025-07-20T10:21:58.694433",
     "exception": false,
     "start_time": "2025-07-20T10:21:58.686205",
     "status": "completed"
    },
    "tags": []
   },
   "outputs": [],
   "source": [
    "def evaluate_model(model, data_loader, device):\n",
    "    model.eval()\n",
    "    all_preds = []\n",
    "    all_targets = []\n",
    "    \n",
    "    with torch.no_grad():\n",
    "        for images, targets in tqdm(data_loader, desc=\"Evaluating\"):\n",
    "            images = images.to(device, non_blocking=True)\n",
    "            with autocast():\n",
    "                outputs = model(images)\n",
    "            _, preds = outputs.max(1)\n",
    "            \n",
    "            all_preds.extend(preds.cpu().numpy())\n",
    "            all_targets.extend(targets.numpy())\n",
    "    \n",
    "    # Calculate confusion matrix\n",
    "    cm = confusion_matrix(all_targets, all_preds)\n",
    "    \n",
    "    # Track wrong predictions\n",
    "    wrong_preds = defaultdict(int)\n",
    "    for true, pred in zip(all_targets, all_preds):\n",
    "        if true != pred:\n",
    "            wrong_preds[(true, pred)] += 1\n",
    "    \n",
    "    return cm, wrong_preds"
   ]
  },
  {
   "cell_type": "code",
   "execution_count": 9,
   "id": "834d414b",
   "metadata": {
    "execution": {
     "iopub.execute_input": "2025-07-20T10:21:58.700240Z",
     "iopub.status.busy": "2025-07-20T10:21:58.700033Z",
     "iopub.status.idle": "2025-07-20T10:21:58.708571Z",
     "shell.execute_reply": "2025-07-20T10:21:58.708109Z"
    },
    "papermill": {
     "duration": 0.012369,
     "end_time": "2025-07-20T10:21:58.709392",
     "exception": false,
     "start_time": "2025-07-20T10:21:58.697023",
     "status": "completed"
    },
    "tags": []
   },
   "outputs": [],
   "source": [
    "def plot_loss(losses, title=\"Training Loss\", save_path=\"training_loss.png\"):\n",
    "    plt.figure(figsize=(10, 5))\n",
    "    plt.plot(losses)\n",
    "    plt.title(title)\n",
    "    plt.xlabel(\"Epoch\")\n",
    "    plt.ylabel(\"Loss\")\n",
    "    plt.grid(True)\n",
    "    plt.savefig(save_path)\n",
    "    plt.close()\n",
    "\n",
    "def plot_accuracy(accuracies, title=\"Training Accuracy\", save_path=\"training_accuracy.png\"):\n",
    "    plt.figure(figsize=(10, 5))\n",
    "    plt.plot(accuracies)\n",
    "    plt.title(title)\n",
    "    plt.xlabel(\"Epoch\")\n",
    "    plt.ylabel(\"Accuracy (%)\")\n",
    "    plt.grid(True)\n",
    "    plt.savefig(save_path)\n",
    "    plt.close()\n",
    "\n",
    "def plot_finetune_metrics(train_losses, val_losses, train_accs, val_accs, save_path=\"finetune_metrics.png\"):\n",
    "    fig, (ax1, ax2) = plt.subplots(1, 2, figsize=(15, 5))\n",
    "    \n",
    "    # Plot loss\n",
    "    ax1.plot(train_losses, label='Train Loss')\n",
    "    ax1.plot(val_losses, label='Val Loss')\n",
    "    ax1.set_title('Loss')\n",
    "    ax1.set_xlabel('Epoch')\n",
    "    ax1.set_ylabel('Loss')\n",
    "    ax1.grid(True)\n",
    "    ax1.legend()\n",
    "    \n",
    "    # Plot accuracy\n",
    "    ax2.plot(train_accs, label='Train Acc')\n",
    "    ax2.plot(val_accs, label='Val Acc')\n",
    "    ax2.set_title('Accuracy')\n",
    "    ax2.set_xlabel('Epoch')\n",
    "    ax2.set_ylabel('Accuracy (%)')\n",
    "    ax2.grid(True)\n",
    "    ax2.legend()\n",
    "    \n",
    "    plt.tight_layout()\n",
    "    plt.savefig(save_path)\n",
    "    plt.close()\n",
    "\n",
    "def plot_wrong_predictions(wrong_preds, num_classes, class_names=None, title=\"Wrong Predictions Distribution\", save_path=\"wrong_preds.png\"):\n",
    "    # Convert wrong_preds to a more plottable format\n",
    "    true_classes = []\n",
    "    pred_classes = []\n",
    "    counts = []\n",
    "    \n",
    "    for (true, pred), count in wrong_preds.items():\n",
    "        true_classes.append(true)\n",
    "        pred_classes.append(pred)\n",
    "        counts.append(count)\n",
    "    \n",
    "    plt.figure(figsize=(12, 10))\n",
    "    cm = np.zeros((num_classes, num_classes))\n",
    "    \n",
    "    for true, pred, count in zip(true_classes, pred_classes, counts):\n",
    "        cm[true, pred] = count\n",
    "    \n",
    "    # Zero out the diagonal (correct predictions)\n",
    "    np.fill_diagonal(cm, 0)\n",
    "    \n",
    "    # Plot confusion matrix\n",
    "    ax = sns.heatmap(cm, annot=True, fmt='g', cmap='Blues')\n",
    "    \n",
    "    if class_names:\n",
    "        ax.set_xticklabels(class_names, rotation=45, ha='right')\n",
    "        ax.set_yticklabels(class_names, rotation=0)\n",
    "    \n",
    "    plt.title(title)\n",
    "    plt.xlabel(\"Predicted\")\n",
    "    plt.ylabel(\"True\")\n",
    "    plt.tight_layout()\n",
    "    plt.savefig(save_path)\n",
    "    plt.close()"
   ]
  },
  {
   "cell_type": "code",
   "execution_count": 10,
   "id": "56f7fdbb",
   "metadata": {
    "execution": {
     "iopub.execute_input": "2025-07-20T10:21:58.715473Z",
     "iopub.status.busy": "2025-07-20T10:21:58.715291Z",
     "iopub.status.idle": "2025-07-20T13:16:26.248689Z",
     "shell.execute_reply": "2025-07-20T13:16:26.248022Z"
    },
    "papermill": {
     "duration": 10467.538045,
     "end_time": "2025-07-20T13:16:26.250011",
     "exception": false,
     "start_time": "2025-07-20T10:21:58.711966",
     "status": "completed"
    },
    "tags": []
   },
   "outputs": [
    {
     "name": "stderr",
     "output_type": "stream",
     "text": [
      "/usr/local/lib/python3.11/dist-packages/torchvision/models/_utils.py:208: UserWarning: The parameter 'pretrained' is deprecated since 0.13 and may be removed in the future, please use 'weights' instead.\n",
      "  warnings.warn(\n",
      "/usr/local/lib/python3.11/dist-packages/torchvision/models/_utils.py:223: UserWarning: Arguments other than a weight enum or `None` for 'weights' are deprecated since 0.13 and may be removed in the future. The current behavior is equivalent to passing `weights=None`.\n",
      "  warnings.warn(msg)\n"
     ]
    },
    {
     "name": "stdout",
     "output_type": "stream",
     "text": [
      "Using 4 GPUs for pretraining\n",
      "Starting BYOL pretraining on VGGFace2...\n",
      "Found 480 identity folders\n",
      "VGGFace2 collected 39840 images from 480 identities\n",
      "Average images per identity: 83.0\n",
      "VGGFace2 dataset size: 39840\n"
     ]
    },
    {
     "name": "stderr",
     "output_type": "stream",
     "text": [
      "/tmp/ipykernel_19/1126287784.py:4: FutureWarning: `torch.cuda.amp.GradScaler(args...)` is deprecated. Please use `torch.amp.GradScaler('cuda', args...)` instead.\n",
      "  scaler = GradScaler()\n",
      "/tmp/ipykernel_19/1126287784.py:29: FutureWarning: `torch.cuda.amp.autocast(args...)` is deprecated. Please use `torch.amp.autocast('cuda', args...)` instead.\n",
      "  with autocast():\n",
      "/usr/local/lib/python3.11/dist-packages/torch/nn/parallel/_functions.py:70: UserWarning: Was asked to gather along dimension 0, but all input tensors were scalars; will instead unsqueeze and return a vector.\n",
      "  warnings.warn(\n"
     ]
    },
    {
     "name": "stdout",
     "output_type": "stream",
     "text": [
      "Epoch 1, Batch 0, Loss: 2.0609\n",
      "Epoch 1, Batch 100, Loss: 0.8083\n",
      "Epoch 1, Batch 200, Loss: 0.6116\n",
      "Epoch 1, Batch 300, Loss: 0.5010\n",
      "Epoch 1, Batch 400, Loss: 0.5053\n",
      "Epoch 1, Batch 500, Loss: 0.4746\n",
      "Epoch 1, Batch 600, Loss: 0.4311\n",
      "Epoch 1/50, Loss: 0.5965, Accuracy: 80.13%, LR: 0.000200\n",
      "Epoch 2, Batch 0, Loss: 0.4400\n",
      "Epoch 2, Batch 100, Loss: 0.4604\n",
      "Epoch 2, Batch 200, Loss: 0.3976\n",
      "Epoch 2, Batch 300, Loss: 0.3531\n",
      "Epoch 2, Batch 400, Loss: 0.3603\n",
      "Epoch 2, Batch 500, Loss: 0.3700\n",
      "Epoch 2, Batch 600, Loss: 0.3135\n",
      "Epoch 2/50, Loss: 0.4067, Accuracy: 82.25%, LR: 0.000200\n",
      "Epoch 3, Batch 0, Loss: 0.3488\n",
      "Epoch 3, Batch 100, Loss: 0.3800\n",
      "Epoch 3, Batch 200, Loss: 0.2701\n",
      "Epoch 3, Batch 300, Loss: 0.3299\n",
      "Epoch 3, Batch 400, Loss: 0.2707\n",
      "Epoch 3, Batch 500, Loss: 0.2602\n",
      "Epoch 3, Batch 600, Loss: 0.3038\n",
      "Epoch 3/50, Loss: 0.3339, Accuracy: 87.01%, LR: 0.000200\n",
      "Epoch 4, Batch 0, Loss: 0.3294\n",
      "Epoch 4, Batch 100, Loss: 0.3274\n",
      "Epoch 4, Batch 200, Loss: 0.3383\n",
      "Epoch 4, Batch 300, Loss: 0.2754\n",
      "Epoch 4, Batch 400, Loss: 0.3339\n",
      "Epoch 4, Batch 500, Loss: 0.2853\n",
      "Epoch 4, Batch 600, Loss: 0.3159\n",
      "Epoch 4/50, Loss: 0.3243, Accuracy: 89.49%, LR: 0.000199\n",
      "Epoch 5, Batch 0, Loss: 0.2769\n",
      "Epoch 5, Batch 100, Loss: 0.3095\n",
      "Epoch 5, Batch 200, Loss: 0.3506\n",
      "Epoch 5, Batch 300, Loss: 0.4764\n",
      "Epoch 5, Batch 400, Loss: 0.2773\n",
      "Epoch 5, Batch 500, Loss: 0.2440\n",
      "Epoch 5, Batch 600, Loss: 0.2065\n",
      "Epoch 5/50, Loss: 0.3081, Accuracy: 91.17%, LR: 0.000199\n",
      "Epoch 6, Batch 0, Loss: 0.3090\n",
      "Epoch 6, Batch 100, Loss: 0.3327\n",
      "Epoch 6, Batch 200, Loss: 0.2693\n",
      "Epoch 6, Batch 300, Loss: 0.3146\n",
      "Epoch 6, Batch 400, Loss: 0.2945\n",
      "Epoch 6, Batch 500, Loss: 0.3013\n",
      "Epoch 6, Batch 600, Loss: 0.3427\n",
      "Epoch 6/50, Loss: 0.3359, Accuracy: 91.67%, LR: 0.000198\n",
      "Epoch 7, Batch 0, Loss: 0.3255\n",
      "Epoch 7, Batch 100, Loss: 0.3265\n",
      "Epoch 7, Batch 200, Loss: 0.3619\n",
      "Epoch 7, Batch 300, Loss: 0.3417\n",
      "Epoch 7, Batch 400, Loss: 0.2418\n",
      "Epoch 7, Batch 500, Loss: 0.4251\n",
      "Epoch 7, Batch 600, Loss: 0.2817\n",
      "Epoch 7/50, Loss: 0.3312, Accuracy: 92.78%, LR: 0.000198\n",
      "Epoch 8, Batch 0, Loss: 0.3620\n",
      "Epoch 8, Batch 100, Loss: 0.2095\n",
      "Epoch 8, Batch 200, Loss: 0.3065\n",
      "Epoch 8, Batch 300, Loss: 0.3969\n",
      "Epoch 8, Batch 400, Loss: 0.3203\n",
      "Epoch 8, Batch 500, Loss: 0.2741\n",
      "Epoch 8, Batch 600, Loss: 0.2642\n",
      "Epoch 8/50, Loss: 0.3093, Accuracy: 93.45%, LR: 0.000197\n",
      "Epoch 9, Batch 0, Loss: 0.2995\n",
      "Epoch 9, Batch 100, Loss: 0.3237\n",
      "Epoch 9, Batch 200, Loss: 0.2509\n",
      "Epoch 9, Batch 300, Loss: 0.2893\n",
      "Epoch 9, Batch 400, Loss: 0.2375\n",
      "Epoch 9, Batch 500, Loss: 0.3099\n",
      "Epoch 9, Batch 600, Loss: 0.2258\n",
      "Epoch 9/50, Loss: 0.2778, Accuracy: 94.13%, LR: 0.000196\n",
      "Epoch 10, Batch 0, Loss: 0.3634\n",
      "Epoch 10, Batch 100, Loss: 0.2407\n",
      "Epoch 10, Batch 200, Loss: 0.2446\n",
      "Epoch 10, Batch 300, Loss: 0.2620\n",
      "Epoch 10, Batch 400, Loss: 0.2058\n",
      "Epoch 10, Batch 500, Loss: 0.2797\n",
      "Epoch 10, Batch 600, Loss: 0.2705\n",
      "Epoch 10/50, Loss: 0.2671, Accuracy: 94.60%, LR: 0.000195\n",
      "Epoch 11, Batch 0, Loss: 0.2735\n",
      "Epoch 11, Batch 100, Loss: 0.2993\n",
      "Epoch 11, Batch 200, Loss: 0.2103\n",
      "Epoch 11, Batch 300, Loss: 0.1740\n",
      "Epoch 11, Batch 400, Loss: 0.1864\n",
      "Epoch 11, Batch 500, Loss: 0.3020\n",
      "Epoch 11, Batch 600, Loss: 0.2968\n",
      "Epoch 11/50, Loss: 0.2552, Accuracy: 94.70%, LR: 0.000194\n",
      "Epoch 12, Batch 0, Loss: 0.3238\n",
      "Epoch 12, Batch 100, Loss: 0.2407\n",
      "Epoch 12, Batch 200, Loss: 0.2495\n",
      "Epoch 12, Batch 300, Loss: 0.2292\n",
      "Epoch 12, Batch 400, Loss: 0.2452\n",
      "Epoch 12, Batch 500, Loss: 0.2439\n",
      "Epoch 12, Batch 600, Loss: 0.2966\n",
      "Epoch 12/50, Loss: 0.2462, Accuracy: 94.88%, LR: 0.000193\n",
      "Epoch 13, Batch 0, Loss: 0.2774\n",
      "Epoch 13, Batch 100, Loss: 0.2214\n",
      "Epoch 13, Batch 200, Loss: 0.2667\n",
      "Epoch 13, Batch 300, Loss: 0.2743\n",
      "Epoch 13, Batch 400, Loss: 0.3343\n",
      "Epoch 13, Batch 500, Loss: 0.1629\n",
      "Epoch 13, Batch 600, Loss: 0.3006\n",
      "Epoch 13/50, Loss: 0.2380, Accuracy: 95.04%, LR: 0.000192\n",
      "Epoch 14, Batch 0, Loss: 0.3089\n",
      "Epoch 14, Batch 100, Loss: 0.3237\n",
      "Epoch 14, Batch 200, Loss: 0.1322\n",
      "Epoch 14, Batch 300, Loss: 0.3150\n",
      "Epoch 14, Batch 400, Loss: 0.2082\n",
      "Epoch 14, Batch 500, Loss: 0.3474\n",
      "Epoch 14, Batch 600, Loss: 0.2333\n",
      "Epoch 14/50, Loss: 0.2407, Accuracy: 95.22%, LR: 0.000190\n",
      "Epoch 15, Batch 0, Loss: 0.2669\n",
      "Epoch 15, Batch 100, Loss: 0.1740\n",
      "Epoch 15, Batch 200, Loss: 0.2328\n",
      "Epoch 15, Batch 300, Loss: 0.2314\n",
      "Epoch 15, Batch 400, Loss: 0.2376\n",
      "Epoch 15, Batch 500, Loss: 0.1671\n",
      "Epoch 15, Batch 600, Loss: 0.2969\n",
      "Epoch 15/50, Loss: 0.2361, Accuracy: 95.32%, LR: 0.000189\n",
      "Epoch 16, Batch 0, Loss: 0.2699\n",
      "Epoch 16, Batch 100, Loss: 0.2693\n",
      "Epoch 16, Batch 200, Loss: 0.1932\n",
      "Epoch 16, Batch 300, Loss: 0.2270\n",
      "Epoch 16, Batch 400, Loss: 0.2462\n",
      "Epoch 16, Batch 500, Loss: 0.1828\n",
      "Epoch 16, Batch 600, Loss: 0.1468\n",
      "Epoch 16/50, Loss: 0.2260, Accuracy: 95.41%, LR: 0.000188\n",
      "Epoch 17, Batch 0, Loss: 0.1695\n",
      "Epoch 17, Batch 100, Loss: 0.2312\n",
      "Epoch 17, Batch 200, Loss: 0.2586\n",
      "Epoch 17, Batch 300, Loss: 0.2906\n",
      "Epoch 17, Batch 400, Loss: 0.1855\n",
      "Epoch 17, Batch 500, Loss: 0.2508\n",
      "Epoch 17, Batch 600, Loss: 0.2546\n",
      "Epoch 17/50, Loss: 0.2240, Accuracy: 95.44%, LR: 0.000186\n",
      "Epoch 18, Batch 0, Loss: 0.2209\n",
      "Epoch 18, Batch 100, Loss: 0.2319\n",
      "Epoch 18, Batch 200, Loss: 0.2698\n",
      "Epoch 18, Batch 300, Loss: 0.3411\n",
      "Epoch 18, Batch 400, Loss: 0.2427\n",
      "Epoch 18, Batch 500, Loss: 0.2918\n",
      "Epoch 18, Batch 600, Loss: 0.2178\n",
      "Epoch 18/50, Loss: 0.2205, Accuracy: 95.57%, LR: 0.000184\n",
      "Epoch 19, Batch 0, Loss: 0.2517\n",
      "Epoch 19, Batch 100, Loss: 0.2335\n",
      "Epoch 19, Batch 200, Loss: 0.1597\n",
      "Epoch 19, Batch 300, Loss: 0.2418\n",
      "Epoch 19, Batch 400, Loss: 0.2459\n",
      "Epoch 19, Batch 500, Loss: 0.1801\n",
      "Epoch 19, Batch 600, Loss: 0.1873\n",
      "Epoch 19/50, Loss: 0.2102, Accuracy: 95.71%, LR: 0.000183\n",
      "Epoch 20, Batch 0, Loss: 0.2609\n",
      "Epoch 20, Batch 100, Loss: 0.1919\n",
      "Epoch 20, Batch 200, Loss: 0.1657\n",
      "Epoch 20, Batch 300, Loss: 0.1493\n",
      "Epoch 20, Batch 400, Loss: 0.2792\n",
      "Epoch 20, Batch 500, Loss: 0.2959\n",
      "Epoch 20, Batch 600, Loss: 0.1788\n",
      "Epoch 20/50, Loss: 0.2041, Accuracy: 95.80%, LR: 0.000181\n",
      "Epoch 21, Batch 0, Loss: 0.2126\n",
      "Epoch 21, Batch 100, Loss: 0.1528\n",
      "Epoch 21, Batch 200, Loss: 0.1980\n",
      "Epoch 21, Batch 300, Loss: 0.1162\n",
      "Epoch 21, Batch 400, Loss: 0.1324\n",
      "Epoch 21, Batch 500, Loss: 0.1873\n",
      "Epoch 21, Batch 600, Loss: 0.1333\n",
      "Epoch 21/50, Loss: 0.1973, Accuracy: 95.90%, LR: 0.000179\n",
      "Epoch 22, Batch 0, Loss: 0.2106\n",
      "Epoch 22, Batch 100, Loss: 0.1567\n",
      "Epoch 22, Batch 200, Loss: 0.1903\n",
      "Epoch 22, Batch 300, Loss: 0.1938\n",
      "Epoch 22, Batch 400, Loss: 0.1926\n",
      "Epoch 22, Batch 500, Loss: 0.2524\n",
      "Epoch 22, Batch 600, Loss: 0.1224\n",
      "Epoch 22/50, Loss: 0.1979, Accuracy: 95.97%, LR: 0.000177\n",
      "Epoch 23, Batch 0, Loss: 0.2197\n",
      "Epoch 23, Batch 100, Loss: 0.1802\n",
      "Epoch 23, Batch 200, Loss: 0.1530\n",
      "Epoch 23, Batch 300, Loss: 0.1625\n",
      "Epoch 23, Batch 400, Loss: 0.1928\n",
      "Epoch 23, Batch 500, Loss: 0.1558\n",
      "Epoch 23, Batch 600, Loss: 0.1629\n",
      "Epoch 23/50, Loss: 0.1965, Accuracy: 96.00%, LR: 0.000175\n",
      "Epoch 24, Batch 0, Loss: 0.2016\n",
      "Epoch 24, Batch 100, Loss: 0.2647\n",
      "Epoch 24, Batch 200, Loss: 0.2035\n",
      "Epoch 24, Batch 300, Loss: 0.1565\n",
      "Epoch 24, Batch 400, Loss: 0.1607\n",
      "Epoch 24, Batch 500, Loss: 0.1823\n",
      "Epoch 24, Batch 600, Loss: 0.2133\n",
      "Epoch 24/50, Loss: 0.1930, Accuracy: 96.05%, LR: 0.000173\n",
      "Epoch 25, Batch 0, Loss: 0.1508\n",
      "Epoch 25, Batch 100, Loss: 0.1938\n",
      "Epoch 25, Batch 200, Loss: 0.1877\n",
      "Epoch 25, Batch 300, Loss: 0.1042\n",
      "Epoch 25, Batch 400, Loss: 0.2327\n",
      "Epoch 25, Batch 500, Loss: 0.2142\n",
      "Epoch 25, Batch 600, Loss: 0.2258\n",
      "Epoch 25/50, Loss: 0.1839, Accuracy: 96.11%, LR: 0.000171\n",
      "Epoch 26, Batch 0, Loss: 0.2255\n",
      "Epoch 26, Batch 100, Loss: 0.1565\n",
      "Epoch 26, Batch 200, Loss: 0.1808\n",
      "Epoch 26, Batch 300, Loss: 0.1880\n",
      "Epoch 26, Batch 400, Loss: 0.2095\n",
      "Epoch 26, Batch 500, Loss: 0.1469\n",
      "Epoch 26, Batch 600, Loss: 0.1928\n",
      "Epoch 26/50, Loss: 0.1848, Accuracy: 96.10%, LR: 0.000168\n",
      "Epoch 27, Batch 0, Loss: 0.1343\n",
      "Epoch 27, Batch 100, Loss: 0.1830\n",
      "Epoch 27, Batch 200, Loss: 0.1299\n",
      "Epoch 27, Batch 300, Loss: 0.1701\n",
      "Epoch 27, Batch 400, Loss: 0.1939\n",
      "Epoch 27, Batch 500, Loss: 0.2380\n",
      "Epoch 27, Batch 600, Loss: 0.2032\n",
      "Epoch 27/50, Loss: 0.1805, Accuracy: 96.23%, LR: 0.000166\n",
      "Epoch 28, Batch 0, Loss: 0.1607\n",
      "Epoch 28, Batch 100, Loss: 0.2053\n",
      "Epoch 28, Batch 200, Loss: 0.1773\n",
      "Epoch 28, Batch 300, Loss: 0.1005\n",
      "Epoch 28, Batch 400, Loss: 0.1784\n",
      "Epoch 28, Batch 500, Loss: 0.1217\n",
      "Epoch 28, Batch 600, Loss: 0.1860\n",
      "Epoch 28/50, Loss: 0.1830, Accuracy: 96.23%, LR: 0.000164\n",
      "Epoch 29, Batch 0, Loss: 0.2693\n",
      "Epoch 29, Batch 100, Loss: 0.1744\n",
      "Epoch 29, Batch 200, Loss: 0.1659\n",
      "Epoch 29, Batch 300, Loss: 0.2243\n",
      "Epoch 29, Batch 400, Loss: 0.1591\n",
      "Epoch 29, Batch 500, Loss: 0.1447\n",
      "Epoch 29, Batch 600, Loss: 0.2104\n",
      "Epoch 29/50, Loss: 0.1771, Accuracy: 96.34%, LR: 0.000161\n",
      "Epoch 30, Batch 0, Loss: 0.1411\n",
      "Epoch 30, Batch 100, Loss: 0.1428\n",
      "Epoch 30, Batch 200, Loss: 0.1915\n",
      "Epoch 30, Batch 300, Loss: 0.1097\n",
      "Epoch 30, Batch 400, Loss: 0.1700\n",
      "Epoch 30, Batch 500, Loss: 0.0869\n",
      "Epoch 30, Batch 600, Loss: 0.1750\n",
      "Epoch 30/50, Loss: 0.1755, Accuracy: 96.40%, LR: 0.000159\n",
      "Epoch 31, Batch 0, Loss: 0.1816\n",
      "Epoch 31, Batch 100, Loss: 0.2034\n",
      "Epoch 31, Batch 200, Loss: 0.1414\n",
      "Epoch 31, Batch 300, Loss: 0.1030\n",
      "Epoch 31, Batch 400, Loss: 0.2125\n",
      "Epoch 31, Batch 500, Loss: 0.1607\n",
      "Epoch 31, Batch 600, Loss: 0.1652\n",
      "Epoch 31/50, Loss: 0.1738, Accuracy: 96.35%, LR: 0.000156\n",
      "Epoch 32, Batch 0, Loss: 0.1535\n",
      "Epoch 32, Batch 100, Loss: 0.1386\n",
      "Epoch 32, Batch 200, Loss: 0.1223\n",
      "Epoch 32, Batch 300, Loss: 0.1645\n",
      "Epoch 32, Batch 400, Loss: 0.1972\n",
      "Epoch 32, Batch 500, Loss: 0.1804\n",
      "Epoch 32, Batch 600, Loss: 0.1809\n",
      "Epoch 32/50, Loss: 0.1686, Accuracy: 96.41%, LR: 0.000154\n",
      "Epoch 33, Batch 0, Loss: 0.1430\n",
      "Epoch 33, Batch 100, Loss: 0.1705\n",
      "Epoch 33, Batch 200, Loss: 0.2074\n",
      "Epoch 33, Batch 300, Loss: 0.2110\n",
      "Epoch 33, Batch 400, Loss: 0.1497\n",
      "Epoch 33, Batch 500, Loss: 0.1462\n",
      "Epoch 33, Batch 600, Loss: 0.1556\n",
      "Epoch 33/50, Loss: 0.1661, Accuracy: 96.49%, LR: 0.000151\n",
      "Epoch 34, Batch 0, Loss: 0.2015\n",
      "Epoch 34, Batch 100, Loss: 0.2194\n",
      "Epoch 34, Batch 200, Loss: 0.2196\n",
      "Epoch 34, Batch 300, Loss: 0.1918\n",
      "Epoch 34, Batch 400, Loss: 0.1347\n",
      "Epoch 34, Batch 500, Loss: 0.1844\n",
      "Epoch 34, Batch 600, Loss: 0.1713\n",
      "Epoch 34/50, Loss: 0.1693, Accuracy: 96.51%, LR: 0.000148\n",
      "Epoch 35, Batch 0, Loss: 0.1943\n",
      "Epoch 35, Batch 100, Loss: 0.2512\n",
      "Epoch 35, Batch 200, Loss: 0.1552\n",
      "Epoch 35, Batch 300, Loss: 0.1183\n",
      "Epoch 35, Batch 400, Loss: 0.0943\n",
      "Epoch 35, Batch 500, Loss: 0.2219\n",
      "Epoch 35, Batch 600, Loss: 0.1273\n",
      "Epoch 35/50, Loss: 0.1648, Accuracy: 96.53%, LR: 0.000145\n",
      "Epoch 36, Batch 0, Loss: 0.1386\n",
      "Epoch 36, Batch 100, Loss: 0.2228\n",
      "Epoch 36, Batch 200, Loss: 0.1242\n",
      "Epoch 36, Batch 300, Loss: 0.1857\n",
      "Epoch 36, Batch 400, Loss: 0.2746\n",
      "Epoch 36, Batch 500, Loss: 0.2352\n",
      "Epoch 36, Batch 600, Loss: 0.1593\n",
      "Epoch 36/50, Loss: 0.1609, Accuracy: 96.62%, LR: 0.000143\n",
      "Epoch 37, Batch 0, Loss: 0.1886\n",
      "Epoch 37, Batch 100, Loss: 0.1973\n",
      "Epoch 37, Batch 200, Loss: 0.1315\n",
      "Epoch 37, Batch 300, Loss: 0.1261\n",
      "Epoch 37, Batch 400, Loss: 0.2330\n",
      "Epoch 37, Batch 500, Loss: 0.1733\n",
      "Epoch 37, Batch 600, Loss: 0.2143\n",
      "Epoch 37/50, Loss: 0.1618, Accuracy: 96.59%, LR: 0.000140\n",
      "Epoch 38, Batch 0, Loss: 0.1580\n",
      "Epoch 38, Batch 100, Loss: 0.1268\n",
      "Epoch 38, Batch 200, Loss: 0.2097\n",
      "Epoch 38, Batch 300, Loss: 0.1238\n",
      "Epoch 38, Batch 400, Loss: 0.2071\n",
      "Epoch 38, Batch 500, Loss: 0.1929\n",
      "Epoch 38, Batch 600, Loss: 0.1654\n",
      "Epoch 38/50, Loss: 0.1642, Accuracy: 96.58%, LR: 0.000137\n",
      "Epoch 39, Batch 0, Loss: 0.1500\n",
      "Epoch 39, Batch 100, Loss: 0.0929\n",
      "Epoch 39, Batch 200, Loss: 0.1940\n",
      "Epoch 39, Batch 300, Loss: 0.1139\n",
      "Epoch 39, Batch 400, Loss: 0.1717\n",
      "Epoch 39, Batch 500, Loss: 0.1573\n",
      "Epoch 39, Batch 600, Loss: 0.1943\n",
      "Epoch 39/50, Loss: 0.1585, Accuracy: 96.68%, LR: 0.000134\n",
      "Epoch 40, Batch 0, Loss: 0.1458\n",
      "Epoch 40, Batch 100, Loss: 0.1412\n",
      "Epoch 40, Batch 200, Loss: 0.1684\n",
      "Epoch 40, Batch 300, Loss: 0.1221\n",
      "Epoch 40, Batch 400, Loss: 0.2214\n",
      "Epoch 40, Batch 500, Loss: 0.1511\n",
      "Epoch 40, Batch 600, Loss: 0.1317\n",
      "Epoch 40/50, Loss: 0.1571, Accuracy: 96.70%, LR: 0.000131\n",
      "Epoch 41, Batch 0, Loss: 0.1892\n",
      "Epoch 41, Batch 100, Loss: 0.1711\n",
      "Epoch 41, Batch 200, Loss: 0.1637\n",
      "Epoch 41, Batch 300, Loss: 0.1511\n",
      "Epoch 41, Batch 400, Loss: 0.1075\n",
      "Epoch 41, Batch 500, Loss: 0.1513\n",
      "Epoch 41, Batch 600, Loss: 0.1089\n",
      "Epoch 41/50, Loss: 0.1573, Accuracy: 96.71%, LR: 0.000128\n",
      "Epoch 42, Batch 0, Loss: 0.1589\n",
      "Epoch 42, Batch 100, Loss: 0.1719\n",
      "Epoch 42, Batch 200, Loss: 0.1215\n",
      "Epoch 42, Batch 300, Loss: 0.1286\n",
      "Epoch 42, Batch 400, Loss: 0.1970\n",
      "Epoch 42, Batch 500, Loss: 0.1813\n",
      "Epoch 42, Batch 600, Loss: 0.1516\n",
      "Epoch 42/50, Loss: 0.1542, Accuracy: 96.70%, LR: 0.000125\n",
      "Epoch 43, Batch 0, Loss: 0.1666\n",
      "Epoch 43, Batch 100, Loss: 0.1779\n",
      "Epoch 43, Batch 200, Loss: 0.1653\n",
      "Epoch 43, Batch 300, Loss: 0.1494\n",
      "Epoch 43, Batch 400, Loss: 0.1943\n",
      "Epoch 43, Batch 500, Loss: 0.0909\n",
      "Epoch 43, Batch 600, Loss: 0.0905\n",
      "Epoch 43/50, Loss: 0.1511, Accuracy: 96.68%, LR: 0.000122\n",
      "Epoch 44, Batch 0, Loss: 0.1631\n",
      "Epoch 44, Batch 100, Loss: 0.1565\n",
      "Epoch 44, Batch 200, Loss: 0.1815\n",
      "Epoch 44, Batch 300, Loss: 0.1655\n",
      "Epoch 44, Batch 400, Loss: 0.1509\n",
      "Epoch 44, Batch 500, Loss: 0.1814\n",
      "Epoch 44, Batch 600, Loss: 0.1550\n",
      "Epoch 44/50, Loss: 0.1490, Accuracy: 96.80%, LR: 0.000119\n",
      "Epoch 45, Batch 0, Loss: 0.1482\n",
      "Epoch 45, Batch 100, Loss: 0.1353\n",
      "Epoch 45, Batch 200, Loss: 0.1207\n",
      "Epoch 45, Batch 300, Loss: 0.1322\n",
      "Epoch 45, Batch 400, Loss: 0.1451\n",
      "Epoch 45, Batch 500, Loss: 0.1699\n",
      "Epoch 45, Batch 600, Loss: 0.1384\n",
      "Epoch 45/50, Loss: 0.1472, Accuracy: 96.85%, LR: 0.000116\n",
      "Epoch 46, Batch 0, Loss: 0.1346\n",
      "Epoch 46, Batch 100, Loss: 0.1748\n",
      "Epoch 46, Batch 200, Loss: 0.1074\n",
      "Epoch 46, Batch 300, Loss: 0.0874\n",
      "Epoch 46, Batch 400, Loss: 0.2250\n",
      "Epoch 46, Batch 500, Loss: 0.1329\n",
      "Epoch 46, Batch 600, Loss: 0.1599\n",
      "Epoch 46/50, Loss: 0.1483, Accuracy: 96.85%, LR: 0.000113\n",
      "Epoch 47, Batch 0, Loss: 0.1530\n",
      "Epoch 47, Batch 100, Loss: 0.0751\n",
      "Epoch 47, Batch 200, Loss: 0.1039\n",
      "Epoch 47, Batch 300, Loss: 0.1222\n",
      "Epoch 47, Batch 400, Loss: 0.2095\n",
      "Epoch 47, Batch 500, Loss: 0.1477\n",
      "Epoch 47, Batch 600, Loss: 0.1302\n",
      "Epoch 47/50, Loss: 0.1449, Accuracy: 96.85%, LR: 0.000109\n",
      "Epoch 48, Batch 0, Loss: 0.1464\n",
      "Epoch 48, Batch 100, Loss: 0.1253\n",
      "Epoch 48, Batch 200, Loss: 0.1633\n",
      "Epoch 48, Batch 300, Loss: 0.2033\n",
      "Epoch 48, Batch 400, Loss: 0.1432\n",
      "Epoch 48, Batch 500, Loss: 0.1563\n",
      "Epoch 48, Batch 600, Loss: 0.1352\n",
      "Epoch 48/50, Loss: 0.1423, Accuracy: 96.90%, LR: 0.000106\n",
      "Epoch 49, Batch 0, Loss: 0.2043\n",
      "Epoch 49, Batch 100, Loss: 0.1396\n",
      "Epoch 49, Batch 200, Loss: 0.0988\n",
      "Epoch 49, Batch 300, Loss: 0.1779\n",
      "Epoch 49, Batch 400, Loss: 0.0918\n",
      "Epoch 49, Batch 500, Loss: 0.0954\n",
      "Epoch 49, Batch 600, Loss: 0.1037\n",
      "Epoch 49/50, Loss: 0.1407, Accuracy: 96.88%, LR: 0.000103\n",
      "Epoch 50, Batch 0, Loss: 0.1005\n",
      "Epoch 50, Batch 100, Loss: 0.0906\n",
      "Epoch 50, Batch 200, Loss: 0.1646\n",
      "Epoch 50, Batch 300, Loss: 0.1242\n",
      "Epoch 50, Batch 400, Loss: 0.1046\n",
      "Epoch 50, Batch 500, Loss: 0.1629\n",
      "Epoch 50, Batch 600, Loss: 0.0883\n",
      "Epoch 50/50, Loss: 0.1372, Accuracy: 96.95%, LR: 0.000100\n",
      "Pretraining complete!\n",
      "Final pretraining loss: 0.1372\n",
      "Final pretraining accuracy: 96.95%\n",
      "\n",
      "Starting fine-tuning on RAF-DB...\n"
     ]
    },
    {
     "name": "stderr",
     "output_type": "stream",
     "text": [
      "/tmp/ipykernel_19/485451929.py:52: FutureWarning: `torch.cuda.amp.GradScaler(args...)` is deprecated. Please use `torch.amp.GradScaler('cuda', args...)` instead.\n",
      "  scaler = GradScaler()\n"
     ]
    },
    {
     "name": "stdout",
     "output_type": "stream",
     "text": [
      "RAF-DB Found 7 classes: ['1', '2', '3', '4', '5', '6', '7']\n",
      "RAF-DB Total images: 12271\n",
      "RAF-DB dataset size: 12271\n",
      "Train size: 10430, Val size: 1841\n",
      "Using 4 GPUs for fine-tuning\n"
     ]
    },
    {
     "name": "stderr",
     "output_type": "stream",
     "text": [
      "Epoch 1/50 [Train]:   0%|          | 0/163 [00:00<?, ?it/s]/tmp/ipykernel_19/485451929.py:75: FutureWarning: `torch.cuda.amp.autocast(args...)` is deprecated. Please use `torch.amp.autocast('cuda', args...)` instead.\n",
      "  with autocast():\n",
      "Epoch 1/50 [Train]: 100%|██████████| 163/163 [00:21<00:00,  7.71it/s]\n",
      "Epoch 1/50 [Val]:   0%|          | 0/29 [00:00<?, ?it/s]/tmp/ipykernel_19/485451929.py:107: FutureWarning: `torch.cuda.amp.autocast(args...)` is deprecated. Please use `torch.amp.autocast('cuda', args...)` instead.\n",
      "  with autocast():\n",
      "Epoch 1/50 [Val]: 100%|██████████| 29/29 [00:03<00:00,  7.79it/s]\n"
     ]
    },
    {
     "name": "stdout",
     "output_type": "stream",
     "text": [
      "Epoch 1/50\n",
      "Train Loss: 1.1015, Train Acc: 59.69%\n",
      "Val Loss: 1.3679, Val Acc: 54.54%\n"
     ]
    },
    {
     "name": "stderr",
     "output_type": "stream",
     "text": [
      "Epoch 2/50 [Train]: 100%|██████████| 163/163 [00:19<00:00,  8.29it/s]\n",
      "Epoch 2/50 [Val]: 100%|██████████| 29/29 [00:02<00:00, 10.57it/s]\n"
     ]
    },
    {
     "name": "stdout",
     "output_type": "stream",
     "text": [
      "Epoch 2/50\n",
      "Train Loss: 0.8509, Train Acc: 70.03%\n",
      "Val Loss: 0.9011, Val Acc: 67.84%\n"
     ]
    },
    {
     "name": "stderr",
     "output_type": "stream",
     "text": [
      "Epoch 3/50 [Train]: 100%|██████████| 163/163 [00:19<00:00,  8.25it/s]\n",
      "Epoch 3/50 [Val]: 100%|██████████| 29/29 [00:02<00:00,  9.83it/s]\n"
     ]
    },
    {
     "name": "stdout",
     "output_type": "stream",
     "text": [
      "Epoch 3/50\n",
      "Train Loss: 0.7574, Train Acc: 72.95%\n",
      "Val Loss: 0.7361, Val Acc: 73.33%\n"
     ]
    },
    {
     "name": "stderr",
     "output_type": "stream",
     "text": [
      "Epoch 4/50 [Train]: 100%|██████████| 163/163 [00:19<00:00,  8.19it/s]\n",
      "Epoch 4/50 [Val]: 100%|██████████| 29/29 [00:02<00:00, 10.61it/s]\n"
     ]
    },
    {
     "name": "stdout",
     "output_type": "stream",
     "text": [
      "Epoch 4/50\n",
      "Train Loss: 0.7026, Train Acc: 75.38%\n",
      "Val Loss: 1.3194, Val Acc: 59.91%\n"
     ]
    },
    {
     "name": "stderr",
     "output_type": "stream",
     "text": [
      "Epoch 5/50 [Train]: 100%|██████████| 163/163 [00:19<00:00,  8.31it/s]\n",
      "Epoch 5/50 [Val]: 100%|██████████| 29/29 [00:02<00:00, 10.74it/s]\n"
     ]
    },
    {
     "name": "stdout",
     "output_type": "stream",
     "text": [
      "Epoch 5/50\n",
      "Train Loss: 0.6531, Train Acc: 77.41%\n",
      "Val Loss: 0.8555, Val Acc: 70.51%\n"
     ]
    },
    {
     "name": "stderr",
     "output_type": "stream",
     "text": [
      "Epoch 6/50 [Train]: 100%|██████████| 163/163 [00:20<00:00,  8.14it/s]\n",
      "Epoch 6/50 [Val]: 100%|██████████| 29/29 [00:02<00:00, 10.76it/s]\n"
     ]
    },
    {
     "name": "stdout",
     "output_type": "stream",
     "text": [
      "Epoch 6/50\n",
      "Train Loss: 0.6060, Train Acc: 78.48%\n",
      "Val Loss: 0.7599, Val Acc: 72.24%\n"
     ]
    },
    {
     "name": "stderr",
     "output_type": "stream",
     "text": [
      "Epoch 7/50 [Train]: 100%|██████████| 163/163 [00:19<00:00,  8.24it/s]\n",
      "Epoch 7/50 [Val]: 100%|██████████| 29/29 [00:02<00:00, 10.61it/s]\n"
     ]
    },
    {
     "name": "stdout",
     "output_type": "stream",
     "text": [
      "Epoch 7/50\n",
      "Train Loss: 0.5871, Train Acc: 79.35%\n",
      "Val Loss: 0.7510, Val Acc: 74.04%\n"
     ]
    },
    {
     "name": "stderr",
     "output_type": "stream",
     "text": [
      "Epoch 8/50 [Train]: 100%|██████████| 163/163 [00:19<00:00,  8.31it/s]\n",
      "Epoch 8/50 [Val]: 100%|██████████| 29/29 [00:02<00:00, 10.48it/s]\n"
     ]
    },
    {
     "name": "stdout",
     "output_type": "stream",
     "text": [
      "Epoch 8/50\n",
      "Train Loss: 0.5473, Train Acc: 81.03%\n",
      "Val Loss: 0.6822, Val Acc: 76.21%\n"
     ]
    },
    {
     "name": "stderr",
     "output_type": "stream",
     "text": [
      "Epoch 9/50 [Train]: 100%|██████████| 163/163 [00:19<00:00,  8.21it/s]\n",
      "Epoch 9/50 [Val]: 100%|██████████| 29/29 [00:02<00:00, 10.15it/s]\n"
     ]
    },
    {
     "name": "stdout",
     "output_type": "stream",
     "text": [
      "Epoch 9/50\n",
      "Train Loss: 0.5055, Train Acc: 82.15%\n",
      "Val Loss: 0.8544, Val Acc: 70.45%\n"
     ]
    },
    {
     "name": "stderr",
     "output_type": "stream",
     "text": [
      "Epoch 10/50 [Train]: 100%|██████████| 163/163 [00:19<00:00,  8.30it/s]\n",
      "Epoch 10/50 [Val]: 100%|██████████| 29/29 [00:02<00:00, 10.10it/s]\n"
     ]
    },
    {
     "name": "stdout",
     "output_type": "stream",
     "text": [
      "Epoch 10/50\n",
      "Train Loss: 0.4766, Train Acc: 83.31%\n",
      "Val Loss: 0.9247, Val Acc: 71.32%\n"
     ]
    },
    {
     "name": "stderr",
     "output_type": "stream",
     "text": [
      "Epoch 11/50 [Train]: 100%|██████████| 163/163 [00:19<00:00,  8.19it/s]\n",
      "Epoch 11/50 [Val]: 100%|██████████| 29/29 [00:02<00:00, 10.91it/s]\n"
     ]
    },
    {
     "name": "stdout",
     "output_type": "stream",
     "text": [
      "Epoch 11/50\n",
      "Train Loss: 0.4467, Train Acc: 83.84%\n",
      "Val Loss: 0.7272, Val Acc: 73.33%\n"
     ]
    },
    {
     "name": "stderr",
     "output_type": "stream",
     "text": [
      "Epoch 12/50 [Train]: 100%|██████████| 163/163 [00:19<00:00,  8.18it/s]\n",
      "Epoch 12/50 [Val]: 100%|██████████| 29/29 [00:02<00:00, 10.44it/s]\n"
     ]
    },
    {
     "name": "stdout",
     "output_type": "stream",
     "text": [
      "Epoch 12/50\n",
      "Train Loss: 0.3993, Train Acc: 85.78%\n",
      "Val Loss: 0.7195, Val Acc: 76.10%\n"
     ]
    },
    {
     "name": "stderr",
     "output_type": "stream",
     "text": [
      "Epoch 13/50 [Train]: 100%|██████████| 163/163 [00:19<00:00,  8.18it/s]\n",
      "Epoch 13/50 [Val]: 100%|██████████| 29/29 [00:02<00:00, 10.90it/s]\n"
     ]
    },
    {
     "name": "stdout",
     "output_type": "stream",
     "text": [
      "Epoch 13/50\n",
      "Train Loss: 0.3748, Train Acc: 86.92%\n",
      "Val Loss: 0.7613, Val Acc: 73.17%\n"
     ]
    },
    {
     "name": "stderr",
     "output_type": "stream",
     "text": [
      "Epoch 14/50 [Train]: 100%|██████████| 163/163 [00:20<00:00,  7.92it/s]\n",
      "Epoch 14/50 [Val]: 100%|██████████| 29/29 [00:02<00:00, 10.67it/s]\n"
     ]
    },
    {
     "name": "stdout",
     "output_type": "stream",
     "text": [
      "Epoch 14/50\n",
      "Train Loss: 0.3275, Train Acc: 88.52%\n",
      "Val Loss: 0.8190, Val Acc: 75.18%\n"
     ]
    },
    {
     "name": "stderr",
     "output_type": "stream",
     "text": [
      "Epoch 15/50 [Train]: 100%|██████████| 163/163 [00:19<00:00,  8.23it/s]\n",
      "Epoch 15/50 [Val]: 100%|██████████| 29/29 [00:02<00:00, 10.66it/s]\n"
     ]
    },
    {
     "name": "stdout",
     "output_type": "stream",
     "text": [
      "Epoch 15/50\n",
      "Train Loss: 0.3047, Train Acc: 89.40%\n",
      "Val Loss: 0.8264, Val Acc: 72.73%\n"
     ]
    },
    {
     "name": "stderr",
     "output_type": "stream",
     "text": [
      "Epoch 16/50 [Train]: 100%|██████████| 163/163 [00:19<00:00,  8.16it/s]\n",
      "Epoch 16/50 [Val]: 100%|██████████| 29/29 [00:02<00:00, 10.78it/s]\n"
     ]
    },
    {
     "name": "stdout",
     "output_type": "stream",
     "text": [
      "Epoch 16/50\n",
      "Train Loss: 0.2651, Train Acc: 90.95%\n",
      "Val Loss: 0.8994, Val Acc: 74.74%\n"
     ]
    },
    {
     "name": "stderr",
     "output_type": "stream",
     "text": [
      "Epoch 17/50 [Train]: 100%|██████████| 163/163 [00:19<00:00,  8.27it/s]\n",
      "Epoch 17/50 [Val]: 100%|██████████| 29/29 [00:02<00:00, 10.89it/s]\n"
     ]
    },
    {
     "name": "stdout",
     "output_type": "stream",
     "text": [
      "Epoch 17/50\n",
      "Train Loss: 0.2413, Train Acc: 91.84%\n",
      "Val Loss: 0.7770, Val Acc: 77.19%\n"
     ]
    },
    {
     "name": "stderr",
     "output_type": "stream",
     "text": [
      "Epoch 18/50 [Train]: 100%|██████████| 163/163 [00:19<00:00,  8.16it/s]\n",
      "Epoch 18/50 [Val]: 100%|██████████| 29/29 [00:02<00:00, 10.84it/s]\n"
     ]
    },
    {
     "name": "stdout",
     "output_type": "stream",
     "text": [
      "Epoch 18/50\n",
      "Train Loss: 0.2057, Train Acc: 92.70%\n",
      "Val Loss: 0.7536, Val Acc: 78.33%\n"
     ]
    },
    {
     "name": "stderr",
     "output_type": "stream",
     "text": [
      "Epoch 19/50 [Train]: 100%|██████████| 163/163 [00:19<00:00,  8.17it/s]\n",
      "Epoch 19/50 [Val]: 100%|██████████| 29/29 [00:02<00:00, 10.19it/s]\n"
     ]
    },
    {
     "name": "stdout",
     "output_type": "stream",
     "text": [
      "Epoch 19/50\n",
      "Train Loss: 0.1816, Train Acc: 93.52%\n",
      "Val Loss: 0.8071, Val Acc: 78.44%\n"
     ]
    },
    {
     "name": "stderr",
     "output_type": "stream",
     "text": [
      "Epoch 20/50 [Train]: 100%|██████████| 163/163 [00:20<00:00,  8.12it/s]\n",
      "Epoch 20/50 [Val]: 100%|██████████| 29/29 [00:02<00:00, 10.45it/s]\n"
     ]
    },
    {
     "name": "stdout",
     "output_type": "stream",
     "text": [
      "Epoch 20/50\n",
      "Train Loss: 0.1609, Train Acc: 94.48%\n",
      "Val Loss: 0.7955, Val Acc: 76.21%\n"
     ]
    },
    {
     "name": "stderr",
     "output_type": "stream",
     "text": [
      "Epoch 21/50 [Train]: 100%|██████████| 163/163 [00:19<00:00,  8.29it/s]\n",
      "Epoch 21/50 [Val]: 100%|██████████| 29/29 [00:02<00:00, 10.78it/s]\n"
     ]
    },
    {
     "name": "stdout",
     "output_type": "stream",
     "text": [
      "Epoch 21/50\n",
      "Train Loss: 0.1383, Train Acc: 95.21%\n",
      "Val Loss: 1.0025, Val Acc: 73.87%\n"
     ]
    },
    {
     "name": "stderr",
     "output_type": "stream",
     "text": [
      "Epoch 22/50 [Train]: 100%|██████████| 163/163 [00:19<00:00,  8.20it/s]\n",
      "Epoch 22/50 [Val]: 100%|██████████| 29/29 [00:02<00:00, 10.21it/s]\n"
     ]
    },
    {
     "name": "stdout",
     "output_type": "stream",
     "text": [
      "Epoch 22/50\n",
      "Train Loss: 0.1110, Train Acc: 96.33%\n",
      "Val Loss: 0.8875, Val Acc: 76.91%\n"
     ]
    },
    {
     "name": "stderr",
     "output_type": "stream",
     "text": [
      "Epoch 23/50 [Train]: 100%|██████████| 163/163 [00:19<00:00,  8.22it/s]\n",
      "Epoch 23/50 [Val]: 100%|██████████| 29/29 [00:02<00:00, 10.38it/s]\n"
     ]
    },
    {
     "name": "stdout",
     "output_type": "stream",
     "text": [
      "Epoch 23/50\n",
      "Train Loss: 0.1051, Train Acc: 96.38%\n",
      "Val Loss: 0.8742, Val Acc: 76.97%\n"
     ]
    },
    {
     "name": "stderr",
     "output_type": "stream",
     "text": [
      "Epoch 24/50 [Train]: 100%|██████████| 163/163 [00:20<00:00,  8.11it/s]\n",
      "Epoch 24/50 [Val]: 100%|██████████| 29/29 [00:02<00:00, 10.98it/s]\n"
     ]
    },
    {
     "name": "stdout",
     "output_type": "stream",
     "text": [
      "Epoch 24/50\n",
      "Train Loss: 0.0870, Train Acc: 97.20%\n",
      "Val Loss: 0.8975, Val Acc: 77.29%\n"
     ]
    },
    {
     "name": "stderr",
     "output_type": "stream",
     "text": [
      "Epoch 25/50 [Train]: 100%|██████████| 163/163 [00:19<00:00,  8.22it/s]\n",
      "Epoch 25/50 [Val]: 100%|██████████| 29/29 [00:02<00:00, 10.98it/s]\n"
     ]
    },
    {
     "name": "stdout",
     "output_type": "stream",
     "text": [
      "Epoch 25/50\n",
      "Train Loss: 0.0744, Train Acc: 97.59%\n",
      "Val Loss: 1.1333, Val Acc: 75.94%\n"
     ]
    },
    {
     "name": "stderr",
     "output_type": "stream",
     "text": [
      "Epoch 26/50 [Train]: 100%|██████████| 163/163 [00:20<00:00,  8.14it/s]\n",
      "Epoch 26/50 [Val]: 100%|██████████| 29/29 [00:02<00:00, 10.68it/s]\n"
     ]
    },
    {
     "name": "stdout",
     "output_type": "stream",
     "text": [
      "Epoch 26/50\n",
      "Train Loss: 0.0696, Train Acc: 97.63%\n",
      "Val Loss: 0.9531, Val Acc: 76.59%\n"
     ]
    },
    {
     "name": "stderr",
     "output_type": "stream",
     "text": [
      "Epoch 27/50 [Train]: 100%|██████████| 163/163 [00:19<00:00,  8.23it/s]\n",
      "Epoch 27/50 [Val]: 100%|██████████| 29/29 [00:02<00:00, 10.89it/s]\n"
     ]
    },
    {
     "name": "stdout",
     "output_type": "stream",
     "text": [
      "Epoch 27/50\n",
      "Train Loss: 0.0548, Train Acc: 98.26%\n",
      "Val Loss: 0.8008, Val Acc: 80.72%\n"
     ]
    },
    {
     "name": "stderr",
     "output_type": "stream",
     "text": [
      "Epoch 28/50 [Train]: 100%|██████████| 163/163 [00:19<00:00,  8.19it/s]\n",
      "Epoch 28/50 [Val]: 100%|██████████| 29/29 [00:02<00:00, 10.31it/s]\n"
     ]
    },
    {
     "name": "stdout",
     "output_type": "stream",
     "text": [
      "Epoch 28/50\n",
      "Train Loss: 0.0488, Train Acc: 98.35%\n",
      "Val Loss: 0.8968, Val Acc: 78.54%\n"
     ]
    },
    {
     "name": "stderr",
     "output_type": "stream",
     "text": [
      "Epoch 29/50 [Train]: 100%|██████████| 163/163 [00:19<00:00,  8.20it/s]\n",
      "Epoch 29/50 [Val]: 100%|██████████| 29/29 [00:02<00:00, 10.47it/s]\n"
     ]
    },
    {
     "name": "stdout",
     "output_type": "stream",
     "text": [
      "Epoch 29/50\n",
      "Train Loss: 0.0388, Train Acc: 98.72%\n",
      "Val Loss: 0.9316, Val Acc: 78.38%\n"
     ]
    },
    {
     "name": "stderr",
     "output_type": "stream",
     "text": [
      "Epoch 30/50 [Train]: 100%|██████████| 163/163 [00:20<00:00,  8.13it/s]\n",
      "Epoch 30/50 [Val]: 100%|██████████| 29/29 [00:02<00:00, 10.71it/s]\n"
     ]
    },
    {
     "name": "stdout",
     "output_type": "stream",
     "text": [
      "Epoch 30/50\n",
      "Train Loss: 0.0322, Train Acc: 99.02%\n",
      "Val Loss: 1.0401, Val Acc: 77.62%\n"
     ]
    },
    {
     "name": "stderr",
     "output_type": "stream",
     "text": [
      "Epoch 31/50 [Train]: 100%|██████████| 163/163 [00:20<00:00,  8.01it/s]\n",
      "Epoch 31/50 [Val]: 100%|██████████| 29/29 [00:02<00:00, 10.74it/s]\n"
     ]
    },
    {
     "name": "stdout",
     "output_type": "stream",
     "text": [
      "Epoch 31/50\n",
      "Train Loss: 0.0328, Train Acc: 98.92%\n",
      "Val Loss: 1.0313, Val Acc: 78.33%\n"
     ]
    },
    {
     "name": "stderr",
     "output_type": "stream",
     "text": [
      "Epoch 32/50 [Train]: 100%|██████████| 163/163 [00:20<00:00,  7.99it/s]\n",
      "Epoch 32/50 [Val]: 100%|██████████| 29/29 [00:02<00:00, 10.59it/s]\n"
     ]
    },
    {
     "name": "stdout",
     "output_type": "stream",
     "text": [
      "Epoch 32/50\n",
      "Train Loss: 0.0202, Train Acc: 99.42%\n",
      "Val Loss: 0.9555, Val Acc: 79.25%\n"
     ]
    },
    {
     "name": "stderr",
     "output_type": "stream",
     "text": [
      "Epoch 33/50 [Train]: 100%|██████████| 163/163 [00:19<00:00,  8.19it/s]\n",
      "Epoch 33/50 [Val]: 100%|██████████| 29/29 [00:02<00:00, 10.87it/s]\n"
     ]
    },
    {
     "name": "stdout",
     "output_type": "stream",
     "text": [
      "Epoch 33/50\n",
      "Train Loss: 0.0179, Train Acc: 99.42%\n",
      "Val Loss: 0.9629, Val Acc: 78.22%\n"
     ]
    },
    {
     "name": "stderr",
     "output_type": "stream",
     "text": [
      "Epoch 34/50 [Train]: 100%|██████████| 163/163 [00:20<00:00,  8.13it/s]\n",
      "Epoch 34/50 [Val]: 100%|██████████| 29/29 [00:02<00:00, 10.88it/s]\n"
     ]
    },
    {
     "name": "stdout",
     "output_type": "stream",
     "text": [
      "Epoch 34/50\n",
      "Train Loss: 0.0135, Train Acc: 99.64%\n",
      "Val Loss: 1.0016, Val Acc: 78.54%\n"
     ]
    },
    {
     "name": "stderr",
     "output_type": "stream",
     "text": [
      "Epoch 35/50 [Train]: 100%|██████████| 163/163 [00:19<00:00,  8.16it/s]\n",
      "Epoch 35/50 [Val]: 100%|██████████| 29/29 [00:02<00:00, 10.77it/s]\n"
     ]
    },
    {
     "name": "stdout",
     "output_type": "stream",
     "text": [
      "Epoch 35/50\n",
      "Train Loss: 0.0082, Train Acc: 99.83%\n",
      "Val Loss: 1.1421, Val Acc: 77.51%\n"
     ]
    },
    {
     "name": "stderr",
     "output_type": "stream",
     "text": [
      "Epoch 36/50 [Train]: 100%|██████████| 163/163 [00:20<00:00,  8.08it/s]\n",
      "Epoch 36/50 [Val]: 100%|██████████| 29/29 [00:02<00:00, 11.01it/s]\n"
     ]
    },
    {
     "name": "stdout",
     "output_type": "stream",
     "text": [
      "Epoch 36/50\n",
      "Train Loss: 0.0155, Train Acc: 99.42%\n",
      "Val Loss: 1.0304, Val Acc: 79.36%\n"
     ]
    },
    {
     "name": "stderr",
     "output_type": "stream",
     "text": [
      "Epoch 37/50 [Train]: 100%|██████████| 163/163 [00:19<00:00,  8.18it/s]\n",
      "Epoch 37/50 [Val]: 100%|██████████| 29/29 [00:02<00:00, 10.78it/s]\n"
     ]
    },
    {
     "name": "stdout",
     "output_type": "stream",
     "text": [
      "Epoch 37/50\n",
      "Train Loss: 0.0088, Train Acc: 99.83%\n",
      "Val Loss: 0.9754, Val Acc: 79.96%\n"
     ]
    },
    {
     "name": "stderr",
     "output_type": "stream",
     "text": [
      "Epoch 38/50 [Train]: 100%|██████████| 163/163 [00:20<00:00,  8.05it/s]\n",
      "Epoch 38/50 [Val]: 100%|██████████| 29/29 [00:02<00:00, 10.51it/s]\n"
     ]
    },
    {
     "name": "stdout",
     "output_type": "stream",
     "text": [
      "Epoch 38/50\n",
      "Train Loss: 0.0037, Train Acc: 99.94%\n",
      "Val Loss: 1.0134, Val Acc: 79.30%\n"
     ]
    },
    {
     "name": "stderr",
     "output_type": "stream",
     "text": [
      "Epoch 39/50 [Train]: 100%|██████████| 163/163 [00:20<00:00,  8.04it/s]\n",
      "Epoch 39/50 [Val]: 100%|██████████| 29/29 [00:02<00:00, 10.91it/s]\n"
     ]
    },
    {
     "name": "stdout",
     "output_type": "stream",
     "text": [
      "Epoch 39/50\n",
      "Train Loss: 0.0051, Train Acc: 99.88%\n",
      "Val Loss: 0.9687, Val Acc: 80.66%\n"
     ]
    },
    {
     "name": "stderr",
     "output_type": "stream",
     "text": [
      "Epoch 40/50 [Train]: 100%|██████████| 163/163 [00:20<00:00,  8.12it/s]\n",
      "Epoch 40/50 [Val]: 100%|██████████| 29/29 [00:02<00:00, 10.94it/s]\n"
     ]
    },
    {
     "name": "stdout",
     "output_type": "stream",
     "text": [
      "Epoch 40/50\n",
      "Train Loss: 0.0029, Train Acc: 99.97%\n",
      "Val Loss: 1.0079, Val Acc: 79.96%\n"
     ]
    },
    {
     "name": "stderr",
     "output_type": "stream",
     "text": [
      "Epoch 41/50 [Train]: 100%|██████████| 163/163 [00:19<00:00,  8.17it/s]\n",
      "Epoch 41/50 [Val]: 100%|██████████| 29/29 [00:02<00:00, 10.91it/s]\n"
     ]
    },
    {
     "name": "stdout",
     "output_type": "stream",
     "text": [
      "Epoch 41/50\n",
      "Train Loss: 0.0024, Train Acc: 99.96%\n",
      "Val Loss: 1.0183, Val Acc: 81.10%\n"
     ]
    },
    {
     "name": "stderr",
     "output_type": "stream",
     "text": [
      "Epoch 42/50 [Train]: 100%|██████████| 163/163 [00:20<00:00,  7.91it/s]\n",
      "Epoch 42/50 [Val]: 100%|██████████| 29/29 [00:02<00:00, 10.62it/s]\n"
     ]
    },
    {
     "name": "stdout",
     "output_type": "stream",
     "text": [
      "Epoch 42/50\n",
      "Train Loss: 0.0016, Train Acc: 99.97%\n",
      "Val Loss: 1.0000, Val Acc: 81.42%\n"
     ]
    },
    {
     "name": "stderr",
     "output_type": "stream",
     "text": [
      "Epoch 43/50 [Train]: 100%|██████████| 163/163 [00:20<00:00,  8.08it/s]\n",
      "Epoch 43/50 [Val]: 100%|██████████| 29/29 [00:02<00:00, 10.90it/s]\n"
     ]
    },
    {
     "name": "stdout",
     "output_type": "stream",
     "text": [
      "Epoch 43/50\n",
      "Train Loss: 0.0017, Train Acc: 99.97%\n",
      "Val Loss: 1.0075, Val Acc: 81.26%\n"
     ]
    },
    {
     "name": "stderr",
     "output_type": "stream",
     "text": [
      "Epoch 44/50 [Train]: 100%|██████████| 163/163 [00:19<00:00,  8.19it/s]\n",
      "Epoch 44/50 [Val]: 100%|██████████| 29/29 [00:02<00:00, 10.12it/s]\n"
     ]
    },
    {
     "name": "stdout",
     "output_type": "stream",
     "text": [
      "Epoch 44/50\n",
      "Train Loss: 0.0016, Train Acc: 99.99%\n",
      "Val Loss: 1.0225, Val Acc: 80.72%\n"
     ]
    },
    {
     "name": "stderr",
     "output_type": "stream",
     "text": [
      "Epoch 45/50 [Train]: 100%|██████████| 163/163 [00:19<00:00,  8.24it/s]\n",
      "Epoch 45/50 [Val]: 100%|██████████| 29/29 [00:02<00:00, 10.69it/s]\n"
     ]
    },
    {
     "name": "stdout",
     "output_type": "stream",
     "text": [
      "Epoch 45/50\n",
      "Train Loss: 0.0020, Train Acc: 99.96%\n",
      "Val Loss: 0.9718, Val Acc: 80.39%\n"
     ]
    },
    {
     "name": "stderr",
     "output_type": "stream",
     "text": [
      "Epoch 46/50 [Train]: 100%|██████████| 163/163 [00:19<00:00,  8.18it/s]\n",
      "Epoch 46/50 [Val]: 100%|██████████| 29/29 [00:02<00:00, 10.28it/s]\n"
     ]
    },
    {
     "name": "stdout",
     "output_type": "stream",
     "text": [
      "Epoch 46/50\n",
      "Train Loss: 0.0014, Train Acc: 99.98%\n",
      "Val Loss: 0.9931, Val Acc: 81.26%\n"
     ]
    },
    {
     "name": "stderr",
     "output_type": "stream",
     "text": [
      "Epoch 47/50 [Train]: 100%|██████████| 163/163 [00:19<00:00,  8.18it/s]\n",
      "Epoch 47/50 [Val]: 100%|██████████| 29/29 [00:02<00:00, 10.76it/s]\n"
     ]
    },
    {
     "name": "stdout",
     "output_type": "stream",
     "text": [
      "Epoch 47/50\n",
      "Train Loss: 0.0011, Train Acc: 99.99%\n",
      "Val Loss: 0.9980, Val Acc: 81.26%\n"
     ]
    },
    {
     "name": "stderr",
     "output_type": "stream",
     "text": [
      "Epoch 48/50 [Train]: 100%|██████████| 163/163 [00:20<00:00,  7.85it/s]\n",
      "Epoch 48/50 [Val]: 100%|██████████| 29/29 [00:02<00:00, 10.55it/s]\n"
     ]
    },
    {
     "name": "stdout",
     "output_type": "stream",
     "text": [
      "Epoch 48/50\n",
      "Train Loss: 0.0010, Train Acc: 100.00%\n",
      "Val Loss: 1.0091, Val Acc: 80.99%\n"
     ]
    },
    {
     "name": "stderr",
     "output_type": "stream",
     "text": [
      "Epoch 49/50 [Train]: 100%|██████████| 163/163 [00:20<00:00,  7.96it/s]\n",
      "Epoch 49/50 [Val]: 100%|██████████| 29/29 [00:02<00:00, 11.01it/s]\n"
     ]
    },
    {
     "name": "stdout",
     "output_type": "stream",
     "text": [
      "Epoch 49/50\n",
      "Train Loss: 0.0013, Train Acc: 99.99%\n",
      "Val Loss: 1.0163, Val Acc: 80.66%\n"
     ]
    },
    {
     "name": "stderr",
     "output_type": "stream",
     "text": [
      "Epoch 50/50 [Train]: 100%|██████████| 163/163 [00:20<00:00,  8.02it/s]\n",
      "Epoch 50/50 [Val]: 100%|██████████| 29/29 [00:02<00:00, 10.63it/s]\n"
     ]
    },
    {
     "name": "stdout",
     "output_type": "stream",
     "text": [
      "Epoch 50/50\n",
      "Train Loss: 0.0009, Train Acc: 100.00%\n",
      "Val Loss: 0.9960, Val Acc: 79.96%\n",
      "Fine-tuning complete!\n",
      "Best validation accuracy: 81.42%\n",
      "\n",
      "Evaluating on RAF-DB test set...\n",
      "RAF-DB Found 7 classes: ['1', '2', '3', '4', '5', '6', '7']\n",
      "RAF-DB Total images: 3068\n",
      "RAF-DB test dataset size: 3068\n"
     ]
    },
    {
     "name": "stderr",
     "output_type": "stream",
     "text": [
      "Evaluating:   0%|          | 0/48 [00:00<?, ?it/s]/tmp/ipykernel_19/268793468.py:9: FutureWarning: `torch.cuda.amp.autocast(args...)` is deprecated. Please use `torch.amp.autocast('cuda', args...)` instead.\n",
      "  with autocast():\n",
      "Evaluating: 100%|██████████| 48/48 [00:04<00:00,  9.74it/s]\n"
     ]
    },
    {
     "name": "stdout",
     "output_type": "stream",
     "text": [
      "Test accuracy: 82.72%\n",
      "\n",
      "Final Results:\n",
      "Pretraining Loss: 0.0009\n",
      "Pretraining Accuracy: 96.95%\n",
      "Best Validation Accuracy: 81.42%\n",
      "Test Accuracy: 82.72%\n"
     ]
    }
   ],
   "source": [
    "def main():\n",
    "    # Define paths\n",
    "    vggface2_train_dir = '/kaggle/input/vggface2/train'\n",
    "    rafdb_train_dir = '/kaggle/input/raf-db-dataset/DATASET/train'\n",
    "    rafdb_test_dir = '/kaggle/input/raf-db-dataset/DATASET/test'\n",
    "    \n",
    "    # Initialize ResNet34 backbone\n",
    "    resnet34 = models.resnet34(pretrained=False)\n",
    "    \n",
    "    # Initialize BYOL model\n",
    "    byol_model = BYOL(\n",
    "        resnet34,\n",
    "        image_size=224,\n",
    "        hidden_layer='avgpool',\n",
    "        projection_size=256,\n",
    "        projection_hidden_size=4096,\n",
    "        moving_average_decay=0.996\n",
    "    )\n",
    "    \n",
    "    # Use DataParallel for multi-GPU training\n",
    "    if torch.cuda.device_count() > 1:\n",
    "        print(f\"Using {torch.cuda.device_count()} GPUs for pretraining\")\n",
    "        byol_model = DataParallel(byol_model)\n",
    "    \n",
    "    byol_model = byol_model.to(device)\n",
    "    \n",
    "    print(\"Starting BYOL pretraining on VGGFace2...\")\n",
    "    \n",
    "    # Load VGGFace2 dataset for pretraining (40k images)\n",
    "    byol_transform = BYOLTransform(size=224)\n",
    "    vggface2_dataset = VGGFace2Dataset(vggface2_train_dir, transform=byol_transform, max_images=40000)\n",
    "    \n",
    "    # Create data loader for pretraining\n",
    "    pretrain_loader = DataLoader(\n",
    "        vggface2_dataset,\n",
    "        batch_size=64,\n",
    "        shuffle=True,\n",
    "        num_workers=16,\n",
    "        pin_memory=True,\n",
    "        persistent_workers=True,\n",
    "        prefetch_factor=2\n",
    "    )\n",
    "    \n",
    "    print(f\"VGGFace2 dataset size: {len(vggface2_dataset)}\")\n",
    "    \n",
    "    # Set up optimizer and scheduler for pretraining\n",
    "    optimizer = torch.optim.Adam(byol_model.parameters(), lr=2e-4, weight_decay=1e-6)\n",
    "    scheduler = torch.optim.lr_scheduler.CosineAnnealingLR(optimizer, T_max=100)\n",
    "    \n",
    "    # Pretrain the model\n",
    "    train_losses, train_accuracies, learning_rates = train_byol(\n",
    "        byol_model, \n",
    "        pretrain_loader, \n",
    "        optimizer, \n",
    "        scheduler, \n",
    "        epochs=50, \n",
    "        device=device\n",
    "    )\n",
    "    \n",
    "    # Save pretrained model\n",
    "    if isinstance(byol_model, DataParallel):\n",
    "        torch.save(byol_model.module.state_dict(), '/kaggle/working/models/byol_vggface2_pretrained.pth')\n",
    "    else:\n",
    "        torch.save(byol_model.state_dict(), '/kaggle/working/models/byol_vggface2_pretrained.pth')\n",
    "    \n",
    "    # Save pretraining metrics\n",
    "    pretrain_metrics = {\n",
    "        'train_losses': train_losses,\n",
    "        'train_accuracies': train_accuracies,\n",
    "        'learning_rates': learning_rates\n",
    "    }\n",
    "    with open('/kaggle/working/metrics/pretrain_metrics.json', 'w') as f:\n",
    "        json.dump(pretrain_metrics, f)\n",
    "    \n",
    "    # Plot pretraining metrics\n",
    "    plot_loss(train_losses, title=\"BYOL Pretraining Loss\", \n",
    "              save_path=\"/kaggle/working/plots/pretrain_loss.png\")\n",
    "    plot_accuracy(train_accuracies, title=\"BYOL Pretraining Accuracy\", \n",
    "                  save_path=\"/kaggle/working/plots/pretrain_accuracy.png\")\n",
    "    \n",
    "    print(\"Pretraining complete!\")\n",
    "    print(f\"Final pretraining loss: {train_losses[-1]:.4f}\")\n",
    "    print(f\"Final pretraining accuracy: {train_accuracies[-1]:.2f}%\")\n",
    "    \n",
    "    # Remove DataParallel wrapper before fine-tuning if it exists\n",
    "    if isinstance(byol_model, DataParallel):\n",
    "        byol_model = byol_model.module\n",
    "    \n",
    "    print(\"\\nStarting fine-tuning on RAF-DB...\")\n",
    "    \n",
    "    # Load RAF-DB dataset for fine-tuning\n",
    "    standard_transform = get_standard_transforms()\n",
    "    rafdb_dataset = RAFDBDataset(rafdb_train_dir, transform=standard_transform)\n",
    "    \n",
    "    # Split RAF-DB into train (85%) and val (15%)\n",
    "    train_size = int(0.85 * len(rafdb_dataset))\n",
    "    val_size = len(rafdb_dataset) - train_size\n",
    "    train_dataset, val_dataset = random_split(rafdb_dataset, [train_size, val_size])\n",
    "    \n",
    "    # Create data loaders for fine-tuning\n",
    "    train_loader = DataLoader(\n",
    "        train_dataset, \n",
    "        batch_size=64, \n",
    "        shuffle=True, \n",
    "        num_workers=16, \n",
    "        pin_memory=True,\n",
    "        persistent_workers=True,\n",
    "        prefetch_factor=2\n",
    "    )\n",
    "    val_loader = DataLoader(\n",
    "        val_dataset, \n",
    "        batch_size=64, \n",
    "        shuffle=False, \n",
    "        num_workers=16, \n",
    "        pin_memory=True,\n",
    "        persistent_workers=True,\n",
    "        prefetch_factor=2\n",
    "    )\n",
    "    \n",
    "    print(f\"RAF-DB dataset size: {len(rafdb_dataset)}\")\n",
    "    print(f\"Train size: {len(train_dataset)}, Val size: {len(val_dataset)}\")\n",
    "    \n",
    "    # Save RAF-DB class mapping\n",
    "    with open('/kaggle/working/metrics/rafdb_class_mapping.json', 'w') as f:\n",
    "        json.dump(rafdb_dataset.class_to_idx, f)\n",
    "    \n",
    "    # Fine-tune on RAF-DB\n",
    "    num_classes = len(rafdb_dataset.class_to_idx)\n",
    "    \n",
    "    finetuned_model, train_losses, train_accs, val_losses, val_accs, wrong_preds = finetune_model(\n",
    "        byol_model, \n",
    "        train_loader, \n",
    "        val_loader, \n",
    "        num_classes, \n",
    "        epochs=50, \n",
    "        device=device\n",
    "    )\n",
    "    \n",
    "    # Save fine-tuned model\n",
    "    torch.save(finetuned_model.state_dict(), '/kaggle/working/models/finetuned_rafdb_model.pth')\n",
    "    \n",
    "    # Save fine-tuning metrics\n",
    "    finetune_metrics = {\n",
    "        'train_losses': train_losses,\n",
    "        'train_accs': train_accs,\n",
    "        'val_losses': val_losses,\n",
    "        'val_accs': val_accs,\n",
    "        'wrong_predictions': serialize_wrong_predictions(wrong_preds)\n",
    "    }\n",
    "\n",
    "    with open('/kaggle/working/metrics/finetune_metrics.json', 'w') as f:\n",
    "        json.dump(finetune_metrics, f)\n",
    "    \n",
    "    # Plot fine-tuning metrics\n",
    "    plot_finetune_metrics(train_losses, val_losses, train_accs, val_accs, \n",
    "                         save_path=\"/kaggle/working/plots/finetune_metrics.png\")\n",
    "    \n",
    "    # Plot wrong predictions\n",
    "    plot_wrong_predictions(wrong_preds, num_classes, \n",
    "                          class_names=list(rafdb_dataset.class_to_idx.keys()),\n",
    "                          title=\"Wrong Predictions Distribution - RAF-DB\",\n",
    "                          save_path=\"/kaggle/working/plots/wrong_predictions_rafdb.png\")\n",
    "    \n",
    "    print(\"Fine-tuning complete!\")\n",
    "    print(f\"Best validation accuracy: {max(val_accs):.2f}%\")\n",
    "    \n",
    "    print(\"\\nEvaluating on RAF-DB test set...\")\n",
    "    \n",
    "    # Load RAF-DB test dataset\n",
    "    rafdb_test_dataset = RAFDBDataset(rafdb_test_dir, transform=standard_transform)\n",
    "    \n",
    "    # Create test data loader\n",
    "    test_loader = DataLoader(\n",
    "        rafdb_test_dataset, \n",
    "        batch_size=64, \n",
    "        shuffle=False, \n",
    "        num_workers=16, \n",
    "        pin_memory=True,\n",
    "        persistent_workers=True,\n",
    "        prefetch_factor=2\n",
    "    )\n",
    "    \n",
    "    print(f\"RAF-DB test dataset size: {len(rafdb_test_dataset)}\")\n",
    "    \n",
    "    # Evaluate on test set\n",
    "    test_cm, test_wrong_preds = evaluate_model(finetuned_model, test_loader, device)\n",
    "    \n",
    "    # Calculate test accuracy\n",
    "    test_accuracy = np.trace(test_cm) / np.sum(test_cm) * 100\n",
    "    print(f\"Test accuracy: {test_accuracy:.2f}%\")\n",
    "    \n",
    "    # Save test results\n",
    "    test_results = {\n",
    "        'test_accuracy': test_accuracy,\n",
    "        'confusion_matrix': test_cm.tolist(),\n",
    "        'wrong_predictions': serialize_wrong_predictions(test_wrong_preds)\n",
    "    }\n",
    "    with open('/kaggle/working/metrics/test_results.json', 'w') as f:\n",
    "        json.dump(test_results, f)\n",
    "    \n",
    "    # Plot test confusion matrix\n",
    "    plt.figure(figsize=(10, 8))\n",
    "    sns.heatmap(test_cm, annot=True, fmt='d', cmap='Blues', \n",
    "                xticklabels=list(rafdb_dataset.class_to_idx.keys()),\n",
    "                yticklabels=list(rafdb_dataset.class_to_idx.keys()))\n",
    "    plt.title(f'Test Confusion Matrix - RAF-DB (Accuracy: {test_accuracy:.2f}%)')\n",
    "    plt.xlabel('Predicted')\n",
    "    plt.ylabel('True')\n",
    "    plt.tight_layout()\n",
    "    plt.savefig('/kaggle/working/plots/test_confusion_matrix.png')\n",
    "    plt.close()\n",
    "    \n",
    "    # Plot test wrong predictions\n",
    "    plot_wrong_predictions(test_wrong_preds, num_classes, \n",
    "                          class_names=list(rafdb_dataset.class_to_idx.keys()),\n",
    "                          title=\"Wrong Predictions Distribution - RAF-DB Test Set\",\n",
    "                          save_path=\"/kaggle/working/plots/wrong_predictions_test.png\")\n",
    "    \n",
    "    print(f\"\\nFinal Results:\")\n",
    "    print(f\"Pretraining Loss: {train_losses[-1]:.4f}\")\n",
    "    print(f\"Pretraining Accuracy: {train_accuracies[-1]:.2f}%\")\n",
    "    print(f\"Best Validation Accuracy: {max(val_accs):.2f}%\")\n",
    "    print(f\"Test Accuracy: {test_accuracy:.2f}%\")\n",
    "if __name__ == \"__main__\":\n",
    "    main()"
   ]
  }
 ],
 "metadata": {
  "kaggle": {
   "accelerator": "nvidiaL4",
   "dataSources": [
    {
     "databundleVersionId": 11802066,
     "sourceId": 91496,
     "sourceType": "competition"
    },
    {
     "datasetId": 2138237,
     "sourceId": 3557332,
     "sourceType": "datasetVersion"
    },
    {
     "datasetId": 3758654,
     "sourceId": 6504606,
     "sourceType": "datasetVersion"
    },
    {
     "datasetId": 7719560,
     "sourceId": 12251598,
     "sourceType": "datasetVersion"
    },
    {
     "datasetId": 7809070,
     "sourceId": 12455562,
     "sourceType": "datasetVersion"
    }
   ],
   "dockerImageVersionId": 31040,
   "isGpuEnabled": true,
   "isInternetEnabled": true,
   "language": "python",
   "sourceType": "notebook"
  },
  "kernelspec": {
   "display_name": "Python 3",
   "language": "python",
   "name": "python3"
  },
  "language_info": {
   "codemirror_mode": {
    "name": "ipython",
    "version": 3
   },
   "file_extension": ".py",
   "mimetype": "text/x-python",
   "name": "python",
   "nbconvert_exporter": "python",
   "pygments_lexer": "ipython3",
   "version": "3.11.11"
  },
  "papermill": {
   "default_parameters": {},
   "duration": 10487.894922,
   "end_time": "2025-07-20T13:16:30.731831",
   "environment_variables": {},
   "exception": null,
   "input_path": "__notebook__.ipynb",
   "output_path": "__notebook__.ipynb",
   "parameters": {},
   "start_time": "2025-07-20T10:21:42.836909",
   "version": "2.6.0"
  }
 },
 "nbformat": 4,
 "nbformat_minor": 5
}
